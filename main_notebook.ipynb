{
  "cells": [
    {
      "cell_type": "code",
      "execution_count": null,
      "metadata": {
        "colab": {
          "base_uri": "https://localhost:8080/"
        },
        "id": "d9HjnVDmssa8",
        "outputId": "02bfa9d9-7000-4697-9b7d-d3cf3fc25ad2"
      },
      "outputs": [
        {
          "name": "stdout",
          "output_type": "stream",
          "text": [
            "Mounted at /content/drive\n",
            "Collecting tweet-preprocessor\n",
            "  Downloading tweet_preprocessor-0.6.0-py3-none-any.whl (27 kB)\n",
            "Installing collected packages: tweet-preprocessor\n",
            "Successfully installed tweet-preprocessor-0.6.0\n",
            "Collecting ipython-autotime\n",
            "  Downloading ipython_autotime-0.3.1-py2.py3-none-any.whl (6.8 kB)\n",
            "Requirement already satisfied: ipython in /usr/local/lib/python3.7/dist-packages (from ipython-autotime) (5.5.0)\n",
            "Requirement already satisfied: traitlets>=4.2 in /usr/local/lib/python3.7/dist-packages (from ipython->ipython-autotime) (5.1.1)\n",
            "Requirement already satisfied: simplegeneric>0.8 in /usr/local/lib/python3.7/dist-packages (from ipython->ipython-autotime) (0.8.1)\n",
            "Requirement already satisfied: decorator in /usr/local/lib/python3.7/dist-packages (from ipython->ipython-autotime) (4.4.2)\n",
            "Requirement already satisfied: pygments in /usr/local/lib/python3.7/dist-packages (from ipython->ipython-autotime) (2.6.1)\n",
            "Requirement already satisfied: prompt-toolkit<2.0.0,>=1.0.4 in /usr/local/lib/python3.7/dist-packages (from ipython->ipython-autotime) (1.0.18)\n",
            "Requirement already satisfied: setuptools>=18.5 in /usr/local/lib/python3.7/dist-packages (from ipython->ipython-autotime) (57.4.0)\n",
            "Requirement already satisfied: pickleshare in /usr/local/lib/python3.7/dist-packages (from ipython->ipython-autotime) (0.7.5)\n",
            "Requirement already satisfied: pexpect in /usr/local/lib/python3.7/dist-packages (from ipython->ipython-autotime) (4.8.0)\n",
            "Requirement already satisfied: wcwidth in /usr/local/lib/python3.7/dist-packages (from prompt-toolkit<2.0.0,>=1.0.4->ipython->ipython-autotime) (0.2.5)\n",
            "Requirement already satisfied: six>=1.9.0 in /usr/local/lib/python3.7/dist-packages (from prompt-toolkit<2.0.0,>=1.0.4->ipython->ipython-autotime) (1.15.0)\n",
            "Requirement already satisfied: ptyprocess>=0.5 in /usr/local/lib/python3.7/dist-packages (from pexpect->ipython->ipython-autotime) (0.7.0)\n",
            "Installing collected packages: ipython-autotime\n",
            "Successfully installed ipython-autotime-0.3.1\n",
            "Collecting optuna\n",
            "  Downloading optuna-2.10.0-py3-none-any.whl (308 kB)\n",
            "\u001b[K     |████████████████████████████████| 308 kB 7.6 MB/s \n",
            "\u001b[?25hRequirement already satisfied: scipy!=1.4.0 in /usr/local/lib/python3.7/dist-packages (from optuna) (1.4.1)\n",
            "Requirement already satisfied: tqdm in /usr/local/lib/python3.7/dist-packages (from optuna) (4.64.0)\n",
            "Collecting alembic\n",
            "  Downloading alembic-1.7.7-py3-none-any.whl (210 kB)\n",
            "\u001b[K     |████████████████████████████████| 210 kB 50.3 MB/s \n",
            "\u001b[?25hRequirement already satisfied: numpy in /usr/local/lib/python3.7/dist-packages (from optuna) (1.21.5)\n",
            "Collecting colorlog\n",
            "  Downloading colorlog-6.6.0-py2.py3-none-any.whl (11 kB)\n",
            "Requirement already satisfied: PyYAML in /usr/local/lib/python3.7/dist-packages (from optuna) (3.13)\n",
            "Requirement already satisfied: packaging>=20.0 in /usr/local/lib/python3.7/dist-packages (from optuna) (21.3)\n",
            "Requirement already satisfied: sqlalchemy>=1.1.0 in /usr/local/lib/python3.7/dist-packages (from optuna) (1.4.35)\n",
            "Collecting cmaes>=0.8.2\n",
            "  Downloading cmaes-0.8.2-py3-none-any.whl (15 kB)\n",
            "Collecting cliff\n",
            "  Downloading cliff-3.10.1-py3-none-any.whl (81 kB)\n",
            "\u001b[K     |████████████████████████████████| 81 kB 9.8 MB/s \n",
            "\u001b[?25hRequirement already satisfied: pyparsing!=3.0.5,>=2.0.2 in /usr/local/lib/python3.7/dist-packages (from packaging>=20.0->optuna) (3.0.8)\n",
            "Requirement already satisfied: importlib-metadata in /usr/local/lib/python3.7/dist-packages (from sqlalchemy>=1.1.0->optuna) (4.11.3)\n",
            "Requirement already satisfied: greenlet!=0.4.17 in /usr/local/lib/python3.7/dist-packages (from sqlalchemy>=1.1.0->optuna) (1.1.2)\n",
            "Requirement already satisfied: importlib-resources in /usr/local/lib/python3.7/dist-packages (from alembic->optuna) (5.6.0)\n",
            "Collecting Mako\n",
            "  Downloading Mako-1.2.0-py3-none-any.whl (78 kB)\n",
            "\u001b[K     |████████████████████████████████| 78 kB 7.2 MB/s \n",
            "\u001b[?25hCollecting stevedore>=2.0.1\n",
            "  Downloading stevedore-3.5.0-py3-none-any.whl (49 kB)\n",
            "\u001b[K     |████████████████████████████████| 49 kB 5.6 MB/s \n",
            "\u001b[?25hCollecting cmd2>=1.0.0\n",
            "  Downloading cmd2-2.4.1-py3-none-any.whl (146 kB)\n",
            "\u001b[K     |████████████████████████████████| 146 kB 53.1 MB/s \n",
            "\u001b[?25hRequirement already satisfied: PrettyTable>=0.7.2 in /usr/local/lib/python3.7/dist-packages (from cliff->optuna) (3.2.0)\n",
            "Collecting autopage>=0.4.0\n",
            "  Downloading autopage-0.5.0-py3-none-any.whl (29 kB)\n",
            "Collecting pbr!=2.1.0,>=2.0.0\n",
            "  Downloading pbr-5.8.1-py2.py3-none-any.whl (113 kB)\n",
            "\u001b[K     |████████████████████████████████| 113 kB 54.7 MB/s \n",
            "\u001b[?25hRequirement already satisfied: wcwidth>=0.1.7 in /usr/local/lib/python3.7/dist-packages (from cmd2>=1.0.0->cliff->optuna) (0.2.5)\n",
            "Requirement already satisfied: typing-extensions in /usr/local/lib/python3.7/dist-packages (from cmd2>=1.0.0->cliff->optuna) (4.1.1)\n",
            "Collecting pyperclip>=1.6\n",
            "  Downloading pyperclip-1.8.2.tar.gz (20 kB)\n",
            "Requirement already satisfied: attrs>=16.3.0 in /usr/local/lib/python3.7/dist-packages (from cmd2>=1.0.0->cliff->optuna) (21.4.0)\n",
            "Requirement already satisfied: zipp>=0.5 in /usr/local/lib/python3.7/dist-packages (from importlib-metadata->sqlalchemy>=1.1.0->optuna) (3.8.0)\n",
            "Requirement already satisfied: MarkupSafe>=0.9.2 in /usr/local/lib/python3.7/dist-packages (from Mako->alembic->optuna) (2.0.1)\n",
            "Building wheels for collected packages: pyperclip\n",
            "  Building wheel for pyperclip (setup.py) ... \u001b[?25l\u001b[?25hdone\n",
            "  Created wheel for pyperclip: filename=pyperclip-1.8.2-py3-none-any.whl size=11137 sha256=7f377fe7937ecd9c287b6d82c5fdf95b4f52eff9f2e3a49466ad702632597521\n",
            "  Stored in directory: /root/.cache/pip/wheels/9f/18/84/8f69f8b08169c7bae2dde6bd7daf0c19fca8c8e500ee620a28\n",
            "Successfully built pyperclip\n",
            "Installing collected packages: pyperclip, pbr, stevedore, Mako, cmd2, autopage, colorlog, cmaes, cliff, alembic, optuna\n",
            "Successfully installed Mako-1.2.0 alembic-1.7.7 autopage-0.5.0 cliff-3.10.1 cmaes-0.8.2 cmd2-2.4.1 colorlog-6.6.0 optuna-2.10.0 pbr-5.8.1 pyperclip-1.8.2 stevedore-3.5.0\n"
          ]
        }
      ],
      "source": [
        "from os import chdir\n",
        "from google.colab import drive\n",
        "\n",
        "drive.mount(\"/content/drive\", force_remount=True)\n",
        "chdir(\"/content/drive/MyDrive/Eliott/files/\")\n",
        "\n",
        "%pip install ipython-autotime"
      ]
    },
    {
      "cell_type": "markdown",
      "metadata": {},
      "source": [
        "#### CHANTRE Honorine  CHAH2807\n",
        "#### THOMAS Eliott THOE2303"
      ]
    },
    {
      "cell_type": "code",
      "execution_count": null,
      "metadata": {
        "colab": {
          "base_uri": "https://localhost:8080/"
        },
        "id": "v-9SGvosr0_w",
        "outputId": "7f634ebf-f376-4753-f0bd-c8ab606d2c84"
      },
      "outputs": [
        {
          "name": "stdout",
          "output_type": "stream",
          "text": [
            "time: 654 µs (started: 2022-04-15 16:22:19 +00:00)\n"
          ]
        }
      ],
      "source": [
        "# IMPORTS\n",
        "\n",
        "import preprocessing as pp\n",
        "import hyperparameters as hp\n",
        "import RNN as rnn\n",
        "import optimising as opt\n",
        "import json\n",
        "from sklearn.metrics import accuracy_score, classification_report\n",
        "from sklearn.ensemble import VotingClassifier\n",
        "\n",
        "%load_ext autoreload\n",
        "%autoreload 2\n",
        "\n",
        "%load_ext autotime\n"
      ]
    },
    {
      "cell_type": "code",
      "execution_count": null,
      "metadata": {
        "colab": {
          "base_uri": "https://localhost:8080/"
        },
        "id": "LGn68XDZIm8L",
        "outputId": "a8d71370-53aa-49ff-b5a5-553519480af5"
      },
      "outputs": [
        {
          "name": "stdout",
          "output_type": "stream",
          "text": [
            "time: 16.3 s (started: 2022-04-15 16:22:19 +00:00)\n"
          ]
        }
      ],
      "source": [
        "file_name_train = 'Corona_NLP_train.csv'\n",
        "file_name_test = 'Corona_NLP_test.csv'\n",
        "X_train, y_train = pp.prepare_dataframe(file_name_train,lemmatising=None, original_class=False)\n",
        "X_test, y_test = pp.prepare_dataframe(file_name_test,lemmatising=None, original_class=False)"
      ]
    },
    {
      "cell_type": "code",
      "execution_count": null,
      "metadata": {
        "colab": {
          "base_uri": "https://localhost:8080/",
          "height": 53
        },
        "id": "CsEVE6sTLuSL",
        "outputId": "86f6787d-4b4d-4ded-a156-423df2bab367"
      },
      "outputs": [
        {
          "data": {
            "application/vnd.google.colaboratory.intrinsic+json": {
              "type": "string"
            },
            "text/plain": [
              "'advice Talk to your neighbours family to exchange phone numbers create contact list with phone numbers of neighbours schools employer chemist GP set up online shopping accounts if poss adequate supplies of regular meds but not over order'"
            ]
          },
          "execution_count": 5,
          "metadata": {},
          "output_type": "execute_result"
        },
        {
          "name": "stdout",
          "output_type": "stream",
          "text": [
            "time: 4.1 ms (started: 2022-04-15 16:22:35 +00:00)\n"
          ]
        }
      ],
      "source": [
        "X_train[0]"
      ]
    },
    {
      "cell_type": "code",
      "execution_count": null,
      "metadata": {
        "colab": {
          "base_uri": "https://localhost:8080/"
        },
        "id": "0KNjQ8imIm8O",
        "outputId": "54c98c89-9651-45c0-a96f-f295b500df82"
      },
      "outputs": [
        {
          "name": "stdout",
          "output_type": "stream",
          "text": [
            "time: 2.33 ms (started: 2022-04-15 16:22:35 +00:00)\n"
          ]
        }
      ],
      "source": [
        "pipeline_sgd = hp.pipeline_sgd\n",
        "pipeline_gb = hp.pipeline_gb\n",
        "pipeline_rf = hp.pipeline_rf\n",
        "pipeline_lr = hp.pipeline_lr\n",
        "pipeline_per = hp.pipeline_per\n",
        "pipeline_svc = hp.pipeline_svc"
      ]
    },
    {
      "cell_type": "markdown",
      "metadata": {
        "id": "KMY7FfWTr1AI"
      },
      "source": [
        "# Hyperparameters Tuning"
      ]
    },
    {
      "cell_type": "markdown",
      "metadata": {
        "id": "QVVyneGfIm8Q"
      },
      "source": [
        "### Saving Hyperparameters in JSON\n",
        "\n",
        "We will first load old weights and updates only if needed. Then we can use the model with best params in the end."
      ]
    },
    {
      "cell_type": "code",
      "execution_count": null,
      "metadata": {
        "colab": {
          "base_uri": "https://localhost:8080/"
        },
        "id": "JqHmEnxTIm8Q",
        "outputId": "8dace085-97de-4fc4-c5cd-08280274b0d6"
      },
      "outputs": [
        {
          "name": "stdout",
          "output_type": "stream",
          "text": [
            "time: 264 ms (started: 2022-04-15 23:58:24 +00:00)\n"
          ]
        }
      ],
      "source": [
        "with open('data.json') as json_file:\n",
        "    dico = json.load(json_file)"
      ]
    },
    {
      "cell_type": "markdown",
      "metadata": {
        "id": "LQD0wO_uIm8R"
      },
      "source": [
        "### SGD"
      ]
    },
    {
      "cell_type": "code",
      "execution_count": null,
      "metadata": {
        "colab": {
          "base_uri": "https://localhost:8080/"
        },
        "id": "VHzMRehgIm8R",
        "outputId": "0377f3cd-ca78-4907-ffc3-77e0a605c12a"
      },
      "outputs": [
        {
          "name": "stdout",
          "output_type": "stream",
          "text": [
            "Fitting 5 folds for each of 54 candidates, totalling 270 fits\n",
            "Best Score:  0.8668915077832064\n",
            "Best Params:  {'clf__alpha': 1e-05, 'clf__penalty': 'l1', 'tfidf__max_df': 0.3, 'tfidf__min_df': 1, 'tfidf__ngram_range': (1, 1)}\n",
            "CPU times: user 14.4 s, sys: 2.6 s, total: 17 s\n",
            "Wall time: 8min 30s\n",
            "time: 8min 30s (started: 2022-04-15 16:22:47 +00:00)\n"
          ]
        }
      ],
      "source": [
        "%%time\n",
        "grid_sgd = hp.grid_search(\"SGD\", X_train=X_train, y_train=y_train) "
      ]
    },
    {
      "cell_type": "code",
      "execution_count": null,
      "metadata": {
        "colab": {
          "base_uri": "https://localhost:8080/"
        },
        "id": "d5vbIP8kIm8R",
        "outputId": "25e96913-3c5d-4c21-b921-38b94ab7afe7"
      },
      "outputs": [
        {
          "name": "stdout",
          "output_type": "stream",
          "text": [
            "#### No new best score for  SGD\n",
            "time: 2.05 ms (started: 2022-04-15 16:31:18 +00:00)\n"
          ]
        }
      ],
      "source": [
        "hp.if_save(\"SGD\", dico, grid_sgd)"
      ]
    },
    {
      "cell_type": "markdown",
      "metadata": {
        "id": "A-R5-LqYCc-s"
      },
      "source": [
        "### Gradient boosting"
      ]
    },
    {
      "cell_type": "code",
      "execution_count": null,
      "metadata": {
        "colab": {
          "base_uri": "https://localhost:8080/"
        },
        "id": "zdnkSlvdIm8S",
        "outputId": "1513e7ca-2e71-4e2f-e1d8-9ae0d2b3750e"
      },
      "outputs": [
        {
          "name": "stdout",
          "output_type": "stream",
          "text": [
            "Fitting 5 folds for each of 36 candidates, totalling 180 fits\n",
            "Best Score:  0.581\n",
            "Best Params:  {'clf__learning_rate': 0.2, 'clf__n_estimators': 200, 'tfidf__max_df': 0.3, 'tfidf__min_df': 2, 'tfidf__ngram_range': (1, 1)}\n",
            "CPU times: user 7.96 s, sys: 490 ms, total: 8.45 s\n",
            "Wall time: 9min 54s\n",
            "time: 9min 54s (started: 2022-04-15 16:31:18 +00:00)\n"
          ]
        }
      ],
      "source": [
        "%%time\n",
        "grid_gb = hp.grid_search(\"GB\", X_train=X_train, y_train=y_train, subset=1000) "
      ]
    },
    {
      "cell_type": "code",
      "execution_count": null,
      "metadata": {
        "colab": {
          "base_uri": "https://localhost:8080/"
        },
        "id": "TQLvEgp-Im8S",
        "outputId": "e3651044-aa60-4920-b930-54d4d0de6517"
      },
      "outputs": [
        {
          "name": "stdout",
          "output_type": "stream",
          "text": [
            "#### No new best score for  GB\n",
            "time: 1.63 ms (started: 2022-04-15 16:41:12 +00:00)\n"
          ]
        }
      ],
      "source": [
        "hp.if_save(\"GB\", dico, grid_gb)"
      ]
    },
    {
      "cell_type": "markdown",
      "metadata": {
        "id": "Jf8DtN5iCc-t"
      },
      "source": [
        "### Random Forest"
      ]
    },
    {
      "cell_type": "code",
      "execution_count": null,
      "metadata": {
        "colab": {
          "background_save": true,
          "base_uri": "https://localhost:8080/"
        },
        "id": "P5bHoZ9pCc-t",
        "outputId": "05eb8add-4f6e-4b7c-de38-da4a78dcdabc"
      },
      "outputs": [
        {
          "name": "stdout",
          "output_type": "stream",
          "text": [
            "Fitting 5 folds for each of 162 candidates, totalling 810 fits\n",
            "Best Score:  0.594\n",
            "Best Params:  {'clf__min_samples_leaf': 2, 'clf__min_samples_split': 2, 'tfidf__max_df': 0.6, 'tfidf__min_df': 2, 'tfidf__ngram_range': (1, 1)}\n",
            "CPU times: user 8.42 s, sys: 369 ms, total: 8.79 s\n",
            "Wall time: 2min 35s\n",
            "time: 2min 35s (started: 2022-04-15 18:26:41 +00:00)\n"
          ]
        }
      ],
      "source": [
        "%%time\n",
        "grid_rf = hp.grid_search(\"RF\", X_train=X_train, y_train=y_train, subset=1000) "
      ]
    },
    {
      "cell_type": "code",
      "execution_count": null,
      "metadata": {
        "colab": {
          "background_save": true
        },
        "id": "PumLEUuAIm8T",
        "outputId": "7f66889c-8497-4a70-e3b9-a8ec866affd4"
      },
      "outputs": [
        {
          "name": "stdout",
          "output_type": "stream",
          "text": [
            "#### No new best score for  RF\n",
            "time: 1.59 ms (started: 2022-04-15 18:29:16 +00:00)\n"
          ]
        }
      ],
      "source": [
        "hp.if_save('RF', dico, grid_rf)"
      ]
    },
    {
      "cell_type": "markdown",
      "metadata": {
        "id": "hybcOGPZCc-t"
      },
      "source": [
        "### Logistic Regression"
      ]
    },
    {
      "cell_type": "code",
      "execution_count": null,
      "metadata": {
        "colab": {
          "base_uri": "https://localhost:8080/"
        },
        "id": "NKt3pLZBCc-u",
        "outputId": "c809a92f-1928-4c60-88e9-44f7d421c763"
      },
      "outputs": [
        {
          "name": "stdout",
          "output_type": "stream",
          "text": [
            "Fitting 5 folds for each of 270 candidates, totalling 1350 fits\n",
            "Best Score:  0.6140000000000001\n",
            "Best Params:  {'clf__C': 10, 'clf__tol': 1e-09, 'tfidf__max_df': 1.0, 'tfidf__min_df': 1, 'tfidf__ngram_range': (1, 1)}\n",
            "CPU times: user 15.7 s, sys: 2.83 s, total: 18.5 s\n",
            "Wall time: 4min 41s\n",
            "time: 4min 41s (started: 2022-04-15 22:24:12 +00:00)\n"
          ]
        }
      ],
      "source": [
        "%%time\n",
        "grid_lr = hp.grid_search(\"LR\", X_train=X_train, y_train=y_train, subset=1000) "
      ]
    },
    {
      "cell_type": "code",
      "execution_count": null,
      "metadata": {
        "colab": {
          "base_uri": "https://localhost:8080/"
        },
        "id": "dQK-LftNIm8T",
        "outputId": "7e751f44-2485-4e04-d8a9-50ca8e38baaf"
      },
      "outputs": [
        {
          "name": "stdout",
          "output_type": "stream",
          "text": [
            "#### No new best score for  LR\n",
            "time: 2.95 ms (started: 2022-04-15 22:28:54 +00:00)\n"
          ]
        }
      ],
      "source": [
        "hp.if_save('LR', dico, grid_lr)"
      ]
    },
    {
      "cell_type": "markdown",
      "metadata": {
        "id": "xCMXN9M8Cc-u"
      },
      "source": [
        "### Perceptron"
      ]
    },
    {
      "cell_type": "code",
      "execution_count": null,
      "metadata": {
        "colab": {
          "base_uri": "https://localhost:8080/"
        },
        "id": "NPGHPCruCc-v",
        "outputId": "02219bb4-d6f1-4e65-ec09-1dbfb574f9a7"
      },
      "outputs": [
        {
          "name": "stdout",
          "output_type": "stream",
          "text": [
            "Fitting 5 folds for each of 270 candidates, totalling 1350 fits\n",
            "Best Score:  0.8097043608680832\n",
            "Best Params:  {'clf__alpha': 5.05e-06, 'clf__penalty': 'l1', 'tfidf__max_df': 1.0, 'tfidf__min_df': 1, 'tfidf__ngram_range': (1, 1)}\n",
            "CPU times: user 1min 3s, sys: 8.39 s, total: 1min 11s\n",
            "Wall time: 37min 26s\n",
            "time: 37min 26s (started: 2022-04-15 22:45:14 +00:00)\n"
          ]
        }
      ],
      "source": [
        "%%time\n",
        "grid_per = hp.grid_search(\"PER\", X_train=X_train, y_train=y_train) "
      ]
    },
    {
      "cell_type": "code",
      "execution_count": null,
      "metadata": {
        "colab": {
          "base_uri": "https://localhost:8080/"
        },
        "id": "Hd5CjXKfIm8U",
        "outputId": "05d53f79-07ec-4e50-9c0c-ff758bb41262"
      },
      "outputs": [
        {
          "name": "stdout",
          "output_type": "stream",
          "text": [
            "#### No new best score for  PER\n",
            "time: 2.77 ms (started: 2022-04-15 23:58:39 +00:00)\n"
          ]
        }
      ],
      "source": [
        "hp.if_save('PER', dico, grid_per)"
      ]
    },
    {
      "cell_type": "markdown",
      "metadata": {
        "id": "5Cy0mgWVCc-v"
      },
      "source": [
        "### LinearSVC"
      ]
    },
    {
      "cell_type": "code",
      "execution_count": null,
      "metadata": {
        "colab": {
          "base_uri": "https://localhost:8080/"
        },
        "id": "9K-4Ufu3Cc-v",
        "outputId": "96877ea6-f469-43d0-a189-3a66a004d007"
      },
      "outputs": [
        {
          "name": "stdout",
          "output_type": "stream",
          "text": [
            "Fitting 5 folds for each of 216 candidates, totalling 1080 fits\n"
          ]
        },
        {
          "name": "stderr",
          "output_type": "stream",
          "text": [
            "/usr/local/lib/python3.7/dist-packages/sklearn/model_selection/_validation.py:372: FitFailedWarning: \n",
            "720 fits failed out of a total of 1080.\n",
            "The score on these train-test partitions for these parameters will be set to nan.\n",
            "If these failures are not expected, you can try to debug them by setting error_score='raise'.\n",
            "\n",
            "Below are more details about the failures:\n",
            "--------------------------------------------------------------------------------\n",
            "90 fits failed with the following error:\n",
            "Traceback (most recent call last):\n",
            "  File \"/usr/local/lib/python3.7/dist-packages/sklearn/model_selection/_validation.py\", line 680, in _fit_and_score\n",
            "    estimator.fit(X_train, y_train, **fit_params)\n",
            "  File \"/usr/local/lib/python3.7/dist-packages/sklearn/pipeline.py\", line 394, in fit\n",
            "    self._final_estimator.fit(Xt, y, **fit_params_last_step)\n",
            "  File \"/usr/local/lib/python3.7/dist-packages/sklearn/svm/_classes.py\", line 272, in fit\n",
            "    sample_weight=sample_weight,\n",
            "  File \"/usr/local/lib/python3.7/dist-packages/sklearn/svm/_base.py\", line 1185, in _fit_liblinear\n",
            "    solver_type = _get_liblinear_solver_type(multi_class, penalty, loss, dual)\n",
            "  File \"/usr/local/lib/python3.7/dist-packages/sklearn/svm/_base.py\", line 1026, in _get_liblinear_solver_type\n",
            "    % (error_string, penalty, loss, dual)\n",
            "ValueError: Unsupported set of arguments: The combination of penalty='l2' and loss='hinge' are not supported when dual=False, Parameters: penalty='l2', loss='hinge', dual=False\n",
            "\n",
            "--------------------------------------------------------------------------------\n",
            "90 fits failed with the following error:\n",
            "Traceback (most recent call last):\n",
            "  File \"/usr/local/lib/python3.7/dist-packages/sklearn/model_selection/_validation.py\", line 680, in _fit_and_score\n",
            "    estimator.fit(X_train, y_train, **fit_params)\n",
            "  File \"/usr/local/lib/python3.7/dist-packages/sklearn/pipeline.py\", line 394, in fit\n",
            "    self._final_estimator.fit(Xt, y, **fit_params_last_step)\n",
            "  File \"/usr/local/lib/python3.7/dist-packages/sklearn/svm/_classes.py\", line 272, in fit\n",
            "    sample_weight=sample_weight,\n",
            "  File \"/usr/local/lib/python3.7/dist-packages/sklearn/svm/_base.py\", line 1185, in _fit_liblinear\n",
            "    solver_type = _get_liblinear_solver_type(multi_class, penalty, loss, dual)\n",
            "  File \"/usr/local/lib/python3.7/dist-packages/sklearn/svm/_base.py\", line 1026, in _get_liblinear_solver_type\n",
            "    % (error_string, penalty, loss, dual)\n",
            "ValueError: Unsupported set of arguments: The combination of penalty='l1' and loss='hinge' is not supported, Parameters: penalty='l1', loss='hinge', dual=False\n",
            "\n",
            "--------------------------------------------------------------------------------\n",
            "90 fits failed with the following error:\n",
            "Traceback (most recent call last):\n",
            "  File \"/usr/local/lib/python3.7/dist-packages/sklearn/model_selection/_validation.py\", line 680, in _fit_and_score\n",
            "    estimator.fit(X_train, y_train, **fit_params)\n",
            "  File \"/usr/local/lib/python3.7/dist-packages/sklearn/pipeline.py\", line 394, in fit\n",
            "    self._final_estimator.fit(Xt, y, **fit_params_last_step)\n",
            "  File \"/usr/local/lib/python3.7/dist-packages/sklearn/svm/_classes.py\", line 272, in fit\n",
            "    sample_weight=sample_weight,\n",
            "  File \"/usr/local/lib/python3.7/dist-packages/sklearn/svm/_base.py\", line 1185, in _fit_liblinear\n",
            "    solver_type = _get_liblinear_solver_type(multi_class, penalty, loss, dual)\n",
            "  File \"/usr/local/lib/python3.7/dist-packages/sklearn/svm/_base.py\", line 1026, in _get_liblinear_solver_type\n",
            "    % (error_string, penalty, loss, dual)\n",
            "ValueError: Unsupported set of arguments: The combination of penalty='elasticnet' and loss='hinge' is not supported, Parameters: penalty='elasticnet', loss='hinge', dual=False\n",
            "\n",
            "--------------------------------------------------------------------------------\n",
            "90 fits failed with the following error:\n",
            "Traceback (most recent call last):\n",
            "  File \"/usr/local/lib/python3.7/dist-packages/sklearn/model_selection/_validation.py\", line 680, in _fit_and_score\n",
            "    estimator.fit(X_train, y_train, **fit_params)\n",
            "  File \"/usr/local/lib/python3.7/dist-packages/sklearn/pipeline.py\", line 394, in fit\n",
            "    self._final_estimator.fit(Xt, y, **fit_params_last_step)\n",
            "  File \"/usr/local/lib/python3.7/dist-packages/sklearn/svm/_classes.py\", line 272, in fit\n",
            "    sample_weight=sample_weight,\n",
            "  File \"/usr/local/lib/python3.7/dist-packages/sklearn/svm/_base.py\", line 1185, in _fit_liblinear\n",
            "    solver_type = _get_liblinear_solver_type(multi_class, penalty, loss, dual)\n",
            "  File \"/usr/local/lib/python3.7/dist-packages/sklearn/svm/_base.py\", line 1026, in _get_liblinear_solver_type\n",
            "    % (error_string, penalty, loss, dual)\n",
            "ValueError: Unsupported set of arguments: The combination of penalty='elasticnet' and loss='squared_hinge' is not supported, Parameters: penalty='elasticnet', loss='squared_hinge', dual=False\n",
            "\n",
            "--------------------------------------------------------------------------------\n",
            "90 fits failed with the following error:\n",
            "Traceback (most recent call last):\n",
            "  File \"/usr/local/lib/python3.7/dist-packages/sklearn/model_selection/_validation.py\", line 680, in _fit_and_score\n",
            "    estimator.fit(X_train, y_train, **fit_params)\n",
            "  File \"/usr/local/lib/python3.7/dist-packages/sklearn/pipeline.py\", line 394, in fit\n",
            "    self._final_estimator.fit(Xt, y, **fit_params_last_step)\n",
            "  File \"/usr/local/lib/python3.7/dist-packages/sklearn/svm/_classes.py\", line 272, in fit\n",
            "    sample_weight=sample_weight,\n",
            "  File \"/usr/local/lib/python3.7/dist-packages/sklearn/svm/_base.py\", line 1185, in _fit_liblinear\n",
            "    solver_type = _get_liblinear_solver_type(multi_class, penalty, loss, dual)\n",
            "  File \"/usr/local/lib/python3.7/dist-packages/sklearn/svm/_base.py\", line 1026, in _get_liblinear_solver_type\n",
            "    % (error_string, penalty, loss, dual)\n",
            "ValueError: Unsupported set of arguments: The combination of penalty='l1' and loss='hinge' is not supported, Parameters: penalty='l1', loss='hinge', dual=True\n",
            "\n",
            "--------------------------------------------------------------------------------\n",
            "90 fits failed with the following error:\n",
            "Traceback (most recent call last):\n",
            "  File \"/usr/local/lib/python3.7/dist-packages/sklearn/model_selection/_validation.py\", line 680, in _fit_and_score\n",
            "    estimator.fit(X_train, y_train, **fit_params)\n",
            "  File \"/usr/local/lib/python3.7/dist-packages/sklearn/pipeline.py\", line 394, in fit\n",
            "    self._final_estimator.fit(Xt, y, **fit_params_last_step)\n",
            "  File \"/usr/local/lib/python3.7/dist-packages/sklearn/svm/_classes.py\", line 272, in fit\n",
            "    sample_weight=sample_weight,\n",
            "  File \"/usr/local/lib/python3.7/dist-packages/sklearn/svm/_base.py\", line 1185, in _fit_liblinear\n",
            "    solver_type = _get_liblinear_solver_type(multi_class, penalty, loss, dual)\n",
            "  File \"/usr/local/lib/python3.7/dist-packages/sklearn/svm/_base.py\", line 1026, in _get_liblinear_solver_type\n",
            "    % (error_string, penalty, loss, dual)\n",
            "ValueError: Unsupported set of arguments: The combination of penalty='elasticnet' and loss='hinge' is not supported, Parameters: penalty='elasticnet', loss='hinge', dual=True\n",
            "\n",
            "--------------------------------------------------------------------------------\n",
            "90 fits failed with the following error:\n",
            "Traceback (most recent call last):\n",
            "  File \"/usr/local/lib/python3.7/dist-packages/sklearn/model_selection/_validation.py\", line 680, in _fit_and_score\n",
            "    estimator.fit(X_train, y_train, **fit_params)\n",
            "  File \"/usr/local/lib/python3.7/dist-packages/sklearn/pipeline.py\", line 394, in fit\n",
            "    self._final_estimator.fit(Xt, y, **fit_params_last_step)\n",
            "  File \"/usr/local/lib/python3.7/dist-packages/sklearn/svm/_classes.py\", line 272, in fit\n",
            "    sample_weight=sample_weight,\n",
            "  File \"/usr/local/lib/python3.7/dist-packages/sklearn/svm/_base.py\", line 1185, in _fit_liblinear\n",
            "    solver_type = _get_liblinear_solver_type(multi_class, penalty, loss, dual)\n",
            "  File \"/usr/local/lib/python3.7/dist-packages/sklearn/svm/_base.py\", line 1026, in _get_liblinear_solver_type\n",
            "    % (error_string, penalty, loss, dual)\n",
            "ValueError: Unsupported set of arguments: The combination of penalty='l1' and loss='squared_hinge' are not supported when dual=True, Parameters: penalty='l1', loss='squared_hinge', dual=True\n",
            "\n",
            "--------------------------------------------------------------------------------\n",
            "90 fits failed with the following error:\n",
            "Traceback (most recent call last):\n",
            "  File \"/usr/local/lib/python3.7/dist-packages/sklearn/model_selection/_validation.py\", line 680, in _fit_and_score\n",
            "    estimator.fit(X_train, y_train, **fit_params)\n",
            "  File \"/usr/local/lib/python3.7/dist-packages/sklearn/pipeline.py\", line 394, in fit\n",
            "    self._final_estimator.fit(Xt, y, **fit_params_last_step)\n",
            "  File \"/usr/local/lib/python3.7/dist-packages/sklearn/svm/_classes.py\", line 272, in fit\n",
            "    sample_weight=sample_weight,\n",
            "  File \"/usr/local/lib/python3.7/dist-packages/sklearn/svm/_base.py\", line 1185, in _fit_liblinear\n",
            "    solver_type = _get_liblinear_solver_type(multi_class, penalty, loss, dual)\n",
            "  File \"/usr/local/lib/python3.7/dist-packages/sklearn/svm/_base.py\", line 1026, in _get_liblinear_solver_type\n",
            "    % (error_string, penalty, loss, dual)\n",
            "ValueError: Unsupported set of arguments: The combination of penalty='elasticnet' and loss='squared_hinge' is not supported, Parameters: penalty='elasticnet', loss='squared_hinge', dual=True\n",
            "\n",
            "  warnings.warn(some_fits_failed_message, FitFailedWarning)\n",
            "/usr/local/lib/python3.7/dist-packages/sklearn/model_selection/_search.py:972: UserWarning: One or more of the test scores are non-finite: [       nan        nan        nan        nan        nan        nan\n",
            "        nan        nan        nan        nan        nan        nan\n",
            "        nan        nan        nan        nan        nan        nan\n",
            "        nan        nan        nan        nan        nan        nan\n",
            "        nan        nan        nan        nan        nan        nan\n",
            "        nan        nan        nan        nan        nan        nan\n",
            "        nan        nan        nan        nan        nan        nan\n",
            "        nan        nan        nan        nan        nan        nan\n",
            "        nan        nan        nan        nan        nan        nan\n",
            " 0.82223483 0.77619958 0.75436358 0.82344107 0.782871   0.77410706\n",
            " 0.82171784 0.77644579 0.75340351 0.82388418 0.78333877 0.77504253\n",
            " 0.82154552 0.77686427 0.75320657 0.82368724 0.78388036 0.77531334\n",
            " 0.86009706 0.85261342 0.84249552 0.85871846 0.85337653 0.8518502\n",
            " 0.86024476 0.85256417 0.84143694 0.85829994 0.85367196 0.85204714\n",
            " 0.86026937 0.85194873 0.84030456 0.85874306 0.85349961 0.85246566\n",
            "        nan        nan        nan        nan        nan        nan\n",
            "        nan        nan        nan        nan        nan        nan\n",
            "        nan        nan        nan        nan        nan        nan\n",
            " 0.81795134 0.77388555 0.75332963 0.82093015 0.78146787 0.77075909\n",
            " 0.81792672 0.77447638 0.75241877 0.81999462 0.78132012 0.77090677\n",
            " 0.81795137 0.77430407 0.75214798 0.82021618 0.78173862 0.77102989\n",
            "        nan        nan        nan        nan        nan        nan\n",
            "        nan        nan        nan        nan        nan        nan\n",
            "        nan        nan        nan        nan        nan        nan\n",
            "        nan        nan        nan        nan        nan        nan\n",
            "        nan        nan        nan        nan        nan        nan\n",
            "        nan        nan        nan        nan        nan        nan\n",
            " 0.82221022 0.7762242  0.75441282 0.82336721 0.782871   0.77405783\n",
            " 0.82169322 0.77647041 0.75340351 0.8239088  0.78331415 0.77504253\n",
            " 0.82154552 0.77686427 0.75315733 0.82373647 0.78378189 0.77531334\n",
            "        nan        nan        nan        nan        nan        nan\n",
            "        nan        nan        nan        nan        nan        nan\n",
            "        nan        nan        nan        nan        nan        nan\n",
            "        nan        nan        nan        nan        nan        nan\n",
            "        nan        nan        nan        nan        nan        nan\n",
            "        nan        nan        nan        nan        nan        nan]\n",
            "  category=UserWarning,\n"
          ]
        },
        {
          "name": "stdout",
          "output_type": "stream",
          "text": [
            "Best Score:  0.8602693724198008\n",
            "Best Params:  {'clf__dual': False, 'clf__loss': 'squared_hinge', 'clf__penalty': 'l1', 'tfidf__max_df': 1.0, 'tfidf__min_df': 1, 'tfidf__ngram_range': (1, 1)}\n",
            "CPU times: user 1min 1s, sys: 6.82 s, total: 1min 8s\n",
            "Wall time: 44min 48s\n",
            "time: 44min 48s (started: 2022-04-15 23:58:54 +00:00)\n"
          ]
        }
      ],
      "source": [
        "%%time\n",
        "grid_svc = hp.grid_search(\"SVC\", X_train=X_train, y_train=y_train) "
      ]
    },
    {
      "cell_type": "code",
      "execution_count": null,
      "metadata": {
        "colab": {
          "base_uri": "https://localhost:8080/"
        },
        "id": "kllEfjEeIm8U",
        "outputId": "ea5ed210-e828-4799-9b84-d9eab5481ad8"
      },
      "outputs": [
        {
          "name": "stdout",
          "output_type": "stream",
          "text": [
            "#### No new best score for  SVC\n",
            "time: 2.54 ms (started: 2022-04-16 00:43:43 +00:00)\n"
          ]
        }
      ],
      "source": [
        "hp.if_save('SVC', dico, grid_svc)"
      ]
    },
    {
      "cell_type": "markdown",
      "metadata": {
        "id": "nXpV5M9IIm8U"
      },
      "source": [
        "### Charging the best parameters for training"
      ]
    },
    {
      "cell_type": "code",
      "execution_count": null,
      "metadata": {
        "colab": {
          "base_uri": "https://localhost:8080/"
        },
        "id": "ct7BBebdCc-w",
        "outputId": "2f621642-e7f1-44b1-c6d0-4602a81357dd"
      },
      "outputs": [
        {
          "name": "stdout",
          "output_type": "stream",
          "text": [
            "time: 5.19 ms (started: 2022-04-16 00:50:42 +00:00)\n"
          ]
        }
      ],
      "source": [
        "# Opening JSON file\n",
        "with open('data.json') as json_file:\n",
        "    data = json.load(json_file)\n",
        "\n",
        "data_sgd = data['SGD']\n",
        "data_rf = data['RF']\n",
        "data_gb = data['GB']\n",
        "data_lr = data['LR']\n",
        "data_per = data['PER']\n",
        "data_svc = data['SVC']"
      ]
    },
    {
      "cell_type": "markdown",
      "metadata": {
        "id": "efhYhzvsIm8V"
      },
      "source": [
        "### Training on all training data and testing on test data"
      ]
    },
    {
      "cell_type": "code",
      "execution_count": null,
      "metadata": {
        "colab": {
          "base_uri": "https://localhost:8080/"
        },
        "id": "Rjoag_IAIm8V",
        "outputId": "017c68e4-7b7e-4885-a531-cf48bda2ecba"
      },
      "outputs": [
        {
          "name": "stdout",
          "output_type": "stream",
          "text": [
            "time: 5.6 ms (started: 2022-04-16 00:50:46 +00:00)\n"
          ]
        }
      ],
      "source": [
        "def testing(model):\n",
        "    predictions_train = model.predict(X_train)\n",
        "    predictions_test = model.predict(X_test)\n",
        "    accuracy_train = accuracy_score(y_train,predictions_train )\n",
        "    accuracy_test = accuracy_score(y_test,predictions_test )\n",
        "    print(f\"train_accuracy : {accuracy_train} \\ntest_accuracy : {accuracy_test}  \\n\")\n",
        "    print('------------------------------------------------------\\n')\n",
        "    print('\\tClassification Report Train : \\n\\n', classification_report(y_train, predictions_train, target_names=['Negative','Neutral' ,'Positive']))\n",
        "    print('------------------------------------------------------\\n')\n",
        "    print('\\tClassification Report Test:\\n\\n',classification_report(y_test,predictions_test, target_names=['Negative', 'Neutral', 'Positive']))\n",
        "    print('------------------------------------------------------\\n')\n"
      ]
    },
    {
      "cell_type": "markdown",
      "metadata": {
        "id": "c58mITNcIm8V"
      },
      "source": [
        "### SGD"
      ]
    },
    {
      "cell_type": "code",
      "execution_count": null,
      "metadata": {
        "colab": {
          "base_uri": "https://localhost:8080/"
        },
        "id": "JoCTw5ElLuST",
        "outputId": "6257ad65-6cec-476a-cf7a-b30d0d20501e"
      },
      "outputs": [
        {
          "data": {
            "text/plain": [
              "{'best_score': 0.8769590395125022,\n",
              " 'params': {'clf__alpha': 1.2000000000000002e-05,\n",
              "  'clf__penalty': 'l1',\n",
              "  'tfidf__max_df': 0.75,\n",
              "  'tfidf__min_df': 1,\n",
              "  'tfidf__ngram_range': [1, 1]}}"
            ]
          },
          "execution_count": 32,
          "metadata": {},
          "output_type": "execute_result"
        },
        {
          "name": "stdout",
          "output_type": "stream",
          "text": [
            "time: 3.25 ms (started: 2022-04-16 00:50:48 +00:00)\n"
          ]
        }
      ],
      "source": [
        "data_sgd"
      ]
    },
    {
      "cell_type": "code",
      "execution_count": null,
      "metadata": {
        "colab": {
          "base_uri": "https://localhost:8080/"
        },
        "id": "FozzlotYCc-w",
        "outputId": "51559655-c409-4740-8c3a-849dfaf42f49"
      },
      "outputs": [
        {
          "data": {
            "text/plain": [
              "Pipeline(steps=[('tfidf', TfidfVectorizer(max_df=0.75, ngram_range=[1, 1])),\n",
              "                ('clf',\n",
              "                 SGDClassifier(alpha=1.2000000000000002e-05, n_jobs=-1,\n",
              "                               penalty='l1'))])"
            ]
          },
          "execution_count": 33,
          "metadata": {},
          "output_type": "execute_result"
        },
        {
          "name": "stdout",
          "output_type": "stream",
          "text": [
            "time: 10.1 ms (started: 2022-04-16 00:50:48 +00:00)\n"
          ]
        }
      ],
      "source": [
        "model_sgd_best = pipeline_sgd\n",
        "model_sgd_best.set_params(**(data_sgd[\"params\"]),clf__n_jobs=-1) "
      ]
    },
    {
      "cell_type": "code",
      "execution_count": null,
      "metadata": {
        "colab": {
          "base_uri": "https://localhost:8080/"
        },
        "id": "nB_Uisu1Im8V",
        "outputId": "8b7a7012-7456-4b08-90af-44f7b16952f2"
      },
      "outputs": [
        {
          "name": "stdout",
          "output_type": "stream",
          "text": [
            "CPU times: user 2.17 s, sys: 213 ms, total: 2.38 s\n",
            "Wall time: 1.58 s\n"
          ]
        },
        {
          "data": {
            "text/plain": [
              "Pipeline(steps=[('tfidf', TfidfVectorizer(max_df=0.75, ngram_range=[1, 1])),\n",
              "                ('clf',\n",
              "                 SGDClassifier(alpha=1.2000000000000002e-05, n_jobs=-1,\n",
              "                               penalty='l1'))])"
            ]
          },
          "execution_count": 34,
          "metadata": {},
          "output_type": "execute_result"
        },
        {
          "name": "stdout",
          "output_type": "stream",
          "text": [
            "time: 1.59 s (started: 2022-04-16 00:50:49 +00:00)\n"
          ]
        }
      ],
      "source": [
        "%%time\n",
        "\n",
        "model_sgd_best.fit(X_train,y_train)\n"
      ]
    },
    {
      "cell_type": "code",
      "execution_count": null,
      "metadata": {
        "colab": {
          "base_uri": "https://localhost:8080/"
        },
        "id": "4qLjHzHrIm8W",
        "outputId": "ab9c143a-b290-473b-f565-ba2521213882"
      },
      "outputs": [
        {
          "name": "stdout",
          "output_type": "stream",
          "text": [
            "train_accuracy : 0.9310947539450039 \n",
            "test_accuracy : 0.8700370566437269  \n",
            "\n",
            "------------------------------------------------------\n",
            "\n",
            "\tClassification Report Train : \n",
            "\n",
            "               precision    recall  f1-score   support\n",
            "\n",
            "    Negative       0.93      0.93      0.93     15317\n",
            "     Neutral       0.92      0.89      0.90      7392\n",
            "    Positive       0.93      0.95      0.94     17912\n",
            "\n",
            "    accuracy                           0.93     40621\n",
            "   macro avg       0.93      0.92      0.93     40621\n",
            "weighted avg       0.93      0.93      0.93     40621\n",
            "\n",
            "------------------------------------------------------\n",
            "\n",
            "\tClassification Report Test:\n",
            "\n",
            "               precision    recall  f1-score   support\n",
            "\n",
            "    Negative       0.89      0.87      0.88      1631\n",
            "     Neutral       0.83      0.83      0.83       604\n",
            "    Positive       0.87      0.89      0.88      1543\n",
            "\n",
            "    accuracy                           0.87      3778\n",
            "   macro avg       0.86      0.86      0.86      3778\n",
            "weighted avg       0.87      0.87      0.87      3778\n",
            "\n",
            "------------------------------------------------------\n",
            "\n",
            "time: 1.15 s (started: 2022-04-16 00:50:51 +00:00)\n"
          ]
        }
      ],
      "source": [
        "testing(model_sgd_best)"
      ]
    },
    {
      "cell_type": "markdown",
      "metadata": {
        "id": "Qr9nBCXvIm8W"
      },
      "source": [
        "### Random Forest"
      ]
    },
    {
      "cell_type": "code",
      "execution_count": null,
      "metadata": {
        "colab": {
          "base_uri": "https://localhost:8080/"
        },
        "id": "lGouwXZ_Cc-x",
        "outputId": "cfd2e580-5a1b-47df-e703-fb1b21d5a629"
      },
      "outputs": [
        {
          "data": {
            "text/plain": [
              "Pipeline(steps=[('tfidf', TfidfVectorizer()),\n",
              "                ('clf',\n",
              "                 RandomForestClassifier(max_depth=600, max_features='sqrt',\n",
              "                                        min_samples_leaf=2,\n",
              "                                        min_samples_split=32, n_jobs=-1))])"
            ]
          },
          "execution_count": 36,
          "metadata": {},
          "output_type": "execute_result"
        },
        {
          "name": "stdout",
          "output_type": "stream",
          "text": [
            "time: 7.98 ms (started: 2022-04-16 00:50:52 +00:00)\n"
          ]
        }
      ],
      "source": [
        "model_rf_best = pipeline_rf\n",
        "model_rf_best.set_params(**(data_rf[\"params\"]),clf__n_jobs=-1)"
      ]
    },
    {
      "cell_type": "code",
      "execution_count": null,
      "metadata": {
        "colab": {
          "base_uri": "https://localhost:8080/"
        },
        "id": "bdEu7AlyCc-x",
        "outputId": "3b347243-a3dc-4aa9-b174-120618afdbd7"
      },
      "outputs": [
        {
          "name": "stdout",
          "output_type": "stream",
          "text": [
            "CPU times: user 26 s, sys: 20.6 ms, total: 26.1 s\n",
            "Wall time: 7.58 s\n"
          ]
        },
        {
          "data": {
            "text/plain": [
              "Pipeline(steps=[('tfidf', TfidfVectorizer()),\n",
              "                ('clf',\n",
              "                 RandomForestClassifier(max_depth=600, max_features='sqrt',\n",
              "                                        min_samples_leaf=2,\n",
              "                                        min_samples_split=32, n_jobs=-1))])"
            ]
          },
          "execution_count": 37,
          "metadata": {},
          "output_type": "execute_result"
        },
        {
          "name": "stdout",
          "output_type": "stream",
          "text": [
            "time: 7.6 s (started: 2022-04-16 00:50:52 +00:00)\n"
          ]
        }
      ],
      "source": [
        "%%time\n",
        "\n",
        "model_rf_best.fit(X_train,y_train)"
      ]
    },
    {
      "cell_type": "code",
      "execution_count": null,
      "metadata": {
        "colab": {
          "base_uri": "https://localhost:8080/"
        },
        "id": "yWtUmtDsCc-x",
        "outputId": "20e3c36d-d99d-47d4-913b-11e1a6d5df18"
      },
      "outputs": [
        {
          "name": "stdout",
          "output_type": "stream",
          "text": [
            "train_accuracy : 0.8667930380837497 \n",
            "test_accuracy : 0.6974589730015881  \n",
            "\n",
            "------------------------------------------------------\n",
            "\n",
            "\tClassification Report Train : \n",
            "\n",
            "               precision    recall  f1-score   support\n",
            "\n",
            "    Negative       0.90      0.90      0.90     15317\n",
            "     Neutral       0.90      0.58      0.71      7392\n",
            "    Positive       0.83      0.96      0.89     17912\n",
            "\n",
            "    accuracy                           0.87     40621\n",
            "   macro avg       0.88      0.81      0.83     40621\n",
            "weighted avg       0.87      0.87      0.86     40621\n",
            "\n",
            "------------------------------------------------------\n",
            "\n",
            "\tClassification Report Test:\n",
            "\n",
            "               precision    recall  f1-score   support\n",
            "\n",
            "    Negative       0.77      0.67      0.72      1631\n",
            "     Neutral       0.73      0.40      0.52       604\n",
            "    Positive       0.64      0.84      0.73      1543\n",
            "\n",
            "    accuracy                           0.70      3778\n",
            "   macro avg       0.71      0.64      0.65      3778\n",
            "weighted avg       0.71      0.70      0.69      3778\n",
            "\n",
            "------------------------------------------------------\n",
            "\n",
            "time: 2.16 s (started: 2022-04-16 00:50:59 +00:00)\n"
          ]
        }
      ],
      "source": [
        "testing(model_rf_best)"
      ]
    },
    {
      "cell_type": "markdown",
      "metadata": {
        "id": "1ltx6agFIm8W"
      },
      "source": [
        "### Gradient Boosting "
      ]
    },
    {
      "cell_type": "code",
      "execution_count": null,
      "metadata": {
        "colab": {
          "base_uri": "https://localhost:8080/"
        },
        "id": "TBkq5EjbIm8X",
        "outputId": "9f5aafff-8468-469c-e2e3-928f17ac0c72"
      },
      "outputs": [
        {
          "data": {
            "text/plain": [
              "Pipeline(steps=[('tfidf', TfidfVectorizer()),\n",
              "                ('clf',\n",
              "                 GradientBoostingClassifier(learning_rate=0.2,\n",
              "                                            n_estimators=200))])"
            ]
          },
          "execution_count": 39,
          "metadata": {},
          "output_type": "execute_result"
        },
        {
          "name": "stdout",
          "output_type": "stream",
          "text": [
            "time: 7.49 ms (started: 2022-04-16 00:51:02 +00:00)\n"
          ]
        }
      ],
      "source": [
        "model_gb_best = pipeline_gb\n",
        "model_gb_best.set_params(**(data_gb[\"params\"]))"
      ]
    },
    {
      "cell_type": "code",
      "execution_count": null,
      "metadata": {
        "colab": {
          "base_uri": "https://localhost:8080/"
        },
        "id": "vhbG6NHjIm8X",
        "outputId": "e658e255-5702-48d7-a650-6577e7842e8a"
      },
      "outputs": [
        {
          "name": "stdout",
          "output_type": "stream",
          "text": [
            "CPU times: user 3min 57s, sys: 28.7 ms, total: 3min 57s\n",
            "Wall time: 3min 56s\n"
          ]
        },
        {
          "data": {
            "text/plain": [
              "Pipeline(steps=[('tfidf', TfidfVectorizer()),\n",
              "                ('clf',\n",
              "                 GradientBoostingClassifier(learning_rate=0.2,\n",
              "                                            n_estimators=200))])"
            ]
          },
          "execution_count": 40,
          "metadata": {},
          "output_type": "execute_result"
        },
        {
          "name": "stdout",
          "output_type": "stream",
          "text": [
            "time: 3min 56s (started: 2022-04-16 00:51:02 +00:00)\n"
          ]
        }
      ],
      "source": [
        "%%time\n",
        "model_gb_best.fit(X_train,y_train)"
      ]
    },
    {
      "cell_type": "code",
      "execution_count": null,
      "metadata": {
        "colab": {
          "base_uri": "https://localhost:8080/"
        },
        "id": "0IAbPNE1Im8X",
        "outputId": "439eb68a-5217-4fef-bf02-95d37358a3b0"
      },
      "outputs": [
        {
          "name": "stdout",
          "output_type": "stream",
          "text": [
            "train_accuracy : 0.7982816769651165 \n",
            "test_accuracy : 0.7506617257808365  \n",
            "\n",
            "------------------------------------------------------\n",
            "\n",
            "\tClassification Report Train : \n",
            "\n",
            "               precision    recall  f1-score   support\n",
            "\n",
            "    Negative       0.85      0.79      0.82     15317\n",
            "     Neutral       0.75      0.65      0.70      7392\n",
            "    Positive       0.78      0.87      0.82     17912\n",
            "\n",
            "    accuracy                           0.80     40621\n",
            "   macro avg       0.79      0.77      0.78     40621\n",
            "weighted avg       0.80      0.80      0.80     40621\n",
            "\n",
            "------------------------------------------------------\n",
            "\n",
            "\tClassification Report Test:\n",
            "\n",
            "               precision    recall  f1-score   support\n",
            "\n",
            "    Negative       0.83      0.72      0.77      1631\n",
            "     Neutral       0.67      0.62      0.64       604\n",
            "    Positive       0.71      0.84      0.77      1543\n",
            "\n",
            "    accuracy                           0.75      3778\n",
            "   macro avg       0.74      0.72      0.73      3778\n",
            "weighted avg       0.76      0.75      0.75      3778\n",
            "\n",
            "------------------------------------------------------\n",
            "\n",
            "time: 1.71 s (started: 2022-04-16 00:54:58 +00:00)\n"
          ]
        }
      ],
      "source": [
        "testing(model_gb_best)"
      ]
    },
    {
      "cell_type": "markdown",
      "metadata": {
        "id": "6pOf07uNIm8X"
      },
      "source": [
        "### Logistic Regression"
      ]
    },
    {
      "cell_type": "code",
      "execution_count": null,
      "metadata": {
        "colab": {
          "base_uri": "https://localhost:8080/"
        },
        "id": "lX1hcdBjIm8X",
        "outputId": "d25c24a2-b3dd-49ce-bf54-c3df8abf12e2"
      },
      "outputs": [
        {
          "data": {
            "text/plain": [
              "Pipeline(steps=[('tfidf', TfidfVectorizer()),\n",
              "                ('clf',\n",
              "                 LogisticRegression(C=10, max_iter=1000, n_jobs=-1,\n",
              "                                    tol=1e-08))])"
            ]
          },
          "execution_count": 42,
          "metadata": {},
          "output_type": "execute_result"
        },
        {
          "name": "stdout",
          "output_type": "stream",
          "text": [
            "time: 7.56 ms (started: 2022-04-16 00:55:00 +00:00)\n"
          ]
        }
      ],
      "source": [
        "model_lr_best = pipeline_lr\n",
        "model_lr_best.set_params(**(data_lr['params']),clf__n_jobs=-1)"
      ]
    },
    {
      "cell_type": "code",
      "execution_count": null,
      "metadata": {
        "colab": {
          "base_uri": "https://localhost:8080/"
        },
        "id": "IcONRPWqIm8X",
        "outputId": "c86cb1dc-ef52-4ada-940a-13d9f979405b"
      },
      "outputs": [
        {
          "name": "stdout",
          "output_type": "stream",
          "text": [
            "CPU times: user 1.51 s, sys: 65.2 ms, total: 1.58 s\n",
            "Wall time: 23.7 s\n"
          ]
        },
        {
          "data": {
            "text/plain": [
              "Pipeline(steps=[('tfidf', TfidfVectorizer()),\n",
              "                ('clf',\n",
              "                 LogisticRegression(C=10, max_iter=1000, n_jobs=-1,\n",
              "                                    tol=1e-08))])"
            ]
          },
          "execution_count": 43,
          "metadata": {},
          "output_type": "execute_result"
        },
        {
          "name": "stdout",
          "output_type": "stream",
          "text": [
            "time: 23.7 s (started: 2022-04-16 00:55:00 +00:00)\n"
          ]
        }
      ],
      "source": [
        "%%time\n",
        "\n",
        "model_lr_best.fit(X_train,y_train)"
      ]
    },
    {
      "cell_type": "code",
      "execution_count": null,
      "metadata": {
        "colab": {
          "base_uri": "https://localhost:8080/"
        },
        "id": "0aWokKTIIm8X",
        "outputId": "f76d9ab6-1db8-497b-c87c-9157b557851a"
      },
      "outputs": [
        {
          "name": "stdout",
          "output_type": "stream",
          "text": [
            "train_accuracy : 0.9775239408187884 \n",
            "test_accuracy : 0.8213340391741663  \n",
            "\n",
            "------------------------------------------------------\n",
            "\n",
            "\tClassification Report Train : \n",
            "\n",
            "               precision    recall  f1-score   support\n",
            "\n",
            "    Negative       0.97      0.98      0.98     15317\n",
            "     Neutral       0.99      0.94      0.97      7392\n",
            "    Positive       0.98      0.99      0.98     17912\n",
            "\n",
            "    accuracy                           0.98     40621\n",
            "   macro avg       0.98      0.97      0.98     40621\n",
            "weighted avg       0.98      0.98      0.98     40621\n",
            "\n",
            "------------------------------------------------------\n",
            "\n",
            "\tClassification Report Test:\n",
            "\n",
            "               precision    recall  f1-score   support\n",
            "\n",
            "    Negative       0.85      0.82      0.83      1631\n",
            "     Neutral       0.72      0.72      0.72       604\n",
            "    Positive       0.83      0.86      0.85      1543\n",
            "\n",
            "    accuracy                           0.82      3778\n",
            "   macro avg       0.80      0.80      0.80      3778\n",
            "weighted avg       0.82      0.82      0.82      3778\n",
            "\n",
            "------------------------------------------------------\n",
            "\n",
            "time: 1.19 s (started: 2022-04-16 00:55:24 +00:00)\n"
          ]
        }
      ],
      "source": [
        "testing(model_lr_best)"
      ]
    },
    {
      "cell_type": "markdown",
      "metadata": {
        "id": "E8iVyZvUIm8X"
      },
      "source": [
        "### Perceptron"
      ]
    },
    {
      "cell_type": "code",
      "execution_count": null,
      "metadata": {
        "colab": {
          "base_uri": "https://localhost:8080/"
        },
        "id": "TpJKR5-CIm8Y",
        "outputId": "f070c566-ef45-45c4-8f0c-23b00bc98202"
      },
      "outputs": [
        {
          "data": {
            "text/plain": [
              "Pipeline(steps=[('tfidf', TfidfVectorizer()),\n",
              "                ('clf',\n",
              "                 Perceptron(alpha=5.272631578947369e-06, n_jobs=-1,\n",
              "                            penalty='l1'))])"
            ]
          },
          "execution_count": 45,
          "metadata": {},
          "output_type": "execute_result"
        },
        {
          "name": "stdout",
          "output_type": "stream",
          "text": [
            "time: 8.08 ms (started: 2022-04-16 00:55:25 +00:00)\n"
          ]
        }
      ],
      "source": [
        "model_per_best = pipeline_per\n",
        "model_per_best.set_params(**(data_per['params']),clf__n_jobs=-1)"
      ]
    },
    {
      "cell_type": "code",
      "execution_count": null,
      "metadata": {
        "colab": {
          "base_uri": "https://localhost:8080/"
        },
        "id": "qdazS8r9Im8Y",
        "outputId": "0e257173-e553-400a-b22c-d5068fcc2ec8"
      },
      "outputs": [
        {
          "name": "stdout",
          "output_type": "stream",
          "text": [
            "CPU times: user 1.73 s, sys: 290 ms, total: 2.02 s\n",
            "Wall time: 1.41 s\n"
          ]
        },
        {
          "data": {
            "text/plain": [
              "Pipeline(steps=[('tfidf', TfidfVectorizer()),\n",
              "                ('clf',\n",
              "                 Perceptron(alpha=5.272631578947369e-06, n_jobs=-1,\n",
              "                            penalty='l1'))])"
            ]
          },
          "execution_count": 46,
          "metadata": {},
          "output_type": "execute_result"
        },
        {
          "name": "stdout",
          "output_type": "stream",
          "text": [
            "time: 1.42 s (started: 2022-04-16 00:55:25 +00:00)\n"
          ]
        }
      ],
      "source": [
        "%%time\n",
        "model_per_best.fit(X_train,y_train)"
      ]
    },
    {
      "cell_type": "code",
      "execution_count": null,
      "metadata": {
        "colab": {
          "base_uri": "https://localhost:8080/"
        },
        "id": "PQWvx1CJIm8Y",
        "outputId": "6badd955-6ad0-482c-8d77-245742bbc07e"
      },
      "outputs": [
        {
          "name": "stdout",
          "output_type": "stream",
          "text": [
            "train_accuracy : 0.904089017995618 \n",
            "test_accuracy : 0.8194812069878242  \n",
            "\n",
            "------------------------------------------------------\n",
            "\n",
            "\tClassification Report Train : \n",
            "\n",
            "               precision    recall  f1-score   support\n",
            "\n",
            "    Negative       0.91      0.91      0.91     15317\n",
            "     Neutral       0.88      0.80      0.84      7392\n",
            "    Positive       0.91      0.94      0.92     17912\n",
            "\n",
            "    accuracy                           0.90     40621\n",
            "   macro avg       0.90      0.88      0.89     40621\n",
            "weighted avg       0.90      0.90      0.90     40621\n",
            "\n",
            "------------------------------------------------------\n",
            "\n",
            "\tClassification Report Test:\n",
            "\n",
            "               precision    recall  f1-score   support\n",
            "\n",
            "    Negative       0.85      0.82      0.84      1631\n",
            "     Neutral       0.72      0.69      0.70       604\n",
            "    Positive       0.82      0.87      0.84      1543\n",
            "\n",
            "    accuracy                           0.82      3778\n",
            "   macro avg       0.80      0.79      0.80      3778\n",
            "weighted avg       0.82      0.82      0.82      3778\n",
            "\n",
            "------------------------------------------------------\n",
            "\n",
            "time: 1.16 s (started: 2022-04-16 00:55:27 +00:00)\n"
          ]
        }
      ],
      "source": [
        "testing(model_per_best)"
      ]
    },
    {
      "cell_type": "markdown",
      "metadata": {
        "id": "q1O2dupiIm8Y"
      },
      "source": [
        "### SVC"
      ]
    },
    {
      "cell_type": "code",
      "execution_count": null,
      "metadata": {
        "colab": {
          "base_uri": "https://localhost:8080/"
        },
        "id": "tG0A4VREIm8Y",
        "outputId": "f2452054-728c-41a8-8cdf-a43f3d1378e4"
      },
      "outputs": [
        {
          "data": {
            "text/plain": [
              "Pipeline(steps=[('tfidf', TfidfVectorizer()),\n",
              "                ('clf', LinearSVC(dual=False, max_iter=10000, penalty='l1'))])"
            ]
          },
          "execution_count": 48,
          "metadata": {},
          "output_type": "execute_result"
        },
        {
          "name": "stdout",
          "output_type": "stream",
          "text": [
            "time: 6.69 ms (started: 2022-04-16 00:55:28 +00:00)\n"
          ]
        }
      ],
      "source": [
        "model_svc_best = pipeline_svc\n",
        "model_svc_best.set_params(**(data_svc['params']))"
      ]
    },
    {
      "cell_type": "code",
      "execution_count": null,
      "metadata": {
        "colab": {
          "base_uri": "https://localhost:8080/"
        },
        "id": "RSG2qg6GIm8Y",
        "outputId": "a8389b79-c3af-4892-9a0d-7aa952eb4c3b"
      },
      "outputs": [
        {
          "name": "stdout",
          "output_type": "stream",
          "text": [
            "CPU times: user 8.1 s, sys: 21.7 ms, total: 8.12 s\n",
            "Wall time: 8.06 s\n"
          ]
        },
        {
          "data": {
            "text/plain": [
              "Pipeline(steps=[('tfidf', TfidfVectorizer()),\n",
              "                ('clf', LinearSVC(dual=False, max_iter=10000, penalty='l1'))])"
            ]
          },
          "execution_count": 49,
          "metadata": {},
          "output_type": "execute_result"
        },
        {
          "name": "stdout",
          "output_type": "stream",
          "text": [
            "time: 8.07 s (started: 2022-04-16 00:55:28 +00:00)\n"
          ]
        }
      ],
      "source": [
        "%%time\n",
        "\n",
        "model_svc_best.fit(X_train,y_train)"
      ]
    },
    {
      "cell_type": "code",
      "execution_count": null,
      "metadata": {
        "colab": {
          "base_uri": "https://localhost:8080/"
        },
        "id": "W1NV_zYeIm8Z",
        "outputId": "9fec0a00-18a9-4df8-93fe-d6dd2fe212ff"
      },
      "outputs": [
        {
          "name": "stdout",
          "output_type": "stream",
          "text": [
            "train_accuracy : 0.9460623815267964 \n",
            "test_accuracy : 0.8642138697723664  \n",
            "\n",
            "------------------------------------------------------\n",
            "\n",
            "\tClassification Report Train : \n",
            "\n",
            "               precision    recall  f1-score   support\n",
            "\n",
            "    Negative       0.94      0.95      0.95     15317\n",
            "     Neutral       0.95      0.90      0.93      7392\n",
            "    Positive       0.95      0.96      0.95     17912\n",
            "\n",
            "    accuracy                           0.95     40621\n",
            "   macro avg       0.95      0.94      0.94     40621\n",
            "weighted avg       0.95      0.95      0.95     40621\n",
            "\n",
            "------------------------------------------------------\n",
            "\n",
            "\tClassification Report Test:\n",
            "\n",
            "               precision    recall  f1-score   support\n",
            "\n",
            "    Negative       0.88      0.86      0.87      1631\n",
            "     Neutral       0.81      0.80      0.80       604\n",
            "    Positive       0.87      0.89      0.88      1543\n",
            "\n",
            "    accuracy                           0.86      3778\n",
            "   macro avg       0.85      0.85      0.85      3778\n",
            "weighted avg       0.86      0.86      0.86      3778\n",
            "\n",
            "------------------------------------------------------\n",
            "\n",
            "time: 1.15 s (started: 2022-04-16 00:55:36 +00:00)\n"
          ]
        }
      ],
      "source": [
        "testing(model_svc_best)"
      ]
    },
    {
      "cell_type": "markdown",
      "metadata": {
        "id": "igWU2A4PIm8Z"
      },
      "source": [
        "### Voting Classifier"
      ]
    },
    {
      "cell_type": "code",
      "execution_count": null,
      "metadata": {
        "colab": {
          "base_uri": "https://localhost:8080/"
        },
        "id": "86JLNLKor1AL",
        "outputId": "7206780b-c97e-4868-f9c9-bd5f210f5bde"
      },
      "outputs": [
        {
          "name": "stdout",
          "output_type": "stream",
          "text": [
            "time: 5.32 ms (started: 2022-04-16 00:55:37 +00:00)\n"
          ]
        }
      ],
      "source": [
        "clf1 = model_sgd_best\n",
        "\n",
        "clf2 = model_rf_best\n",
        "\n",
        "clf3 = model_gb_best\n",
        "\n",
        "clf4 = model_lr_best\n",
        "\n",
        "clf5 = model_per_best\n",
        "\n",
        "clf6 = model_svc_best\n",
        "\n",
        "\n",
        "eclf1 = VotingClassifier(\n",
        "     estimators=[('sgd', clf1), ('rf', clf2), ('gb', clf3), ('lr', clf4), ('per', clf5), ('svc', clf6)],\n",
        "     voting='hard')\n",
        "\n",
        "eclf2 = VotingClassifier(\n",
        "     estimators=[('sgd', clf1), ('lr', clf4), ('per', clf5), ('svc', clf6)],\n",
        "     voting='hard')\n"
      ]
    },
    {
      "cell_type": "code",
      "execution_count": null,
      "metadata": {
        "colab": {
          "base_uri": "https://localhost:8080/"
        },
        "id": "_wiWZkZ7Im8Z",
        "outputId": "f4c024a0-7e03-48da-d049-854e5707241e"
      },
      "outputs": [
        {
          "name": "stdout",
          "output_type": "stream",
          "text": [
            "CPU times: user 4min 13s, sys: 1.02 s, total: 4min 14s\n",
            "Wall time: 4min 39s\n"
          ]
        },
        {
          "data": {
            "text/plain": [
              "VotingClassifier(estimators=[('sgd',\n",
              "                              Pipeline(steps=[('tfidf',\n",
              "                                               TfidfVectorizer(max_df=0.75,\n",
              "                                                               ngram_range=[1,\n",
              "                                                                            1])),\n",
              "                                              ('clf',\n",
              "                                               SGDClassifier(alpha=1.2000000000000002e-05,\n",
              "                                                             n_jobs=-1,\n",
              "                                                             penalty='l1'))])),\n",
              "                             ('rf',\n",
              "                              Pipeline(steps=[('tfidf', TfidfVectorizer()),\n",
              "                                              ('clf',\n",
              "                                               RandomForestClassifier(max_depth=600,\n",
              "                                                                      max_features='sqrt',\n",
              "                                                                      min_samples_leaf=2,\n",
              "                                                                      min_samples_split=32,\n",
              "                                                                      n_jobs=-1...\n",
              "                              Pipeline(steps=[('tfidf', TfidfVectorizer()),\n",
              "                                              ('clf',\n",
              "                                               LogisticRegression(C=10,\n",
              "                                                                  max_iter=1000,\n",
              "                                                                  n_jobs=-1,\n",
              "                                                                  tol=1e-08))])),\n",
              "                             ('per',\n",
              "                              Pipeline(steps=[('tfidf', TfidfVectorizer()),\n",
              "                                              ('clf',\n",
              "                                               Perceptron(alpha=5.272631578947369e-06,\n",
              "                                                          n_jobs=-1,\n",
              "                                                          penalty='l1'))])),\n",
              "                             ('svc',\n",
              "                              Pipeline(steps=[('tfidf', TfidfVectorizer()),\n",
              "                                              ('clf',\n",
              "                                               LinearSVC(dual=False,\n",
              "                                                         max_iter=10000,\n",
              "                                                         penalty='l1'))]))])"
            ]
          },
          "execution_count": 52,
          "metadata": {},
          "output_type": "execute_result"
        },
        {
          "name": "stdout",
          "output_type": "stream",
          "text": [
            "time: 4min 39s (started: 2022-04-16 00:55:37 +00:00)\n"
          ]
        }
      ],
      "source": [
        "%%time\n",
        "\n",
        "eclf1.fit(X_train,y_train)"
      ]
    },
    {
      "cell_type": "code",
      "execution_count": null,
      "metadata": {
        "colab": {
          "base_uri": "https://localhost:8080/"
        },
        "id": "fw_BUQQSIm8Z",
        "outputId": "83ff0d8e-cb19-4e91-af9f-bd33a69608c9"
      },
      "outputs": [
        {
          "name": "stdout",
          "output_type": "stream",
          "text": [
            "train_accuracy : 0.9531030747642845 \n",
            "test_accuracy : 0.86500794070937  \n",
            "\n",
            "------------------------------------------------------\n",
            "\n",
            "\tClassification Report Train : \n",
            "\n",
            "               precision    recall  f1-score   support\n",
            "\n",
            "    Negative       0.94      0.97      0.95     15317\n",
            "     Neutral       0.97      0.90      0.93      7392\n",
            "    Positive       0.96      0.96      0.96     17912\n",
            "\n",
            "    accuracy                           0.95     40621\n",
            "   macro avg       0.96      0.94      0.95     40621\n",
            "weighted avg       0.95      0.95      0.95     40621\n",
            "\n",
            "------------------------------------------------------\n",
            "\n",
            "\tClassification Report Test:\n",
            "\n",
            "               precision    recall  f1-score   support\n",
            "\n",
            "    Negative       0.87      0.88      0.87      1631\n",
            "     Neutral       0.84      0.78      0.81       604\n",
            "    Positive       0.87      0.88      0.88      1543\n",
            "\n",
            "    accuracy                           0.87      3778\n",
            "   macro avg       0.86      0.85      0.85      3778\n",
            "weighted avg       0.86      0.87      0.86      3778\n",
            "\n",
            "------------------------------------------------------\n",
            "\n",
            "time: 8.33 s (started: 2022-04-16 01:00:17 +00:00)\n"
          ]
        }
      ],
      "source": [
        "testing(eclf1)"
      ]
    },
    {
      "cell_type": "code",
      "execution_count": null,
      "metadata": {
        "colab": {
          "base_uri": "https://localhost:8080/"
        },
        "id": "0T0t23GRIm8Z",
        "outputId": "70a1a9b0-b911-4006-a0c5-23a853930a1e"
      },
      "outputs": [
        {
          "name": "stdout",
          "output_type": "stream",
          "text": [
            "CPU times: user 13 s, sys: 617 ms, total: 13.6 s\n",
            "Wall time: 33.5 s\n"
          ]
        },
        {
          "data": {
            "text/plain": [
              "VotingClassifier(estimators=[('sgd',\n",
              "                              Pipeline(steps=[('tfidf',\n",
              "                                               TfidfVectorizer(max_df=0.75,\n",
              "                                                               ngram_range=[1,\n",
              "                                                                            1])),\n",
              "                                              ('clf',\n",
              "                                               SGDClassifier(alpha=1.2000000000000002e-05,\n",
              "                                                             n_jobs=-1,\n",
              "                                                             penalty='l1'))])),\n",
              "                             ('lr',\n",
              "                              Pipeline(steps=[('tfidf', TfidfVectorizer()),\n",
              "                                              ('clf',\n",
              "                                               LogisticRegression(C=10,\n",
              "                                                                  max_iter=1000,\n",
              "                                                                  n_jobs=-1,\n",
              "                                                                  tol=1e-08))])),\n",
              "                             ('per',\n",
              "                              Pipeline(steps=[('tfidf', TfidfVectorizer()),\n",
              "                                              ('clf',\n",
              "                                               Perceptron(alpha=5.272631578947369e-06,\n",
              "                                                          n_jobs=-1,\n",
              "                                                          penalty='l1'))])),\n",
              "                             ('svc',\n",
              "                              Pipeline(steps=[('tfidf', TfidfVectorizer()),\n",
              "                                              ('clf',\n",
              "                                               LinearSVC(dual=False,\n",
              "                                                         max_iter=10000,\n",
              "                                                         penalty='l1'))]))])"
            ]
          },
          "execution_count": 54,
          "metadata": {},
          "output_type": "execute_result"
        },
        {
          "name": "stdout",
          "output_type": "stream",
          "text": [
            "time: 33.6 s (started: 2022-04-16 01:00:25 +00:00)\n"
          ]
        }
      ],
      "source": [
        "%%time\n",
        "\n",
        "eclf2.fit(X_train,y_train)"
      ]
    },
    {
      "cell_type": "code",
      "execution_count": null,
      "metadata": {
        "colab": {
          "base_uri": "https://localhost:8080/"
        },
        "id": "5P69br2jIm8a",
        "outputId": "91ac4792-2ddb-441a-dc0a-ccd260af94ed"
      },
      "outputs": [
        {
          "name": "stdout",
          "output_type": "stream",
          "text": [
            "train_accuracy : 0.9552448241057581 \n",
            "test_accuracy : 0.8642138697723664  \n",
            "\n",
            "------------------------------------------------------\n",
            "\n",
            "\tClassification Report Train : \n",
            "\n",
            "               precision    recall  f1-score   support\n",
            "\n",
            "    Negative       0.94      0.97      0.96     15317\n",
            "     Neutral       0.96      0.92      0.94      7392\n",
            "    Positive       0.96      0.96      0.96     17912\n",
            "\n",
            "    accuracy                           0.96     40621\n",
            "   macro avg       0.96      0.95      0.95     40621\n",
            "weighted avg       0.96      0.96      0.96     40621\n",
            "\n",
            "------------------------------------------------------\n",
            "\n",
            "\tClassification Report Test:\n",
            "\n",
            "               precision    recall  f1-score   support\n",
            "\n",
            "    Negative       0.87      0.88      0.87      1631\n",
            "     Neutral       0.82      0.79      0.81       604\n",
            "    Positive       0.88      0.88      0.88      1543\n",
            "\n",
            "    accuracy                           0.86      3778\n",
            "   macro avg       0.85      0.85      0.85      3778\n",
            "weighted avg       0.86      0.86      0.86      3778\n",
            "\n",
            "------------------------------------------------------\n",
            "\n",
            "time: 4.56 s (started: 2022-04-16 01:00:59 +00:00)\n"
          ]
        }
      ],
      "source": [
        "testing(eclf2)"
      ]
    },
    {
      "cell_type": "markdown",
      "metadata": {
        "id": "yjpxkYfxLuSW"
      },
      "source": [
        "# Reccurent Network"
      ]
    },
    {
      "cell_type": "code",
      "execution_count": null,
      "metadata": {
        "colab": {
          "background_save": true,
          "base_uri": "https://localhost:8080/"
        },
        "id": "LW2sln-vTc7S",
        "outputId": "c0de036f-b1c1-4801-9122-fe4e9f8e4369"
      },
      "outputs": [
        {
          "name": "stderr",
          "output_type": "stream",
          "text": [
            "\u001b[32m[I 2022-04-16 01:11:11,002]\u001b[0m A new study created in memory with name: no-name-256692eb-42f1-4570-ab55-a9d89185e77c\u001b[0m\n"
          ]
        },
        {
          "name": "stdout",
          "output_type": "stream",
          "text": [
            "{'epochs': 4, 'batch_size': 18, 'embedding_dim': 62, 'units': 159, 'dropout': 0.5, 'n_neurons': 66}\n",
            "Epoch 1/4\n",
            "2031/2031 [==============================] - 34s 15ms/step - loss: 0.1256 - accuracy: 0.7557 - val_loss: 0.0717 - val_accuracy: 0.8639\n",
            "Epoch 2/4\n",
            "2031/2031 [==============================] - 30s 15ms/step - loss: 0.0662 - accuracy: 0.8959 - val_loss: 0.0637 - val_accuracy: 0.8789\n",
            "Epoch 3/4\n",
            "2031/2031 [==============================] - 30s 15ms/step - loss: 0.0468 - accuracy: 0.9385 - val_loss: 0.0638 - val_accuracy: 0.8769\n",
            "Epoch 4/4\n",
            "2031/2031 [==============================] - 30s 15ms/step - loss: 0.0369 - accuracy: 0.9567 - val_loss: 0.0623 - val_accuracy: 0.8789\n",
            "Epoch 1/4\n",
            "2031/2031 [==============================] - 30s 15ms/step - loss: 0.0322 - accuracy: 0.9644 - val_loss: 0.0620 - val_accuracy: 0.8794\n",
            "Epoch 2/4\n",
            "2031/2031 [==============================] - 30s 15ms/step - loss: 0.0290 - accuracy: 0.9697 - val_loss: 0.0669 - val_accuracy: 0.8686\n",
            "Epoch 3/4\n",
            "2031/2031 [==============================] - 30s 15ms/step - loss: 0.0264 - accuracy: 0.9724 - val_loss: 0.0645 - val_accuracy: 0.8789\n",
            "Epoch 4/4\n",
            "2031/2031 [==============================] - 30s 15ms/step - loss: 0.0245 - accuracy: 0.9747 - val_loss: 0.0645 - val_accuracy: 0.8782\n",
            "Epoch 1/4\n",
            "2031/2031 [==============================] - 30s 15ms/step - loss: 0.0224 - accuracy: 0.9799 - val_loss: 0.0655 - val_accuracy: 0.8769\n",
            "Epoch 2/4\n",
            "2031/2031 [==============================] - 30s 15ms/step - loss: 0.0203 - accuracy: 0.9837 - val_loss: 0.0731 - val_accuracy: 0.8614\n",
            "Epoch 3/4\n",
            "2031/2031 [==============================] - 30s 15ms/step - loss: 0.0190 - accuracy: 0.9862 - val_loss: 0.0714 - val_accuracy: 0.8666\n",
            "Epoch 4/4\n",
            "2031/2031 [==============================] - 30s 15ms/step - loss: 0.0172 - accuracy: 0.9892 - val_loss: 0.0721 - val_accuracy: 0.8632\n",
            "Epoch 1/4\n",
            "2031/2031 [==============================] - 31s 15ms/step - loss: 0.0167 - accuracy: 0.9894 - val_loss: 0.0717 - val_accuracy: 0.8636\n",
            "Epoch 2/4\n",
            "2031/2031 [==============================] - 30s 15ms/step - loss: 0.0161 - accuracy: 0.9908 - val_loss: 0.0744 - val_accuracy: 0.8609\n",
            "Epoch 3/4\n",
            "2031/2031 [==============================] - 30s 15ms/step - loss: 0.0155 - accuracy: 0.9919 - val_loss: 0.0737 - val_accuracy: 0.8649\n",
            "Epoch 4/4\n",
            "2031/2031 [==============================] - 31s 15ms/step - loss: 0.0149 - accuracy: 0.9921 - val_loss: 0.0728 - val_accuracy: 0.8686\n",
            "Epoch 1/4\n",
            "2031/2031 [==============================] - 31s 15ms/step - loss: 0.0144 - accuracy: 0.9935 - val_loss: 0.0716 - val_accuracy: 0.8696\n",
            "Epoch 2/4\n",
            "2031/2031 [==============================] - 31s 15ms/step - loss: 0.0141 - accuracy: 0.9938 - val_loss: 0.0758 - val_accuracy: 0.8609\n",
            "Epoch 3/4\n",
            "2031/2031 [==============================] - 30s 15ms/step - loss: 0.0142 - accuracy: 0.9933 - val_loss: 0.0750 - val_accuracy: 0.8592\n",
            "Epoch 4/4\n",
            "2031/2031 [==============================] - 30s 15ms/step - loss: 0.0134 - accuracy: 0.9945 - val_loss: 0.0724 - val_accuracy: 0.8644\n"
          ]
        },
        {
          "name": "stderr",
          "output_type": "stream",
          "text": [
            "\u001b[32m[I 2022-04-16 01:21:25,918]\u001b[0m Trial 0 finished with value: 0.8706374526023865 and parameters: {'epochs': 4, 'batch_size': 18, 'embedding_dim': 62, 'units': 159, 'dropout': 0.5, 'n_neurons': 66}. Best is trial 0 with value: 0.8706374526023865.\u001b[0m\n"
          ]
        },
        {
          "name": "stdout",
          "output_type": "stream",
          "text": [
            "{'epochs': 3, 'batch_size': 55, 'embedding_dim': 35, 'units': 271, 'dropout': 0.30000000000000004, 'n_neurons': 41}\n",
            "Epoch 1/3\n",
            "665/665 [==============================] - 20s 23ms/step - loss: 0.1357 - accuracy: 0.7200 - val_loss: 0.0696 - val_accuracy: 0.8728\n",
            "Epoch 2/3\n",
            "665/665 [==============================] - 14s 21ms/step - loss: 0.0669 - accuracy: 0.8978 - val_loss: 0.0641 - val_accuracy: 0.8809\n",
            "Epoch 3/3\n",
            "665/665 [==============================] - 14s 22ms/step - loss: 0.0465 - accuracy: 0.9394 - val_loss: 0.0618 - val_accuracy: 0.8806\n",
            "Epoch 1/3\n",
            "665/665 [==============================] - 14s 22ms/step - loss: 0.0366 - accuracy: 0.9567 - val_loss: 0.0647 - val_accuracy: 0.8764\n",
            "Epoch 2/3\n",
            "665/665 [==============================] - 14s 22ms/step - loss: 0.0309 - accuracy: 0.9661 - val_loss: 0.0614 - val_accuracy: 0.8853\n",
            "Epoch 3/3\n",
            "665/665 [==============================] - 14s 22ms/step - loss: 0.0279 - accuracy: 0.9697 - val_loss: 0.0614 - val_accuracy: 0.8801\n",
            "Epoch 1/3\n",
            "665/665 [==============================] - 14s 22ms/step - loss: 0.0264 - accuracy: 0.9712 - val_loss: 0.0633 - val_accuracy: 0.8806\n",
            "Epoch 2/3\n",
            "665/665 [==============================] - 14s 22ms/step - loss: 0.0245 - accuracy: 0.9737 - val_loss: 0.0650 - val_accuracy: 0.8747\n",
            "Epoch 3/3\n",
            "665/665 [==============================] - 14s 21ms/step - loss: 0.0229 - accuracy: 0.9758 - val_loss: 0.0674 - val_accuracy: 0.8713\n",
            "Epoch 1/3\n",
            "665/665 [==============================] - 14s 22ms/step - loss: 0.0218 - accuracy: 0.9779 - val_loss: 0.0683 - val_accuracy: 0.8718\n",
            "Epoch 2/3\n",
            "665/665 [==============================] - 14s 21ms/step - loss: 0.0203 - accuracy: 0.9801 - val_loss: 0.0707 - val_accuracy: 0.8661\n",
            "Epoch 3/3\n",
            "665/665 [==============================] - 14s 21ms/step - loss: 0.0182 - accuracy: 0.9842 - val_loss: 0.0718 - val_accuracy: 0.8629\n",
            "Epoch 1/3\n",
            "665/665 [==============================] - 14s 22ms/step - loss: 0.0171 - accuracy: 0.9860 - val_loss: 0.0695 - val_accuracy: 0.8693\n",
            "Epoch 2/3\n",
            "665/665 [==============================] - 14s 22ms/step - loss: 0.0153 - accuracy: 0.9890 - val_loss: 0.0715 - val_accuracy: 0.8686\n",
            "Epoch 3/3\n",
            "665/665 [==============================] - 14s 21ms/step - loss: 0.0144 - accuracy: 0.9913 - val_loss: 0.0707 - val_accuracy: 0.8644\n"
          ]
        },
        {
          "name": "stderr",
          "output_type": "stream",
          "text": [
            "\u001b[32m[I 2022-04-16 01:25:09,626]\u001b[0m Trial 1 finished with value: 0.8718680739402771 and parameters: {'epochs': 3, 'batch_size': 55, 'embedding_dim': 35, 'units': 271, 'dropout': 0.30000000000000004, 'n_neurons': 41}. Best is trial 1 with value: 0.8718680739402771.\u001b[0m\n"
          ]
        },
        {
          "name": "stdout",
          "output_type": "stream",
          "text": [
            "{'epochs': 2, 'batch_size': 41, 'embedding_dim': 30, 'units': 162, 'dropout': 0.5, 'n_neurons': 113}\n",
            "Epoch 1/2\n",
            "892/892 [==============================] - 20s 18ms/step - loss: 0.1354 - accuracy: 0.7189 - val_loss: 0.0730 - val_accuracy: 0.8671\n",
            "Epoch 2/2\n",
            "892/892 [==============================] - 14s 16ms/step - loss: 0.0669 - accuracy: 0.8954 - val_loss: 0.0622 - val_accuracy: 0.8806\n",
            "Epoch 1/2\n",
            "892/892 [==============================] - 14s 16ms/step - loss: 0.0457 - accuracy: 0.9391 - val_loss: 0.0624 - val_accuracy: 0.8814\n",
            "Epoch 2/2\n",
            "892/892 [==============================] - 14s 16ms/step - loss: 0.0351 - accuracy: 0.9560 - val_loss: 0.0661 - val_accuracy: 0.8725\n",
            "Epoch 1/2\n",
            "892/892 [==============================] - 14s 16ms/step - loss: 0.0295 - accuracy: 0.9654 - val_loss: 0.0631 - val_accuracy: 0.8789\n",
            "Epoch 2/2\n",
            "892/892 [==============================] - 14s 16ms/step - loss: 0.0269 - accuracy: 0.9686 - val_loss: 0.0663 - val_accuracy: 0.8715\n",
            "Epoch 1/2\n",
            "892/892 [==============================] - 14s 16ms/step - loss: 0.0251 - accuracy: 0.9711 - val_loss: 0.0680 - val_accuracy: 0.8659\n",
            "Epoch 2/2\n",
            "892/892 [==============================] - 14s 16ms/step - loss: 0.0239 - accuracy: 0.9725 - val_loss: 0.0718 - val_accuracy: 0.8644\n",
            "Epoch 1/2\n",
            "892/892 [==============================] - 14s 16ms/step - loss: 0.0219 - accuracy: 0.9748 - val_loss: 0.0678 - val_accuracy: 0.8683\n",
            "Epoch 2/2\n",
            "892/892 [==============================] - 14s 16ms/step - loss: 0.0205 - accuracy: 0.9770 - val_loss: 0.0677 - val_accuracy: 0.8708\n"
          ]
        },
        {
          "name": "stderr",
          "output_type": "stream",
          "text": [
            "\u001b[32m[I 2022-04-16 01:27:52,954]\u001b[0m Trial 2 finished with value: 0.8719665169715881 and parameters: {'epochs': 2, 'batch_size': 41, 'embedding_dim': 30, 'units': 162, 'dropout': 0.5, 'n_neurons': 113}. Best is trial 2 with value: 0.8719665169715881.\u001b[0m\n"
          ]
        },
        {
          "name": "stdout",
          "output_type": "stream",
          "text": [
            "{'epochs': 2, 'batch_size': 16, 'embedding_dim': 9, 'units': 474, 'dropout': 0.4, 'n_neurons': 108}\n",
            "Epoch 1/2\n",
            "2285/2285 [==============================] - 58s 23ms/step - loss: 0.1244 - accuracy: 0.7470 - val_loss: 0.0739 - val_accuracy: 0.8632\n",
            "Epoch 2/2\n",
            "2285/2285 [==============================] - 52s 23ms/step - loss: 0.0676 - accuracy: 0.8891 - val_loss: 0.0615 - val_accuracy: 0.8860\n",
            "Epoch 1/2\n",
            "2285/2285 [==============================] - 52s 23ms/step - loss: 0.0479 - accuracy: 0.9287 - val_loss: 0.0599 - val_accuracy: 0.8836\n",
            "Epoch 2/2\n",
            "2285/2285 [==============================] - 52s 23ms/step - loss: 0.0383 - accuracy: 0.9473 - val_loss: 0.0605 - val_accuracy: 0.8860\n",
            "Epoch 1/2\n",
            "2285/2285 [==============================] - 52s 23ms/step - loss: 0.0326 - accuracy: 0.9597 - val_loss: 0.0658 - val_accuracy: 0.8745\n",
            "Epoch 2/2\n",
            "2285/2285 [==============================] - 53s 23ms/step - loss: 0.0292 - accuracy: 0.9650 - val_loss: 0.0649 - val_accuracy: 0.8732\n",
            "Epoch 1/2\n",
            "2285/2285 [==============================] - 53s 23ms/step - loss: 0.0269 - accuracy: 0.9687 - val_loss: 0.0617 - val_accuracy: 0.8779\n",
            "Epoch 2/2\n",
            "2285/2285 [==============================] - 52s 23ms/step - loss: 0.0245 - accuracy: 0.9715 - val_loss: 0.0618 - val_accuracy: 0.8801\n",
            "Epoch 1/2\n",
            "2285/2285 [==============================] - 52s 23ms/step - loss: 0.0230 - accuracy: 0.9725 - val_loss: 0.0629 - val_accuracy: 0.8809\n",
            "Epoch 2/2\n",
            "2285/2285 [==============================] - 52s 23ms/step - loss: 0.0217 - accuracy: 0.9748 - val_loss: 0.0612 - val_accuracy: 0.8848\n"
          ]
        },
        {
          "name": "stderr",
          "output_type": "stream",
          "text": [
            "\u001b[32m[I 2022-04-16 01:37:22,952]\u001b[0m Trial 3 finished with value: 0.8820575952529908 and parameters: {'epochs': 2, 'batch_size': 16, 'embedding_dim': 9, 'units': 474, 'dropout': 0.4, 'n_neurons': 108}. Best is trial 3 with value: 0.8820575952529908.\u001b[0m\n"
          ]
        },
        {
          "name": "stdout",
          "output_type": "stream",
          "text": [
            "{'epochs': 3, 'batch_size': 58, 'embedding_dim': 18, 'units': 492, 'dropout': 0.30000000000000004, 'n_neurons': 54}\n",
            "Epoch 1/3\n",
            "631/631 [==============================] - 23s 30ms/step - loss: 0.1374 - accuracy: 0.7135 - val_loss: 0.0734 - val_accuracy: 0.8730\n",
            "Epoch 2/3\n",
            "631/631 [==============================] - 18s 28ms/step - loss: 0.0678 - accuracy: 0.8953 - val_loss: 0.0620 - val_accuracy: 0.8856\n",
            "Epoch 3/3\n",
            "631/631 [==============================] - 18s 28ms/step - loss: 0.0468 - accuracy: 0.9377 - val_loss: 0.0672 - val_accuracy: 0.8723\n",
            "Epoch 1/3\n",
            "631/631 [==============================] - 18s 28ms/step - loss: 0.0363 - accuracy: 0.9572 - val_loss: 0.0639 - val_accuracy: 0.8782\n",
            "Epoch 2/3\n",
            "631/631 [==============================] - 18s 28ms/step - loss: 0.0311 - accuracy: 0.9642 - val_loss: 0.0638 - val_accuracy: 0.8720\n",
            "Epoch 3/3\n",
            "631/631 [==============================] - 18s 28ms/step - loss: 0.0275 - accuracy: 0.9696 - val_loss: 0.0667 - val_accuracy: 0.8688\n",
            "Epoch 1/3\n",
            "631/631 [==============================] - 18s 28ms/step - loss: 0.0258 - accuracy: 0.9728 - val_loss: 0.0664 - val_accuracy: 0.8698\n",
            "Epoch 2/3\n",
            "631/631 [==============================] - 18s 28ms/step - loss: 0.0242 - accuracy: 0.9736 - val_loss: 0.0683 - val_accuracy: 0.8666\n",
            "Epoch 3/3\n",
            "631/631 [==============================] - 18s 28ms/step - loss: 0.0232 - accuracy: 0.9752 - val_loss: 0.0696 - val_accuracy: 0.8681\n",
            "Epoch 1/3\n",
            "631/631 [==============================] - 18s 28ms/step - loss: 0.0221 - accuracy: 0.9762 - val_loss: 0.0700 - val_accuracy: 0.8646\n",
            "Epoch 2/3\n",
            "631/631 [==============================] - 18s 28ms/step - loss: 0.0209 - accuracy: 0.9795 - val_loss: 0.0690 - val_accuracy: 0.8681\n",
            "Epoch 3/3\n",
            "631/631 [==============================] - 18s 28ms/step - loss: 0.0190 - accuracy: 0.9825 - val_loss: 0.0732 - val_accuracy: 0.8612\n",
            "Epoch 1/3\n",
            "631/631 [==============================] - 18s 28ms/step - loss: 0.0176 - accuracy: 0.9850 - val_loss: 0.0721 - val_accuracy: 0.8634\n",
            "Epoch 2/3\n",
            "631/631 [==============================] - 18s 28ms/step - loss: 0.0159 - accuracy: 0.9880 - val_loss: 0.0727 - val_accuracy: 0.8634\n",
            "Epoch 3/3\n",
            "631/631 [==============================] - 18s 28ms/step - loss: 0.0152 - accuracy: 0.9896 - val_loss: 0.0755 - val_accuracy: 0.8577\n"
          ]
        },
        {
          "name": "stderr",
          "output_type": "stream",
          "text": [
            "\u001b[32m[I 2022-04-16 01:42:00,813]\u001b[0m Trial 4 finished with value: 0.8656165361404419 and parameters: {'epochs': 3, 'batch_size': 58, 'embedding_dim': 18, 'units': 492, 'dropout': 0.30000000000000004, 'n_neurons': 54}. Best is trial 3 with value: 0.8820575952529908.\u001b[0m\n"
          ]
        },
        {
          "name": "stdout",
          "output_type": "stream",
          "text": [
            "{'epochs': 4, 'batch_size': 34, 'embedding_dim': 57, 'units': 235, 'dropout': 0.5, 'n_neurons': 76}\n",
            "Epoch 1/4\n",
            "1076/1076 [==============================] - 26s 19ms/step - loss: 0.1319 - accuracy: 0.7325 - val_loss: 0.0715 - val_accuracy: 0.8737\n",
            "Epoch 2/4\n",
            "1076/1076 [==============================] - 20s 19ms/step - loss: 0.0677 - accuracy: 0.8956 - val_loss: 0.0623 - val_accuracy: 0.8811\n",
            "Epoch 3/4\n",
            "1076/1076 [==============================] - 20s 19ms/step - loss: 0.0468 - accuracy: 0.9383 - val_loss: 0.0610 - val_accuracy: 0.8851\n",
            "Epoch 4/4\n",
            "1076/1076 [==============================] - 20s 19ms/step - loss: 0.0360 - accuracy: 0.9575 - val_loss: 0.0629 - val_accuracy: 0.8787\n",
            "Epoch 1/4\n",
            "1076/1076 [==============================] - 20s 19ms/step - loss: 0.0326 - accuracy: 0.9641 - val_loss: 0.0654 - val_accuracy: 0.8772\n",
            "Epoch 2/4\n",
            "1076/1076 [==============================] - 20s 19ms/step - loss: 0.0291 - accuracy: 0.9692 - val_loss: 0.0652 - val_accuracy: 0.8762\n",
            "Epoch 3/4\n",
            "1076/1076 [==============================] - 20s 19ms/step - loss: 0.0302 - accuracy: 0.9673 - val_loss: 0.0695 - val_accuracy: 0.8683\n",
            "Epoch 4/4\n",
            "1076/1076 [==============================] - 20s 19ms/step - loss: 0.0280 - accuracy: 0.9697 - val_loss: 0.0685 - val_accuracy: 0.8688\n",
            "Epoch 1/4\n",
            "1076/1076 [==============================] - 20s 19ms/step - loss: 0.0251 - accuracy: 0.9727 - val_loss: 0.0692 - val_accuracy: 0.8715\n",
            "Epoch 2/4\n",
            "1076/1076 [==============================] - 20s 19ms/step - loss: 0.0230 - accuracy: 0.9770 - val_loss: 0.0667 - val_accuracy: 0.8757\n",
            "Epoch 3/4\n",
            "1076/1076 [==============================] - 20s 19ms/step - loss: 0.0211 - accuracy: 0.9801 - val_loss: 0.0718 - val_accuracy: 0.8604\n",
            "Epoch 4/4\n",
            "1076/1076 [==============================] - 20s 19ms/step - loss: 0.0193 - accuracy: 0.9834 - val_loss: 0.0701 - val_accuracy: 0.8651\n",
            "Epoch 1/4\n",
            "1076/1076 [==============================] - 20s 19ms/step - loss: 0.0175 - accuracy: 0.9876 - val_loss: 0.0711 - val_accuracy: 0.8585\n",
            "Epoch 2/4\n",
            "1076/1076 [==============================] - 20s 19ms/step - loss: 0.0164 - accuracy: 0.9898 - val_loss: 0.0679 - val_accuracy: 0.8730\n",
            "Epoch 3/4\n",
            "1076/1076 [==============================] - 20s 19ms/step - loss: 0.0152 - accuracy: 0.9911 - val_loss: 0.0685 - val_accuracy: 0.8705\n",
            "Epoch 4/4\n",
            "1076/1076 [==============================] - 20s 19ms/step - loss: 0.0144 - accuracy: 0.9925 - val_loss: 0.0708 - val_accuracy: 0.8671\n",
            "Epoch 1/4\n",
            "1076/1076 [==============================] - 20s 19ms/step - loss: 0.0140 - accuracy: 0.9929 - val_loss: 0.0714 - val_accuracy: 0.8723\n",
            "Epoch 2/4\n",
            "1076/1076 [==============================] - 20s 19ms/step - loss: 0.0131 - accuracy: 0.9950 - val_loss: 0.0731 - val_accuracy: 0.8671\n",
            "Epoch 3/4\n",
            "1076/1076 [==============================] - 20s 19ms/step - loss: 0.0134 - accuracy: 0.9941 - val_loss: 0.0751 - val_accuracy: 0.8700\n",
            "Epoch 4/4\n",
            "1076/1076 [==============================] - 20s 19ms/step - loss: 0.0130 - accuracy: 0.9948 - val_loss: 0.0725 - val_accuracy: 0.8676\n"
          ]
        },
        {
          "name": "stderr",
          "output_type": "stream",
          "text": [
            "\u001b[32m[I 2022-04-16 01:48:50,399]\u001b[0m Trial 5 finished with value: 0.8694560647010803 and parameters: {'epochs': 4, 'batch_size': 34, 'embedding_dim': 57, 'units': 235, 'dropout': 0.5, 'n_neurons': 76}. Best is trial 3 with value: 0.8820575952529908.\u001b[0m\n"
          ]
        },
        {
          "name": "stdout",
          "output_type": "stream",
          "text": [
            "{'epochs': 2, 'batch_size': 22, 'embedding_dim': 20, 'units': 352, 'dropout': 0.4, 'n_neurons': 48}\n",
            "Epoch 1/2\n",
            "1662/1662 [==============================] - 33s 18ms/step - loss: 0.1296 - accuracy: 0.7453 - val_loss: 0.0787 - val_accuracy: 0.8595\n",
            "Epoch 2/2\n",
            "1662/1662 [==============================] - 28s 17ms/step - loss: 0.0700 - accuracy: 0.8926 - val_loss: 0.0624 - val_accuracy: 0.8806\n",
            "Epoch 1/2\n",
            "1662/1662 [==============================] - 28s 17ms/step - loss: 0.0518 - accuracy: 0.9297 - val_loss: 0.0633 - val_accuracy: 0.8725\n",
            "Epoch 2/2\n",
            "1662/1662 [==============================] - 28s 17ms/step - loss: 0.0393 - accuracy: 0.9544 - val_loss: 0.0639 - val_accuracy: 0.8755\n",
            "Epoch 1/2\n",
            "1662/1662 [==============================] - 29s 17ms/step - loss: 0.0350 - accuracy: 0.9618 - val_loss: 0.0613 - val_accuracy: 0.8826\n",
            "Epoch 2/2\n",
            "1662/1662 [==============================] - 28s 17ms/step - loss: 0.0314 - accuracy: 0.9681 - val_loss: 0.0648 - val_accuracy: 0.8801\n",
            "Epoch 1/2\n",
            "1662/1662 [==============================] - 28s 17ms/step - loss: 0.0292 - accuracy: 0.9706 - val_loss: 0.0637 - val_accuracy: 0.8794\n",
            "Epoch 2/2\n",
            "1662/1662 [==============================] - 28s 17ms/step - loss: 0.0277 - accuracy: 0.9729 - val_loss: 0.0648 - val_accuracy: 0.8777\n",
            "Epoch 1/2\n",
            "1662/1662 [==============================] - 29s 17ms/step - loss: 0.0258 - accuracy: 0.9760 - val_loss: 0.0635 - val_accuracy: 0.8799\n",
            "Epoch 2/2\n",
            "1662/1662 [==============================] - 29s 17ms/step - loss: 0.0240 - accuracy: 0.9792 - val_loss: 0.0653 - val_accuracy: 0.8784\n"
          ]
        },
        {
          "name": "stderr",
          "output_type": "stream",
          "text": [
            "\u001b[32m[I 2022-04-16 01:54:08,236]\u001b[0m Trial 6 finished with value: 0.8784641861915589 and parameters: {'epochs': 2, 'batch_size': 22, 'embedding_dim': 20, 'units': 352, 'dropout': 0.4, 'n_neurons': 48}. Best is trial 3 with value: 0.8820575952529908.\u001b[0m\n"
          ]
        },
        {
          "name": "stdout",
          "output_type": "stream",
          "text": [
            "{'epochs': 2, 'batch_size': 47, 'embedding_dim': 15, 'units': 146, 'dropout': 0.4, 'n_neurons': 33}\n",
            "Epoch 1/2\n",
            "778/778 [==============================] - 17s 16ms/step - loss: 0.1488 - accuracy: 0.6899 - val_loss: 0.0827 - val_accuracy: 0.8499\n",
            "Epoch 2/2\n",
            "778/778 [==============================] - 12s 15ms/step - loss: 0.0769 - accuracy: 0.8862 - val_loss: 0.0703 - val_accuracy: 0.8777\n",
            "Epoch 1/2\n",
            "778/778 [==============================] - 12s 15ms/step - loss: 0.0555 - accuracy: 0.9305 - val_loss: 0.0652 - val_accuracy: 0.8762\n",
            "Epoch 2/2\n",
            "778/778 [==============================] - 12s 15ms/step - loss: 0.0446 - accuracy: 0.9504 - val_loss: 0.0658 - val_accuracy: 0.8728\n",
            "Epoch 1/2\n",
            "778/778 [==============================] - 12s 15ms/step - loss: 0.0388 - accuracy: 0.9605 - val_loss: 0.0685 - val_accuracy: 0.8693\n",
            "Epoch 2/2\n",
            "778/778 [==============================] - 12s 15ms/step - loss: 0.0362 - accuracy: 0.9637 - val_loss: 0.0657 - val_accuracy: 0.8728\n",
            "Epoch 1/2\n",
            "778/778 [==============================] - 12s 15ms/step - loss: 0.0342 - accuracy: 0.9664 - val_loss: 0.0703 - val_accuracy: 0.8644\n",
            "Epoch 2/2\n",
            "778/778 [==============================] - 12s 15ms/step - loss: 0.0328 - accuracy: 0.9693 - val_loss: 0.0711 - val_accuracy: 0.8632\n",
            "Epoch 1/2\n",
            "778/778 [==============================] - 12s 15ms/step - loss: 0.0316 - accuracy: 0.9703 - val_loss: 0.0736 - val_accuracy: 0.8563\n",
            "Epoch 2/2\n",
            "778/778 [==============================] - 12s 15ms/step - loss: 0.0307 - accuracy: 0.9726 - val_loss: 0.0689 - val_accuracy: 0.8678\n"
          ]
        },
        {
          "name": "stderr",
          "output_type": "stream",
          "text": [
            "\u001b[32m[I 2022-04-16 01:56:13,225]\u001b[0m Trial 7 finished with value: 0.8708343505859375 and parameters: {'epochs': 2, 'batch_size': 47, 'embedding_dim': 15, 'units': 146, 'dropout': 0.4, 'n_neurons': 33}. Best is trial 3 with value: 0.8820575952529908.\u001b[0m\n"
          ]
        },
        {
          "name": "stdout",
          "output_type": "stream",
          "text": [
            "{'epochs': 4, 'batch_size': 32, 'embedding_dim': 8, 'units': 480, 'dropout': 0.4, 'n_neurons': 82}\n",
            "Epoch 1/4\n",
            "1143/1143 [==============================] - 33s 25ms/step - loss: 0.1393 - accuracy: 0.7113 - val_loss: 0.0756 - val_accuracy: 0.8636\n",
            "Epoch 2/4\n",
            "1143/1143 [==============================] - 27s 24ms/step - loss: 0.0710 - accuracy: 0.8886 - val_loss: 0.0642 - val_accuracy: 0.8843\n",
            "Epoch 3/4\n",
            "1143/1143 [==============================] - 27s 24ms/step - loss: 0.0501 - accuracy: 0.9308 - val_loss: 0.0654 - val_accuracy: 0.8772\n",
            "Epoch 4/4\n",
            "1143/1143 [==============================] - 27s 24ms/step - loss: 0.0395 - accuracy: 0.9505 - val_loss: 0.0671 - val_accuracy: 0.8710\n",
            "Epoch 1/4\n",
            "1143/1143 [==============================] - 27s 24ms/step - loss: 0.0336 - accuracy: 0.9605 - val_loss: 0.0657 - val_accuracy: 0.8784\n",
            "Epoch 2/4\n",
            "1143/1143 [==============================] - 27s 24ms/step - loss: 0.0297 - accuracy: 0.9671 - val_loss: 0.0656 - val_accuracy: 0.8693\n",
            "Epoch 3/4\n",
            "1143/1143 [==============================] - 27s 24ms/step - loss: 0.0446 - accuracy: 0.9528 - val_loss: 0.0784 - val_accuracy: 0.8543\n",
            "Epoch 4/4\n",
            "1143/1143 [==============================] - 27s 24ms/step - loss: 0.0414 - accuracy: 0.9564 - val_loss: 0.0681 - val_accuracy: 0.8710\n",
            "Epoch 1/4\n",
            "1143/1143 [==============================] - 28s 24ms/step - loss: 0.0300 - accuracy: 0.9682 - val_loss: 0.0688 - val_accuracy: 0.8693\n",
            "Epoch 2/4\n",
            "1143/1143 [==============================] - 27s 24ms/step - loss: 0.0266 - accuracy: 0.9713 - val_loss: 0.0744 - val_accuracy: 0.8560\n",
            "Epoch 3/4\n",
            "1143/1143 [==============================] - 27s 24ms/step - loss: 0.0249 - accuracy: 0.9732 - val_loss: 0.0697 - val_accuracy: 0.8693\n",
            "Epoch 4/4\n",
            "1143/1143 [==============================] - 27s 24ms/step - loss: 0.0233 - accuracy: 0.9746 - val_loss: 0.0710 - val_accuracy: 0.8654\n",
            "Epoch 1/4\n",
            "1143/1143 [==============================] - 27s 24ms/step - loss: 0.0227 - accuracy: 0.9753 - val_loss: 0.0724 - val_accuracy: 0.8646\n",
            "Epoch 2/4\n",
            "1143/1143 [==============================] - 27s 24ms/step - loss: 0.0207 - accuracy: 0.9786 - val_loss: 0.0737 - val_accuracy: 0.8582\n",
            "Epoch 3/4\n",
            "1143/1143 [==============================] - 27s 24ms/step - loss: 0.0200 - accuracy: 0.9799 - val_loss: 0.0750 - val_accuracy: 0.8570\n",
            "Epoch 4/4\n",
            "1143/1143 [==============================] - 27s 24ms/step - loss: 0.0188 - accuracy: 0.9826 - val_loss: 0.0766 - val_accuracy: 0.8587\n",
            "Epoch 1/4\n",
            "1143/1143 [==============================] - 28s 24ms/step - loss: 0.0178 - accuracy: 0.9847 - val_loss: 0.0728 - val_accuracy: 0.8575\n",
            "Epoch 2/4\n",
            "1143/1143 [==============================] - 27s 24ms/step - loss: 0.0168 - accuracy: 0.9864 - val_loss: 0.0790 - val_accuracy: 0.8501\n",
            "Epoch 3/4\n",
            "1143/1143 [==============================] - 27s 24ms/step - loss: 0.0162 - accuracy: 0.9876 - val_loss: 0.0722 - val_accuracy: 0.8612\n",
            "Epoch 4/4\n",
            "1143/1143 [==============================] - 27s 24ms/step - loss: 0.0157 - accuracy: 0.9883 - val_loss: 0.0767 - val_accuracy: 0.8602\n"
          ]
        },
        {
          "name": "stderr",
          "output_type": "stream",
          "text": [
            "\u001b[32m[I 2022-04-16 02:06:35,843]\u001b[0m Trial 8 finished with value: 0.8652719736099244 and parameters: {'epochs': 4, 'batch_size': 32, 'embedding_dim': 8, 'units': 480, 'dropout': 0.4, 'n_neurons': 82}. Best is trial 3 with value: 0.8820575952529908.\u001b[0m\n"
          ]
        },
        {
          "name": "stdout",
          "output_type": "stream",
          "text": [
            "{'epochs': 4, 'batch_size': 34, 'embedding_dim': 34, 'units': 219, 'dropout': 0.2, 'n_neurons': 54}\n",
            "Epoch 1/4\n",
            "1076/1076 [==============================] - 24s 19ms/step - loss: 0.1179 - accuracy: 0.7599 - val_loss: 0.0665 - val_accuracy: 0.8779\n",
            "Epoch 2/4\n",
            "1076/1076 [==============================] - 19s 18ms/step - loss: 0.0569 - accuracy: 0.9074 - val_loss: 0.0632 - val_accuracy: 0.8848\n",
            "Epoch 3/4\n",
            "1076/1076 [==============================] - 19s 18ms/step - loss: 0.0380 - accuracy: 0.9453 - val_loss: 0.0624 - val_accuracy: 0.8816\n",
            "Epoch 4/4\n",
            "1076/1076 [==============================] - 19s 18ms/step - loss: 0.0290 - accuracy: 0.9620 - val_loss: 0.0646 - val_accuracy: 0.8767\n",
            "Epoch 1/4\n",
            "1076/1076 [==============================] - 19s 18ms/step - loss: 0.0246 - accuracy: 0.9682 - val_loss: 0.0620 - val_accuracy: 0.8814\n",
            "Epoch 2/4\n",
            "1076/1076 [==============================] - 19s 18ms/step - loss: 0.0222 - accuracy: 0.9709 - val_loss: 0.0626 - val_accuracy: 0.8819\n",
            "Epoch 3/4\n",
            "1076/1076 [==============================] - 19s 18ms/step - loss: 0.0203 - accuracy: 0.9748 - val_loss: 0.0643 - val_accuracy: 0.8760\n",
            "Epoch 4/4\n",
            "1076/1076 [==============================] - 19s 18ms/step - loss: 0.0180 - accuracy: 0.9796 - val_loss: 0.0639 - val_accuracy: 0.8789\n",
            "Epoch 1/4\n",
            "1076/1076 [==============================] - 19s 18ms/step - loss: 0.0160 - accuracy: 0.9827 - val_loss: 0.0649 - val_accuracy: 0.8767\n",
            "Epoch 2/4\n",
            "1076/1076 [==============================] - 19s 18ms/step - loss: 0.0142 - accuracy: 0.9860 - val_loss: 0.0639 - val_accuracy: 0.8801\n",
            "Epoch 3/4\n",
            "1076/1076 [==============================] - 19s 18ms/step - loss: 0.0132 - accuracy: 0.9879 - val_loss: 0.0686 - val_accuracy: 0.8728\n",
            "Epoch 4/4\n",
            "1076/1076 [==============================] - 19s 18ms/step - loss: 0.0123 - accuracy: 0.9900 - val_loss: 0.0698 - val_accuracy: 0.8668\n",
            "Epoch 1/4\n",
            "1076/1076 [==============================] - 19s 18ms/step - loss: 0.0112 - accuracy: 0.9918 - val_loss: 0.0719 - val_accuracy: 0.8673\n",
            "Epoch 2/4\n",
            "1076/1076 [==============================] - 19s 18ms/step - loss: 0.0102 - accuracy: 0.9934 - val_loss: 0.0694 - val_accuracy: 0.8676\n",
            "Epoch 3/4\n",
            "1076/1076 [==============================] - 19s 18ms/step - loss: 0.0098 - accuracy: 0.9940 - val_loss: 0.0708 - val_accuracy: 0.8676\n",
            "Epoch 4/4\n",
            "1076/1076 [==============================] - 19s 18ms/step - loss: 0.0095 - accuracy: 0.9946 - val_loss: 0.0709 - val_accuracy: 0.8654\n",
            "Epoch 1/4\n",
            "1076/1076 [==============================] - 19s 18ms/step - loss: 0.0087 - accuracy: 0.9955 - val_loss: 0.0705 - val_accuracy: 0.8686\n",
            "Epoch 2/4\n",
            "1076/1076 [==============================] - 19s 18ms/step - loss: 0.0083 - accuracy: 0.9956 - val_loss: 0.0731 - val_accuracy: 0.8627\n",
            "Epoch 3/4\n",
            "1076/1076 [==============================] - 19s 18ms/step - loss: 0.0085 - accuracy: 0.9955 - val_loss: 0.0738 - val_accuracy: 0.8639\n",
            "Epoch 4/4\n",
            "1076/1076 [==============================] - 19s 18ms/step - loss: 0.0080 - accuracy: 0.9963 - val_loss: 0.0751 - val_accuracy: 0.8641\n"
          ]
        },
        {
          "name": "stderr",
          "output_type": "stream",
          "text": [
            "\u001b[32m[I 2022-04-16 02:13:03,865]\u001b[0m Trial 9 finished with value: 0.87039133310318 and parameters: {'epochs': 4, 'batch_size': 34, 'embedding_dim': 34, 'units': 219, 'dropout': 0.2, 'n_neurons': 54}. Best is trial 3 with value: 0.8820575952529908.\u001b[0m\n"
          ]
        },
        {
          "name": "stdout",
          "output_type": "stream",
          "text": [
            "{'epochs': 2, 'batch_size': 27, 'embedding_dim': 50, 'units': 393, 'dropout': 0.1, 'n_neurons': 122}\n",
            "Epoch 1/2\n",
            "1354/1354 [==============================] - 40s 27ms/step - loss: 0.1058 - accuracy: 0.7826 - val_loss: 0.0643 - val_accuracy: 0.8814\n",
            "Epoch 2/2\n",
            "1354/1354 [==============================] - 35s 26ms/step - loss: 0.0492 - accuracy: 0.9158 - val_loss: 0.0584 - val_accuracy: 0.8905\n",
            "Epoch 1/2\n",
            "1354/1354 [==============================] - 35s 26ms/step - loss: 0.0302 - accuracy: 0.9523 - val_loss: 0.0604 - val_accuracy: 0.8878\n",
            "Epoch 2/2\n",
            "1354/1354 [==============================] - 35s 26ms/step - loss: 0.0227 - accuracy: 0.9661 - val_loss: 0.0603 - val_accuracy: 0.8868\n",
            "Epoch 1/2\n",
            "1354/1354 [==============================] - 35s 26ms/step - loss: 0.0186 - accuracy: 0.9712 - val_loss: 0.0627 - val_accuracy: 0.8787\n",
            "Epoch 2/2\n",
            "1354/1354 [==============================] - 35s 26ms/step - loss: 0.0163 - accuracy: 0.9749 - val_loss: 0.0626 - val_accuracy: 0.8851\n",
            "Epoch 1/2\n",
            "1354/1354 [==============================] - 35s 26ms/step - loss: 0.0134 - accuracy: 0.9812 - val_loss: 0.0690 - val_accuracy: 0.8688\n",
            "Epoch 2/2\n",
            "1354/1354 [==============================] - 35s 26ms/step - loss: 0.0104 - accuracy: 0.9874 - val_loss: 0.0644 - val_accuracy: 0.8838\n",
            "Epoch 1/2\n",
            "1354/1354 [==============================] - 35s 26ms/step - loss: 0.0085 - accuracy: 0.9911 - val_loss: 0.0681 - val_accuracy: 0.8799\n",
            "Epoch 2/2\n",
            "1354/1354 [==============================] - 35s 26ms/step - loss: 0.0071 - accuracy: 0.9932 - val_loss: 0.0682 - val_accuracy: 0.8740\n"
          ]
        },
        {
          "name": "stderr",
          "output_type": "stream",
          "text": [
            "\u001b[32m[I 2022-04-16 02:19:04,722]\u001b[0m Trial 10 finished with value: 0.8840265870094299 and parameters: {'epochs': 2, 'batch_size': 27, 'embedding_dim': 50, 'units': 393, 'dropout': 0.1, 'n_neurons': 122}. Best is trial 10 with value: 0.8840265870094299.\u001b[0m\n"
          ]
        },
        {
          "name": "stdout",
          "output_type": "stream",
          "text": [
            "{'epochs': 2, 'batch_size': 26, 'embedding_dim': 49, 'units': 401, 'dropout': 0.1, 'n_neurons': 128}\n",
            "Epoch 1/2\n",
            "1407/1407 [==============================] - 39s 25ms/step - loss: 0.1068 - accuracy: 0.7806 - val_loss: 0.0692 - val_accuracy: 0.8723\n",
            "Epoch 2/2\n",
            "1407/1407 [==============================] - 34s 24ms/step - loss: 0.0492 - accuracy: 0.9155 - val_loss: 0.0614 - val_accuracy: 0.8784\n",
            "Epoch 1/2\n",
            "1407/1407 [==============================] - 34s 24ms/step - loss: 0.0306 - accuracy: 0.9521 - val_loss: 0.0602 - val_accuracy: 0.8826\n",
            "Epoch 2/2\n",
            "1407/1407 [==============================] - 34s 24ms/step - loss: 0.0223 - accuracy: 0.9667 - val_loss: 0.0586 - val_accuracy: 0.8868\n",
            "Epoch 1/2\n",
            "1407/1407 [==============================] - 34s 24ms/step - loss: 0.0187 - accuracy: 0.9714 - val_loss: 0.0613 - val_accuracy: 0.8846\n",
            "Epoch 2/2\n",
            "1407/1407 [==============================] - 34s 24ms/step - loss: 0.0156 - accuracy: 0.9767 - val_loss: 0.0671 - val_accuracy: 0.8774\n",
            "Epoch 1/2\n",
            "1407/1407 [==============================] - 34s 24ms/step - loss: 0.0126 - accuracy: 0.9835 - val_loss: 0.0638 - val_accuracy: 0.8831\n",
            "Epoch 2/2\n",
            "1407/1407 [==============================] - 34s 24ms/step - loss: 0.0099 - accuracy: 0.9886 - val_loss: 0.0638 - val_accuracy: 0.8792\n",
            "Epoch 1/2\n",
            "1407/1407 [==============================] - 34s 24ms/step - loss: 0.0079 - accuracy: 0.9924 - val_loss: 0.0661 - val_accuracy: 0.8725\n",
            "Epoch 2/2\n",
            "1407/1407 [==============================] - 34s 24ms/step - loss: 0.0070 - accuracy: 0.9935 - val_loss: 0.0723 - val_accuracy: 0.8622\n"
          ]
        },
        {
          "name": "stderr",
          "output_type": "stream",
          "text": [
            "\u001b[32m[I 2022-04-16 02:25:03,887]\u001b[0m Trial 11 finished with value: 0.8767905592918396 and parameters: {'epochs': 2, 'batch_size': 26, 'embedding_dim': 49, 'units': 401, 'dropout': 0.1, 'n_neurons': 128}. Best is trial 10 with value: 0.8840265870094299.\u001b[0m\n"
          ]
        },
        {
          "name": "stdout",
          "output_type": "stream",
          "text": [
            "{'epochs': 3, 'batch_size': 16, 'embedding_dim': 47, 'units': 416, 'dropout': 0.1, 'n_neurons': 98}\n",
            "Epoch 1/3\n",
            "2285/2285 [==============================] - 48s 19ms/step - loss: 0.1073 - accuracy: 0.7835 - val_loss: 0.0697 - val_accuracy: 0.8673\n",
            "Epoch 2/3\n",
            "2285/2285 [==============================] - 42s 19ms/step - loss: 0.0508 - accuracy: 0.9129 - val_loss: 0.0645 - val_accuracy: 0.8774\n",
            "Epoch 3/3\n",
            "2285/2285 [==============================] - 43s 19ms/step - loss: 0.0320 - accuracy: 0.9500 - val_loss: 0.0605 - val_accuracy: 0.8895\n",
            "Epoch 1/3\n",
            "2285/2285 [==============================] - 43s 19ms/step - loss: 0.0237 - accuracy: 0.9652 - val_loss: 0.0571 - val_accuracy: 0.8932\n",
            "Epoch 2/3\n",
            "2285/2285 [==============================] - 43s 19ms/step - loss: 0.0197 - accuracy: 0.9702 - val_loss: 0.0611 - val_accuracy: 0.8863\n",
            "Epoch 3/3\n",
            "2285/2285 [==============================] - 43s 19ms/step - loss: 0.0170 - accuracy: 0.9738 - val_loss: 0.0635 - val_accuracy: 0.8828\n",
            "Epoch 1/3\n",
            "2285/2285 [==============================] - 43s 19ms/step - loss: 0.0142 - accuracy: 0.9796 - val_loss: 0.0643 - val_accuracy: 0.8782\n",
            "Epoch 2/3\n",
            "2285/2285 [==============================] - 43s 19ms/step - loss: 0.0117 - accuracy: 0.9846 - val_loss: 0.0722 - val_accuracy: 0.8629\n",
            "Epoch 3/3\n",
            "2285/2285 [==============================] - 43s 19ms/step - loss: 0.0093 - accuracy: 0.9889 - val_loss: 0.0665 - val_accuracy: 0.8762\n",
            "Epoch 1/3\n",
            "2285/2285 [==============================] - 43s 19ms/step - loss: 0.0075 - accuracy: 0.9932 - val_loss: 0.0656 - val_accuracy: 0.8784\n",
            "Epoch 2/3\n",
            "2285/2285 [==============================] - 43s 19ms/step - loss: 0.0070 - accuracy: 0.9935 - val_loss: 0.0717 - val_accuracy: 0.8696\n",
            "Epoch 3/3\n",
            "2285/2285 [==============================] - 43s 19ms/step - loss: 0.0064 - accuracy: 0.9946 - val_loss: 0.0692 - val_accuracy: 0.8745\n",
            "Epoch 1/3\n",
            "2285/2285 [==============================] - 43s 19ms/step - loss: 0.0055 - accuracy: 0.9958 - val_loss: 0.0668 - val_accuracy: 0.8752\n",
            "Epoch 2/3\n",
            "2285/2285 [==============================] - 43s 19ms/step - loss: 0.0051 - accuracy: 0.9963 - val_loss: 0.0696 - val_accuracy: 0.8678\n",
            "Epoch 3/3\n",
            "2285/2285 [==============================] - 43s 19ms/step - loss: 0.0049 - accuracy: 0.9968 - val_loss: 0.0680 - val_accuracy: 0.8728\n"
          ]
        },
        {
          "name": "stderr",
          "output_type": "stream",
          "text": [
            "\u001b[32m[I 2022-04-16 02:35:52,559]\u001b[0m Trial 12 finished with value: 0.8791533231735229 and parameters: {'epochs': 3, 'batch_size': 16, 'embedding_dim': 47, 'units': 416, 'dropout': 0.1, 'n_neurons': 98}. Best is trial 10 with value: 0.8840265870094299.\u001b[0m\n"
          ]
        },
        {
          "name": "stdout",
          "output_type": "stream",
          "text": [
            "{'epochs': 2, 'batch_size': 26, 'embedding_dim': 44, 'units': 424, 'dropout': 0.2, 'n_neurons': 126}\n",
            "Epoch 1/2\n",
            "1407/1407 [==============================] - 34s 21ms/step - loss: 0.1113 - accuracy: 0.7740 - val_loss: 0.0744 - val_accuracy: 0.8634\n",
            "Epoch 2/2\n",
            "1407/1407 [==============================] - 29s 20ms/step - loss: 0.0532 - accuracy: 0.9103 - val_loss: 0.0598 - val_accuracy: 0.8865\n",
            "Epoch 1/2\n",
            "1407/1407 [==============================] - 29s 21ms/step - loss: 0.0336 - accuracy: 0.9498 - val_loss: 0.0745 - val_accuracy: 0.8624\n",
            "Epoch 2/2\n",
            "1407/1407 [==============================] - 29s 21ms/step - loss: 0.0264 - accuracy: 0.9638 - val_loss: 0.0618 - val_accuracy: 0.8858\n",
            "Epoch 1/2\n",
            "1407/1407 [==============================] - 29s 20ms/step - loss: 0.0215 - accuracy: 0.9710 - val_loss: 0.0601 - val_accuracy: 0.8828\n",
            "Epoch 2/2\n",
            "1407/1407 [==============================] - 29s 20ms/step - loss: 0.0188 - accuracy: 0.9731 - val_loss: 0.0613 - val_accuracy: 0.8809\n",
            "Epoch 1/2\n",
            "1407/1407 [==============================] - 29s 20ms/step - loss: 0.0159 - accuracy: 0.9785 - val_loss: 0.0691 - val_accuracy: 0.8651\n",
            "Epoch 2/2\n",
            "1407/1407 [==============================] - 29s 20ms/step - loss: 0.0132 - accuracy: 0.9842 - val_loss: 0.0667 - val_accuracy: 0.8713\n",
            "Epoch 1/2\n",
            "1407/1407 [==============================] - 29s 20ms/step - loss: 0.0113 - accuracy: 0.9880 - val_loss: 0.0803 - val_accuracy: 0.8481\n",
            "Epoch 2/2\n",
            "1407/1407 [==============================] - 29s 20ms/step - loss: 0.0092 - accuracy: 0.9919 - val_loss: 0.0634 - val_accuracy: 0.8794\n"
          ]
        },
        {
          "name": "stderr",
          "output_type": "stream",
          "text": [
            "\u001b[32m[I 2022-04-16 02:40:49,914]\u001b[0m Trial 13 finished with value: 0.8807777523994446 and parameters: {'epochs': 2, 'batch_size': 26, 'embedding_dim': 44, 'units': 424, 'dropout': 0.2, 'n_neurons': 126}. Best is trial 10 with value: 0.8840265870094299.\u001b[0m\n"
          ]
        },
        {
          "name": "stdout",
          "output_type": "stream",
          "text": [
            "{'epochs': 2, 'batch_size': 25, 'embedding_dim': 26, 'units': 353, 'dropout': 0.2, 'n_neurons': 107}\n",
            "Epoch 1/2\n",
            "1463/1463 [==============================] - 39s 24ms/step - loss: 0.1164 - accuracy: 0.7597 - val_loss: 0.0680 - val_accuracy: 0.8772\n",
            "Epoch 2/2\n",
            "1463/1463 [==============================] - 34s 23ms/step - loss: 0.0562 - accuracy: 0.9068 - val_loss: 0.0605 - val_accuracy: 0.8878\n",
            "Epoch 1/2\n",
            "1463/1463 [==============================] - 34s 23ms/step - loss: 0.0366 - accuracy: 0.9459 - val_loss: 0.0645 - val_accuracy: 0.8740\n",
            "Epoch 2/2\n",
            "1463/1463 [==============================] - 34s 23ms/step - loss: 0.0281 - accuracy: 0.9609 - val_loss: 0.0597 - val_accuracy: 0.8888\n",
            "Epoch 1/2\n",
            "1463/1463 [==============================] - 34s 23ms/step - loss: 0.0234 - accuracy: 0.9677 - val_loss: 0.0692 - val_accuracy: 0.8720\n",
            "Epoch 2/2\n",
            "1463/1463 [==============================] - 34s 23ms/step - loss: 0.0205 - accuracy: 0.9709 - val_loss: 0.0618 - val_accuracy: 0.8819\n",
            "Epoch 1/2\n",
            "1463/1463 [==============================] - 34s 23ms/step - loss: 0.0181 - accuracy: 0.9755 - val_loss: 0.0652 - val_accuracy: 0.8806\n",
            "Epoch 2/2\n",
            "1463/1463 [==============================] - 34s 23ms/step - loss: 0.0165 - accuracy: 0.9791 - val_loss: 0.0627 - val_accuracy: 0.8796\n",
            "Epoch 1/2\n",
            "1463/1463 [==============================] - 34s 23ms/step - loss: 0.0141 - accuracy: 0.9831 - val_loss: 0.0656 - val_accuracy: 0.8796\n",
            "Epoch 2/2\n",
            "1463/1463 [==============================] - 34s 23ms/step - loss: 0.0140 - accuracy: 0.9848 - val_loss: 0.0639 - val_accuracy: 0.8799\n"
          ]
        },
        {
          "name": "stderr",
          "output_type": "stream",
          "text": [
            "\u001b[32m[I 2022-04-16 02:47:04,866]\u001b[0m Trial 14 finished with value: 0.8835835576057434 and parameters: {'epochs': 2, 'batch_size': 25, 'embedding_dim': 26, 'units': 353, 'dropout': 0.2, 'n_neurons': 107}. Best is trial 10 with value: 0.8840265870094299.\u001b[0m\n"
          ]
        },
        {
          "name": "stdout",
          "output_type": "stream",
          "text": [
            "{'epochs': 3, 'batch_size': 28, 'embedding_dim': 25, 'units': 348, 'dropout': 0.2, 'n_neurons': 102}\n",
            "Epoch 1/3\n",
            "1306/1306 [==============================] - 29s 19ms/step - loss: 0.1156 - accuracy: 0.7610 - val_loss: 0.0697 - val_accuracy: 0.8696\n",
            "Epoch 2/3\n",
            "1306/1306 [==============================] - 23s 18ms/step - loss: 0.0562 - accuracy: 0.9063 - val_loss: 0.0616 - val_accuracy: 0.8794\n",
            "Epoch 3/3\n",
            "1306/1306 [==============================] - 23s 18ms/step - loss: 0.0363 - accuracy: 0.9474 - val_loss: 0.0628 - val_accuracy: 0.8811\n",
            "Epoch 1/3\n",
            "1306/1306 [==============================] - 23s 18ms/step - loss: 0.0278 - accuracy: 0.9621 - val_loss: 0.0610 - val_accuracy: 0.8799\n",
            "Epoch 2/3\n",
            "1306/1306 [==============================] - 23s 18ms/step - loss: 0.0227 - accuracy: 0.9684 - val_loss: 0.0637 - val_accuracy: 0.8809\n",
            "Epoch 3/3\n",
            "1306/1306 [==============================] - 23s 18ms/step - loss: 0.0202 - accuracy: 0.9719 - val_loss: 0.0646 - val_accuracy: 0.8792\n",
            "Epoch 1/3\n",
            "1306/1306 [==============================] - 23s 18ms/step - loss: 0.0181 - accuracy: 0.9754 - val_loss: 0.0657 - val_accuracy: 0.8772\n",
            "Epoch 2/3\n",
            "1306/1306 [==============================] - 23s 18ms/step - loss: 0.0161 - accuracy: 0.9791 - val_loss: 0.0688 - val_accuracy: 0.8747\n",
            "Epoch 3/3\n",
            "1306/1306 [==============================] - 23s 18ms/step - loss: 0.0140 - accuracy: 0.9829 - val_loss: 0.0731 - val_accuracy: 0.8609\n",
            "Epoch 1/3\n",
            "1306/1306 [==============================] - 23s 18ms/step - loss: 0.0122 - accuracy: 0.9865 - val_loss: 0.0696 - val_accuracy: 0.8732\n",
            "Epoch 2/3\n",
            "1306/1306 [==============================] - 23s 18ms/step - loss: 0.0113 - accuracy: 0.9885 - val_loss: 0.0727 - val_accuracy: 0.8654\n",
            "Epoch 3/3\n",
            "1306/1306 [==============================] - 23s 18ms/step - loss: 0.0098 - accuracy: 0.9912 - val_loss: 0.0692 - val_accuracy: 0.8715\n",
            "Epoch 1/3\n",
            "1306/1306 [==============================] - 23s 18ms/step - loss: 0.0088 - accuracy: 0.9932 - val_loss: 0.0711 - val_accuracy: 0.8676\n",
            "Epoch 2/3\n",
            "1306/1306 [==============================] - 23s 18ms/step - loss: 0.0079 - accuracy: 0.9945 - val_loss: 0.0706 - val_accuracy: 0.8654\n",
            "Epoch 3/3\n",
            "1306/1306 [==============================] - 23s 18ms/step - loss: 0.0074 - accuracy: 0.9950 - val_loss: 0.0741 - val_accuracy: 0.8636\n"
          ]
        },
        {
          "name": "stderr",
          "output_type": "stream",
          "text": [
            "\u001b[32m[I 2022-04-16 02:53:04,283]\u001b[0m Trial 15 finished with value: 0.871277391910553 and parameters: {'epochs': 3, 'batch_size': 28, 'embedding_dim': 25, 'units': 348, 'dropout': 0.2, 'n_neurons': 102}. Best is trial 10 with value: 0.8840265870094299.\u001b[0m\n"
          ]
        },
        {
          "name": "stdout",
          "output_type": "stream",
          "text": [
            "{'epochs': 2, 'batch_size': 42, 'embedding_dim': 44, 'units': 308, 'dropout': 0.1, 'n_neurons': 93}\n",
            "Epoch 1/2\n",
            "871/871 [==============================] - 21s 19ms/step - loss: 0.1145 - accuracy: 0.7625 - val_loss: 0.0718 - val_accuracy: 0.8602\n",
            "Epoch 2/2\n",
            "871/871 [==============================] - 16s 18ms/step - loss: 0.0510 - accuracy: 0.9134 - val_loss: 0.0600 - val_accuracy: 0.8831\n",
            "Epoch 1/2\n",
            "871/871 [==============================] - 16s 18ms/step - loss: 0.0311 - accuracy: 0.9512 - val_loss: 0.0595 - val_accuracy: 0.8890\n",
            "Epoch 2/2\n",
            "871/871 [==============================] - 16s 18ms/step - loss: 0.0231 - accuracy: 0.9660 - val_loss: 0.0616 - val_accuracy: 0.8851\n",
            "Epoch 1/2\n",
            "871/871 [==============================] - 16s 18ms/step - loss: 0.0192 - accuracy: 0.9718 - val_loss: 0.0615 - val_accuracy: 0.8880\n",
            "Epoch 2/2\n",
            "871/871 [==============================] - 16s 18ms/step - loss: 0.0165 - accuracy: 0.9751 - val_loss: 0.0641 - val_accuracy: 0.8814\n",
            "Epoch 1/2\n",
            "871/871 [==============================] - 16s 18ms/step - loss: 0.0243 - accuracy: 0.9740 - val_loss: 0.0682 - val_accuracy: 0.8688\n",
            "Epoch 2/2\n",
            "871/871 [==============================] - 16s 18ms/step - loss: 0.0182 - accuracy: 0.9748 - val_loss: 0.0636 - val_accuracy: 0.8779\n",
            "Epoch 1/2\n",
            "871/871 [==============================] - 16s 18ms/step - loss: 0.0122 - accuracy: 0.9862 - val_loss: 0.0659 - val_accuracy: 0.8757\n",
            "Epoch 2/2\n",
            "871/871 [==============================] - 16s 18ms/step - loss: 0.0093 - accuracy: 0.9924 - val_loss: 0.0664 - val_accuracy: 0.8772\n"
          ]
        },
        {
          "name": "stderr",
          "output_type": "stream",
          "text": [
            "\u001b[32m[I 2022-04-16 02:55:50,926]\u001b[0m Trial 16 finished with value: 0.88092542886734 and parameters: {'epochs': 2, 'batch_size': 42, 'embedding_dim': 44, 'units': 308, 'dropout': 0.1, 'n_neurons': 93}. Best is trial 10 with value: 0.8840265870094299.\u001b[0m\n"
          ]
        },
        {
          "name": "stdout",
          "output_type": "stream",
          "text": [
            "{'epochs': 3, 'batch_size': 48, 'embedding_dim': 55, 'units': 373, 'dropout': 0.2, 'n_neurons': 118}\n",
            "Epoch 1/3\n",
            "762/762 [==============================] - 22s 23ms/step - loss: 0.1150 - accuracy: 0.7637 - val_loss: 0.0707 - val_accuracy: 0.8705\n",
            "Epoch 2/3\n",
            "762/762 [==============================] - 17s 22ms/step - loss: 0.0534 - accuracy: 0.9109 - val_loss: 0.0588 - val_accuracy: 0.8937\n",
            "Epoch 3/3\n",
            "762/762 [==============================] - 17s 22ms/step - loss: 0.0336 - accuracy: 0.9506 - val_loss: 0.0612 - val_accuracy: 0.8809\n",
            "Epoch 1/3\n",
            "762/762 [==============================] - 17s 22ms/step - loss: 0.0256 - accuracy: 0.9646 - val_loss: 0.0625 - val_accuracy: 0.8824\n",
            "Epoch 2/3\n",
            "762/762 [==============================] - 17s 22ms/step - loss: 0.0214 - accuracy: 0.9706 - val_loss: 0.0621 - val_accuracy: 0.8801\n",
            "Epoch 3/3\n",
            "762/762 [==============================] - 17s 22ms/step - loss: 0.0185 - accuracy: 0.9735 - val_loss: 0.0636 - val_accuracy: 0.8816\n",
            "Epoch 1/3\n",
            "762/762 [==============================] - 17s 22ms/step - loss: 0.0166 - accuracy: 0.9766 - val_loss: 0.0638 - val_accuracy: 0.8747\n",
            "Epoch 2/3\n",
            "762/762 [==============================] - 17s 22ms/step - loss: 0.0140 - accuracy: 0.9837 - val_loss: 0.0678 - val_accuracy: 0.8700\n",
            "Epoch 3/3\n",
            "762/762 [==============================] - 17s 22ms/step - loss: 0.0110 - accuracy: 0.9897 - val_loss: 0.0664 - val_accuracy: 0.8737\n",
            "Epoch 1/3\n",
            "762/762 [==============================] - 17s 22ms/step - loss: 0.0094 - accuracy: 0.9925 - val_loss: 0.0708 - val_accuracy: 0.8629\n",
            "Epoch 2/3\n",
            "762/762 [==============================] - 17s 22ms/step - loss: 0.0080 - accuracy: 0.9946 - val_loss: 0.0697 - val_accuracy: 0.8715\n",
            "Epoch 3/3\n",
            "762/762 [==============================] - 17s 22ms/step - loss: 0.0076 - accuracy: 0.9956 - val_loss: 0.0714 - val_accuracy: 0.8661\n",
            "Epoch 1/3\n",
            "762/762 [==============================] - 17s 22ms/step - loss: 0.0073 - accuracy: 0.9955 - val_loss: 0.0707 - val_accuracy: 0.8646\n",
            "Epoch 2/3\n",
            "762/762 [==============================] - 17s 22ms/step - loss: 0.0061 - accuracy: 0.9975 - val_loss: 0.0735 - val_accuracy: 0.8617\n",
            "Epoch 3/3\n",
            "762/762 [==============================] - 17s 22ms/step - loss: 0.0063 - accuracy: 0.9968 - val_loss: 0.0713 - val_accuracy: 0.8654\n"
          ]
        },
        {
          "name": "stderr",
          "output_type": "stream",
          "text": [
            "\u001b[32m[I 2022-04-16 03:00:44,938]\u001b[0m Trial 17 finished with value: 0.8735417127609253 and parameters: {'epochs': 3, 'batch_size': 48, 'embedding_dim': 55, 'units': 373, 'dropout': 0.2, 'n_neurons': 118}. Best is trial 10 with value: 0.8840265870094299.\u001b[0m\n"
          ]
        },
        {
          "name": "stdout",
          "output_type": "stream",
          "text": [
            "{'epochs': 2, 'batch_size': 23, 'embedding_dim': 41, 'units': 310, 'dropout': 0.1, 'n_neurons': 86}\n",
            "Epoch 1/2\n",
            "1590/1590 [==============================] - 38s 21ms/step - loss: 0.1063 - accuracy: 0.7843 - val_loss: 0.0627 - val_accuracy: 0.8865\n",
            "Epoch 2/2\n",
            "1590/1590 [==============================] - 32s 20ms/step - loss: 0.0497 - accuracy: 0.9157 - val_loss: 0.0577 - val_accuracy: 0.8922\n",
            "Epoch 1/2\n",
            "1590/1590 [==============================] - 32s 20ms/step - loss: 0.0316 - accuracy: 0.9523 - val_loss: 0.0624 - val_accuracy: 0.8816\n",
            "Epoch 2/2\n",
            "1590/1590 [==============================] - 32s 20ms/step - loss: 0.0238 - accuracy: 0.9652 - val_loss: 0.0605 - val_accuracy: 0.8833\n",
            "Epoch 1/2\n",
            "1590/1590 [==============================] - 32s 20ms/step - loss: 0.0202 - accuracy: 0.9703 - val_loss: 0.0628 - val_accuracy: 0.8806\n",
            "Epoch 2/2\n",
            "1590/1590 [==============================] - 32s 20ms/step - loss: 0.0171 - accuracy: 0.9741 - val_loss: 0.0634 - val_accuracy: 0.8811\n",
            "Epoch 1/2\n",
            "1590/1590 [==============================] - 32s 20ms/step - loss: 0.0144 - accuracy: 0.9795 - val_loss: 0.0662 - val_accuracy: 0.8767\n",
            "Epoch 2/2\n",
            "1590/1590 [==============================] - 32s 20ms/step - loss: 0.0117 - accuracy: 0.9856 - val_loss: 0.0694 - val_accuracy: 0.8705\n",
            "Epoch 1/2\n",
            "1590/1590 [==============================] - 32s 20ms/step - loss: 0.0092 - accuracy: 0.9905 - val_loss: 0.0667 - val_accuracy: 0.8794\n",
            "Epoch 2/2\n",
            "1590/1590 [==============================] - 32s 20ms/step - loss: 0.0079 - accuracy: 0.9925 - val_loss: 0.0655 - val_accuracy: 0.8779\n"
          ]
        },
        {
          "name": "stderr",
          "output_type": "stream",
          "text": [
            "\u001b[32m[I 2022-04-16 03:06:31,876]\u001b[0m Trial 18 finished with value: 0.8810238838195801 and parameters: {'epochs': 2, 'batch_size': 23, 'embedding_dim': 41, 'units': 310, 'dropout': 0.1, 'n_neurons': 86}. Best is trial 10 with value: 0.8840265870094299.\u001b[0m\n"
          ]
        },
        {
          "name": "stdout",
          "output_type": "stream",
          "text": [
            "{'epochs': 2, 'batch_size': 64, 'embedding_dim': 27, 'units': 447, 'dropout': 0.2, 'n_neurons': 118}\n",
            "Epoch 1/2\n",
            "572/572 [==============================] - 21s 30ms/step - loss: 0.1289 - accuracy: 0.7241 - val_loss: 0.0714 - val_accuracy: 0.8767\n",
            "Epoch 2/2\n",
            "572/572 [==============================] - 16s 28ms/step - loss: 0.0571 - accuracy: 0.9040 - val_loss: 0.0624 - val_accuracy: 0.8846\n",
            "Epoch 1/2\n",
            "572/572 [==============================] - 16s 28ms/step - loss: 0.0368 - accuracy: 0.9458 - val_loss: 0.0600 - val_accuracy: 0.8819\n",
            "Epoch 2/2\n",
            "572/572 [==============================] - 16s 28ms/step - loss: 0.0273 - accuracy: 0.9625 - val_loss: 0.0613 - val_accuracy: 0.8792\n",
            "Epoch 1/2\n",
            "572/572 [==============================] - 16s 28ms/step - loss: 0.0229 - accuracy: 0.9699 - val_loss: 0.0642 - val_accuracy: 0.8782\n",
            "Epoch 2/2\n",
            "572/572 [==============================] - 16s 28ms/step - loss: 0.0208 - accuracy: 0.9722 - val_loss: 0.0666 - val_accuracy: 0.8703\n",
            "Epoch 1/2\n",
            "572/572 [==============================] - 16s 28ms/step - loss: 0.0187 - accuracy: 0.9739 - val_loss: 0.0673 - val_accuracy: 0.8725\n",
            "Epoch 2/2\n",
            "572/572 [==============================] - 16s 28ms/step - loss: 0.0170 - accuracy: 0.9763 - val_loss: 0.0667 - val_accuracy: 0.8720\n",
            "Epoch 1/2\n",
            "572/572 [==============================] - 16s 28ms/step - loss: 0.0150 - accuracy: 0.9810 - val_loss: 0.0702 - val_accuracy: 0.8686\n",
            "Epoch 2/2\n",
            "572/572 [==============================] - 16s 28ms/step - loss: 0.0130 - accuracy: 0.9849 - val_loss: 0.0710 - val_accuracy: 0.8710\n"
          ]
        },
        {
          "name": "stderr",
          "output_type": "stream",
          "text": [
            "\u001b[32m[I 2022-04-16 03:09:38,909]\u001b[0m Trial 19 finished with value: 0.8754122614860534 and parameters: {'epochs': 2, 'batch_size': 64, 'embedding_dim': 27, 'units': 447, 'dropout': 0.2, 'n_neurons': 118}. Best is trial 10 with value: 0.8840265870094299.\u001b[0m\n"
          ]
        },
        {
          "name": "stdout",
          "output_type": "stream",
          "text": [
            "{'epochs': 3, 'batch_size': 31, 'embedding_dim': 52, 'units': 388, 'dropout': 0.1, 'n_neurons': 107}\n",
            "Epoch 1/3\n",
            "1180/1180 [==============================] - 28s 21ms/step - loss: 0.1094 - accuracy: 0.7763 - val_loss: 0.0665 - val_accuracy: 0.8760\n",
            "Epoch 2/3\n",
            "1180/1180 [==============================] - 23s 20ms/step - loss: 0.0496 - accuracy: 0.9151 - val_loss: 0.0602 - val_accuracy: 0.8888\n",
            "Epoch 3/3\n",
            "1180/1180 [==============================] - 23s 20ms/step - loss: 0.0302 - accuracy: 0.9536 - val_loss: 0.0581 - val_accuracy: 0.8915\n",
            "Epoch 1/3\n",
            "1180/1180 [==============================] - 23s 20ms/step - loss: 0.0232 - accuracy: 0.9652 - val_loss: 0.0603 - val_accuracy: 0.8851\n",
            "Epoch 2/3\n",
            "1180/1180 [==============================] - 23s 20ms/step - loss: 0.0190 - accuracy: 0.9720 - val_loss: 0.0618 - val_accuracy: 0.8794\n",
            "Epoch 3/3\n",
            "1180/1180 [==============================] - 23s 20ms/step - loss: 0.0165 - accuracy: 0.9755 - val_loss: 0.0644 - val_accuracy: 0.8809\n",
            "Epoch 1/3\n",
            "1180/1180 [==============================] - 23s 20ms/step - loss: 0.0136 - accuracy: 0.9816 - val_loss: 0.0662 - val_accuracy: 0.8752\n",
            "Epoch 2/3\n",
            "1180/1180 [==============================] - 23s 20ms/step - loss: 0.0107 - accuracy: 0.9873 - val_loss: 0.0619 - val_accuracy: 0.8811\n",
            "Epoch 3/3\n",
            "1180/1180 [==============================] - 23s 20ms/step - loss: 0.0084 - accuracy: 0.9914 - val_loss: 0.0675 - val_accuracy: 0.8782\n",
            "Epoch 1/3\n",
            "1180/1180 [==============================] - 23s 20ms/step - loss: 0.0073 - accuracy: 0.9935 - val_loss: 0.0736 - val_accuracy: 0.8668\n",
            "Epoch 2/3\n",
            "1180/1180 [==============================] - 23s 20ms/step - loss: 0.0061 - accuracy: 0.9956 - val_loss: 0.0676 - val_accuracy: 0.8725\n",
            "Epoch 3/3\n",
            "1180/1180 [==============================] - 23s 20ms/step - loss: 0.0060 - accuracy: 0.9953 - val_loss: 0.0683 - val_accuracy: 0.8708\n",
            "Epoch 1/3\n",
            "1180/1180 [==============================] - 23s 20ms/step - loss: 0.0051 - accuracy: 0.9966 - val_loss: 0.0719 - val_accuracy: 0.8681\n",
            "Epoch 2/3\n",
            "1180/1180 [==============================] - 23s 20ms/step - loss: 0.0045 - accuracy: 0.9974 - val_loss: 0.0675 - val_accuracy: 0.8774\n",
            "Epoch 3/3\n",
            "1180/1180 [==============================] - 23s 20ms/step - loss: 0.0046 - accuracy: 0.9972 - val_loss: 0.0673 - val_accuracy: 0.8764\n"
          ]
        },
        {
          "name": "stderr",
          "output_type": "stream",
          "text": [
            "\u001b[32m[I 2022-04-16 03:15:48,454]\u001b[0m Trial 20 finished with value: 0.879547119140625 and parameters: {'epochs': 3, 'batch_size': 31, 'embedding_dim': 52, 'units': 388, 'dropout': 0.1, 'n_neurons': 107}. Best is trial 10 with value: 0.8840265870094299.\u001b[0m\n"
          ]
        },
        {
          "name": "stdout",
          "output_type": "stream",
          "text": [
            "{'epochs': 2, 'batch_size': 21, 'embedding_dim': 11, 'units': 463, 'dropout': 0.30000000000000004, 'n_neurons': 109}\n",
            "Epoch 1/2\n",
            "1741/1741 [==============================] - 54s 28ms/step - loss: 0.1232 - accuracy: 0.7456 - val_loss: 0.0702 - val_accuracy: 0.8745\n",
            "Epoch 2/2\n",
            "1741/1741 [==============================] - 49s 28ms/step - loss: 0.0634 - accuracy: 0.8948 - val_loss: 0.0670 - val_accuracy: 0.8730\n",
            "Epoch 1/2\n",
            "1741/1741 [==============================] - 49s 28ms/step - loss: 0.0432 - accuracy: 0.9361 - val_loss: 0.0609 - val_accuracy: 0.8789\n",
            "Epoch 2/2\n",
            "1741/1741 [==============================] - 48s 28ms/step - loss: 0.0335 - accuracy: 0.9548 - val_loss: 0.0604 - val_accuracy: 0.8865\n",
            "Epoch 1/2\n",
            "1741/1741 [==============================] - 48s 28ms/step - loss: 0.0283 - accuracy: 0.9628 - val_loss: 0.0654 - val_accuracy: 0.8700\n",
            "Epoch 2/2\n",
            "1741/1741 [==============================] - 48s 28ms/step - loss: 0.0258 - accuracy: 0.9676 - val_loss: 0.0661 - val_accuracy: 0.8747\n",
            "Epoch 1/2\n",
            "1741/1741 [==============================] - 48s 28ms/step - loss: 0.0231 - accuracy: 0.9712 - val_loss: 0.0627 - val_accuracy: 0.8769\n",
            "Epoch 2/2\n",
            "1741/1741 [==============================] - 48s 28ms/step - loss: 0.0218 - accuracy: 0.9722 - val_loss: 0.0663 - val_accuracy: 0.8696\n",
            "Epoch 1/2\n",
            "1741/1741 [==============================] - 48s 28ms/step - loss: 0.0203 - accuracy: 0.9748 - val_loss: 0.0640 - val_accuracy: 0.8789\n",
            "Epoch 2/2\n",
            "1741/1741 [==============================] - 49s 28ms/step - loss: 0.0191 - accuracy: 0.9762 - val_loss: 0.0645 - val_accuracy: 0.8757\n"
          ]
        },
        {
          "name": "stderr",
          "output_type": "stream",
          "text": [
            "\u001b[32m[I 2022-04-16 03:24:47,155]\u001b[0m Trial 21 finished with value: 0.8759045124053955 and parameters: {'epochs': 2, 'batch_size': 21, 'embedding_dim': 11, 'units': 463, 'dropout': 0.30000000000000004, 'n_neurons': 109}. Best is trial 10 with value: 0.8840265870094299.\u001b[0m\n"
          ]
        },
        {
          "name": "stdout",
          "output_type": "stream",
          "text": [
            "{'epochs': 2, 'batch_size': 16, 'embedding_dim': 38, 'units': 443, 'dropout': 0.4, 'n_neurons': 93}\n",
            "Epoch 1/2\n",
            "2285/2285 [==============================] - 53s 21ms/step - loss: 0.1196 - accuracy: 0.7629 - val_loss: 0.0708 - val_accuracy: 0.8691\n",
            "Epoch 2/2\n",
            "2285/2285 [==============================] - 48s 21ms/step - loss: 0.0617 - accuracy: 0.9011 - val_loss: 0.0616 - val_accuracy: 0.8821\n",
            "Epoch 1/2\n",
            "2285/2285 [==============================] - 48s 21ms/step - loss: 0.0427 - accuracy: 0.9414 - val_loss: 0.0624 - val_accuracy: 0.8806\n",
            "Epoch 2/2\n",
            "2285/2285 [==============================] - 48s 21ms/step - loss: 0.0336 - accuracy: 0.9579 - val_loss: 0.0656 - val_accuracy: 0.8740\n",
            "Epoch 1/2\n",
            "2285/2285 [==============================] - 48s 21ms/step - loss: 0.0286 - accuracy: 0.9667 - val_loss: 0.0643 - val_accuracy: 0.8764\n",
            "Epoch 2/2\n",
            "2285/2285 [==============================] - 48s 21ms/step - loss: 0.0260 - accuracy: 0.9699 - val_loss: 0.0685 - val_accuracy: 0.8708\n",
            "Epoch 1/2\n",
            "2285/2285 [==============================] - 48s 21ms/step - loss: 0.0235 - accuracy: 0.9723 - val_loss: 0.0653 - val_accuracy: 0.8782\n",
            "Epoch 2/2\n",
            "2285/2285 [==============================] - 48s 21ms/step - loss: 0.0208 - accuracy: 0.9769 - val_loss: 0.0658 - val_accuracy: 0.8772\n",
            "Epoch 1/2\n",
            "2285/2285 [==============================] - 48s 21ms/step - loss: 0.0186 - accuracy: 0.9803 - val_loss: 0.0731 - val_accuracy: 0.8664\n",
            "Epoch 2/2\n",
            "2285/2285 [==============================] - 48s 21ms/step - loss: 0.0165 - accuracy: 0.9846 - val_loss: 0.0691 - val_accuracy: 0.8696\n"
          ]
        },
        {
          "name": "stderr",
          "output_type": "stream",
          "text": [
            "\u001b[32m[I 2022-04-16 03:33:42,770]\u001b[0m Trial 22 finished with value: 0.8747231125831604 and parameters: {'epochs': 2, 'batch_size': 16, 'embedding_dim': 38, 'units': 443, 'dropout': 0.4, 'n_neurons': 93}. Best is trial 10 with value: 0.8840265870094299.\u001b[0m\n"
          ]
        },
        {
          "name": "stdout",
          "output_type": "stream",
          "text": [
            "{'epochs': 2, 'batch_size': 37, 'embedding_dim': 22, 'units': 344, 'dropout': 0.30000000000000004, 'n_neurons': 119}\n",
            "Epoch 1/2\n",
            "989/989 [==============================] - 24s 20ms/step - loss: 0.1245 - accuracy: 0.7399 - val_loss: 0.0722 - val_accuracy: 0.8661\n",
            "Epoch 2/2\n",
            "989/989 [==============================] - 19s 19ms/step - loss: 0.0595 - accuracy: 0.9026 - val_loss: 0.0616 - val_accuracy: 0.8878\n",
            "Epoch 1/2\n",
            "989/989 [==============================] - 19s 19ms/step - loss: 0.0400 - accuracy: 0.9413 - val_loss: 0.0672 - val_accuracy: 0.8708\n",
            "Epoch 2/2\n",
            "989/989 [==============================] - 19s 19ms/step - loss: 0.0298 - accuracy: 0.9602 - val_loss: 0.0642 - val_accuracy: 0.8764\n",
            "Epoch 1/2\n",
            "989/989 [==============================] - 19s 19ms/step - loss: 0.0251 - accuracy: 0.9665 - val_loss: 0.0656 - val_accuracy: 0.8737\n",
            "Epoch 2/2\n",
            "989/989 [==============================] - 19s 19ms/step - loss: 0.0222 - accuracy: 0.9709 - val_loss: 0.0663 - val_accuracy: 0.8728\n",
            "Epoch 1/2\n",
            "989/989 [==============================] - 19s 19ms/step - loss: 0.0199 - accuracy: 0.9737 - val_loss: 0.0670 - val_accuracy: 0.8745\n",
            "Epoch 2/2\n",
            "989/989 [==============================] - 19s 19ms/step - loss: 0.0182 - accuracy: 0.9771 - val_loss: 0.0691 - val_accuracy: 0.8696\n",
            "Epoch 1/2\n",
            "989/989 [==============================] - 19s 19ms/step - loss: 0.0162 - accuracy: 0.9817 - val_loss: 0.0698 - val_accuracy: 0.8691\n",
            "Epoch 2/2\n",
            "989/989 [==============================] - 19s 19ms/step - loss: 0.0141 - accuracy: 0.9854 - val_loss: 0.0711 - val_accuracy: 0.8666\n"
          ]
        },
        {
          "name": "stderr",
          "output_type": "stream",
          "text": [
            "\u001b[32m[I 2022-04-16 03:36:59,275]\u001b[0m Trial 23 finished with value: 0.8746246576309205 and parameters: {'epochs': 2, 'batch_size': 37, 'embedding_dim': 22, 'units': 344, 'dropout': 0.30000000000000004, 'n_neurons': 119}. Best is trial 10 with value: 0.8840265870094299.\u001b[0m\n"
          ]
        },
        {
          "name": "stdout",
          "output_type": "stream",
          "text": [
            "{'epochs': 2, 'batch_size': 20, 'embedding_dim': 14, 'units': 504, 'dropout': 0.2, 'n_neurons': 104}\n",
            "Epoch 1/2\n",
            "1828/1828 [==============================] - 50s 25ms/step - loss: 0.1170 - accuracy: 0.7566 - val_loss: 0.0721 - val_accuracy: 0.8673\n",
            "Epoch 2/2\n",
            "1828/1828 [==============================] - 44s 24ms/step - loss: 0.0585 - accuracy: 0.9025 - val_loss: 0.0593 - val_accuracy: 0.8883\n",
            "Epoch 1/2\n",
            "1828/1828 [==============================] - 44s 24ms/step - loss: 0.0397 - accuracy: 0.9392 - val_loss: 0.0613 - val_accuracy: 0.8816\n",
            "Epoch 2/2\n",
            "1828/1828 [==============================] - 44s 24ms/step - loss: 0.0306 - accuracy: 0.9565 - val_loss: 0.0621 - val_accuracy: 0.8826\n",
            "Epoch 1/2\n",
            "1828/1828 [==============================] - 44s 24ms/step - loss: 0.0253 - accuracy: 0.9655 - val_loss: 0.0644 - val_accuracy: 0.8809\n",
            "Epoch 2/2\n",
            "1828/1828 [==============================] - 44s 24ms/step - loss: 0.0228 - accuracy: 0.9684 - val_loss: 0.0642 - val_accuracy: 0.8799\n",
            "Epoch 1/2\n",
            "1828/1828 [==============================] - 44s 24ms/step - loss: 0.0200 - accuracy: 0.9734 - val_loss: 0.0669 - val_accuracy: 0.8737\n",
            "Epoch 2/2\n",
            "1828/1828 [==============================] - 44s 24ms/step - loss: 0.0184 - accuracy: 0.9752 - val_loss: 0.0740 - val_accuracy: 0.8595\n",
            "Epoch 1/2\n",
            "1828/1828 [==============================] - 44s 24ms/step - loss: 0.0169 - accuracy: 0.9786 - val_loss: 0.0718 - val_accuracy: 0.8686\n",
            "Epoch 2/2\n",
            "1828/1828 [==============================] - 44s 24ms/step - loss: 0.0152 - accuracy: 0.9812 - val_loss: 0.0712 - val_accuracy: 0.8673\n"
          ]
        },
        {
          "name": "stderr",
          "output_type": "stream",
          "text": [
            "\u001b[32m[I 2022-04-16 03:45:23,601]\u001b[0m Trial 24 finished with value: 0.8755107045173645 and parameters: {'epochs': 2, 'batch_size': 20, 'embedding_dim': 14, 'units': 504, 'dropout': 0.2, 'n_neurons': 104}. Best is trial 10 with value: 0.8840265870094299.\u001b[0m\n"
          ]
        },
        {
          "name": "stdout",
          "output_type": "stream",
          "text": [
            "{'epochs': 3, 'batch_size': 27, 'embedding_dim': 31, 'units': 288, 'dropout': 0.30000000000000004, 'n_neurons': 73}\n",
            "Epoch 1/3\n",
            "1354/1354 [==============================] - 26s 17ms/step - loss: 0.1199 - accuracy: 0.7619 - val_loss: 0.0683 - val_accuracy: 0.8740\n",
            "Epoch 2/3\n",
            "1354/1354 [==============================] - 21s 16ms/step - loss: 0.0610 - accuracy: 0.9025 - val_loss: 0.0607 - val_accuracy: 0.8870\n",
            "Epoch 3/3\n",
            "1354/1354 [==============================] - 21s 16ms/step - loss: 0.0406 - accuracy: 0.9430 - val_loss: 0.0635 - val_accuracy: 0.8760\n",
            "Epoch 1/3\n",
            "1354/1354 [==============================] - 21s 16ms/step - loss: 0.0312 - accuracy: 0.9609 - val_loss: 0.0593 - val_accuracy: 0.8880\n",
            "Epoch 2/3\n",
            "1354/1354 [==============================] - 21s 16ms/step - loss: 0.0264 - accuracy: 0.9669 - val_loss: 0.0625 - val_accuracy: 0.8769\n",
            "Epoch 3/3\n",
            "1354/1354 [==============================] - 21s 16ms/step - loss: 0.0234 - accuracy: 0.9711 - val_loss: 0.0652 - val_accuracy: 0.8787\n",
            "Epoch 1/3\n",
            "1354/1354 [==============================] - 21s 16ms/step - loss: 0.0217 - accuracy: 0.9732 - val_loss: 0.0625 - val_accuracy: 0.8772\n",
            "Epoch 2/3\n",
            "1354/1354 [==============================] - 22s 16ms/step - loss: 0.0198 - accuracy: 0.9762 - val_loss: 0.0635 - val_accuracy: 0.8772\n",
            "Epoch 3/3\n",
            "1354/1354 [==============================] - 22s 16ms/step - loss: 0.0174 - accuracy: 0.9807 - val_loss: 0.0645 - val_accuracy: 0.8792\n",
            "Epoch 1/3\n",
            "1354/1354 [==============================] - 22s 16ms/step - loss: 0.0159 - accuracy: 0.9839 - val_loss: 0.0671 - val_accuracy: 0.8703\n",
            "Epoch 2/3\n",
            "1354/1354 [==============================] - 21s 16ms/step - loss: 0.0140 - accuracy: 0.9874 - val_loss: 0.0640 - val_accuracy: 0.8796\n",
            "Epoch 3/3\n",
            "1354/1354 [==============================] - 21s 16ms/step - loss: 0.0123 - accuracy: 0.9907 - val_loss: 0.0709 - val_accuracy: 0.8646\n",
            "Epoch 1/3\n",
            "1354/1354 [==============================] - 22s 16ms/step - loss: 0.0117 - accuracy: 0.9911 - val_loss: 0.0662 - val_accuracy: 0.8787\n",
            "Epoch 2/3\n",
            "1354/1354 [==============================] - 21s 16ms/step - loss: 0.0105 - accuracy: 0.9935 - val_loss: 0.0660 - val_accuracy: 0.8764\n",
            "Epoch 3/3\n",
            "1354/1354 [==============================] - 21s 16ms/step - loss: 0.0102 - accuracy: 0.9934 - val_loss: 0.0721 - val_accuracy: 0.8659\n"
          ]
        },
        {
          "name": "stderr",
          "output_type": "stream",
          "text": [
            "\u001b[32m[I 2022-04-16 03:50:53,707]\u001b[0m Trial 25 finished with value: 0.8728525757789611 and parameters: {'epochs': 3, 'batch_size': 27, 'embedding_dim': 31, 'units': 288, 'dropout': 0.30000000000000004, 'n_neurons': 73}. Best is trial 10 with value: 0.8840265870094299.\u001b[0m\n"
          ]
        },
        {
          "name": "stdout",
          "output_type": "stream",
          "text": [
            "{'epochs': 2, 'batch_size': 24, 'embedding_dim': 24, 'units': 369, 'dropout': 0.1, 'n_neurons': 113}\n",
            "Epoch 1/2\n",
            "1524/1524 [==============================] - 35s 20ms/step - loss: 0.1103 - accuracy: 0.7707 - val_loss: 0.0654 - val_accuracy: 0.8784\n",
            "Epoch 2/2\n",
            "1524/1524 [==============================] - 30s 19ms/step - loss: 0.0525 - accuracy: 0.9094 - val_loss: 0.0581 - val_accuracy: 0.8841\n",
            "Epoch 1/2\n",
            "1524/1524 [==============================] - 30s 20ms/step - loss: 0.0329 - accuracy: 0.9488 - val_loss: 0.0583 - val_accuracy: 0.8900\n",
            "Epoch 2/2\n",
            "1524/1524 [==============================] - 30s 19ms/step - loss: 0.0248 - accuracy: 0.9634 - val_loss: 0.0640 - val_accuracy: 0.8789\n",
            "Epoch 1/2\n",
            "1524/1524 [==============================] - 30s 20ms/step - loss: 0.0206 - accuracy: 0.9697 - val_loss: 0.0653 - val_accuracy: 0.8779\n",
            "Epoch 2/2\n",
            "1524/1524 [==============================] - 30s 20ms/step - loss: 0.0183 - accuracy: 0.9724 - val_loss: 0.0619 - val_accuracy: 0.8841\n",
            "Epoch 1/2\n",
            "1524/1524 [==============================] - 30s 20ms/step - loss: 0.0154 - accuracy: 0.9775 - val_loss: 0.0629 - val_accuracy: 0.8828\n",
            "Epoch 2/2\n",
            "1524/1524 [==============================] - 30s 20ms/step - loss: 0.0128 - accuracy: 0.9832 - val_loss: 0.0659 - val_accuracy: 0.8811\n",
            "Epoch 1/2\n",
            "1524/1524 [==============================] - 30s 20ms/step - loss: 0.0107 - accuracy: 0.9872 - val_loss: 0.0643 - val_accuracy: 0.8794\n",
            "Epoch 2/2\n",
            "1524/1524 [==============================] - 30s 20ms/step - loss: 0.0090 - accuracy: 0.9904 - val_loss: 0.0695 - val_accuracy: 0.8693\n"
          ]
        },
        {
          "name": "stderr",
          "output_type": "stream",
          "text": [
            "\u001b[32m[I 2022-04-16 03:56:44,850]\u001b[0m Trial 26 finished with value: 0.8794979214668274 and parameters: {'epochs': 2, 'batch_size': 24, 'embedding_dim': 24, 'units': 369, 'dropout': 0.1, 'n_neurons': 113}. Best is trial 10 with value: 0.8840265870094299.\u001b[0m\n"
          ]
        },
        {
          "name": "stdout",
          "output_type": "stream",
          "text": [
            "{'epochs': 2, 'batch_size': 30, 'embedding_dim': 63, 'units': 440, 'dropout': 0.4, 'n_neurons': 122}\n",
            "Epoch 1/2\n",
            "1219/1219 [==============================] - 33s 23ms/step - loss: 0.1195 - accuracy: 0.7609 - val_loss: 0.0708 - val_accuracy: 0.8700\n",
            "Epoch 2/2\n",
            "1219/1219 [==============================] - 27s 22ms/step - loss: 0.0608 - accuracy: 0.9035 - val_loss: 0.0621 - val_accuracy: 0.8784\n",
            "Epoch 1/2\n",
            "1219/1219 [==============================] - 27s 22ms/step - loss: 0.0395 - accuracy: 0.9454 - val_loss: 0.0597 - val_accuracy: 0.8809\n",
            "Epoch 2/2\n",
            "1219/1219 [==============================] - 27s 22ms/step - loss: 0.0308 - accuracy: 0.9613 - val_loss: 0.0615 - val_accuracy: 0.8811\n",
            "Epoch 1/2\n",
            "1219/1219 [==============================] - 27s 22ms/step - loss: 0.0267 - accuracy: 0.9679 - val_loss: 0.0635 - val_accuracy: 0.8764\n",
            "Epoch 2/2\n",
            "1219/1219 [==============================] - 27s 22ms/step - loss: 0.0236 - accuracy: 0.9717 - val_loss: 0.0650 - val_accuracy: 0.8760\n",
            "Epoch 1/2\n",
            "1219/1219 [==============================] - 27s 22ms/step - loss: 0.0218 - accuracy: 0.9741 - val_loss: 0.0632 - val_accuracy: 0.8811\n",
            "Epoch 2/2\n",
            "1219/1219 [==============================] - 27s 22ms/step - loss: 0.0194 - accuracy: 0.9783 - val_loss: 0.0656 - val_accuracy: 0.8715\n",
            "Epoch 1/2\n",
            "1219/1219 [==============================] - 27s 22ms/step - loss: 0.0172 - accuracy: 0.9818 - val_loss: 0.0673 - val_accuracy: 0.8718\n",
            "Epoch 2/2\n",
            "1219/1219 [==============================] - 27s 22ms/step - loss: 0.0151 - accuracy: 0.9865 - val_loss: 0.0676 - val_accuracy: 0.8698\n"
          ]
        },
        {
          "name": "stderr",
          "output_type": "stream",
          "text": [
            "\u001b[32m[I 2022-04-16 04:01:53,337]\u001b[0m Trial 27 finished with value: 0.875363039970398 and parameters: {'epochs': 2, 'batch_size': 30, 'embedding_dim': 63, 'units': 440, 'dropout': 0.4, 'n_neurons': 122}. Best is trial 10 with value: 0.8840265870094299.\u001b[0m\n"
          ]
        },
        {
          "name": "stdout",
          "output_type": "stream",
          "text": [
            "{'epochs': 3, 'batch_size': 19, 'embedding_dim': 8, 'units': 404, 'dropout': 0.2, 'n_neurons': 94}\n",
            "Epoch 1/3\n",
            "1925/1925 [==============================] - 42s 19ms/step - loss: 0.1287 - accuracy: 0.7271 - val_loss: 0.0737 - val_accuracy: 0.8681\n",
            "Epoch 2/3\n",
            "1925/1925 [==============================] - 36s 19ms/step - loss: 0.0613 - accuracy: 0.8973 - val_loss: 0.0606 - val_accuracy: 0.8838\n",
            "Epoch 3/3\n",
            "1925/1925 [==============================] - 36s 19ms/step - loss: 0.0415 - accuracy: 0.9371 - val_loss: 0.0610 - val_accuracy: 0.8794\n",
            "Epoch 1/3\n",
            "1925/1925 [==============================] - 36s 19ms/step - loss: 0.0322 - accuracy: 0.9536 - val_loss: 0.0640 - val_accuracy: 0.8740\n",
            "Epoch 2/3\n",
            "1925/1925 [==============================] - 36s 19ms/step - loss: 0.0269 - accuracy: 0.9621 - val_loss: 0.0618 - val_accuracy: 0.8816\n",
            "Epoch 3/3\n",
            "1925/1925 [==============================] - 36s 19ms/step - loss: 0.0237 - accuracy: 0.9669 - val_loss: 0.0649 - val_accuracy: 0.8742\n",
            "Epoch 1/3\n",
            "1925/1925 [==============================] - 36s 19ms/step - loss: 0.0213 - accuracy: 0.9708 - val_loss: 0.0668 - val_accuracy: 0.8740\n",
            "Epoch 2/3\n",
            "1925/1925 [==============================] - 36s 19ms/step - loss: 0.0193 - accuracy: 0.9734 - val_loss: 0.0693 - val_accuracy: 0.8752\n",
            "Epoch 3/3\n",
            "1925/1925 [==============================] - 36s 19ms/step - loss: 0.0180 - accuracy: 0.9761 - val_loss: 0.0684 - val_accuracy: 0.8718\n",
            "Epoch 1/3\n",
            "1925/1925 [==============================] - 36s 19ms/step - loss: 0.0163 - accuracy: 0.9791 - val_loss: 0.0730 - val_accuracy: 0.8607\n",
            "Epoch 2/3\n",
            "1925/1925 [==============================] - 36s 19ms/step - loss: 0.0150 - accuracy: 0.9815 - val_loss: 0.0731 - val_accuracy: 0.8639\n",
            "Epoch 3/3\n",
            "1925/1925 [==============================] - 36s 19ms/step - loss: 0.0135 - accuracy: 0.9846 - val_loss: 0.0726 - val_accuracy: 0.8666\n",
            "Epoch 1/3\n",
            "1925/1925 [==============================] - 36s 19ms/step - loss: 0.0126 - accuracy: 0.9863 - val_loss: 0.0682 - val_accuracy: 0.8715\n",
            "Epoch 2/3\n",
            "1925/1925 [==============================] - 36s 19ms/step - loss: 0.0117 - accuracy: 0.9881 - val_loss: 0.0698 - val_accuracy: 0.8710\n",
            "Epoch 3/3\n",
            "1925/1925 [==============================] - 36s 19ms/step - loss: 0.0110 - accuracy: 0.9890 - val_loss: 0.0742 - val_accuracy: 0.8673\n"
          ]
        },
        {
          "name": "stderr",
          "output_type": "stream",
          "text": [
            "\u001b[32m[I 2022-04-16 04:11:04,935]\u001b[0m Trial 28 finished with value: 0.871868085861206 and parameters: {'epochs': 3, 'batch_size': 19, 'embedding_dim': 8, 'units': 404, 'dropout': 0.2, 'n_neurons': 94}. Best is trial 10 with value: 0.8840265870094299.\u001b[0m\n"
          ]
        },
        {
          "name": "stdout",
          "output_type": "stream",
          "text": [
            "{'epochs': 2, 'batch_size': 18, 'embedding_dim': 58, 'units': 471, 'dropout': 0.5, 'n_neurons': 112}\n",
            "Epoch 1/2\n",
            "2031/2031 [==============================] - 61s 28ms/step - loss: 0.1216 - accuracy: 0.7620 - val_loss: 0.0743 - val_accuracy: 0.8634\n",
            "Epoch 2/2\n",
            "2031/2031 [==============================] - 57s 28ms/step - loss: 0.0635 - accuracy: 0.8985 - val_loss: 0.0628 - val_accuracy: 0.8772\n",
            "Epoch 1/2\n",
            "2031/2031 [==============================] - 56s 27ms/step - loss: 0.0449 - accuracy: 0.9382 - val_loss: 0.0585 - val_accuracy: 0.8895\n",
            "Epoch 2/2\n",
            "2031/2031 [==============================] - 56s 27ms/step - loss: 0.0345 - accuracy: 0.9576 - val_loss: 0.0628 - val_accuracy: 0.8760\n",
            "Epoch 1/2\n",
            "2031/2031 [==============================] - 56s 27ms/step - loss: 0.0294 - accuracy: 0.9665 - val_loss: 0.0615 - val_accuracy: 0.8799\n",
            "Epoch 2/2\n",
            "2031/2031 [==============================] - 56s 28ms/step - loss: 0.0265 - accuracy: 0.9702 - val_loss: 0.0605 - val_accuracy: 0.8841\n",
            "Epoch 1/2\n",
            "2031/2031 [==============================] - 56s 28ms/step - loss: 0.0248 - accuracy: 0.9729 - val_loss: 0.0635 - val_accuracy: 0.8767\n",
            "Epoch 2/2\n",
            "2031/2031 [==============================] - 56s 28ms/step - loss: 0.0215 - accuracy: 0.9782 - val_loss: 0.0665 - val_accuracy: 0.8740\n",
            "Epoch 1/2\n",
            "2031/2031 [==============================] - 56s 28ms/step - loss: 0.0192 - accuracy: 0.9817 - val_loss: 0.0669 - val_accuracy: 0.8757\n",
            "Epoch 2/2\n",
            "2031/2031 [==============================] - 56s 28ms/step - loss: 0.0173 - accuracy: 0.9853 - val_loss: 0.0677 - val_accuracy: 0.8705\n"
          ]
        },
        {
          "name": "stderr",
          "output_type": "stream",
          "text": [
            "\u001b[32m[I 2022-04-16 04:21:30,706]\u001b[0m Trial 29 finished with value: 0.8763475298881531 and parameters: {'epochs': 2, 'batch_size': 18, 'embedding_dim': 58, 'units': 471, 'dropout': 0.5, 'n_neurons': 112}. Best is trial 10 with value: 0.8840265870094299.\u001b[0m\n"
          ]
        },
        {
          "name": "stdout",
          "output_type": "stream",
          "text": [
            "Number of finished trials:  30\n",
            "Best value: 0.8840265870094299\n",
            "Best params: {'epochs': 2, 'batch_size': 27, 'embedding_dim': 50, 'units': 393, 'dropout': 0.1, 'n_neurons': 122}\n",
            "time: 3h 10min 19s (started: 2022-04-16 01:11:11 +00:00)\n"
          ]
        }
      ],
      "source": [
        "optim_best_params = opt.optisearch(X_train=X_train, y_train=y_train, y_test=y_test, n_trials=30, CV=5)"
      ]
    },
    {
      "cell_type": "code",
      "execution_count": null,
      "metadata": {
        "colab": {
          "background_save": true
        },
        "id": "-knd4OKtLuSW",
        "outputId": "da27a0d1-ee69-44db-e0c2-c7aa32964b8e"
      },
      "outputs": [
        {
          "name": "stdout",
          "output_type": "stream",
          "text": [
            "##### CREATING RNN #####\n",
            "Vocabulary size: 41230\n",
            "\n",
            "Example:\n",
            "\n",
            "Sentence:\n",
            "Was at the supermarket today Didnt buy toilet paper\n",
            "\n",
            "After tokenizing :\n",
            "[68, 12, 1, 18, 115, 530, 114, 100, 107]\n",
            "\n",
            "After padding :\n",
            "[ 68  12   1  18 115 530 114 100 107   0   0   0   0   0   0   0   0   0\n",
            "   0   0   0   0   0   0   0   0   0   0   0   0   0   0   0   0   0   0\n",
            "   0   0   0   0   0   0   0   0   0   0   0   0   0   0   0   0   0   0\n",
            "   0   0   0   0   0   0   0   0   0]\n",
            "Model: \"sequential\"\n",
            "_________________________________________________________________\n",
            " Layer (type)                Output Shape              Param #   \n",
            "=================================================================\n",
            " embedding (Embedding)       (None, 63, 50)            2061500   \n",
            "                                                                 \n",
            " bidirectional (Bidirectiona  (None, 63, 786)          1395936   \n",
            " l)                                                              \n",
            "                                                                 \n",
            " global_max_pooling1d (Globa  (None, 786)              0         \n",
            " lMaxPooling1D)                                                  \n",
            "                                                                 \n",
            " dropout (Dropout)           (None, 786)               0         \n",
            "                                                                 \n",
            " dense (Dense)               (None, 122)               96014     \n",
            "                                                                 \n",
            " dropout_1 (Dropout)         (None, 122)               0         \n",
            "                                                                 \n",
            " dense_1 (Dense)             (None, 3)                 369       \n",
            "                                                                 \n",
            "=================================================================\n",
            "Total params: 3,553,819\n",
            "Trainable params: 3,553,819\n",
            "Non-trainable params: 0\n",
            "_________________________________________________________________\n",
            "##### RNN CREATED #####\n",
            "##### Preparing the training data #####\n",
            "##### training data prepared #####\n",
            "time: 3.51 s (started: 2022-04-16 04:21:30 +00:00)\n"
          ]
        }
      ],
      "source": [
        "rnn_model = rnn.RNN(X_train, y_train, y_test, embedding_dim=optim_best_params['embedding_dim'], units=optim_best_params['units'], dropout=optim_best_params['dropout'], n_neurons=optim_best_params['n_neurons'])"
      ]
    },
    {
      "cell_type": "code",
      "execution_count": null,
      "metadata": {
        "id": "brZnfpTLLuSX"
      },
      "outputs": [],
      "source": [
        "rnn_model.train(epochs=optim_best_params['epochs'], batch_size=optim_best_params['batch_size']) # Train the model"
      ]
    },
    {
      "cell_type": "code",
      "execution_count": null,
      "metadata": {
        "colab": {
          "background_save": true
        },
        "id": "MPwGPhkTNtmR",
        "outputId": "a5ef4bc1-40fe-42d6-9388-de987ff2f525"
      },
      "outputs": [
        {
          "name": "stdout",
          "output_type": "stream",
          "text": [
            "0.8899827599525452\n",
            "time: 1.78 ms (started: 2022-04-16 04:22:48 +00:00)\n"
          ]
        }
      ],
      "source": [
        "print(rnn_model.history.history['val_accuracy'][-1])"
      ]
    },
    {
      "cell_type": "code",
      "execution_count": null,
      "metadata": {
        "colab": {
          "background_save": true
        },
        "id": "A6fxNproLuSX",
        "outputId": "7e42613c-3252-4a98-f85e-b80714817d72"
      },
      "outputs": [
        {
          "name": "stdout",
          "output_type": "stream",
          "text": [
            "##### PRINTING HISTORY #####\n"
          ]
        },
        {
          "data": {
            "text/html": [
              "<html>\n",
              "<head><meta charset=\"utf-8\" /></head>\n",
              "<body>\n",
              "    <div>            <script src=\"https://cdnjs.cloudflare.com/ajax/libs/mathjax/2.7.5/MathJax.js?config=TeX-AMS-MML_SVG\"></script><script type=\"text/javascript\">if (window.MathJax) {MathJax.Hub.Config({SVG: {font: \"STIX-Web\"}});}</script>                <script type=\"text/javascript\">window.PlotlyConfig = {MathJaxConfig: 'local'};</script>\n",
              "        <script src=\"https://cdn.plot.ly/plotly-2.8.3.min.js\"></script>                <div id=\"1a2fa99b-c392-476d-aff5-eb2e909589fb\" class=\"plotly-graph-div\" style=\"height:525px; width:100%;\"></div>            <script type=\"text/javascript\">                                    window.PLOTLYENV=window.PLOTLYENV || {};                                    if (document.getElementById(\"1a2fa99b-c392-476d-aff5-eb2e909589fb\")) {                    Plotly.newPlot(                        \"1a2fa99b-c392-476d-aff5-eb2e909589fb\",                        [{\"hovertemplate\":\"variable=accuracy<br>epoch=%{x}<br>accuracy=%{y}<extra></extra>\",\"legendgroup\":\"accuracy\",\"line\":{\"color\":\"#636efa\",\"dash\":\"solid\"},\"marker\":{\"symbol\":\"circle\"},\"mode\":\"lines\",\"name\":\"accuracy\",\"orientation\":\"v\",\"showlegend\":true,\"x\":[0,1],\"xaxis\":\"x\",\"y\":[0.774030327796936,0.9145467281341553],\"yaxis\":\"y\",\"type\":\"scatter\"},{\"hovertemplate\":\"variable=val_accuracy<br>epoch=%{x}<br>accuracy=%{y}<extra></extra>\",\"legendgroup\":\"val_accuracy\",\"line\":{\"color\":\"#EF553B\",\"dash\":\"solid\"},\"marker\":{\"symbol\":\"circle\"},\"mode\":\"lines\",\"name\":\"val_accuracy\",\"orientation\":\"v\",\"showlegend\":true,\"x\":[0,1],\"xaxis\":\"x\",\"y\":[0.8754614591598511,0.8899827599525452],\"yaxis\":\"y\",\"type\":\"scatter\"}],                        {\"template\":{\"data\":{\"bar\":[{\"error_x\":{\"color\":\"#2a3f5f\"},\"error_y\":{\"color\":\"#2a3f5f\"},\"marker\":{\"line\":{\"color\":\"#E5ECF6\",\"width\":0.5},\"pattern\":{\"fillmode\":\"overlay\",\"size\":10,\"solidity\":0.2}},\"type\":\"bar\"}],\"barpolar\":[{\"marker\":{\"line\":{\"color\":\"#E5ECF6\",\"width\":0.5},\"pattern\":{\"fillmode\":\"overlay\",\"size\":10,\"solidity\":0.2}},\"type\":\"barpolar\"}],\"carpet\":[{\"aaxis\":{\"endlinecolor\":\"#2a3f5f\",\"gridcolor\":\"white\",\"linecolor\":\"white\",\"minorgridcolor\":\"white\",\"startlinecolor\":\"#2a3f5f\"},\"baxis\":{\"endlinecolor\":\"#2a3f5f\",\"gridcolor\":\"white\",\"linecolor\":\"white\",\"minorgridcolor\":\"white\",\"startlinecolor\":\"#2a3f5f\"},\"type\":\"carpet\"}],\"choropleth\":[{\"colorbar\":{\"outlinewidth\":0,\"ticks\":\"\"},\"type\":\"choropleth\"}],\"contour\":[{\"colorbar\":{\"outlinewidth\":0,\"ticks\":\"\"},\"colorscale\":[[0.0,\"#0d0887\"],[0.1111111111111111,\"#46039f\"],[0.2222222222222222,\"#7201a8\"],[0.3333333333333333,\"#9c179e\"],[0.4444444444444444,\"#bd3786\"],[0.5555555555555556,\"#d8576b\"],[0.6666666666666666,\"#ed7953\"],[0.7777777777777778,\"#fb9f3a\"],[0.8888888888888888,\"#fdca26\"],[1.0,\"#f0f921\"]],\"type\":\"contour\"}],\"contourcarpet\":[{\"colorbar\":{\"outlinewidth\":0,\"ticks\":\"\"},\"type\":\"contourcarpet\"}],\"heatmap\":[{\"colorbar\":{\"outlinewidth\":0,\"ticks\":\"\"},\"colorscale\":[[0.0,\"#0d0887\"],[0.1111111111111111,\"#46039f\"],[0.2222222222222222,\"#7201a8\"],[0.3333333333333333,\"#9c179e\"],[0.4444444444444444,\"#bd3786\"],[0.5555555555555556,\"#d8576b\"],[0.6666666666666666,\"#ed7953\"],[0.7777777777777778,\"#fb9f3a\"],[0.8888888888888888,\"#fdca26\"],[1.0,\"#f0f921\"]],\"type\":\"heatmap\"}],\"heatmapgl\":[{\"colorbar\":{\"outlinewidth\":0,\"ticks\":\"\"},\"colorscale\":[[0.0,\"#0d0887\"],[0.1111111111111111,\"#46039f\"],[0.2222222222222222,\"#7201a8\"],[0.3333333333333333,\"#9c179e\"],[0.4444444444444444,\"#bd3786\"],[0.5555555555555556,\"#d8576b\"],[0.6666666666666666,\"#ed7953\"],[0.7777777777777778,\"#fb9f3a\"],[0.8888888888888888,\"#fdca26\"],[1.0,\"#f0f921\"]],\"type\":\"heatmapgl\"}],\"histogram\":[{\"marker\":{\"pattern\":{\"fillmode\":\"overlay\",\"size\":10,\"solidity\":0.2}},\"type\":\"histogram\"}],\"histogram2d\":[{\"colorbar\":{\"outlinewidth\":0,\"ticks\":\"\"},\"colorscale\":[[0.0,\"#0d0887\"],[0.1111111111111111,\"#46039f\"],[0.2222222222222222,\"#7201a8\"],[0.3333333333333333,\"#9c179e\"],[0.4444444444444444,\"#bd3786\"],[0.5555555555555556,\"#d8576b\"],[0.6666666666666666,\"#ed7953\"],[0.7777777777777778,\"#fb9f3a\"],[0.8888888888888888,\"#fdca26\"],[1.0,\"#f0f921\"]],\"type\":\"histogram2d\"}],\"histogram2dcontour\":[{\"colorbar\":{\"outlinewidth\":0,\"ticks\":\"\"},\"colorscale\":[[0.0,\"#0d0887\"],[0.1111111111111111,\"#46039f\"],[0.2222222222222222,\"#7201a8\"],[0.3333333333333333,\"#9c179e\"],[0.4444444444444444,\"#bd3786\"],[0.5555555555555556,\"#d8576b\"],[0.6666666666666666,\"#ed7953\"],[0.7777777777777778,\"#fb9f3a\"],[0.8888888888888888,\"#fdca26\"],[1.0,\"#f0f921\"]],\"type\":\"histogram2dcontour\"}],\"mesh3d\":[{\"colorbar\":{\"outlinewidth\":0,\"ticks\":\"\"},\"type\":\"mesh3d\"}],\"parcoords\":[{\"line\":{\"colorbar\":{\"outlinewidth\":0,\"ticks\":\"\"}},\"type\":\"parcoords\"}],\"pie\":[{\"automargin\":true,\"type\":\"pie\"}],\"scatter\":[{\"marker\":{\"colorbar\":{\"outlinewidth\":0,\"ticks\":\"\"}},\"type\":\"scatter\"}],\"scatter3d\":[{\"line\":{\"colorbar\":{\"outlinewidth\":0,\"ticks\":\"\"}},\"marker\":{\"colorbar\":{\"outlinewidth\":0,\"ticks\":\"\"}},\"type\":\"scatter3d\"}],\"scattercarpet\":[{\"marker\":{\"colorbar\":{\"outlinewidth\":0,\"ticks\":\"\"}},\"type\":\"scattercarpet\"}],\"scattergeo\":[{\"marker\":{\"colorbar\":{\"outlinewidth\":0,\"ticks\":\"\"}},\"type\":\"scattergeo\"}],\"scattergl\":[{\"marker\":{\"colorbar\":{\"outlinewidth\":0,\"ticks\":\"\"}},\"type\":\"scattergl\"}],\"scattermapbox\":[{\"marker\":{\"colorbar\":{\"outlinewidth\":0,\"ticks\":\"\"}},\"type\":\"scattermapbox\"}],\"scatterpolar\":[{\"marker\":{\"colorbar\":{\"outlinewidth\":0,\"ticks\":\"\"}},\"type\":\"scatterpolar\"}],\"scatterpolargl\":[{\"marker\":{\"colorbar\":{\"outlinewidth\":0,\"ticks\":\"\"}},\"type\":\"scatterpolargl\"}],\"scatterternary\":[{\"marker\":{\"colorbar\":{\"outlinewidth\":0,\"ticks\":\"\"}},\"type\":\"scatterternary\"}],\"surface\":[{\"colorbar\":{\"outlinewidth\":0,\"ticks\":\"\"},\"colorscale\":[[0.0,\"#0d0887\"],[0.1111111111111111,\"#46039f\"],[0.2222222222222222,\"#7201a8\"],[0.3333333333333333,\"#9c179e\"],[0.4444444444444444,\"#bd3786\"],[0.5555555555555556,\"#d8576b\"],[0.6666666666666666,\"#ed7953\"],[0.7777777777777778,\"#fb9f3a\"],[0.8888888888888888,\"#fdca26\"],[1.0,\"#f0f921\"]],\"type\":\"surface\"}],\"table\":[{\"cells\":{\"fill\":{\"color\":\"#EBF0F8\"},\"line\":{\"color\":\"white\"}},\"header\":{\"fill\":{\"color\":\"#C8D4E3\"},\"line\":{\"color\":\"white\"}},\"type\":\"table\"}]},\"layout\":{\"annotationdefaults\":{\"arrowcolor\":\"#2a3f5f\",\"arrowhead\":0,\"arrowwidth\":1},\"autotypenumbers\":\"strict\",\"coloraxis\":{\"colorbar\":{\"outlinewidth\":0,\"ticks\":\"\"}},\"colorscale\":{\"diverging\":[[0,\"#8e0152\"],[0.1,\"#c51b7d\"],[0.2,\"#de77ae\"],[0.3,\"#f1b6da\"],[0.4,\"#fde0ef\"],[0.5,\"#f7f7f7\"],[0.6,\"#e6f5d0\"],[0.7,\"#b8e186\"],[0.8,\"#7fbc41\"],[0.9,\"#4d9221\"],[1,\"#276419\"]],\"sequential\":[[0.0,\"#0d0887\"],[0.1111111111111111,\"#46039f\"],[0.2222222222222222,\"#7201a8\"],[0.3333333333333333,\"#9c179e\"],[0.4444444444444444,\"#bd3786\"],[0.5555555555555556,\"#d8576b\"],[0.6666666666666666,\"#ed7953\"],[0.7777777777777778,\"#fb9f3a\"],[0.8888888888888888,\"#fdca26\"],[1.0,\"#f0f921\"]],\"sequentialminus\":[[0.0,\"#0d0887\"],[0.1111111111111111,\"#46039f\"],[0.2222222222222222,\"#7201a8\"],[0.3333333333333333,\"#9c179e\"],[0.4444444444444444,\"#bd3786\"],[0.5555555555555556,\"#d8576b\"],[0.6666666666666666,\"#ed7953\"],[0.7777777777777778,\"#fb9f3a\"],[0.8888888888888888,\"#fdca26\"],[1.0,\"#f0f921\"]]},\"colorway\":[\"#636efa\",\"#EF553B\",\"#00cc96\",\"#ab63fa\",\"#FFA15A\",\"#19d3f3\",\"#FF6692\",\"#B6E880\",\"#FF97FF\",\"#FECB52\"],\"font\":{\"color\":\"#2a3f5f\"},\"geo\":{\"bgcolor\":\"white\",\"lakecolor\":\"white\",\"landcolor\":\"#E5ECF6\",\"showlakes\":true,\"showland\":true,\"subunitcolor\":\"white\"},\"hoverlabel\":{\"align\":\"left\"},\"hovermode\":\"closest\",\"mapbox\":{\"style\":\"light\"},\"paper_bgcolor\":\"white\",\"plot_bgcolor\":\"#E5ECF6\",\"polar\":{\"angularaxis\":{\"gridcolor\":\"white\",\"linecolor\":\"white\",\"ticks\":\"\"},\"bgcolor\":\"#E5ECF6\",\"radialaxis\":{\"gridcolor\":\"white\",\"linecolor\":\"white\",\"ticks\":\"\"}},\"scene\":{\"xaxis\":{\"backgroundcolor\":\"#E5ECF6\",\"gridcolor\":\"white\",\"gridwidth\":2,\"linecolor\":\"white\",\"showbackground\":true,\"ticks\":\"\",\"zerolinecolor\":\"white\"},\"yaxis\":{\"backgroundcolor\":\"#E5ECF6\",\"gridcolor\":\"white\",\"gridwidth\":2,\"linecolor\":\"white\",\"showbackground\":true,\"ticks\":\"\",\"zerolinecolor\":\"white\"},\"zaxis\":{\"backgroundcolor\":\"#E5ECF6\",\"gridcolor\":\"white\",\"gridwidth\":2,\"linecolor\":\"white\",\"showbackground\":true,\"ticks\":\"\",\"zerolinecolor\":\"white\"}},\"shapedefaults\":{\"line\":{\"color\":\"#2a3f5f\"}},\"ternary\":{\"aaxis\":{\"gridcolor\":\"white\",\"linecolor\":\"white\",\"ticks\":\"\"},\"baxis\":{\"gridcolor\":\"white\",\"linecolor\":\"white\",\"ticks\":\"\"},\"bgcolor\":\"#E5ECF6\",\"caxis\":{\"gridcolor\":\"white\",\"linecolor\":\"white\",\"ticks\":\"\"}},\"title\":{\"x\":0.05},\"xaxis\":{\"automargin\":true,\"gridcolor\":\"white\",\"linecolor\":\"white\",\"ticks\":\"\",\"title\":{\"standoff\":15},\"zerolinecolor\":\"white\",\"zerolinewidth\":2},\"yaxis\":{\"automargin\":true,\"gridcolor\":\"white\",\"linecolor\":\"white\",\"ticks\":\"\",\"title\":{\"standoff\":15},\"zerolinecolor\":\"white\",\"zerolinewidth\":2}}},\"xaxis\":{\"anchor\":\"y\",\"domain\":[0.0,1.0],\"title\":{\"text\":\"epoch\"}},\"yaxis\":{\"anchor\":\"x\",\"domain\":[0.0,1.0],\"title\":{\"text\":\"accuracy\"}},\"legend\":{\"title\":{\"text\":\"variable\"},\"tracegroupgap\":0},\"margin\":{\"t\":60}},                        {\"responsive\": true}                    ).then(function(){\n",
              "                            \n",
              "var gd = document.getElementById('1a2fa99b-c392-476d-aff5-eb2e909589fb');\n",
              "var x = new MutationObserver(function (mutations, observer) {{\n",
              "        var display = window.getComputedStyle(gd).display;\n",
              "        if (!display || display === 'none') {{\n",
              "            console.log([gd, 'removed!']);\n",
              "            Plotly.purge(gd);\n",
              "            observer.disconnect();\n",
              "        }}\n",
              "}});\n",
              "\n",
              "// Listen for the removal of the full notebook cells\n",
              "var notebookContainer = gd.closest('#notebook-container');\n",
              "if (notebookContainer) {{\n",
              "    x.observe(notebookContainer, {childList: true});\n",
              "}}\n",
              "\n",
              "// Listen for the clearing of the current output cell\n",
              "var outputEl = gd.closest('.output');\n",
              "if (outputEl) {{\n",
              "    x.observe(outputEl, {childList: true});\n",
              "}}\n",
              "\n",
              "                        })                };                            </script>        </div>\n",
              "</body>\n",
              "</html>"
            ]
          },
          "metadata": {},
          "output_type": "display_data"
        },
        {
          "data": {
            "text/html": [
              "<html>\n",
              "<head><meta charset=\"utf-8\" /></head>\n",
              "<body>\n",
              "    <div>            <script src=\"https://cdnjs.cloudflare.com/ajax/libs/mathjax/2.7.5/MathJax.js?config=TeX-AMS-MML_SVG\"></script><script type=\"text/javascript\">if (window.MathJax) {MathJax.Hub.Config({SVG: {font: \"STIX-Web\"}});}</script>                <script type=\"text/javascript\">window.PlotlyConfig = {MathJaxConfig: 'local'};</script>\n",
              "        <script src=\"https://cdn.plot.ly/plotly-2.8.3.min.js\"></script>                <div id=\"20e2e4cb-25f9-47b6-bd9d-9b6c040e2157\" class=\"plotly-graph-div\" style=\"height:525px; width:100%;\"></div>            <script type=\"text/javascript\">                                    window.PLOTLYENV=window.PLOTLYENV || {};                                    if (document.getElementById(\"20e2e4cb-25f9-47b6-bd9d-9b6c040e2157\")) {                    Plotly.newPlot(                        \"20e2e4cb-25f9-47b6-bd9d-9b6c040e2157\",                        [{\"hovertemplate\":\"variable=loss<br>epoch=%{x}<br>loss=%{y}<extra></extra>\",\"legendgroup\":\"loss\",\"line\":{\"color\":\"#636efa\",\"dash\":\"solid\"},\"marker\":{\"symbol\":\"circle\"},\"mode\":\"lines\",\"name\":\"loss\",\"orientation\":\"v\",\"showlegend\":true,\"x\":[0,1],\"xaxis\":\"x\",\"y\":[0.1092754453420639,0.04974108934402466],\"yaxis\":\"y\",\"type\":\"scatter\"},{\"hovertemplate\":\"variable=val_loss<br>epoch=%{x}<br>loss=%{y}<extra></extra>\",\"legendgroup\":\"val_loss\",\"line\":{\"color\":\"#EF553B\",\"dash\":\"solid\"},\"marker\":{\"symbol\":\"circle\"},\"mode\":\"lines\",\"name\":\"val_loss\",\"orientation\":\"v\",\"showlegend\":true,\"x\":[0,1],\"xaxis\":\"x\",\"y\":[0.06594103574752808,0.057452939450740814],\"yaxis\":\"y\",\"type\":\"scatter\"}],                        {\"template\":{\"data\":{\"bar\":[{\"error_x\":{\"color\":\"#2a3f5f\"},\"error_y\":{\"color\":\"#2a3f5f\"},\"marker\":{\"line\":{\"color\":\"#E5ECF6\",\"width\":0.5},\"pattern\":{\"fillmode\":\"overlay\",\"size\":10,\"solidity\":0.2}},\"type\":\"bar\"}],\"barpolar\":[{\"marker\":{\"line\":{\"color\":\"#E5ECF6\",\"width\":0.5},\"pattern\":{\"fillmode\":\"overlay\",\"size\":10,\"solidity\":0.2}},\"type\":\"barpolar\"}],\"carpet\":[{\"aaxis\":{\"endlinecolor\":\"#2a3f5f\",\"gridcolor\":\"white\",\"linecolor\":\"white\",\"minorgridcolor\":\"white\",\"startlinecolor\":\"#2a3f5f\"},\"baxis\":{\"endlinecolor\":\"#2a3f5f\",\"gridcolor\":\"white\",\"linecolor\":\"white\",\"minorgridcolor\":\"white\",\"startlinecolor\":\"#2a3f5f\"},\"type\":\"carpet\"}],\"choropleth\":[{\"colorbar\":{\"outlinewidth\":0,\"ticks\":\"\"},\"type\":\"choropleth\"}],\"contour\":[{\"colorbar\":{\"outlinewidth\":0,\"ticks\":\"\"},\"colorscale\":[[0.0,\"#0d0887\"],[0.1111111111111111,\"#46039f\"],[0.2222222222222222,\"#7201a8\"],[0.3333333333333333,\"#9c179e\"],[0.4444444444444444,\"#bd3786\"],[0.5555555555555556,\"#d8576b\"],[0.6666666666666666,\"#ed7953\"],[0.7777777777777778,\"#fb9f3a\"],[0.8888888888888888,\"#fdca26\"],[1.0,\"#f0f921\"]],\"type\":\"contour\"}],\"contourcarpet\":[{\"colorbar\":{\"outlinewidth\":0,\"ticks\":\"\"},\"type\":\"contourcarpet\"}],\"heatmap\":[{\"colorbar\":{\"outlinewidth\":0,\"ticks\":\"\"},\"colorscale\":[[0.0,\"#0d0887\"],[0.1111111111111111,\"#46039f\"],[0.2222222222222222,\"#7201a8\"],[0.3333333333333333,\"#9c179e\"],[0.4444444444444444,\"#bd3786\"],[0.5555555555555556,\"#d8576b\"],[0.6666666666666666,\"#ed7953\"],[0.7777777777777778,\"#fb9f3a\"],[0.8888888888888888,\"#fdca26\"],[1.0,\"#f0f921\"]],\"type\":\"heatmap\"}],\"heatmapgl\":[{\"colorbar\":{\"outlinewidth\":0,\"ticks\":\"\"},\"colorscale\":[[0.0,\"#0d0887\"],[0.1111111111111111,\"#46039f\"],[0.2222222222222222,\"#7201a8\"],[0.3333333333333333,\"#9c179e\"],[0.4444444444444444,\"#bd3786\"],[0.5555555555555556,\"#d8576b\"],[0.6666666666666666,\"#ed7953\"],[0.7777777777777778,\"#fb9f3a\"],[0.8888888888888888,\"#fdca26\"],[1.0,\"#f0f921\"]],\"type\":\"heatmapgl\"}],\"histogram\":[{\"marker\":{\"pattern\":{\"fillmode\":\"overlay\",\"size\":10,\"solidity\":0.2}},\"type\":\"histogram\"}],\"histogram2d\":[{\"colorbar\":{\"outlinewidth\":0,\"ticks\":\"\"},\"colorscale\":[[0.0,\"#0d0887\"],[0.1111111111111111,\"#46039f\"],[0.2222222222222222,\"#7201a8\"],[0.3333333333333333,\"#9c179e\"],[0.4444444444444444,\"#bd3786\"],[0.5555555555555556,\"#d8576b\"],[0.6666666666666666,\"#ed7953\"],[0.7777777777777778,\"#fb9f3a\"],[0.8888888888888888,\"#fdca26\"],[1.0,\"#f0f921\"]],\"type\":\"histogram2d\"}],\"histogram2dcontour\":[{\"colorbar\":{\"outlinewidth\":0,\"ticks\":\"\"},\"colorscale\":[[0.0,\"#0d0887\"],[0.1111111111111111,\"#46039f\"],[0.2222222222222222,\"#7201a8\"],[0.3333333333333333,\"#9c179e\"],[0.4444444444444444,\"#bd3786\"],[0.5555555555555556,\"#d8576b\"],[0.6666666666666666,\"#ed7953\"],[0.7777777777777778,\"#fb9f3a\"],[0.8888888888888888,\"#fdca26\"],[1.0,\"#f0f921\"]],\"type\":\"histogram2dcontour\"}],\"mesh3d\":[{\"colorbar\":{\"outlinewidth\":0,\"ticks\":\"\"},\"type\":\"mesh3d\"}],\"parcoords\":[{\"line\":{\"colorbar\":{\"outlinewidth\":0,\"ticks\":\"\"}},\"type\":\"parcoords\"}],\"pie\":[{\"automargin\":true,\"type\":\"pie\"}],\"scatter\":[{\"marker\":{\"colorbar\":{\"outlinewidth\":0,\"ticks\":\"\"}},\"type\":\"scatter\"}],\"scatter3d\":[{\"line\":{\"colorbar\":{\"outlinewidth\":0,\"ticks\":\"\"}},\"marker\":{\"colorbar\":{\"outlinewidth\":0,\"ticks\":\"\"}},\"type\":\"scatter3d\"}],\"scattercarpet\":[{\"marker\":{\"colorbar\":{\"outlinewidth\":0,\"ticks\":\"\"}},\"type\":\"scattercarpet\"}],\"scattergeo\":[{\"marker\":{\"colorbar\":{\"outlinewidth\":0,\"ticks\":\"\"}},\"type\":\"scattergeo\"}],\"scattergl\":[{\"marker\":{\"colorbar\":{\"outlinewidth\":0,\"ticks\":\"\"}},\"type\":\"scattergl\"}],\"scattermapbox\":[{\"marker\":{\"colorbar\":{\"outlinewidth\":0,\"ticks\":\"\"}},\"type\":\"scattermapbox\"}],\"scatterpolar\":[{\"marker\":{\"colorbar\":{\"outlinewidth\":0,\"ticks\":\"\"}},\"type\":\"scatterpolar\"}],\"scatterpolargl\":[{\"marker\":{\"colorbar\":{\"outlinewidth\":0,\"ticks\":\"\"}},\"type\":\"scatterpolargl\"}],\"scatterternary\":[{\"marker\":{\"colorbar\":{\"outlinewidth\":0,\"ticks\":\"\"}},\"type\":\"scatterternary\"}],\"surface\":[{\"colorbar\":{\"outlinewidth\":0,\"ticks\":\"\"},\"colorscale\":[[0.0,\"#0d0887\"],[0.1111111111111111,\"#46039f\"],[0.2222222222222222,\"#7201a8\"],[0.3333333333333333,\"#9c179e\"],[0.4444444444444444,\"#bd3786\"],[0.5555555555555556,\"#d8576b\"],[0.6666666666666666,\"#ed7953\"],[0.7777777777777778,\"#fb9f3a\"],[0.8888888888888888,\"#fdca26\"],[1.0,\"#f0f921\"]],\"type\":\"surface\"}],\"table\":[{\"cells\":{\"fill\":{\"color\":\"#EBF0F8\"},\"line\":{\"color\":\"white\"}},\"header\":{\"fill\":{\"color\":\"#C8D4E3\"},\"line\":{\"color\":\"white\"}},\"type\":\"table\"}]},\"layout\":{\"annotationdefaults\":{\"arrowcolor\":\"#2a3f5f\",\"arrowhead\":0,\"arrowwidth\":1},\"autotypenumbers\":\"strict\",\"coloraxis\":{\"colorbar\":{\"outlinewidth\":0,\"ticks\":\"\"}},\"colorscale\":{\"diverging\":[[0,\"#8e0152\"],[0.1,\"#c51b7d\"],[0.2,\"#de77ae\"],[0.3,\"#f1b6da\"],[0.4,\"#fde0ef\"],[0.5,\"#f7f7f7\"],[0.6,\"#e6f5d0\"],[0.7,\"#b8e186\"],[0.8,\"#7fbc41\"],[0.9,\"#4d9221\"],[1,\"#276419\"]],\"sequential\":[[0.0,\"#0d0887\"],[0.1111111111111111,\"#46039f\"],[0.2222222222222222,\"#7201a8\"],[0.3333333333333333,\"#9c179e\"],[0.4444444444444444,\"#bd3786\"],[0.5555555555555556,\"#d8576b\"],[0.6666666666666666,\"#ed7953\"],[0.7777777777777778,\"#fb9f3a\"],[0.8888888888888888,\"#fdca26\"],[1.0,\"#f0f921\"]],\"sequentialminus\":[[0.0,\"#0d0887\"],[0.1111111111111111,\"#46039f\"],[0.2222222222222222,\"#7201a8\"],[0.3333333333333333,\"#9c179e\"],[0.4444444444444444,\"#bd3786\"],[0.5555555555555556,\"#d8576b\"],[0.6666666666666666,\"#ed7953\"],[0.7777777777777778,\"#fb9f3a\"],[0.8888888888888888,\"#fdca26\"],[1.0,\"#f0f921\"]]},\"colorway\":[\"#636efa\",\"#EF553B\",\"#00cc96\",\"#ab63fa\",\"#FFA15A\",\"#19d3f3\",\"#FF6692\",\"#B6E880\",\"#FF97FF\",\"#FECB52\"],\"font\":{\"color\":\"#2a3f5f\"},\"geo\":{\"bgcolor\":\"white\",\"lakecolor\":\"white\",\"landcolor\":\"#E5ECF6\",\"showlakes\":true,\"showland\":true,\"subunitcolor\":\"white\"},\"hoverlabel\":{\"align\":\"left\"},\"hovermode\":\"closest\",\"mapbox\":{\"style\":\"light\"},\"paper_bgcolor\":\"white\",\"plot_bgcolor\":\"#E5ECF6\",\"polar\":{\"angularaxis\":{\"gridcolor\":\"white\",\"linecolor\":\"white\",\"ticks\":\"\"},\"bgcolor\":\"#E5ECF6\",\"radialaxis\":{\"gridcolor\":\"white\",\"linecolor\":\"white\",\"ticks\":\"\"}},\"scene\":{\"xaxis\":{\"backgroundcolor\":\"#E5ECF6\",\"gridcolor\":\"white\",\"gridwidth\":2,\"linecolor\":\"white\",\"showbackground\":true,\"ticks\":\"\",\"zerolinecolor\":\"white\"},\"yaxis\":{\"backgroundcolor\":\"#E5ECF6\",\"gridcolor\":\"white\",\"gridwidth\":2,\"linecolor\":\"white\",\"showbackground\":true,\"ticks\":\"\",\"zerolinecolor\":\"white\"},\"zaxis\":{\"backgroundcolor\":\"#E5ECF6\",\"gridcolor\":\"white\",\"gridwidth\":2,\"linecolor\":\"white\",\"showbackground\":true,\"ticks\":\"\",\"zerolinecolor\":\"white\"}},\"shapedefaults\":{\"line\":{\"color\":\"#2a3f5f\"}},\"ternary\":{\"aaxis\":{\"gridcolor\":\"white\",\"linecolor\":\"white\",\"ticks\":\"\"},\"baxis\":{\"gridcolor\":\"white\",\"linecolor\":\"white\",\"ticks\":\"\"},\"bgcolor\":\"#E5ECF6\",\"caxis\":{\"gridcolor\":\"white\",\"linecolor\":\"white\",\"ticks\":\"\"}},\"title\":{\"x\":0.05},\"xaxis\":{\"automargin\":true,\"gridcolor\":\"white\",\"linecolor\":\"white\",\"ticks\":\"\",\"title\":{\"standoff\":15},\"zerolinecolor\":\"white\",\"zerolinewidth\":2},\"yaxis\":{\"automargin\":true,\"gridcolor\":\"white\",\"linecolor\":\"white\",\"ticks\":\"\",\"title\":{\"standoff\":15},\"zerolinecolor\":\"white\",\"zerolinewidth\":2}}},\"xaxis\":{\"anchor\":\"y\",\"domain\":[0.0,1.0],\"title\":{\"text\":\"epoch\"}},\"yaxis\":{\"anchor\":\"x\",\"domain\":[0.0,1.0],\"title\":{\"text\":\"loss\"}},\"legend\":{\"title\":{\"text\":\"variable\"},\"tracegroupgap\":0},\"margin\":{\"t\":60}},                        {\"responsive\": true}                    ).then(function(){\n",
              "                            \n",
              "var gd = document.getElementById('20e2e4cb-25f9-47b6-bd9d-9b6c040e2157');\n",
              "var x = new MutationObserver(function (mutations, observer) {{\n",
              "        var display = window.getComputedStyle(gd).display;\n",
              "        if (!display || display === 'none') {{\n",
              "            console.log([gd, 'removed!']);\n",
              "            Plotly.purge(gd);\n",
              "            observer.disconnect();\n",
              "        }}\n",
              "}});\n",
              "\n",
              "// Listen for the removal of the full notebook cells\n",
              "var notebookContainer = gd.closest('#notebook-container');\n",
              "if (notebookContainer) {{\n",
              "    x.observe(notebookContainer, {childList: true});\n",
              "}}\n",
              "\n",
              "// Listen for the clearing of the current output cell\n",
              "var outputEl = gd.closest('.output');\n",
              "if (outputEl) {{\n",
              "    x.observe(outputEl, {childList: true});\n",
              "}}\n",
              "\n",
              "                        })                };                            </script>        </div>\n",
              "</body>\n",
              "</html>"
            ]
          },
          "metadata": {},
          "output_type": "display_data"
        },
        {
          "name": "stdout",
          "output_type": "stream",
          "text": [
            "##### PRINTING HISTORY COMPLETED #####\n",
            "time: 128 ms (started: 2022-04-16 04:22:48 +00:00)\n"
          ]
        }
      ],
      "source": [
        "rnn_model.print_history() "
      ]
    },
    {
      "cell_type": "code",
      "execution_count": 76,
      "metadata": {
        "colab": {
          "base_uri": "https://localhost:8080/"
        },
        "id": "MiXs6P5vLuSX",
        "outputId": "b02076d5-6354-42fa-dde4-99b2f0eb5226"
      },
      "outputs": [
        {
          "name": "stdout",
          "output_type": "stream",
          "text": [
            "##### TESTING #####\n",
            "119/119 [==============================] - 1s 8ms/step - loss: 0.0627 - accuracy: 0.8759\n",
            "Test loss: 0.06265214830636978\n",
            "Test Accuracy: 0.8758602142333984\n",
            "##### TESTING COMPLETED #####\n"
          ]
        },
        {
          "data": {
            "text/plain": [
              "(0.06265214830636978, 0.8758602142333984)"
            ]
          },
          "execution_count": 76,
          "metadata": {},
          "output_type": "execute_result"
        },
        {
          "name": "stdout",
          "output_type": "stream",
          "text": [
            "time: 1.42 s (started: 2022-04-16 05:17:27 +00:00)\n"
          ]
        }
      ],
      "source": [
        "rnn_model.test(X_test) # Test the model"
      ]
    },
    {
      "cell_type": "markdown",
      "metadata": {
        "id": "hdLQ58gVIm8a"
      },
      "source": [
        "### Personal tests"
      ]
    },
    {
      "cell_type": "code",
      "execution_count": 77,
      "metadata": {
        "colab": {
          "base_uri": "https://localhost:8080/"
        },
        "id": "4X_wIsASIm8a",
        "outputId": "d342a0da-2a28-45af-adb1-764c95115c58"
      },
      "outputs": [
        {
          "name": "stdout",
          "output_type": "stream",
          "text": [
            "time: 1.61 ms (started: 2022-04-16 05:17:34 +00:00)\n"
          ]
        }
      ],
      "source": [
        "tests_perso = [\"I think covid is the most horrible threat we ever faced\",\n",
        "                \"I love covid, thanks to it I can see my family much more often and I don't have to comute as much\",\n",
        "                \"I would love to come to your birthday party, but I got covid, I have to stay confined\"\n",
        "]"
      ]
    },
    {
      "cell_type": "code",
      "execution_count": 78,
      "metadata": {
        "colab": {
          "base_uri": "https://localhost:8080/"
        },
        "id": "PjtuAMrAIm8a",
        "outputId": "cd62ab36-335f-47ca-ae07-fbf1653ad263"
      },
      "outputs": [
        {
          "name": "stdout",
          "output_type": "stream",
          "text": [
            "time: 9.79 ms (started: 2022-04-16 05:17:34 +00:00)\n"
          ]
        }
      ],
      "source": [
        "predictions_out = eclf2.predict(tests_perso)\n"
      ]
    },
    {
      "cell_type": "code",
      "execution_count": 79,
      "metadata": {
        "colab": {
          "base_uri": "https://localhost:8080/"
        },
        "id": "ISxBcyP0Im8a",
        "outputId": "514e073c-a4ef-4389-87f8-e03674afb996"
      },
      "outputs": [
        {
          "data": {
            "text/plain": [
              "array([-1,  1,  1])"
            ]
          },
          "execution_count": 79,
          "metadata": {},
          "output_type": "execute_result"
        },
        {
          "name": "stdout",
          "output_type": "stream",
          "text": [
            "time: 3.27 ms (started: 2022-04-16 05:17:34 +00:00)\n"
          ]
        }
      ],
      "source": [
        "predictions_out"
      ]
    },
    {
      "cell_type": "markdown",
      "metadata": {},
      "source": [
        "One can see that the first and second sentences are correctly classified as negative and positive. However the third sentence is wrongly classified as positive. It's because the tfidf vectorizer is just counting the number of occurences of each word in the text. It doesn't take into account the importance of the word. As a result even though the third sentence is negative, it's classified as positive because it contains the word \"love\" and \"birthday\"and \"party\"."
      ]
    },
    {
      "cell_type": "markdown",
      "metadata": {},
      "source": []
    }
  ],
  "metadata": {
    "accelerator": "GPU",
    "colab": {
      "collapsed_sections": [],
      "machine_shape": "hm",
      "name": "main_notebook.ipynb",
      "provenance": []
    },
    "interpreter": {
      "hash": "822dd2d5dd360abba25557036e653898358cd5c8dbb7b3b755070434497e6489"
    },
    "kernelspec": {
      "display_name": "Python 3",
      "language": "python",
      "name": "python3"
    },
    "language_info": {
      "codemirror_mode": {
        "name": "ipython",
        "version": 3
      },
      "file_extension": ".py",
      "mimetype": "text/x-python",
      "name": "python",
      "nbconvert_exporter": "python",
      "pygments_lexer": "ipython3",
      "version": "3.10.4"
    }
  },
  "nbformat": 4,
  "nbformat_minor": 0
}
