{
  "cells": [
    {
      "cell_type": "code",
      "execution_count": null,
      "metadata": {
        "id": "d9HjnVDmssa8"
      },
      "outputs": [],
      "source": [
        "# from os import chdir\n",
        "# from google.colab import drive\n",
        "\n",
        "# drive.mount(\"/content/drive\", force_remount=True)\n",
        "# chdir(\"/content/drive/MyDrive/Eliott/files/\")"
      ]
    },
    {
      "cell_type": "code",
      "execution_count": null,
      "metadata": {
        "id": "v-9SGvosr0_w"
      },
      "outputs": [],
      "source": [
        "# IMPORTS\n",
        "\n",
        "import numpy as np\n",
        "import pandas as pd\n",
        "\n",
        "\n"
      ]
    },
    {
      "cell_type": "code",
      "execution_count": null,
      "metadata": {
        "id": "GJxSQ8fDr0_2"
      },
      "outputs": [],
      "source": [
        "# Ouverture\n",
        "\n",
        "df_train = pd.read_csv('Corona_NLP_train.csv', sep=',', encoding='latin')\n",
        "\n",
        "df_test = pd.read_csv('Corona_NLP_test.csv', sep=',', encoding='latin')\n",
        "\n"
      ]
    },
    {
      "cell_type": "code",
      "execution_count": null,
      "metadata": {
        "colab": {
          "base_uri": "https://localhost:8080/"
        },
        "id": "e6K6Gdokr0_3",
        "outputId": "24ea56dd-7d54-4474-d72d-01e2be339ed6"
      },
      "outputs": [
        {
          "data": {
            "text/plain": [
              "(41157, 6)"
            ]
          },
          "execution_count": 46,
          "metadata": {},
          "output_type": "execute_result"
        }
      ],
      "source": [
        "df_train.shape"
      ]
    },
    {
      "cell_type": "code",
      "execution_count": null,
      "metadata": {
        "colab": {
          "base_uri": "https://localhost:8080/",
          "height": 206
        },
        "id": "b1LPxOk_r0_4",
        "outputId": "beeae75b-cab6-4cf5-f7b7-514a38c60fd1"
      },
      "outputs": [
        {
          "data": {
            "text/html": [
              "<div>\n",
              "<style scoped>\n",
              "    .dataframe tbody tr th:only-of-type {\n",
              "        vertical-align: middle;\n",
              "    }\n",
              "\n",
              "    .dataframe tbody tr th {\n",
              "        vertical-align: top;\n",
              "    }\n",
              "\n",
              "    .dataframe thead th {\n",
              "        text-align: right;\n",
              "    }\n",
              "</style>\n",
              "<table border=\"1\" class=\"dataframe\">\n",
              "  <thead>\n",
              "    <tr style=\"text-align: right;\">\n",
              "      <th></th>\n",
              "      <th>UserName</th>\n",
              "      <th>ScreenName</th>\n",
              "      <th>Location</th>\n",
              "      <th>TweetAt</th>\n",
              "      <th>OriginalTweet</th>\n",
              "      <th>Sentiment</th>\n",
              "    </tr>\n",
              "  </thead>\n",
              "  <tbody>\n",
              "    <tr>\n",
              "      <th>0</th>\n",
              "      <td>3799</td>\n",
              "      <td>48751</td>\n",
              "      <td>London</td>\n",
              "      <td>16-03-2020</td>\n",
              "      <td>@MeNyrbie @Phil_Gahan @Chrisitv https://t.co/i...</td>\n",
              "      <td>Neutral</td>\n",
              "    </tr>\n",
              "    <tr>\n",
              "      <th>1</th>\n",
              "      <td>3800</td>\n",
              "      <td>48752</td>\n",
              "      <td>UK</td>\n",
              "      <td>16-03-2020</td>\n",
              "      <td>advice Talk to your neighbours family to excha...</td>\n",
              "      <td>Positive</td>\n",
              "    </tr>\n",
              "    <tr>\n",
              "      <th>2</th>\n",
              "      <td>3801</td>\n",
              "      <td>48753</td>\n",
              "      <td>Vagabonds</td>\n",
              "      <td>16-03-2020</td>\n",
              "      <td>Coronavirus Australia: Woolworths to give elde...</td>\n",
              "      <td>Positive</td>\n",
              "    </tr>\n",
              "    <tr>\n",
              "      <th>3</th>\n",
              "      <td>3802</td>\n",
              "      <td>48754</td>\n",
              "      <td>NaN</td>\n",
              "      <td>16-03-2020</td>\n",
              "      <td>My food stock is not the only one which is emp...</td>\n",
              "      <td>Positive</td>\n",
              "    </tr>\n",
              "    <tr>\n",
              "      <th>4</th>\n",
              "      <td>3803</td>\n",
              "      <td>48755</td>\n",
              "      <td>NaN</td>\n",
              "      <td>16-03-2020</td>\n",
              "      <td>Me, ready to go at supermarket during the #COV...</td>\n",
              "      <td>Extremely Negative</td>\n",
              "    </tr>\n",
              "  </tbody>\n",
              "</table>\n",
              "</div>"
            ],
            "text/plain": [
              "   UserName  ScreenName   Location     TweetAt  \\\n",
              "0      3799       48751     London  16-03-2020   \n",
              "1      3800       48752         UK  16-03-2020   \n",
              "2      3801       48753  Vagabonds  16-03-2020   \n",
              "3      3802       48754        NaN  16-03-2020   \n",
              "4      3803       48755        NaN  16-03-2020   \n",
              "\n",
              "                                       OriginalTweet           Sentiment  \n",
              "0  @MeNyrbie @Phil_Gahan @Chrisitv https://t.co/i...             Neutral  \n",
              "1  advice Talk to your neighbours family to excha...            Positive  \n",
              "2  Coronavirus Australia: Woolworths to give elde...            Positive  \n",
              "3  My food stock is not the only one which is emp...            Positive  \n",
              "4  Me, ready to go at supermarket during the #COV...  Extremely Negative  "
            ]
          },
          "execution_count": 47,
          "metadata": {},
          "output_type": "execute_result"
        }
      ],
      "source": [
        "df_train.head()"
      ]
    },
    {
      "cell_type": "code",
      "execution_count": null,
      "metadata": {
        "id": "YKyo0k2Cr0_5"
      },
      "outputs": [],
      "source": [
        "# PREPROCESSING"
      ]
    },
    {
      "cell_type": "markdown",
      "metadata": {
        "id": "hxNzBeDDr0_5"
      },
      "source": [
        "On vérifie qu'il n'y a pas de null (autre que location) et de ligne dupliquées"
      ]
    },
    {
      "cell_type": "code",
      "execution_count": null,
      "metadata": {
        "colab": {
          "base_uri": "https://localhost:8080/"
        },
        "id": "FVcdKZWZr0_7",
        "outputId": "924d19b2-909f-4c2e-8239-0ecbbdbc9270"
      },
      "outputs": [
        {
          "data": {
            "text/plain": [
              "Index(['UserName', 'ScreenName', 'Location', 'TweetAt', 'OriginalTweet',\n",
              "       'Sentiment'],\n",
              "      dtype='object')"
            ]
          },
          "execution_count": 49,
          "metadata": {},
          "output_type": "execute_result"
        }
      ],
      "source": [
        "df_train.columns"
      ]
    },
    {
      "cell_type": "code",
      "execution_count": null,
      "metadata": {
        "id": "4WmpuJtUr0_9"
      },
      "outputs": [],
      "source": [
        "df_train = df_train.drop(['Location'], axis=1)\n",
        "df_test = df_test.drop(['Location'], axis=1)\n",
        "\n"
      ]
    },
    {
      "cell_type": "code",
      "execution_count": null,
      "metadata": {
        "colab": {
          "base_uri": "https://localhost:8080/"
        },
        "id": "LagZ3UGOr0_-",
        "outputId": "5d9346d5-e14a-45a7-a1bc-24580dc967eb"
      },
      "outputs": [
        {
          "data": {
            "text/plain": [
              "Positive              11422\n",
              "Negative               9917\n",
              "Neutral                7713\n",
              "Extremely Positive     6624\n",
              "Extremely Negative     5481\n",
              "Name: Sentiment, dtype: int64"
            ]
          },
          "execution_count": 51,
          "metadata": {},
          "output_type": "execute_result"
        }
      ],
      "source": [
        "df_train['Sentiment'].value_counts()"
      ]
    },
    {
      "cell_type": "code",
      "execution_count": null,
      "metadata": {
        "colab": {
          "base_uri": "https://localhost:8080/"
        },
        "id": "rtECm4T5r0__",
        "outputId": "05dddcaa-7b66-4f1e-aebd-7396a5712b96"
      },
      "outputs": [
        {
          "data": {
            "text/plain": [
              "UserName         41157\n",
              "ScreenName       41157\n",
              "TweetAt          41157\n",
              "OriginalTweet    41157\n",
              "Sentiment        41157\n",
              "dtype: int64"
            ]
          },
          "execution_count": 52,
          "metadata": {},
          "output_type": "execute_result"
        }
      ],
      "source": [
        "df_train.count()"
      ]
    },
    {
      "cell_type": "code",
      "execution_count": null,
      "metadata": {
        "id": "6KKAxXmkr1AA"
      },
      "outputs": [],
      "source": [
        "train_df2 = df_train.dropna()\n",
        "test_df2 = df_test.dropna()\n",
        "\n"
      ]
    },
    {
      "cell_type": "code",
      "execution_count": null,
      "metadata": {
        "colab": {
          "base_uri": "https://localhost:8080/"
        },
        "id": "OX-18N-jr1AA",
        "outputId": "4cf5a959-d34c-4730-bfd4-7ac02cde1706"
      },
      "outputs": [
        {
          "data": {
            "text/plain": [
              "UserName         41157\n",
              "ScreenName       41157\n",
              "TweetAt          41157\n",
              "OriginalTweet    41157\n",
              "Sentiment        41157\n",
              "dtype: int64"
            ]
          },
          "execution_count": 54,
          "metadata": {},
          "output_type": "execute_result"
        }
      ],
      "source": [
        "train_df2.count()"
      ]
    },
    {
      "cell_type": "code",
      "execution_count": null,
      "metadata": {
        "id": "PzvWPJA8r1AB"
      },
      "outputs": [],
      "source": [
        "train_df3 = train_df2.drop_duplicates()\n",
        "test_df3 = test_df2.drop_duplicates()"
      ]
    },
    {
      "cell_type": "code",
      "execution_count": null,
      "metadata": {
        "colab": {
          "base_uri": "https://localhost:8080/"
        },
        "id": "zRevA4Mnr1AB",
        "outputId": "0720d291-ed7a-4c35-8e36-ebca5b08d89e"
      },
      "outputs": [
        {
          "data": {
            "text/plain": [
              "UserName         41157\n",
              "ScreenName       41157\n",
              "TweetAt          41157\n",
              "OriginalTweet    41157\n",
              "Sentiment        41157\n",
              "dtype: int64"
            ]
          },
          "execution_count": 56,
          "metadata": {},
          "output_type": "execute_result"
        }
      ],
      "source": [
        "train_df3.count()"
      ]
    },
    {
      "cell_type": "markdown",
      "metadata": {
        "id": "d7Dxwv-ir1AC"
      },
      "source": [
        "On enlève : \n",
        "- Les URLS\n",
        "- Hashtags\n",
        "- Mentions\n",
        "- Mots réservés\n",
        "- Emojis et smileys\n"
      ]
    },
    {
      "cell_type": "code",
      "execution_count": null,
      "metadata": {
        "id": "cV0MvjnYuHnZ"
      },
      "outputs": [],
      "source": [
        ""
      ]
    },
    {
      "cell_type": "code",
      "execution_count": null,
      "metadata": {
        "id": "BUfb-Etxr1AC"
      },
      "outputs": [],
      "source": [
        "import preprocessor as p\n"
      ]
    },
    {
      "cell_type": "code",
      "execution_count": null,
      "metadata": {
        "id": "uRR621yVr1AC"
      },
      "outputs": [],
      "source": [
        "def preprocess_tweet(row):\n",
        "    text = row['OriginalTweet']\n",
        "    text = p.clean(text)\n",
        "    return text"
      ]
    },
    {
      "cell_type": "code",
      "execution_count": null,
      "metadata": {
        "id": "v96UfNKNr1AD"
      },
      "outputs": [],
      "source": [
        "train_df3['OriginalTweet'] = train_df3.apply(preprocess_tweet, axis=1)\n",
        "test_df3['OriginalTweet'] = test_df3.apply(preprocess_tweet, axis=1)"
      ]
    },
    {
      "cell_type": "code",
      "execution_count": null,
      "metadata": {
        "colab": {
          "base_uri": "https://localhost:8080/",
          "height": 206
        },
        "id": "xDSRB9hir1AD",
        "outputId": "c8cb3442-4c57-47fd-cf01-9b300c01eed9"
      },
      "outputs": [
        {
          "data": {
            "text/html": [
              "<div>\n",
              "<style scoped>\n",
              "    .dataframe tbody tr th:only-of-type {\n",
              "        vertical-align: middle;\n",
              "    }\n",
              "\n",
              "    .dataframe tbody tr th {\n",
              "        vertical-align: top;\n",
              "    }\n",
              "\n",
              "    .dataframe thead th {\n",
              "        text-align: right;\n",
              "    }\n",
              "</style>\n",
              "<table border=\"1\" class=\"dataframe\">\n",
              "  <thead>\n",
              "    <tr style=\"text-align: right;\">\n",
              "      <th></th>\n",
              "      <th>UserName</th>\n",
              "      <th>ScreenName</th>\n",
              "      <th>TweetAt</th>\n",
              "      <th>OriginalTweet</th>\n",
              "      <th>Sentiment</th>\n",
              "    </tr>\n",
              "  </thead>\n",
              "  <tbody>\n",
              "    <tr>\n",
              "      <th>0</th>\n",
              "      <td>3799</td>\n",
              "      <td>48751</td>\n",
              "      <td>16-03-2020</td>\n",
              "      <td>and and</td>\n",
              "      <td>Neutral</td>\n",
              "    </tr>\n",
              "    <tr>\n",
              "      <th>1</th>\n",
              "      <td>3800</td>\n",
              "      <td>48752</td>\n",
              "      <td>16-03-2020</td>\n",
              "      <td>advice Talk to your neighbours family to excha...</td>\n",
              "      <td>Positive</td>\n",
              "    </tr>\n",
              "    <tr>\n",
              "      <th>2</th>\n",
              "      <td>3801</td>\n",
              "      <td>48753</td>\n",
              "      <td>16-03-2020</td>\n",
              "      <td>Coronavirus Australia: Woolworths to give elde...</td>\n",
              "      <td>Positive</td>\n",
              "    </tr>\n",
              "    <tr>\n",
              "      <th>3</th>\n",
              "      <td>3802</td>\n",
              "      <td>48754</td>\n",
              "      <td>16-03-2020</td>\n",
              "      <td>My food stock is not the only one which is emp...</td>\n",
              "      <td>Positive</td>\n",
              "    </tr>\n",
              "    <tr>\n",
              "      <th>4</th>\n",
              "      <td>3803</td>\n",
              "      <td>48755</td>\n",
              "      <td>16-03-2020</td>\n",
              "      <td>Me, ready to go at supermarket during the outb...</td>\n",
              "      <td>Extremely Negative</td>\n",
              "    </tr>\n",
              "  </tbody>\n",
              "</table>\n",
              "</div>"
            ],
            "text/plain": [
              "   UserName  ScreenName     TweetAt  \\\n",
              "0      3799       48751  16-03-2020   \n",
              "1      3800       48752  16-03-2020   \n",
              "2      3801       48753  16-03-2020   \n",
              "3      3802       48754  16-03-2020   \n",
              "4      3803       48755  16-03-2020   \n",
              "\n",
              "                                       OriginalTweet           Sentiment  \n",
              "0                                            and and             Neutral  \n",
              "1  advice Talk to your neighbours family to excha...            Positive  \n",
              "2  Coronavirus Australia: Woolworths to give elde...            Positive  \n",
              "3  My food stock is not the only one which is emp...            Positive  \n",
              "4  Me, ready to go at supermarket during the outb...  Extremely Negative  "
            ]
          },
          "execution_count": 60,
          "metadata": {},
          "output_type": "execute_result"
        }
      ],
      "source": [
        "train_df3.head()\n"
      ]
    },
    {
      "cell_type": "code",
      "execution_count": null,
      "metadata": {
        "colab": {
          "base_uri": "https://localhost:8080/"
        },
        "id": "SQoY53uTr1AE",
        "outputId": "26308410-3e31-45b8-8851-46dbec419152"
      },
      "outputs": [
        {
          "name": "stderr",
          "output_type": "stream",
          "text": [
            "/tmp/ipykernel_9028/2468492154.py:1: FutureWarning: The default value of regex will change from True to False in a future version.\n",
            "  train_df3['OriginalTweet'] = train_df3['OriginalTweet'].str.lower().str.replace('[^\\w\\s]',' ').str.replace('\\s\\s+', ' ')\n",
            "/tmp/ipykernel_9028/2468492154.py:2: FutureWarning: The default value of regex will change from True to False in a future version.\n",
            "  test_df3['OriginalTweet'] = test_df3['OriginalTweet'].str.lower().str.replace('[^\\w\\s]',' ').str.replace('\\s\\s+', ' ')\n"
          ]
        }
      ],
      "source": [
        "train_df3['OriginalTweet'] = train_df3['OriginalTweet'].str.lower().str.replace('[^\\w\\s]',' ').str.replace('\\s\\s+', ' ')\n",
        "test_df3['OriginalTweet'] = test_df3['OriginalTweet'].str.lower().str.replace('[^\\w\\s]',' ').str.replace('\\s\\s+', ' ')"
      ]
    },
    {
      "cell_type": "code",
      "execution_count": null,
      "metadata": {
        "colab": {
          "base_uri": "https://localhost:8080/",
          "height": 206
        },
        "id": "Ti5TWu4ar1AE",
        "outputId": "735ca58d-2cd0-4a06-8648-95250286049d"
      },
      "outputs": [
        {
          "data": {
            "text/html": [
              "<div>\n",
              "<style scoped>\n",
              "    .dataframe tbody tr th:only-of-type {\n",
              "        vertical-align: middle;\n",
              "    }\n",
              "\n",
              "    .dataframe tbody tr th {\n",
              "        vertical-align: top;\n",
              "    }\n",
              "\n",
              "    .dataframe thead th {\n",
              "        text-align: right;\n",
              "    }\n",
              "</style>\n",
              "<table border=\"1\" class=\"dataframe\">\n",
              "  <thead>\n",
              "    <tr style=\"text-align: right;\">\n",
              "      <th></th>\n",
              "      <th>UserName</th>\n",
              "      <th>ScreenName</th>\n",
              "      <th>TweetAt</th>\n",
              "      <th>OriginalTweet</th>\n",
              "      <th>Sentiment</th>\n",
              "    </tr>\n",
              "  </thead>\n",
              "  <tbody>\n",
              "    <tr>\n",
              "      <th>0</th>\n",
              "      <td>3799</td>\n",
              "      <td>48751</td>\n",
              "      <td>16-03-2020</td>\n",
              "      <td>and and</td>\n",
              "      <td>Neutral</td>\n",
              "    </tr>\n",
              "    <tr>\n",
              "      <th>1</th>\n",
              "      <td>3800</td>\n",
              "      <td>48752</td>\n",
              "      <td>16-03-2020</td>\n",
              "      <td>advice talk to your neighbours family to excha...</td>\n",
              "      <td>Positive</td>\n",
              "    </tr>\n",
              "    <tr>\n",
              "      <th>2</th>\n",
              "      <td>3801</td>\n",
              "      <td>48753</td>\n",
              "      <td>16-03-2020</td>\n",
              "      <td>coronavirus australia woolworths to give elder...</td>\n",
              "      <td>Positive</td>\n",
              "    </tr>\n",
              "    <tr>\n",
              "      <th>3</th>\n",
              "      <td>3802</td>\n",
              "      <td>48754</td>\n",
              "      <td>16-03-2020</td>\n",
              "      <td>my food stock is not the only one which is emp...</td>\n",
              "      <td>Positive</td>\n",
              "    </tr>\n",
              "    <tr>\n",
              "      <th>4</th>\n",
              "      <td>3803</td>\n",
              "      <td>48755</td>\n",
              "      <td>16-03-2020</td>\n",
              "      <td>me ready to go at supermarket during the outbr...</td>\n",
              "      <td>Extremely Negative</td>\n",
              "    </tr>\n",
              "  </tbody>\n",
              "</table>\n",
              "</div>"
            ],
            "text/plain": [
              "   UserName  ScreenName     TweetAt  \\\n",
              "0      3799       48751  16-03-2020   \n",
              "1      3800       48752  16-03-2020   \n",
              "2      3801       48753  16-03-2020   \n",
              "3      3802       48754  16-03-2020   \n",
              "4      3803       48755  16-03-2020   \n",
              "\n",
              "                                       OriginalTweet           Sentiment  \n",
              "0                                            and and             Neutral  \n",
              "1  advice talk to your neighbours family to excha...            Positive  \n",
              "2  coronavirus australia woolworths to give elder...            Positive  \n",
              "3  my food stock is not the only one which is emp...            Positive  \n",
              "4  me ready to go at supermarket during the outbr...  Extremely Negative  "
            ]
          },
          "execution_count": 62,
          "metadata": {},
          "output_type": "execute_result"
        }
      ],
      "source": [
        "train_df3.head()\n"
      ]
    },
    {
      "cell_type": "code",
      "execution_count": null,
      "metadata": {
        "id": "bFMxP6SzCc-p"
      },
      "outputs": [],
      "source": [
        "def give_number_to_3_class(row):\n",
        "    sent = row['Sentiment']\n",
        "\n",
        "    if sent=='Extremely Negative':\n",
        "        return -1\n",
        "    elif sent=='Negative':\n",
        "        return -1\n",
        "    elif sent=='Neutral':\n",
        "        return 0\n",
        "    elif sent=='Positive':\n",
        "        return 1\n",
        "    else:\n",
        "        return 1"
      ]
    },
    {
      "cell_type": "code",
      "execution_count": null,
      "metadata": {
        "id": "uFXm6FDcr1AF"
      },
      "outputs": [],
      "source": [
        "def give_number_to_class(row):\n",
        "    sent = row['Sentiment']\n",
        "\n",
        "    if sent=='Extremely Negative':\n",
        "        return 0\n",
        "    elif sent=='Negative':\n",
        "        return 1\n",
        "    elif sent=='Neutral':\n",
        "        return 2\n",
        "    elif sent=='Positive':\n",
        "        return 3\n",
        "    else:\n",
        "        return 4\n",
        "\n",
        "\n",
        "    "
      ]
    },
    {
      "cell_type": "code",
      "execution_count": null,
      "metadata": {
        "id": "r76Zyr60r1AG"
      },
      "outputs": [],
      "source": [
        "train_df3['Sentiment_Number'] = train_df3.apply(give_number_to_3_class, axis=1)\n",
        "test_df3['Sentiment_Number'] = test_df3.apply(give_number_to_3_class, axis=1)\n",
        "\n"
      ]
    },
    {
      "cell_type": "code",
      "execution_count": null,
      "metadata": {
        "colab": {
          "base_uri": "https://localhost:8080/",
          "height": 206
        },
        "id": "TIzGXzwJr1AG",
        "outputId": "1ee92638-ac4d-4cde-abc3-972bd7898007"
      },
      "outputs": [
        {
          "data": {
            "text/html": [
              "<div>\n",
              "<style scoped>\n",
              "    .dataframe tbody tr th:only-of-type {\n",
              "        vertical-align: middle;\n",
              "    }\n",
              "\n",
              "    .dataframe tbody tr th {\n",
              "        vertical-align: top;\n",
              "    }\n",
              "\n",
              "    .dataframe thead th {\n",
              "        text-align: right;\n",
              "    }\n",
              "</style>\n",
              "<table border=\"1\" class=\"dataframe\">\n",
              "  <thead>\n",
              "    <tr style=\"text-align: right;\">\n",
              "      <th></th>\n",
              "      <th>UserName</th>\n",
              "      <th>ScreenName</th>\n",
              "      <th>TweetAt</th>\n",
              "      <th>OriginalTweet</th>\n",
              "      <th>Sentiment</th>\n",
              "      <th>Sentiment_Number</th>\n",
              "    </tr>\n",
              "  </thead>\n",
              "  <tbody>\n",
              "    <tr>\n",
              "      <th>0</th>\n",
              "      <td>3799</td>\n",
              "      <td>48751</td>\n",
              "      <td>16-03-2020</td>\n",
              "      <td>and and</td>\n",
              "      <td>Neutral</td>\n",
              "      <td>0</td>\n",
              "    </tr>\n",
              "    <tr>\n",
              "      <th>1</th>\n",
              "      <td>3800</td>\n",
              "      <td>48752</td>\n",
              "      <td>16-03-2020</td>\n",
              "      <td>advice talk to your neighbours family to excha...</td>\n",
              "      <td>Positive</td>\n",
              "      <td>1</td>\n",
              "    </tr>\n",
              "    <tr>\n",
              "      <th>2</th>\n",
              "      <td>3801</td>\n",
              "      <td>48753</td>\n",
              "      <td>16-03-2020</td>\n",
              "      <td>coronavirus australia woolworths to give elder...</td>\n",
              "      <td>Positive</td>\n",
              "      <td>1</td>\n",
              "    </tr>\n",
              "    <tr>\n",
              "      <th>3</th>\n",
              "      <td>3802</td>\n",
              "      <td>48754</td>\n",
              "      <td>16-03-2020</td>\n",
              "      <td>my food stock is not the only one which is emp...</td>\n",
              "      <td>Positive</td>\n",
              "      <td>1</td>\n",
              "    </tr>\n",
              "    <tr>\n",
              "      <th>4</th>\n",
              "      <td>3803</td>\n",
              "      <td>48755</td>\n",
              "      <td>16-03-2020</td>\n",
              "      <td>me ready to go at supermarket during the outbr...</td>\n",
              "      <td>Extremely Negative</td>\n",
              "      <td>-1</td>\n",
              "    </tr>\n",
              "  </tbody>\n",
              "</table>\n",
              "</div>"
            ],
            "text/plain": [
              "   UserName  ScreenName     TweetAt  \\\n",
              "0      3799       48751  16-03-2020   \n",
              "1      3800       48752  16-03-2020   \n",
              "2      3801       48753  16-03-2020   \n",
              "3      3802       48754  16-03-2020   \n",
              "4      3803       48755  16-03-2020   \n",
              "\n",
              "                                       OriginalTweet           Sentiment  \\\n",
              "0                                            and and             Neutral   \n",
              "1  advice talk to your neighbours family to excha...            Positive   \n",
              "2  coronavirus australia woolworths to give elder...            Positive   \n",
              "3  my food stock is not the only one which is emp...            Positive   \n",
              "4  me ready to go at supermarket during the outbr...  Extremely Negative   \n",
              "\n",
              "   Sentiment_Number  \n",
              "0                 0  \n",
              "1                 1  \n",
              "2                 1  \n",
              "3                 1  \n",
              "4                -1  "
            ]
          },
          "execution_count": 66,
          "metadata": {},
          "output_type": "execute_result"
        }
      ],
      "source": [
        "train_df3.head()"
      ]
    },
    {
      "cell_type": "code",
      "execution_count": null,
      "metadata": {
        "colab": {
          "base_uri": "https://localhost:8080/"
        },
        "id": "unlz-YHqr1AG",
        "outputId": "d90cf7a5-14b4-476c-e850-1dc17174c1aa"
      },
      "outputs": [
        {
          "data": {
            "text/plain": [
              "array(['Extremely Negative', 'Extremely Positive', 'Negative', 'Neutral',\n",
              "       'Positive'], dtype=object)"
            ]
          },
          "execution_count": 67,
          "metadata": {},
          "output_type": "execute_result"
        }
      ],
      "source": [
        "np.unique(train_df3[\"Sentiment\"].values)"
      ]
    },
    {
      "cell_type": "code",
      "execution_count": null,
      "metadata": {
        "id": "4lqq2nZGr1AH"
      },
      "outputs": [],
      "source": [
        "X_train = train_df3['OriginalTweet']  \n",
        "X_test = test_df3['OriginalTweet']  \n",
        "\n",
        "y_train = train_df3['Sentiment_Number']\n",
        "y_test = test_df3['Sentiment_Number']"
      ]
    },
    {
      "cell_type": "code",
      "execution_count": null,
      "metadata": {
        "colab": {
          "base_uri": "https://localhost:8080/",
          "height": 35
        },
        "id": "Y7MGr7HAr1AH",
        "outputId": "3b8592d2-75a5-4990-dc29-a9d7fbb94753"
      },
      "outputs": [
        {
          "data": {
            "text/plain": [
              "'and and'"
            ]
          },
          "execution_count": 69,
          "metadata": {},
          "output_type": "execute_result"
        }
      ],
      "source": [
        "X_train[0]"
      ]
    },
    {
      "cell_type": "code",
      "execution_count": null,
      "metadata": {
        "colab": {
          "base_uri": "https://localhost:8080/"
        },
        "id": "H4Qi08mAr1AH",
        "outputId": "ece82fad-52e3-4c85-df63-66a18145ad5c"
      },
      "outputs": [
        {
          "data": {
            "text/plain": [
              "UserName         0\n",
              "ScreenName       0\n",
              "TweetAt          0\n",
              "OriginalTweet    0\n",
              "Sentiment        0\n",
              "dtype: int64"
            ]
          },
          "execution_count": 70,
          "metadata": {},
          "output_type": "execute_result"
        }
      ],
      "source": [
        "df_train.isnull().sum()"
      ]
    },
    {
      "cell_type": "code",
      "execution_count": null,
      "metadata": {
        "colab": {
          "base_uri": "https://localhost:8080/"
        },
        "id": "irIsxxEEr1AH",
        "outputId": "b036f949-db49-4c06-8501-5f6d89a6bfd5"
      },
      "outputs": [
        {
          "data": {
            "text/plain": [
              "array(['16-03-2020', '16-03-2020', '16-03-2020', ..., '14-04-2020',\n",
              "       '14-04-2020', '14-04-2020'], dtype=object)"
            ]
          },
          "execution_count": 71,
          "metadata": {},
          "output_type": "execute_result"
        }
      ],
      "source": [
        "df_train['TweetAt'].values"
      ]
    },
    {
      "cell_type": "code",
      "execution_count": null,
      "metadata": {
        "colab": {
          "base_uri": "https://localhost:8080/"
        },
        "id": "cmnj7NPUr1AI",
        "outputId": "d499caa8-c9d2-44dd-db2a-b78fc2085915"
      },
      "outputs": [
        {
          "data": {
            "text/plain": [
              "<1x35525 sparse matrix of type '<class 'numpy.float64'>'\n",
              "\twith 33 stored elements in Compressed Sparse Row format>"
            ]
          },
          "execution_count": 73,
          "metadata": {},
          "output_type": "execute_result"
        }
      ],
      "source": [
        "X_train_tfidf[1]\n"
      ]
    },
    {
      "cell_type": "markdown",
      "metadata": {
        "id": "KMY7FfWTr1AI"
      },
      "source": [
        "# Recherche d'Hyperparamètres"
      ]
    },
    {
      "cell_type": "code",
      "execution_count": null,
      "metadata": {
        "id": "sNmGkAHpCc-q",
        "outputId": "6af60f34-8aea-4398-c7a5-ffda38d0da0f"
      },
      "outputs": [
        {
          "data": {
            "text/plain": [
              "(41157,)"
            ]
          },
          "execution_count": 32,
          "metadata": {},
          "output_type": "execute_result"
        }
      ],
      "source": [
        "y_train.shape"
      ]
    },
    {
      "cell_type": "code",
      "execution_count": null,
      "metadata": {
        "id": "En34oFshCc-r"
      },
      "outputs": [],
      "source": [
        "from sklearn.feature_extraction.text import TfidfVectorizer\n",
        "\n",
        "from sklearn.pipeline import Pipeline\n",
        "from sklearn.svm import LinearSVC\n",
        "from sklearn.model_selection import GridSearchCV\n",
        "\n",
        "from sklearn.linear_model import SGDClassifier\n",
        "from sklearn.ensemble import RandomForestClassifier\n",
        "from sklearn.linear_model import LogisticRegression"
      ]
    },
    {
      "cell_type": "code",
      "execution_count": null,
      "metadata": {
        "id": "hUD1fJdICc-r",
        "outputId": "9db1e5b3-bda1-4dd4-995b-b1ce4a146c2e"
      },
      "outputs": [
        {
          "data": {
            "text/plain": [
              "0                                                  and and\n",
              "1        advice talk to your neighbours family to excha...\n",
              "2        coronavirus australia woolworths to give elder...\n",
              "3        my food stock is not the only one which is emp...\n",
              "4        me ready to go at supermarket during the outbr...\n",
              "                               ...                        \n",
              "41152    airline pilots offering to stock supermarket s...\n",
              "41153    response to complaint not provided citing covi...\n",
              "41154    you know its getting tough when is rationing t...\n",
              "41155    is it wrong that the smell of hand sanitizer i...\n",
              "41156    well new used rift s are going for 700 00 on a...\n",
              "Name: OriginalTweet, Length: 41157, dtype: object"
            ]
          },
          "execution_count": 75,
          "metadata": {},
          "output_type": "execute_result"
        }
      ],
      "source": [
        "X_train\n"
      ]
    },
    {
      "cell_type": "code",
      "execution_count": null,
      "metadata": {
        "id": "gw_ctOGer1AJ",
        "outputId": "64711ad4-134c-4740-93ae-81cd1d39bf18"
      },
      "outputs": [
        {
          "name": "stdout",
          "output_type": "stream",
          "text": [
            "Fitting 5 folds for each of 30 candidates, totalling 150 fits\n"
          ]
        }
      ],
      "source": [
        "\n",
        "\n",
        "\n",
        "# from sklearn.feature_extraction.text import TfidfVectorizer\n",
        "# from sklearn.svm import LinearSVC\n",
        "\n",
        "\n",
        "grid_params = {\n",
        "  'clf__penalty': ['l2', 'l1', 'elasticnet'],\n",
        "  'clf__alpha': np.linspace(0.00001, 0.001, 10),  \n",
        "}\n",
        "\n",
        "\n",
        "\n",
        "pipeline_clf = Pipeline([('tfidf', TfidfVectorizer()),\n",
        "                     ('clf', SGDClassifier()),\n",
        "])\n",
        "\n",
        "\n",
        "clf = GridSearchCV(pipeline_clf, grid_params,verbose=1, scoring='accuracy' ,n_jobs=-1)\n",
        "sgd_best = clf.fit(X_train, y_train)\n",
        "\n",
        "\n",
        "\n",
        "\n",
        "\n",
        "\n"
      ]
    },
    {
      "cell_type": "code",
      "execution_count": null,
      "metadata": {
        "id": "rNZdWzmECc-s",
        "outputId": "de030e87-d92c-4f72-9081-fd094f7dd765"
      },
      "outputs": [
        {
          "name": "stdout",
          "output_type": "stream",
          "text": [
            "Best Score:  0.8779066912531366\n",
            "Best Params:  {'clf__alpha': 1e-05, 'clf__penalty': 'l1'}\n"
          ]
        }
      ],
      "source": [
        "print(\"Best Score: \", clf.best_score_)\n",
        "print(\"Best Params: \", clf.best_params_)\n",
        "\n",
        "\n",
        "\n",
        "# Feed the training data through the pipeline\n",
        "#text_clf.fit(X_train, y_train) \n"
      ]
    },
    {
      "cell_type": "markdown",
      "metadata": {
        "id": "A-R5-LqYCc-s"
      },
      "source": [
        "### Gradient boosting"
      ]
    },
    {
      "cell_type": "code",
      "execution_count": null,
      "metadata": {
        "id": "Js4osvIVCc-s"
      },
      "outputs": [],
      "source": [
        "from sklearn.ensemble import GradientBoostingClassifier"
      ]
    },
    {
      "cell_type": "code",
      "execution_count": null,
      "metadata": {
        "id": "eADXIJhICc-s"
      },
      "outputs": [],
      "source": [
        "GB_param = {\n",
        "    \"gb_clf__learning_rate\": [0.01, 0.1, 0.2],\n",
        "    \"gb_clf__n_estimators\":[10,100]\n",
        "    }"
      ]
    },
    {
      "cell_type": "code",
      "execution_count": null,
      "metadata": {
        "id": "CYWf_gRmCc-s"
      },
      "outputs": [],
      "source": [
        "pipeline_gradient_boosting = Pipeline([('tfidf', TfidfVectorizer()),\n",
        "                     ('gb_clf', GradientBoostingClassifier()),\n",
        "])\n",
        "\n",
        "\n",
        "gb_clf = GridSearchCV(pipeline_gradient_boosting, GB_param, scoring='accuracy', verbose=1 ,n_jobs=-1)"
      ]
    },
    {
      "cell_type": "code",
      "execution_count": null,
      "metadata": {
        "id": "L58wVHqXCc-s",
        "outputId": "3f0828a6-faf9-4251-ac38-783416ab50e3"
      },
      "outputs": [
        {
          "name": "stdout",
          "output_type": "stream",
          "text": [
            "Fitting 5 folds for each of 6 candidates, totalling 30 fits\n"
          ]
        }
      ],
      "source": [
        "subset = X_train.shape[0]\n",
        "\n",
        "gb_best = gb_clf.fit(X_train[:subset], y_train[:subset])    "
      ]
    },
    {
      "cell_type": "code",
      "execution_count": null,
      "metadata": {
        "id": "FPjgbNPZCc-s",
        "outputId": "77ceb4a5-b879-4f76-a949-9b0e0582648f"
      },
      "outputs": [
        {
          "name": "stdout",
          "output_type": "stream",
          "text": [
            "Best Score:  0.7135113803926209\n",
            "Best Params:  {'gb_clf__learning_rate': 0.2, 'gb_clf__n_estimators': 100}\n"
          ]
        }
      ],
      "source": [
        "print(\"Best Score: \", gb_clf.best_score_)\n",
        "print(\"Best Params: \", gb_clf.best_params_)"
      ]
    },
    {
      "cell_type": "markdown",
      "metadata": {
        "id": "Jf8DtN5iCc-t"
      },
      "source": [
        "### Random Forest"
      ]
    },
    {
      "cell_type": "code",
      "execution_count": null,
      "metadata": {
        "id": "P5bHoZ9pCc-t"
      },
      "outputs": [],
      "source": [
        "randForest_param = {\n",
        "    'rf_clf__n_estimators': [10, 100],   \n",
        "    'rf_clf__max_depth': [10 ,300],\n",
        "    'rf_clf__min_samples_leaf': [1, 2, 3],   \n",
        "    'rf_clf__min_samples_split': [4, 8],\n",
        "    'rf_clf__max_features': ['log2', 'sqrt'],\n",
        "    'rf_clf__criterion': ['gini', 'entropy'],\n",
        "    'rf_clf__warm_start': [True, False] \n",
        "}\n",
        "\n",
        "\n",
        "\n",
        "pipeline_random_forest = Pipeline([('tfidf', TfidfVectorizer()),\n",
        "                     ('rf_clf', RandomForestClassifier()),\n",
        "])\n",
        "\n",
        "\n",
        "rf_clf = GridSearchCV(pipeline_random_forest, randForest_param, scoring='accuracy', verbose=1 ,n_jobs=-1)\n"
      ]
    },
    {
      "cell_type": "code",
      "execution_count": null,
      "metadata": {
        "id": "a8oiQPa1Cc-t",
        "outputId": "6d19aab7-4f19-4f68-c15e-e875728e885f"
      },
      "outputs": [
        {
          "name": "stdout",
          "output_type": "stream",
          "text": [
            "Fitting 5 folds for each of 192 candidates, totalling 960 fits\n"
          ]
        }
      ],
      "source": [
        "subset = X_train.shape[0]\n",
        "\n",
        "rf_best = rf_clf.fit(X_train[:subset], y_train[:subset])\n",
        "\n"
      ]
    },
    {
      "cell_type": "code",
      "execution_count": null,
      "metadata": {
        "id": "-iAg4caBCc-t",
        "outputId": "779675e0-c1bd-4b6f-a51a-3ce6c2b5e90e"
      },
      "outputs": [
        {
          "name": "stdout",
          "output_type": "stream",
          "text": [
            "Best Score:  0.6775\n",
            "Best Params:  {'rf_clf__criterion': 'gini', 'rf_clf__max_depth': 300, 'rf_clf__max_features': 'log2', 'rf_clf__min_samples_leaf': 1, 'rf_clf__min_samples_split': 4, 'rf_clf__n_estimators': 100, 'rf_clf__warm_start': True}\n"
          ]
        }
      ],
      "source": [
        "print(\"Best Score: \", rf_clf.best_score_)\n",
        "print(\"Best Params: \", rf_clf.best_params_)"
      ]
    },
    {
      "cell_type": "markdown",
      "metadata": {
        "id": "hybcOGPZCc-t"
      },
      "source": [
        "### Logistic Regression"
      ]
    },
    {
      "cell_type": "code",
      "execution_count": null,
      "metadata": {
        "id": "1vYHWTnnCc-t"
      },
      "outputs": [],
      "source": [
        "LogisticRegression_param = {\n",
        "    'lr_clf__C': [100, 10, 1.0, 0.1, 0.01],\n",
        "    'lr_clf__tol': np.linspace(10**-6,10**-2,10)\n",
        "}\n"
      ]
    },
    {
      "cell_type": "code",
      "execution_count": null,
      "metadata": {
        "id": "ltWEpGIxCc-t"
      },
      "outputs": [],
      "source": [
        "from sklearn.preprocessing import StandardScaler\n"
      ]
    },
    {
      "cell_type": "code",
      "execution_count": null,
      "metadata": {
        "id": "K2zGzzSbCc-u"
      },
      "outputs": [],
      "source": [
        "pipeline_lr = Pipeline([('tfidf', TfidfVectorizer()),\n",
        "                       \n",
        "                     ('lr_clf', LogisticRegression(max_iter=1000)),\n",
        " ])"
      ]
    },
    {
      "cell_type": "code",
      "execution_count": null,
      "metadata": {
        "id": "NKt3pLZBCc-u"
      },
      "outputs": [],
      "source": [
        "lr_clf = GridSearchCV(pipeline_lr, LogisticRegression_param,  scoring='accuracy', verbose=1, n_jobs=-1)"
      ]
    },
    {
      "cell_type": "code",
      "execution_count": null,
      "metadata": {
        "id": "ah8rfObsCc-u",
        "outputId": "821f3a84-053c-4972-c10d-cf767dc40f68"
      },
      "outputs": [
        {
          "name": "stdout",
          "output_type": "stream",
          "text": [
            "Fitting 5 folds for each of 50 candidates, totalling 250 fits\n"
          ]
        }
      ],
      "source": [
        "lr_best = lr_clf.fit(X_train[:subset], y_train[:subset])"
      ]
    },
    {
      "cell_type": "code",
      "execution_count": null,
      "metadata": {
        "id": "3HQcgXJzCc-u",
        "outputId": "361b9436-b32a-4551-e36d-78beea161d37"
      },
      "outputs": [
        {
          "data": {
            "text/plain": [
              "10000"
            ]
          },
          "execution_count": 96,
          "metadata": {},
          "output_type": "execute_result"
        }
      ],
      "source": [
        "subset"
      ]
    },
    {
      "cell_type": "code",
      "execution_count": null,
      "metadata": {
        "id": "WUqSxp-DCc-u",
        "outputId": "be7c2a1a-a3d9-451e-f042-d9cf9161eb98"
      },
      "outputs": [
        {
          "name": "stdout",
          "output_type": "stream",
          "text": [
            "Best Score:  0.7419\n",
            "Best Params:  {'lr_clf__C': 10, 'lr_clf__tol': 0.006667}\n"
          ]
        }
      ],
      "source": [
        "print(\"Best Score: \", lr_clf.best_score_)\n",
        "print(\"Best Params: \", lr_clf.best_params_)"
      ]
    },
    {
      "cell_type": "markdown",
      "metadata": {
        "id": "xCMXN9M8Cc-u"
      },
      "source": [
        "### Perceptron"
      ]
    },
    {
      "cell_type": "code",
      "execution_count": null,
      "metadata": {
        "id": "NPGHPCruCc-v"
      },
      "outputs": [],
      "source": [
        "from sklearn.linear_model import Perceptron\n"
      ]
    },
    {
      "cell_type": "code",
      "execution_count": null,
      "metadata": {
        "id": "nZ1wmcmnCc-v"
      },
      "outputs": [],
      "source": [
        "per_params = {\n",
        "  'per_clf__penalty': ['l2', 'l1', 'elasticnet'],\n",
        "  'per_clf__alpha': np.linspace(0.00001, 0.001, 10),\n",
        "}"
      ]
    },
    {
      "cell_type": "code",
      "execution_count": null,
      "metadata": {
        "id": "i084u0cSCc-v"
      },
      "outputs": [],
      "source": [
        "pipeline_perceptron = Pipeline([('tfidf', TfidfVectorizer()),\n",
        "                       \n",
        "                     ('per_clf', Perceptron()),\n",
        " ])"
      ]
    },
    {
      "cell_type": "code",
      "execution_count": null,
      "metadata": {
        "id": "4bXgV-wICc-v"
      },
      "outputs": [],
      "source": [
        "per_clf = GridSearchCV(pipeline_perceptron, per_params,  scoring='accuracy', verbose=1, n_jobs=-1)"
      ]
    },
    {
      "cell_type": "code",
      "execution_count": null,
      "metadata": {
        "id": "-Y8KKKNqCc-v",
        "outputId": "9f7531d6-8757-4dfa-9aaf-65b27ec3ff87"
      },
      "outputs": [
        {
          "name": "stdout",
          "output_type": "stream",
          "text": [
            "Fitting 5 folds for each of 30 candidates, totalling 150 fits\n"
          ]
        }
      ],
      "source": [
        "per_best = per_clf.fit(X_train[:subset], y_train[:subset])"
      ]
    },
    {
      "cell_type": "code",
      "execution_count": null,
      "metadata": {
        "id": "9dTgtWPwCc-v",
        "outputId": "850fa25d-7e8e-4673-8d08-aceccc172a27"
      },
      "outputs": [
        {
          "name": "stdout",
          "output_type": "stream",
          "text": [
            "Best Score:  0.7356\n",
            "Best Params:  {'per_clf__alpha': 1e-05, 'per_clf__penalty': 'l1'}\n"
          ]
        }
      ],
      "source": [
        "print(\"Best Score: \", per_clf.best_score_)\n",
        "print(\"Best Params: \", per_clf.best_params_)"
      ]
    },
    {
      "cell_type": "markdown",
      "metadata": {
        "id": "5Cy0mgWVCc-v"
      },
      "source": [
        "### LinearSVC"
      ]
    },
    {
      "cell_type": "code",
      "execution_count": null,
      "metadata": {
        "id": "9K-4Ufu3Cc-v"
      },
      "outputs": [],
      "source": [
        "from sklearn.svm import LinearSVC\n"
      ]
    },
    {
      "cell_type": "code",
      "execution_count": null,
      "metadata": {
        "id": "l4IjTNIiCc-w"
      },
      "outputs": [],
      "source": [
        "svc_params = {\n",
        "  'svc_clf__penalty': ['l2', 'l1', 'elasticnet'],\n",
        "  'svc_clf__loss': ['hinge', 'squared_hinge'],\n",
        "  'svc_clf__dual' : [False,True]\n",
        "}"
      ]
    },
    {
      "cell_type": "code",
      "execution_count": null,
      "metadata": {
        "id": "QsauLn7wCc-w"
      },
      "outputs": [],
      "source": [
        "pipeline_svc = Pipeline([('tfidf', TfidfVectorizer()),\n",
        "                       \n",
        "                     ('svc_clf', LinearSVC(max_iter=10000)),\n",
        " ])"
      ]
    },
    {
      "cell_type": "code",
      "execution_count": null,
      "metadata": {
        "id": "1CW5MyCxCc-w"
      },
      "outputs": [],
      "source": [
        "svc_clf = GridSearchCV(pipeline_svc, svc_params,  scoring='accuracy', verbose=1, n_jobs=-1)"
      ]
    },
    {
      "cell_type": "code",
      "execution_count": null,
      "metadata": {
        "id": "D-EHrYKACc-w",
        "outputId": "959d23ee-fd5c-4bb0-b465-e7bd5cdc0620"
      },
      "outputs": [
        {
          "name": "stdout",
          "output_type": "stream",
          "text": [
            "Fitting 5 folds for each of 12 candidates, totalling 60 fits\n"
          ]
        },
        {
          "name": "stderr",
          "output_type": "stream",
          "text": [
            "/home/eliott/.local/lib/python3.10/site-packages/sklearn/model_selection/_validation.py:372: FitFailedWarning: \n",
            "40 fits failed out of a total of 60.\n",
            "The score on these train-test partitions for these parameters will be set to nan.\n",
            "If these failures are not expected, you can try to debug them by setting error_score='raise'.\n",
            "\n",
            "Below are more details about the failures:\n",
            "--------------------------------------------------------------------------------\n",
            "5 fits failed with the following error:\n",
            "Traceback (most recent call last):\n",
            "  File \"/home/eliott/.local/lib/python3.10/site-packages/sklearn/model_selection/_validation.py\", line 680, in _fit_and_score\n",
            "    estimator.fit(X_train, y_train, **fit_params)\n",
            "  File \"/home/eliott/.local/lib/python3.10/site-packages/sklearn/pipeline.py\", line 394, in fit\n",
            "    self._final_estimator.fit(Xt, y, **fit_params_last_step)\n",
            "  File \"/home/eliott/.local/lib/python3.10/site-packages/sklearn/svm/_classes.py\", line 257, in fit\n",
            "    self.coef_, self.intercept_, self.n_iter_ = _fit_liblinear(\n",
            "  File \"/home/eliott/.local/lib/python3.10/site-packages/sklearn/svm/_base.py\", line 1185, in _fit_liblinear\n",
            "    solver_type = _get_liblinear_solver_type(multi_class, penalty, loss, dual)\n",
            "  File \"/home/eliott/.local/lib/python3.10/site-packages/sklearn/svm/_base.py\", line 1024, in _get_liblinear_solver_type\n",
            "    raise ValueError(\n",
            "ValueError: Unsupported set of arguments: The combination of penalty='l2' and loss='hinge' are not supported when dual=False, Parameters: penalty='l2', loss='hinge', dual=False\n",
            "\n",
            "--------------------------------------------------------------------------------\n",
            "5 fits failed with the following error:\n",
            "Traceback (most recent call last):\n",
            "  File \"/home/eliott/.local/lib/python3.10/site-packages/sklearn/model_selection/_validation.py\", line 680, in _fit_and_score\n",
            "    estimator.fit(X_train, y_train, **fit_params)\n",
            "  File \"/home/eliott/.local/lib/python3.10/site-packages/sklearn/pipeline.py\", line 394, in fit\n",
            "    self._final_estimator.fit(Xt, y, **fit_params_last_step)\n",
            "  File \"/home/eliott/.local/lib/python3.10/site-packages/sklearn/svm/_classes.py\", line 257, in fit\n",
            "    self.coef_, self.intercept_, self.n_iter_ = _fit_liblinear(\n",
            "  File \"/home/eliott/.local/lib/python3.10/site-packages/sklearn/svm/_base.py\", line 1185, in _fit_liblinear\n",
            "    solver_type = _get_liblinear_solver_type(multi_class, penalty, loss, dual)\n",
            "  File \"/home/eliott/.local/lib/python3.10/site-packages/sklearn/svm/_base.py\", line 1024, in _get_liblinear_solver_type\n",
            "    raise ValueError(\n",
            "ValueError: Unsupported set of arguments: The combination of penalty='l1' and loss='hinge' is not supported, Parameters: penalty='l1', loss='hinge', dual=False\n",
            "\n",
            "--------------------------------------------------------------------------------\n",
            "5 fits failed with the following error:\n",
            "Traceback (most recent call last):\n",
            "  File \"/home/eliott/.local/lib/python3.10/site-packages/sklearn/model_selection/_validation.py\", line 680, in _fit_and_score\n",
            "    estimator.fit(X_train, y_train, **fit_params)\n",
            "  File \"/home/eliott/.local/lib/python3.10/site-packages/sklearn/pipeline.py\", line 394, in fit\n",
            "    self._final_estimator.fit(Xt, y, **fit_params_last_step)\n",
            "  File \"/home/eliott/.local/lib/python3.10/site-packages/sklearn/svm/_classes.py\", line 257, in fit\n",
            "    self.coef_, self.intercept_, self.n_iter_ = _fit_liblinear(\n",
            "  File \"/home/eliott/.local/lib/python3.10/site-packages/sklearn/svm/_base.py\", line 1185, in _fit_liblinear\n",
            "    solver_type = _get_liblinear_solver_type(multi_class, penalty, loss, dual)\n",
            "  File \"/home/eliott/.local/lib/python3.10/site-packages/sklearn/svm/_base.py\", line 1024, in _get_liblinear_solver_type\n",
            "    raise ValueError(\n",
            "ValueError: Unsupported set of arguments: The combination of penalty='elasticnet' and loss='hinge' is not supported, Parameters: penalty='elasticnet', loss='hinge', dual=False\n",
            "\n",
            "--------------------------------------------------------------------------------\n",
            "5 fits failed with the following error:\n",
            "Traceback (most recent call last):\n",
            "  File \"/home/eliott/.local/lib/python3.10/site-packages/sklearn/model_selection/_validation.py\", line 680, in _fit_and_score\n",
            "    estimator.fit(X_train, y_train, **fit_params)\n",
            "  File \"/home/eliott/.local/lib/python3.10/site-packages/sklearn/pipeline.py\", line 394, in fit\n",
            "    self._final_estimator.fit(Xt, y, **fit_params_last_step)\n",
            "  File \"/home/eliott/.local/lib/python3.10/site-packages/sklearn/svm/_classes.py\", line 257, in fit\n",
            "    self.coef_, self.intercept_, self.n_iter_ = _fit_liblinear(\n",
            "  File \"/home/eliott/.local/lib/python3.10/site-packages/sklearn/svm/_base.py\", line 1185, in _fit_liblinear\n",
            "    solver_type = _get_liblinear_solver_type(multi_class, penalty, loss, dual)\n",
            "  File \"/home/eliott/.local/lib/python3.10/site-packages/sklearn/svm/_base.py\", line 1024, in _get_liblinear_solver_type\n",
            "    raise ValueError(\n",
            "ValueError: Unsupported set of arguments: The combination of penalty='elasticnet' and loss='squared_hinge' is not supported, Parameters: penalty='elasticnet', loss='squared_hinge', dual=False\n",
            "\n",
            "--------------------------------------------------------------------------------\n",
            "5 fits failed with the following error:\n",
            "Traceback (most recent call last):\n",
            "  File \"/home/eliott/.local/lib/python3.10/site-packages/sklearn/model_selection/_validation.py\", line 680, in _fit_and_score\n",
            "    estimator.fit(X_train, y_train, **fit_params)\n",
            "  File \"/home/eliott/.local/lib/python3.10/site-packages/sklearn/pipeline.py\", line 394, in fit\n",
            "    self._final_estimator.fit(Xt, y, **fit_params_last_step)\n",
            "  File \"/home/eliott/.local/lib/python3.10/site-packages/sklearn/svm/_classes.py\", line 257, in fit\n",
            "    self.coef_, self.intercept_, self.n_iter_ = _fit_liblinear(\n",
            "  File \"/home/eliott/.local/lib/python3.10/site-packages/sklearn/svm/_base.py\", line 1185, in _fit_liblinear\n",
            "    solver_type = _get_liblinear_solver_type(multi_class, penalty, loss, dual)\n",
            "  File \"/home/eliott/.local/lib/python3.10/site-packages/sklearn/svm/_base.py\", line 1024, in _get_liblinear_solver_type\n",
            "    raise ValueError(\n",
            "ValueError: Unsupported set of arguments: The combination of penalty='l1' and loss='hinge' is not supported, Parameters: penalty='l1', loss='hinge', dual=True\n",
            "\n",
            "--------------------------------------------------------------------------------\n",
            "5 fits failed with the following error:\n",
            "Traceback (most recent call last):\n",
            "  File \"/home/eliott/.local/lib/python3.10/site-packages/sklearn/model_selection/_validation.py\", line 680, in _fit_and_score\n",
            "    estimator.fit(X_train, y_train, **fit_params)\n",
            "  File \"/home/eliott/.local/lib/python3.10/site-packages/sklearn/pipeline.py\", line 394, in fit\n",
            "    self._final_estimator.fit(Xt, y, **fit_params_last_step)\n",
            "  File \"/home/eliott/.local/lib/python3.10/site-packages/sklearn/svm/_classes.py\", line 257, in fit\n",
            "    self.coef_, self.intercept_, self.n_iter_ = _fit_liblinear(\n",
            "  File \"/home/eliott/.local/lib/python3.10/site-packages/sklearn/svm/_base.py\", line 1185, in _fit_liblinear\n",
            "    solver_type = _get_liblinear_solver_type(multi_class, penalty, loss, dual)\n",
            "  File \"/home/eliott/.local/lib/python3.10/site-packages/sklearn/svm/_base.py\", line 1024, in _get_liblinear_solver_type\n",
            "    raise ValueError(\n",
            "ValueError: Unsupported set of arguments: The combination of penalty='elasticnet' and loss='hinge' is not supported, Parameters: penalty='elasticnet', loss='hinge', dual=True\n",
            "\n",
            "--------------------------------------------------------------------------------\n",
            "5 fits failed with the following error:\n",
            "Traceback (most recent call last):\n",
            "  File \"/home/eliott/.local/lib/python3.10/site-packages/sklearn/model_selection/_validation.py\", line 680, in _fit_and_score\n",
            "    estimator.fit(X_train, y_train, **fit_params)\n",
            "  File \"/home/eliott/.local/lib/python3.10/site-packages/sklearn/pipeline.py\", line 394, in fit\n",
            "    self._final_estimator.fit(Xt, y, **fit_params_last_step)\n",
            "  File \"/home/eliott/.local/lib/python3.10/site-packages/sklearn/svm/_classes.py\", line 257, in fit\n",
            "    self.coef_, self.intercept_, self.n_iter_ = _fit_liblinear(\n",
            "  File \"/home/eliott/.local/lib/python3.10/site-packages/sklearn/svm/_base.py\", line 1185, in _fit_liblinear\n",
            "    solver_type = _get_liblinear_solver_type(multi_class, penalty, loss, dual)\n",
            "  File \"/home/eliott/.local/lib/python3.10/site-packages/sklearn/svm/_base.py\", line 1024, in _get_liblinear_solver_type\n",
            "    raise ValueError(\n",
            "ValueError: Unsupported set of arguments: The combination of penalty='l1' and loss='squared_hinge' are not supported when dual=True, Parameters: penalty='l1', loss='squared_hinge', dual=True\n",
            "\n",
            "--------------------------------------------------------------------------------\n",
            "5 fits failed with the following error:\n",
            "Traceback (most recent call last):\n",
            "  File \"/home/eliott/.local/lib/python3.10/site-packages/sklearn/model_selection/_validation.py\", line 680, in _fit_and_score\n",
            "    estimator.fit(X_train, y_train, **fit_params)\n",
            "  File \"/home/eliott/.local/lib/python3.10/site-packages/sklearn/pipeline.py\", line 394, in fit\n",
            "    self._final_estimator.fit(Xt, y, **fit_params_last_step)\n",
            "  File \"/home/eliott/.local/lib/python3.10/site-packages/sklearn/svm/_classes.py\", line 257, in fit\n",
            "    self.coef_, self.intercept_, self.n_iter_ = _fit_liblinear(\n",
            "  File \"/home/eliott/.local/lib/python3.10/site-packages/sklearn/svm/_base.py\", line 1185, in _fit_liblinear\n",
            "    solver_type = _get_liblinear_solver_type(multi_class, penalty, loss, dual)\n",
            "  File \"/home/eliott/.local/lib/python3.10/site-packages/sklearn/svm/_base.py\", line 1024, in _get_liblinear_solver_type\n",
            "    raise ValueError(\n",
            "ValueError: Unsupported set of arguments: The combination of penalty='elasticnet' and loss='squared_hinge' is not supported, Parameters: penalty='elasticnet', loss='squared_hinge', dual=True\n",
            "\n",
            "  warnings.warn(some_fits_failed_message, FitFailedWarning)\n",
            "/home/eliott/.local/lib/python3.10/site-packages/sklearn/model_selection/_search.py:969: UserWarning: One or more of the test scores are non-finite: [       nan        nan        nan 0.83094003 0.86896516        nan\n",
            " 0.82693114        nan        nan 0.83091573        nan        nan]\n",
            "  warnings.warn(\n"
          ]
        }
      ],
      "source": [
        "svc_best = svc_clf.fit(X_train, y_train)"
      ]
    },
    {
      "cell_type": "code",
      "execution_count": null,
      "metadata": {
        "id": "aB2TUBujCc-w",
        "outputId": "5562d375-7e68-49c7-8109-4979babcddbf"
      },
      "outputs": [
        {
          "name": "stdout",
          "output_type": "stream",
          "text": [
            "Best Score:  0.8689651603911781\n",
            "Best Params:  {'svc_clf__dual': False, 'svc_clf__loss': 'squared_hinge', 'svc_clf__penalty': 'l1'}\n"
          ]
        }
      ],
      "source": [
        "print(\"Best Score: \", svc_clf.best_score_)\n",
        "print(\"Best Params: \", svc_clf.best_params_)"
      ]
    },
    {
      "cell_type": "code",
      "execution_count": null,
      "metadata": {
        "id": "eqokclx8Cc-w"
      },
      "outputs": [],
      "source": [
        "import json\n",
        "\n",
        "\n"
      ]
    },
    {
      "cell_type": "code",
      "execution_count": null,
      "metadata": {
        "id": "okUYBXphCc-w"
      },
      "outputs": [],
      "source": [
        "dict = {}\n",
        "dict['SVC'] = svc_clf.best_params_\n",
        "dict['Perceptron'] = per_clf.best_params_\n",
        "dict['RF'] = rf_clf.best_params_\n",
        "\n",
        "with open('data.json', 'w') as fp:\n",
        "    json.dump(dict, fp,  indent=4)"
      ]
    },
    {
      "cell_type": "code",
      "execution_count": null,
      "metadata": {
        "id": "ct7BBebdCc-w",
        "outputId": "a7c78c52-cb68-4e11-9490-fb43ef8b6189"
      },
      "outputs": [
        {
          "name": "stdout",
          "output_type": "stream",
          "text": [
            "Type: <class 'dict'>\n",
            "\n",
            "People1: {'svc_clf__dual': False, 'svc_clf__loss': 'squared_hinge', 'svc_clf__penalty': 'l1'}\n",
            "\n",
            "People2: {'rf_clf__criterion': 'gini', 'rf_clf__max_depth': 300, 'rf_clf__max_features': 'log2', 'rf_clf__min_samples_leaf': 1, 'rf_clf__min_samples_split': 4, 'rf_clf__n_estimators': 100, 'rf_clf__warm_start': True}\n"
          ]
        }
      ],
      "source": [
        "# Opening JSON file\n",
        "with open('data.json') as json_file:\n",
        "    data = json.load(json_file)\n",
        " \n",
        "    # Print the type of data variable\n",
        "    print(\"Type:\", type(data))\n",
        " \n",
        "    # Print the data of dictionary\n",
        "    print(\"\\nPeople1:\", data['SVC'])\n",
        "    print(\"\\nPeople2:\", data['RF'])\n",
        "\n",
        "\n",
        "datarf = data['RF']\n",
        "\n",
        "modelrf = RandomForestClassifier(datarf) "
      ]
    },
    {
      "cell_type": "code",
      "execution_count": null,
      "metadata": {
        "id": "FozzlotYCc-w",
        "outputId": "82bdacbd-ae58-49a0-faaf-c3ab0308b5fd"
      },
      "outputs": [
        {
          "data": {
            "text/plain": [
              "RandomForestClassifier(n_estimators={'rf_clf__criterion': 'gini',\n",
              "                                     'rf_clf__max_depth': 300,\n",
              "                                     'rf_clf__max_features': 'log2',\n",
              "                                     'rf_clf__min_samples_leaf': 1,\n",
              "                                     'rf_clf__min_samples_split': 4,\n",
              "                                     'rf_clf__n_estimators': 100,\n",
              "                                     'rf_clf__warm_start': True})"
            ]
          },
          "execution_count": 144,
          "metadata": {},
          "output_type": "execute_result"
        }
      ],
      "source": [
        "modelrf"
      ]
    },
    {
      "cell_type": "code",
      "execution_count": null,
      "metadata": {
        "id": "-cPwzz3JCc-x"
      },
      "outputs": [],
      "source": [
        ""
      ]
    },
    {
      "cell_type": "code",
      "execution_count": null,
      "metadata": {
        "id": "gPAWdBLOCc-x"
      },
      "outputs": [],
      "source": [
        ""
      ]
    },
    {
      "cell_type": "code",
      "execution_count": null,
      "metadata": {
        "id": "lGouwXZ_Cc-x"
      },
      "outputs": [],
      "source": [
        ""
      ]
    },
    {
      "cell_type": "code",
      "execution_count": null,
      "metadata": {
        "id": "bdEu7AlyCc-x"
      },
      "outputs": [],
      "source": [
        ""
      ]
    },
    {
      "cell_type": "code",
      "execution_count": null,
      "metadata": {
        "id": "yWtUmtDsCc-x"
      },
      "outputs": [],
      "source": [
        ""
      ]
    },
    {
      "cell_type": "code",
      "execution_count": null,
      "metadata": {
        "id": "aSjG01FhCc-x"
      },
      "outputs": [],
      "source": [
        ""
      ]
    },
    {
      "cell_type": "code",
      "execution_count": null,
      "metadata": {
        "id": "OCNFejuGr1AJ",
        "outputId": "91ba60bb-3cdd-413d-ea8d-d05f355b1b54"
      },
      "outputs": [
        {
          "ename": "NameError",
          "evalue": "name 'text_clf' is not defined",
          "output_type": "error",
          "traceback": [
            "\u001b[0;31m---------------------------------------------------------------------------\u001b[0m",
            "\u001b[0;31mNameError\u001b[0m                                 Traceback (most recent call last)",
            "\u001b[1;32m/home/eliott/pCloudDrive/ELIOTTDOC/3A_ENSSAT/NotesCours/Hiver/TA/Projet_TA/Projet_TA/main_notebook.ipynb Cell 36'\u001b[0m in \u001b[0;36m<cell line: 1>\u001b[0;34m()\u001b[0m\n\u001b[0;32m----> <a href='vscode-notebook-cell:/home/eliott/pCloudDrive/ELIOTTDOC/3A_ENSSAT/NotesCours/Hiver/TA/Projet_TA/Projet_TA/main_notebook.ipynb#ch0000036?line=0'>1</a>\u001b[0m predictions \u001b[39m=\u001b[39m text_clf\u001b[39m.\u001b[39mpredict(X_test)\n",
            "\u001b[0;31mNameError\u001b[0m: name 'text_clf' is not defined"
          ]
        }
      ],
      "source": [
        "predictions = text_clf.predict(X_test)"
      ]
    },
    {
      "cell_type": "code",
      "execution_count": null,
      "metadata": {
        "id": "KoU5xodUr1AJ"
      },
      "outputs": [],
      "source": [
        "from sklearn.metrics import accuracy_score, classification_report\n",
        "\n",
        "train_acc = round(accuracy_score(predictions, y_test)*100)\n",
        "train_acc"
      ]
    },
    {
      "cell_type": "code",
      "execution_count": null,
      "metadata": {
        "id": "u2y8-nm9r1AK"
      },
      "outputs": [],
      "source": [
        "len(y_test)"
      ]
    },
    {
      "cell_type": "code",
      "execution_count": null,
      "metadata": {
        "id": "zEw-RwMjr1AK"
      },
      "outputs": [],
      "source": [
        "print(classification_report(predictions, y_test, target_names=train_df3['Sentiment'].unique()))"
      ]
    },
    {
      "cell_type": "code",
      "execution_count": null,
      "metadata": {
        "colab": {
          "base_uri": "https://localhost:8080/",
          "height": 53
        },
        "id": "xIRvNcGpr1AK",
        "outputId": "8c29f337-f045-4092-8eb0-13cf828dac8c"
      },
      "outputs": [
        {
          "data": {
            "application/vnd.google.colaboratory.intrinsic+json": {
              "type": "string"
            },
            "text/plain": [
              "'trending new yorkers encounter empty supermarket shelves pictured wegmans in brooklyn sold out online grocers foodkick maxdelivery as coronavirus fearing shoppers stock up https t co gr76pcrlwh https t co ivmkmsqdt1'"
            ]
          },
          "execution_count": 39,
          "metadata": {},
          "output_type": "execute_result"
        }
      ],
      "source": [
        "X_test[0]"
      ]
    },
    {
      "cell_type": "code",
      "execution_count": null,
      "metadata": {
        "colab": {
          "base_uri": "https://localhost:8080/",
          "height": 240
        },
        "id": "0eIOaVsor1AL",
        "outputId": "802f3450-1f2a-4a81-c98e-c3b8330c0261"
      },
      "outputs": [
        {
          "ename": "NameError",
          "evalue": "ignored",
          "output_type": "error",
          "traceback": [
            "\u001b[0;31m---------------------------------------------------------------------------\u001b[0m",
            "\u001b[0;31mNameError\u001b[0m                                 Traceback (most recent call last)",
            "\u001b[0;32m<ipython-input-40-49ba545a6929>\u001b[0m in \u001b[0;36m<module>\u001b[0;34m()\u001b[0m\n\u001b[1;32m      1\u001b[0m \u001b[0;31m# ACCURACY\u001b[0m\u001b[0;34m\u001b[0m\u001b[0;34m\u001b[0m\u001b[0;34m\u001b[0m\u001b[0m\n\u001b[1;32m      2\u001b[0m \u001b[0mc\u001b[0m\u001b[0;34m=\u001b[0m\u001b[0;36m0\u001b[0m\u001b[0;34m\u001b[0m\u001b[0;34m\u001b[0m\u001b[0m\n\u001b[0;32m----> 3\u001b[0;31m \u001b[0mnum\u001b[0m\u001b[0;34m=\u001b[0m\u001b[0mlen\u001b[0m\u001b[0;34m(\u001b[0m\u001b[0mpredictions\u001b[0m\u001b[0;34m)\u001b[0m\u001b[0;34m\u001b[0m\u001b[0;34m\u001b[0m\u001b[0m\n\u001b[0m\u001b[1;32m      4\u001b[0m \u001b[0;32mfor\u001b[0m \u001b[0mk\u001b[0m \u001b[0;32min\u001b[0m \u001b[0mrange\u001b[0m\u001b[0;34m(\u001b[0m\u001b[0mnum\u001b[0m\u001b[0;34m)\u001b[0m\u001b[0;34m:\u001b[0m\u001b[0;34m\u001b[0m\u001b[0;34m\u001b[0m\u001b[0m\n\u001b[1;32m      5\u001b[0m     \u001b[0;32mif\u001b[0m\u001b[0;34m(\u001b[0m\u001b[0mpredictions\u001b[0m\u001b[0;34m[\u001b[0m\u001b[0mk\u001b[0m\u001b[0;34m]\u001b[0m\u001b[0;34m==\u001b[0m\u001b[0my_test\u001b[0m\u001b[0;34m[\u001b[0m\u001b[0mk\u001b[0m\u001b[0;34m]\u001b[0m\u001b[0;34m)\u001b[0m\u001b[0;34m:\u001b[0m\u001b[0;34m\u001b[0m\u001b[0;34m\u001b[0m\u001b[0m\n",
            "\u001b[0;31mNameError\u001b[0m: name 'predictions' is not defined"
          ]
        }
      ],
      "source": [
        "# ACCURACY\n",
        "c=0\n",
        "num=len(predictions)\n",
        "for k in range(num):\n",
        "    if(predictions[k]==y_test[k]):\n",
        "        c+=1\n",
        "\n",
        "print(f\"pourcentage de reussite : {(c*100)/num} \")\n",
        "\n",
        "\n"
      ]
    },
    {
      "cell_type": "code",
      "execution_count": null,
      "metadata": {
        "id": "lFgWvNLCr1AL"
      },
      "outputs": [],
      "source": [
        "# L2 ERROR\n",
        "\n",
        "num=len(predictions)\n",
        "err_tot = 0\n",
        "for k in range(num):\n",
        "    #print(predictions[k])\n",
        "    if(k<20):\n",
        "        print(f\"prediction {predictions[k]}  , realité : {y_test[k]}\")\n",
        "    err_tot += np.square(predictions[k]-y_test[k])\n",
        "err_tot/=num\n",
        "err_tot = np.sqrt(err_tot) \n",
        "err_tot"
      ]
    },
    {
      "cell_type": "code",
      "execution_count": null,
      "metadata": {
        "id": "86JLNLKor1AL"
      },
      "outputs": [],
      "source": [
        ""
      ]
    }
  ],
  "metadata": {
    "colab": {
      "collapsed_sections": [],
      "name": "main_notebook.ipynb",
      "provenance": []
    },
    "interpreter": {
      "hash": "822dd2d5dd360abba25557036e653898358cd5c8dbb7b3b755070434497e6489"
    },
    "kernelspec": {
      "display_name": "Python 3",
      "language": "python",
      "name": "python3"
    },
    "language_info": {
      "codemirror_mode": {
        "name": "ipython",
        "version": 3
      },
      "file_extension": ".py",
      "mimetype": "text/x-python",
      "name": "python",
      "nbconvert_exporter": "python",
      "pygments_lexer": "ipython3",
      "version": "3.10.2"
    }
  },
  "nbformat": 4,
  "nbformat_minor": 0
}