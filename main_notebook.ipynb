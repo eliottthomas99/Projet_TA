{
  "cells": [
    {
      "cell_type": "code",
      "execution_count": 1,
      "metadata": {
        "colab": {
          "base_uri": "https://localhost:8080/"
        },
        "id": "d9HjnVDmssa8",
        "outputId": "07cebb68-3af1-445f-cfbd-b40979e3fade"
      },
      "outputs": [
        {
          "ename": "ModuleNotFoundError",
          "evalue": "No module named 'google.colab'",
          "output_type": "error",
          "traceback": [
            "\u001b[0;31m---------------------------------------------------------------------------\u001b[0m",
            "\u001b[0;31mModuleNotFoundError\u001b[0m                       Traceback (most recent call last)",
            "\u001b[1;32m/home/eliott/pCloudDrive/ELIOTTDOC/3A_ENSSAT/NotesCours/Hiver/TA/Projet_TA/Projet_TA/main_notebook.ipynb Cell 1'\u001b[0m in \u001b[0;36m<cell line: 2>\u001b[0;34m()\u001b[0m\n\u001b[1;32m      <a href='vscode-notebook-cell:/home/eliott/pCloudDrive/ELIOTTDOC/3A_ENSSAT/NotesCours/Hiver/TA/Projet_TA/Projet_TA/main_notebook.ipynb#ch0000000?line=0'>1</a>\u001b[0m \u001b[39mfrom\u001b[39;00m \u001b[39mos\u001b[39;00m \u001b[39mimport\u001b[39;00m chdir\n\u001b[0;32m----> <a href='vscode-notebook-cell:/home/eliott/pCloudDrive/ELIOTTDOC/3A_ENSSAT/NotesCours/Hiver/TA/Projet_TA/Projet_TA/main_notebook.ipynb#ch0000000?line=1'>2</a>\u001b[0m \u001b[39mfrom\u001b[39;00m \u001b[39mgoogle\u001b[39;00m\u001b[39m.\u001b[39;00m\u001b[39mcolab\u001b[39;00m \u001b[39mimport\u001b[39;00m drive\n\u001b[1;32m      <a href='vscode-notebook-cell:/home/eliott/pCloudDrive/ELIOTTDOC/3A_ENSSAT/NotesCours/Hiver/TA/Projet_TA/Projet_TA/main_notebook.ipynb#ch0000000?line=3'>4</a>\u001b[0m drive\u001b[39m.\u001b[39mmount(\u001b[39m\"\u001b[39m\u001b[39m/content/drive\u001b[39m\u001b[39m\"\u001b[39m, force_remount\u001b[39m=\u001b[39m\u001b[39mTrue\u001b[39;00m)\n\u001b[1;32m      <a href='vscode-notebook-cell:/home/eliott/pCloudDrive/ELIOTTDOC/3A_ENSSAT/NotesCours/Hiver/TA/Projet_TA/Projet_TA/main_notebook.ipynb#ch0000000?line=4'>5</a>\u001b[0m chdir(\u001b[39m\"\u001b[39m\u001b[39m/content/drive/MyDrive/Eliott/files/\u001b[39m\u001b[39m\"\u001b[39m)\n",
            "\u001b[0;31mModuleNotFoundError\u001b[0m: No module named 'google.colab'"
          ]
        }
      ],
      "source": [
        "# from os import chdir\n",
        "# from google.colab import drive\n",
        "\n",
        "# drive.mount(\"/content/drive\", force_remount=True)\n",
        "# chdir(\"/content/drive/MyDrive/Eliott/files/\")\n",
        "\n",
        "# !pip install tweet-preprocessor"
      ]
    },
    {
      "cell_type": "code",
      "execution_count": 7,
      "metadata": {
        "id": "v-9SGvosr0_w"
      },
      "outputs": [
        {
          "name": "stdout",
          "output_type": "stream",
          "text": [
            "The autoreload extension is already loaded. To reload it, use:\n",
            "  %reload_ext autoreload\n"
          ]
        }
      ],
      "source": [
        "# IMPORTS\n",
        "\n",
        "import preprocessing as pp\n",
        "import hyperparameters as hp\n",
        "import json\n",
        "from sklearn.metrics import accuracy_score\n",
        "from sklearn.ensemble import VotingClassifier\n",
        "\n",
        "\n",
        "\n",
        "%load_ext autoreload\n",
        "%autoreload 2\n"
      ]
    },
    {
      "cell_type": "code",
      "execution_count": 8,
      "metadata": {
        "id": "LGn68XDZIm8L"
      },
      "outputs": [],
      "source": [
        "file_name_train = 'Corona_NLP_train.csv'\n",
        "file_name_test = 'Corona_NLP_test.csv'\n",
        "X_train, y_train = pp.prepare_dataframe(file_name_train,lemmatising=False, original_class=False)\n",
        "X_test, y_test = pp.prepare_dataframe(file_name_test,lemmatising=False, original_class=False)"
      ]
    },
    {
      "cell_type": "markdown",
      "metadata": {
        "id": "R_xUJTHaIm8M"
      },
      "source": [
        "On enlève : \n",
        "- Les URLS\n",
        "- Hashtags\n",
        "- Mentions\n",
        "- Mots réservés\n",
        "- Emojis et smileys"
      ]
    },
    {
      "cell_type": "markdown",
      "metadata": {
        "id": "b6tqgCANIm8N"
      },
      "source": [
        "- 35525 mots sans lemmatisation\n",
        "- 30794 avec lemmatisation"
      ]
    },
    {
      "cell_type": "markdown",
      "metadata": {
        "id": "KMY7FfWTr1AI"
      },
      "source": [
        "# Recherche d'Hyperparamètres"
      ]
    },
    {
      "cell_type": "code",
      "execution_count": 9,
      "metadata": {
        "id": "0KNjQ8imIm8O"
      },
      "outputs": [],
      "source": [
        "pipeline_sgd = hp.pipeline_sgd\n",
        "pipeline_gb = hp.pipeline_gb\n",
        "pipeline_rf = hp.pipeline_rf\n",
        "pipeline_lr = hp.pipeline_lr\n",
        "pipeline_per = hp.pipeline_per\n",
        "pipeline_svc = hp.pipeline_svc"
      ]
    },
    {
      "cell_type": "markdown",
      "metadata": {
        "id": "QVVyneGfIm8Q"
      },
      "source": [
        "### Saving Hyperparameters in JSON\n",
        "\n",
        "We will first load old weights and updates only if needed. Then we can use the model with best params in the end."
      ]
    },
    {
      "cell_type": "code",
      "execution_count": 10,
      "metadata": {
        "id": "JqHmEnxTIm8Q"
      },
      "outputs": [],
      "source": [
        "with open('data.json') as json_file:\n",
        "    dico = json.load(json_file)"
      ]
    },
    {
      "cell_type": "markdown",
      "metadata": {
        "id": "LQD0wO_uIm8R"
      },
      "source": [
        "### SGD"
      ]
    },
    {
      "cell_type": "code",
      "execution_count": 11,
      "metadata": {
        "colab": {
          "base_uri": "https://localhost:8080/"
        },
        "id": "VHzMRehgIm8R",
        "outputId": "cdf4128e-f6f5-48c4-b5e5-90309c001fef"
      },
      "outputs": [
        {
          "name": "stdout",
          "output_type": "stream",
          "text": [
            "Fitting 5 folds for each of 120 candidates, totalling 600 fits\n",
            "Best Score:  0.8766432667796105\n",
            "Best Params:  {'clf__alpha': 1.28206e-05, 'clf__penalty': 'l1'}\n",
            "CPU times: user 14.7 s, sys: 11 s, total: 25.7 s\n",
            "Wall time: 1min 37s\n"
          ]
        }
      ],
      "source": [
        "%%time\n",
        "grid_sgd = hp.grid_Search(\"SGD\", X_train=X_train, y_train=y_train) "
      ]
    },
    {
      "cell_type": "code",
      "execution_count": null,
      "metadata": {
        "id": "d5vbIP8kIm8R"
      },
      "outputs": [],
      "source": [
        "dico['SGD'] = grid_sgd.best_params_\n",
        "with open('data.json', 'w') as fp:\n",
        "    json.dump(dico, fp,  indent=4)"
      ]
    },
    {
      "cell_type": "markdown",
      "metadata": {
        "id": "A-R5-LqYCc-s"
      },
      "source": [
        "### Gradient boosting"
      ]
    },
    {
      "cell_type": "code",
      "execution_count": null,
      "metadata": {
        "colab": {
          "background_save": true,
          "base_uri": "https://localhost:8080/"
        },
        "id": "zdnkSlvdIm8S",
        "outputId": "94fc131a-d1e4-4850-b8b4-4d19810ac2da"
      },
      "outputs": [
        {
          "name": "stdout",
          "output_type": "stream",
          "text": [
            "Fitting 5 folds for each of 4 candidates, totalling 20 fits\n",
            "Best Score:  0.8391769441865644\n",
            "Best Params:  {'clf__learning_rate': 0.4, 'clf__n_estimators': 1600}\n",
            "CPU times: user 33min 38s, sys: 7.7 s, total: 33min 46s\n",
            "Wall time: 3h 40min 28s\n"
          ]
        }
      ],
      "source": [
        "%%time\n",
        "grid_gb = hp.grid_Search(\"GB\", X_train=X_train, y_train=y_train) "
      ]
    },
    {
      "cell_type": "code",
      "execution_count": null,
      "metadata": {
        "colab": {
          "background_save": true
        },
        "id": "TQLvEgp-Im8S"
      },
      "outputs": [],
      "source": [
        "dico['GB'] = grid_gb.best_params_\n",
        "with open('data.json', 'w') as fp:\n",
        "    json.dump(dico, fp,  indent=4)"
      ]
    },
    {
      "cell_type": "markdown",
      "metadata": {
        "id": "Jf8DtN5iCc-t"
      },
      "source": [
        "### Random Forest"
      ]
    },
    {
      "cell_type": "code",
      "execution_count": null,
      "metadata": {
        "colab": {
          "base_uri": "https://localhost:8080/"
        },
        "id": "P5bHoZ9pCc-t",
        "outputId": "e9bf3431-b7a6-48b3-8f56-979cb31c1c5f"
      },
      "outputs": [
        {
          "name": "stdout",
          "output_type": "stream",
          "text": [
            "Fitting 5 folds for each of 216 candidates, totalling 1080 fits\n"
          ]
        },
        {
          "name": "stderr",
          "output_type": "stream",
          "text": [
            "/usr/local/lib/python3.7/dist-packages/joblib/externals/loky/process_executor.py:705: UserWarning: A worker stopped while some jobs were given to the executor. This can be caused by a too short worker timeout or by a memory leak.\n",
            "  \"timeout or by a memory leak.\", UserWarning\n"
          ]
        },
        {
          "name": "stdout",
          "output_type": "stream",
          "text": [
            "Best Score:  0.7047644196092446\n",
            "Best Params:  {'clf__criterion': 'entropy', 'clf__max_depth': None, 'clf__max_features': 'log2', 'clf__min_samples_leaf': 1, 'clf__min_samples_split': 32, 'clf__n_estimators': 200}\n",
            "CPU times: user 2min 29s, sys: 14 s, total: 2min 43s\n",
            "Wall time: 2h 30min 23s\n"
          ]
        }
      ],
      "source": [
        "%%time\n",
        "grid_rf = hp.grid_Search(\"RF\", X_train=X_train, y_train=y_train) "
      ]
    },
    {
      "cell_type": "code",
      "execution_count": null,
      "metadata": {
        "id": "PumLEUuAIm8T"
      },
      "outputs": [],
      "source": [
        "dico['RF'] = grid_rf.best_params_\n",
        "with open('data.json', 'w') as fp:\n",
        "    json.dump(dico, fp,  indent=4)"
      ]
    },
    {
      "cell_type": "markdown",
      "metadata": {
        "id": "hybcOGPZCc-t"
      },
      "source": [
        "### Logistic Regression"
      ]
    },
    {
      "cell_type": "code",
      "execution_count": null,
      "metadata": {
        "colab": {
          "base_uri": "https://localhost:8080/"
        },
        "id": "NKt3pLZBCc-u",
        "outputId": "05a7711e-20ba-4d8f-eb89-ff9b883c295a"
      },
      "outputs": [
        {
          "name": "stdout",
          "output_type": "stream",
          "text": [
            "Fitting 5 folds for each of 60 candidates, totalling 300 fits\n",
            "Best Score:  0.8230677619122002\n",
            "Best Params:  {'clf__C': 10, 'clf__tol': 1e-12}\n",
            "CPU times: user 1min 20s, sys: 2min 15s, total: 3min 35s\n",
            "Wall time: 36min 42s\n"
          ]
        }
      ],
      "source": [
        "%%time\n",
        "grid_lr = hp.grid_Search(\"LR\", X_train=X_train, y_train=y_train) "
      ]
    },
    {
      "cell_type": "code",
      "execution_count": null,
      "metadata": {
        "id": "dQK-LftNIm8T"
      },
      "outputs": [],
      "source": [
        "dico['LR'] = grid_lr.best_params_\n",
        "with open('data.json', 'w') as fp:\n",
        "    json.dump(dico, fp,  indent=4)"
      ]
    },
    {
      "cell_type": "markdown",
      "metadata": {
        "id": "xCMXN9M8Cc-u"
      },
      "source": [
        "### Perceptron"
      ]
    },
    {
      "cell_type": "code",
      "execution_count": null,
      "metadata": {
        "colab": {
          "background_save": true,
          "base_uri": "https://localhost:8080/"
        },
        "id": "NPGHPCruCc-v",
        "outputId": "61a52771-ba29-48da-f0f5-86bc9f88215c"
      },
      "outputs": [
        {
          "name": "stdout",
          "output_type": "stream",
          "text": [
            "Fitting 5 folds for each of 300 candidates, totalling 1500 fits\n",
            "Best Score:  0.818353925564533\n",
            "Best Params:  {'clf__alpha': 3.04e-06, 'clf__penalty': 'l1'}\n",
            "CPU times: user 1min 10s, sys: 7.51 s, total: 1min 17s\n",
            "Wall time: 16min 16s\n"
          ]
        }
      ],
      "source": [
        "%%time\n",
        "grid_per = hp.grid_Search(\"PER\", X_train=X_train, y_train=y_train) "
      ]
    },
    {
      "cell_type": "code",
      "execution_count": null,
      "metadata": {
        "colab": {
          "background_save": true
        },
        "id": "Hd5CjXKfIm8U"
      },
      "outputs": [],
      "source": [
        "dico['Perceptron'] = grid_per.best_params_\n",
        "with open('data.json', 'w') as fp:\n",
        "    json.dump(dico, fp,  indent=4)"
      ]
    },
    {
      "cell_type": "markdown",
      "metadata": {
        "id": "1su0mDwMIm8U"
      },
      "source": [
        "#### Observation \n",
        "\n",
        "La regression logistique n'est qu'un perceptron avec une sigmoid en fonction d'activation.\n",
        "On voit que la Regression Logistique a de meilleures performances à l'issue de la recherche d'hyperparamètres mais pas de loin. Par ailleurs le temps d'entrainement est considérablement plus élevé pour la regression logistique (du au calcul de l'exponentiel). Nous verrons par la suite quel modèle il est préférable de conserver. "
      ]
    },
    {
      "cell_type": "markdown",
      "metadata": {
        "id": "5Cy0mgWVCc-v"
      },
      "source": [
        "### LinearSVC"
      ]
    },
    {
      "cell_type": "code",
      "execution_count": null,
      "metadata": {
        "colab": {
          "base_uri": "https://localhost:8080/"
        },
        "id": "9K-4Ufu3Cc-v",
        "outputId": "e9e94094-e0f1-45d8-c6d0-fc5f9c5c8748"
      },
      "outputs": [
        {
          "name": "stdout",
          "output_type": "stream",
          "text": [
            "Fitting 5 folds for each of 12 candidates, totalling 60 fits\n"
          ]
        },
        {
          "name": "stderr",
          "output_type": "stream",
          "text": [
            "/usr/local/lib/python3.7/dist-packages/sklearn/model_selection/_validation.py:372: FitFailedWarning: \n",
            "40 fits failed out of a total of 60.\n",
            "The score on these train-test partitions for these parameters will be set to nan.\n",
            "If these failures are not expected, you can try to debug them by setting error_score='raise'.\n",
            "\n",
            "Below are more details about the failures:\n",
            "--------------------------------------------------------------------------------\n",
            "5 fits failed with the following error:\n",
            "Traceback (most recent call last):\n",
            "  File \"/usr/local/lib/python3.7/dist-packages/sklearn/model_selection/_validation.py\", line 680, in _fit_and_score\n",
            "    estimator.fit(X_train, y_train, **fit_params)\n",
            "  File \"/usr/local/lib/python3.7/dist-packages/sklearn/pipeline.py\", line 394, in fit\n",
            "    self._final_estimator.fit(Xt, y, **fit_params_last_step)\n",
            "  File \"/usr/local/lib/python3.7/dist-packages/sklearn/svm/_classes.py\", line 272, in fit\n",
            "    sample_weight=sample_weight,\n",
            "  File \"/usr/local/lib/python3.7/dist-packages/sklearn/svm/_base.py\", line 1185, in _fit_liblinear\n",
            "    solver_type = _get_liblinear_solver_type(multi_class, penalty, loss, dual)\n",
            "  File \"/usr/local/lib/python3.7/dist-packages/sklearn/svm/_base.py\", line 1026, in _get_liblinear_solver_type\n",
            "    % (error_string, penalty, loss, dual)\n",
            "ValueError: Unsupported set of arguments: The combination of penalty='l2' and loss='hinge' are not supported when dual=False, Parameters: penalty='l2', loss='hinge', dual=False\n",
            "\n",
            "--------------------------------------------------------------------------------\n",
            "5 fits failed with the following error:\n",
            "Traceback (most recent call last):\n",
            "  File \"/usr/local/lib/python3.7/dist-packages/sklearn/model_selection/_validation.py\", line 680, in _fit_and_score\n",
            "    estimator.fit(X_train, y_train, **fit_params)\n",
            "  File \"/usr/local/lib/python3.7/dist-packages/sklearn/pipeline.py\", line 394, in fit\n",
            "    self._final_estimator.fit(Xt, y, **fit_params_last_step)\n",
            "  File \"/usr/local/lib/python3.7/dist-packages/sklearn/svm/_classes.py\", line 272, in fit\n",
            "    sample_weight=sample_weight,\n",
            "  File \"/usr/local/lib/python3.7/dist-packages/sklearn/svm/_base.py\", line 1185, in _fit_liblinear\n",
            "    solver_type = _get_liblinear_solver_type(multi_class, penalty, loss, dual)\n",
            "  File \"/usr/local/lib/python3.7/dist-packages/sklearn/svm/_base.py\", line 1026, in _get_liblinear_solver_type\n",
            "    % (error_string, penalty, loss, dual)\n",
            "ValueError: Unsupported set of arguments: The combination of penalty='l1' and loss='hinge' is not supported, Parameters: penalty='l1', loss='hinge', dual=False\n",
            "\n",
            "--------------------------------------------------------------------------------\n",
            "5 fits failed with the following error:\n",
            "Traceback (most recent call last):\n",
            "  File \"/usr/local/lib/python3.7/dist-packages/sklearn/model_selection/_validation.py\", line 680, in _fit_and_score\n",
            "    estimator.fit(X_train, y_train, **fit_params)\n",
            "  File \"/usr/local/lib/python3.7/dist-packages/sklearn/pipeline.py\", line 394, in fit\n",
            "    self._final_estimator.fit(Xt, y, **fit_params_last_step)\n",
            "  File \"/usr/local/lib/python3.7/dist-packages/sklearn/svm/_classes.py\", line 272, in fit\n",
            "    sample_weight=sample_weight,\n",
            "  File \"/usr/local/lib/python3.7/dist-packages/sklearn/svm/_base.py\", line 1185, in _fit_liblinear\n",
            "    solver_type = _get_liblinear_solver_type(multi_class, penalty, loss, dual)\n",
            "  File \"/usr/local/lib/python3.7/dist-packages/sklearn/svm/_base.py\", line 1026, in _get_liblinear_solver_type\n",
            "    % (error_string, penalty, loss, dual)\n",
            "ValueError: Unsupported set of arguments: The combination of penalty='elasticnet' and loss='hinge' is not supported, Parameters: penalty='elasticnet', loss='hinge', dual=False\n",
            "\n",
            "--------------------------------------------------------------------------------\n",
            "5 fits failed with the following error:\n",
            "Traceback (most recent call last):\n",
            "  File \"/usr/local/lib/python3.7/dist-packages/sklearn/model_selection/_validation.py\", line 680, in _fit_and_score\n",
            "    estimator.fit(X_train, y_train, **fit_params)\n",
            "  File \"/usr/local/lib/python3.7/dist-packages/sklearn/pipeline.py\", line 394, in fit\n",
            "    self._final_estimator.fit(Xt, y, **fit_params_last_step)\n",
            "  File \"/usr/local/lib/python3.7/dist-packages/sklearn/svm/_classes.py\", line 272, in fit\n",
            "    sample_weight=sample_weight,\n",
            "  File \"/usr/local/lib/python3.7/dist-packages/sklearn/svm/_base.py\", line 1185, in _fit_liblinear\n",
            "    solver_type = _get_liblinear_solver_type(multi_class, penalty, loss, dual)\n",
            "  File \"/usr/local/lib/python3.7/dist-packages/sklearn/svm/_base.py\", line 1026, in _get_liblinear_solver_type\n",
            "    % (error_string, penalty, loss, dual)\n",
            "ValueError: Unsupported set of arguments: The combination of penalty='elasticnet' and loss='squared_hinge' is not supported, Parameters: penalty='elasticnet', loss='squared_hinge', dual=False\n",
            "\n",
            "--------------------------------------------------------------------------------\n",
            "5 fits failed with the following error:\n",
            "Traceback (most recent call last):\n",
            "  File \"/usr/local/lib/python3.7/dist-packages/sklearn/model_selection/_validation.py\", line 680, in _fit_and_score\n",
            "    estimator.fit(X_train, y_train, **fit_params)\n",
            "  File \"/usr/local/lib/python3.7/dist-packages/sklearn/pipeline.py\", line 394, in fit\n",
            "    self._final_estimator.fit(Xt, y, **fit_params_last_step)\n",
            "  File \"/usr/local/lib/python3.7/dist-packages/sklearn/svm/_classes.py\", line 272, in fit\n",
            "    sample_weight=sample_weight,\n",
            "  File \"/usr/local/lib/python3.7/dist-packages/sklearn/svm/_base.py\", line 1185, in _fit_liblinear\n",
            "    solver_type = _get_liblinear_solver_type(multi_class, penalty, loss, dual)\n",
            "  File \"/usr/local/lib/python3.7/dist-packages/sklearn/svm/_base.py\", line 1026, in _get_liblinear_solver_type\n",
            "    % (error_string, penalty, loss, dual)\n",
            "ValueError: Unsupported set of arguments: The combination of penalty='l1' and loss='hinge' is not supported, Parameters: penalty='l1', loss='hinge', dual=True\n",
            "\n",
            "--------------------------------------------------------------------------------\n",
            "5 fits failed with the following error:\n",
            "Traceback (most recent call last):\n",
            "  File \"/usr/local/lib/python3.7/dist-packages/sklearn/model_selection/_validation.py\", line 680, in _fit_and_score\n",
            "    estimator.fit(X_train, y_train, **fit_params)\n",
            "  File \"/usr/local/lib/python3.7/dist-packages/sklearn/pipeline.py\", line 394, in fit\n",
            "    self._final_estimator.fit(Xt, y, **fit_params_last_step)\n",
            "  File \"/usr/local/lib/python3.7/dist-packages/sklearn/svm/_classes.py\", line 272, in fit\n",
            "    sample_weight=sample_weight,\n",
            "  File \"/usr/local/lib/python3.7/dist-packages/sklearn/svm/_base.py\", line 1185, in _fit_liblinear\n",
            "    solver_type = _get_liblinear_solver_type(multi_class, penalty, loss, dual)\n",
            "  File \"/usr/local/lib/python3.7/dist-packages/sklearn/svm/_base.py\", line 1026, in _get_liblinear_solver_type\n",
            "    % (error_string, penalty, loss, dual)\n",
            "ValueError: Unsupported set of arguments: The combination of penalty='elasticnet' and loss='hinge' is not supported, Parameters: penalty='elasticnet', loss='hinge', dual=True\n",
            "\n",
            "--------------------------------------------------------------------------------\n",
            "5 fits failed with the following error:\n",
            "Traceback (most recent call last):\n",
            "  File \"/usr/local/lib/python3.7/dist-packages/sklearn/model_selection/_validation.py\", line 680, in _fit_and_score\n",
            "    estimator.fit(X_train, y_train, **fit_params)\n",
            "  File \"/usr/local/lib/python3.7/dist-packages/sklearn/pipeline.py\", line 394, in fit\n",
            "    self._final_estimator.fit(Xt, y, **fit_params_last_step)\n",
            "  File \"/usr/local/lib/python3.7/dist-packages/sklearn/svm/_classes.py\", line 272, in fit\n",
            "    sample_weight=sample_weight,\n",
            "  File \"/usr/local/lib/python3.7/dist-packages/sklearn/svm/_base.py\", line 1185, in _fit_liblinear\n",
            "    solver_type = _get_liblinear_solver_type(multi_class, penalty, loss, dual)\n",
            "  File \"/usr/local/lib/python3.7/dist-packages/sklearn/svm/_base.py\", line 1026, in _get_liblinear_solver_type\n",
            "    % (error_string, penalty, loss, dual)\n",
            "ValueError: Unsupported set of arguments: The combination of penalty='l1' and loss='squared_hinge' are not supported when dual=True, Parameters: penalty='l1', loss='squared_hinge', dual=True\n",
            "\n",
            "--------------------------------------------------------------------------------\n",
            "5 fits failed with the following error:\n",
            "Traceback (most recent call last):\n",
            "  File \"/usr/local/lib/python3.7/dist-packages/sklearn/model_selection/_validation.py\", line 680, in _fit_and_score\n",
            "    estimator.fit(X_train, y_train, **fit_params)\n",
            "  File \"/usr/local/lib/python3.7/dist-packages/sklearn/pipeline.py\", line 394, in fit\n",
            "    self._final_estimator.fit(Xt, y, **fit_params_last_step)\n",
            "  File \"/usr/local/lib/python3.7/dist-packages/sklearn/svm/_classes.py\", line 272, in fit\n",
            "    sample_weight=sample_weight,\n",
            "  File \"/usr/local/lib/python3.7/dist-packages/sklearn/svm/_base.py\", line 1185, in _fit_liblinear\n",
            "    solver_type = _get_liblinear_solver_type(multi_class, penalty, loss, dual)\n",
            "  File \"/usr/local/lib/python3.7/dist-packages/sklearn/svm/_base.py\", line 1026, in _get_liblinear_solver_type\n",
            "    % (error_string, penalty, loss, dual)\n",
            "ValueError: Unsupported set of arguments: The combination of penalty='elasticnet' and loss='squared_hinge' is not supported, Parameters: penalty='elasticnet', loss='squared_hinge', dual=True\n",
            "\n",
            "  warnings.warn(some_fits_failed_message, FitFailedWarning)\n",
            "/usr/local/lib/python3.7/dist-packages/sklearn/model_selection/_search.py:972: UserWarning: One or more of the test scores are non-finite: [       nan        nan        nan 0.83094003 0.86891657        nan\n",
            " 0.82693114        nan        nan 0.83091573        nan        nan]\n",
            "  category=UserWarning,\n"
          ]
        },
        {
          "name": "stdout",
          "output_type": "stream",
          "text": [
            "Best Score:  0.868916566574562\n",
            "Best Params:  {'clf__dual': False, 'clf__loss': 'squared_hinge', 'clf__penalty': 'l1'}\n",
            "CPU times: user 11.5 s, sys: 524 ms, total: 12.1 s\n",
            "Wall time: 1min 7s\n"
          ]
        }
      ],
      "source": [
        "%%time\n",
        "grid_svc = hp.grid_Search(\"SVC\", X_train=X_train, y_train=y_train) "
      ]
    },
    {
      "cell_type": "code",
      "execution_count": null,
      "metadata": {
        "id": "kllEfjEeIm8U"
      },
      "outputs": [],
      "source": [
        "dico['SVC'] = grid_svc.best_params_\n",
        "with open('data.json', 'w') as fp:\n",
        "    json.dump(dico, fp,  indent=4)"
      ]
    },
    {
      "cell_type": "markdown",
      "metadata": {
        "id": "nXpV5M9IIm8U"
      },
      "source": [
        "### Charging the best parameters for training"
      ]
    },
    {
      "cell_type": "code",
      "execution_count": null,
      "metadata": {
        "id": "ct7BBebdCc-w"
      },
      "outputs": [],
      "source": [
        "# Opening JSON file\n",
        "with open('data.json') as json_file:\n",
        "    data = json.load(json_file)\n",
        "\n",
        "data_sgd = data['SGD']\n",
        "data_rf = data['RF']\n",
        "data_gb = data['GB']\n",
        "data_lr = data['LR']\n",
        "data_per = data['Perceptron']\n",
        "data_svc = data['SVC']"
      ]
    },
    {
      "cell_type": "markdown",
      "metadata": {
        "id": "efhYhzvsIm8V"
      },
      "source": [
        "### Training on all training data and testing on test data"
      ]
    },
    {
      "cell_type": "code",
      "execution_count": null,
      "metadata": {
        "id": "Rjoag_IAIm8V"
      },
      "outputs": [],
      "source": [
        "def testing(model):\n",
        "    predictions_train = model.predict(X_train)\n",
        "    predictions_test = model.predict(X_test)\n",
        "    accuracy_train = accuracy_score(y_train,predictions_train )\n",
        "    accuracy_test = accuracy_score(y_test,predictions_test )\n",
        "    print(f\"train_accuracy : {accuracy_train} \\ntest_accuracy : {accuracy_test}  \")"
      ]
    },
    {
      "cell_type": "markdown",
      "metadata": {
        "id": "c58mITNcIm8V"
      },
      "source": [
        "### SGD"
      ]
    },
    {
      "cell_type": "code",
      "execution_count": null,
      "metadata": {
        "colab": {
          "base_uri": "https://localhost:8080/"
        },
        "id": "FozzlotYCc-w",
        "outputId": "075c1206-e5dd-42e1-ab17-150125522e07"
      },
      "outputs": [
        {
          "data": {
            "text/plain": [
              "Pipeline(steps=[('tfidf', TfidfVectorizer()),\n",
              "                ('clf',\n",
              "                 SGDClassifier(alpha=1.28206e-05, n_jobs=-1, penalty='l1'))])"
            ]
          },
          "execution_count": 11,
          "metadata": {},
          "output_type": "execute_result"
        }
      ],
      "source": [
        "model_sgd_best = pipeline_sgd\n",
        "model_sgd_best.set_params(**data_sgd,clf__n_jobs=-1) "
      ]
    },
    {
      "cell_type": "code",
      "execution_count": null,
      "metadata": {
        "colab": {
          "base_uri": "https://localhost:8080/"
        },
        "id": "nB_Uisu1Im8V",
        "outputId": "4fbe6dd6-da61-4b2c-ff25-360ab59e89c2"
      },
      "outputs": [
        {
          "name": "stdout",
          "output_type": "stream",
          "text": [
            "CPU times: user 2.06 s, sys: 166 ms, total: 2.22 s\n",
            "Wall time: 1.51 s\n"
          ]
        }
      ],
      "source": [
        "%%time\n",
        "\n",
        "\"\"\"\n",
        "Si on a fait la recherche avant, on prend le best_model du gridSearchCv,\n",
        "Sinon, on reconstruit le modèle avec les best paramètres et on le fit à toutes les données d'entrainement. \n",
        "\"\"\"\n",
        "\n",
        "model_sgd_best.fit(X_train,y_train)\n"
      ]
    },
    {
      "cell_type": "code",
      "execution_count": null,
      "metadata": {
        "colab": {
          "base_uri": "https://localhost:8080/"
        },
        "id": "4qLjHzHrIm8W",
        "outputId": "49b512c7-6cdd-4e0f-bbb3-dae88f1b457f"
      },
      "outputs": [
        {
          "name": "stdout",
          "output_type": "stream",
          "text": [
            "train_accuracy : 0.9316762640620064 \n",
            "test_accuracy : 0.8788836229594523  \n"
          ]
        }
      ],
      "source": [
        "testing(model_sgd_best)"
      ]
    },
    {
      "cell_type": "markdown",
      "metadata": {
        "id": "Qr9nBCXvIm8W"
      },
      "source": [
        "### Random Forest"
      ]
    },
    {
      "cell_type": "code",
      "execution_count": null,
      "metadata": {
        "colab": {
          "base_uri": "https://localhost:8080/"
        },
        "id": "lGouwXZ_Cc-x",
        "outputId": "d811fee4-defa-4145-89fa-99505eb06fa8"
      },
      "outputs": [
        {
          "data": {
            "text/plain": [
              "Pipeline(steps=[('tfidf', TfidfVectorizer()),\n",
              "                ('clf',\n",
              "                 RandomForestClassifier(criterion='entropy',\n",
              "                                        max_features='log2',\n",
              "                                        min_samples_split=32, n_estimators=200,\n",
              "                                        n_jobs=-1))])"
            ]
          },
          "execution_count": 14,
          "metadata": {},
          "output_type": "execute_result"
        }
      ],
      "source": [
        "model_rf_best = pipeline_rf\n",
        "model_rf_best.set_params(**data_rf,clf__n_jobs=-1)"
      ]
    },
    {
      "cell_type": "code",
      "execution_count": null,
      "metadata": {
        "colab": {
          "base_uri": "https://localhost:8080/"
        },
        "id": "bdEu7AlyCc-x",
        "outputId": "8b7d8c26-ba71-4593-e846-c0b57c4ef8b4"
      },
      "outputs": [
        {
          "name": "stdout",
          "output_type": "stream",
          "text": [
            "CPU times: user 55.5 s, sys: 382 ms, total: 55.9 s\n",
            "Wall time: 15.1 s\n"
          ]
        },
        {
          "data": {
            "text/plain": [
              "Pipeline(steps=[('tfidf', TfidfVectorizer()),\n",
              "                ('clf',\n",
              "                 RandomForestClassifier(criterion='entropy',\n",
              "                                        max_features='log2',\n",
              "                                        min_samples_split=32, n_estimators=200,\n",
              "                                        n_jobs=-1))])"
            ]
          },
          "execution_count": 15,
          "metadata": {},
          "output_type": "execute_result"
        }
      ],
      "source": [
        "%%time\n",
        "\n",
        "model_rf_best.fit(X_train,y_train)"
      ]
    },
    {
      "cell_type": "code",
      "execution_count": null,
      "metadata": {
        "colab": {
          "base_uri": "https://localhost:8080/"
        },
        "id": "yWtUmtDsCc-x",
        "outputId": "455bbb44-774b-4cfe-eb76-8f77ce6593ab"
      },
      "outputs": [
        {
          "name": "stdout",
          "output_type": "stream",
          "text": [
            "train_accuracy : 0.9957965838132031 \n",
            "test_accuracy : 0.7037914691943128  \n"
          ]
        }
      ],
      "source": [
        "testing(model_rf_best)"
      ]
    },
    {
      "cell_type": "markdown",
      "metadata": {
        "id": "1ltx6agFIm8W"
      },
      "source": [
        "### Gradient Boosting "
      ]
    },
    {
      "cell_type": "code",
      "execution_count": null,
      "metadata": {
        "colab": {
          "base_uri": "https://localhost:8080/"
        },
        "id": "TBkq5EjbIm8X",
        "outputId": "9c50fafd-d7c3-4ce9-a885-69a95a71e745"
      },
      "outputs": [
        {
          "data": {
            "text/plain": [
              "Pipeline(steps=[('tfidf', TfidfVectorizer()),\n",
              "                ('clf',\n",
              "                 GradientBoostingClassifier(learning_rate=0.4,\n",
              "                                            n_estimators=1600))])"
            ]
          },
          "execution_count": 17,
          "metadata": {},
          "output_type": "execute_result"
        }
      ],
      "source": [
        "model_gb_best = pipeline_gb\n",
        "model_gb_best.set_params(**data_gb)"
      ]
    },
    {
      "cell_type": "code",
      "execution_count": null,
      "metadata": {
        "colab": {
          "base_uri": "https://localhost:8080/"
        },
        "id": "vhbG6NHjIm8X",
        "outputId": "34bf2452-5866-4aac-984f-68f907ac1473"
      },
      "outputs": [
        {
          "name": "stdout",
          "output_type": "stream",
          "text": [
            "CPU times: user 29min 46s, sys: 4.29 s, total: 29min 51s\n",
            "Wall time: 29min 43s\n"
          ]
        },
        {
          "data": {
            "text/plain": [
              "Pipeline(steps=[('tfidf', TfidfVectorizer()),\n",
              "                ('clf',\n",
              "                 GradientBoostingClassifier(learning_rate=0.4,\n",
              "                                            n_estimators=1600))])"
            ]
          },
          "execution_count": 18,
          "metadata": {},
          "output_type": "execute_result"
        }
      ],
      "source": [
        "%%time\n",
        "model_gb_best.fit(X_train,y_train)"
      ]
    },
    {
      "cell_type": "code",
      "execution_count": null,
      "metadata": {
        "colab": {
          "base_uri": "https://localhost:8080/"
        },
        "id": "0IAbPNE1Im8X",
        "outputId": "e78a9d35-acdc-446e-9132-bee2324fe8bd"
      },
      "outputs": [
        {
          "name": "stdout",
          "output_type": "stream",
          "text": [
            "train_accuracy : 0.9979104405082975 \n",
            "test_accuracy : 0.8457082675092154  \n"
          ]
        }
      ],
      "source": [
        "testing(model_gb_best)"
      ]
    },
    {
      "cell_type": "markdown",
      "metadata": {
        "id": "6pOf07uNIm8X"
      },
      "source": [
        "### Logistic Regression"
      ]
    },
    {
      "cell_type": "code",
      "execution_count": null,
      "metadata": {
        "colab": {
          "base_uri": "https://localhost:8080/"
        },
        "id": "lX1hcdBjIm8X",
        "outputId": "284c7703-a045-4ef4-a17f-192b7dc612a2"
      },
      "outputs": [
        {
          "data": {
            "text/plain": [
              "Pipeline(steps=[('tfidf', TfidfVectorizer()),\n",
              "                ('clf',\n",
              "                 LogisticRegression(C=10, max_iter=1000, n_jobs=-1,\n",
              "                                    tol=1e-12))])"
            ]
          },
          "execution_count": 20,
          "metadata": {},
          "output_type": "execute_result"
        }
      ],
      "source": [
        "model_lr_best = pipeline_lr\n",
        "model_lr_best.set_params(**data_lr,clf__n_jobs=-1)"
      ]
    },
    {
      "cell_type": "code",
      "execution_count": null,
      "metadata": {
        "colab": {
          "base_uri": "https://localhost:8080/"
        },
        "id": "IcONRPWqIm8X",
        "outputId": "aa219fdc-bb6f-49e3-bcc6-19394ad8744d"
      },
      "outputs": [
        {
          "name": "stdout",
          "output_type": "stream",
          "text": [
            "CPU times: user 1.15 s, sys: 85 ms, total: 1.24 s\n",
            "Wall time: 17.4 s\n"
          ]
        },
        {
          "data": {
            "text/plain": [
              "Pipeline(steps=[('tfidf', TfidfVectorizer()),\n",
              "                ('clf',\n",
              "                 LogisticRegression(C=10, max_iter=1000, n_jobs=-1,\n",
              "                                    tol=1e-12))])"
            ]
          },
          "execution_count": 21,
          "metadata": {},
          "output_type": "execute_result"
        }
      ],
      "source": [
        "%%time\n",
        "\n",
        "model_lr_best.fit(X_train,y_train)"
      ]
    },
    {
      "cell_type": "code",
      "execution_count": null,
      "metadata": {
        "colab": {
          "base_uri": "https://localhost:8080/"
        },
        "id": "0aWokKTIIm8X",
        "outputId": "639eb006-823f-47af-e380-bdd57f913cf6"
      },
      "outputs": [
        {
          "name": "stdout",
          "output_type": "stream",
          "text": [
            "train_accuracy : 0.9755813105911509 \n",
            "test_accuracy : 0.833070036861506  \n"
          ]
        }
      ],
      "source": [
        "testing(model_lr_best)"
      ]
    },
    {
      "cell_type": "markdown",
      "metadata": {
        "id": "E8iVyZvUIm8X"
      },
      "source": [
        "### Perceptron"
      ]
    },
    {
      "cell_type": "code",
      "execution_count": null,
      "metadata": {
        "colab": {
          "base_uri": "https://localhost:8080/"
        },
        "id": "TpJKR5-CIm8Y",
        "outputId": "a2e57fd5-f0c7-410e-dc36-b087e4cd1967"
      },
      "outputs": [
        {
          "data": {
            "text/plain": [
              "Pipeline(steps=[('tfidf', TfidfVectorizer()),\n",
              "                ('clf', Perceptron(alpha=3.04e-06, n_jobs=-1, penalty='l1'))])"
            ]
          },
          "execution_count": 23,
          "metadata": {},
          "output_type": "execute_result"
        }
      ],
      "source": [
        "model_per_best = pipeline_per\n",
        "model_per_best.set_params(**data_per,clf__n_jobs=-1)"
      ]
    },
    {
      "cell_type": "code",
      "execution_count": null,
      "metadata": {
        "colab": {
          "base_uri": "https://localhost:8080/"
        },
        "id": "qdazS8r9Im8Y",
        "outputId": "401da1d0-0704-4969-c6e6-a2053c2c9630"
      },
      "outputs": [
        {
          "name": "stdout",
          "output_type": "stream",
          "text": [
            "CPU times: user 1.79 s, sys: 248 ms, total: 2.04 s\n",
            "Wall time: 1.38 s\n"
          ]
        },
        {
          "data": {
            "text/plain": [
              "Pipeline(steps=[('tfidf', TfidfVectorizer()),\n",
              "                ('clf', Perceptron(alpha=3.04e-06, n_jobs=-1, penalty='l1'))])"
            ]
          },
          "execution_count": 24,
          "metadata": {},
          "output_type": "execute_result"
        }
      ],
      "source": [
        "%%time\n",
        "model_per_best.fit(X_train,y_train)"
      ]
    },
    {
      "cell_type": "code",
      "execution_count": null,
      "metadata": {
        "colab": {
          "base_uri": "https://localhost:8080/"
        },
        "id": "PQWvx1CJIm8Y",
        "outputId": "c5418f81-2fab-41b3-c35e-5c1db221937d"
      },
      "outputs": [
        {
          "name": "stdout",
          "output_type": "stream",
          "text": [
            "train_accuracy : 0.941662414656073 \n",
            "test_accuracy : 0.8217482885729331  \n"
          ]
        }
      ],
      "source": [
        "testing(model_per_best)"
      ]
    },
    {
      "cell_type": "markdown",
      "metadata": {
        "id": "q1O2dupiIm8Y"
      },
      "source": [
        "### SVC"
      ]
    },
    {
      "cell_type": "code",
      "execution_count": null,
      "metadata": {
        "colab": {
          "base_uri": "https://localhost:8080/"
        },
        "id": "tG0A4VREIm8Y",
        "outputId": "1d42cb61-fba2-4f45-e4fb-4fe0e98c6a86"
      },
      "outputs": [
        {
          "data": {
            "text/plain": [
              "Pipeline(steps=[('tfidf', TfidfVectorizer()),\n",
              "                ('clf', LinearSVC(dual=False, max_iter=10000, penalty='l1'))])"
            ]
          },
          "execution_count": 26,
          "metadata": {},
          "output_type": "execute_result"
        }
      ],
      "source": [
        "model_svc_best = pipeline_svc\n",
        "model_svc_best.set_params(**data_svc)"
      ]
    },
    {
      "cell_type": "code",
      "execution_count": null,
      "metadata": {
        "colab": {
          "base_uri": "https://localhost:8080/"
        },
        "id": "RSG2qg6GIm8Y",
        "outputId": "c5ac5995-9001-4f2b-e6ae-121e34e32423"
      },
      "outputs": [
        {
          "name": "stdout",
          "output_type": "stream",
          "text": [
            "CPU times: user 7.69 s, sys: 31 ms, total: 7.72 s\n",
            "Wall time: 7.69 s\n"
          ]
        },
        {
          "data": {
            "text/plain": [
              "Pipeline(steps=[('tfidf', TfidfVectorizer()),\n",
              "                ('clf', LinearSVC(dual=False, max_iter=10000, penalty='l1'))])"
            ]
          },
          "execution_count": 27,
          "metadata": {},
          "output_type": "execute_result"
        }
      ],
      "source": [
        "%%time\n",
        "\n",
        "model_svc_best.fit(X_train,y_train)"
      ]
    },
    {
      "cell_type": "code",
      "execution_count": null,
      "metadata": {
        "colab": {
          "base_uri": "https://localhost:8080/"
        },
        "id": "W1NV_zYeIm8Z",
        "outputId": "ef2e7adb-ba68-4790-dad0-46693c1c47a5"
      },
      "outputs": [
        {
          "name": "stdout",
          "output_type": "stream",
          "text": [
            "train_accuracy : 0.9481983623684914 \n",
            "test_accuracy : 0.8730911005792522  \n"
          ]
        }
      ],
      "source": [
        "testing(model_svc_best)"
      ]
    },
    {
      "cell_type": "markdown",
      "metadata": {
        "id": "igWU2A4PIm8Z"
      },
      "source": [
        "### Voting Classifier"
      ]
    },
    {
      "cell_type": "code",
      "execution_count": null,
      "metadata": {
        "id": "86JLNLKor1AL"
      },
      "outputs": [],
      "source": [
        "clf1 = model_sgd_best\n",
        "\n",
        "clf2 = model_rf_best\n",
        "\n",
        "clf3 = model_gb_best\n",
        "\n",
        "clf4 = model_lr_best\n",
        "\n",
        "clf5 = model_per_best\n",
        "\n",
        "clf6 = model_svc_best\n",
        "\n",
        "\n",
        "eclf1 = VotingClassifier(\n",
        "     estimators=[('sgd', clf1), ('rf', clf2), ('gb', clf3), ('lr', clf4), ('per', clf5), ('svc', clf6)],\n",
        "     voting='hard')\n",
        "\n",
        "eclf2 = VotingClassifier(\n",
        "     estimators=[('sgd', clf1), ('lr', clf4), ('per', clf5), ('svc', clf6)],\n",
        "     voting='hard')\n"
      ]
    },
    {
      "cell_type": "code",
      "execution_count": null,
      "metadata": {
        "colab": {
          "base_uri": "https://localhost:8080/"
        },
        "id": "_wiWZkZ7Im8Z",
        "outputId": "c973ed4a-2b45-4558-9fee-9a4b80d4039e"
      },
      "outputs": [
        {
          "name": "stdout",
          "output_type": "stream",
          "text": [
            "CPU times: user 30min 13s, sys: 3.55 s, total: 30min 17s\n",
            "Wall time: 30min 37s\n"
          ]
        },
        {
          "data": {
            "text/plain": [
              "VotingClassifier(estimators=[('sgd',\n",
              "                              Pipeline(steps=[('tfidf', TfidfVectorizer()),\n",
              "                                              ('clf',\n",
              "                                               SGDClassifier(alpha=1.28206e-05,\n",
              "                                                             n_jobs=-1,\n",
              "                                                             penalty='l1'))])),\n",
              "                             ('rf',\n",
              "                              Pipeline(steps=[('tfidf', TfidfVectorizer()),\n",
              "                                              ('clf',\n",
              "                                               RandomForestClassifier(criterion='entropy',\n",
              "                                                                      max_features='log2',\n",
              "                                                                      min_samples_split=32,\n",
              "                                                                      n_estimators=200,\n",
              "                                                                      n_jobs=-1))])),\n",
              "                             ('gb',\n",
              "                              Pipeline(steps=[('tfidf'...\n",
              "                                                                          n_estimators=1600))])),\n",
              "                             ('lr',\n",
              "                              Pipeline(steps=[('tfidf', TfidfVectorizer()),\n",
              "                                              ('clf',\n",
              "                                               LogisticRegression(C=10,\n",
              "                                                                  max_iter=1000,\n",
              "                                                                  n_jobs=-1,\n",
              "                                                                  tol=1e-12))])),\n",
              "                             ('per',\n",
              "                              Pipeline(steps=[('tfidf', TfidfVectorizer()),\n",
              "                                              ('clf',\n",
              "                                               Perceptron(alpha=3.04e-06,\n",
              "                                                          n_jobs=-1,\n",
              "                                                          penalty='l1'))])),\n",
              "                             ('svc',\n",
              "                              Pipeline(steps=[('tfidf', TfidfVectorizer()),\n",
              "                                              ('clf',\n",
              "                                               LinearSVC(dual=False,\n",
              "                                                         max_iter=10000,\n",
              "                                                         penalty='l1'))]))])"
            ]
          },
          "execution_count": 31,
          "metadata": {},
          "output_type": "execute_result"
        }
      ],
      "source": [
        "%%time\n",
        "\n",
        "eclf1.fit(X_train,y_train)"
      ]
    },
    {
      "cell_type": "code",
      "execution_count": null,
      "metadata": {
        "colab": {
          "base_uri": "https://localhost:8080/"
        },
        "id": "fw_BUQQSIm8Z",
        "outputId": "a6126b36-066c-47f6-99a6-4a9e5e5ae06f"
      },
      "outputs": [
        {
          "name": "stdout",
          "output_type": "stream",
          "text": [
            "train_accuracy : 0.9785698666083534 \n",
            "test_accuracy : 0.8701948393891522  \n"
          ]
        }
      ],
      "source": [
        "testing(eclf1)"
      ]
    },
    {
      "cell_type": "code",
      "execution_count": null,
      "metadata": {
        "colab": {
          "base_uri": "https://localhost:8080/"
        },
        "id": "0T0t23GRIm8Z",
        "outputId": "7274c239-5e85-4f7e-f3e3-b4589415a77c"
      },
      "outputs": [
        {
          "name": "stdout",
          "output_type": "stream",
          "text": [
            "CPU times: user 12.4 s, sys: 533 ms, total: 13 s\n",
            "Wall time: 27.3 s\n"
          ]
        },
        {
          "data": {
            "text/plain": [
              "VotingClassifier(estimators=[('sgd',\n",
              "                              Pipeline(steps=[('tfidf', TfidfVectorizer()),\n",
              "                                              ('clf',\n",
              "                                               SGDClassifier(alpha=1.28206e-05,\n",
              "                                                             n_jobs=-1,\n",
              "                                                             penalty='l1'))])),\n",
              "                             ('lr',\n",
              "                              Pipeline(steps=[('tfidf', TfidfVectorizer()),\n",
              "                                              ('clf',\n",
              "                                               LogisticRegression(C=10,\n",
              "                                                                  max_iter=1000,\n",
              "                                                                  n_jobs=-1,\n",
              "                                                                  tol=1e-12))])),\n",
              "                             ('per',\n",
              "                              Pipeline(steps=[('tfidf', TfidfVectorizer()),\n",
              "                                              ('clf',\n",
              "                                               Perceptron(alpha=3.04e-06,\n",
              "                                                          n_jobs=-1,\n",
              "                                                          penalty='l1'))])),\n",
              "                             ('svc',\n",
              "                              Pipeline(steps=[('tfidf', TfidfVectorizer()),\n",
              "                                              ('clf',\n",
              "                                               LinearSVC(dual=False,\n",
              "                                                         max_iter=10000,\n",
              "                                                         penalty='l1'))]))])"
            ]
          },
          "execution_count": 33,
          "metadata": {},
          "output_type": "execute_result"
        }
      ],
      "source": [
        "%%time\n",
        "\n",
        "eclf2.fit(X_train,y_train)"
      ]
    },
    {
      "cell_type": "code",
      "execution_count": null,
      "metadata": {
        "colab": {
          "base_uri": "https://localhost:8080/"
        },
        "id": "5P69br2jIm8a",
        "outputId": "0d392b84-575f-48bb-e8e0-b375619f367b"
      },
      "outputs": [
        {
          "name": "stdout",
          "output_type": "stream",
          "text": [
            "train_accuracy : 0.9609057997424496 \n",
            "test_accuracy : 0.8654555028962612  \n"
          ]
        }
      ],
      "source": [
        "testing(eclf2)"
      ]
    },
    {
      "cell_type": "markdown",
      "metadata": {
        "id": "hdLQ58gVIm8a"
      },
      "source": [
        "### Tests perso"
      ]
    },
    {
      "cell_type": "code",
      "execution_count": null,
      "metadata": {
        "id": "4X_wIsASIm8a"
      },
      "outputs": [],
      "source": [
        "tests_perso = [\"I think covid is the most horrible threat we ever faced\",\n",
        "                \"I love covid, thanks to it I can see my family much more often and I don't have to comute as much\",\n",
        "                \"I would love to come to your birthday party, but I got covid, I have to stay confined\"\n",
        "]"
      ]
    },
    {
      "cell_type": "code",
      "execution_count": null,
      "metadata": {
        "id": "PjtuAMrAIm8a"
      },
      "outputs": [],
      "source": [
        "predictions_out = eclf2.predict(tests_perso)\n"
      ]
    },
    {
      "cell_type": "code",
      "execution_count": null,
      "metadata": {
        "colab": {
          "base_uri": "https://localhost:8080/"
        },
        "id": "ISxBcyP0Im8a",
        "outputId": "07019939-277f-4afc-ac29-87be2c393f89"
      },
      "outputs": [
        {
          "data": {
            "text/plain": [
              "array([-1,  1,  1])"
            ]
          },
          "execution_count": 37,
          "metadata": {},
          "output_type": "execute_result"
        }
      ],
      "source": [
        "predictions_out"
      ]
    }
  ],
  "metadata": {
    "colab": {
      "collapsed_sections": [],
      "machine_shape": "hm",
      "name": "main_notebook.ipynb",
      "provenance": []
    },
    "interpreter": {
      "hash": "822dd2d5dd360abba25557036e653898358cd5c8dbb7b3b755070434497e6489"
    },
    "kernelspec": {
      "display_name": "Python 3",
      "language": "python",
      "name": "python3"
    },
    "language_info": {
      "codemirror_mode": {
        "name": "ipython",
        "version": 3
      },
      "file_extension": ".py",
      "mimetype": "text/x-python",
      "name": "python",
      "nbconvert_exporter": "python",
      "pygments_lexer": "ipython3",
      "version": "3.10.4"
    }
  },
  "nbformat": 4,
  "nbformat_minor": 0
}
