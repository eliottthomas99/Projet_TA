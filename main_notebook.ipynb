{
  "cells": [
    {
      "cell_type": "code",
      "execution_count": 1,
      "metadata": {
        "colab": {
          "base_uri": "https://localhost:8080/"
        },
        "id": "d9HjnVDmssa8",
        "outputId": "d1341450-00de-45aa-9910-f16b2ccc1390"
      },
      "outputs": [
        {
          "output_type": "stream",
          "name": "stdout",
          "text": [
            "Mounted at /content/drive\n",
            "Collecting tweet-preprocessor\n",
            "  Downloading tweet_preprocessor-0.6.0-py3-none-any.whl (27 kB)\n",
            "Installing collected packages: tweet-preprocessor\n",
            "Successfully installed tweet-preprocessor-0.6.0\n",
            "Collecting ipython-autotime\n",
            "  Downloading ipython_autotime-0.3.1-py2.py3-none-any.whl (6.8 kB)\n",
            "Requirement already satisfied: ipython in /usr/local/lib/python3.7/dist-packages (from ipython-autotime) (5.5.0)\n",
            "Requirement already satisfied: traitlets>=4.2 in /usr/local/lib/python3.7/dist-packages (from ipython->ipython-autotime) (5.1.1)\n",
            "Requirement already satisfied: setuptools>=18.5 in /usr/local/lib/python3.7/dist-packages (from ipython->ipython-autotime) (57.4.0)\n",
            "Requirement already satisfied: pickleshare in /usr/local/lib/python3.7/dist-packages (from ipython->ipython-autotime) (0.7.5)\n",
            "Requirement already satisfied: prompt-toolkit<2.0.0,>=1.0.4 in /usr/local/lib/python3.7/dist-packages (from ipython->ipython-autotime) (1.0.18)\n",
            "Requirement already satisfied: decorator in /usr/local/lib/python3.7/dist-packages (from ipython->ipython-autotime) (4.4.2)\n",
            "Requirement already satisfied: simplegeneric>0.8 in /usr/local/lib/python3.7/dist-packages (from ipython->ipython-autotime) (0.8.1)\n",
            "Requirement already satisfied: pygments in /usr/local/lib/python3.7/dist-packages (from ipython->ipython-autotime) (2.6.1)\n",
            "Requirement already satisfied: pexpect in /usr/local/lib/python3.7/dist-packages (from ipython->ipython-autotime) (4.8.0)\n",
            "Requirement already satisfied: six>=1.9.0 in /usr/local/lib/python3.7/dist-packages (from prompt-toolkit<2.0.0,>=1.0.4->ipython->ipython-autotime) (1.15.0)\n",
            "Requirement already satisfied: wcwidth in /usr/local/lib/python3.7/dist-packages (from prompt-toolkit<2.0.0,>=1.0.4->ipython->ipython-autotime) (0.2.5)\n",
            "Requirement already satisfied: ptyprocess>=0.5 in /usr/local/lib/python3.7/dist-packages (from pexpect->ipython->ipython-autotime) (0.7.0)\n",
            "Installing collected packages: ipython-autotime\n",
            "Successfully installed ipython-autotime-0.3.1\n",
            "Collecting optuna\n",
            "  Downloading optuna-2.10.0-py3-none-any.whl (308 kB)\n",
            "\u001b[K     |████████████████████████████████| 308 kB 33.7 MB/s \n",
            "\u001b[?25hRequirement already satisfied: sqlalchemy>=1.1.0 in /usr/local/lib/python3.7/dist-packages (from optuna) (1.4.35)\n",
            "Requirement already satisfied: tqdm in /usr/local/lib/python3.7/dist-packages (from optuna) (4.64.0)\n",
            "Collecting cmaes>=0.8.2\n",
            "  Downloading cmaes-0.8.2-py3-none-any.whl (15 kB)\n",
            "Collecting alembic\n",
            "  Downloading alembic-1.7.7-py3-none-any.whl (210 kB)\n",
            "\u001b[K     |████████████████████████████████| 210 kB 74.9 MB/s \n",
            "\u001b[?25hCollecting colorlog\n",
            "  Downloading colorlog-6.6.0-py2.py3-none-any.whl (11 kB)\n",
            "Requirement already satisfied: packaging>=20.0 in /usr/local/lib/python3.7/dist-packages (from optuna) (21.3)\n",
            "Requirement already satisfied: PyYAML in /usr/local/lib/python3.7/dist-packages (from optuna) (3.13)\n",
            "Collecting cliff\n",
            "  Downloading cliff-3.10.1-py3-none-any.whl (81 kB)\n",
            "\u001b[K     |████████████████████████████████| 81 kB 12.8 MB/s \n",
            "\u001b[?25hRequirement already satisfied: numpy in /usr/local/lib/python3.7/dist-packages (from optuna) (1.21.5)\n",
            "Requirement already satisfied: scipy!=1.4.0 in /usr/local/lib/python3.7/dist-packages (from optuna) (1.4.1)\n",
            "Requirement already satisfied: pyparsing!=3.0.5,>=2.0.2 in /usr/local/lib/python3.7/dist-packages (from packaging>=20.0->optuna) (3.0.8)\n",
            "Requirement already satisfied: importlib-metadata in /usr/local/lib/python3.7/dist-packages (from sqlalchemy>=1.1.0->optuna) (4.11.3)\n",
            "Requirement already satisfied: greenlet!=0.4.17 in /usr/local/lib/python3.7/dist-packages (from sqlalchemy>=1.1.0->optuna) (1.1.2)\n",
            "Collecting Mako\n",
            "  Downloading Mako-1.2.0-py3-none-any.whl (78 kB)\n",
            "\u001b[K     |████████████████████████████████| 78 kB 4.6 MB/s \n",
            "\u001b[?25hRequirement already satisfied: importlib-resources in /usr/local/lib/python3.7/dist-packages (from alembic->optuna) (5.6.0)\n",
            "Collecting pbr!=2.1.0,>=2.0.0\n",
            "  Downloading pbr-5.8.1-py2.py3-none-any.whl (113 kB)\n",
            "\u001b[K     |████████████████████████████████| 113 kB 89.8 MB/s \n",
            "\u001b[?25hCollecting stevedore>=2.0.1\n",
            "  Downloading stevedore-3.5.0-py3-none-any.whl (49 kB)\n",
            "\u001b[K     |████████████████████████████████| 49 kB 8.5 MB/s \n",
            "\u001b[?25hCollecting autopage>=0.4.0\n",
            "  Downloading autopage-0.5.0-py3-none-any.whl (29 kB)\n",
            "Collecting cmd2>=1.0.0\n",
            "  Downloading cmd2-2.4.1-py3-none-any.whl (146 kB)\n",
            "\u001b[K     |████████████████████████████████| 146 kB 63.2 MB/s \n",
            "\u001b[?25hRequirement already satisfied: PrettyTable>=0.7.2 in /usr/local/lib/python3.7/dist-packages (from cliff->optuna) (3.2.0)\n",
            "Collecting pyperclip>=1.6\n",
            "  Downloading pyperclip-1.8.2.tar.gz (20 kB)\n",
            "Requirement already satisfied: attrs>=16.3.0 in /usr/local/lib/python3.7/dist-packages (from cmd2>=1.0.0->cliff->optuna) (21.4.0)\n",
            "Requirement already satisfied: wcwidth>=0.1.7 in /usr/local/lib/python3.7/dist-packages (from cmd2>=1.0.0->cliff->optuna) (0.2.5)\n",
            "Requirement already satisfied: typing-extensions in /usr/local/lib/python3.7/dist-packages (from cmd2>=1.0.0->cliff->optuna) (4.1.1)\n",
            "Requirement already satisfied: zipp>=0.5 in /usr/local/lib/python3.7/dist-packages (from importlib-metadata->sqlalchemy>=1.1.0->optuna) (3.8.0)\n",
            "Requirement already satisfied: MarkupSafe>=0.9.2 in /usr/local/lib/python3.7/dist-packages (from Mako->alembic->optuna) (2.0.1)\n",
            "Building wheels for collected packages: pyperclip\n",
            "  Building wheel for pyperclip (setup.py) ... \u001b[?25l\u001b[?25hdone\n",
            "  Created wheel for pyperclip: filename=pyperclip-1.8.2-py3-none-any.whl size=11137 sha256=79688fb4d6108f0846c34f43e5d80cc0a473d1f3fde49c526e3da0ac5c925c66\n",
            "  Stored in directory: /root/.cache/pip/wheels/9f/18/84/8f69f8b08169c7bae2dde6bd7daf0c19fca8c8e500ee620a28\n",
            "Successfully built pyperclip\n",
            "Installing collected packages: pyperclip, pbr, stevedore, Mako, cmd2, autopage, colorlog, cmaes, cliff, alembic, optuna\n",
            "Successfully installed Mako-1.2.0 alembic-1.7.7 autopage-0.5.0 cliff-3.10.1 cmaes-0.8.2 cmd2-2.4.1 colorlog-6.6.0 optuna-2.10.0 pbr-5.8.1 pyperclip-1.8.2 stevedore-3.5.0\n"
          ]
        }
      ],
      "source": [
        "from os import chdir\n",
        "from google.colab import drive\n",
        "\n",
        "drive.mount(\"/content/drive\", force_remount=True)\n",
        "chdir(\"/content/drive/MyDrive/Eliott/files/\")\n",
        "\n",
        "!pip install tweet-preprocessor\n",
        "%pip install ipython-autotime\n",
        "%pip install optuna"
      ]
    },
    {
      "cell_type": "code",
      "execution_count": 2,
      "metadata": {
        "colab": {
          "base_uri": "https://localhost:8080/"
        },
        "id": "v-9SGvosr0_w",
        "outputId": "dd509954-eb4f-4f2b-a13c-9c8a8ddb1d12"
      },
      "outputs": [
        {
          "output_type": "stream",
          "name": "stdout",
          "text": [
            "time: 645 µs (started: 2022-04-14 14:40:17 +00:00)\n"
          ]
        }
      ],
      "source": [
        "# IMPORTS\n",
        "\n",
        "import preprocessing as pp\n",
        "import hyperparameters as hp\n",
        "import RNN as rnn\n",
        "import optimising as opt\n",
        "import json\n",
        "from sklearn.metrics import accuracy_score, classification_report\n",
        "from sklearn.ensemble import VotingClassifier\n",
        "\n",
        "\n",
        "\n",
        "%load_ext autoreload\n",
        "%autoreload 2\n",
        "\n",
        "\n",
        "#\n",
        "%load_ext autotime\n"
      ]
    },
    {
      "cell_type": "code",
      "execution_count": 3,
      "metadata": {
        "colab": {
          "base_uri": "https://localhost:8080/"
        },
        "id": "LGn68XDZIm8L",
        "outputId": "6d6c7cab-29fd-494f-de7e-be641b4cca39"
      },
      "outputs": [
        {
          "output_type": "stream",
          "name": "stdout",
          "text": [
            "time: 11.5 s (started: 2022-04-14 14:40:17 +00:00)\n"
          ]
        }
      ],
      "source": [
        "file_name_train = 'Corona_NLP_train.csv'\n",
        "file_name_test = 'Corona_NLP_test.csv'\n",
        "X_train, y_train = pp.prepare_dataframe(file_name_train,lemmatising=None, original_class=False)\n",
        "X_test, y_test = pp.prepare_dataframe(file_name_test,lemmatising=None, original_class=False)"
      ]
    },
    {
      "cell_type": "code",
      "execution_count": null,
      "metadata": {
        "colab": {
          "base_uri": "https://localhost:8080/",
          "height": 35
        },
        "id": "CsEVE6sTLuSL",
        "outputId": "e0f8390b-bc80-496c-bae5-fd359edb2cf9"
      },
      "outputs": [
        {
          "data": {
            "application/vnd.google.colaboratory.intrinsic+json": {
              "type": "string"
            },
            "text/plain": [
              "'and and'"
            ]
          },
          "execution_count": 4,
          "metadata": {},
          "output_type": "execute_result"
        },
        {
          "name": "stdout",
          "output_type": "stream",
          "text": [
            "time: 5.88 ms (started: 2022-04-12 23:56:42 +00:00)\n"
          ]
        }
      ],
      "source": [
        "X_train[0]"
      ]
    },
    {
      "cell_type": "markdown",
      "metadata": {
        "id": "R_xUJTHaIm8M"
      },
      "source": [
        "On enlève : \n",
        "- Les URLS\n",
        "- Hashtags\n",
        "- Mentions\n",
        "- Mots réservés\n",
        "- Emojis et smileys"
      ]
    },
    {
      "cell_type": "markdown",
      "metadata": {
        "id": "b6tqgCANIm8N"
      },
      "source": [
        "- 35525 mots sans lemmatisation\n",
        "- 30794 avec lemmatisation"
      ]
    },
    {
      "cell_type": "code",
      "execution_count": null,
      "metadata": {
        "colab": {
          "base_uri": "https://localhost:8080/"
        },
        "id": "0KNjQ8imIm8O",
        "outputId": "f4bf0ca8-f4bb-442e-f4da-a7cdb62cc076"
      },
      "outputs": [
        {
          "name": "stdout",
          "output_type": "stream",
          "text": [
            "time: 2.59 ms (started: 2022-04-12 23:50:47 +00:00)\n"
          ]
        }
      ],
      "source": [
        "pipeline_sgd = hp.pipeline_sgd\n",
        "pipeline_gb = hp.pipeline_gb\n",
        "pipeline_rf = hp.pipeline_rf\n",
        "pipeline_lr = hp.pipeline_lr\n",
        "pipeline_per = hp.pipeline_per\n",
        "pipeline_svc = hp.pipeline_svc"
      ]
    },
    {
      "cell_type": "markdown",
      "metadata": {
        "id": "KMY7FfWTr1AI"
      },
      "source": [
        "# Recherche d'Hyperparamètres"
      ]
    },
    {
      "cell_type": "markdown",
      "metadata": {
        "id": "QVVyneGfIm8Q"
      },
      "source": [
        "### Saving Hyperparameters in JSON\n",
        "\n",
        "We will first load old weights and updates only if needed. Then we can use the model with best params in the end."
      ]
    },
    {
      "cell_type": "code",
      "execution_count": null,
      "metadata": {
        "id": "JqHmEnxTIm8Q",
        "outputId": "e8809c96-664c-4442-80b5-00571f3d2e91"
      },
      "outputs": [
        {
          "name": "stdout",
          "output_type": "stream",
          "text": [
            "time: 0 ns (started: 2022-04-08 12:04:37 -04:00)\n"
          ]
        }
      ],
      "source": [
        "with open('data.json') as json_file:\n",
        "    dico = json.load(json_file)"
      ]
    },
    {
      "cell_type": "markdown",
      "metadata": {
        "id": "LQD0wO_uIm8R"
      },
      "source": [
        "### SGD"
      ]
    },
    {
      "cell_type": "code",
      "execution_count": null,
      "metadata": {
        "colab": {
          "base_uri": "https://localhost:8080/"
        },
        "id": "VHzMRehgIm8R",
        "outputId": "cdf4128e-f6f5-48c4-b5e5-90309c001fef"
      },
      "outputs": [
        {
          "name": "stdout",
          "output_type": "stream",
          "text": [
            "Fitting 5 folds for each of 720 candidates, totalling 3600 fits\n",
            "Best Score:  0.8759385959288517\n",
            "Best Params:  {'clf__alpha': 1.2000000000000002e-05, 'clf__penalty': 'l1', 'tfidf__max_df': 0.25, 'tfidf__min_df': 1, 'tfidf__ngram_range': (1, 1)}\n",
            "CPU times: user 1min 41s, sys: 10.3 s, total: 1min 51s\n",
            "Wall time: 29min 23s\n",
            "time: 29min 23s (started: 2022-04-08 00:35:38 -04:00)\n"
          ]
        }
      ],
      "source": [
        "%%time\n",
        "grid_sgd = hp.grid_Search(\"SGD\", X_train=X_train, y_train=y_train) "
      ]
    },
    {
      "cell_type": "code",
      "execution_count": null,
      "metadata": {
        "id": "d5vbIP8kIm8R",
        "outputId": "e7a56be4-d331-45af-92ff-0af3c2526601"
      },
      "outputs": [
        {
          "name": "stdout",
          "output_type": "stream",
          "text": [
            "#### No new best score for  SGD\n",
            "time: 1.22 ms (started: 2022-04-08 01:05:02 -04:00)\n"
          ]
        }
      ],
      "source": [
        "hp.if_Save(\"SGD\", dico, grid_sgd)"
      ]
    },
    {
      "cell_type": "markdown",
      "metadata": {
        "id": "A-R5-LqYCc-s"
      },
      "source": [
        "### Gradient boosting"
      ]
    },
    {
      "cell_type": "code",
      "execution_count": null,
      "metadata": {
        "colab": {
          "background_save": true,
          "base_uri": "https://localhost:8080/"
        },
        "id": "zdnkSlvdIm8S",
        "outputId": "94fc131a-d1e4-4850-b8b4-4d19810ac2da"
      },
      "outputs": [
        {
          "name": "stdout",
          "output_type": "stream",
          "text": [
            "Fitting 5 folds for each of 96 candidates, totalling 480 fits\n",
            "Best Score:  0.608\n",
            "Best Params:  {'clf__learning_rate': 0.8, 'clf__n_estimators': 400, 'tfidf__max_df': 1.0, 'tfidf__min_df': 2, 'tfidf__ngram_range': (1, 1)}\n",
            "CPU times: user 5.43 s, sys: 44.3 ms, total: 5.47 s\n",
            "Wall time: 6min 55s\n",
            "time: 6min 55s (started: 2022-04-08 01:05:02 -04:00)\n"
          ]
        }
      ],
      "source": [
        "%%time\n",
        "grid_gb = hp.grid_Search(\"GB\", X_train=X_train, y_train=y_train, subset=1000) "
      ]
    },
    {
      "cell_type": "code",
      "execution_count": null,
      "metadata": {
        "colab": {
          "background_save": true
        },
        "id": "TQLvEgp-Im8S",
        "outputId": "f7f77651-e4f9-48ac-e92b-65ba93191633"
      },
      "outputs": [
        {
          "name": "stdout",
          "output_type": "stream",
          "text": [
            "#### No new best score for  GB\n",
            "time: 1.13 ms (started: 2022-04-08 01:11:58 -04:00)\n"
          ]
        }
      ],
      "source": [
        "hp.if_Save(\"GB\", dico, grid_gb)"
      ]
    },
    {
      "cell_type": "markdown",
      "metadata": {
        "id": "Jf8DtN5iCc-t"
      },
      "source": [
        "### Random Forest"
      ]
    },
    {
      "cell_type": "code",
      "execution_count": null,
      "metadata": {
        "colab": {
          "base_uri": "https://localhost:8080/"
        },
        "id": "P5bHoZ9pCc-t",
        "outputId": "e9bf3431-b7a6-48b3-8f56-979cb31c1c5f"
      },
      "outputs": [
        {
          "name": "stdout",
          "output_type": "stream",
          "text": [
            "Fitting 5 folds for each of 216 candidates, totalling 1080 fits\n"
          ]
        },
        {
          "ename": "KeyboardInterrupt",
          "evalue": "",
          "output_type": "error",
          "traceback": [
            "\u001b[0;31m---------------------------------------------------------------------------\u001b[0m",
            "\u001b[0;31mKeyboardInterrupt\u001b[0m                         Traceback (most recent call last)",
            "File \u001b[0;32m<timed exec>:1\u001b[0m, in \u001b[0;36m<module>\u001b[0;34m\u001b[0m\n",
            "File \u001b[0;32m~/pCloudDrive/ELIOTTDOC/3A_ENSSAT/NotesCours/Hiver/TA/Projet_TA/Projet_TA/hyperparameters.py:115\u001b[0m, in \u001b[0;36mgrid_Search\u001b[0;34m(model_name, X_train, y_train, subset)\u001b[0m\n\u001b[1;32m    <a href='file:///home/eliott/pCloudDrive/ELIOTTDOC/3A_ENSSAT/NotesCours/Hiver/TA/Projet_TA/Projet_TA/hyperparameters.py?line=111'>112</a>\u001b[0m grid_clf \u001b[39m=\u001b[39m GridSearchCV(model, parameters,  scoring\u001b[39m=\u001b[39m\u001b[39m'\u001b[39m\u001b[39maccuracy\u001b[39m\u001b[39m'\u001b[39m, verbose\u001b[39m=\u001b[39m\u001b[39m1\u001b[39m ,n_jobs\u001b[39m=\u001b[39m\u001b[39m-\u001b[39m\u001b[39m1\u001b[39m)\n\u001b[1;32m    <a href='file:///home/eliott/pCloudDrive/ELIOTTDOC/3A_ENSSAT/NotesCours/Hiver/TA/Projet_TA/Projet_TA/hyperparameters.py?line=113'>114</a>\u001b[0m \u001b[39mif\u001b[39;00m subset\u001b[39m==\u001b[39m\u001b[39m-\u001b[39m\u001b[39m1\u001b[39m:\n\u001b[0;32m--> <a href='file:///home/eliott/pCloudDrive/ELIOTTDOC/3A_ENSSAT/NotesCours/Hiver/TA/Projet_TA/Projet_TA/hyperparameters.py?line=114'>115</a>\u001b[0m     grid_clf\u001b[39m.\u001b[39;49mfit(X_train, y_train)\n\u001b[1;32m    <a href='file:///home/eliott/pCloudDrive/ELIOTTDOC/3A_ENSSAT/NotesCours/Hiver/TA/Projet_TA/Projet_TA/hyperparameters.py?line=115'>116</a>\u001b[0m \u001b[39melse\u001b[39;00m:\n\u001b[1;32m    <a href='file:///home/eliott/pCloudDrive/ELIOTTDOC/3A_ENSSAT/NotesCours/Hiver/TA/Projet_TA/Projet_TA/hyperparameters.py?line=116'>117</a>\u001b[0m     grid_clf\u001b[39m.\u001b[39mfit(X_train[:subset], y_train[:subset])\n",
            "File \u001b[0;32m~/envs/RNenv/lib64/python3.10/site-packages/sklearn/model_selection/_search.py:891\u001b[0m, in \u001b[0;36mBaseSearchCV.fit\u001b[0;34m(self, X, y, groups, **fit_params)\u001b[0m\n\u001b[1;32m    <a href='file:///home/eliott/envs/RNenv/lib64/python3.10/site-packages/sklearn/model_selection/_search.py?line=884'>885</a>\u001b[0m     results \u001b[39m=\u001b[39m \u001b[39mself\u001b[39m\u001b[39m.\u001b[39m_format_results(\n\u001b[1;32m    <a href='file:///home/eliott/envs/RNenv/lib64/python3.10/site-packages/sklearn/model_selection/_search.py?line=885'>886</a>\u001b[0m         all_candidate_params, n_splits, all_out, all_more_results\n\u001b[1;32m    <a href='file:///home/eliott/envs/RNenv/lib64/python3.10/site-packages/sklearn/model_selection/_search.py?line=886'>887</a>\u001b[0m     )\n\u001b[1;32m    <a href='file:///home/eliott/envs/RNenv/lib64/python3.10/site-packages/sklearn/model_selection/_search.py?line=888'>889</a>\u001b[0m     \u001b[39mreturn\u001b[39;00m results\n\u001b[0;32m--> <a href='file:///home/eliott/envs/RNenv/lib64/python3.10/site-packages/sklearn/model_selection/_search.py?line=890'>891</a>\u001b[0m \u001b[39mself\u001b[39;49m\u001b[39m.\u001b[39;49m_run_search(evaluate_candidates)\n\u001b[1;32m    <a href='file:///home/eliott/envs/RNenv/lib64/python3.10/site-packages/sklearn/model_selection/_search.py?line=892'>893</a>\u001b[0m \u001b[39m# multimetric is determined here because in the case of a callable\u001b[39;00m\n\u001b[1;32m    <a href='file:///home/eliott/envs/RNenv/lib64/python3.10/site-packages/sklearn/model_selection/_search.py?line=893'>894</a>\u001b[0m \u001b[39m# self.scoring the return type is only known after calling\u001b[39;00m\n\u001b[1;32m    <a href='file:///home/eliott/envs/RNenv/lib64/python3.10/site-packages/sklearn/model_selection/_search.py?line=894'>895</a>\u001b[0m first_test_score \u001b[39m=\u001b[39m all_out[\u001b[39m0\u001b[39m][\u001b[39m\"\u001b[39m\u001b[39mtest_scores\u001b[39m\u001b[39m\"\u001b[39m]\n",
            "File \u001b[0;32m~/envs/RNenv/lib64/python3.10/site-packages/sklearn/model_selection/_search.py:1392\u001b[0m, in \u001b[0;36mGridSearchCV._run_search\u001b[0;34m(self, evaluate_candidates)\u001b[0m\n\u001b[1;32m   <a href='file:///home/eliott/envs/RNenv/lib64/python3.10/site-packages/sklearn/model_selection/_search.py?line=1389'>1390</a>\u001b[0m \u001b[39mdef\u001b[39;00m \u001b[39m_run_search\u001b[39m(\u001b[39mself\u001b[39m, evaluate_candidates):\n\u001b[1;32m   <a href='file:///home/eliott/envs/RNenv/lib64/python3.10/site-packages/sklearn/model_selection/_search.py?line=1390'>1391</a>\u001b[0m     \u001b[39m\"\"\"Search all candidates in param_grid\"\"\"\u001b[39;00m\n\u001b[0;32m-> <a href='file:///home/eliott/envs/RNenv/lib64/python3.10/site-packages/sklearn/model_selection/_search.py?line=1391'>1392</a>\u001b[0m     evaluate_candidates(ParameterGrid(\u001b[39mself\u001b[39;49m\u001b[39m.\u001b[39;49mparam_grid))\n",
            "File \u001b[0;32m~/envs/RNenv/lib64/python3.10/site-packages/sklearn/model_selection/_search.py:838\u001b[0m, in \u001b[0;36mBaseSearchCV.fit.<locals>.evaluate_candidates\u001b[0;34m(candidate_params, cv, more_results)\u001b[0m\n\u001b[1;32m    <a href='file:///home/eliott/envs/RNenv/lib64/python3.10/site-packages/sklearn/model_selection/_search.py?line=829'>830</a>\u001b[0m \u001b[39mif\u001b[39;00m \u001b[39mself\u001b[39m\u001b[39m.\u001b[39mverbose \u001b[39m>\u001b[39m \u001b[39m0\u001b[39m:\n\u001b[1;32m    <a href='file:///home/eliott/envs/RNenv/lib64/python3.10/site-packages/sklearn/model_selection/_search.py?line=830'>831</a>\u001b[0m     \u001b[39mprint\u001b[39m(\n\u001b[1;32m    <a href='file:///home/eliott/envs/RNenv/lib64/python3.10/site-packages/sklearn/model_selection/_search.py?line=831'>832</a>\u001b[0m         \u001b[39m\"\u001b[39m\u001b[39mFitting \u001b[39m\u001b[39m{0}\u001b[39;00m\u001b[39m folds for each of \u001b[39m\u001b[39m{1}\u001b[39;00m\u001b[39m candidates,\u001b[39m\u001b[39m\"\u001b[39m\n\u001b[1;32m    <a href='file:///home/eliott/envs/RNenv/lib64/python3.10/site-packages/sklearn/model_selection/_search.py?line=832'>833</a>\u001b[0m         \u001b[39m\"\u001b[39m\u001b[39m totalling \u001b[39m\u001b[39m{2}\u001b[39;00m\u001b[39m fits\u001b[39m\u001b[39m\"\u001b[39m\u001b[39m.\u001b[39mformat(\n\u001b[1;32m    <a href='file:///home/eliott/envs/RNenv/lib64/python3.10/site-packages/sklearn/model_selection/_search.py?line=833'>834</a>\u001b[0m             n_splits, n_candidates, n_candidates \u001b[39m*\u001b[39m n_splits\n\u001b[1;32m    <a href='file:///home/eliott/envs/RNenv/lib64/python3.10/site-packages/sklearn/model_selection/_search.py?line=834'>835</a>\u001b[0m         )\n\u001b[1;32m    <a href='file:///home/eliott/envs/RNenv/lib64/python3.10/site-packages/sklearn/model_selection/_search.py?line=835'>836</a>\u001b[0m     )\n\u001b[0;32m--> <a href='file:///home/eliott/envs/RNenv/lib64/python3.10/site-packages/sklearn/model_selection/_search.py?line=837'>838</a>\u001b[0m out \u001b[39m=\u001b[39m parallel(\n\u001b[1;32m    <a href='file:///home/eliott/envs/RNenv/lib64/python3.10/site-packages/sklearn/model_selection/_search.py?line=838'>839</a>\u001b[0m     delayed(_fit_and_score)(\n\u001b[1;32m    <a href='file:///home/eliott/envs/RNenv/lib64/python3.10/site-packages/sklearn/model_selection/_search.py?line=839'>840</a>\u001b[0m         clone(base_estimator),\n\u001b[1;32m    <a href='file:///home/eliott/envs/RNenv/lib64/python3.10/site-packages/sklearn/model_selection/_search.py?line=840'>841</a>\u001b[0m         X,\n\u001b[1;32m    <a href='file:///home/eliott/envs/RNenv/lib64/python3.10/site-packages/sklearn/model_selection/_search.py?line=841'>842</a>\u001b[0m         y,\n\u001b[1;32m    <a href='file:///home/eliott/envs/RNenv/lib64/python3.10/site-packages/sklearn/model_selection/_search.py?line=842'>843</a>\u001b[0m         train\u001b[39m=\u001b[39;49mtrain,\n\u001b[1;32m    <a href='file:///home/eliott/envs/RNenv/lib64/python3.10/site-packages/sklearn/model_selection/_search.py?line=843'>844</a>\u001b[0m         test\u001b[39m=\u001b[39;49mtest,\n\u001b[1;32m    <a href='file:///home/eliott/envs/RNenv/lib64/python3.10/site-packages/sklearn/model_selection/_search.py?line=844'>845</a>\u001b[0m         parameters\u001b[39m=\u001b[39;49mparameters,\n\u001b[1;32m    <a href='file:///home/eliott/envs/RNenv/lib64/python3.10/site-packages/sklearn/model_selection/_search.py?line=845'>846</a>\u001b[0m         split_progress\u001b[39m=\u001b[39;49m(split_idx, n_splits),\n\u001b[1;32m    <a href='file:///home/eliott/envs/RNenv/lib64/python3.10/site-packages/sklearn/model_selection/_search.py?line=846'>847</a>\u001b[0m         candidate_progress\u001b[39m=\u001b[39;49m(cand_idx, n_candidates),\n\u001b[1;32m    <a href='file:///home/eliott/envs/RNenv/lib64/python3.10/site-packages/sklearn/model_selection/_search.py?line=847'>848</a>\u001b[0m         \u001b[39m*\u001b[39;49m\u001b[39m*\u001b[39;49mfit_and_score_kwargs,\n\u001b[1;32m    <a href='file:///home/eliott/envs/RNenv/lib64/python3.10/site-packages/sklearn/model_selection/_search.py?line=848'>849</a>\u001b[0m     )\n\u001b[1;32m    <a href='file:///home/eliott/envs/RNenv/lib64/python3.10/site-packages/sklearn/model_selection/_search.py?line=849'>850</a>\u001b[0m     \u001b[39mfor\u001b[39;49;00m (cand_idx, parameters), (split_idx, (train, test)) \u001b[39min\u001b[39;49;00m product(\n\u001b[1;32m    <a href='file:///home/eliott/envs/RNenv/lib64/python3.10/site-packages/sklearn/model_selection/_search.py?line=850'>851</a>\u001b[0m         \u001b[39menumerate\u001b[39;49m(candidate_params), \u001b[39menumerate\u001b[39;49m(cv\u001b[39m.\u001b[39;49msplit(X, y, groups))\n\u001b[1;32m    <a href='file:///home/eliott/envs/RNenv/lib64/python3.10/site-packages/sklearn/model_selection/_search.py?line=851'>852</a>\u001b[0m     )\n\u001b[1;32m    <a href='file:///home/eliott/envs/RNenv/lib64/python3.10/site-packages/sklearn/model_selection/_search.py?line=852'>853</a>\u001b[0m )\n\u001b[1;32m    <a href='file:///home/eliott/envs/RNenv/lib64/python3.10/site-packages/sklearn/model_selection/_search.py?line=854'>855</a>\u001b[0m \u001b[39mif\u001b[39;00m \u001b[39mlen\u001b[39m(out) \u001b[39m<\u001b[39m \u001b[39m1\u001b[39m:\n\u001b[1;32m    <a href='file:///home/eliott/envs/RNenv/lib64/python3.10/site-packages/sklearn/model_selection/_search.py?line=855'>856</a>\u001b[0m     \u001b[39mraise\u001b[39;00m \u001b[39mValueError\u001b[39;00m(\n\u001b[1;32m    <a href='file:///home/eliott/envs/RNenv/lib64/python3.10/site-packages/sklearn/model_selection/_search.py?line=856'>857</a>\u001b[0m         \u001b[39m\"\u001b[39m\u001b[39mNo fits were performed. \u001b[39m\u001b[39m\"\u001b[39m\n\u001b[1;32m    <a href='file:///home/eliott/envs/RNenv/lib64/python3.10/site-packages/sklearn/model_selection/_search.py?line=857'>858</a>\u001b[0m         \u001b[39m\"\u001b[39m\u001b[39mWas the CV iterator empty? \u001b[39m\u001b[39m\"\u001b[39m\n\u001b[1;32m    <a href='file:///home/eliott/envs/RNenv/lib64/python3.10/site-packages/sklearn/model_selection/_search.py?line=858'>859</a>\u001b[0m         \u001b[39m\"\u001b[39m\u001b[39mWere there no candidates?\u001b[39m\u001b[39m\"\u001b[39m\n\u001b[1;32m    <a href='file:///home/eliott/envs/RNenv/lib64/python3.10/site-packages/sklearn/model_selection/_search.py?line=859'>860</a>\u001b[0m     )\n",
            "File \u001b[0;32m~/envs/RNenv/lib/python3.10/site-packages/joblib/parallel.py:1056\u001b[0m, in \u001b[0;36mParallel.__call__\u001b[0;34m(self, iterable)\u001b[0m\n\u001b[1;32m   <a href='file:///home/eliott/envs/RNenv/lib/python3.10/site-packages/joblib/parallel.py?line=1052'>1053</a>\u001b[0m     \u001b[39mself\u001b[39m\u001b[39m.\u001b[39m_iterating \u001b[39m=\u001b[39m \u001b[39mFalse\u001b[39;00m\n\u001b[1;32m   <a href='file:///home/eliott/envs/RNenv/lib/python3.10/site-packages/joblib/parallel.py?line=1054'>1055</a>\u001b[0m \u001b[39mwith\u001b[39;00m \u001b[39mself\u001b[39m\u001b[39m.\u001b[39m_backend\u001b[39m.\u001b[39mretrieval_context():\n\u001b[0;32m-> <a href='file:///home/eliott/envs/RNenv/lib/python3.10/site-packages/joblib/parallel.py?line=1055'>1056</a>\u001b[0m     \u001b[39mself\u001b[39;49m\u001b[39m.\u001b[39;49mretrieve()\n\u001b[1;32m   <a href='file:///home/eliott/envs/RNenv/lib/python3.10/site-packages/joblib/parallel.py?line=1056'>1057</a>\u001b[0m \u001b[39m# Make sure that we get a last message telling us we are done\u001b[39;00m\n\u001b[1;32m   <a href='file:///home/eliott/envs/RNenv/lib/python3.10/site-packages/joblib/parallel.py?line=1057'>1058</a>\u001b[0m elapsed_time \u001b[39m=\u001b[39m time\u001b[39m.\u001b[39mtime() \u001b[39m-\u001b[39m \u001b[39mself\u001b[39m\u001b[39m.\u001b[39m_start_time\n",
            "File \u001b[0;32m~/envs/RNenv/lib/python3.10/site-packages/joblib/parallel.py:935\u001b[0m, in \u001b[0;36mParallel.retrieve\u001b[0;34m(self)\u001b[0m\n\u001b[1;32m    <a href='file:///home/eliott/envs/RNenv/lib/python3.10/site-packages/joblib/parallel.py?line=932'>933</a>\u001b[0m \u001b[39mtry\u001b[39;00m:\n\u001b[1;32m    <a href='file:///home/eliott/envs/RNenv/lib/python3.10/site-packages/joblib/parallel.py?line=933'>934</a>\u001b[0m     \u001b[39mif\u001b[39;00m \u001b[39mgetattr\u001b[39m(\u001b[39mself\u001b[39m\u001b[39m.\u001b[39m_backend, \u001b[39m'\u001b[39m\u001b[39msupports_timeout\u001b[39m\u001b[39m'\u001b[39m, \u001b[39mFalse\u001b[39;00m):\n\u001b[0;32m--> <a href='file:///home/eliott/envs/RNenv/lib/python3.10/site-packages/joblib/parallel.py?line=934'>935</a>\u001b[0m         \u001b[39mself\u001b[39m\u001b[39m.\u001b[39m_output\u001b[39m.\u001b[39mextend(job\u001b[39m.\u001b[39;49mget(timeout\u001b[39m=\u001b[39;49m\u001b[39mself\u001b[39;49m\u001b[39m.\u001b[39;49mtimeout))\n\u001b[1;32m    <a href='file:///home/eliott/envs/RNenv/lib/python3.10/site-packages/joblib/parallel.py?line=935'>936</a>\u001b[0m     \u001b[39melse\u001b[39;00m:\n\u001b[1;32m    <a href='file:///home/eliott/envs/RNenv/lib/python3.10/site-packages/joblib/parallel.py?line=936'>937</a>\u001b[0m         \u001b[39mself\u001b[39m\u001b[39m.\u001b[39m_output\u001b[39m.\u001b[39mextend(job\u001b[39m.\u001b[39mget())\n",
            "File \u001b[0;32m~/envs/RNenv/lib/python3.10/site-packages/joblib/_parallel_backends.py:542\u001b[0m, in \u001b[0;36mLokyBackend.wrap_future_result\u001b[0;34m(future, timeout)\u001b[0m\n\u001b[1;32m    <a href='file:///home/eliott/envs/RNenv/lib/python3.10/site-packages/joblib/_parallel_backends.py?line=538'>539</a>\u001b[0m \u001b[39m\"\"\"Wrapper for Future.result to implement the same behaviour as\u001b[39;00m\n\u001b[1;32m    <a href='file:///home/eliott/envs/RNenv/lib/python3.10/site-packages/joblib/_parallel_backends.py?line=539'>540</a>\u001b[0m \u001b[39mAsyncResults.get from multiprocessing.\"\"\"\u001b[39;00m\n\u001b[1;32m    <a href='file:///home/eliott/envs/RNenv/lib/python3.10/site-packages/joblib/_parallel_backends.py?line=540'>541</a>\u001b[0m \u001b[39mtry\u001b[39;00m:\n\u001b[0;32m--> <a href='file:///home/eliott/envs/RNenv/lib/python3.10/site-packages/joblib/_parallel_backends.py?line=541'>542</a>\u001b[0m     \u001b[39mreturn\u001b[39;00m future\u001b[39m.\u001b[39;49mresult(timeout\u001b[39m=\u001b[39;49mtimeout)\n\u001b[1;32m    <a href='file:///home/eliott/envs/RNenv/lib/python3.10/site-packages/joblib/_parallel_backends.py?line=542'>543</a>\u001b[0m \u001b[39mexcept\u001b[39;00m CfTimeoutError \u001b[39mas\u001b[39;00m e:\n\u001b[1;32m    <a href='file:///home/eliott/envs/RNenv/lib/python3.10/site-packages/joblib/_parallel_backends.py?line=543'>544</a>\u001b[0m     \u001b[39mraise\u001b[39;00m \u001b[39mTimeoutError\u001b[39;00m \u001b[39mfrom\u001b[39;00m \u001b[39me\u001b[39;00m\n",
            "File \u001b[0;32m/usr/lib64/python3.10/concurrent/futures/_base.py:441\u001b[0m, in \u001b[0;36mFuture.result\u001b[0;34m(self, timeout)\u001b[0m\n\u001b[1;32m    <a href='file:///usr/lib64/python3.10/concurrent/futures/_base.py?line=437'>438</a>\u001b[0m \u001b[39melif\u001b[39;00m \u001b[39mself\u001b[39m\u001b[39m.\u001b[39m_state \u001b[39m==\u001b[39m FINISHED:\n\u001b[1;32m    <a href='file:///usr/lib64/python3.10/concurrent/futures/_base.py?line=438'>439</a>\u001b[0m     \u001b[39mreturn\u001b[39;00m \u001b[39mself\u001b[39m\u001b[39m.\u001b[39m__get_result()\n\u001b[0;32m--> <a href='file:///usr/lib64/python3.10/concurrent/futures/_base.py?line=440'>441</a>\u001b[0m \u001b[39mself\u001b[39;49m\u001b[39m.\u001b[39;49m_condition\u001b[39m.\u001b[39;49mwait(timeout)\n\u001b[1;32m    <a href='file:///usr/lib64/python3.10/concurrent/futures/_base.py?line=442'>443</a>\u001b[0m \u001b[39mif\u001b[39;00m \u001b[39mself\u001b[39m\u001b[39m.\u001b[39m_state \u001b[39min\u001b[39;00m [CANCELLED, CANCELLED_AND_NOTIFIED]:\n\u001b[1;32m    <a href='file:///usr/lib64/python3.10/concurrent/futures/_base.py?line=443'>444</a>\u001b[0m     \u001b[39mraise\u001b[39;00m CancelledError()\n",
            "File \u001b[0;32m/usr/lib64/python3.10/threading.py:320\u001b[0m, in \u001b[0;36mCondition.wait\u001b[0;34m(self, timeout)\u001b[0m\n\u001b[1;32m    <a href='file:///usr/lib64/python3.10/threading.py?line=317'>318</a>\u001b[0m \u001b[39mtry\u001b[39;00m:    \u001b[39m# restore state no matter what (e.g., KeyboardInterrupt)\u001b[39;00m\n\u001b[1;32m    <a href='file:///usr/lib64/python3.10/threading.py?line=318'>319</a>\u001b[0m     \u001b[39mif\u001b[39;00m timeout \u001b[39mis\u001b[39;00m \u001b[39mNone\u001b[39;00m:\n\u001b[0;32m--> <a href='file:///usr/lib64/python3.10/threading.py?line=319'>320</a>\u001b[0m         waiter\u001b[39m.\u001b[39;49macquire()\n\u001b[1;32m    <a href='file:///usr/lib64/python3.10/threading.py?line=320'>321</a>\u001b[0m         gotit \u001b[39m=\u001b[39m \u001b[39mTrue\u001b[39;00m\n\u001b[1;32m    <a href='file:///usr/lib64/python3.10/threading.py?line=321'>322</a>\u001b[0m     \u001b[39melse\u001b[39;00m:\n",
            "\u001b[0;31mKeyboardInterrupt\u001b[0m: "
          ]
        },
        {
          "name": "stdout",
          "output_type": "stream",
          "text": [
            "time: 23min 13s (started: 2022-04-08 02:19:33 -04:00)\n"
          ]
        }
      ],
      "source": [
        "%%time\n",
        "grid_rf = hp.grid_Search(\"RF\", X_train=X_train, y_train=y_train) "
      ]
    },
    {
      "cell_type": "code",
      "execution_count": null,
      "metadata": {
        "id": "PumLEUuAIm8T"
      },
      "outputs": [],
      "source": [
        "hp.if_Save('RF', dico, grid_rf)"
      ]
    },
    {
      "cell_type": "markdown",
      "metadata": {
        "id": "hybcOGPZCc-t"
      },
      "source": [
        "### Logistic Regression"
      ]
    },
    {
      "cell_type": "code",
      "execution_count": null,
      "metadata": {
        "colab": {
          "base_uri": "https://localhost:8080/"
        },
        "id": "NKt3pLZBCc-u",
        "outputId": "05a7711e-20ba-4d8f-eb89-ff9b883c295a"
      },
      "outputs": [
        {
          "name": "stdout",
          "output_type": "stream",
          "text": [
            "Fitting 5 folds for each of 60 candidates, totalling 300 fits\n",
            "Best Score:  0.8230677619122002\n",
            "Best Params:  {'clf__C': 10, 'clf__tol': 1e-12}\n",
            "CPU times: user 1min 20s, sys: 2min 15s, total: 3min 35s\n",
            "Wall time: 36min 42s\n"
          ]
        }
      ],
      "source": [
        "%%time\n",
        "grid_lr = hp.grid_Search(\"LR\", X_train=X_train, y_train=y_train) "
      ]
    },
    {
      "cell_type": "code",
      "execution_count": null,
      "metadata": {
        "id": "dQK-LftNIm8T"
      },
      "outputs": [],
      "source": [
        "hp.if_Save('LR', dico, grid_lr)"
      ]
    },
    {
      "cell_type": "markdown",
      "metadata": {
        "id": "xCMXN9M8Cc-u"
      },
      "source": [
        "### Perceptron"
      ]
    },
    {
      "cell_type": "code",
      "execution_count": null,
      "metadata": {
        "colab": {
          "background_save": true,
          "base_uri": "https://localhost:8080/"
        },
        "id": "NPGHPCruCc-v",
        "outputId": "61a52771-ba29-48da-f0f5-86bc9f88215c"
      },
      "outputs": [
        {
          "name": "stdout",
          "output_type": "stream",
          "text": [
            "Fitting 5 folds for each of 300 candidates, totalling 1500 fits\n",
            "Best Score:  0.818353925564533\n",
            "Best Params:  {'clf__alpha': 3.04e-06, 'clf__penalty': 'l1'}\n",
            "CPU times: user 1min 10s, sys: 7.51 s, total: 1min 17s\n",
            "Wall time: 16min 16s\n"
          ]
        }
      ],
      "source": [
        "%%time\n",
        "grid_per = hp.grid_Search(\"PER\", X_train=X_train, y_train=y_train) "
      ]
    },
    {
      "cell_type": "code",
      "execution_count": null,
      "metadata": {
        "colab": {
          "background_save": true
        },
        "id": "Hd5CjXKfIm8U"
      },
      "outputs": [],
      "source": [
        "hp.if_Save('PER', dico, grid_per)"
      ]
    },
    {
      "cell_type": "markdown",
      "metadata": {
        "id": "1su0mDwMIm8U"
      },
      "source": [
        "#### Observation \n",
        "\n",
        "La regression logistique n'est qu'un perceptron avec une sigmoid en fonction d'activation.\n",
        "On voit que la Regression Logistique a de meilleures performances à l'issue de la recherche d'hyperparamètres mais pas de loin. Par ailleurs le temps d'entrainement est considérablement plus élevé pour la regression logistique (du au calcul de l'exponentiel). Nous verrons par la suite quel modèle il est préférable de conserver. "
      ]
    },
    {
      "cell_type": "markdown",
      "metadata": {
        "id": "5Cy0mgWVCc-v"
      },
      "source": [
        "### LinearSVC"
      ]
    },
    {
      "cell_type": "code",
      "execution_count": null,
      "metadata": {
        "colab": {
          "base_uri": "https://localhost:8080/"
        },
        "id": "9K-4Ufu3Cc-v",
        "outputId": "e9e94094-e0f1-45d8-c6d0-fc5f9c5c8748"
      },
      "outputs": [
        {
          "name": "stdout",
          "output_type": "stream",
          "text": [
            "Fitting 5 folds for each of 12 candidates, totalling 60 fits\n"
          ]
        },
        {
          "name": "stderr",
          "output_type": "stream",
          "text": [
            "/usr/local/lib/python3.7/dist-packages/sklearn/model_selection/_validation.py:372: FitFailedWarning: \n",
            "40 fits failed out of a total of 60.\n",
            "The score on these train-test partitions for these parameters will be set to nan.\n",
            "If these failures are not expected, you can try to debug them by setting error_score='raise'.\n",
            "\n",
            "Below are more details about the failures:\n",
            "--------------------------------------------------------------------------------\n",
            "5 fits failed with the following error:\n",
            "Traceback (most recent call last):\n",
            "  File \"/usr/local/lib/python3.7/dist-packages/sklearn/model_selection/_validation.py\", line 680, in _fit_and_score\n",
            "    estimator.fit(X_train, y_train, **fit_params)\n",
            "  File \"/usr/local/lib/python3.7/dist-packages/sklearn/pipeline.py\", line 394, in fit\n",
            "    self._final_estimator.fit(Xt, y, **fit_params_last_step)\n",
            "  File \"/usr/local/lib/python3.7/dist-packages/sklearn/svm/_classes.py\", line 272, in fit\n",
            "    sample_weight=sample_weight,\n",
            "  File \"/usr/local/lib/python3.7/dist-packages/sklearn/svm/_base.py\", line 1185, in _fit_liblinear\n",
            "    solver_type = _get_liblinear_solver_type(multi_class, penalty, loss, dual)\n",
            "  File \"/usr/local/lib/python3.7/dist-packages/sklearn/svm/_base.py\", line 1026, in _get_liblinear_solver_type\n",
            "    % (error_string, penalty, loss, dual)\n",
            "ValueError: Unsupported set of arguments: The combination of penalty='l2' and loss='hinge' are not supported when dual=False, Parameters: penalty='l2', loss='hinge', dual=False\n",
            "\n",
            "--------------------------------------------------------------------------------\n",
            "5 fits failed with the following error:\n",
            "Traceback (most recent call last):\n",
            "  File \"/usr/local/lib/python3.7/dist-packages/sklearn/model_selection/_validation.py\", line 680, in _fit_and_score\n",
            "    estimator.fit(X_train, y_train, **fit_params)\n",
            "  File \"/usr/local/lib/python3.7/dist-packages/sklearn/pipeline.py\", line 394, in fit\n",
            "    self._final_estimator.fit(Xt, y, **fit_params_last_step)\n",
            "  File \"/usr/local/lib/python3.7/dist-packages/sklearn/svm/_classes.py\", line 272, in fit\n",
            "    sample_weight=sample_weight,\n",
            "  File \"/usr/local/lib/python3.7/dist-packages/sklearn/svm/_base.py\", line 1185, in _fit_liblinear\n",
            "    solver_type = _get_liblinear_solver_type(multi_class, penalty, loss, dual)\n",
            "  File \"/usr/local/lib/python3.7/dist-packages/sklearn/svm/_base.py\", line 1026, in _get_liblinear_solver_type\n",
            "    % (error_string, penalty, loss, dual)\n",
            "ValueError: Unsupported set of arguments: The combination of penalty='l1' and loss='hinge' is not supported, Parameters: penalty='l1', loss='hinge', dual=False\n",
            "\n",
            "--------------------------------------------------------------------------------\n",
            "5 fits failed with the following error:\n",
            "Traceback (most recent call last):\n",
            "  File \"/usr/local/lib/python3.7/dist-packages/sklearn/model_selection/_validation.py\", line 680, in _fit_and_score\n",
            "    estimator.fit(X_train, y_train, **fit_params)\n",
            "  File \"/usr/local/lib/python3.7/dist-packages/sklearn/pipeline.py\", line 394, in fit\n",
            "    self._final_estimator.fit(Xt, y, **fit_params_last_step)\n",
            "  File \"/usr/local/lib/python3.7/dist-packages/sklearn/svm/_classes.py\", line 272, in fit\n",
            "    sample_weight=sample_weight,\n",
            "  File \"/usr/local/lib/python3.7/dist-packages/sklearn/svm/_base.py\", line 1185, in _fit_liblinear\n",
            "    solver_type = _get_liblinear_solver_type(multi_class, penalty, loss, dual)\n",
            "  File \"/usr/local/lib/python3.7/dist-packages/sklearn/svm/_base.py\", line 1026, in _get_liblinear_solver_type\n",
            "    % (error_string, penalty, loss, dual)\n",
            "ValueError: Unsupported set of arguments: The combination of penalty='elasticnet' and loss='hinge' is not supported, Parameters: penalty='elasticnet', loss='hinge', dual=False\n",
            "\n",
            "--------------------------------------------------------------------------------\n",
            "5 fits failed with the following error:\n",
            "Traceback (most recent call last):\n",
            "  File \"/usr/local/lib/python3.7/dist-packages/sklearn/model_selection/_validation.py\", line 680, in _fit_and_score\n",
            "    estimator.fit(X_train, y_train, **fit_params)\n",
            "  File \"/usr/local/lib/python3.7/dist-packages/sklearn/pipeline.py\", line 394, in fit\n",
            "    self._final_estimator.fit(Xt, y, **fit_params_last_step)\n",
            "  File \"/usr/local/lib/python3.7/dist-packages/sklearn/svm/_classes.py\", line 272, in fit\n",
            "    sample_weight=sample_weight,\n",
            "  File \"/usr/local/lib/python3.7/dist-packages/sklearn/svm/_base.py\", line 1185, in _fit_liblinear\n",
            "    solver_type = _get_liblinear_solver_type(multi_class, penalty, loss, dual)\n",
            "  File \"/usr/local/lib/python3.7/dist-packages/sklearn/svm/_base.py\", line 1026, in _get_liblinear_solver_type\n",
            "    % (error_string, penalty, loss, dual)\n",
            "ValueError: Unsupported set of arguments: The combination of penalty='elasticnet' and loss='squared_hinge' is not supported, Parameters: penalty='elasticnet', loss='squared_hinge', dual=False\n",
            "\n",
            "--------------------------------------------------------------------------------\n",
            "5 fits failed with the following error:\n",
            "Traceback (most recent call last):\n",
            "  File \"/usr/local/lib/python3.7/dist-packages/sklearn/model_selection/_validation.py\", line 680, in _fit_and_score\n",
            "    estimator.fit(X_train, y_train, **fit_params)\n",
            "  File \"/usr/local/lib/python3.7/dist-packages/sklearn/pipeline.py\", line 394, in fit\n",
            "    self._final_estimator.fit(Xt, y, **fit_params_last_step)\n",
            "  File \"/usr/local/lib/python3.7/dist-packages/sklearn/svm/_classes.py\", line 272, in fit\n",
            "    sample_weight=sample_weight,\n",
            "  File \"/usr/local/lib/python3.7/dist-packages/sklearn/svm/_base.py\", line 1185, in _fit_liblinear\n",
            "    solver_type = _get_liblinear_solver_type(multi_class, penalty, loss, dual)\n",
            "  File \"/usr/local/lib/python3.7/dist-packages/sklearn/svm/_base.py\", line 1026, in _get_liblinear_solver_type\n",
            "    % (error_string, penalty, loss, dual)\n",
            "ValueError: Unsupported set of arguments: The combination of penalty='l1' and loss='hinge' is not supported, Parameters: penalty='l1', loss='hinge', dual=True\n",
            "\n",
            "--------------------------------------------------------------------------------\n",
            "5 fits failed with the following error:\n",
            "Traceback (most recent call last):\n",
            "  File \"/usr/local/lib/python3.7/dist-packages/sklearn/model_selection/_validation.py\", line 680, in _fit_and_score\n",
            "    estimator.fit(X_train, y_train, **fit_params)\n",
            "  File \"/usr/local/lib/python3.7/dist-packages/sklearn/pipeline.py\", line 394, in fit\n",
            "    self._final_estimator.fit(Xt, y, **fit_params_last_step)\n",
            "  File \"/usr/local/lib/python3.7/dist-packages/sklearn/svm/_classes.py\", line 272, in fit\n",
            "    sample_weight=sample_weight,\n",
            "  File \"/usr/local/lib/python3.7/dist-packages/sklearn/svm/_base.py\", line 1185, in _fit_liblinear\n",
            "    solver_type = _get_liblinear_solver_type(multi_class, penalty, loss, dual)\n",
            "  File \"/usr/local/lib/python3.7/dist-packages/sklearn/svm/_base.py\", line 1026, in _get_liblinear_solver_type\n",
            "    % (error_string, penalty, loss, dual)\n",
            "ValueError: Unsupported set of arguments: The combination of penalty='elasticnet' and loss='hinge' is not supported, Parameters: penalty='elasticnet', loss='hinge', dual=True\n",
            "\n",
            "--------------------------------------------------------------------------------\n",
            "5 fits failed with the following error:\n",
            "Traceback (most recent call last):\n",
            "  File \"/usr/local/lib/python3.7/dist-packages/sklearn/model_selection/_validation.py\", line 680, in _fit_and_score\n",
            "    estimator.fit(X_train, y_train, **fit_params)\n",
            "  File \"/usr/local/lib/python3.7/dist-packages/sklearn/pipeline.py\", line 394, in fit\n",
            "    self._final_estimator.fit(Xt, y, **fit_params_last_step)\n",
            "  File \"/usr/local/lib/python3.7/dist-packages/sklearn/svm/_classes.py\", line 272, in fit\n",
            "    sample_weight=sample_weight,\n",
            "  File \"/usr/local/lib/python3.7/dist-packages/sklearn/svm/_base.py\", line 1185, in _fit_liblinear\n",
            "    solver_type = _get_liblinear_solver_type(multi_class, penalty, loss, dual)\n",
            "  File \"/usr/local/lib/python3.7/dist-packages/sklearn/svm/_base.py\", line 1026, in _get_liblinear_solver_type\n",
            "    % (error_string, penalty, loss, dual)\n",
            "ValueError: Unsupported set of arguments: The combination of penalty='l1' and loss='squared_hinge' are not supported when dual=True, Parameters: penalty='l1', loss='squared_hinge', dual=True\n",
            "\n",
            "--------------------------------------------------------------------------------\n",
            "5 fits failed with the following error:\n",
            "Traceback (most recent call last):\n",
            "  File \"/usr/local/lib/python3.7/dist-packages/sklearn/model_selection/_validation.py\", line 680, in _fit_and_score\n",
            "    estimator.fit(X_train, y_train, **fit_params)\n",
            "  File \"/usr/local/lib/python3.7/dist-packages/sklearn/pipeline.py\", line 394, in fit\n",
            "    self._final_estimator.fit(Xt, y, **fit_params_last_step)\n",
            "  File \"/usr/local/lib/python3.7/dist-packages/sklearn/svm/_classes.py\", line 272, in fit\n",
            "    sample_weight=sample_weight,\n",
            "  File \"/usr/local/lib/python3.7/dist-packages/sklearn/svm/_base.py\", line 1185, in _fit_liblinear\n",
            "    solver_type = _get_liblinear_solver_type(multi_class, penalty, loss, dual)\n",
            "  File \"/usr/local/lib/python3.7/dist-packages/sklearn/svm/_base.py\", line 1026, in _get_liblinear_solver_type\n",
            "    % (error_string, penalty, loss, dual)\n",
            "ValueError: Unsupported set of arguments: The combination of penalty='elasticnet' and loss='squared_hinge' is not supported, Parameters: penalty='elasticnet', loss='squared_hinge', dual=True\n",
            "\n",
            "  warnings.warn(some_fits_failed_message, FitFailedWarning)\n",
            "/usr/local/lib/python3.7/dist-packages/sklearn/model_selection/_search.py:972: UserWarning: One or more of the test scores are non-finite: [       nan        nan        nan 0.83094003 0.86891657        nan\n",
            " 0.82693114        nan        nan 0.83091573        nan        nan]\n",
            "  category=UserWarning,\n"
          ]
        },
        {
          "name": "stdout",
          "output_type": "stream",
          "text": [
            "Best Score:  0.868916566574562\n",
            "Best Params:  {'clf__dual': False, 'clf__loss': 'squared_hinge', 'clf__penalty': 'l1'}\n",
            "CPU times: user 11.5 s, sys: 524 ms, total: 12.1 s\n",
            "Wall time: 1min 7s\n"
          ]
        }
      ],
      "source": [
        "%%time\n",
        "grid_svc = hp.grid_Search(\"SVC\", X_train=X_train, y_train=y_train) "
      ]
    },
    {
      "cell_type": "code",
      "execution_count": null,
      "metadata": {
        "id": "kllEfjEeIm8U"
      },
      "outputs": [],
      "source": [
        "hp.if_Save('SVC', dico, grid_svc)"
      ]
    },
    {
      "cell_type": "markdown",
      "metadata": {
        "id": "nXpV5M9IIm8U"
      },
      "source": [
        "### Charging the best parameters for training"
      ]
    },
    {
      "cell_type": "code",
      "execution_count": null,
      "metadata": {
        "colab": {
          "base_uri": "https://localhost:8080/"
        },
        "id": "ct7BBebdCc-w",
        "outputId": "31a67200-96d6-4e64-bcec-ac3e0af108ef"
      },
      "outputs": [
        {
          "name": "stdout",
          "output_type": "stream",
          "text": [
            "time: 210 ms (started: 2022-04-12 23:50:55 +00:00)\n"
          ]
        }
      ],
      "source": [
        "# Opening JSON file\n",
        "with open('data.json') as json_file:\n",
        "    data = json.load(json_file)\n",
        "\n",
        "data_sgd = data['SGD']\n",
        "data_rf = data['RF']\n",
        "data_gb = data['GB']\n",
        "data_lr = data['LR']\n",
        "data_per = data['Perceptron']\n",
        "data_svc = data['SVC']"
      ]
    },
    {
      "cell_type": "markdown",
      "metadata": {
        "id": "efhYhzvsIm8V"
      },
      "source": [
        "### Training on all training data and testing on test data"
      ]
    },
    {
      "cell_type": "code",
      "execution_count": null,
      "metadata": {
        "colab": {
          "base_uri": "https://localhost:8080/"
        },
        "id": "Rjoag_IAIm8V",
        "outputId": "bbd62a9d-c156-4c01-c1ed-c7a9e4a45466"
      },
      "outputs": [
        {
          "name": "stdout",
          "output_type": "stream",
          "text": [
            "time: 5.59 ms (started: 2022-04-12 23:51:00 +00:00)\n"
          ]
        }
      ],
      "source": [
        "def testing(model):\n",
        "    predictions_train = model.predict(X_train)\n",
        "    predictions_test = model.predict(X_test)\n",
        "    accuracy_train = accuracy_score(y_train,predictions_train )\n",
        "    accuracy_test = accuracy_score(y_test,predictions_test )\n",
        "    print(f\"train_accuracy : {accuracy_train} \\ntest_accuracy : {accuracy_test}  \\n\")\n",
        "    print('------------------------------------------------------\\n')\n",
        "    print('\\tClassification Report Train : \\n\\n', classification_report(y_train, predictions_train, target_names=['Negative','Neutral' ,'Positive']))\n",
        "    print('------------------------------------------------------\\n')\n",
        "    print('\\tClassification Report Test:\\n\\n',classification_report(y_test,predictions_test, target_names=['Negative', 'Neutral', 'Positive']))\n",
        "    print('------------------------------------------------------\\n')\n"
      ]
    },
    {
      "cell_type": "markdown",
      "metadata": {
        "id": "c58mITNcIm8V"
      },
      "source": [
        "### SGD"
      ]
    },
    {
      "cell_type": "code",
      "execution_count": null,
      "metadata": {
        "colab": {
          "base_uri": "https://localhost:8080/"
        },
        "id": "JoCTw5ElLuST",
        "outputId": "6f1e4dd4-d5a0-4604-a5ff-4e3430d90ec6"
      },
      "outputs": [
        {
          "data": {
            "text/plain": [
              "{'best_score': 0.8769590395125022,\n",
              " 'params': {'clf__alpha': 1.2000000000000002e-05,\n",
              "  'clf__penalty': 'l1',\n",
              "  'tfidf__max_df': 0.75,\n",
              "  'tfidf__min_df': 1,\n",
              "  'tfidf__ngram_range': [1, 1]}}"
            ]
          },
          "execution_count": 8,
          "metadata": {},
          "output_type": "execute_result"
        },
        {
          "name": "stdout",
          "output_type": "stream",
          "text": [
            "time: 3.94 ms (started: 2022-04-12 23:51:03 +00:00)\n"
          ]
        }
      ],
      "source": [
        "data_sgd"
      ]
    },
    {
      "cell_type": "code",
      "execution_count": null,
      "metadata": {
        "colab": {
          "base_uri": "https://localhost:8080/"
        },
        "id": "FozzlotYCc-w",
        "outputId": "072486a5-f4e8-4ab1-df4e-118a1238e036"
      },
      "outputs": [
        {
          "data": {
            "text/plain": [
              "Pipeline(steps=[('tfidf', TfidfVectorizer(max_df=0.75, ngram_range=[1, 1])),\n",
              "                ('clf',\n",
              "                 SGDClassifier(alpha=1.2000000000000002e-05, n_jobs=-1,\n",
              "                               penalty='l1'))])"
            ]
          },
          "execution_count": 9,
          "metadata": {},
          "output_type": "execute_result"
        },
        {
          "name": "stdout",
          "output_type": "stream",
          "text": [
            "time: 9.52 ms (started: 2022-04-12 23:51:05 +00:00)\n"
          ]
        }
      ],
      "source": [
        "model_sgd_best = pipeline_sgd\n",
        "model_sgd_best.set_params(**(data_sgd[\"params\"]),clf__n_jobs=-1) "
      ]
    },
    {
      "cell_type": "code",
      "execution_count": null,
      "metadata": {
        "colab": {
          "base_uri": "https://localhost:8080/"
        },
        "id": "nB_Uisu1Im8V",
        "outputId": "b740759e-cb1f-43dd-af1f-38d2bf336065"
      },
      "outputs": [
        {
          "name": "stdout",
          "output_type": "stream",
          "text": [
            "CPU times: user 2.6 s, sys: 282 ms, total: 2.88 s\n",
            "Wall time: 1.77 s\n",
            "time: 1.77 s (started: 2022-04-12 23:51:07 +00:00)\n"
          ]
        }
      ],
      "source": [
        "%%time\n",
        "\"\"\"\n",
        "Si on a fait la recherche avant, on prend le best_model du gridSearchCv,\n",
        "Sinon, on reconstruit le modèle avec les best paramètres et on le fit à toutes les données d'entrainement. \n",
        "\"\"\"\n",
        "\n",
        "model_sgd_best.fit(X_train,y_train)\n"
      ]
    },
    {
      "cell_type": "code",
      "execution_count": null,
      "metadata": {
        "colab": {
          "base_uri": "https://localhost:8080/"
        },
        "id": "4qLjHzHrIm8W",
        "outputId": "973926ce-a4f6-45ab-f267-294603a4bd0f"
      },
      "outputs": [
        {
          "name": "stdout",
          "output_type": "stream",
          "text": [
            "train_accuracy : 0.9344461452486819 \n",
            "test_accuracy : 0.8767772511848341  \n",
            "\n",
            "------------------------------------------------------\n",
            "\n",
            "\tClassification Report Train : \n",
            "\n",
            "               precision    recall  f1-score   support\n",
            "\n",
            "    Negative       0.94      0.93      0.93     15398\n",
            "     Neutral       0.93      0.90      0.91      7713\n",
            "    Positive       0.94      0.95      0.94     18046\n",
            "\n",
            "    accuracy                           0.93     41157\n",
            "   macro avg       0.93      0.93      0.93     41157\n",
            "weighted avg       0.93      0.93      0.93     41157\n",
            "\n",
            "------------------------------------------------------\n",
            "\n",
            "\tClassification Report Test:\n",
            "\n",
            "               precision    recall  f1-score   support\n",
            "\n",
            "    Negative       0.89      0.87      0.88      1633\n",
            "     Neutral       0.85      0.84      0.84       619\n",
            "    Positive       0.88      0.90      0.89      1546\n",
            "\n",
            "    accuracy                           0.88      3798\n",
            "   macro avg       0.87      0.87      0.87      3798\n",
            "weighted avg       0.88      0.88      0.88      3798\n",
            "\n",
            "------------------------------------------------------\n",
            "\n",
            "time: 1.24 s (started: 2022-04-12 23:51:11 +00:00)\n"
          ]
        }
      ],
      "source": [
        "testing(model_sgd_best)"
      ]
    },
    {
      "cell_type": "markdown",
      "metadata": {
        "id": "Qr9nBCXvIm8W"
      },
      "source": [
        "### Random Forest"
      ]
    },
    {
      "cell_type": "code",
      "execution_count": null,
      "metadata": {
        "colab": {
          "base_uri": "https://localhost:8080/"
        },
        "id": "lGouwXZ_Cc-x",
        "outputId": "d811fee4-defa-4145-89fa-99505eb06fa8"
      },
      "outputs": [
        {
          "data": {
            "text/plain": [
              "Pipeline(steps=[('tfidf', TfidfVectorizer()),\n",
              "                ('clf',\n",
              "                 RandomForestClassifier(max_depth=600, max_features='sqrt',\n",
              "                                        min_samples_leaf=2,\n",
              "                                        min_samples_split=32, n_jobs=-1))])"
            ]
          },
          "execution_count": 27,
          "metadata": {},
          "output_type": "execute_result"
        },
        {
          "name": "stdout",
          "output_type": "stream",
          "text": [
            "time: 5.06 ms (started: 2022-04-12 19:35:30 -04:00)\n"
          ]
        }
      ],
      "source": [
        "model_rf_best = pipeline_rf\n",
        "model_rf_best.set_params(**(data_rf[\"params\"]),clf__n_jobs=-1)"
      ]
    },
    {
      "cell_type": "code",
      "execution_count": null,
      "metadata": {
        "colab": {
          "base_uri": "https://localhost:8080/"
        },
        "id": "bdEu7AlyCc-x",
        "outputId": "8b7d8c26-ba71-4593-e846-c0b57c4ef8b4"
      },
      "outputs": [
        {
          "name": "stdout",
          "output_type": "stream",
          "text": [
            "CPU times: user 19.2 s, sys: 91.2 ms, total: 19.3 s\n",
            "Wall time: 1.9 s\n"
          ]
        },
        {
          "data": {
            "text/plain": [
              "Pipeline(steps=[('tfidf', TfidfVectorizer()),\n",
              "                ('clf',\n",
              "                 RandomForestClassifier(max_depth=600, max_features='sqrt',\n",
              "                                        min_samples_leaf=2,\n",
              "                                        min_samples_split=32, n_jobs=-1))])"
            ]
          },
          "execution_count": 28,
          "metadata": {},
          "output_type": "execute_result"
        },
        {
          "name": "stdout",
          "output_type": "stream",
          "text": [
            "time: 1.9 s (started: 2022-04-12 19:35:31 -04:00)\n"
          ]
        }
      ],
      "source": [
        "%%time\n",
        "\n",
        "model_rf_best.fit(X_train,y_train)"
      ]
    },
    {
      "cell_type": "code",
      "execution_count": null,
      "metadata": {
        "colab": {
          "base_uri": "https://localhost:8080/"
        },
        "id": "yWtUmtDsCc-x",
        "outputId": "455bbb44-774b-4cfe-eb76-8f77ce6593ab"
      },
      "outputs": [
        {
          "name": "stdout",
          "output_type": "stream",
          "text": [
            "train_accuracy : 0.8655375298490928 \n",
            "test_accuracy : 0.6911064055055585  \n",
            "\n",
            "\n",
            "\tClassification Report Train : \n",
            "\n",
            "               precision    recall  f1-score   support\n",
            "\n",
            "    Negative       0.90      0.90      0.90     15317\n",
            "     Neutral       0.90      0.58      0.71      7392\n",
            "    Positive       0.83      0.96      0.89     17912\n",
            "\n",
            "    accuracy                           0.87     40621\n",
            "   macro avg       0.88      0.81      0.83     40621\n",
            "weighted avg       0.87      0.87      0.86     40621\n",
            "\n",
            "\tClassification Report Test:\n",
            "\n",
            "               precision    recall  f1-score   support\n",
            "\n",
            "    Negative       0.76      0.66      0.71      1631\n",
            "     Neutral       0.73      0.39      0.51       604\n",
            "    Positive       0.64      0.84      0.73      1543\n",
            "\n",
            "    accuracy                           0.69      3778\n",
            "   macro avg       0.71      0.63      0.65      3778\n",
            "weighted avg       0.70      0.69      0.68      3778\n",
            "\n",
            "time: 842 ms (started: 2022-04-12 19:35:36 -04:00)\n"
          ]
        }
      ],
      "source": [
        "testing(model_rf_best)"
      ]
    },
    {
      "cell_type": "markdown",
      "metadata": {
        "id": "1ltx6agFIm8W"
      },
      "source": [
        "### Gradient Boosting "
      ]
    },
    {
      "cell_type": "code",
      "execution_count": null,
      "metadata": {
        "colab": {
          "base_uri": "https://localhost:8080/"
        },
        "id": "TBkq5EjbIm8X",
        "outputId": "9c50fafd-d7c3-4ce9-a885-69a95a71e745"
      },
      "outputs": [
        {
          "data": {
            "text/plain": [
              "Pipeline(steps=[('tfidf', TfidfVectorizer()),\n",
              "                ('clf',\n",
              "                 GradientBoostingClassifier(learning_rate=0.2,\n",
              "                                            n_estimators=800))])"
            ]
          },
          "execution_count": 39,
          "metadata": {},
          "output_type": "execute_result"
        },
        {
          "name": "stdout",
          "output_type": "stream",
          "text": [
            "time: 5.05 ms (started: 2022-04-12 19:40:08 -04:00)\n"
          ]
        }
      ],
      "source": [
        "model_gb_best = pipeline_gb\n",
        "model_gb_best.set_params(**(data_gb[\"params\"]))"
      ]
    },
    {
      "cell_type": "code",
      "execution_count": null,
      "metadata": {
        "colab": {
          "base_uri": "https://localhost:8080/"
        },
        "id": "vhbG6NHjIm8X",
        "outputId": "34bf2452-5866-4aac-984f-68f907ac1473"
      },
      "outputs": [
        {
          "ename": "KeyboardInterrupt",
          "evalue": "",
          "output_type": "error",
          "traceback": [
            "\u001b[0;31m---------------------------------------------------------------------------\u001b[0m",
            "\u001b[0;31mKeyboardInterrupt\u001b[0m                         Traceback (most recent call last)",
            "File \u001b[0;32m<timed eval>:1\u001b[0m, in \u001b[0;36m<module>\u001b[0;34m\u001b[0m\n",
            "File \u001b[0;32m~/envs/RNenv/lib64/python3.10/site-packages/sklearn/pipeline.py:394\u001b[0m, in \u001b[0;36mPipeline.fit\u001b[0;34m(self, X, y, **fit_params)\u001b[0m\n\u001b[1;32m    <a href='file:///home/eliott/envs/RNenv/lib64/python3.10/site-packages/sklearn/pipeline.py?line=391'>392</a>\u001b[0m     \u001b[39mif\u001b[39;00m \u001b[39mself\u001b[39m\u001b[39m.\u001b[39m_final_estimator \u001b[39m!=\u001b[39m \u001b[39m\"\u001b[39m\u001b[39mpassthrough\u001b[39m\u001b[39m\"\u001b[39m:\n\u001b[1;32m    <a href='file:///home/eliott/envs/RNenv/lib64/python3.10/site-packages/sklearn/pipeline.py?line=392'>393</a>\u001b[0m         fit_params_last_step \u001b[39m=\u001b[39m fit_params_steps[\u001b[39mself\u001b[39m\u001b[39m.\u001b[39msteps[\u001b[39m-\u001b[39m\u001b[39m1\u001b[39m][\u001b[39m0\u001b[39m]]\n\u001b[0;32m--> <a href='file:///home/eliott/envs/RNenv/lib64/python3.10/site-packages/sklearn/pipeline.py?line=393'>394</a>\u001b[0m         \u001b[39mself\u001b[39;49m\u001b[39m.\u001b[39;49m_final_estimator\u001b[39m.\u001b[39;49mfit(Xt, y, \u001b[39m*\u001b[39;49m\u001b[39m*\u001b[39;49mfit_params_last_step)\n\u001b[1;32m    <a href='file:///home/eliott/envs/RNenv/lib64/python3.10/site-packages/sklearn/pipeline.py?line=395'>396</a>\u001b[0m \u001b[39mreturn\u001b[39;00m \u001b[39mself\u001b[39m\n",
            "File \u001b[0;32m~/envs/RNenv/lib64/python3.10/site-packages/sklearn/ensemble/_gb.py:586\u001b[0m, in \u001b[0;36mBaseGradientBoosting.fit\u001b[0;34m(self, X, y, sample_weight, monitor)\u001b[0m\n\u001b[1;32m    <a href='file:///home/eliott/envs/RNenv/lib64/python3.10/site-packages/sklearn/ensemble/_gb.py?line=582'>583</a>\u001b[0m     \u001b[39mself\u001b[39m\u001b[39m.\u001b[39m_resize_state()\n\u001b[1;32m    <a href='file:///home/eliott/envs/RNenv/lib64/python3.10/site-packages/sklearn/ensemble/_gb.py?line=584'>585</a>\u001b[0m \u001b[39m# fit the boosting stages\u001b[39;00m\n\u001b[0;32m--> <a href='file:///home/eliott/envs/RNenv/lib64/python3.10/site-packages/sklearn/ensemble/_gb.py?line=585'>586</a>\u001b[0m n_stages \u001b[39m=\u001b[39m \u001b[39mself\u001b[39;49m\u001b[39m.\u001b[39;49m_fit_stages(\n\u001b[1;32m    <a href='file:///home/eliott/envs/RNenv/lib64/python3.10/site-packages/sklearn/ensemble/_gb.py?line=586'>587</a>\u001b[0m     X,\n\u001b[1;32m    <a href='file:///home/eliott/envs/RNenv/lib64/python3.10/site-packages/sklearn/ensemble/_gb.py?line=587'>588</a>\u001b[0m     y,\n\u001b[1;32m    <a href='file:///home/eliott/envs/RNenv/lib64/python3.10/site-packages/sklearn/ensemble/_gb.py?line=588'>589</a>\u001b[0m     raw_predictions,\n\u001b[1;32m    <a href='file:///home/eliott/envs/RNenv/lib64/python3.10/site-packages/sklearn/ensemble/_gb.py?line=589'>590</a>\u001b[0m     sample_weight,\n\u001b[1;32m    <a href='file:///home/eliott/envs/RNenv/lib64/python3.10/site-packages/sklearn/ensemble/_gb.py?line=590'>591</a>\u001b[0m     \u001b[39mself\u001b[39;49m\u001b[39m.\u001b[39;49m_rng,\n\u001b[1;32m    <a href='file:///home/eliott/envs/RNenv/lib64/python3.10/site-packages/sklearn/ensemble/_gb.py?line=591'>592</a>\u001b[0m     X_val,\n\u001b[1;32m    <a href='file:///home/eliott/envs/RNenv/lib64/python3.10/site-packages/sklearn/ensemble/_gb.py?line=592'>593</a>\u001b[0m     y_val,\n\u001b[1;32m    <a href='file:///home/eliott/envs/RNenv/lib64/python3.10/site-packages/sklearn/ensemble/_gb.py?line=593'>594</a>\u001b[0m     sample_weight_val,\n\u001b[1;32m    <a href='file:///home/eliott/envs/RNenv/lib64/python3.10/site-packages/sklearn/ensemble/_gb.py?line=594'>595</a>\u001b[0m     begin_at_stage,\n\u001b[1;32m    <a href='file:///home/eliott/envs/RNenv/lib64/python3.10/site-packages/sklearn/ensemble/_gb.py?line=595'>596</a>\u001b[0m     monitor,\n\u001b[1;32m    <a href='file:///home/eliott/envs/RNenv/lib64/python3.10/site-packages/sklearn/ensemble/_gb.py?line=596'>597</a>\u001b[0m )\n\u001b[1;32m    <a href='file:///home/eliott/envs/RNenv/lib64/python3.10/site-packages/sklearn/ensemble/_gb.py?line=598'>599</a>\u001b[0m \u001b[39m# change shape of arrays after fit (early-stopping or additional ests)\u001b[39;00m\n\u001b[1;32m    <a href='file:///home/eliott/envs/RNenv/lib64/python3.10/site-packages/sklearn/ensemble/_gb.py?line=599'>600</a>\u001b[0m \u001b[39mif\u001b[39;00m n_stages \u001b[39m!=\u001b[39m \u001b[39mself\u001b[39m\u001b[39m.\u001b[39mestimators_\u001b[39m.\u001b[39mshape[\u001b[39m0\u001b[39m]:\n",
            "File \u001b[0;32m~/envs/RNenv/lib64/python3.10/site-packages/sklearn/ensemble/_gb.py:663\u001b[0m, in \u001b[0;36mBaseGradientBoosting._fit_stages\u001b[0;34m(self, X, y, raw_predictions, sample_weight, random_state, X_val, y_val, sample_weight_val, begin_at_stage, monitor)\u001b[0m\n\u001b[1;32m    <a href='file:///home/eliott/envs/RNenv/lib64/python3.10/site-packages/sklearn/ensemble/_gb.py?line=655'>656</a>\u001b[0m     old_oob_score \u001b[39m=\u001b[39m loss_(\n\u001b[1;32m    <a href='file:///home/eliott/envs/RNenv/lib64/python3.10/site-packages/sklearn/ensemble/_gb.py?line=656'>657</a>\u001b[0m         y[\u001b[39m~\u001b[39msample_mask],\n\u001b[1;32m    <a href='file:///home/eliott/envs/RNenv/lib64/python3.10/site-packages/sklearn/ensemble/_gb.py?line=657'>658</a>\u001b[0m         raw_predictions[\u001b[39m~\u001b[39msample_mask],\n\u001b[1;32m    <a href='file:///home/eliott/envs/RNenv/lib64/python3.10/site-packages/sklearn/ensemble/_gb.py?line=658'>659</a>\u001b[0m         sample_weight[\u001b[39m~\u001b[39msample_mask],\n\u001b[1;32m    <a href='file:///home/eliott/envs/RNenv/lib64/python3.10/site-packages/sklearn/ensemble/_gb.py?line=659'>660</a>\u001b[0m     )\n\u001b[1;32m    <a href='file:///home/eliott/envs/RNenv/lib64/python3.10/site-packages/sklearn/ensemble/_gb.py?line=661'>662</a>\u001b[0m \u001b[39m# fit next stage of trees\u001b[39;00m\n\u001b[0;32m--> <a href='file:///home/eliott/envs/RNenv/lib64/python3.10/site-packages/sklearn/ensemble/_gb.py?line=662'>663</a>\u001b[0m raw_predictions \u001b[39m=\u001b[39m \u001b[39mself\u001b[39;49m\u001b[39m.\u001b[39;49m_fit_stage(\n\u001b[1;32m    <a href='file:///home/eliott/envs/RNenv/lib64/python3.10/site-packages/sklearn/ensemble/_gb.py?line=663'>664</a>\u001b[0m     i,\n\u001b[1;32m    <a href='file:///home/eliott/envs/RNenv/lib64/python3.10/site-packages/sklearn/ensemble/_gb.py?line=664'>665</a>\u001b[0m     X,\n\u001b[1;32m    <a href='file:///home/eliott/envs/RNenv/lib64/python3.10/site-packages/sklearn/ensemble/_gb.py?line=665'>666</a>\u001b[0m     y,\n\u001b[1;32m    <a href='file:///home/eliott/envs/RNenv/lib64/python3.10/site-packages/sklearn/ensemble/_gb.py?line=666'>667</a>\u001b[0m     raw_predictions,\n\u001b[1;32m    <a href='file:///home/eliott/envs/RNenv/lib64/python3.10/site-packages/sklearn/ensemble/_gb.py?line=667'>668</a>\u001b[0m     sample_weight,\n\u001b[1;32m    <a href='file:///home/eliott/envs/RNenv/lib64/python3.10/site-packages/sklearn/ensemble/_gb.py?line=668'>669</a>\u001b[0m     sample_mask,\n\u001b[1;32m    <a href='file:///home/eliott/envs/RNenv/lib64/python3.10/site-packages/sklearn/ensemble/_gb.py?line=669'>670</a>\u001b[0m     random_state,\n\u001b[1;32m    <a href='file:///home/eliott/envs/RNenv/lib64/python3.10/site-packages/sklearn/ensemble/_gb.py?line=670'>671</a>\u001b[0m     X_csc,\n\u001b[1;32m    <a href='file:///home/eliott/envs/RNenv/lib64/python3.10/site-packages/sklearn/ensemble/_gb.py?line=671'>672</a>\u001b[0m     X_csr,\n\u001b[1;32m    <a href='file:///home/eliott/envs/RNenv/lib64/python3.10/site-packages/sklearn/ensemble/_gb.py?line=672'>673</a>\u001b[0m )\n\u001b[1;32m    <a href='file:///home/eliott/envs/RNenv/lib64/python3.10/site-packages/sklearn/ensemble/_gb.py?line=674'>675</a>\u001b[0m \u001b[39m# track deviance (= loss)\u001b[39;00m\n\u001b[1;32m    <a href='file:///home/eliott/envs/RNenv/lib64/python3.10/site-packages/sklearn/ensemble/_gb.py?line=675'>676</a>\u001b[0m \u001b[39mif\u001b[39;00m do_oob:\n",
            "File \u001b[0;32m~/envs/RNenv/lib64/python3.10/site-packages/sklearn/ensemble/_gb.py:246\u001b[0m, in \u001b[0;36mBaseGradientBoosting._fit_stage\u001b[0;34m(self, i, X, y, raw_predictions, sample_weight, sample_mask, random_state, X_csc, X_csr)\u001b[0m\n\u001b[1;32m    <a href='file:///home/eliott/envs/RNenv/lib64/python3.10/site-packages/sklearn/ensemble/_gb.py?line=242'>243</a>\u001b[0m     sample_weight \u001b[39m=\u001b[39m sample_weight \u001b[39m*\u001b[39m sample_mask\u001b[39m.\u001b[39mastype(np\u001b[39m.\u001b[39mfloat64)\n\u001b[1;32m    <a href='file:///home/eliott/envs/RNenv/lib64/python3.10/site-packages/sklearn/ensemble/_gb.py?line=244'>245</a>\u001b[0m X \u001b[39m=\u001b[39m X_csr \u001b[39mif\u001b[39;00m X_csr \u001b[39mis\u001b[39;00m \u001b[39mnot\u001b[39;00m \u001b[39mNone\u001b[39;00m \u001b[39melse\u001b[39;00m X\n\u001b[0;32m--> <a href='file:///home/eliott/envs/RNenv/lib64/python3.10/site-packages/sklearn/ensemble/_gb.py?line=245'>246</a>\u001b[0m tree\u001b[39m.\u001b[39;49mfit(X, residual, sample_weight\u001b[39m=\u001b[39;49msample_weight, check_input\u001b[39m=\u001b[39;49m\u001b[39mFalse\u001b[39;49;00m)\n\u001b[1;32m    <a href='file:///home/eliott/envs/RNenv/lib64/python3.10/site-packages/sklearn/ensemble/_gb.py?line=247'>248</a>\u001b[0m \u001b[39m# update tree leaves\u001b[39;00m\n\u001b[1;32m    <a href='file:///home/eliott/envs/RNenv/lib64/python3.10/site-packages/sklearn/ensemble/_gb.py?line=248'>249</a>\u001b[0m loss\u001b[39m.\u001b[39mupdate_terminal_regions(\n\u001b[1;32m    <a href='file:///home/eliott/envs/RNenv/lib64/python3.10/site-packages/sklearn/ensemble/_gb.py?line=249'>250</a>\u001b[0m     tree\u001b[39m.\u001b[39mtree_,\n\u001b[1;32m    <a href='file:///home/eliott/envs/RNenv/lib64/python3.10/site-packages/sklearn/ensemble/_gb.py?line=250'>251</a>\u001b[0m     X,\n\u001b[0;32m   (...)\u001b[0m\n\u001b[1;32m    <a href='file:///home/eliott/envs/RNenv/lib64/python3.10/site-packages/sklearn/ensemble/_gb.py?line=257'>258</a>\u001b[0m     k\u001b[39m=\u001b[39mk,\n\u001b[1;32m    <a href='file:///home/eliott/envs/RNenv/lib64/python3.10/site-packages/sklearn/ensemble/_gb.py?line=258'>259</a>\u001b[0m )\n",
            "File \u001b[0;32m~/envs/RNenv/lib64/python3.10/site-packages/sklearn/tree/_classes.py:1315\u001b[0m, in \u001b[0;36mDecisionTreeRegressor.fit\u001b[0;34m(self, X, y, sample_weight, check_input, X_idx_sorted)\u001b[0m\n\u001b[1;32m   <a href='file:///home/eliott/envs/RNenv/lib64/python3.10/site-packages/sklearn/tree/_classes.py?line=1277'>1278</a>\u001b[0m \u001b[39mdef\u001b[39;00m \u001b[39mfit\u001b[39m(\n\u001b[1;32m   <a href='file:///home/eliott/envs/RNenv/lib64/python3.10/site-packages/sklearn/tree/_classes.py?line=1278'>1279</a>\u001b[0m     \u001b[39mself\u001b[39m, X, y, sample_weight\u001b[39m=\u001b[39m\u001b[39mNone\u001b[39;00m, check_input\u001b[39m=\u001b[39m\u001b[39mTrue\u001b[39;00m, X_idx_sorted\u001b[39m=\u001b[39m\u001b[39m\"\u001b[39m\u001b[39mdeprecated\u001b[39m\u001b[39m\"\u001b[39m\n\u001b[1;32m   <a href='file:///home/eliott/envs/RNenv/lib64/python3.10/site-packages/sklearn/tree/_classes.py?line=1279'>1280</a>\u001b[0m ):\n\u001b[1;32m   <a href='file:///home/eliott/envs/RNenv/lib64/python3.10/site-packages/sklearn/tree/_classes.py?line=1280'>1281</a>\u001b[0m     \u001b[39m\"\"\"Build a decision tree regressor from the training set (X, y).\u001b[39;00m\n\u001b[1;32m   <a href='file:///home/eliott/envs/RNenv/lib64/python3.10/site-packages/sklearn/tree/_classes.py?line=1281'>1282</a>\u001b[0m \n\u001b[1;32m   <a href='file:///home/eliott/envs/RNenv/lib64/python3.10/site-packages/sklearn/tree/_classes.py?line=1282'>1283</a>\u001b[0m \u001b[39m    Parameters\u001b[39;00m\n\u001b[0;32m   (...)\u001b[0m\n\u001b[1;32m   <a href='file:///home/eliott/envs/RNenv/lib64/python3.10/site-packages/sklearn/tree/_classes.py?line=1311'>1312</a>\u001b[0m \u001b[39m        Fitted estimator.\u001b[39;00m\n\u001b[1;32m   <a href='file:///home/eliott/envs/RNenv/lib64/python3.10/site-packages/sklearn/tree/_classes.py?line=1312'>1313</a>\u001b[0m \u001b[39m    \"\"\"\u001b[39;00m\n\u001b[0;32m-> <a href='file:///home/eliott/envs/RNenv/lib64/python3.10/site-packages/sklearn/tree/_classes.py?line=1314'>1315</a>\u001b[0m     \u001b[39msuper\u001b[39;49m()\u001b[39m.\u001b[39;49mfit(\n\u001b[1;32m   <a href='file:///home/eliott/envs/RNenv/lib64/python3.10/site-packages/sklearn/tree/_classes.py?line=1315'>1316</a>\u001b[0m         X,\n\u001b[1;32m   <a href='file:///home/eliott/envs/RNenv/lib64/python3.10/site-packages/sklearn/tree/_classes.py?line=1316'>1317</a>\u001b[0m         y,\n\u001b[1;32m   <a href='file:///home/eliott/envs/RNenv/lib64/python3.10/site-packages/sklearn/tree/_classes.py?line=1317'>1318</a>\u001b[0m         sample_weight\u001b[39m=\u001b[39;49msample_weight,\n\u001b[1;32m   <a href='file:///home/eliott/envs/RNenv/lib64/python3.10/site-packages/sklearn/tree/_classes.py?line=1318'>1319</a>\u001b[0m         check_input\u001b[39m=\u001b[39;49mcheck_input,\n\u001b[1;32m   <a href='file:///home/eliott/envs/RNenv/lib64/python3.10/site-packages/sklearn/tree/_classes.py?line=1319'>1320</a>\u001b[0m         X_idx_sorted\u001b[39m=\u001b[39;49mX_idx_sorted,\n\u001b[1;32m   <a href='file:///home/eliott/envs/RNenv/lib64/python3.10/site-packages/sklearn/tree/_classes.py?line=1320'>1321</a>\u001b[0m     )\n\u001b[1;32m   <a href='file:///home/eliott/envs/RNenv/lib64/python3.10/site-packages/sklearn/tree/_classes.py?line=1321'>1322</a>\u001b[0m     \u001b[39mreturn\u001b[39;00m \u001b[39mself\u001b[39m\n",
            "File \u001b[0;32m~/envs/RNenv/lib64/python3.10/site-packages/sklearn/tree/_classes.py:420\u001b[0m, in \u001b[0;36mBaseDecisionTree.fit\u001b[0;34m(self, X, y, sample_weight, check_input, X_idx_sorted)\u001b[0m\n\u001b[1;32m    <a href='file:///home/eliott/envs/RNenv/lib64/python3.10/site-packages/sklearn/tree/_classes.py?line=408'>409</a>\u001b[0m \u001b[39melse\u001b[39;00m:\n\u001b[1;32m    <a href='file:///home/eliott/envs/RNenv/lib64/python3.10/site-packages/sklearn/tree/_classes.py?line=409'>410</a>\u001b[0m     builder \u001b[39m=\u001b[39m BestFirstTreeBuilder(\n\u001b[1;32m    <a href='file:///home/eliott/envs/RNenv/lib64/python3.10/site-packages/sklearn/tree/_classes.py?line=410'>411</a>\u001b[0m         splitter,\n\u001b[1;32m    <a href='file:///home/eliott/envs/RNenv/lib64/python3.10/site-packages/sklearn/tree/_classes.py?line=411'>412</a>\u001b[0m         min_samples_split,\n\u001b[0;32m   (...)\u001b[0m\n\u001b[1;32m    <a href='file:///home/eliott/envs/RNenv/lib64/python3.10/site-packages/sklearn/tree/_classes.py?line=416'>417</a>\u001b[0m         \u001b[39mself\u001b[39m\u001b[39m.\u001b[39mmin_impurity_decrease,\n\u001b[1;32m    <a href='file:///home/eliott/envs/RNenv/lib64/python3.10/site-packages/sklearn/tree/_classes.py?line=417'>418</a>\u001b[0m     )\n\u001b[0;32m--> <a href='file:///home/eliott/envs/RNenv/lib64/python3.10/site-packages/sklearn/tree/_classes.py?line=419'>420</a>\u001b[0m builder\u001b[39m.\u001b[39;49mbuild(\u001b[39mself\u001b[39;49m\u001b[39m.\u001b[39;49mtree_, X, y, sample_weight)\n\u001b[1;32m    <a href='file:///home/eliott/envs/RNenv/lib64/python3.10/site-packages/sklearn/tree/_classes.py?line=421'>422</a>\u001b[0m \u001b[39mif\u001b[39;00m \u001b[39mself\u001b[39m\u001b[39m.\u001b[39mn_outputs_ \u001b[39m==\u001b[39m \u001b[39m1\u001b[39m \u001b[39mand\u001b[39;00m is_classifier(\u001b[39mself\u001b[39m):\n\u001b[1;32m    <a href='file:///home/eliott/envs/RNenv/lib64/python3.10/site-packages/sklearn/tree/_classes.py?line=422'>423</a>\u001b[0m     \u001b[39mself\u001b[39m\u001b[39m.\u001b[39mn_classes_ \u001b[39m=\u001b[39m \u001b[39mself\u001b[39m\u001b[39m.\u001b[39mn_classes_[\u001b[39m0\u001b[39m]\n",
            "\u001b[0;31mKeyboardInterrupt\u001b[0m: "
          ]
        },
        {
          "name": "stdout",
          "output_type": "stream",
          "text": [
            "time: 12 s (started: 2022-04-12 19:40:09 -04:00)\n"
          ]
        }
      ],
      "source": [
        "%%time\n",
        "model_gb_best.fit(X_train,y_train)"
      ]
    },
    {
      "cell_type": "code",
      "execution_count": null,
      "metadata": {
        "colab": {
          "base_uri": "https://localhost:8080/"
        },
        "id": "0IAbPNE1Im8X",
        "outputId": "e78a9d35-acdc-446e-9132-bee2324fe8bd"
      },
      "outputs": [
        {
          "name": "stdout",
          "output_type": "stream",
          "text": [
            "train_accuracy : 0.9979104405082975 \n",
            "test_accuracy : 0.8457082675092154  \n"
          ]
        }
      ],
      "source": [
        "testing(model_gb_best)"
      ]
    },
    {
      "cell_type": "markdown",
      "metadata": {
        "id": "6pOf07uNIm8X"
      },
      "source": [
        "### Logistic Regression"
      ]
    },
    {
      "cell_type": "code",
      "execution_count": null,
      "metadata": {
        "colab": {
          "base_uri": "https://localhost:8080/"
        },
        "id": "lX1hcdBjIm8X",
        "outputId": "284c7703-a045-4ef4-a17f-192b7dc612a2"
      },
      "outputs": [
        {
          "data": {
            "text/plain": [
              "Pipeline(steps=[('tfidf', TfidfVectorizer()),\n",
              "                ('clf',\n",
              "                 LogisticRegression(C=10, max_iter=1000, n_jobs=-1,\n",
              "                                    tol=1e-08))])"
            ]
          },
          "execution_count": 30,
          "metadata": {},
          "output_type": "execute_result"
        },
        {
          "name": "stdout",
          "output_type": "stream",
          "text": [
            "time: 4.29 ms (started: 2022-04-12 19:36:51 -04:00)\n"
          ]
        }
      ],
      "source": [
        "model_lr_best = pipeline_lr\n",
        "model_lr_best.set_params(**(data_lr['params']),clf__n_jobs=-1)"
      ]
    },
    {
      "cell_type": "code",
      "execution_count": null,
      "metadata": {
        "colab": {
          "base_uri": "https://localhost:8080/"
        },
        "id": "IcONRPWqIm8X",
        "outputId": "aa219fdc-bb6f-49e3-bcc6-19394ad8744d"
      },
      "outputs": [
        {
          "name": "stdout",
          "output_type": "stream",
          "text": [
            "CPU times: user 561 ms, sys: 207 ms, total: 768 ms\n",
            "Wall time: 12.5 s\n"
          ]
        },
        {
          "data": {
            "text/plain": [
              "Pipeline(steps=[('tfidf', TfidfVectorizer()),\n",
              "                ('clf',\n",
              "                 LogisticRegression(C=10, max_iter=1000, n_jobs=-1,\n",
              "                                    tol=1e-08))])"
            ]
          },
          "execution_count": 31,
          "metadata": {},
          "output_type": "execute_result"
        },
        {
          "name": "stdout",
          "output_type": "stream",
          "text": [
            "time: 12.5 s (started: 2022-04-12 19:36:52 -04:00)\n"
          ]
        }
      ],
      "source": [
        "%%time\n",
        "\n",
        "model_lr_best.fit(X_train,y_train)"
      ]
    },
    {
      "cell_type": "code",
      "execution_count": null,
      "metadata": {
        "colab": {
          "base_uri": "https://localhost:8080/"
        },
        "id": "0aWokKTIIm8X",
        "outputId": "639eb006-823f-47af-e380-bdd57f913cf6"
      },
      "outputs": [
        {
          "name": "stdout",
          "output_type": "stream",
          "text": [
            "train_accuracy : 0.9775239408187884 \n",
            "test_accuracy : 0.8213340391741663  \n",
            "\n",
            "\n",
            "\tClassification Report Train : \n",
            "\n",
            "               precision    recall  f1-score   support\n",
            "\n",
            "    Negative       0.97      0.98      0.98     15317\n",
            "     Neutral       0.99      0.94      0.97      7392\n",
            "    Positive       0.98      0.99      0.98     17912\n",
            "\n",
            "    accuracy                           0.98     40621\n",
            "   macro avg       0.98      0.97      0.98     40621\n",
            "weighted avg       0.98      0.98      0.98     40621\n",
            "\n",
            "\tClassification Report Test:\n",
            "\n",
            "               precision    recall  f1-score   support\n",
            "\n",
            "    Negative       0.85      0.82      0.83      1631\n",
            "     Neutral       0.72      0.72      0.72       604\n",
            "    Positive       0.83      0.86      0.85      1543\n",
            "\n",
            "    accuracy                           0.82      3778\n",
            "   macro avg       0.80      0.80      0.80      3778\n",
            "weighted avg       0.82      0.82      0.82      3778\n",
            "\n",
            "time: 596 ms (started: 2022-04-12 19:37:07 -04:00)\n"
          ]
        }
      ],
      "source": [
        "testing(model_lr_best)"
      ]
    },
    {
      "cell_type": "markdown",
      "metadata": {
        "id": "E8iVyZvUIm8X"
      },
      "source": [
        "### Perceptron"
      ]
    },
    {
      "cell_type": "code",
      "execution_count": null,
      "metadata": {
        "colab": {
          "base_uri": "https://localhost:8080/"
        },
        "id": "TpJKR5-CIm8Y",
        "outputId": "a2e57fd5-f0c7-410e-dc36-b087e4cd1967"
      },
      "outputs": [
        {
          "data": {
            "text/plain": [
              "Pipeline(steps=[('tfidf', TfidfVectorizer()),\n",
              "                ('clf',\n",
              "                 Perceptron(alpha=5.272631578947369e-06, n_jobs=-1,\n",
              "                            penalty='l1'))])"
            ]
          },
          "execution_count": 33,
          "metadata": {},
          "output_type": "execute_result"
        },
        {
          "name": "stdout",
          "output_type": "stream",
          "text": [
            "time: 4.84 ms (started: 2022-04-12 19:37:26 -04:00)\n"
          ]
        }
      ],
      "source": [
        "model_per_best = pipeline_per\n",
        "model_per_best.set_params(**(data_per['params']),clf__n_jobs=-1)"
      ]
    },
    {
      "cell_type": "code",
      "execution_count": null,
      "metadata": {
        "colab": {
          "base_uri": "https://localhost:8080/"
        },
        "id": "qdazS8r9Im8Y",
        "outputId": "401da1d0-0704-4969-c6e6-a2053c2c9630"
      },
      "outputs": [
        {
          "name": "stdout",
          "output_type": "stream",
          "text": [
            "CPU times: user 1.06 s, sys: 1.03 s, total: 2.1 s\n",
            "Wall time: 732 ms\n"
          ]
        },
        {
          "data": {
            "text/plain": [
              "Pipeline(steps=[('tfidf', TfidfVectorizer()),\n",
              "                ('clf',\n",
              "                 Perceptron(alpha=5.272631578947369e-06, n_jobs=-1,\n",
              "                            penalty='l1'))])"
            ]
          },
          "execution_count": 34,
          "metadata": {},
          "output_type": "execute_result"
        },
        {
          "name": "stdout",
          "output_type": "stream",
          "text": [
            "time: 737 ms (started: 2022-04-12 19:37:35 -04:00)\n"
          ]
        }
      ],
      "source": [
        "%%time\n",
        "model_per_best.fit(X_train,y_train)"
      ]
    },
    {
      "cell_type": "code",
      "execution_count": null,
      "metadata": {
        "colab": {
          "base_uri": "https://localhost:8080/"
        },
        "id": "PQWvx1CJIm8Y",
        "outputId": "c5418f81-2fab-41b3-c35e-5c1db221937d"
      },
      "outputs": [
        {
          "name": "stdout",
          "output_type": "stream",
          "text": [
            "train_accuracy : 0.904089017995618 \n",
            "test_accuracy : 0.8194812069878242  \n",
            "\n",
            "\n",
            "\tClassification Report Train : \n",
            "\n",
            "               precision    recall  f1-score   support\n",
            "\n",
            "    Negative       0.91      0.91      0.91     15317\n",
            "     Neutral       0.88      0.80      0.84      7392\n",
            "    Positive       0.91      0.94      0.92     17912\n",
            "\n",
            "    accuracy                           0.90     40621\n",
            "   macro avg       0.90      0.88      0.89     40621\n",
            "weighted avg       0.90      0.90      0.90     40621\n",
            "\n",
            "\tClassification Report Test:\n",
            "\n",
            "               precision    recall  f1-score   support\n",
            "\n",
            "    Negative       0.85      0.82      0.84      1631\n",
            "     Neutral       0.72      0.69      0.70       604\n",
            "    Positive       0.82      0.87      0.84      1543\n",
            "\n",
            "    accuracy                           0.82      3778\n",
            "   macro avg       0.80      0.79      0.80      3778\n",
            "weighted avg       0.82      0.82      0.82      3778\n",
            "\n",
            "time: 580 ms (started: 2022-04-12 19:37:39 -04:00)\n"
          ]
        }
      ],
      "source": [
        "testing(model_per_best)"
      ]
    },
    {
      "cell_type": "markdown",
      "metadata": {
        "id": "q1O2dupiIm8Y"
      },
      "source": [
        "### SVC"
      ]
    },
    {
      "cell_type": "code",
      "execution_count": null,
      "metadata": {
        "colab": {
          "base_uri": "https://localhost:8080/"
        },
        "id": "tG0A4VREIm8Y",
        "outputId": "1d42cb61-fba2-4f45-e4fb-4fe0e98c6a86"
      },
      "outputs": [
        {
          "data": {
            "text/plain": [
              "Pipeline(steps=[('tfidf', TfidfVectorizer()),\n",
              "                ('clf', LinearSVC(dual=False, max_iter=10000, penalty='l1'))])"
            ]
          },
          "execution_count": 36,
          "metadata": {},
          "output_type": "execute_result"
        },
        {
          "name": "stdout",
          "output_type": "stream",
          "text": [
            "time: 3.33 ms (started: 2022-04-12 19:37:58 -04:00)\n"
          ]
        }
      ],
      "source": [
        "model_svc_best = pipeline_svc\n",
        "model_svc_best.set_params(**(data_svc['params']))"
      ]
    },
    {
      "cell_type": "code",
      "execution_count": null,
      "metadata": {
        "colab": {
          "base_uri": "https://localhost:8080/"
        },
        "id": "RSG2qg6GIm8Y",
        "outputId": "c5ac5995-9001-4f2b-e6ae-121e34e32423"
      },
      "outputs": [
        {
          "name": "stdout",
          "output_type": "stream",
          "text": [
            "CPU times: user 4.78 s, sys: 17.5 ms, total: 4.8 s\n",
            "Wall time: 4.8 s\n"
          ]
        },
        {
          "data": {
            "text/plain": [
              "Pipeline(steps=[('tfidf', TfidfVectorizer()),\n",
              "                ('clf', LinearSVC(dual=False, max_iter=10000, penalty='l1'))])"
            ]
          },
          "execution_count": 37,
          "metadata": {},
          "output_type": "execute_result"
        },
        {
          "name": "stdout",
          "output_type": "stream",
          "text": [
            "time: 4.8 s (started: 2022-04-12 19:38:30 -04:00)\n"
          ]
        }
      ],
      "source": [
        "%%time\n",
        "\n",
        "model_svc_best.fit(X_train,y_train)"
      ]
    },
    {
      "cell_type": "code",
      "execution_count": null,
      "metadata": {
        "colab": {
          "base_uri": "https://localhost:8080/"
        },
        "id": "W1NV_zYeIm8Z",
        "outputId": "ef2e7adb-ba68-4790-dad0-46693c1c47a5"
      },
      "outputs": [
        {
          "name": "stdout",
          "output_type": "stream",
          "text": [
            "train_accuracy : 0.9460623815267964 \n",
            "test_accuracy : 0.8642138697723664  \n",
            "\n",
            "\n",
            "\tClassification Report Train : \n",
            "\n",
            "               precision    recall  f1-score   support\n",
            "\n",
            "    Negative       0.94      0.95      0.95     15317\n",
            "     Neutral       0.95      0.90      0.93      7392\n",
            "    Positive       0.95      0.96      0.95     17912\n",
            "\n",
            "    accuracy                           0.95     40621\n",
            "   macro avg       0.95      0.94      0.94     40621\n",
            "weighted avg       0.95      0.95      0.95     40621\n",
            "\n",
            "\tClassification Report Test:\n",
            "\n",
            "               precision    recall  f1-score   support\n",
            "\n",
            "    Negative       0.88      0.86      0.87      1631\n",
            "     Neutral       0.81      0.80      0.80       604\n",
            "    Positive       0.87      0.89      0.88      1543\n",
            "\n",
            "    accuracy                           0.86      3778\n",
            "   macro avg       0.85      0.85      0.85      3778\n",
            "weighted avg       0.86      0.86      0.86      3778\n",
            "\n",
            "time: 584 ms (started: 2022-04-12 19:38:36 -04:00)\n"
          ]
        }
      ],
      "source": [
        "testing(model_svc_best)"
      ]
    },
    {
      "cell_type": "markdown",
      "metadata": {
        "id": "igWU2A4PIm8Z"
      },
      "source": [
        "### Voting Classifier"
      ]
    },
    {
      "cell_type": "code",
      "execution_count": null,
      "metadata": {
        "id": "86JLNLKor1AL",
        "outputId": "0f33986e-41ab-4005-e255-5c44e4ba39c3"
      },
      "outputs": [
        {
          "ename": "NameError",
          "evalue": "name 'model_gb_best' is not defined",
          "output_type": "error",
          "traceback": [
            "\u001b[0;31m---------------------------------------------------------------------------\u001b[0m",
            "\u001b[0;31mNameError\u001b[0m                                 Traceback (most recent call last)",
            "\u001b[1;32m/home/eliott/pCloudDrive/ELIOTTDOC/3A_ENSSAT/NotesCours/Hiver/TA/Projet_TA/Projet_TA/main_notebook.ipynb Cell 61'\u001b[0m in \u001b[0;36m<cell line: 5>\u001b[0;34m()\u001b[0m\n\u001b[1;32m      <a href='vscode-notebook-cell:/home/eliott/pCloudDrive/ELIOTTDOC/3A_ENSSAT/NotesCours/Hiver/TA/Projet_TA/Projet_TA/main_notebook.ipynb#ch0000058?line=0'>1</a>\u001b[0m clf1 \u001b[39m=\u001b[39m model_sgd_best\n\u001b[1;32m      <a href='vscode-notebook-cell:/home/eliott/pCloudDrive/ELIOTTDOC/3A_ENSSAT/NotesCours/Hiver/TA/Projet_TA/Projet_TA/main_notebook.ipynb#ch0000058?line=2'>3</a>\u001b[0m clf2 \u001b[39m=\u001b[39m model_rf_best\n\u001b[0;32m----> <a href='vscode-notebook-cell:/home/eliott/pCloudDrive/ELIOTTDOC/3A_ENSSAT/NotesCours/Hiver/TA/Projet_TA/Projet_TA/main_notebook.ipynb#ch0000058?line=4'>5</a>\u001b[0m clf3 \u001b[39m=\u001b[39m model_gb_best\n\u001b[1;32m      <a href='vscode-notebook-cell:/home/eliott/pCloudDrive/ELIOTTDOC/3A_ENSSAT/NotesCours/Hiver/TA/Projet_TA/Projet_TA/main_notebook.ipynb#ch0000058?line=6'>7</a>\u001b[0m clf4 \u001b[39m=\u001b[39m model_lr_best\n\u001b[1;32m      <a href='vscode-notebook-cell:/home/eliott/pCloudDrive/ELIOTTDOC/3A_ENSSAT/NotesCours/Hiver/TA/Projet_TA/Projet_TA/main_notebook.ipynb#ch0000058?line=8'>9</a>\u001b[0m clf5 \u001b[39m=\u001b[39m model_per_best\n",
            "\u001b[0;31mNameError\u001b[0m: name 'model_gb_best' is not defined"
          ]
        },
        {
          "name": "stdout",
          "output_type": "stream",
          "text": [
            "time: 14.4 ms (started: 2022-04-07 22:45:31 -04:00)\n"
          ]
        }
      ],
      "source": [
        "clf1 = model_sgd_best\n",
        "\n",
        "clf2 = model_rf_best\n",
        "\n",
        "clf3 = model_gb_best\n",
        "\n",
        "clf4 = model_lr_best\n",
        "\n",
        "clf5 = model_per_best\n",
        "\n",
        "clf6 = model_svc_best\n",
        "\n",
        "\n",
        "eclf1 = VotingClassifier(\n",
        "     estimators=[('sgd', clf1), ('rf', clf2), ('gb', clf3), ('lr', clf4), ('per', clf5), ('svc', clf6)],\n",
        "     voting='hard')\n",
        "\n",
        "eclf2 = VotingClassifier(\n",
        "     estimators=[('sgd', clf1), ('lr', clf4), ('per', clf5), ('svc', clf6)],\n",
        "     voting='hard')\n"
      ]
    },
    {
      "cell_type": "code",
      "execution_count": null,
      "metadata": {
        "colab": {
          "base_uri": "https://localhost:8080/"
        },
        "id": "_wiWZkZ7Im8Z",
        "outputId": "c973ed4a-2b45-4558-9fee-9a4b80d4039e"
      },
      "outputs": [
        {
          "name": "stdout",
          "output_type": "stream",
          "text": [
            "CPU times: user 30min 13s, sys: 3.55 s, total: 30min 17s\n",
            "Wall time: 30min 37s\n"
          ]
        },
        {
          "data": {
            "text/plain": [
              "VotingClassifier(estimators=[('sgd',\n",
              "                              Pipeline(steps=[('tfidf', TfidfVectorizer()),\n",
              "                                              ('clf',\n",
              "                                               SGDClassifier(alpha=1.28206e-05,\n",
              "                                                             n_jobs=-1,\n",
              "                                                             penalty='l1'))])),\n",
              "                             ('rf',\n",
              "                              Pipeline(steps=[('tfidf', TfidfVectorizer()),\n",
              "                                              ('clf',\n",
              "                                               RandomForestClassifier(criterion='entropy',\n",
              "                                                                      max_features='log2',\n",
              "                                                                      min_samples_split=32,\n",
              "                                                                      n_estimators=200,\n",
              "                                                                      n_jobs=-1))])),\n",
              "                             ('gb',\n",
              "                              Pipeline(steps=[('tfidf'...\n",
              "                                                                          n_estimators=1600))])),\n",
              "                             ('lr',\n",
              "                              Pipeline(steps=[('tfidf', TfidfVectorizer()),\n",
              "                                              ('clf',\n",
              "                                               LogisticRegression(C=10,\n",
              "                                                                  max_iter=1000,\n",
              "                                                                  n_jobs=-1,\n",
              "                                                                  tol=1e-12))])),\n",
              "                             ('per',\n",
              "                              Pipeline(steps=[('tfidf', TfidfVectorizer()),\n",
              "                                              ('clf',\n",
              "                                               Perceptron(alpha=3.04e-06,\n",
              "                                                          n_jobs=-1,\n",
              "                                                          penalty='l1'))])),\n",
              "                             ('svc',\n",
              "                              Pipeline(steps=[('tfidf', TfidfVectorizer()),\n",
              "                                              ('clf',\n",
              "                                               LinearSVC(dual=False,\n",
              "                                                         max_iter=10000,\n",
              "                                                         penalty='l1'))]))])"
            ]
          },
          "execution_count": 31,
          "metadata": {},
          "output_type": "execute_result"
        }
      ],
      "source": [
        "%%time\n",
        "\n",
        "eclf1.fit(X_train,y_train)"
      ]
    },
    {
      "cell_type": "code",
      "execution_count": null,
      "metadata": {
        "colab": {
          "base_uri": "https://localhost:8080/"
        },
        "id": "fw_BUQQSIm8Z",
        "outputId": "a6126b36-066c-47f6-99a6-4a9e5e5ae06f"
      },
      "outputs": [
        {
          "name": "stdout",
          "output_type": "stream",
          "text": [
            "train_accuracy : 0.9785698666083534 \n",
            "test_accuracy : 0.8701948393891522  \n"
          ]
        }
      ],
      "source": [
        "testing(eclf1)"
      ]
    },
    {
      "cell_type": "code",
      "execution_count": null,
      "metadata": {
        "colab": {
          "base_uri": "https://localhost:8080/"
        },
        "id": "0T0t23GRIm8Z",
        "outputId": "7274c239-5e85-4f7e-f3e3-b4589415a77c"
      },
      "outputs": [
        {
          "ename": "NameError",
          "evalue": "name 'eclf2' is not defined",
          "output_type": "error",
          "traceback": [
            "\u001b[0;31m---------------------------------------------------------------------------\u001b[0m",
            "\u001b[0;31mNameError\u001b[0m                                 Traceback (most recent call last)",
            "File \u001b[0;32m<timed eval>:1\u001b[0m, in \u001b[0;36m<module>\u001b[0;34m\u001b[0m\n",
            "\u001b[0;31mNameError\u001b[0m: name 'eclf2' is not defined"
          ]
        },
        {
          "name": "stdout",
          "output_type": "stream",
          "text": [
            "time: 113 ms (started: 2022-04-07 22:45:17 -04:00)\n"
          ]
        }
      ],
      "source": [
        "%%time\n",
        "\n",
        "eclf2.fit(X_train,y_train)"
      ]
    },
    {
      "cell_type": "code",
      "execution_count": null,
      "metadata": {
        "colab": {
          "base_uri": "https://localhost:8080/"
        },
        "id": "5P69br2jIm8a",
        "outputId": "0d392b84-575f-48bb-e8e0-b375619f367b"
      },
      "outputs": [
        {
          "name": "stdout",
          "output_type": "stream",
          "text": [
            "train_accuracy : 0.9609057997424496 \n",
            "test_accuracy : 0.8654555028962612  \n"
          ]
        }
      ],
      "source": [
        "testing(eclf2)"
      ]
    },
    {
      "cell_type": "markdown",
      "metadata": {
        "id": "yjpxkYfxLuSW"
      },
      "source": [
        "# Reccurent Network"
      ]
    },
    {
      "cell_type": "code",
      "execution_count": null,
      "metadata": {
        "colab": {
          "base_uri": "https://localhost:8080/"
        },
        "id": "-knd4OKtLuSW",
        "outputId": "b4ba6235-9c9c-4764-94c0-9b0b08ec3d59"
      },
      "outputs": [
        {
          "name": "stdout",
          "output_type": "stream",
          "text": [
            "##### CREATING RNN #####\n",
            "Vocabulary size: 38129\n",
            "\n",
            "Example:\n",
            "\n",
            "Sentence:\n",
            "Cashier at grocery store was sharing his insights on To prove his credibility he commented \"I'm in Civics class so I know what I'm talking about\".\n",
            "\n",
            "After tokenizing :\n",
            "[1199, 15, 25, 18, 68, 1287, 242, 811, 10, 2, 2910, 242, 9777, 184, 9778, 220, 6, 18319, 1556, 53, 12, 124, 60, 220, 936, 58]\n",
            "\n",
            "After padding :\n",
            "[ 1199    15    25    18    68  1287   242   811    10     2  2910   242\n",
            "  9777   184  9778   220     6 18319  1556    53    12   124    60   220\n",
            "   936    58     0     0     0     0     0     0     0     0     0     0\n",
            "     0     0     0     0     0     0     0     0     0     0     0     0\n",
            "     0     0     0     0     0     0     0     0     0     0     0     0\n",
            "     0     0     0]\n",
            "Model: \"sequential\"\n",
            "_________________________________________________________________\n",
            " Layer (type)                Output Shape              Param #   \n",
            "=================================================================\n",
            " embedding (Embedding)       (None, 63, 25)            953225    \n",
            "                                                                 \n",
            " bidirectional (Bidirectiona  (None, 63, 420)          396480    \n",
            " l)                                                              \n",
            "                                                                 \n",
            " global_max_pooling1d (Globa  (None, 420)              0         \n",
            " lMaxPooling1D)                                                  \n",
            "                                                                 \n",
            " dropout (Dropout)           (None, 420)               0         \n",
            "                                                                 \n",
            " dense (Dense)               (None, 50)                21050     \n",
            "                                                                 \n",
            " dropout_1 (Dropout)         (None, 50)                0         \n",
            "                                                                 \n",
            " dense_1 (Dense)             (None, 3)                 153       \n",
            "                                                                 \n",
            "=================================================================\n",
            "Total params: 1,370,908\n",
            "Trainable params: 1,370,908\n",
            "Non-trainable params: 0\n",
            "_________________________________________________________________\n",
            "##### RNN CREATED #####\n",
            "##### Preparing the training data #####\n",
            "##### training data prepared #####\n",
            "time: 2.59 s (started: 2022-04-13 07:08:49 +00:00)\n"
          ]
        }
      ],
      "source": [
        "rnn_model = rnn.RNN(X_train, y_train, y_test, embedding_dim=25, units=210, dropout=0.2, n_neurons=50)"
      ]
    },
    {
      "cell_type": "code",
      "execution_count": null,
      "metadata": {
        "colab": {
          "base_uri": "https://localhost:8080/"
        },
        "id": "brZnfpTLLuSX",
        "outputId": "1dc41d67-6561-4df9-a9b2-7a63382b26cb"
      },
      "outputs": [
        {
          "name": "stdout",
          "output_type": "stream",
          "text": [
            "##### TRAINING #####\n",
            "Epoch 1/2\n",
            "1195/1195 [==============================] - 22s 15ms/step - loss: 0.1200 - accuracy: 0.7552 - val_loss: 0.0707 - val_accuracy: 0.8788\n",
            "Epoch 2/2\n",
            "1195/1195 [==============================] - 18s 15ms/step - loss: 0.0586 - accuracy: 0.9068 - val_loss: 0.0586 - val_accuracy: 0.8853\n",
            "##### TRAINING COMPLETED #####\n"
          ]
        },
        {
          "data": {
            "text/plain": [
              "0.88532555103302"
            ]
          },
          "execution_count": 33,
          "metadata": {},
          "output_type": "execute_result"
        },
        {
          "name": "stdout",
          "output_type": "stream",
          "text": [
            "time: 39.3 s (started: 2022-04-13 07:09:09 +00:00)\n"
          ]
        }
      ],
      "source": [
        "rnn_model.train(epochs=2, batch_size=31) # Train the model"
      ]
    },
    {
      "cell_type": "code",
      "execution_count": null,
      "metadata": {
        "colab": {
          "base_uri": "https://localhost:8080/"
        },
        "id": "MPwGPhkTNtmR",
        "outputId": "5566c69a-d9da-43df-c9e6-cb05d03583d9"
      },
      "outputs": [
        {
          "name": "stdout",
          "output_type": "stream",
          "text": [
            "0.8892128467559814\n",
            "time: 1.82 ms (started: 2022-04-13 01:55:23 +00:00)\n"
          ]
        }
      ],
      "source": [
        "print(rnn_model.history.history['val_accuracy'][-1])"
      ]
    },
    {
      "cell_type": "code",
      "execution_count": null,
      "metadata": {
        "id": "A6fxNproLuSX",
        "outputId": "5b3ec4c6-1110-41de-9d49-aa7de36a8ad7"
      },
      "outputs": [
        {
          "name": "stdout",
          "output_type": "stream",
          "text": [
            "##### PRINTING HISTORY #####\n"
          ]
        },
        {
          "data": {
            "application/vnd.plotly.v1+json": {
              "config": {
                "plotlyServerURL": "https://plot.ly"
              },
              "data": [
                {
                  "hovertemplate": "variable=accuracy<br>epoch=%{x}<br>accuracy=%{y}<extra></extra>",
                  "legendgroup": "accuracy",
                  "line": {
                    "color": "#636efa",
                    "dash": "solid"
                  },
                  "marker": {
                    "symbol": "circle"
                  },
                  "mode": "lines",
                  "name": "accuracy",
                  "orientation": "v",
                  "showlegend": true,
                  "type": "scatter",
                  "x": [
                    0,
                    1,
                    2,
                    3,
                    4
                  ],
                  "xaxis": "x",
                  "y": [
                    0.72298264503479,
                    0.8984368443489075,
                    0.9350989460945129,
                    0.9543749094009399,
                    0.9639588594436646
                  ],
                  "yaxis": "y"
                },
                {
                  "hovertemplate": "variable=val_accuracy<br>epoch=%{x}<br>accuracy=%{y}<extra></extra>",
                  "legendgroup": "val_accuracy",
                  "line": {
                    "color": "#EF553B",
                    "dash": "solid"
                  },
                  "marker": {
                    "symbol": "circle"
                  },
                  "mode": "lines",
                  "name": "val_accuracy",
                  "orientation": "v",
                  "showlegend": true,
                  "type": "scatter",
                  "x": [
                    0,
                    1,
                    2,
                    3,
                    4
                  ],
                  "xaxis": "x",
                  "y": [
                    0.852283775806427,
                    0.8892128467559814,
                    0.8884839415550232,
                    0.8841108083724976,
                    0.8892128467559814
                  ],
                  "yaxis": "y"
                }
              ],
              "layout": {
                "legend": {
                  "title": {
                    "text": "variable"
                  },
                  "tracegroupgap": 0
                },
                "margin": {
                  "t": 60
                },
                "template": {
                  "data": {
                    "bar": [
                      {
                        "error_x": {
                          "color": "#2a3f5f"
                        },
                        "error_y": {
                          "color": "#2a3f5f"
                        },
                        "marker": {
                          "line": {
                            "color": "#E5ECF6",
                            "width": 0.5
                          },
                          "pattern": {
                            "fillmode": "overlay",
                            "size": 10,
                            "solidity": 0.2
                          }
                        },
                        "type": "bar"
                      }
                    ],
                    "barpolar": [
                      {
                        "marker": {
                          "line": {
                            "color": "#E5ECF6",
                            "width": 0.5
                          },
                          "pattern": {
                            "fillmode": "overlay",
                            "size": 10,
                            "solidity": 0.2
                          }
                        },
                        "type": "barpolar"
                      }
                    ],
                    "carpet": [
                      {
                        "aaxis": {
                          "endlinecolor": "#2a3f5f",
                          "gridcolor": "white",
                          "linecolor": "white",
                          "minorgridcolor": "white",
                          "startlinecolor": "#2a3f5f"
                        },
                        "baxis": {
                          "endlinecolor": "#2a3f5f",
                          "gridcolor": "white",
                          "linecolor": "white",
                          "minorgridcolor": "white",
                          "startlinecolor": "#2a3f5f"
                        },
                        "type": "carpet"
                      }
                    ],
                    "choropleth": [
                      {
                        "colorbar": {
                          "outlinewidth": 0,
                          "ticks": ""
                        },
                        "type": "choropleth"
                      }
                    ],
                    "contour": [
                      {
                        "colorbar": {
                          "outlinewidth": 0,
                          "ticks": ""
                        },
                        "colorscale": [
                          [
                            0,
                            "#0d0887"
                          ],
                          [
                            0.1111111111111111,
                            "#46039f"
                          ],
                          [
                            0.2222222222222222,
                            "#7201a8"
                          ],
                          [
                            0.3333333333333333,
                            "#9c179e"
                          ],
                          [
                            0.4444444444444444,
                            "#bd3786"
                          ],
                          [
                            0.5555555555555556,
                            "#d8576b"
                          ],
                          [
                            0.6666666666666666,
                            "#ed7953"
                          ],
                          [
                            0.7777777777777778,
                            "#fb9f3a"
                          ],
                          [
                            0.8888888888888888,
                            "#fdca26"
                          ],
                          [
                            1,
                            "#f0f921"
                          ]
                        ],
                        "type": "contour"
                      }
                    ],
                    "contourcarpet": [
                      {
                        "colorbar": {
                          "outlinewidth": 0,
                          "ticks": ""
                        },
                        "type": "contourcarpet"
                      }
                    ],
                    "heatmap": [
                      {
                        "colorbar": {
                          "outlinewidth": 0,
                          "ticks": ""
                        },
                        "colorscale": [
                          [
                            0,
                            "#0d0887"
                          ],
                          [
                            0.1111111111111111,
                            "#46039f"
                          ],
                          [
                            0.2222222222222222,
                            "#7201a8"
                          ],
                          [
                            0.3333333333333333,
                            "#9c179e"
                          ],
                          [
                            0.4444444444444444,
                            "#bd3786"
                          ],
                          [
                            0.5555555555555556,
                            "#d8576b"
                          ],
                          [
                            0.6666666666666666,
                            "#ed7953"
                          ],
                          [
                            0.7777777777777778,
                            "#fb9f3a"
                          ],
                          [
                            0.8888888888888888,
                            "#fdca26"
                          ],
                          [
                            1,
                            "#f0f921"
                          ]
                        ],
                        "type": "heatmap"
                      }
                    ],
                    "heatmapgl": [
                      {
                        "colorbar": {
                          "outlinewidth": 0,
                          "ticks": ""
                        },
                        "colorscale": [
                          [
                            0,
                            "#0d0887"
                          ],
                          [
                            0.1111111111111111,
                            "#46039f"
                          ],
                          [
                            0.2222222222222222,
                            "#7201a8"
                          ],
                          [
                            0.3333333333333333,
                            "#9c179e"
                          ],
                          [
                            0.4444444444444444,
                            "#bd3786"
                          ],
                          [
                            0.5555555555555556,
                            "#d8576b"
                          ],
                          [
                            0.6666666666666666,
                            "#ed7953"
                          ],
                          [
                            0.7777777777777778,
                            "#fb9f3a"
                          ],
                          [
                            0.8888888888888888,
                            "#fdca26"
                          ],
                          [
                            1,
                            "#f0f921"
                          ]
                        ],
                        "type": "heatmapgl"
                      }
                    ],
                    "histogram": [
                      {
                        "marker": {
                          "pattern": {
                            "fillmode": "overlay",
                            "size": 10,
                            "solidity": 0.2
                          }
                        },
                        "type": "histogram"
                      }
                    ],
                    "histogram2d": [
                      {
                        "colorbar": {
                          "outlinewidth": 0,
                          "ticks": ""
                        },
                        "colorscale": [
                          [
                            0,
                            "#0d0887"
                          ],
                          [
                            0.1111111111111111,
                            "#46039f"
                          ],
                          [
                            0.2222222222222222,
                            "#7201a8"
                          ],
                          [
                            0.3333333333333333,
                            "#9c179e"
                          ],
                          [
                            0.4444444444444444,
                            "#bd3786"
                          ],
                          [
                            0.5555555555555556,
                            "#d8576b"
                          ],
                          [
                            0.6666666666666666,
                            "#ed7953"
                          ],
                          [
                            0.7777777777777778,
                            "#fb9f3a"
                          ],
                          [
                            0.8888888888888888,
                            "#fdca26"
                          ],
                          [
                            1,
                            "#f0f921"
                          ]
                        ],
                        "type": "histogram2d"
                      }
                    ],
                    "histogram2dcontour": [
                      {
                        "colorbar": {
                          "outlinewidth": 0,
                          "ticks": ""
                        },
                        "colorscale": [
                          [
                            0,
                            "#0d0887"
                          ],
                          [
                            0.1111111111111111,
                            "#46039f"
                          ],
                          [
                            0.2222222222222222,
                            "#7201a8"
                          ],
                          [
                            0.3333333333333333,
                            "#9c179e"
                          ],
                          [
                            0.4444444444444444,
                            "#bd3786"
                          ],
                          [
                            0.5555555555555556,
                            "#d8576b"
                          ],
                          [
                            0.6666666666666666,
                            "#ed7953"
                          ],
                          [
                            0.7777777777777778,
                            "#fb9f3a"
                          ],
                          [
                            0.8888888888888888,
                            "#fdca26"
                          ],
                          [
                            1,
                            "#f0f921"
                          ]
                        ],
                        "type": "histogram2dcontour"
                      }
                    ],
                    "mesh3d": [
                      {
                        "colorbar": {
                          "outlinewidth": 0,
                          "ticks": ""
                        },
                        "type": "mesh3d"
                      }
                    ],
                    "parcoords": [
                      {
                        "line": {
                          "colorbar": {
                            "outlinewidth": 0,
                            "ticks": ""
                          }
                        },
                        "type": "parcoords"
                      }
                    ],
                    "pie": [
                      {
                        "automargin": true,
                        "type": "pie"
                      }
                    ],
                    "scatter": [
                      {
                        "fillpattern": {
                          "fillmode": "overlay",
                          "size": 10,
                          "solidity": 0.2
                        },
                        "type": "scatter"
                      }
                    ],
                    "scatter3d": [
                      {
                        "line": {
                          "colorbar": {
                            "outlinewidth": 0,
                            "ticks": ""
                          }
                        },
                        "marker": {
                          "colorbar": {
                            "outlinewidth": 0,
                            "ticks": ""
                          }
                        },
                        "type": "scatter3d"
                      }
                    ],
                    "scattercarpet": [
                      {
                        "marker": {
                          "colorbar": {
                            "outlinewidth": 0,
                            "ticks": ""
                          }
                        },
                        "type": "scattercarpet"
                      }
                    ],
                    "scattergeo": [
                      {
                        "marker": {
                          "colorbar": {
                            "outlinewidth": 0,
                            "ticks": ""
                          }
                        },
                        "type": "scattergeo"
                      }
                    ],
                    "scattergl": [
                      {
                        "marker": {
                          "colorbar": {
                            "outlinewidth": 0,
                            "ticks": ""
                          }
                        },
                        "type": "scattergl"
                      }
                    ],
                    "scattermapbox": [
                      {
                        "marker": {
                          "colorbar": {
                            "outlinewidth": 0,
                            "ticks": ""
                          }
                        },
                        "type": "scattermapbox"
                      }
                    ],
                    "scatterpolar": [
                      {
                        "marker": {
                          "colorbar": {
                            "outlinewidth": 0,
                            "ticks": ""
                          }
                        },
                        "type": "scatterpolar"
                      }
                    ],
                    "scatterpolargl": [
                      {
                        "marker": {
                          "colorbar": {
                            "outlinewidth": 0,
                            "ticks": ""
                          }
                        },
                        "type": "scatterpolargl"
                      }
                    ],
                    "scatterternary": [
                      {
                        "marker": {
                          "colorbar": {
                            "outlinewidth": 0,
                            "ticks": ""
                          }
                        },
                        "type": "scatterternary"
                      }
                    ],
                    "surface": [
                      {
                        "colorbar": {
                          "outlinewidth": 0,
                          "ticks": ""
                        },
                        "colorscale": [
                          [
                            0,
                            "#0d0887"
                          ],
                          [
                            0.1111111111111111,
                            "#46039f"
                          ],
                          [
                            0.2222222222222222,
                            "#7201a8"
                          ],
                          [
                            0.3333333333333333,
                            "#9c179e"
                          ],
                          [
                            0.4444444444444444,
                            "#bd3786"
                          ],
                          [
                            0.5555555555555556,
                            "#d8576b"
                          ],
                          [
                            0.6666666666666666,
                            "#ed7953"
                          ],
                          [
                            0.7777777777777778,
                            "#fb9f3a"
                          ],
                          [
                            0.8888888888888888,
                            "#fdca26"
                          ],
                          [
                            1,
                            "#f0f921"
                          ]
                        ],
                        "type": "surface"
                      }
                    ],
                    "table": [
                      {
                        "cells": {
                          "fill": {
                            "color": "#EBF0F8"
                          },
                          "line": {
                            "color": "white"
                          }
                        },
                        "header": {
                          "fill": {
                            "color": "#C8D4E3"
                          },
                          "line": {
                            "color": "white"
                          }
                        },
                        "type": "table"
                      }
                    ]
                  },
                  "layout": {
                    "annotationdefaults": {
                      "arrowcolor": "#2a3f5f",
                      "arrowhead": 0,
                      "arrowwidth": 1
                    },
                    "autotypenumbers": "strict",
                    "coloraxis": {
                      "colorbar": {
                        "outlinewidth": 0,
                        "ticks": ""
                      }
                    },
                    "colorscale": {
                      "diverging": [
                        [
                          0,
                          "#8e0152"
                        ],
                        [
                          0.1,
                          "#c51b7d"
                        ],
                        [
                          0.2,
                          "#de77ae"
                        ],
                        [
                          0.3,
                          "#f1b6da"
                        ],
                        [
                          0.4,
                          "#fde0ef"
                        ],
                        [
                          0.5,
                          "#f7f7f7"
                        ],
                        [
                          0.6,
                          "#e6f5d0"
                        ],
                        [
                          0.7,
                          "#b8e186"
                        ],
                        [
                          0.8,
                          "#7fbc41"
                        ],
                        [
                          0.9,
                          "#4d9221"
                        ],
                        [
                          1,
                          "#276419"
                        ]
                      ],
                      "sequential": [
                        [
                          0,
                          "#0d0887"
                        ],
                        [
                          0.1111111111111111,
                          "#46039f"
                        ],
                        [
                          0.2222222222222222,
                          "#7201a8"
                        ],
                        [
                          0.3333333333333333,
                          "#9c179e"
                        ],
                        [
                          0.4444444444444444,
                          "#bd3786"
                        ],
                        [
                          0.5555555555555556,
                          "#d8576b"
                        ],
                        [
                          0.6666666666666666,
                          "#ed7953"
                        ],
                        [
                          0.7777777777777778,
                          "#fb9f3a"
                        ],
                        [
                          0.8888888888888888,
                          "#fdca26"
                        ],
                        [
                          1,
                          "#f0f921"
                        ]
                      ],
                      "sequentialminus": [
                        [
                          0,
                          "#0d0887"
                        ],
                        [
                          0.1111111111111111,
                          "#46039f"
                        ],
                        [
                          0.2222222222222222,
                          "#7201a8"
                        ],
                        [
                          0.3333333333333333,
                          "#9c179e"
                        ],
                        [
                          0.4444444444444444,
                          "#bd3786"
                        ],
                        [
                          0.5555555555555556,
                          "#d8576b"
                        ],
                        [
                          0.6666666666666666,
                          "#ed7953"
                        ],
                        [
                          0.7777777777777778,
                          "#fb9f3a"
                        ],
                        [
                          0.8888888888888888,
                          "#fdca26"
                        ],
                        [
                          1,
                          "#f0f921"
                        ]
                      ]
                    },
                    "colorway": [
                      "#636efa",
                      "#EF553B",
                      "#00cc96",
                      "#ab63fa",
                      "#FFA15A",
                      "#19d3f3",
                      "#FF6692",
                      "#B6E880",
                      "#FF97FF",
                      "#FECB52"
                    ],
                    "font": {
                      "color": "#2a3f5f"
                    },
                    "geo": {
                      "bgcolor": "white",
                      "lakecolor": "white",
                      "landcolor": "#E5ECF6",
                      "showlakes": true,
                      "showland": true,
                      "subunitcolor": "white"
                    },
                    "hoverlabel": {
                      "align": "left"
                    },
                    "hovermode": "closest",
                    "mapbox": {
                      "style": "light"
                    },
                    "paper_bgcolor": "white",
                    "plot_bgcolor": "#E5ECF6",
                    "polar": {
                      "angularaxis": {
                        "gridcolor": "white",
                        "linecolor": "white",
                        "ticks": ""
                      },
                      "bgcolor": "#E5ECF6",
                      "radialaxis": {
                        "gridcolor": "white",
                        "linecolor": "white",
                        "ticks": ""
                      }
                    },
                    "scene": {
                      "xaxis": {
                        "backgroundcolor": "#E5ECF6",
                        "gridcolor": "white",
                        "gridwidth": 2,
                        "linecolor": "white",
                        "showbackground": true,
                        "ticks": "",
                        "zerolinecolor": "white"
                      },
                      "yaxis": {
                        "backgroundcolor": "#E5ECF6",
                        "gridcolor": "white",
                        "gridwidth": 2,
                        "linecolor": "white",
                        "showbackground": true,
                        "ticks": "",
                        "zerolinecolor": "white"
                      },
                      "zaxis": {
                        "backgroundcolor": "#E5ECF6",
                        "gridcolor": "white",
                        "gridwidth": 2,
                        "linecolor": "white",
                        "showbackground": true,
                        "ticks": "",
                        "zerolinecolor": "white"
                      }
                    },
                    "shapedefaults": {
                      "line": {
                        "color": "#2a3f5f"
                      }
                    },
                    "ternary": {
                      "aaxis": {
                        "gridcolor": "white",
                        "linecolor": "white",
                        "ticks": ""
                      },
                      "baxis": {
                        "gridcolor": "white",
                        "linecolor": "white",
                        "ticks": ""
                      },
                      "bgcolor": "#E5ECF6",
                      "caxis": {
                        "gridcolor": "white",
                        "linecolor": "white",
                        "ticks": ""
                      }
                    },
                    "title": {
                      "x": 0.05
                    },
                    "xaxis": {
                      "automargin": true,
                      "gridcolor": "white",
                      "linecolor": "white",
                      "ticks": "",
                      "title": {
                        "standoff": 15
                      },
                      "zerolinecolor": "white",
                      "zerolinewidth": 2
                    },
                    "yaxis": {
                      "automargin": true,
                      "gridcolor": "white",
                      "linecolor": "white",
                      "ticks": "",
                      "title": {
                        "standoff": 15
                      },
                      "zerolinecolor": "white",
                      "zerolinewidth": 2
                    }
                  }
                },
                "xaxis": {
                  "anchor": "y",
                  "domain": [
                    0,
                    1
                  ],
                  "title": {
                    "text": "epoch"
                  }
                },
                "yaxis": {
                  "anchor": "x",
                  "domain": [
                    0,
                    1
                  ],
                  "title": {
                    "text": "accuracy"
                  }
                }
              }
            }
          },
          "metadata": {},
          "output_type": "display_data"
        },
        {
          "data": {
            "application/vnd.plotly.v1+json": {
              "config": {
                "plotlyServerURL": "https://plot.ly"
              },
              "data": [
                {
                  "hovertemplate": "variable=loss<br>epoch=%{x}<br>loss=%{y}<extra></extra>",
                  "legendgroup": "loss",
                  "line": {
                    "color": "#636efa",
                    "dash": "solid"
                  },
                  "marker": {
                    "symbol": "circle"
                  },
                  "mode": "lines",
                  "name": "loss",
                  "orientation": "v",
                  "showlegend": true,
                  "type": "scatter",
                  "x": [
                    0,
                    1,
                    2,
                    3,
                    4
                  ],
                  "xaxis": "x",
                  "y": [
                    0.13424639403820038,
                    0.06691858917474747,
                    0.047156378626823425,
                    0.03701288625597954,
                    0.03147495910525322
                  ],
                  "yaxis": "y"
                },
                {
                  "hovertemplate": "variable=val_loss<br>epoch=%{x}<br>loss=%{y}<extra></extra>",
                  "legendgroup": "val_loss",
                  "line": {
                    "color": "#EF553B",
                    "dash": "solid"
                  },
                  "marker": {
                    "symbol": "circle"
                  },
                  "mode": "lines",
                  "name": "val_loss",
                  "orientation": "v",
                  "showlegend": true,
                  "type": "scatter",
                  "x": [
                    0,
                    1,
                    2,
                    3,
                    4
                  ],
                  "xaxis": "x",
                  "y": [
                    0.08153950423002243,
                    0.061180416494607925,
                    0.05760422721505165,
                    0.05843370780348778,
                    0.058395951986312866
                  ],
                  "yaxis": "y"
                }
              ],
              "layout": {
                "legend": {
                  "title": {
                    "text": "variable"
                  },
                  "tracegroupgap": 0
                },
                "margin": {
                  "t": 60
                },
                "template": {
                  "data": {
                    "bar": [
                      {
                        "error_x": {
                          "color": "#2a3f5f"
                        },
                        "error_y": {
                          "color": "#2a3f5f"
                        },
                        "marker": {
                          "line": {
                            "color": "#E5ECF6",
                            "width": 0.5
                          },
                          "pattern": {
                            "fillmode": "overlay",
                            "size": 10,
                            "solidity": 0.2
                          }
                        },
                        "type": "bar"
                      }
                    ],
                    "barpolar": [
                      {
                        "marker": {
                          "line": {
                            "color": "#E5ECF6",
                            "width": 0.5
                          },
                          "pattern": {
                            "fillmode": "overlay",
                            "size": 10,
                            "solidity": 0.2
                          }
                        },
                        "type": "barpolar"
                      }
                    ],
                    "carpet": [
                      {
                        "aaxis": {
                          "endlinecolor": "#2a3f5f",
                          "gridcolor": "white",
                          "linecolor": "white",
                          "minorgridcolor": "white",
                          "startlinecolor": "#2a3f5f"
                        },
                        "baxis": {
                          "endlinecolor": "#2a3f5f",
                          "gridcolor": "white",
                          "linecolor": "white",
                          "minorgridcolor": "white",
                          "startlinecolor": "#2a3f5f"
                        },
                        "type": "carpet"
                      }
                    ],
                    "choropleth": [
                      {
                        "colorbar": {
                          "outlinewidth": 0,
                          "ticks": ""
                        },
                        "type": "choropleth"
                      }
                    ],
                    "contour": [
                      {
                        "colorbar": {
                          "outlinewidth": 0,
                          "ticks": ""
                        },
                        "colorscale": [
                          [
                            0,
                            "#0d0887"
                          ],
                          [
                            0.1111111111111111,
                            "#46039f"
                          ],
                          [
                            0.2222222222222222,
                            "#7201a8"
                          ],
                          [
                            0.3333333333333333,
                            "#9c179e"
                          ],
                          [
                            0.4444444444444444,
                            "#bd3786"
                          ],
                          [
                            0.5555555555555556,
                            "#d8576b"
                          ],
                          [
                            0.6666666666666666,
                            "#ed7953"
                          ],
                          [
                            0.7777777777777778,
                            "#fb9f3a"
                          ],
                          [
                            0.8888888888888888,
                            "#fdca26"
                          ],
                          [
                            1,
                            "#f0f921"
                          ]
                        ],
                        "type": "contour"
                      }
                    ],
                    "contourcarpet": [
                      {
                        "colorbar": {
                          "outlinewidth": 0,
                          "ticks": ""
                        },
                        "type": "contourcarpet"
                      }
                    ],
                    "heatmap": [
                      {
                        "colorbar": {
                          "outlinewidth": 0,
                          "ticks": ""
                        },
                        "colorscale": [
                          [
                            0,
                            "#0d0887"
                          ],
                          [
                            0.1111111111111111,
                            "#46039f"
                          ],
                          [
                            0.2222222222222222,
                            "#7201a8"
                          ],
                          [
                            0.3333333333333333,
                            "#9c179e"
                          ],
                          [
                            0.4444444444444444,
                            "#bd3786"
                          ],
                          [
                            0.5555555555555556,
                            "#d8576b"
                          ],
                          [
                            0.6666666666666666,
                            "#ed7953"
                          ],
                          [
                            0.7777777777777778,
                            "#fb9f3a"
                          ],
                          [
                            0.8888888888888888,
                            "#fdca26"
                          ],
                          [
                            1,
                            "#f0f921"
                          ]
                        ],
                        "type": "heatmap"
                      }
                    ],
                    "heatmapgl": [
                      {
                        "colorbar": {
                          "outlinewidth": 0,
                          "ticks": ""
                        },
                        "colorscale": [
                          [
                            0,
                            "#0d0887"
                          ],
                          [
                            0.1111111111111111,
                            "#46039f"
                          ],
                          [
                            0.2222222222222222,
                            "#7201a8"
                          ],
                          [
                            0.3333333333333333,
                            "#9c179e"
                          ],
                          [
                            0.4444444444444444,
                            "#bd3786"
                          ],
                          [
                            0.5555555555555556,
                            "#d8576b"
                          ],
                          [
                            0.6666666666666666,
                            "#ed7953"
                          ],
                          [
                            0.7777777777777778,
                            "#fb9f3a"
                          ],
                          [
                            0.8888888888888888,
                            "#fdca26"
                          ],
                          [
                            1,
                            "#f0f921"
                          ]
                        ],
                        "type": "heatmapgl"
                      }
                    ],
                    "histogram": [
                      {
                        "marker": {
                          "pattern": {
                            "fillmode": "overlay",
                            "size": 10,
                            "solidity": 0.2
                          }
                        },
                        "type": "histogram"
                      }
                    ],
                    "histogram2d": [
                      {
                        "colorbar": {
                          "outlinewidth": 0,
                          "ticks": ""
                        },
                        "colorscale": [
                          [
                            0,
                            "#0d0887"
                          ],
                          [
                            0.1111111111111111,
                            "#46039f"
                          ],
                          [
                            0.2222222222222222,
                            "#7201a8"
                          ],
                          [
                            0.3333333333333333,
                            "#9c179e"
                          ],
                          [
                            0.4444444444444444,
                            "#bd3786"
                          ],
                          [
                            0.5555555555555556,
                            "#d8576b"
                          ],
                          [
                            0.6666666666666666,
                            "#ed7953"
                          ],
                          [
                            0.7777777777777778,
                            "#fb9f3a"
                          ],
                          [
                            0.8888888888888888,
                            "#fdca26"
                          ],
                          [
                            1,
                            "#f0f921"
                          ]
                        ],
                        "type": "histogram2d"
                      }
                    ],
                    "histogram2dcontour": [
                      {
                        "colorbar": {
                          "outlinewidth": 0,
                          "ticks": ""
                        },
                        "colorscale": [
                          [
                            0,
                            "#0d0887"
                          ],
                          [
                            0.1111111111111111,
                            "#46039f"
                          ],
                          [
                            0.2222222222222222,
                            "#7201a8"
                          ],
                          [
                            0.3333333333333333,
                            "#9c179e"
                          ],
                          [
                            0.4444444444444444,
                            "#bd3786"
                          ],
                          [
                            0.5555555555555556,
                            "#d8576b"
                          ],
                          [
                            0.6666666666666666,
                            "#ed7953"
                          ],
                          [
                            0.7777777777777778,
                            "#fb9f3a"
                          ],
                          [
                            0.8888888888888888,
                            "#fdca26"
                          ],
                          [
                            1,
                            "#f0f921"
                          ]
                        ],
                        "type": "histogram2dcontour"
                      }
                    ],
                    "mesh3d": [
                      {
                        "colorbar": {
                          "outlinewidth": 0,
                          "ticks": ""
                        },
                        "type": "mesh3d"
                      }
                    ],
                    "parcoords": [
                      {
                        "line": {
                          "colorbar": {
                            "outlinewidth": 0,
                            "ticks": ""
                          }
                        },
                        "type": "parcoords"
                      }
                    ],
                    "pie": [
                      {
                        "automargin": true,
                        "type": "pie"
                      }
                    ],
                    "scatter": [
                      {
                        "fillpattern": {
                          "fillmode": "overlay",
                          "size": 10,
                          "solidity": 0.2
                        },
                        "type": "scatter"
                      }
                    ],
                    "scatter3d": [
                      {
                        "line": {
                          "colorbar": {
                            "outlinewidth": 0,
                            "ticks": ""
                          }
                        },
                        "marker": {
                          "colorbar": {
                            "outlinewidth": 0,
                            "ticks": ""
                          }
                        },
                        "type": "scatter3d"
                      }
                    ],
                    "scattercarpet": [
                      {
                        "marker": {
                          "colorbar": {
                            "outlinewidth": 0,
                            "ticks": ""
                          }
                        },
                        "type": "scattercarpet"
                      }
                    ],
                    "scattergeo": [
                      {
                        "marker": {
                          "colorbar": {
                            "outlinewidth": 0,
                            "ticks": ""
                          }
                        },
                        "type": "scattergeo"
                      }
                    ],
                    "scattergl": [
                      {
                        "marker": {
                          "colorbar": {
                            "outlinewidth": 0,
                            "ticks": ""
                          }
                        },
                        "type": "scattergl"
                      }
                    ],
                    "scattermapbox": [
                      {
                        "marker": {
                          "colorbar": {
                            "outlinewidth": 0,
                            "ticks": ""
                          }
                        },
                        "type": "scattermapbox"
                      }
                    ],
                    "scatterpolar": [
                      {
                        "marker": {
                          "colorbar": {
                            "outlinewidth": 0,
                            "ticks": ""
                          }
                        },
                        "type": "scatterpolar"
                      }
                    ],
                    "scatterpolargl": [
                      {
                        "marker": {
                          "colorbar": {
                            "outlinewidth": 0,
                            "ticks": ""
                          }
                        },
                        "type": "scatterpolargl"
                      }
                    ],
                    "scatterternary": [
                      {
                        "marker": {
                          "colorbar": {
                            "outlinewidth": 0,
                            "ticks": ""
                          }
                        },
                        "type": "scatterternary"
                      }
                    ],
                    "surface": [
                      {
                        "colorbar": {
                          "outlinewidth": 0,
                          "ticks": ""
                        },
                        "colorscale": [
                          [
                            0,
                            "#0d0887"
                          ],
                          [
                            0.1111111111111111,
                            "#46039f"
                          ],
                          [
                            0.2222222222222222,
                            "#7201a8"
                          ],
                          [
                            0.3333333333333333,
                            "#9c179e"
                          ],
                          [
                            0.4444444444444444,
                            "#bd3786"
                          ],
                          [
                            0.5555555555555556,
                            "#d8576b"
                          ],
                          [
                            0.6666666666666666,
                            "#ed7953"
                          ],
                          [
                            0.7777777777777778,
                            "#fb9f3a"
                          ],
                          [
                            0.8888888888888888,
                            "#fdca26"
                          ],
                          [
                            1,
                            "#f0f921"
                          ]
                        ],
                        "type": "surface"
                      }
                    ],
                    "table": [
                      {
                        "cells": {
                          "fill": {
                            "color": "#EBF0F8"
                          },
                          "line": {
                            "color": "white"
                          }
                        },
                        "header": {
                          "fill": {
                            "color": "#C8D4E3"
                          },
                          "line": {
                            "color": "white"
                          }
                        },
                        "type": "table"
                      }
                    ]
                  },
                  "layout": {
                    "annotationdefaults": {
                      "arrowcolor": "#2a3f5f",
                      "arrowhead": 0,
                      "arrowwidth": 1
                    },
                    "autotypenumbers": "strict",
                    "coloraxis": {
                      "colorbar": {
                        "outlinewidth": 0,
                        "ticks": ""
                      }
                    },
                    "colorscale": {
                      "diverging": [
                        [
                          0,
                          "#8e0152"
                        ],
                        [
                          0.1,
                          "#c51b7d"
                        ],
                        [
                          0.2,
                          "#de77ae"
                        ],
                        [
                          0.3,
                          "#f1b6da"
                        ],
                        [
                          0.4,
                          "#fde0ef"
                        ],
                        [
                          0.5,
                          "#f7f7f7"
                        ],
                        [
                          0.6,
                          "#e6f5d0"
                        ],
                        [
                          0.7,
                          "#b8e186"
                        ],
                        [
                          0.8,
                          "#7fbc41"
                        ],
                        [
                          0.9,
                          "#4d9221"
                        ],
                        [
                          1,
                          "#276419"
                        ]
                      ],
                      "sequential": [
                        [
                          0,
                          "#0d0887"
                        ],
                        [
                          0.1111111111111111,
                          "#46039f"
                        ],
                        [
                          0.2222222222222222,
                          "#7201a8"
                        ],
                        [
                          0.3333333333333333,
                          "#9c179e"
                        ],
                        [
                          0.4444444444444444,
                          "#bd3786"
                        ],
                        [
                          0.5555555555555556,
                          "#d8576b"
                        ],
                        [
                          0.6666666666666666,
                          "#ed7953"
                        ],
                        [
                          0.7777777777777778,
                          "#fb9f3a"
                        ],
                        [
                          0.8888888888888888,
                          "#fdca26"
                        ],
                        [
                          1,
                          "#f0f921"
                        ]
                      ],
                      "sequentialminus": [
                        [
                          0,
                          "#0d0887"
                        ],
                        [
                          0.1111111111111111,
                          "#46039f"
                        ],
                        [
                          0.2222222222222222,
                          "#7201a8"
                        ],
                        [
                          0.3333333333333333,
                          "#9c179e"
                        ],
                        [
                          0.4444444444444444,
                          "#bd3786"
                        ],
                        [
                          0.5555555555555556,
                          "#d8576b"
                        ],
                        [
                          0.6666666666666666,
                          "#ed7953"
                        ],
                        [
                          0.7777777777777778,
                          "#fb9f3a"
                        ],
                        [
                          0.8888888888888888,
                          "#fdca26"
                        ],
                        [
                          1,
                          "#f0f921"
                        ]
                      ]
                    },
                    "colorway": [
                      "#636efa",
                      "#EF553B",
                      "#00cc96",
                      "#ab63fa",
                      "#FFA15A",
                      "#19d3f3",
                      "#FF6692",
                      "#B6E880",
                      "#FF97FF",
                      "#FECB52"
                    ],
                    "font": {
                      "color": "#2a3f5f"
                    },
                    "geo": {
                      "bgcolor": "white",
                      "lakecolor": "white",
                      "landcolor": "#E5ECF6",
                      "showlakes": true,
                      "showland": true,
                      "subunitcolor": "white"
                    },
                    "hoverlabel": {
                      "align": "left"
                    },
                    "hovermode": "closest",
                    "mapbox": {
                      "style": "light"
                    },
                    "paper_bgcolor": "white",
                    "plot_bgcolor": "#E5ECF6",
                    "polar": {
                      "angularaxis": {
                        "gridcolor": "white",
                        "linecolor": "white",
                        "ticks": ""
                      },
                      "bgcolor": "#E5ECF6",
                      "radialaxis": {
                        "gridcolor": "white",
                        "linecolor": "white",
                        "ticks": ""
                      }
                    },
                    "scene": {
                      "xaxis": {
                        "backgroundcolor": "#E5ECF6",
                        "gridcolor": "white",
                        "gridwidth": 2,
                        "linecolor": "white",
                        "showbackground": true,
                        "ticks": "",
                        "zerolinecolor": "white"
                      },
                      "yaxis": {
                        "backgroundcolor": "#E5ECF6",
                        "gridcolor": "white",
                        "gridwidth": 2,
                        "linecolor": "white",
                        "showbackground": true,
                        "ticks": "",
                        "zerolinecolor": "white"
                      },
                      "zaxis": {
                        "backgroundcolor": "#E5ECF6",
                        "gridcolor": "white",
                        "gridwidth": 2,
                        "linecolor": "white",
                        "showbackground": true,
                        "ticks": "",
                        "zerolinecolor": "white"
                      }
                    },
                    "shapedefaults": {
                      "line": {
                        "color": "#2a3f5f"
                      }
                    },
                    "ternary": {
                      "aaxis": {
                        "gridcolor": "white",
                        "linecolor": "white",
                        "ticks": ""
                      },
                      "baxis": {
                        "gridcolor": "white",
                        "linecolor": "white",
                        "ticks": ""
                      },
                      "bgcolor": "#E5ECF6",
                      "caxis": {
                        "gridcolor": "white",
                        "linecolor": "white",
                        "ticks": ""
                      }
                    },
                    "title": {
                      "x": 0.05
                    },
                    "xaxis": {
                      "automargin": true,
                      "gridcolor": "white",
                      "linecolor": "white",
                      "ticks": "",
                      "title": {
                        "standoff": 15
                      },
                      "zerolinecolor": "white",
                      "zerolinewidth": 2
                    },
                    "yaxis": {
                      "automargin": true,
                      "gridcolor": "white",
                      "linecolor": "white",
                      "ticks": "",
                      "title": {
                        "standoff": 15
                      },
                      "zerolinecolor": "white",
                      "zerolinewidth": 2
                    }
                  }
                },
                "xaxis": {
                  "anchor": "y",
                  "domain": [
                    0,
                    1
                  ],
                  "title": {
                    "text": "epoch"
                  }
                },
                "yaxis": {
                  "anchor": "x",
                  "domain": [
                    0,
                    1
                  ],
                  "title": {
                    "text": "loss"
                  }
                }
              }
            }
          },
          "metadata": {},
          "output_type": "display_data"
        },
        {
          "name": "stdout",
          "output_type": "stream",
          "text": [
            "##### PRINTING HISTORY COMPLETED #####\n"
          ]
        }
      ],
      "source": [
        "rnn_model.print_history() "
      ]
    },
    {
      "cell_type": "code",
      "execution_count": null,
      "metadata": {
        "colab": {
          "base_uri": "https://localhost:8080/"
        },
        "id": "MiXs6P5vLuSX",
        "outputId": "92a3d0e3-ad24-490e-c8bb-39a6909d03fd"
      },
      "outputs": [
        {
          "name": "stdout",
          "output_type": "stream",
          "text": [
            "##### TESTING #####\n",
            "119/119 [==============================] - 1s 6ms/step - loss: 0.0667 - accuracy: 0.8707\n",
            "Test loss: 0.06668345630168915\n",
            "Test Accuracy: 0.8707214593887329\n",
            "##### TESTING COMPLETED #####\n"
          ]
        },
        {
          "data": {
            "text/plain": [
              "(0.06668345630168915, 0.8707214593887329)"
            ]
          },
          "execution_count": 24,
          "metadata": {},
          "output_type": "execute_result"
        },
        {
          "name": "stdout",
          "output_type": "stream",
          "text": [
            "time: 1.8 s (started: 2022-04-13 01:56:49 +00:00)\n"
          ]
        }
      ],
      "source": [
        "rnn_model.test(X_test) # Test the model"
      ]
    },
    {
      "cell_type": "code",
      "execution_count": null,
      "metadata": {
        "colab": {
          "base_uri": "https://localhost:8080/"
        },
        "id": "0jVeZz8aTdMb",
        "outputId": "de7614b5-470e-470d-89fa-c57ac17befdc"
      },
      "outputs": [
        {
          "name": "stderr",
          "output_type": "stream",
          "text": [
            "\u001b[32m[I 2022-04-13 02:13:38,237]\u001b[0m A new study created in memory with name: no-name-650f1651-8e76-48d2-9203-52dc6da0317e\u001b[0m\n"
          ]
        },
        {
          "name": "stdout",
          "output_type": "stream",
          "text": [
            "{'epochs': 4, 'batch_size': 25, 'embedding_dim': 58, 'units': 269, 'dropout': 0.30000000000000004, 'n_neurons': 81}\n",
            "Epoch 1/4\n",
            "1482/1482 [==============================] - 31s 19ms/step - loss: 0.1135 - accuracy: 0.7737 - val_loss: 0.0655 - val_accuracy: 0.8793\n",
            "Epoch 2/4\n",
            "1482/1482 [==============================] - 27s 18ms/step - loss: 0.0559 - accuracy: 0.9105 - val_loss: 0.0563 - val_accuracy: 0.8975\n",
            "Epoch 3/4\n",
            "1482/1482 [==============================] - 27s 18ms/step - loss: 0.0367 - accuracy: 0.9485 - val_loss: 0.0543 - val_accuracy: 0.8970\n",
            "Epoch 4/4\n",
            "1482/1482 [==============================] - 27s 18ms/step - loss: 0.0286 - accuracy: 0.9621 - val_loss: 0.0575 - val_accuracy: 0.8904\n"
          ]
        },
        {
          "name": "stderr",
          "output_type": "stream",
          "text": [
            "\u001b[32m[I 2022-04-13 02:15:32,991]\u001b[0m Trial 0 finished with value: 0.8904275894165039 and parameters: {'epochs': 4, 'batch_size': 25, 'embedding_dim': 58, 'units': 269, 'dropout': 0.30000000000000004, 'n_neurons': 81}. Best is trial 0 with value: 0.8904275894165039.\u001b[0m\n"
          ]
        },
        {
          "name": "stdout",
          "output_type": "stream",
          "text": [
            "{'epochs': 2, 'batch_size': 47, 'embedding_dim': 36, 'units': 251, 'dropout': 0.1, 'n_neurons': 93}\n",
            "Epoch 1/2\n",
            "789/789 [==============================] - 19s 20ms/step - loss: 0.1137 - accuracy: 0.7592 - val_loss: 0.0647 - val_accuracy: 0.8810\n",
            "Epoch 2/2\n",
            "789/789 [==============================] - 15s 19ms/step - loss: 0.0497 - accuracy: 0.9152 - val_loss: 0.0542 - val_accuracy: 0.8977\n"
          ]
        },
        {
          "name": "stderr",
          "output_type": "stream",
          "text": [
            "\u001b[32m[I 2022-04-13 02:16:09,668]\u001b[0m Trial 1 finished with value: 0.897716224193573 and parameters: {'epochs': 2, 'batch_size': 47, 'embedding_dim': 36, 'units': 251, 'dropout': 0.1, 'n_neurons': 93}. Best is trial 1 with value: 0.897716224193573.\u001b[0m\n"
          ]
        },
        {
          "name": "stdout",
          "output_type": "stream",
          "text": [
            "{'epochs': 4, 'batch_size': 41, 'embedding_dim': 19, 'units': 203, 'dropout': 0.1, 'n_neurons': 47}\n",
            "Epoch 1/4\n",
            "904/904 [==============================] - 18s 17ms/step - loss: 0.1279 - accuracy: 0.7299 - val_loss: 0.0693 - val_accuracy: 0.8759\n",
            "Epoch 2/4\n",
            "904/904 [==============================] - 14s 16ms/step - loss: 0.0569 - accuracy: 0.9045 - val_loss: 0.0591 - val_accuracy: 0.8916\n",
            "Epoch 3/4\n",
            "904/904 [==============================] - 15s 16ms/step - loss: 0.0366 - accuracy: 0.9444 - val_loss: 0.0570 - val_accuracy: 0.8882\n",
            "Epoch 4/4\n",
            "904/904 [==============================] - 15s 16ms/step - loss: 0.0278 - accuracy: 0.9608 - val_loss: 0.0603 - val_accuracy: 0.8873\n"
          ]
        },
        {
          "name": "stderr",
          "output_type": "stream",
          "text": [
            "\u001b[32m[I 2022-04-13 02:17:14,180]\u001b[0m Trial 2 finished with value: 0.8872691988945007 and parameters: {'epochs': 4, 'batch_size': 41, 'embedding_dim': 19, 'units': 203, 'dropout': 0.1, 'n_neurons': 47}. Best is trial 1 with value: 0.897716224193573.\u001b[0m\n"
          ]
        },
        {
          "name": "stdout",
          "output_type": "stream",
          "text": [
            "{'epochs': 3, 'batch_size': 40, 'embedding_dim': 11, 'units': 372, 'dropout': 0.4, 'n_neurons': 52}\n",
            "Epoch 1/3\n",
            "927/927 [==============================] - 22s 20ms/step - loss: 0.1601 - accuracy: 0.6518 - val_loss: 0.0791 - val_accuracy: 0.8603\n",
            "Epoch 2/3\n",
            "927/927 [==============================] - 18s 19ms/step - loss: 0.0750 - accuracy: 0.8856 - val_loss: 0.0690 - val_accuracy: 0.8666\n",
            "Epoch 3/3\n",
            "927/927 [==============================] - 18s 19ms/step - loss: 0.0528 - accuracy: 0.9298 - val_loss: 0.0600 - val_accuracy: 0.8848\n"
          ]
        },
        {
          "name": "stderr",
          "output_type": "stream",
          "text": [
            "\u001b[32m[I 2022-04-13 02:18:42,307]\u001b[0m Trial 3 finished with value: 0.884839653968811 and parameters: {'epochs': 3, 'batch_size': 40, 'embedding_dim': 11, 'units': 372, 'dropout': 0.4, 'n_neurons': 52}. Best is trial 1 with value: 0.897716224193573.\u001b[0m\n"
          ]
        },
        {
          "name": "stdout",
          "output_type": "stream",
          "text": [
            "{'epochs': 4, 'batch_size': 58, 'embedding_dim': 47, 'units': 453, 'dropout': 0.1, 'n_neurons': 38}\n",
            "Epoch 1/4\n",
            "639/639 [==============================] - 25s 33ms/step - loss: 0.1176 - accuracy: 0.7593 - val_loss: 0.0763 - val_accuracy: 0.8601\n",
            "Epoch 2/4\n",
            "639/639 [==============================] - 20s 32ms/step - loss: 0.0552 - accuracy: 0.9103 - val_loss: 0.0585 - val_accuracy: 0.8875\n",
            "Epoch 3/4\n",
            "639/639 [==============================] - 20s 32ms/step - loss: 0.0364 - accuracy: 0.9478 - val_loss: 0.0593 - val_accuracy: 0.8865\n",
            "Epoch 4/4\n",
            "639/639 [==============================] - 20s 32ms/step - loss: 0.0278 - accuracy: 0.9631 - val_loss: 0.0579 - val_accuracy: 0.8846\n"
          ]
        },
        {
          "name": "stderr",
          "output_type": "stream",
          "text": [
            "\u001b[32m[I 2022-04-13 02:20:10,420]\u001b[0m Trial 4 finished with value: 0.8845967054367065 and parameters: {'epochs': 4, 'batch_size': 58, 'embedding_dim': 47, 'units': 453, 'dropout': 0.1, 'n_neurons': 38}. Best is trial 1 with value: 0.897716224193573.\u001b[0m\n"
          ]
        },
        {
          "name": "stdout",
          "output_type": "stream",
          "text": [
            "{'epochs': 3, 'batch_size': 60, 'embedding_dim': 55, 'units': 206, 'dropout': 0.30000000000000004, 'n_neurons': 97}\n",
            "Epoch 1/3\n",
            "618/618 [==============================] - 14s 17ms/step - loss: 0.1257 - accuracy: 0.7409 - val_loss: 0.0669 - val_accuracy: 0.8783\n",
            "Epoch 2/3\n",
            "618/618 [==============================] - 10s 16ms/step - loss: 0.0568 - accuracy: 0.9098 - val_loss: 0.0565 - val_accuracy: 0.8916\n",
            "Epoch 3/3\n",
            "618/618 [==============================] - 10s 16ms/step - loss: 0.0370 - accuracy: 0.9481 - val_loss: 0.0556 - val_accuracy: 0.8938\n"
          ]
        },
        {
          "name": "stderr",
          "output_type": "stream",
          "text": [
            "\u001b[32m[I 2022-04-13 02:20:56,900]\u001b[0m Trial 5 finished with value: 0.8938289880752563 and parameters: {'epochs': 3, 'batch_size': 60, 'embedding_dim': 55, 'units': 206, 'dropout': 0.30000000000000004, 'n_neurons': 97}. Best is trial 1 with value: 0.897716224193573.\u001b[0m\n"
          ]
        },
        {
          "name": "stdout",
          "output_type": "stream",
          "text": [
            "{'epochs': 4, 'batch_size': 55, 'embedding_dim': 16, 'units': 377, 'dropout': 0.2, 'n_neurons': 34}\n",
            "Epoch 1/4\n",
            "674/674 [==============================] - 21s 27ms/step - loss: 0.1482 - accuracy: 0.6798 - val_loss: 0.0757 - val_accuracy: 0.8642\n",
            "Epoch 2/4\n",
            "674/674 [==============================] - 17s 26ms/step - loss: 0.0673 - accuracy: 0.8990 - val_loss: 0.0606 - val_accuracy: 0.8929\n",
            "Epoch 3/4\n",
            "674/674 [==============================] - 17s 26ms/step - loss: 0.0461 - accuracy: 0.9382 - val_loss: 0.0607 - val_accuracy: 0.8844\n",
            "Epoch 4/4\n",
            "674/674 [==============================] - 17s 26ms/step - loss: 0.0364 - accuracy: 0.9549 - val_loss: 0.0677 - val_accuracy: 0.8720\n"
          ]
        },
        {
          "name": "stderr",
          "output_type": "stream",
          "text": [
            "\u001b[32m[I 2022-04-13 02:22:12,863]\u001b[0m Trial 6 finished with value: 0.8719630837440491 and parameters: {'epochs': 4, 'batch_size': 55, 'embedding_dim': 16, 'units': 377, 'dropout': 0.2, 'n_neurons': 34}. Best is trial 1 with value: 0.897716224193573.\u001b[0m\n"
          ]
        },
        {
          "name": "stdout",
          "output_type": "stream",
          "text": [
            "{'epochs': 4, 'batch_size': 63, 'embedding_dim': 30, 'units': 417, 'dropout': 0.5, 'n_neurons': 89}\n",
            "Epoch 1/4\n",
            "588/588 [==============================] - 23s 32ms/step - loss: 0.1394 - accuracy: 0.7111 - val_loss: 0.0714 - val_accuracy: 0.8727\n",
            "Epoch 2/4\n",
            "588/588 [==============================] - 18s 31ms/step - loss: 0.0689 - accuracy: 0.8983 - val_loss: 0.0604 - val_accuracy: 0.8890\n",
            "Epoch 3/4\n",
            "588/588 [==============================] - 18s 31ms/step - loss: 0.0481 - accuracy: 0.9388 - val_loss: 0.0591 - val_accuracy: 0.8897\n",
            "Epoch 4/4\n",
            "588/588 [==============================] - 18s 31ms/step - loss: 0.0385 - accuracy: 0.9551 - val_loss: 0.0616 - val_accuracy: 0.8785\n"
          ]
        },
        {
          "name": "stderr",
          "output_type": "stream",
          "text": [
            "\u001b[32m[I 2022-04-13 02:23:33,098]\u001b[0m Trial 7 finished with value: 0.8785228133201599 and parameters: {'epochs': 4, 'batch_size': 63, 'embedding_dim': 30, 'units': 417, 'dropout': 0.5, 'n_neurons': 89}. Best is trial 1 with value: 0.897716224193573.\u001b[0m\n"
          ]
        },
        {
          "name": "stdout",
          "output_type": "stream",
          "text": [
            "{'epochs': 2, 'batch_size': 19, 'embedding_dim': 59, 'units': 210, 'dropout': 0.5, 'n_neurons': 94}\n",
            "Epoch 1/2\n",
            "1950/1950 [==============================] - 31s 14ms/step - loss: 0.1228 - accuracy: 0.7587 - val_loss: 0.0699 - val_accuracy: 0.8829\n",
            "Epoch 2/2\n",
            "1950/1950 [==============================] - 27s 14ms/step - loss: 0.0626 - accuracy: 0.9021 - val_loss: 0.0593 - val_accuracy: 0.8868\n"
          ]
        },
        {
          "name": "stderr",
          "output_type": "stream",
          "text": [
            "\u001b[32m[I 2022-04-13 02:24:34,183]\u001b[0m Trial 8 finished with value: 0.8867833018302917 and parameters: {'epochs': 2, 'batch_size': 19, 'embedding_dim': 59, 'units': 210, 'dropout': 0.5, 'n_neurons': 94}. Best is trial 1 with value: 0.897716224193573.\u001b[0m\n"
          ]
        },
        {
          "name": "stdout",
          "output_type": "stream",
          "text": [
            "{'epochs': 4, 'batch_size': 34, 'embedding_dim': 62, 'units': 317, 'dropout': 0.5, 'n_neurons': 96}\n",
            "Epoch 1/4\n",
            "1090/1090 [==============================] - 26s 21ms/step - loss: 0.1269 - accuracy: 0.7488 - val_loss: 0.0762 - val_accuracy: 0.8501\n",
            "Epoch 2/4\n",
            "1090/1090 [==============================] - 22s 20ms/step - loss: 0.0656 - accuracy: 0.8997 - val_loss: 0.0611 - val_accuracy: 0.8875\n",
            "Epoch 3/4\n",
            "1090/1090 [==============================] - 22s 20ms/step - loss: 0.0448 - accuracy: 0.9403 - val_loss: 0.0587 - val_accuracy: 0.8880\n",
            "Epoch 4/4\n",
            "1090/1090 [==============================] - 22s 20ms/step - loss: 0.0350 - accuracy: 0.9587 - val_loss: 0.0579 - val_accuracy: 0.8875\n"
          ]
        },
        {
          "name": "stderr",
          "output_type": "stream",
          "text": [
            "\u001b[32m[I 2022-04-13 02:26:10,264]\u001b[0m Trial 9 finished with value: 0.8875121474266052 and parameters: {'epochs': 4, 'batch_size': 34, 'embedding_dim': 62, 'units': 317, 'dropout': 0.5, 'n_neurons': 96}. Best is trial 1 with value: 0.897716224193573.\u001b[0m\n"
          ]
        },
        {
          "name": "stdout",
          "output_type": "stream",
          "text": [
            "{'epochs': 2, 'batch_size': 49, 'embedding_dim': 37, 'units': 136, 'dropout': 0.2, 'n_neurons': 128}\n",
            "Epoch 1/2\n",
            "756/756 [==============================] - 13s 12ms/step - loss: 0.1203 - accuracy: 0.7451 - val_loss: 0.0668 - val_accuracy: 0.8749\n",
            "Epoch 2/2\n",
            "756/756 [==============================] - 8s 11ms/step - loss: 0.0532 - accuracy: 0.9116 - val_loss: 0.0550 - val_accuracy: 0.8914\n"
          ]
        },
        {
          "name": "stderr",
          "output_type": "stream",
          "text": [
            "\u001b[32m[I 2022-04-13 02:26:33,702]\u001b[0m Trial 10 finished with value: 0.8913994431495667 and parameters: {'epochs': 2, 'batch_size': 49, 'embedding_dim': 37, 'units': 136, 'dropout': 0.2, 'n_neurons': 128}. Best is trial 1 with value: 0.897716224193573.\u001b[0m\n"
          ]
        },
        {
          "name": "stdout",
          "output_type": "stream",
          "text": [
            "{'epochs': 3, 'batch_size': 48, 'embedding_dim': 44, 'units': 260, 'dropout': 0.30000000000000004, 'n_neurons': 115}\n",
            "Epoch 1/3\n",
            "772/772 [==============================] - 16s 17ms/step - loss: 0.1171 - accuracy: 0.7599 - val_loss: 0.0678 - val_accuracy: 0.8763\n",
            "Epoch 2/3\n",
            "772/772 [==============================] - 12s 15ms/step - loss: 0.0557 - accuracy: 0.9094 - val_loss: 0.0602 - val_accuracy: 0.8817\n",
            "Epoch 3/3\n",
            "772/772 [==============================] - 12s 16ms/step - loss: 0.0370 - accuracy: 0.9467 - val_loss: 0.0608 - val_accuracy: 0.8829\n"
          ]
        },
        {
          "name": "stderr",
          "output_type": "stream",
          "text": [
            "\u001b[32m[I 2022-04-13 02:27:20,235]\u001b[0m Trial 11 finished with value: 0.8828960061073303 and parameters: {'epochs': 3, 'batch_size': 48, 'embedding_dim': 44, 'units': 260, 'dropout': 0.30000000000000004, 'n_neurons': 115}. Best is trial 1 with value: 0.897716224193573.\u001b[0m\n"
          ]
        },
        {
          "name": "stdout",
          "output_type": "stream",
          "text": [
            "{'epochs': 2, 'batch_size': 63, 'embedding_dim': 29, 'units': 145, 'dropout': 0.2, 'n_neurons': 67}\n",
            "Epoch 1/2\n",
            "588/588 [==============================] - 13s 16ms/step - loss: 0.1305 - accuracy: 0.7219 - val_loss: 0.0695 - val_accuracy: 0.8698\n",
            "Epoch 2/2\n",
            "588/588 [==============================] - 8s 14ms/step - loss: 0.0584 - accuracy: 0.9048 - val_loss: 0.0584 - val_accuracy: 0.8916\n"
          ]
        },
        {
          "name": "stderr",
          "output_type": "stream",
          "text": [
            "\u001b[32m[I 2022-04-13 02:27:44,282]\u001b[0m Trial 12 finished with value: 0.8916423916816711 and parameters: {'epochs': 2, 'batch_size': 63, 'embedding_dim': 29, 'units': 145, 'dropout': 0.2, 'n_neurons': 67}. Best is trial 1 with value: 0.897716224193573.\u001b[0m\n"
          ]
        },
        {
          "name": "stdout",
          "output_type": "stream",
          "text": [
            "{'epochs': 3, 'batch_size': 49, 'embedding_dim': 49, 'units': 248, 'dropout': 0.4, 'n_neurons': 108}\n",
            "Epoch 1/3\n",
            "756/756 [==============================] - 16s 16ms/step - loss: 0.1236 - accuracy: 0.7477 - val_loss: 0.0681 - val_accuracy: 0.8768\n",
            "Epoch 2/3\n",
            "756/756 [==============================] - 11s 15ms/step - loss: 0.0601 - accuracy: 0.9058 - val_loss: 0.0566 - val_accuracy: 0.8933\n",
            "Epoch 3/3\n",
            "756/756 [==============================] - 11s 15ms/step - loss: 0.0404 - accuracy: 0.9447 - val_loss: 0.0568 - val_accuracy: 0.8916\n"
          ]
        },
        {
          "name": "stderr",
          "output_type": "stream",
          "text": [
            "\u001b[32m[I 2022-04-13 02:28:25,615]\u001b[0m Trial 13 finished with value: 0.8916423916816711 and parameters: {'epochs': 3, 'batch_size': 49, 'embedding_dim': 49, 'units': 248, 'dropout': 0.4, 'n_neurons': 108}. Best is trial 1 with value: 0.897716224193573.\u001b[0m\n"
          ]
        },
        {
          "name": "stdout",
          "output_type": "stream",
          "text": [
            "{'epochs': 2, 'batch_size': 54, 'embedding_dim': 38, 'units': 317, 'dropout': 0.1, 'n_neurons': 74}\n",
            "Epoch 1/2\n",
            "686/686 [==============================] - 20s 25ms/step - loss: 0.1196 - accuracy: 0.7463 - val_loss: 0.0666 - val_accuracy: 0.8817\n",
            "Epoch 2/2\n",
            "686/686 [==============================] - 16s 23ms/step - loss: 0.0522 - accuracy: 0.9116 - val_loss: 0.0551 - val_accuracy: 0.8994\n"
          ]
        },
        {
          "name": "stderr",
          "output_type": "stream",
          "text": [
            "\u001b[32m[I 2022-04-13 02:29:04,147]\u001b[0m Trial 14 finished with value: 0.8994169235229492 and parameters: {'epochs': 2, 'batch_size': 54, 'embedding_dim': 38, 'units': 317, 'dropout': 0.1, 'n_neurons': 74}. Best is trial 14 with value: 0.8994169235229492.\u001b[0m\n"
          ]
        },
        {
          "name": "stdout",
          "output_type": "stream",
          "text": [
            "{'epochs': 2, 'batch_size': 41, 'embedding_dim': 37, 'units': 501, 'dropout': 0.1, 'n_neurons': 68}\n",
            "Epoch 1/2\n",
            "904/904 [==============================] - 34s 34ms/step - loss: 0.1166 - accuracy: 0.7556 - val_loss: 0.0670 - val_accuracy: 0.8778\n",
            "Epoch 2/2\n",
            "904/904 [==============================] - 30s 33ms/step - loss: 0.0532 - accuracy: 0.9110 - val_loss: 0.0603 - val_accuracy: 0.8844\n"
          ]
        },
        {
          "name": "stderr",
          "output_type": "stream",
          "text": [
            "\u001b[32m[I 2022-04-13 02:30:10,745]\u001b[0m Trial 15 finished with value: 0.884353756904602 and parameters: {'epochs': 2, 'batch_size': 41, 'embedding_dim': 37, 'units': 501, 'dropout': 0.1, 'n_neurons': 68}. Best is trial 14 with value: 0.8994169235229492.\u001b[0m\n"
          ]
        },
        {
          "name": "stdout",
          "output_type": "stream",
          "text": [
            "{'epochs': 2, 'batch_size': 55, 'embedding_dim': 28, 'units': 318, 'dropout': 0.1, 'n_neurons': 68}\n",
            "Epoch 1/2\n",
            "674/674 [==============================] - 20s 24ms/step - loss: 0.1221 - accuracy: 0.7389 - val_loss: 0.0694 - val_accuracy: 0.8673\n",
            "Epoch 2/2\n",
            "674/674 [==============================] - 16s 23ms/step - loss: 0.0546 - accuracy: 0.9089 - val_loss: 0.0586 - val_accuracy: 0.8958\n"
          ]
        },
        {
          "name": "stderr",
          "output_type": "stream",
          "text": [
            "\u001b[32m[I 2022-04-13 02:30:48,738]\u001b[0m Trial 16 finished with value: 0.8957725763320923 and parameters: {'epochs': 2, 'batch_size': 55, 'embedding_dim': 28, 'units': 318, 'dropout': 0.1, 'n_neurons': 68}. Best is trial 14 with value: 0.8994169235229492.\u001b[0m\n"
          ]
        },
        {
          "name": "stdout",
          "output_type": "stream",
          "text": [
            "{'epochs': 2, 'batch_size': 31, 'embedding_dim': 41, 'units': 372, 'dropout': 0.2, 'n_neurons': 80}\n",
            "Epoch 1/2\n",
            "1195/1195 [==============================] - 25s 18ms/step - loss: 0.1173 - accuracy: 0.7609 - val_loss: 0.0620 - val_accuracy: 0.8839\n",
            "Epoch 2/2\n",
            "1195/1195 [==============================] - 21s 18ms/step - loss: 0.0548 - accuracy: 0.9133 - val_loss: 0.0545 - val_accuracy: 0.8950\n"
          ]
        },
        {
          "name": "stderr",
          "output_type": "stream",
          "text": [
            "\u001b[32m[I 2022-04-13 02:31:37,191]\u001b[0m Trial 17 finished with value: 0.8950437307357788 and parameters: {'epochs': 2, 'batch_size': 31, 'embedding_dim': 41, 'units': 372, 'dropout': 0.2, 'n_neurons': 80}. Best is trial 14 with value: 0.8994169235229492.\u001b[0m\n"
          ]
        },
        {
          "name": "stdout",
          "output_type": "stream",
          "text": [
            "{'epochs': 2, 'batch_size': 45, 'embedding_dim': 24, 'units': 291, 'dropout': 0.1, 'n_neurons': 57}\n",
            "Epoch 1/2\n",
            "824/824 [==============================] - 21s 22ms/step - loss: 0.1172 - accuracy: 0.7543 - val_loss: 0.0661 - val_accuracy: 0.8756\n",
            "Epoch 2/2\n",
            "824/824 [==============================] - 17s 21ms/step - loss: 0.0538 - accuracy: 0.9089 - val_loss: 0.0626 - val_accuracy: 0.8805\n"
          ]
        },
        {
          "name": "stderr",
          "output_type": "stream",
          "text": [
            "\u001b[32m[I 2022-04-13 02:32:18,497]\u001b[0m Trial 18 finished with value: 0.8804664611816406 and parameters: {'epochs': 2, 'batch_size': 45, 'embedding_dim': 24, 'units': 291, 'dropout': 0.1, 'n_neurons': 57}. Best is trial 14 with value: 0.8994169235229492.\u001b[0m\n"
          ]
        },
        {
          "name": "stdout",
          "output_type": "stream",
          "text": [
            "{'epochs': 3, 'batch_size': 53, 'embedding_dim': 52, 'units': 332, 'dropout': 0.2, 'n_neurons': 112}\n",
            "Epoch 1/3\n",
            "699/699 [==============================] - 18s 20ms/step - loss: 0.1171 - accuracy: 0.7565 - val_loss: 0.0649 - val_accuracy: 0.8829\n",
            "Epoch 2/3\n",
            "699/699 [==============================] - 13s 19ms/step - loss: 0.0536 - accuracy: 0.9124 - val_loss: 0.0569 - val_accuracy: 0.8936\n",
            "Epoch 3/3\n",
            "699/699 [==============================] - 13s 19ms/step - loss: 0.0344 - accuracy: 0.9492 - val_loss: 0.0559 - val_accuracy: 0.8943\n"
          ]
        },
        {
          "name": "stderr",
          "output_type": "stream",
          "text": [
            "\u001b[32m[I 2022-04-13 02:33:05,231]\u001b[0m Trial 19 finished with value: 0.8943148851394653 and parameters: {'epochs': 3, 'batch_size': 53, 'embedding_dim': 52, 'units': 332, 'dropout': 0.2, 'n_neurons': 112}. Best is trial 14 with value: 0.8994169235229492.\u001b[0m\n"
          ]
        },
        {
          "name": "stdout",
          "output_type": "stream",
          "text": [
            "{'epochs': 2, 'batch_size': 35, 'embedding_dim': 34, 'units': 233, 'dropout': 0.1, 'n_neurons': 73}\n",
            "Epoch 1/2\n",
            "1059/1059 [==============================] - 23s 18ms/step - loss: 0.1138 - accuracy: 0.7613 - val_loss: 0.0677 - val_accuracy: 0.8727\n",
            "Epoch 2/2\n",
            "1059/1059 [==============================] - 19s 18ms/step - loss: 0.0515 - accuracy: 0.9127 - val_loss: 0.0569 - val_accuracy: 0.8890\n"
          ]
        },
        {
          "name": "stderr",
          "output_type": "stream",
          "text": [
            "\u001b[32m[I 2022-04-13 02:33:49,132]\u001b[0m Trial 20 finished with value: 0.888969898223877 and parameters: {'epochs': 2, 'batch_size': 35, 'embedding_dim': 34, 'units': 233, 'dropout': 0.1, 'n_neurons': 73}. Best is trial 14 with value: 0.8994169235229492.\u001b[0m\n"
          ]
        },
        {
          "name": "stdout",
          "output_type": "stream",
          "text": [
            "{'epochs': 2, 'batch_size': 54, 'embedding_dim': 28, 'units': 328, 'dropout': 0.1, 'n_neurons': 62}\n",
            "Epoch 1/2\n",
            "686/686 [==============================] - 17s 20ms/step - loss: 0.1239 - accuracy: 0.7417 - val_loss: 0.0681 - val_accuracy: 0.8824\n",
            "Epoch 2/2\n",
            "686/686 [==============================] - 13s 19ms/step - loss: 0.0546 - accuracy: 0.9081 - val_loss: 0.0609 - val_accuracy: 0.8807\n"
          ]
        },
        {
          "name": "stderr",
          "output_type": "stream",
          "text": [
            "\u001b[32m[I 2022-04-13 02:34:22,273]\u001b[0m Trial 21 finished with value: 0.8807094097137451 and parameters: {'epochs': 2, 'batch_size': 54, 'embedding_dim': 28, 'units': 328, 'dropout': 0.1, 'n_neurons': 62}. Best is trial 14 with value: 0.8994169235229492.\u001b[0m\n"
          ]
        },
        {
          "name": "stdout",
          "output_type": "stream",
          "text": [
            "{'epochs': 2, 'batch_size': 45, 'embedding_dim': 23, 'units': 300, 'dropout': 0.1, 'n_neurons': 75}\n",
            "Epoch 1/2\n",
            "824/824 [==============================] - 18s 18ms/step - loss: 0.1167 - accuracy: 0.7578 - val_loss: 0.0678 - val_accuracy: 0.8778\n",
            "Epoch 2/2\n",
            "824/824 [==============================] - 14s 17ms/step - loss: 0.0534 - accuracy: 0.9097 - val_loss: 0.0585 - val_accuracy: 0.8912\n"
          ]
        },
        {
          "name": "stderr",
          "output_type": "stream",
          "text": [
            "\u001b[32m[I 2022-04-13 02:34:57,495]\u001b[0m Trial 22 finished with value: 0.8911564350128174 and parameters: {'epochs': 2, 'batch_size': 45, 'embedding_dim': 23, 'units': 300, 'dropout': 0.1, 'n_neurons': 75}. Best is trial 14 with value: 0.8994169235229492.\u001b[0m\n"
          ]
        },
        {
          "name": "stdout",
          "output_type": "stream",
          "text": [
            "{'epochs': 2, 'batch_size': 53, 'embedding_dim': 34, 'units': 355, 'dropout': 0.2, 'n_neurons': 87}\n",
            "Epoch 1/2\n",
            "699/699 [==============================] - 21s 26ms/step - loss: 0.1215 - accuracy: 0.7471 - val_loss: 0.0674 - val_accuracy: 0.8814\n",
            "Epoch 2/2\n",
            "699/699 [==============================] - 17s 25ms/step - loss: 0.0553 - accuracy: 0.9095 - val_loss: 0.0562 - val_accuracy: 0.8914\n"
          ]
        },
        {
          "name": "stderr",
          "output_type": "stream",
          "text": [
            "\u001b[32m[I 2022-04-13 02:35:38,859]\u001b[0m Trial 23 finished with value: 0.8913994431495667 and parameters: {'epochs': 2, 'batch_size': 53, 'embedding_dim': 34, 'units': 355, 'dropout': 0.2, 'n_neurons': 87}. Best is trial 14 with value: 0.8994169235229492.\u001b[0m\n"
          ]
        },
        {
          "name": "stdout",
          "output_type": "stream",
          "text": [
            "{'epochs': 3, 'batch_size': 57, 'embedding_dim': 41, 'units': 414, 'dropout': 0.1, 'n_neurons': 86}\n",
            "Epoch 1/3\n",
            "650/650 [==============================] - 22s 30ms/step - loss: 0.1155 - accuracy: 0.7591 - val_loss: 0.0660 - val_accuracy: 0.8751\n",
            "Epoch 2/3\n",
            "650/650 [==============================] - 18s 28ms/step - loss: 0.0511 - accuracy: 0.9142 - val_loss: 0.0585 - val_accuracy: 0.8965\n",
            "Epoch 3/3\n",
            "650/650 [==============================] - 18s 28ms/step - loss: 0.0319 - accuracy: 0.9517 - val_loss: 0.0559 - val_accuracy: 0.8907\n"
          ]
        },
        {
          "name": "stderr",
          "output_type": "stream",
          "text": [
            "\u001b[32m[I 2022-04-13 02:36:41,277]\u001b[0m Trial 24 finished with value: 0.8906705379486084 and parameters: {'epochs': 3, 'batch_size': 57, 'embedding_dim': 41, 'units': 414, 'dropout': 0.1, 'n_neurons': 86}. Best is trial 14 with value: 0.8994169235229492.\u001b[0m\n"
          ]
        },
        {
          "name": "stdout",
          "output_type": "stream",
          "text": [
            "{'epochs': 2, 'batch_size': 45, 'embedding_dim': 23, 'units': 176, 'dropout': 0.2, 'n_neurons': 105}\n",
            "Epoch 1/2\n",
            "824/824 [==============================] - 14s 13ms/step - loss: 0.1197 - accuracy: 0.7462 - val_loss: 0.0642 - val_accuracy: 0.8810\n",
            "Epoch 2/2\n",
            "824/824 [==============================] - 10s 12ms/step - loss: 0.0548 - accuracy: 0.9091 - val_loss: 0.0560 - val_accuracy: 0.8926\n"
          ]
        },
        {
          "name": "stderr",
          "output_type": "stream",
          "text": [
            "\u001b[32m[I 2022-04-13 02:37:07,626]\u001b[0m Trial 25 finished with value: 0.8926141858100891 and parameters: {'epochs': 2, 'batch_size': 45, 'embedding_dim': 23, 'units': 176, 'dropout': 0.2, 'n_neurons': 105}. Best is trial 14 with value: 0.8994169235229492.\u001b[0m\n"
          ]
        },
        {
          "name": "stdout",
          "output_type": "stream",
          "text": [
            "{'epochs': 2, 'batch_size': 51, 'embedding_dim': 41, 'units': 280, 'dropout': 0.1, 'n_neurons': 46}\n",
            "Epoch 1/2\n",
            "727/727 [==============================] - 16s 18ms/step - loss: 0.1185 - accuracy: 0.7511 - val_loss: 0.0666 - val_accuracy: 0.8783\n",
            "Epoch 2/2\n",
            "727/727 [==============================] - 12s 17ms/step - loss: 0.0530 - accuracy: 0.9149 - val_loss: 0.0615 - val_accuracy: 0.8892\n"
          ]
        },
        {
          "name": "stderr",
          "output_type": "stream",
          "text": [
            "\u001b[32m[I 2022-04-13 02:37:38,557]\u001b[0m Trial 26 finished with value: 0.8892128467559814 and parameters: {'epochs': 2, 'batch_size': 51, 'embedding_dim': 41, 'units': 280, 'dropout': 0.1, 'n_neurons': 46}. Best is trial 14 with value: 0.8994169235229492.\u001b[0m\n"
          ]
        },
        {
          "name": "stdout",
          "output_type": "stream",
          "text": [
            "{'epochs': 3, 'batch_size': 58, 'embedding_dim': 32, 'units': 232, 'dropout': 0.30000000000000004, 'n_neurons': 61}\n",
            "Epoch 1/3\n",
            "639/639 [==============================] - 13s 16ms/step - loss: 0.1340 - accuracy: 0.7210 - val_loss: 0.0727 - val_accuracy: 0.8724\n",
            "Epoch 2/3\n",
            "639/639 [==============================] - 9s 15ms/step - loss: 0.0628 - accuracy: 0.9025 - val_loss: 0.0586 - val_accuracy: 0.8931\n",
            "Epoch 3/3\n",
            "639/639 [==============================] - 9s 15ms/step - loss: 0.0424 - accuracy: 0.9427 - val_loss: 0.0589 - val_accuracy: 0.8865\n"
          ]
        },
        {
          "name": "stderr",
          "output_type": "stream",
          "text": [
            "\u001b[32m[I 2022-04-13 02:38:25,587]\u001b[0m Trial 27 finished with value: 0.8865403532981873 and parameters: {'epochs': 3, 'batch_size': 58, 'embedding_dim': 32, 'units': 232, 'dropout': 0.30000000000000004, 'n_neurons': 61}. Best is trial 14 with value: 0.8994169235229492.\u001b[0m\n"
          ]
        },
        {
          "name": "stdout",
          "output_type": "stream",
          "text": [
            "{'epochs': 2, 'batch_size': 61, 'embedding_dim': 8, 'units': 305, 'dropout': 0.1, 'n_neurons': 74}\n",
            "Epoch 1/2\n",
            "608/608 [==============================] - 18s 24ms/step - loss: 0.1470 - accuracy: 0.6788 - val_loss: 0.0746 - val_accuracy: 0.8669\n",
            "Epoch 2/2\n",
            "608/608 [==============================] - 14s 22ms/step - loss: 0.0592 - accuracy: 0.8975 - val_loss: 0.0599 - val_accuracy: 0.8921\n"
          ]
        },
        {
          "name": "stderr",
          "output_type": "stream",
          "text": [
            "\u001b[32m[I 2022-04-13 02:38:59,908]\u001b[0m Trial 28 finished with value: 0.8921282887458801 and parameters: {'epochs': 2, 'batch_size': 61, 'embedding_dim': 8, 'units': 305, 'dropout': 0.1, 'n_neurons': 74}. Best is trial 14 with value: 0.8994169235229492.\u001b[0m\n"
          ]
        },
        {
          "name": "stdout",
          "output_type": "stream",
          "text": [
            "{'epochs': 2, 'batch_size': 46, 'embedding_dim': 25, 'units': 338, 'dropout': 0.4, 'n_neurons': 81}\n",
            "Epoch 1/2\n",
            "806/806 [==============================] - 20s 21ms/step - loss: 0.1292 - accuracy: 0.7336 - val_loss: 0.0719 - val_accuracy: 0.8771\n",
            "Epoch 2/2\n",
            "806/806 [==============================] - 16s 20ms/step - loss: 0.0638 - accuracy: 0.9011 - val_loss: 0.0597 - val_accuracy: 0.8841\n"
          ]
        },
        {
          "name": "stderr",
          "output_type": "stream",
          "text": [
            "\u001b[32m[I 2022-04-13 02:39:46,524]\u001b[0m Trial 29 finished with value: 0.8841108083724976 and parameters: {'epochs': 2, 'batch_size': 46, 'embedding_dim': 25, 'units': 338, 'dropout': 0.4, 'n_neurons': 81}. Best is trial 14 with value: 0.8994169235229492.\u001b[0m\n"
          ]
        },
        {
          "name": "stdout",
          "output_type": "stream",
          "text": [
            "{'epochs': 3, 'batch_size': 27, 'embedding_dim': 18, 'units': 408, 'dropout': 0.2, 'n_neurons': 103}\n",
            "Epoch 1/3\n",
            "1372/1372 [==============================] - 29s 19ms/step - loss: 0.1156 - accuracy: 0.7666 - val_loss: 0.0688 - val_accuracy: 0.8776\n",
            "Epoch 2/3\n",
            "1372/1372 [==============================] - 25s 18ms/step - loss: 0.0557 - accuracy: 0.9079 - val_loss: 0.0558 - val_accuracy: 0.8970\n",
            "Epoch 3/3\n",
            "1372/1372 [==============================] - 25s 18ms/step - loss: 0.0380 - accuracy: 0.9445 - val_loss: 0.0584 - val_accuracy: 0.8943\n"
          ]
        },
        {
          "name": "stderr",
          "output_type": "stream",
          "text": [
            "\u001b[32m[I 2022-04-13 02:41:09,167]\u001b[0m Trial 30 finished with value: 0.8943148851394653 and parameters: {'epochs': 3, 'batch_size': 27, 'embedding_dim': 18, 'units': 408, 'dropout': 0.2, 'n_neurons': 103}. Best is trial 14 with value: 0.8994169235229492.\u001b[0m\n"
          ]
        },
        {
          "name": "stdout",
          "output_type": "stream",
          "text": [
            "{'epochs': 2, 'batch_size': 29, 'embedding_dim': 40, 'units': 381, 'dropout': 0.2, 'n_neurons': 81}\n",
            "Epoch 1/2\n",
            "1278/1278 [==============================] - 34s 24ms/step - loss: 0.1140 - accuracy: 0.7692 - val_loss: 0.0680 - val_accuracy: 0.8683\n",
            "Epoch 2/2\n",
            "1278/1278 [==============================] - 29s 23ms/step - loss: 0.0559 - accuracy: 0.9093 - val_loss: 0.0609 - val_accuracy: 0.8844\n"
          ]
        },
        {
          "name": "stderr",
          "output_type": "stream",
          "text": [
            "\u001b[32m[I 2022-04-13 02:42:14,801]\u001b[0m Trial 31 finished with value: 0.884353756904602 and parameters: {'epochs': 2, 'batch_size': 29, 'embedding_dim': 40, 'units': 381, 'dropout': 0.2, 'n_neurons': 81}. Best is trial 14 with value: 0.8994169235229492.\u001b[0m\n"
          ]
        },
        {
          "name": "stdout",
          "output_type": "stream",
          "text": [
            "{'epochs': 2, 'batch_size': 35, 'embedding_dim': 38, 'units': 268, 'dropout': 0.1, 'n_neurons': 70}\n",
            "Epoch 1/2\n",
            "1059/1059 [==============================] - 20s 16ms/step - loss: 0.1131 - accuracy: 0.7676 - val_loss: 0.0642 - val_accuracy: 0.8802\n",
            "Epoch 2/2\n",
            "1059/1059 [==============================] - 16s 15ms/step - loss: 0.0506 - accuracy: 0.9159 - val_loss: 0.0541 - val_accuracy: 0.8997\n"
          ]
        },
        {
          "name": "stderr",
          "output_type": "stream",
          "text": [
            "\u001b[32m[I 2022-04-13 02:43:01,337]\u001b[0m Trial 32 finished with value: 0.8996598720550537 and parameters: {'epochs': 2, 'batch_size': 35, 'embedding_dim': 38, 'units': 268, 'dropout': 0.1, 'n_neurons': 70}. Best is trial 32 with value: 0.8996598720550537.\u001b[0m\n"
          ]
        },
        {
          "name": "stdout",
          "output_type": "stream",
          "text": [
            "{'epochs': 2, 'batch_size': 38, 'embedding_dim': 45, 'units': 279, 'dropout': 0.1, 'n_neurons': 68}\n",
            "Epoch 1/2\n",
            "975/975 [==============================] - 23s 20ms/step - loss: 0.1118 - accuracy: 0.7689 - val_loss: 0.0641 - val_accuracy: 0.8751\n",
            "Epoch 2/2\n",
            "975/975 [==============================] - 19s 19ms/step - loss: 0.0506 - accuracy: 0.9143 - val_loss: 0.0561 - val_accuracy: 0.8965\n"
          ]
        },
        {
          "name": "stderr",
          "output_type": "stream",
          "text": [
            "\u001b[32m[I 2022-04-13 02:43:48,415]\u001b[0m Trial 33 finished with value: 0.8965014815330505 and parameters: {'epochs': 2, 'batch_size': 38, 'embedding_dim': 45, 'units': 279, 'dropout': 0.1, 'n_neurons': 68}. Best is trial 32 with value: 0.8996598720550537.\u001b[0m\n"
          ]
        },
        {
          "name": "stdout",
          "output_type": "stream",
          "text": [
            "{'epochs': 2, 'batch_size': 36, 'embedding_dim': 46, 'units': 271, 'dropout': 0.1, 'n_neurons': 57}\n",
            "Epoch 1/2\n",
            "1029/1029 [==============================] - 21s 17ms/step - loss: 0.1145 - accuracy: 0.7630 - val_loss: 0.0643 - val_accuracy: 0.8807\n",
            "Epoch 2/2\n",
            "1029/1029 [==============================] - 17s 16ms/step - loss: 0.0521 - accuracy: 0.9140 - val_loss: 0.0560 - val_accuracy: 0.8977\n"
          ]
        },
        {
          "name": "stderr",
          "output_type": "stream",
          "text": [
            "\u001b[32m[I 2022-04-13 02:44:29,440]\u001b[0m Trial 34 finished with value: 0.897716224193573 and parameters: {'epochs': 2, 'batch_size': 36, 'embedding_dim': 46, 'units': 271, 'dropout': 0.1, 'n_neurons': 57}. Best is trial 32 with value: 0.8996598720550537.\u001b[0m\n"
          ]
        },
        {
          "name": "stdout",
          "output_type": "stream",
          "text": [
            "{'epochs': 2, 'batch_size': 41, 'embedding_dim': 49, 'units': 184, 'dropout': 0.1, 'n_neurons': 44}\n",
            "Epoch 1/2\n",
            "904/904 [==============================] - 15s 13ms/step - loss: 0.1209 - accuracy: 0.7515 - val_loss: 0.0658 - val_accuracy: 0.8785\n",
            "Epoch 2/2\n",
            "904/904 [==============================] - 11s 12ms/step - loss: 0.0550 - accuracy: 0.9112 - val_loss: 0.0550 - val_accuracy: 0.8965\n"
          ]
        },
        {
          "name": "stderr",
          "output_type": "stream",
          "text": [
            "\u001b[32m[I 2022-04-13 02:44:57,767]\u001b[0m Trial 35 finished with value: 0.8965014815330505 and parameters: {'epochs': 2, 'batch_size': 41, 'embedding_dim': 49, 'units': 184, 'dropout': 0.1, 'n_neurons': 44}. Best is trial 32 with value: 0.8996598720550537.\u001b[0m\n"
          ]
        },
        {
          "name": "stdout",
          "output_type": "stream",
          "text": [
            "{'epochs': 3, 'batch_size': 22, 'embedding_dim': 38, 'units': 257, 'dropout': 0.1, 'n_neurons': 56}\n",
            "Epoch 1/3\n",
            "1684/1684 [==============================] - 31s 17ms/step - loss: 0.1094 - accuracy: 0.7792 - val_loss: 0.0632 - val_accuracy: 0.8800\n",
            "Epoch 2/3\n",
            "1684/1684 [==============================] - 27s 16ms/step - loss: 0.0515 - accuracy: 0.9110 - val_loss: 0.0597 - val_accuracy: 0.8875\n",
            "Epoch 3/3\n",
            "1684/1684 [==============================] - 27s 16ms/step - loss: 0.0330 - accuracy: 0.9502 - val_loss: 0.0600 - val_accuracy: 0.8863\n"
          ]
        },
        {
          "name": "stderr",
          "output_type": "stream",
          "text": [
            "\u001b[32m[I 2022-04-13 02:47:25,823]\u001b[0m Trial 36 finished with value: 0.8862974047660828 and parameters: {'epochs': 3, 'batch_size': 22, 'embedding_dim': 38, 'units': 257, 'dropout': 0.1, 'n_neurons': 56}. Best is trial 32 with value: 0.8996598720550537.\u001b[0m\n"
          ]
        },
        {
          "name": "stdout",
          "output_type": "stream",
          "text": [
            "{'epochs': 2, 'batch_size': 37, 'embedding_dim': 44, 'units': 233, 'dropout': 0.1, 'n_neurons': 55}\n",
            "Epoch 1/2\n",
            "1002/1002 [==============================] - 22s 19ms/step - loss: 0.1121 - accuracy: 0.7686 - val_loss: 0.0651 - val_accuracy: 0.8802\n",
            "Epoch 2/2\n",
            "1002/1002 [==============================] - 18s 18ms/step - loss: 0.0506 - accuracy: 0.9147 - val_loss: 0.0597 - val_accuracy: 0.8831\n"
          ]
        },
        {
          "name": "stderr",
          "output_type": "stream",
          "text": [
            "\u001b[32m[I 2022-04-13 02:48:12,850]\u001b[0m Trial 37 finished with value: 0.8831389546394348 and parameters: {'epochs': 2, 'batch_size': 37, 'embedding_dim': 44, 'units': 233, 'dropout': 0.1, 'n_neurons': 55}. Best is trial 32 with value: 0.8996598720550537.\u001b[0m\n"
          ]
        },
        {
          "name": "stdout",
          "output_type": "stream",
          "text": [
            "{'epochs': 2, 'batch_size': 31, 'embedding_dim': 53, 'units': 278, 'dropout': 0.2, 'n_neurons': 40}\n",
            "Epoch 1/2\n",
            "1195/1195 [==============================] - 26s 19ms/step - loss: 0.1198 - accuracy: 0.7625 - val_loss: 0.0660 - val_accuracy: 0.8780\n",
            "Epoch 2/2\n",
            "1195/1195 [==============================] - 22s 19ms/step - loss: 0.0582 - accuracy: 0.9113 - val_loss: 0.0563 - val_accuracy: 0.8946\n"
          ]
        },
        {
          "name": "stderr",
          "output_type": "stream",
          "text": [
            "\u001b[32m[I 2022-04-13 02:49:40,357]\u001b[0m Trial 38 finished with value: 0.8945578336715698 and parameters: {'epochs': 2, 'batch_size': 31, 'embedding_dim': 53, 'units': 278, 'dropout': 0.2, 'n_neurons': 40}. Best is trial 32 with value: 0.8996598720550537.\u001b[0m\n"
          ]
        },
        {
          "name": "stdout",
          "output_type": "stream",
          "text": [
            "{'epochs': 3, 'batch_size': 42, 'embedding_dim': 33, 'units': 215, 'dropout': 0.2, 'n_neurons': 52}\n",
            "Epoch 1/3\n",
            "882/882 [==============================] - 19s 18ms/step - loss: 0.1221 - accuracy: 0.7482 - val_loss: 0.0673 - val_accuracy: 0.8797\n",
            "Epoch 2/3\n",
            "882/882 [==============================] - 15s 17ms/step - loss: 0.0564 - accuracy: 0.9102 - val_loss: 0.0585 - val_accuracy: 0.8870\n",
            "Epoch 3/3\n",
            "882/882 [==============================] - 15s 17ms/step - loss: 0.0380 - accuracy: 0.9475 - val_loss: 0.0554 - val_accuracy: 0.8950\n"
          ]
        },
        {
          "name": "stderr",
          "output_type": "stream",
          "text": [
            "\u001b[32m[I 2022-04-13 02:50:31,571]\u001b[0m Trial 39 finished with value: 0.8950437307357788 and parameters: {'epochs': 3, 'batch_size': 42, 'embedding_dim': 33, 'units': 215, 'dropout': 0.2, 'n_neurons': 52}. Best is trial 32 with value: 0.8996598720550537.\u001b[0m\n"
          ]
        },
        {
          "name": "stdout",
          "output_type": "stream",
          "text": [
            "{'epochs': 2, 'batch_size': 34, 'embedding_dim': 57, 'units': 180, 'dropout': 0.1, 'n_neurons': 92}\n",
            "Epoch 1/2\n",
            "1090/1090 [==============================] - 17s 12ms/step - loss: 0.1084 - accuracy: 0.7755 - val_loss: 0.0648 - val_accuracy: 0.8732\n",
            "Epoch 2/2\n",
            "1090/1090 [==============================] - 13s 12ms/step - loss: 0.0480 - accuracy: 0.9192 - val_loss: 0.0571 - val_accuracy: 0.8895\n"
          ]
        },
        {
          "name": "stderr",
          "output_type": "stream",
          "text": [
            "\u001b[32m[I 2022-04-13 02:51:04,116]\u001b[0m Trial 40 finished with value: 0.8894557952880859 and parameters: {'epochs': 2, 'batch_size': 34, 'embedding_dim': 57, 'units': 180, 'dropout': 0.1, 'n_neurons': 92}. Best is trial 32 with value: 0.8996598720550537.\u001b[0m\n"
          ]
        },
        {
          "name": "stdout",
          "output_type": "stream",
          "text": [
            "{'epochs': 2, 'batch_size': 42, 'embedding_dim': 50, 'units': 186, 'dropout': 0.1, 'n_neurons': 46}\n",
            "Epoch 1/2\n",
            "882/882 [==============================] - 15s 14ms/step - loss: 0.1135 - accuracy: 0.7676 - val_loss: 0.0628 - val_accuracy: 0.8839\n",
            "Epoch 2/2\n",
            "882/882 [==============================] - 12s 13ms/step - loss: 0.0519 - accuracy: 0.9148 - val_loss: 0.0544 - val_accuracy: 0.8967\n"
          ]
        },
        {
          "name": "stderr",
          "output_type": "stream",
          "text": [
            "\u001b[32m[I 2022-04-13 02:51:33,621]\u001b[0m Trial 41 finished with value: 0.896744430065155 and parameters: {'epochs': 2, 'batch_size': 42, 'embedding_dim': 50, 'units': 186, 'dropout': 0.1, 'n_neurons': 46}. Best is trial 32 with value: 0.8996598720550537.\u001b[0m\n"
          ]
        },
        {
          "name": "stdout",
          "output_type": "stream",
          "text": [
            "{'epochs': 2, 'batch_size': 37, 'embedding_dim': 48, 'units': 162, 'dropout': 0.1, 'n_neurons': 32}\n",
            "Epoch 1/2\n",
            "1002/1002 [==============================] - 18s 14ms/step - loss: 0.1153 - accuracy: 0.7663 - val_loss: 0.0633 - val_accuracy: 0.8810\n",
            "Epoch 2/2\n",
            "1002/1002 [==============================] - 14s 14ms/step - loss: 0.0520 - accuracy: 0.9167 - val_loss: 0.0579 - val_accuracy: 0.8912\n"
          ]
        },
        {
          "name": "stderr",
          "output_type": "stream",
          "text": [
            "\u001b[32m[I 2022-04-13 02:52:20,690]\u001b[0m Trial 42 finished with value: 0.8911564350128174 and parameters: {'epochs': 2, 'batch_size': 37, 'embedding_dim': 48, 'units': 162, 'dropout': 0.1, 'n_neurons': 32}. Best is trial 32 with value: 0.8996598720550537.\u001b[0m\n"
          ]
        },
        {
          "name": "stdout",
          "output_type": "stream",
          "text": [
            "{'epochs': 2, 'batch_size': 39, 'embedding_dim': 46, 'units': 199, 'dropout': 0.1, 'n_neurons': 61}\n",
            "Epoch 1/2\n",
            "950/950 [==============================] - 20s 17ms/step - loss: 0.1107 - accuracy: 0.7708 - val_loss: 0.0668 - val_accuracy: 0.8778\n",
            "Epoch 2/2\n",
            "950/950 [==============================] - 15s 16ms/step - loss: 0.0507 - accuracy: 0.9137 - val_loss: 0.0605 - val_accuracy: 0.8887\n"
          ]
        },
        {
          "name": "stderr",
          "output_type": "stream",
          "text": [
            "\u001b[32m[I 2022-04-13 02:52:58,188]\u001b[0m Trial 43 finished with value: 0.8887268900871277 and parameters: {'epochs': 2, 'batch_size': 39, 'embedding_dim': 46, 'units': 199, 'dropout': 0.1, 'n_neurons': 61}. Best is trial 32 with value: 0.8996598720550537.\u001b[0m\n"
          ]
        },
        {
          "name": "stdout",
          "output_type": "stream",
          "text": [
            "{'epochs': 2, 'batch_size': 43, 'embedding_dim': 51, 'units': 259, 'dropout': 0.4, 'n_neurons': 50}\n",
            "Epoch 1/2\n",
            "862/862 [==============================] - 21s 20ms/step - loss: 0.1326 - accuracy: 0.7352 - val_loss: 0.0692 - val_accuracy: 0.8793\n",
            "Epoch 2/2\n",
            "862/862 [==============================] - 17s 19ms/step - loss: 0.0662 - accuracy: 0.9016 - val_loss: 0.0604 - val_accuracy: 0.8899\n"
          ]
        },
        {
          "name": "stderr",
          "output_type": "stream",
          "text": [
            "\u001b[32m[I 2022-04-13 02:53:38,177]\u001b[0m Trial 44 finished with value: 0.8899416923522949 and parameters: {'epochs': 2, 'batch_size': 43, 'embedding_dim': 51, 'units': 259, 'dropout': 0.4, 'n_neurons': 50}. Best is trial 32 with value: 0.8996598720550537.\u001b[0m\n"
          ]
        },
        {
          "name": "stdout",
          "output_type": "stream",
          "text": [
            "{'epochs': 2, 'batch_size': 51, 'embedding_dim': 43, 'units': 221, 'dropout': 0.1, 'n_neurons': 39}\n",
            "Epoch 1/2\n",
            "727/727 [==============================] - 17s 19ms/step - loss: 0.1233 - accuracy: 0.7473 - val_loss: 0.0677 - val_accuracy: 0.8836\n",
            "Epoch 2/2\n",
            "727/727 [==============================] - 13s 18ms/step - loss: 0.0551 - accuracy: 0.9106 - val_loss: 0.0572 - val_accuracy: 0.8975\n"
          ]
        },
        {
          "name": "stderr",
          "output_type": "stream",
          "text": [
            "\u001b[32m[I 2022-04-13 02:54:11,080]\u001b[0m Trial 45 finished with value: 0.8974732756614685 and parameters: {'epochs': 2, 'batch_size': 51, 'embedding_dim': 43, 'units': 221, 'dropout': 0.1, 'n_neurons': 39}. Best is trial 32 with value: 0.8996598720550537.\u001b[0m\n"
          ]
        },
        {
          "name": "stdout",
          "output_type": "stream",
          "text": [
            "{'epochs': 2, 'batch_size': 51, 'embedding_dim': 39, 'units': 241, 'dropout': 0.1, 'n_neurons': 98}\n",
            "Epoch 1/2\n",
            "727/727 [==============================] - 17s 20ms/step - loss: 0.1168 - accuracy: 0.7570 - val_loss: 0.0664 - val_accuracy: 0.8785\n",
            "Epoch 2/2\n",
            "727/727 [==============================] - 14s 19ms/step - loss: 0.0516 - accuracy: 0.9116 - val_loss: 0.0564 - val_accuracy: 0.8916\n"
          ]
        },
        {
          "name": "stderr",
          "output_type": "stream",
          "text": [
            "\u001b[32m[I 2022-04-13 02:54:44,619]\u001b[0m Trial 46 finished with value: 0.8916423916816711 and parameters: {'epochs': 2, 'batch_size': 51, 'embedding_dim': 39, 'units': 241, 'dropout': 0.1, 'n_neurons': 98}. Best is trial 32 with value: 0.8996598720550537.\u001b[0m\n"
          ]
        },
        {
          "name": "stdout",
          "output_type": "stream",
          "text": [
            "{'epochs': 4, 'batch_size': 48, 'embedding_dim': 43, 'units': 216, 'dropout': 0.2, 'n_neurons': 78}\n",
            "Epoch 1/4\n",
            "772/772 [==============================] - 14s 15ms/step - loss: 0.1175 - accuracy: 0.7560 - val_loss: 0.0723 - val_accuracy: 0.8676\n",
            "Epoch 2/4\n",
            "772/772 [==============================] - 10s 13ms/step - loss: 0.0534 - accuracy: 0.9121 - val_loss: 0.0567 - val_accuracy: 0.8919\n",
            "Epoch 3/4\n",
            "772/772 [==============================] - 10s 13ms/step - loss: 0.0353 - accuracy: 0.9480 - val_loss: 0.0557 - val_accuracy: 0.8950\n",
            "Epoch 4/4\n",
            "772/772 [==============================] - 10s 13ms/step - loss: 0.0268 - accuracy: 0.9631 - val_loss: 0.0559 - val_accuracy: 0.8926\n"
          ]
        },
        {
          "name": "stderr",
          "output_type": "stream",
          "text": [
            "\u001b[32m[I 2022-04-13 02:55:33,276]\u001b[0m Trial 47 finished with value: 0.8926141858100891 and parameters: {'epochs': 4, 'batch_size': 48, 'embedding_dim': 43, 'units': 216, 'dropout': 0.2, 'n_neurons': 78}. Best is trial 32 with value: 0.8996598720550537.\u001b[0m\n"
          ]
        },
        {
          "name": "stdout",
          "output_type": "stream",
          "text": [
            "{'epochs': 2, 'batch_size': 57, 'embedding_dim': 35, 'units': 268, 'dropout': 0.1, 'n_neurons': 40}\n",
            "Epoch 1/2\n",
            "650/650 [==============================] - 15s 18ms/step - loss: 0.1211 - accuracy: 0.7466 - val_loss: 0.0664 - val_accuracy: 0.8858\n",
            "Epoch 2/2\n",
            "650/650 [==============================] - 11s 17ms/step - loss: 0.0551 - accuracy: 0.9115 - val_loss: 0.0551 - val_accuracy: 0.8989\n"
          ]
        },
        {
          "name": "stderr",
          "output_type": "stream",
          "text": [
            "\u001b[32m[I 2022-04-13 02:56:02,221]\u001b[0m Trial 48 finished with value: 0.8989310264587402 and parameters: {'epochs': 2, 'batch_size': 57, 'embedding_dim': 35, 'units': 268, 'dropout': 0.1, 'n_neurons': 40}. Best is trial 32 with value: 0.8996598720550537.\u001b[0m\n"
          ]
        },
        {
          "name": "stdout",
          "output_type": "stream",
          "text": [
            "{'epochs': 2, 'batch_size': 57, 'embedding_dim': 36, 'units': 302, 'dropout': 0.2, 'n_neurons': 64}\n",
            "Epoch 1/2\n",
            "650/650 [==============================] - 17s 22ms/step - loss: 0.1230 - accuracy: 0.7477 - val_loss: 0.0682 - val_accuracy: 0.8773\n",
            "Epoch 2/2\n",
            "650/650 [==============================] - 13s 21ms/step - loss: 0.0572 - accuracy: 0.9094 - val_loss: 0.0580 - val_accuracy: 0.8904\n"
          ]
        },
        {
          "name": "stderr",
          "output_type": "stream",
          "text": [
            "\u001b[32m[I 2022-04-13 02:56:35,695]\u001b[0m Trial 49 finished with value: 0.8904275894165039 and parameters: {'epochs': 2, 'batch_size': 57, 'embedding_dim': 36, 'units': 302, 'dropout': 0.2, 'n_neurons': 64}. Best is trial 32 with value: 0.8996598720550537.\u001b[0m\n"
          ]
        },
        {
          "name": "stdout",
          "output_type": "stream",
          "text": [
            "{'epochs': 3, 'batch_size': 60, 'embedding_dim': 31, 'units': 267, 'dropout': 0.1, 'n_neurons': 121}\n",
            "Epoch 1/3\n",
            "618/618 [==============================] - 15s 19ms/step - loss: 0.1191 - accuracy: 0.7438 - val_loss: 0.0629 - val_accuracy: 0.8844\n",
            "Epoch 2/3\n",
            "618/618 [==============================] - 11s 18ms/step - loss: 0.0512 - accuracy: 0.9107 - val_loss: 0.0543 - val_accuracy: 0.8970\n",
            "Epoch 3/3\n",
            "618/618 [==============================] - 11s 18ms/step - loss: 0.0324 - accuracy: 0.9497 - val_loss: 0.0567 - val_accuracy: 0.8950\n"
          ]
        },
        {
          "name": "stderr",
          "output_type": "stream",
          "text": [
            "\u001b[32m[I 2022-04-13 02:57:16,318]\u001b[0m Trial 50 finished with value: 0.8950437307357788 and parameters: {'epochs': 3, 'batch_size': 60, 'embedding_dim': 31, 'units': 267, 'dropout': 0.1, 'n_neurons': 121}. Best is trial 32 with value: 0.8996598720550537.\u001b[0m\n"
          ]
        },
        {
          "name": "stdout",
          "output_type": "stream",
          "text": [
            "{'epochs': 2, 'batch_size': 51, 'embedding_dim': 37, 'units': 250, 'dropout': 0.1, 'n_neurons': 39}\n",
            "Epoch 1/2\n",
            "727/727 [==============================] - 17s 19ms/step - loss: 0.1309 - accuracy: 0.7187 - val_loss: 0.0702 - val_accuracy: 0.8727\n",
            "Epoch 2/2\n",
            "727/727 [==============================] - 13s 18ms/step - loss: 0.0570 - accuracy: 0.9071 - val_loss: 0.0570 - val_accuracy: 0.8933\n"
          ]
        },
        {
          "name": "stderr",
          "output_type": "stream",
          "text": [
            "\u001b[32m[I 2022-04-13 02:57:49,172]\u001b[0m Trial 51 finished with value: 0.8933430314064026 and parameters: {'epochs': 2, 'batch_size': 51, 'embedding_dim': 37, 'units': 250, 'dropout': 0.1, 'n_neurons': 39}. Best is trial 32 with value: 0.8996598720550537.\u001b[0m\n"
          ]
        },
        {
          "name": "stdout",
          "output_type": "stream",
          "text": [
            "{'epochs': 2, 'batch_size': 33, 'embedding_dim': 35, 'units': 292, 'dropout': 0.1, 'n_neurons': 36}\n",
            "Epoch 1/2\n",
            "1123/1123 [==============================] - 22s 17ms/step - loss: 0.1169 - accuracy: 0.7608 - val_loss: 0.0660 - val_accuracy: 0.8768\n",
            "Epoch 2/2\n",
            "1123/1123 [==============================] - 18s 16ms/step - loss: 0.0547 - accuracy: 0.9100 - val_loss: 0.0587 - val_accuracy: 0.8885\n"
          ]
        },
        {
          "name": "stderr",
          "output_type": "stream",
          "text": [
            "\u001b[32m[I 2022-04-13 02:58:31,576]\u001b[0m Trial 52 finished with value: 0.8884839415550232 and parameters: {'epochs': 2, 'batch_size': 33, 'embedding_dim': 35, 'units': 292, 'dropout': 0.1, 'n_neurons': 36}. Best is trial 32 with value: 0.8996598720550537.\u001b[0m\n"
          ]
        },
        {
          "name": "stdout",
          "output_type": "stream",
          "text": [
            "{'epochs': 2, 'batch_size': 64, 'embedding_dim': 43, 'units': 348, 'dropout': 0.1, 'n_neurons': 40}\n",
            "Epoch 1/2\n",
            "579/579 [==============================] - 16s 22ms/step - loss: 0.1268 - accuracy: 0.7330 - val_loss: 0.0676 - val_accuracy: 0.8780\n",
            "Epoch 2/2\n",
            "579/579 [==============================] - 12s 21ms/step - loss: 0.0562 - accuracy: 0.9098 - val_loss: 0.0585 - val_accuracy: 0.8904\n"
          ]
        },
        {
          "name": "stderr",
          "output_type": "stream",
          "text": [
            "\u001b[32m[I 2022-04-13 02:59:18,701]\u001b[0m Trial 53 finished with value: 0.8904275894165039 and parameters: {'epochs': 2, 'batch_size': 64, 'embedding_dim': 43, 'units': 348, 'dropout': 0.1, 'n_neurons': 40}. Best is trial 32 with value: 0.8996598720550537.\u001b[0m\n"
          ]
        },
        {
          "name": "stdout",
          "output_type": "stream",
          "text": [
            "{'epochs': 2, 'batch_size': 47, 'embedding_dim': 47, 'units': 314, 'dropout': 0.1, 'n_neurons': 71}\n",
            "Epoch 1/2\n",
            "789/789 [==============================] - 21s 22ms/step - loss: 0.1165 - accuracy: 0.7570 - val_loss: 0.0663 - val_accuracy: 0.8812\n",
            "Epoch 2/2\n",
            "789/789 [==============================] - 16s 21ms/step - loss: 0.0529 - accuracy: 0.9115 - val_loss: 0.0562 - val_accuracy: 0.8897\n"
          ]
        },
        {
          "name": "stderr",
          "output_type": "stream",
          "text": [
            "\u001b[32m[I 2022-04-13 02:59:58,690]\u001b[0m Trial 54 finished with value: 0.8896987438201904 and parameters: {'epochs': 2, 'batch_size': 47, 'embedding_dim': 47, 'units': 314, 'dropout': 0.1, 'n_neurons': 71}. Best is trial 32 with value: 0.8996598720550537.\u001b[0m\n"
          ]
        },
        {
          "name": "stdout",
          "output_type": "stream",
          "text": [
            "{'epochs': 2, 'batch_size': 56, 'embedding_dim': 39, 'units': 222, 'dropout': 0.1, 'n_neurons': 43}\n",
            "Epoch 1/2\n",
            "662/662 [==============================] - 14s 17ms/step - loss: 0.1177 - accuracy: 0.7587 - val_loss: 0.0676 - val_accuracy: 0.8783\n",
            "Epoch 2/2\n",
            "662/662 [==============================] - 11s 16ms/step - loss: 0.0526 - accuracy: 0.9134 - val_loss: 0.0590 - val_accuracy: 0.8878\n"
          ]
        },
        {
          "name": "stderr",
          "output_type": "stream",
          "text": [
            "\u001b[32m[I 2022-04-13 03:00:26,266]\u001b[0m Trial 55 finished with value: 0.8877550959587097 and parameters: {'epochs': 2, 'batch_size': 56, 'embedding_dim': 39, 'units': 222, 'dropout': 0.1, 'n_neurons': 43}. Best is trial 32 with value: 0.8996598720550537.\u001b[0m\n"
          ]
        },
        {
          "name": "stdout",
          "output_type": "stream",
          "text": [
            "{'epochs': 2, 'batch_size': 60, 'embedding_dim': 42, 'units': 269, 'dropout': 0.1, 'n_neurons': 35}\n",
            "Epoch 1/2\n",
            "618/618 [==============================] - 15s 20ms/step - loss: 0.1225 - accuracy: 0.7455 - val_loss: 0.0656 - val_accuracy: 0.8785\n",
            "Epoch 2/2\n",
            "618/618 [==============================] - 11s 18ms/step - loss: 0.0544 - accuracy: 0.9113 - val_loss: 0.0556 - val_accuracy: 0.8926\n"
          ]
        },
        {
          "name": "stderr",
          "output_type": "stream",
          "text": [
            "\u001b[32m[I 2022-04-13 03:00:56,212]\u001b[0m Trial 56 finished with value: 0.8926141858100891 and parameters: {'epochs': 2, 'batch_size': 60, 'embedding_dim': 42, 'units': 269, 'dropout': 0.1, 'n_neurons': 35}. Best is trial 32 with value: 0.8996598720550537.\u001b[0m\n"
          ]
        },
        {
          "name": "stdout",
          "output_type": "stream",
          "text": [
            "{'epochs': 2, 'batch_size': 53, 'embedding_dim': 26, 'units': 203, 'dropout': 0.2, 'n_neurons': 85}\n",
            "Epoch 1/2\n",
            "699/699 [==============================] - 16s 18ms/step - loss: 0.1255 - accuracy: 0.7345 - val_loss: 0.0738 - val_accuracy: 0.8588\n",
            "Epoch 2/2\n",
            "699/699 [==============================] - 12s 17ms/step - loss: 0.0561 - accuracy: 0.9087 - val_loss: 0.0632 - val_accuracy: 0.8773\n"
          ]
        },
        {
          "name": "stderr",
          "output_type": "stream",
          "text": [
            "\u001b[32m[I 2022-04-13 03:01:26,769]\u001b[0m Trial 57 finished with value: 0.8773080706596375 and parameters: {'epochs': 2, 'batch_size': 53, 'embedding_dim': 26, 'units': 203, 'dropout': 0.2, 'n_neurons': 85}. Best is trial 32 with value: 0.8996598720550537.\u001b[0m\n"
          ]
        },
        {
          "name": "stdout",
          "output_type": "stream",
          "text": [
            "{'epochs': 2, 'batch_size': 50, 'embedding_dim': 30, 'units': 287, 'dropout': 0.1, 'n_neurons': 91}\n",
            "Epoch 1/2\n",
            "741/741 [==============================] - 19s 21ms/step - loss: 0.1162 - accuracy: 0.7549 - val_loss: 0.0661 - val_accuracy: 0.8788\n",
            "Epoch 2/2\n",
            "741/741 [==============================] - 15s 20ms/step - loss: 0.0513 - accuracy: 0.9117 - val_loss: 0.0579 - val_accuracy: 0.8943\n"
          ]
        },
        {
          "name": "stderr",
          "output_type": "stream",
          "text": [
            "\u001b[32m[I 2022-04-13 03:02:03,415]\u001b[0m Trial 58 finished with value: 0.8943148851394653 and parameters: {'epochs': 2, 'batch_size': 50, 'embedding_dim': 30, 'units': 287, 'dropout': 0.1, 'n_neurons': 91}. Best is trial 32 with value: 0.8996598720550537.\u001b[0m\n"
          ]
        },
        {
          "name": "stdout",
          "output_type": "stream",
          "text": [
            "{'epochs': 2, 'batch_size': 55, 'embedding_dim': 36, 'units': 503, 'dropout': 0.1, 'n_neurons': 50}\n",
            "Epoch 1/2\n",
            "674/674 [==============================] - 27s 35ms/step - loss: 0.1201 - accuracy: 0.7492 - val_loss: 0.0705 - val_accuracy: 0.8763\n",
            "Epoch 2/2\n",
            "674/674 [==============================] - 23s 34ms/step - loss: 0.0544 - accuracy: 0.9103 - val_loss: 0.0614 - val_accuracy: 0.8778\n"
          ]
        },
        {
          "name": "stderr",
          "output_type": "stream",
          "text": [
            "\u001b[32m[I 2022-04-13 03:02:56,735]\u001b[0m Trial 59 finished with value: 0.8777939677238464 and parameters: {'epochs': 2, 'batch_size': 55, 'embedding_dim': 36, 'units': 503, 'dropout': 0.1, 'n_neurons': 50}. Best is trial 32 with value: 0.8996598720550537.\u001b[0m\n"
          ]
        },
        {
          "name": "stdout",
          "output_type": "stream",
          "text": [
            "Number of finished trials:  60\n",
            "Best value: 0.8996598720550537\n",
            "Best params: {'epochs': 2, 'batch_size': 35, 'embedding_dim': 38, 'units': 268, 'dropout': 0.1, 'n_neurons': 70}\n",
            "time: 49min 18s (started: 2022-04-13 02:13:38 +00:00)\n"
          ]
        }
      ],
      "source": [
        "opt.optisearch(X_train=X_train, y_train=y_train, y_test=y_test, n_trials=60)"
      ]
    },
    {
      "cell_type": "code",
      "execution_count": null,
      "metadata": {
        "colab": {
          "base_uri": "https://localhost:8080/"
        },
        "id": "sFbtZMJATdHY",
        "outputId": "e7bb81e6-3fda-4e1d-d130-f1b87eaff5c3"
      },
      "outputs": [
        {
          "name": "stderr",
          "output_type": "stream",
          "text": [
            "\u001b[32m[I 2022-04-13 04:20:40,008]\u001b[0m A new study created in memory with name: no-name-57fab915-6d3e-4d2e-960a-1bc644ec0fe0\u001b[0m\n"
          ]
        },
        {
          "name": "stdout",
          "output_type": "stream",
          "text": [
            "{'epochs': 3, 'batch_size': 24, 'embedding_dim': 24, 'units': 263, 'dropout': 0.4, 'n_neurons': 78}\n",
            "Epoch 1/3\n",
            "1544/1544 [==============================] - 27s 15ms/step - loss: 0.1240 - accuracy: 0.7501 - val_loss: 0.0704 - val_accuracy: 0.8669\n",
            "Epoch 2/3\n",
            "1544/1544 [==============================] - 23s 15ms/step - loss: 0.0637 - accuracy: 0.8986 - val_loss: 0.0579 - val_accuracy: 0.8938\n",
            "Epoch 3/3\n",
            "1544/1544 [==============================] - 22s 15ms/step - loss: 0.0442 - accuracy: 0.9385 - val_loss: 0.0568 - val_accuracy: 0.8921\n"
          ]
        },
        {
          "name": "stderr",
          "output_type": "stream",
          "text": [
            "\u001b[32m[I 2022-04-13 04:21:55,089]\u001b[0m Trial 0 finished with value: 0.8921282887458801 and parameters: {'epochs': 3, 'batch_size': 24, 'embedding_dim': 24, 'units': 263, 'dropout': 0.4, 'n_neurons': 78}. Best is trial 0 with value: 0.8921282887458801.\u001b[0m\n"
          ]
        },
        {
          "name": "stdout",
          "output_type": "stream",
          "text": [
            "{'epochs': 2, 'batch_size': 28, 'embedding_dim': 26, 'units': 219, 'dropout': 0.30000000000000004, 'n_neurons': 115}\n",
            "Epoch 1/2\n",
            "1323/1323 [==============================] - 22s 14ms/step - loss: 0.1190 - accuracy: 0.7559 - val_loss: 0.0669 - val_accuracy: 0.8795\n",
            "Epoch 2/2\n",
            "1323/1323 [==============================] - 18s 13ms/step - loss: 0.0571 - accuracy: 0.9070 - val_loss: 0.0554 - val_accuracy: 0.8989\n"
          ]
        },
        {
          "name": "stderr",
          "output_type": "stream",
          "text": [
            "\u001b[32m[I 2022-04-13 04:22:37,506]\u001b[0m Trial 1 finished with value: 0.8989310264587402 and parameters: {'epochs': 2, 'batch_size': 28, 'embedding_dim': 26, 'units': 219, 'dropout': 0.30000000000000004, 'n_neurons': 115}. Best is trial 1 with value: 0.8989310264587402.\u001b[0m\n"
          ]
        },
        {
          "name": "stdout",
          "output_type": "stream",
          "text": [
            "{'epochs': 3, 'batch_size': 36, 'embedding_dim': 28, 'units': 284, 'dropout': 0.5, 'n_neurons': 103}\n",
            "Epoch 1/3\n",
            "1029/1029 [==============================] - 20s 16ms/step - loss: 0.1297 - accuracy: 0.7362 - val_loss: 0.0709 - val_accuracy: 0.8751\n",
            "Epoch 2/3\n",
            "1029/1029 [==============================] - 16s 15ms/step - loss: 0.0664 - accuracy: 0.8980 - val_loss: 0.0582 - val_accuracy: 0.8875\n",
            "Epoch 3/3\n",
            "1029/1029 [==============================] - 16s 15ms/step - loss: 0.0510 - accuracy: 0.9317 - val_loss: 0.0558 - val_accuracy: 0.8924\n"
          ]
        },
        {
          "name": "stderr",
          "output_type": "stream",
          "text": [
            "\u001b[32m[I 2022-04-13 04:24:05,048]\u001b[0m Trial 2 finished with value: 0.8923712372779846 and parameters: {'epochs': 3, 'batch_size': 36, 'embedding_dim': 28, 'units': 284, 'dropout': 0.5, 'n_neurons': 103}. Best is trial 1 with value: 0.8989310264587402.\u001b[0m\n"
          ]
        },
        {
          "name": "stdout",
          "output_type": "stream",
          "text": [
            "{'epochs': 2, 'batch_size': 30, 'embedding_dim': 27, 'units': 255, 'dropout': 0.4, 'n_neurons': 42}\n",
            "Epoch 1/2\n",
            "1235/1235 [==============================] - 26s 18ms/step - loss: 0.1339 - accuracy: 0.7305 - val_loss: 0.0701 - val_accuracy: 0.8737\n",
            "Epoch 2/2\n",
            "1235/1235 [==============================] - 21s 17ms/step - loss: 0.0691 - accuracy: 0.8960 - val_loss: 0.0615 - val_accuracy: 0.8858\n"
          ]
        },
        {
          "name": "stderr",
          "output_type": "stream",
          "text": [
            "\u001b[32m[I 2022-04-13 04:24:54,225]\u001b[0m Trial 3 finished with value: 0.885811448097229 and parameters: {'epochs': 2, 'batch_size': 30, 'embedding_dim': 27, 'units': 255, 'dropout': 0.4, 'n_neurons': 42}. Best is trial 1 with value: 0.8989310264587402.\u001b[0m\n"
          ]
        },
        {
          "name": "stdout",
          "output_type": "stream",
          "text": [
            "{'epochs': 3, 'batch_size': 33, 'embedding_dim': 21, 'units': 267, 'dropout': 0.5, 'n_neurons': 109}\n",
            "Epoch 1/3\n",
            "1123/1123 [==============================] - 25s 19ms/step - loss: 0.1294 - accuracy: 0.7358 - val_loss: 0.0671 - val_accuracy: 0.8785\n",
            "Epoch 2/3\n",
            "1123/1123 [==============================] - 21s 19ms/step - loss: 0.0654 - accuracy: 0.8976 - val_loss: 0.0591 - val_accuracy: 0.8897\n",
            "Epoch 3/3\n",
            "1123/1123 [==============================] - 21s 19ms/step - loss: 0.0456 - accuracy: 0.9363 - val_loss: 0.0615 - val_accuracy: 0.8858\n"
          ]
        },
        {
          "name": "stderr",
          "output_type": "stream",
          "text": [
            "\u001b[32m[I 2022-04-13 04:26:03,756]\u001b[0m Trial 4 finished with value: 0.885811448097229 and parameters: {'epochs': 3, 'batch_size': 33, 'embedding_dim': 21, 'units': 267, 'dropout': 0.5, 'n_neurons': 109}. Best is trial 1 with value: 0.8989310264587402.\u001b[0m\n"
          ]
        },
        {
          "name": "stdout",
          "output_type": "stream",
          "text": [
            "{'epochs': 3, 'batch_size': 30, 'embedding_dim': 30, 'units': 200, 'dropout': 0.1, 'n_neurons': 77}\n",
            "Epoch 1/3\n",
            "1235/1235 [==============================] - 19s 12ms/step - loss: 0.1106 - accuracy: 0.7713 - val_loss: 0.0663 - val_accuracy: 0.8802\n",
            "Epoch 2/3\n",
            "1235/1235 [==============================] - 15s 12ms/step - loss: 0.0503 - accuracy: 0.9159 - val_loss: 0.0571 - val_accuracy: 0.8909\n",
            "Epoch 3/3\n",
            "1235/1235 [==============================] - 15s 12ms/step - loss: 0.0324 - accuracy: 0.9507 - val_loss: 0.0565 - val_accuracy: 0.8931\n"
          ]
        },
        {
          "name": "stderr",
          "output_type": "stream",
          "text": [
            "\u001b[32m[I 2022-04-13 04:26:54,569]\u001b[0m Trial 5 finished with value: 0.8931000828742981 and parameters: {'epochs': 3, 'batch_size': 30, 'embedding_dim': 30, 'units': 200, 'dropout': 0.1, 'n_neurons': 77}. Best is trial 1 with value: 0.8989310264587402.\u001b[0m\n"
          ]
        },
        {
          "name": "stdout",
          "output_type": "stream",
          "text": [
            "{'epochs': 2, 'batch_size': 34, 'embedding_dim': 23, 'units': 242, 'dropout': 0.30000000000000004, 'n_neurons': 120}\n",
            "Epoch 1/2\n",
            "1090/1090 [==============================] - 21s 16ms/step - loss: 0.1195 - accuracy: 0.7557 - val_loss: 0.0676 - val_accuracy: 0.8698\n",
            "Epoch 2/2\n",
            "1090/1090 [==============================] - 17s 15ms/step - loss: 0.0577 - accuracy: 0.9048 - val_loss: 0.0587 - val_accuracy: 0.8885\n"
          ]
        },
        {
          "name": "stderr",
          "output_type": "stream",
          "text": [
            "\u001b[32m[I 2022-04-13 04:27:34,818]\u001b[0m Trial 6 finished with value: 0.8884839415550232 and parameters: {'epochs': 2, 'batch_size': 34, 'embedding_dim': 23, 'units': 242, 'dropout': 0.30000000000000004, 'n_neurons': 120}. Best is trial 1 with value: 0.8989310264587402.\u001b[0m\n"
          ]
        },
        {
          "name": "stdout",
          "output_type": "stream",
          "text": [
            "{'epochs': 2, 'batch_size': 25, 'embedding_dim': 30, 'units': 236, 'dropout': 0.2, 'n_neurons': 42}\n",
            "Epoch 1/2\n",
            "1482/1482 [==============================] - 23s 13ms/step - loss: 0.1170 - accuracy: 0.7637 - val_loss: 0.0642 - val_accuracy: 0.8839\n",
            "Epoch 2/2\n",
            "1482/1482 [==============================] - 18s 12ms/step - loss: 0.0567 - accuracy: 0.9106 - val_loss: 0.0575 - val_accuracy: 0.8933\n"
          ]
        },
        {
          "name": "stderr",
          "output_type": "stream",
          "text": [
            "\u001b[32m[I 2022-04-13 04:28:18,369]\u001b[0m Trial 7 finished with value: 0.8933430314064026 and parameters: {'epochs': 2, 'batch_size': 25, 'embedding_dim': 30, 'units': 236, 'dropout': 0.2, 'n_neurons': 42}. Best is trial 1 with value: 0.8989310264587402.\u001b[0m\n"
          ]
        },
        {
          "name": "stdout",
          "output_type": "stream",
          "text": [
            "{'epochs': 2, 'batch_size': 39, 'embedding_dim': 31, 'units': 281, 'dropout': 0.1, 'n_neurons': 61}\n",
            "Epoch 1/2\n",
            "950/950 [==============================] - 23s 21ms/step - loss: 0.1176 - accuracy: 0.7548 - val_loss: 0.0639 - val_accuracy: 0.8819\n",
            "Epoch 2/2\n",
            "950/950 [==============================] - 19s 20ms/step - loss: 0.0522 - accuracy: 0.9129 - val_loss: 0.0565 - val_accuracy: 0.8943\n"
          ]
        },
        {
          "name": "stderr",
          "output_type": "stream",
          "text": [
            "\u001b[32m[I 2022-04-13 04:29:03,830]\u001b[0m Trial 8 finished with value: 0.8943148851394653 and parameters: {'epochs': 2, 'batch_size': 39, 'embedding_dim': 31, 'units': 281, 'dropout': 0.1, 'n_neurons': 61}. Best is trial 1 with value: 0.8989310264587402.\u001b[0m\n"
          ]
        },
        {
          "name": "stdout",
          "output_type": "stream",
          "text": [
            "{'epochs': 2, 'batch_size': 25, 'embedding_dim': 38, 'units': 273, 'dropout': 0.4, 'n_neurons': 48}\n",
            "Epoch 1/2\n",
            "1482/1482 [==============================] - 31s 19ms/step - loss: 0.1271 - accuracy: 0.7493 - val_loss: 0.0690 - val_accuracy: 0.8797\n",
            "Epoch 2/2\n",
            "1482/1482 [==============================] - 27s 18ms/step - loss: 0.0659 - accuracy: 0.9012 - val_loss: 0.0586 - val_accuracy: 0.8885\n"
          ]
        },
        {
          "name": "stderr",
          "output_type": "stream",
          "text": [
            "\u001b[32m[I 2022-04-13 04:30:31,858]\u001b[0m Trial 9 finished with value: 0.8884839415550232 and parameters: {'epochs': 2, 'batch_size': 25, 'embedding_dim': 38, 'units': 273, 'dropout': 0.4, 'n_neurons': 48}. Best is trial 1 with value: 0.8989310264587402.\u001b[0m\n"
          ]
        },
        {
          "name": "stdout",
          "output_type": "stream",
          "text": [
            "{'epochs': 2, 'batch_size': 20, 'embedding_dim': 36, 'units': 213, 'dropout': 0.2, 'n_neurons': 126}\n",
            "Epoch 1/2\n",
            "1853/1853 [==============================] - 27s 13ms/step - loss: 0.1087 - accuracy: 0.7776 - val_loss: 0.0642 - val_accuracy: 0.8805\n",
            "Epoch 2/2\n",
            "1853/1853 [==============================] - 23s 13ms/step - loss: 0.0514 - accuracy: 0.9149 - val_loss: 0.0570 - val_accuracy: 0.8870\n"
          ]
        },
        {
          "name": "stderr",
          "output_type": "stream",
          "text": [
            "\u001b[32m[I 2022-04-13 04:31:24,994]\u001b[0m Trial 10 finished with value: 0.8870262503623962 and parameters: {'epochs': 2, 'batch_size': 20, 'embedding_dim': 36, 'units': 213, 'dropout': 0.2, 'n_neurons': 126}. Best is trial 1 with value: 0.8989310264587402.\u001b[0m\n"
          ]
        },
        {
          "name": "stdout",
          "output_type": "stream",
          "text": [
            "{'epochs': 2, 'batch_size': 40, 'embedding_dim': 35, 'units': 299, 'dropout': 0.1, 'n_neurons': 60}\n",
            "Epoch 1/2\n",
            "927/927 [==============================] - 21s 19ms/step - loss: 0.1144 - accuracy: 0.7630 - val_loss: 0.0630 - val_accuracy: 0.8834\n",
            "Epoch 2/2\n",
            "927/927 [==============================] - 17s 18ms/step - loss: 0.0513 - accuracy: 0.9149 - val_loss: 0.0643 - val_accuracy: 0.8851\n"
          ]
        },
        {
          "name": "stderr",
          "output_type": "stream",
          "text": [
            "\u001b[32m[I 2022-04-13 04:32:06,002]\u001b[0m Trial 11 finished with value: 0.8850826025009155 and parameters: {'epochs': 2, 'batch_size': 40, 'embedding_dim': 35, 'units': 299, 'dropout': 0.1, 'n_neurons': 60}. Best is trial 1 with value: 0.8989310264587402.\u001b[0m\n"
          ]
        },
        {
          "name": "stdout",
          "output_type": "stream",
          "text": [
            "{'epochs': 2, 'batch_size': 39, 'embedding_dim': 33, 'units': 225, 'dropout': 0.2, 'n_neurons': 98}\n",
            "Epoch 1/2\n",
            "950/950 [==============================] - 21s 19ms/step - loss: 0.1167 - accuracy: 0.7587 - val_loss: 0.0642 - val_accuracy: 0.8810\n",
            "Epoch 2/2\n",
            "950/950 [==============================] - 17s 18ms/step - loss: 0.0540 - accuracy: 0.9105 - val_loss: 0.0583 - val_accuracy: 0.8921\n"
          ]
        },
        {
          "name": "stderr",
          "output_type": "stream",
          "text": [
            "\u001b[32m[I 2022-04-13 04:32:46,265]\u001b[0m Trial 12 finished with value: 0.8921282887458801 and parameters: {'epochs': 2, 'batch_size': 39, 'embedding_dim': 33, 'units': 225, 'dropout': 0.2, 'n_neurons': 98}. Best is trial 1 with value: 0.8989310264587402.\u001b[0m\n"
          ]
        },
        {
          "name": "stdout",
          "output_type": "stream",
          "text": [
            "{'epochs': 2, 'batch_size': 30, 'embedding_dim': 26, 'units': 288, 'dropout': 0.30000000000000004, 'n_neurons': 63}\n",
            "Epoch 1/2\n",
            "1235/1235 [==============================] - 21s 15ms/step - loss: 0.1201 - accuracy: 0.7612 - val_loss: 0.0744 - val_accuracy: 0.8671\n",
            "Epoch 2/2\n",
            "1235/1235 [==============================] - 17s 14ms/step - loss: 0.0611 - accuracy: 0.9023 - val_loss: 0.0598 - val_accuracy: 0.8861\n"
          ]
        },
        {
          "name": "stderr",
          "output_type": "stream",
          "text": [
            "\u001b[32m[I 2022-04-13 04:33:32,956]\u001b[0m Trial 13 finished with value: 0.8860543966293335 and parameters: {'epochs': 2, 'batch_size': 30, 'embedding_dim': 26, 'units': 288, 'dropout': 0.30000000000000004, 'n_neurons': 63}. Best is trial 1 with value: 0.8989310264587402.\u001b[0m\n"
          ]
        },
        {
          "name": "stdout",
          "output_type": "stream",
          "text": [
            "{'epochs': 2, 'batch_size': 28, 'embedding_dim': 32, 'units': 227, 'dropout': 0.1, 'n_neurons': 90}\n",
            "Epoch 1/2\n",
            "1323/1323 [==============================] - 23s 14ms/step - loss: 0.1105 - accuracy: 0.7708 - val_loss: 0.0642 - val_accuracy: 0.8780\n",
            "Epoch 2/2\n",
            "1323/1323 [==============================] - 18s 14ms/step - loss: 0.0502 - accuracy: 0.9143 - val_loss: 0.0550 - val_accuracy: 0.8965\n"
          ]
        },
        {
          "name": "stderr",
          "output_type": "stream",
          "text": [
            "\u001b[32m[I 2022-04-13 04:34:16,955]\u001b[0m Trial 14 finished with value: 0.8965014815330505 and parameters: {'epochs': 2, 'batch_size': 28, 'embedding_dim': 32, 'units': 227, 'dropout': 0.1, 'n_neurons': 90}. Best is trial 1 with value: 0.8989310264587402.\u001b[0m\n"
          ]
        },
        {
          "name": "stdout",
          "output_type": "stream",
          "text": [
            "{'epochs': 2, 'batch_size': 27, 'embedding_dim': 40, 'units': 223, 'dropout': 0.2, 'n_neurons': 90}\n",
            "Epoch 1/2\n",
            "1372/1372 [==============================] - 26s 17ms/step - loss: 0.1121 - accuracy: 0.7710 - val_loss: 0.0627 - val_accuracy: 0.8865\n",
            "Epoch 2/2\n",
            "1372/1372 [==============================] - 22s 16ms/step - loss: 0.0529 - accuracy: 0.9100 - val_loss: 0.0565 - val_accuracy: 0.8967\n"
          ]
        },
        {
          "name": "stderr",
          "output_type": "stream",
          "text": [
            "\u001b[32m[I 2022-04-13 04:35:08,060]\u001b[0m Trial 15 finished with value: 0.896744430065155 and parameters: {'epochs': 2, 'batch_size': 27, 'embedding_dim': 40, 'units': 223, 'dropout': 0.2, 'n_neurons': 90}. Best is trial 1 with value: 0.8989310264587402.\u001b[0m\n"
          ]
        },
        {
          "name": "stdout",
          "output_type": "stream",
          "text": [
            "{'epochs': 2, 'batch_size': 27, 'embedding_dim': 40, 'units': 208, 'dropout': 0.30000000000000004, 'n_neurons': 114}\n",
            "Epoch 1/2\n",
            "1372/1372 [==============================] - 20s 12ms/step - loss: 0.1158 - accuracy: 0.7639 - val_loss: 0.0659 - val_accuracy: 0.8793\n",
            "Epoch 2/2\n",
            "1372/1372 [==============================] - 16s 12ms/step - loss: 0.0552 - accuracy: 0.9100 - val_loss: 0.0601 - val_accuracy: 0.8848\n"
          ]
        },
        {
          "name": "stderr",
          "output_type": "stream",
          "text": [
            "\u001b[32m[I 2022-04-13 04:35:47,764]\u001b[0m Trial 16 finished with value: 0.884839653968811 and parameters: {'epochs': 2, 'batch_size': 27, 'embedding_dim': 40, 'units': 208, 'dropout': 0.30000000000000004, 'n_neurons': 114}. Best is trial 1 with value: 0.8989310264587402.\u001b[0m\n"
          ]
        },
        {
          "name": "stdout",
          "output_type": "stream",
          "text": [
            "{'epochs': 3, 'batch_size': 21, 'embedding_dim': 20, 'units': 219, 'dropout': 0.2, 'n_neurons': 92}\n",
            "Epoch 1/3\n",
            "1764/1764 [==============================] - 32s 16ms/step - loss: 0.1130 - accuracy: 0.7663 - val_loss: 0.0685 - val_accuracy: 0.8737\n",
            "Epoch 2/3\n",
            "1764/1764 [==============================] - 27s 15ms/step - loss: 0.0553 - accuracy: 0.9076 - val_loss: 0.0599 - val_accuracy: 0.8870\n",
            "Epoch 3/3\n",
            "1764/1764 [==============================] - 27s 15ms/step - loss: 0.0372 - accuracy: 0.9442 - val_loss: 0.0577 - val_accuracy: 0.8916\n"
          ]
        },
        {
          "name": "stderr",
          "output_type": "stream",
          "text": [
            "\u001b[32m[I 2022-04-13 04:38:15,839]\u001b[0m Trial 17 finished with value: 0.8916423916816711 and parameters: {'epochs': 3, 'batch_size': 21, 'embedding_dim': 20, 'units': 219, 'dropout': 0.2, 'n_neurons': 92}. Best is trial 1 with value: 0.8989310264587402.\u001b[0m\n"
          ]
        },
        {
          "name": "stdout",
          "output_type": "stream",
          "text": [
            "{'epochs': 2, 'batch_size': 27, 'embedding_dim': 25, 'units': 237, 'dropout': 0.30000000000000004, 'n_neurons': 86}\n",
            "Epoch 1/2\n",
            "1372/1372 [==============================] - 27s 17ms/step - loss: 0.1188 - accuracy: 0.7600 - val_loss: 0.0724 - val_accuracy: 0.8608\n",
            "Epoch 2/2\n",
            "1372/1372 [==============================] - 23s 17ms/step - loss: 0.0574 - accuracy: 0.9072 - val_loss: 0.0580 - val_accuracy: 0.8926\n"
          ]
        },
        {
          "name": "stderr",
          "output_type": "stream",
          "text": [
            "\u001b[32m[I 2022-04-13 04:39:07,955]\u001b[0m Trial 18 finished with value: 0.8926141858100891 and parameters: {'epochs': 2, 'batch_size': 27, 'embedding_dim': 25, 'units': 237, 'dropout': 0.30000000000000004, 'n_neurons': 86}. Best is trial 1 with value: 0.8989310264587402.\u001b[0m\n"
          ]
        },
        {
          "name": "stdout",
          "output_type": "stream",
          "text": [
            "{'epochs': 2, 'batch_size': 23, 'embedding_dim': 28, 'units': 251, 'dropout': 0.2, 'n_neurons': 108}\n",
            "Epoch 1/2\n",
            "1611/1611 [==============================] - 31s 17ms/step - loss: 0.1108 - accuracy: 0.7745 - val_loss: 0.0636 - val_accuracy: 0.8829\n",
            "Epoch 2/2\n",
            "1611/1611 [==============================] - 27s 17ms/step - loss: 0.0527 - accuracy: 0.9114 - val_loss: 0.0580 - val_accuracy: 0.8902\n"
          ]
        },
        {
          "name": "stderr",
          "output_type": "stream",
          "text": [
            "\u001b[32m[I 2022-04-13 04:40:08,785]\u001b[0m Trial 19 finished with value: 0.8901846408843994 and parameters: {'epochs': 2, 'batch_size': 23, 'embedding_dim': 28, 'units': 251, 'dropout': 0.2, 'n_neurons': 108}. Best is trial 1 with value: 0.8989310264587402.\u001b[0m\n"
          ]
        },
        {
          "name": "stdout",
          "output_type": "stream",
          "text": [
            "{'epochs': 3, 'batch_size': 33, 'embedding_dim': 40, 'units': 229, 'dropout': 0.30000000000000004, 'n_neurons': 72}\n",
            "Epoch 1/3\n",
            "1123/1123 [==============================] - 24s 18ms/step - loss: 0.1199 - accuracy: 0.7572 - val_loss: 0.0663 - val_accuracy: 0.8822\n",
            "Epoch 2/3\n",
            "1123/1123 [==============================] - 19s 17ms/step - loss: 0.0583 - accuracy: 0.9081 - val_loss: 0.0556 - val_accuracy: 0.8960\n",
            "Epoch 3/3\n",
            "1123/1123 [==============================] - 19s 17ms/step - loss: 0.0391 - accuracy: 0.9464 - val_loss: 0.0547 - val_accuracy: 0.8936\n"
          ]
        },
        {
          "name": "stderr",
          "output_type": "stream",
          "text": [
            "\u001b[32m[I 2022-04-13 04:41:36,907]\u001b[0m Trial 20 finished with value: 0.8935859799385071 and parameters: {'epochs': 3, 'batch_size': 33, 'embedding_dim': 40, 'units': 229, 'dropout': 0.30000000000000004, 'n_neurons': 72}. Best is trial 1 with value: 0.8989310264587402.\u001b[0m\n"
          ]
        },
        {
          "name": "stdout",
          "output_type": "stream",
          "text": [
            "{'epochs': 2, 'batch_size': 28, 'embedding_dim': 35, 'units': 224, 'dropout': 0.1, 'n_neurons': 89}\n",
            "Epoch 1/2\n",
            "1323/1323 [==============================] - 20s 13ms/step - loss: 0.1084 - accuracy: 0.7777 - val_loss: 0.0653 - val_accuracy: 0.8780\n",
            "Epoch 2/2\n",
            "1323/1323 [==============================] - 16s 12ms/step - loss: 0.0495 - accuracy: 0.9166 - val_loss: 0.0579 - val_accuracy: 0.8907\n"
          ]
        },
        {
          "name": "stderr",
          "output_type": "stream",
          "text": [
            "\u001b[32m[I 2022-04-13 04:42:15,137]\u001b[0m Trial 21 finished with value: 0.8906705379486084 and parameters: {'epochs': 2, 'batch_size': 28, 'embedding_dim': 35, 'units': 224, 'dropout': 0.1, 'n_neurons': 89}. Best is trial 1 with value: 0.8989310264587402.\u001b[0m\n"
          ]
        },
        {
          "name": "stdout",
          "output_type": "stream",
          "text": [
            "{'epochs': 2, 'batch_size': 27, 'embedding_dim': 32, 'units': 215, 'dropout': 0.1, 'n_neurons': 99}\n",
            "Epoch 1/2\n",
            "1372/1372 [==============================] - 26s 16ms/step - loss: 0.1092 - accuracy: 0.7760 - val_loss: 0.0623 - val_accuracy: 0.8904\n",
            "Epoch 2/2\n",
            "1372/1372 [==============================] - 21s 16ms/step - loss: 0.0492 - accuracy: 0.9155 - val_loss: 0.0577 - val_accuracy: 0.8858\n"
          ]
        },
        {
          "name": "stderr",
          "output_type": "stream",
          "text": [
            "\u001b[32m[I 2022-04-13 04:43:04,945]\u001b[0m Trial 22 finished with value: 0.885811448097229 and parameters: {'epochs': 2, 'batch_size': 27, 'embedding_dim': 32, 'units': 215, 'dropout': 0.1, 'n_neurons': 99}. Best is trial 1 with value: 0.8989310264587402.\u001b[0m\n"
          ]
        },
        {
          "name": "stdout",
          "output_type": "stream",
          "text": [
            "{'epochs': 2, 'batch_size': 29, 'embedding_dim': 38, 'units': 231, 'dropout': 0.2, 'n_neurons': 118}\n",
            "Epoch 1/2\n",
            "1278/1278 [==============================] - 25s 17ms/step - loss: 0.1103 - accuracy: 0.7729 - val_loss: 0.0650 - val_accuracy: 0.8768\n",
            "Epoch 2/2\n",
            "1278/1278 [==============================] - 21s 17ms/step - loss: 0.0513 - accuracy: 0.9146 - val_loss: 0.0548 - val_accuracy: 0.8943\n"
          ]
        },
        {
          "name": "stderr",
          "output_type": "stream",
          "text": [
            "\u001b[32m[I 2022-04-13 04:43:53,659]\u001b[0m Trial 23 finished with value: 0.8943148851394653 and parameters: {'epochs': 2, 'batch_size': 29, 'embedding_dim': 38, 'units': 231, 'dropout': 0.2, 'n_neurons': 118}. Best is trial 1 with value: 0.8989310264587402.\u001b[0m\n"
          ]
        },
        {
          "name": "stdout",
          "output_type": "stream",
          "text": [
            "{'epochs': 2, 'batch_size': 32, 'embedding_dim': 33, 'units': 203, 'dropout': 0.2, 'n_neurons': 93}\n",
            "Epoch 1/2\n",
            "1158/1158 [==============================] - 19s 14ms/step - loss: 0.1183 - accuracy: 0.7548 - val_loss: 0.0654 - val_accuracy: 0.8793\n",
            "Epoch 2/2\n",
            "1158/1158 [==============================] - 15s 13ms/step - loss: 0.0543 - accuracy: 0.9119 - val_loss: 0.0540 - val_accuracy: 0.8997\n"
          ]
        },
        {
          "name": "stderr",
          "output_type": "stream",
          "text": [
            "\u001b[32m[I 2022-04-13 04:44:31,419]\u001b[0m Trial 24 finished with value: 0.8996598720550537 and parameters: {'epochs': 2, 'batch_size': 32, 'embedding_dim': 33, 'units': 203, 'dropout': 0.2, 'n_neurons': 93}. Best is trial 24 with value: 0.8996598720550537.\u001b[0m\n"
          ]
        },
        {
          "name": "stdout",
          "output_type": "stream",
          "text": [
            "{'epochs': 2, 'batch_size': 31, 'embedding_dim': 37, 'units': 200, 'dropout': 0.30000000000000004, 'n_neurons': 126}\n",
            "Epoch 1/2\n",
            "1195/1195 [==============================] - 19s 13ms/step - loss: 0.1153 - accuracy: 0.7626 - val_loss: 0.0657 - val_accuracy: 0.8768\n",
            "Epoch 2/2\n",
            "1195/1195 [==============================] - 14s 12ms/step - loss: 0.0555 - accuracy: 0.9089 - val_loss: 0.0602 - val_accuracy: 0.8870\n"
          ]
        },
        {
          "name": "stderr",
          "output_type": "stream",
          "text": [
            "\u001b[32m[I 2022-04-13 04:45:06,864]\u001b[0m Trial 25 finished with value: 0.8870262503623962 and parameters: {'epochs': 2, 'batch_size': 31, 'embedding_dim': 37, 'units': 200, 'dropout': 0.30000000000000004, 'n_neurons': 126}. Best is trial 24 with value: 0.8996598720550537.\u001b[0m\n"
          ]
        },
        {
          "name": "stdout",
          "output_type": "stream",
          "text": [
            "{'epochs': 2, 'batch_size': 32, 'embedding_dim': 23, 'units': 207, 'dropout': 0.2, 'n_neurons': 96}\n",
            "Epoch 1/2\n",
            "1158/1158 [==============================] - 19s 14ms/step - loss: 0.1158 - accuracy: 0.7620 - val_loss: 0.0646 - val_accuracy: 0.8822\n",
            "Epoch 2/2\n",
            "1158/1158 [==============================] - 15s 13ms/step - loss: 0.0546 - accuracy: 0.9094 - val_loss: 0.0555 - val_accuracy: 0.8975\n"
          ]
        },
        {
          "name": "stderr",
          "output_type": "stream",
          "text": [
            "\u001b[32m[I 2022-04-13 04:45:44,124]\u001b[0m Trial 26 finished with value: 0.8974732756614685 and parameters: {'epochs': 2, 'batch_size': 32, 'embedding_dim': 23, 'units': 207, 'dropout': 0.2, 'n_neurons': 96}. Best is trial 24 with value: 0.8996598720550537.\u001b[0m\n"
          ]
        },
        {
          "name": "stdout",
          "output_type": "stream",
          "text": [
            "{'epochs': 2, 'batch_size': 36, 'embedding_dim': 24, 'units': 207, 'dropout': 0.4, 'n_neurons': 109}\n",
            "Epoch 1/2\n",
            "1029/1029 [==============================] - 18s 14ms/step - loss: 0.1270 - accuracy: 0.7374 - val_loss: 0.0776 - val_accuracy: 0.8593\n",
            "Epoch 2/2\n",
            "1029/1029 [==============================] - 14s 14ms/step - loss: 0.0620 - accuracy: 0.9017 - val_loss: 0.0602 - val_accuracy: 0.8863\n"
          ]
        },
        {
          "name": "stderr",
          "output_type": "stream",
          "text": [
            "\u001b[32m[I 2022-04-13 04:46:19,372]\u001b[0m Trial 27 finished with value: 0.8862974047660828 and parameters: {'epochs': 2, 'batch_size': 36, 'embedding_dim': 24, 'units': 207, 'dropout': 0.4, 'n_neurons': 109}. Best is trial 24 with value: 0.8996598720550537.\u001b[0m\n"
          ]
        },
        {
          "name": "stdout",
          "output_type": "stream",
          "text": [
            "{'epochs': 2, 'batch_size': 32, 'embedding_dim': 21, 'units': 209, 'dropout': 0.2, 'n_neurons': 98}\n",
            "Epoch 1/2\n",
            "1158/1158 [==============================] - 20s 14ms/step - loss: 0.1146 - accuracy: 0.7661 - val_loss: 0.0646 - val_accuracy: 0.8814\n",
            "Epoch 2/2\n",
            "1158/1158 [==============================] - 16s 13ms/step - loss: 0.0551 - accuracy: 0.9089 - val_loss: 0.0530 - val_accuracy: 0.9011\n"
          ]
        },
        {
          "name": "stderr",
          "output_type": "stream",
          "text": [
            "\u001b[32m[I 2022-04-13 04:46:57,507]\u001b[0m Trial 28 finished with value: 0.9011175632476807 and parameters: {'epochs': 2, 'batch_size': 32, 'embedding_dim': 21, 'units': 209, 'dropout': 0.2, 'n_neurons': 98}. Best is trial 28 with value: 0.9011175632476807.\u001b[0m\n"
          ]
        },
        {
          "name": "stdout",
          "output_type": "stream",
          "text": [
            "{'epochs': 3, 'batch_size': 35, 'embedding_dim': 22, 'units': 213, 'dropout': 0.30000000000000004, 'n_neurons': 82}\n",
            "Epoch 1/3\n",
            "1059/1059 [==============================] - 21s 17ms/step - loss: 0.1258 - accuracy: 0.7358 - val_loss: 0.0703 - val_accuracy: 0.8744\n",
            "Epoch 2/3\n",
            "1059/1059 [==============================] - 17s 16ms/step - loss: 0.0608 - accuracy: 0.9034 - val_loss: 0.0590 - val_accuracy: 0.8899\n",
            "Epoch 3/3\n",
            "1059/1059 [==============================] - 17s 16ms/step - loss: 0.0413 - accuracy: 0.9410 - val_loss: 0.0572 - val_accuracy: 0.8904\n"
          ]
        },
        {
          "name": "stderr",
          "output_type": "stream",
          "text": [
            "\u001b[32m[I 2022-04-13 04:47:55,528]\u001b[0m Trial 29 finished with value: 0.8904275894165039 and parameters: {'epochs': 3, 'batch_size': 35, 'embedding_dim': 22, 'units': 213, 'dropout': 0.30000000000000004, 'n_neurons': 82}. Best is trial 28 with value: 0.9011175632476807.\u001b[0m\n"
          ]
        },
        {
          "name": "stdout",
          "output_type": "stream",
          "text": [
            "{'epochs': 2, 'batch_size': 37, 'embedding_dim': 20, 'units': 244, 'dropout': 0.30000000000000004, 'n_neurons': 104}\n",
            "Epoch 1/2\n",
            "1002/1002 [==============================] - 18s 15ms/step - loss: 0.1220 - accuracy: 0.7481 - val_loss: 0.0707 - val_accuracy: 0.8669\n",
            "Epoch 2/2\n",
            "1002/1002 [==============================] - 14s 14ms/step - loss: 0.0593 - accuracy: 0.9054 - val_loss: 0.0584 - val_accuracy: 0.8941\n"
          ]
        },
        {
          "name": "stderr",
          "output_type": "stream",
          "text": [
            "\u001b[32m[I 2022-04-13 04:48:30,455]\u001b[0m Trial 30 finished with value: 0.8940719366073608 and parameters: {'epochs': 2, 'batch_size': 37, 'embedding_dim': 20, 'units': 244, 'dropout': 0.30000000000000004, 'n_neurons': 104}. Best is trial 28 with value: 0.9011175632476807.\u001b[0m\n"
          ]
        },
        {
          "name": "stdout",
          "output_type": "stream",
          "text": [
            "{'epochs': 2, 'batch_size': 32, 'embedding_dim': 23, 'units': 206, 'dropout': 0.2, 'n_neurons': 97}\n",
            "Epoch 1/2\n",
            "1158/1158 [==============================] - 20s 14ms/step - loss: 0.1180 - accuracy: 0.7544 - val_loss: 0.0687 - val_accuracy: 0.8744\n",
            "Epoch 2/2\n",
            "1158/1158 [==============================] - 16s 14ms/step - loss: 0.0549 - accuracy: 0.9094 - val_loss: 0.0593 - val_accuracy: 0.8868\n"
          ]
        },
        {
          "name": "stderr",
          "output_type": "stream",
          "text": [
            "\u001b[32m[I 2022-04-13 04:49:08,610]\u001b[0m Trial 31 finished with value: 0.8867833018302917 and parameters: {'epochs': 2, 'batch_size': 32, 'embedding_dim': 23, 'units': 206, 'dropout': 0.2, 'n_neurons': 97}. Best is trial 28 with value: 0.9011175632476807.\u001b[0m\n"
          ]
        },
        {
          "name": "stdout",
          "output_type": "stream",
          "text": [
            "{'epochs': 2, 'batch_size': 32, 'embedding_dim': 25, 'units': 207, 'dropout': 0.2, 'n_neurons': 96}\n",
            "Epoch 1/2\n",
            "1158/1158 [==============================] - 19s 14ms/step - loss: 0.1159 - accuracy: 0.7624 - val_loss: 0.0744 - val_accuracy: 0.8647\n",
            "Epoch 2/2\n",
            "1158/1158 [==============================] - 15s 13ms/step - loss: 0.0551 - accuracy: 0.9095 - val_loss: 0.0570 - val_accuracy: 0.8897\n"
          ]
        },
        {
          "name": "stderr",
          "output_type": "stream",
          "text": [
            "\u001b[32m[I 2022-04-13 04:49:46,535]\u001b[0m Trial 32 finished with value: 0.8896987438201904 and parameters: {'epochs': 2, 'batch_size': 32, 'embedding_dim': 25, 'units': 207, 'dropout': 0.2, 'n_neurons': 96}. Best is trial 28 with value: 0.9011175632476807.\u001b[0m\n"
          ]
        },
        {
          "name": "stdout",
          "output_type": "stream",
          "text": [
            "{'epochs': 2, 'batch_size': 32, 'embedding_dim': 28, 'units': 216, 'dropout': 0.2, 'n_neurons': 103}\n",
            "Epoch 1/2\n",
            "1158/1158 [==============================] - 18s 13ms/step - loss: 0.1150 - accuracy: 0.7622 - val_loss: 0.0635 - val_accuracy: 0.8810\n",
            "Epoch 2/2\n",
            "1158/1158 [==============================] - 14s 12ms/step - loss: 0.0534 - accuracy: 0.9112 - val_loss: 0.0585 - val_accuracy: 0.8907\n"
          ]
        },
        {
          "name": "stderr",
          "output_type": "stream",
          "text": [
            "\u001b[32m[I 2022-04-13 04:50:21,504]\u001b[0m Trial 33 finished with value: 0.8906705379486084 and parameters: {'epochs': 2, 'batch_size': 32, 'embedding_dim': 28, 'units': 216, 'dropout': 0.2, 'n_neurons': 103}. Best is trial 28 with value: 0.9011175632476807.\u001b[0m\n"
          ]
        },
        {
          "name": "stdout",
          "output_type": "stream",
          "text": [
            "{'epochs': 2, 'batch_size': 34, 'embedding_dim': 22, 'units': 203, 'dropout': 0.4, 'n_neurons': 114}\n",
            "Epoch 1/2\n",
            "1090/1090 [==============================] - 20s 16ms/step - loss: 0.1261 - accuracy: 0.7411 - val_loss: 0.0666 - val_accuracy: 0.8778\n",
            "Epoch 2/2\n",
            "1090/1090 [==============================] - 16s 15ms/step - loss: 0.0617 - accuracy: 0.9014 - val_loss: 0.0612 - val_accuracy: 0.8831\n"
          ]
        },
        {
          "name": "stderr",
          "output_type": "stream",
          "text": [
            "\u001b[32m[I 2022-04-13 04:51:00,618]\u001b[0m Trial 34 finished with value: 0.8831389546394348 and parameters: {'epochs': 2, 'batch_size': 34, 'embedding_dim': 22, 'units': 203, 'dropout': 0.4, 'n_neurons': 114}. Best is trial 28 with value: 0.9011175632476807.\u001b[0m\n"
          ]
        },
        {
          "name": "stdout",
          "output_type": "stream",
          "text": [
            "{'epochs': 3, 'batch_size': 31, 'embedding_dim': 27, 'units': 219, 'dropout': 0.5, 'n_neurons': 77}\n",
            "Epoch 1/3\n",
            "1195/1195 [==============================] - 23s 17ms/step - loss: 0.1293 - accuracy: 0.7430 - val_loss: 0.0704 - val_accuracy: 0.8712\n",
            "Epoch 2/3\n",
            "1195/1195 [==============================] - 19s 16ms/step - loss: 0.0673 - accuracy: 0.8984 - val_loss: 0.0642 - val_accuracy: 0.8790\n",
            "Epoch 3/3\n",
            "1195/1195 [==============================] - 19s 16ms/step - loss: 0.0476 - accuracy: 0.9356 - val_loss: 0.0580 - val_accuracy: 0.8977\n"
          ]
        },
        {
          "name": "stderr",
          "output_type": "stream",
          "text": [
            "\u001b[32m[I 2022-04-13 04:52:04,901]\u001b[0m Trial 35 finished with value: 0.897716224193573 and parameters: {'epochs': 3, 'batch_size': 31, 'embedding_dim': 27, 'units': 219, 'dropout': 0.5, 'n_neurons': 77}. Best is trial 28 with value: 0.9011175632476807.\u001b[0m\n"
          ]
        },
        {
          "name": "stdout",
          "output_type": "stream",
          "text": [
            "{'epochs': 3, 'batch_size': 30, 'embedding_dim': 28, 'units': 259, 'dropout': 0.5, 'n_neurons': 83}\n",
            "Epoch 1/3\n",
            "1235/1235 [==============================] - 26s 18ms/step - loss: 0.1312 - accuracy: 0.7356 - val_loss: 0.0714 - val_accuracy: 0.8717\n",
            "Epoch 2/3\n",
            "1235/1235 [==============================] - 21s 17ms/step - loss: 0.0673 - accuracy: 0.8981 - val_loss: 0.0662 - val_accuracy: 0.8669\n",
            "Epoch 3/3\n",
            "1235/1235 [==============================] - 21s 17ms/step - loss: 0.0473 - accuracy: 0.9369 - val_loss: 0.0572 - val_accuracy: 0.8887\n"
          ]
        },
        {
          "name": "stderr",
          "output_type": "stream",
          "text": [
            "\u001b[32m[I 2022-04-13 04:53:15,671]\u001b[0m Trial 36 finished with value: 0.8887268900871277 and parameters: {'epochs': 3, 'batch_size': 30, 'embedding_dim': 28, 'units': 259, 'dropout': 0.5, 'n_neurons': 83}. Best is trial 28 with value: 0.9011175632476807.\u001b[0m\n"
          ]
        },
        {
          "name": "stdout",
          "output_type": "stream",
          "text": [
            "{'epochs': 3, 'batch_size': 29, 'embedding_dim': 27, 'units': 221, 'dropout': 0.5, 'n_neurons': 71}\n",
            "Epoch 1/3\n",
            "1278/1278 [==============================] - 24s 17ms/step - loss: 0.1309 - accuracy: 0.7362 - val_loss: 0.0724 - val_accuracy: 0.8722\n",
            "Epoch 2/3\n",
            "1278/1278 [==============================] - 20s 16ms/step - loss: 0.0678 - accuracy: 0.8965 - val_loss: 0.0620 - val_accuracy: 0.8853\n",
            "Epoch 3/3\n",
            "1278/1278 [==============================] - 20s 16ms/step - loss: 0.0479 - accuracy: 0.9373 - val_loss: 0.0575 - val_accuracy: 0.8899\n"
          ]
        },
        {
          "name": "stderr",
          "output_type": "stream",
          "text": [
            "\u001b[32m[I 2022-04-13 04:54:23,412]\u001b[0m Trial 37 finished with value: 0.8899416923522949 and parameters: {'epochs': 3, 'batch_size': 29, 'embedding_dim': 27, 'units': 221, 'dropout': 0.5, 'n_neurons': 71}. Best is trial 28 with value: 0.9011175632476807.\u001b[0m\n"
          ]
        },
        {
          "name": "stdout",
          "output_type": "stream",
          "text": [
            "{'epochs': 3, 'batch_size': 31, 'embedding_dim': 29, 'units': 212, 'dropout': 0.5, 'n_neurons': 74}\n",
            "Epoch 1/3\n",
            "1195/1195 [==============================] - 19s 13ms/step - loss: 0.1292 - accuracy: 0.7436 - val_loss: 0.0688 - val_accuracy: 0.8793\n",
            "Epoch 2/3\n",
            "1195/1195 [==============================] - 15s 12ms/step - loss: 0.0679 - accuracy: 0.8950 - val_loss: 0.0625 - val_accuracy: 0.8812\n",
            "Epoch 3/3\n",
            "1195/1195 [==============================] - 15s 12ms/step - loss: 0.0486 - accuracy: 0.9357 - val_loss: 0.0620 - val_accuracy: 0.8768\n"
          ]
        },
        {
          "name": "stderr",
          "output_type": "stream",
          "text": [
            "\u001b[32m[I 2022-04-13 04:55:14,703]\u001b[0m Trial 38 finished with value: 0.8768221735954285 and parameters: {'epochs': 3, 'batch_size': 31, 'embedding_dim': 29, 'units': 212, 'dropout': 0.5, 'n_neurons': 74}. Best is trial 28 with value: 0.9011175632476807.\u001b[0m\n"
          ]
        },
        {
          "name": "stdout",
          "output_type": "stream",
          "text": [
            "{'epochs': 3, 'batch_size': 34, 'embedding_dim': 26, 'units': 235, 'dropout': 0.4, 'n_neurons': 68}\n",
            "Epoch 1/3\n",
            "1090/1090 [==============================] - 22s 17ms/step - loss: 0.1278 - accuracy: 0.7411 - val_loss: 0.0683 - val_accuracy: 0.8793\n",
            "Epoch 2/3\n",
            "1090/1090 [==============================] - 18s 16ms/step - loss: 0.0637 - accuracy: 0.9028 - val_loss: 0.0623 - val_accuracy: 0.8834\n",
            "Epoch 3/3\n",
            "1090/1090 [==============================] - 18s 16ms/step - loss: 0.0450 - accuracy: 0.9408 - val_loss: 0.0571 - val_accuracy: 0.8878\n"
          ]
        },
        {
          "name": "stderr",
          "output_type": "stream",
          "text": [
            "\u001b[32m[I 2022-04-13 04:56:14,727]\u001b[0m Trial 39 finished with value: 0.8877550959587097 and parameters: {'epochs': 3, 'batch_size': 34, 'embedding_dim': 26, 'units': 235, 'dropout': 0.4, 'n_neurons': 68}. Best is trial 28 with value: 0.9011175632476807.\u001b[0m\n"
          ]
        },
        {
          "name": "stdout",
          "output_type": "stream",
          "text": [
            "{'epochs': 3, 'batch_size': 25, 'embedding_dim': 30, 'units': 200, 'dropout': 0.30000000000000004, 'n_neurons': 77}\n",
            "Epoch 1/3\n",
            "1482/1482 [==============================] - 21s 12ms/step - loss: 0.1159 - accuracy: 0.7662 - val_loss: 0.0686 - val_accuracy: 0.8678\n",
            "Epoch 2/3\n",
            "1482/1482 [==============================] - 17s 12ms/step - loss: 0.0576 - accuracy: 0.9063 - val_loss: 0.0595 - val_accuracy: 0.8895\n",
            "Epoch 3/3\n",
            "1482/1482 [==============================] - 17s 12ms/step - loss: 0.0388 - accuracy: 0.9440 - val_loss: 0.0597 - val_accuracy: 0.8822\n"
          ]
        },
        {
          "name": "stderr",
          "output_type": "stream",
          "text": [
            "\u001b[32m[I 2022-04-13 04:57:12,510]\u001b[0m Trial 40 finished with value: 0.8821671605110168 and parameters: {'epochs': 3, 'batch_size': 25, 'embedding_dim': 30, 'units': 200, 'dropout': 0.30000000000000004, 'n_neurons': 77}. Best is trial 28 with value: 0.9011175632476807.\u001b[0m\n"
          ]
        },
        {
          "name": "stdout",
          "output_type": "stream",
          "text": [
            "{'epochs': 2, 'batch_size': 31, 'embedding_dim': 24, 'units': 209, 'dropout': 0.2, 'n_neurons': 101}\n",
            "Epoch 1/2\n",
            "1195/1195 [==============================] - 23s 16ms/step - loss: 0.1152 - accuracy: 0.7617 - val_loss: 0.0644 - val_accuracy: 0.8780\n",
            "Epoch 2/2\n",
            "1195/1195 [==============================] - 19s 16ms/step - loss: 0.0547 - accuracy: 0.9086 - val_loss: 0.0587 - val_accuracy: 0.8890\n"
          ]
        },
        {
          "name": "stderr",
          "output_type": "stream",
          "text": [
            "\u001b[32m[I 2022-04-13 04:57:56,962]\u001b[0m Trial 41 finished with value: 0.888969898223877 and parameters: {'epochs': 2, 'batch_size': 31, 'embedding_dim': 24, 'units': 209, 'dropout': 0.2, 'n_neurons': 101}. Best is trial 28 with value: 0.9011175632476807.\u001b[0m\n"
          ]
        },
        {
          "name": "stdout",
          "output_type": "stream",
          "text": [
            "{'epochs': 2, 'batch_size': 33, 'embedding_dim': 22, 'units': 219, 'dropout': 0.2, 'n_neurons': 93}\n",
            "Epoch 1/2\n",
            "1123/1123 [==============================] - 23s 17ms/step - loss: 0.1260 - accuracy: 0.7317 - val_loss: 0.0662 - val_accuracy: 0.8795\n",
            "Epoch 2/2\n",
            "1123/1123 [==============================] - 18s 16ms/step - loss: 0.0575 - accuracy: 0.9042 - val_loss: 0.0583 - val_accuracy: 0.8955\n"
          ]
        },
        {
          "name": "stderr",
          "output_type": "stream",
          "text": [
            "\u001b[32m[I 2022-04-13 04:58:40,526]\u001b[0m Trial 42 finished with value: 0.8955296277999878 and parameters: {'epochs': 2, 'batch_size': 33, 'embedding_dim': 22, 'units': 219, 'dropout': 0.2, 'n_neurons': 93}. Best is trial 28 with value: 0.9011175632476807.\u001b[0m\n"
          ]
        },
        {
          "name": "stdout",
          "output_type": "stream",
          "text": [
            "{'epochs': 2, 'batch_size': 35, 'embedding_dim': 21, 'units': 204, 'dropout': 0.4, 'n_neurons': 81}\n",
            "Epoch 1/2\n",
            "1059/1059 [==============================] - 17s 13ms/step - loss: 0.1259 - accuracy: 0.7403 - val_loss: 0.0695 - val_accuracy: 0.8734\n",
            "Epoch 2/2\n",
            "1059/1059 [==============================] - 13s 12ms/step - loss: 0.0627 - accuracy: 0.9014 - val_loss: 0.0596 - val_accuracy: 0.8899\n"
          ]
        },
        {
          "name": "stderr",
          "output_type": "stream",
          "text": [
            "\u001b[32m[I 2022-04-13 04:59:27,073]\u001b[0m Trial 43 finished with value: 0.8899416923522949 and parameters: {'epochs': 2, 'batch_size': 35, 'embedding_dim': 21, 'units': 204, 'dropout': 0.4, 'n_neurons': 81}. Best is trial 28 with value: 0.9011175632476807.\u001b[0m\n"
          ]
        },
        {
          "name": "stdout",
          "output_type": "stream",
          "text": [
            "{'epochs': 2, 'batch_size': 29, 'embedding_dim': 23, 'units': 217, 'dropout': 0.1, 'n_neurons': 108}\n",
            "Epoch 1/2\n",
            "1278/1278 [==============================] - 24s 16ms/step - loss: 0.1114 - accuracy: 0.7697 - val_loss: 0.0652 - val_accuracy: 0.8819\n",
            "Epoch 2/2\n",
            "1278/1278 [==============================] - 20s 16ms/step - loss: 0.0504 - accuracy: 0.9115 - val_loss: 0.0721 - val_accuracy: 0.8552\n"
          ]
        },
        {
          "name": "stderr",
          "output_type": "stream",
          "text": [
            "\u001b[32m[I 2022-04-13 05:00:14,624]\u001b[0m Trial 44 finished with value: 0.8551992177963257 and parameters: {'epochs': 2, 'batch_size': 29, 'embedding_dim': 23, 'units': 217, 'dropout': 0.1, 'n_neurons': 108}. Best is trial 28 with value: 0.9011175632476807.\u001b[0m\n"
          ]
        },
        {
          "name": "stdout",
          "output_type": "stream",
          "text": [
            "{'epochs': 2, 'batch_size': 31, 'embedding_dim': 25, 'units': 210, 'dropout': 0.2, 'n_neurons': 50}\n",
            "Epoch 1/2\n",
            "1195/1195 [==============================] - 22s 15ms/step - loss: 0.1166 - accuracy: 0.7614 - val_loss: 0.0666 - val_accuracy: 0.8746\n",
            "Epoch 2/2\n",
            "1195/1195 [==============================] - 18s 15ms/step - loss: 0.0565 - accuracy: 0.9088 - val_loss: 0.0531 - val_accuracy: 0.9021\n"
          ]
        },
        {
          "name": "stderr",
          "output_type": "stream",
          "text": [
            "\u001b[32m[I 2022-04-13 05:01:01,619]\u001b[0m Trial 45 finished with value: 0.9020894169807434 and parameters: {'epochs': 2, 'batch_size': 31, 'embedding_dim': 25, 'units': 210, 'dropout': 0.2, 'n_neurons': 50}. Best is trial 45 with value: 0.9020894169807434.\u001b[0m\n"
          ]
        },
        {
          "name": "stdout",
          "output_type": "stream",
          "text": [
            "{'epochs': 3, 'batch_size': 31, 'embedding_dim': 26, 'units': 211, 'dropout': 0.30000000000000004, 'n_neurons': 36}\n",
            "Epoch 1/3\n",
            "1195/1195 [==============================] - 23s 17ms/step - loss: 0.1292 - accuracy: 0.7386 - val_loss: 0.0680 - val_accuracy: 0.8814\n",
            "Epoch 2/3\n",
            "1195/1195 [==============================] - 19s 16ms/step - loss: 0.0643 - accuracy: 0.9014 - val_loss: 0.0569 - val_accuracy: 0.8965\n",
            "Epoch 3/3\n",
            "1195/1195 [==============================] - 19s 16ms/step - loss: 0.0449 - accuracy: 0.9411 - val_loss: 0.0573 - val_accuracy: 0.8933\n"
          ]
        },
        {
          "name": "stderr",
          "output_type": "stream",
          "text": [
            "\u001b[32m[I 2022-04-13 05:02:04,805]\u001b[0m Trial 46 finished with value: 0.8933430314064026 and parameters: {'epochs': 3, 'batch_size': 31, 'embedding_dim': 26, 'units': 211, 'dropout': 0.30000000000000004, 'n_neurons': 36}. Best is trial 45 with value: 0.9020894169807434.\u001b[0m\n"
          ]
        },
        {
          "name": "stdout",
          "output_type": "stream",
          "text": [
            "{'epochs': 2, 'batch_size': 28, 'embedding_dim': 34, 'units': 233, 'dropout': 0.4, 'n_neurons': 51}\n",
            "Epoch 1/2\n",
            "1323/1323 [==============================] - 23s 15ms/step - loss: 0.1293 - accuracy: 0.7414 - val_loss: 0.0680 - val_accuracy: 0.8751\n",
            "Epoch 2/2\n",
            "1323/1323 [==============================] - 19s 14ms/step - loss: 0.0661 - accuracy: 0.9007 - val_loss: 0.0612 - val_accuracy: 0.8878\n"
          ]
        },
        {
          "name": "stderr",
          "output_type": "stream",
          "text": [
            "\u001b[32m[I 2022-04-13 05:02:49,168]\u001b[0m Trial 47 finished with value: 0.8877550959587097 and parameters: {'epochs': 2, 'batch_size': 28, 'embedding_dim': 34, 'units': 233, 'dropout': 0.4, 'n_neurons': 51}. Best is trial 45 with value: 0.9020894169807434.\u001b[0m\n"
          ]
        },
        {
          "name": "stdout",
          "output_type": "stream",
          "text": [
            "{'epochs': 2, 'batch_size': 26, 'embedding_dim': 27, 'units': 226, 'dropout': 0.1, 'n_neurons': 35}\n",
            "Epoch 1/2\n",
            "1425/1425 [==============================] - 24s 14ms/step - loss: 0.1126 - accuracy: 0.7700 - val_loss: 0.0691 - val_accuracy: 0.8710\n",
            "Epoch 2/2\n",
            "1425/1425 [==============================] - 19s 14ms/step - loss: 0.0523 - accuracy: 0.9139 - val_loss: 0.0567 - val_accuracy: 0.8941\n"
          ]
        },
        {
          "name": "stderr",
          "output_type": "stream",
          "text": [
            "\u001b[32m[I 2022-04-13 05:03:34,623]\u001b[0m Trial 48 finished with value: 0.8940719366073608 and parameters: {'epochs': 2, 'batch_size': 26, 'embedding_dim': 27, 'units': 226, 'dropout': 0.1, 'n_neurons': 35}. Best is trial 45 with value: 0.9020894169807434.\u001b[0m\n"
          ]
        },
        {
          "name": "stdout",
          "output_type": "stream",
          "text": [
            "{'epochs': 2, 'batch_size': 29, 'embedding_dim': 29, 'units': 267, 'dropout': 0.2, 'n_neurons': 55}\n",
            "Epoch 1/2\n",
            "1278/1278 [==============================] - 27s 19ms/step - loss: 0.1177 - accuracy: 0.7608 - val_loss: 0.0691 - val_accuracy: 0.8707\n",
            "Epoch 2/2\n",
            "1278/1278 [==============================] - 23s 18ms/step - loss: 0.0575 - accuracy: 0.9082 - val_loss: 0.0585 - val_accuracy: 0.8914\n"
          ]
        },
        {
          "name": "stderr",
          "output_type": "stream",
          "text": [
            "\u001b[32m[I 2022-04-13 05:04:27,725]\u001b[0m Trial 49 finished with value: 0.8913994431495667 and parameters: {'epochs': 2, 'batch_size': 29, 'embedding_dim': 29, 'units': 267, 'dropout': 0.2, 'n_neurons': 55}. Best is trial 45 with value: 0.9020894169807434.\u001b[0m\n"
          ]
        },
        {
          "name": "stdout",
          "output_type": "stream",
          "text": [
            "{'epochs': 2, 'batch_size': 33, 'embedding_dim': 31, 'units': 220, 'dropout': 0.30000000000000004, 'n_neurons': 40}\n",
            "Epoch 1/2\n",
            "1123/1123 [==============================] - 18s 13ms/step - loss: 0.1249 - accuracy: 0.7513 - val_loss: 0.0686 - val_accuracy: 0.8768\n",
            "Epoch 2/2\n",
            "1123/1123 [==============================] - 14s 13ms/step - loss: 0.0647 - accuracy: 0.8993 - val_loss: 0.0690 - val_accuracy: 0.8678\n"
          ]
        },
        {
          "name": "stderr",
          "output_type": "stream",
          "text": [
            "\u001b[32m[I 2022-04-13 05:05:14,779]\u001b[0m Trial 50 finished with value: 0.8678328394889832 and parameters: {'epochs': 2, 'batch_size': 33, 'embedding_dim': 31, 'units': 220, 'dropout': 0.30000000000000004, 'n_neurons': 40}. Best is trial 45 with value: 0.9020894169807434.\u001b[0m\n"
          ]
        },
        {
          "name": "stdout",
          "output_type": "stream",
          "text": [
            "{'epochs': 2, 'batch_size': 32, 'embedding_dim': 25, 'units': 203, 'dropout': 0.2, 'n_neurons': 121}\n",
            "Epoch 1/2\n",
            "1158/1158 [==============================] - 20s 14ms/step - loss: 0.1138 - accuracy: 0.7641 - val_loss: 0.0640 - val_accuracy: 0.8836\n",
            "Epoch 2/2\n",
            "1158/1158 [==============================] - 15s 13ms/step - loss: 0.0529 - accuracy: 0.9113 - val_loss: 0.0563 - val_accuracy: 0.8960\n"
          ]
        },
        {
          "name": "stderr",
          "output_type": "stream",
          "text": [
            "\u001b[32m[I 2022-04-13 05:06:01,818]\u001b[0m Trial 51 finished with value: 0.8960155248641968 and parameters: {'epochs': 2, 'batch_size': 32, 'embedding_dim': 25, 'units': 203, 'dropout': 0.2, 'n_neurons': 121}. Best is trial 45 with value: 0.9020894169807434.\u001b[0m\n"
          ]
        },
        {
          "name": "stdout",
          "output_type": "stream",
          "text": [
            "{'epochs': 2, 'batch_size': 30, 'embedding_dim': 21, 'units': 211, 'dropout': 0.2, 'n_neurons': 85}\n",
            "Epoch 1/2\n",
            "1235/1235 [==============================] - 22s 16ms/step - loss: 0.1192 - accuracy: 0.7511 - val_loss: 0.0674 - val_accuracy: 0.8693\n",
            "Epoch 2/2\n",
            "1235/1235 [==============================] - 19s 15ms/step - loss: 0.0560 - accuracy: 0.9070 - val_loss: 0.0731 - val_accuracy: 0.8591\n"
          ]
        },
        {
          "name": "stderr",
          "output_type": "stream",
          "text": [
            "\u001b[32m[I 2022-04-13 05:06:45,301]\u001b[0m Trial 52 finished with value: 0.8590865135192871 and parameters: {'epochs': 2, 'batch_size': 30, 'embedding_dim': 21, 'units': 211, 'dropout': 0.2, 'n_neurons': 85}. Best is trial 45 with value: 0.9020894169807434.\u001b[0m\n"
          ]
        },
        {
          "name": "stdout",
          "output_type": "stream",
          "text": [
            "{'epochs': 2, 'batch_size': 34, 'embedding_dim': 23, 'units': 215, 'dropout': 0.2, 'n_neurons': 65}\n",
            "Epoch 1/2\n",
            "1090/1090 [==============================] - 21s 16ms/step - loss: 0.1175 - accuracy: 0.7590 - val_loss: 0.0653 - val_accuracy: 0.8783\n",
            "Epoch 2/2\n",
            "1090/1090 [==============================] - 17s 16ms/step - loss: 0.0566 - accuracy: 0.9076 - val_loss: 0.0588 - val_accuracy: 0.8926\n"
          ]
        },
        {
          "name": "stderr",
          "output_type": "stream",
          "text": [
            "\u001b[32m[I 2022-04-13 05:07:26,326]\u001b[0m Trial 53 finished with value: 0.8926141858100891 and parameters: {'epochs': 2, 'batch_size': 34, 'embedding_dim': 23, 'units': 215, 'dropout': 0.2, 'n_neurons': 65}. Best is trial 45 with value: 0.9020894169807434.\u001b[0m\n"
          ]
        },
        {
          "name": "stdout",
          "output_type": "stream",
          "text": [
            "{'epochs': 2, 'batch_size': 33, 'embedding_dim': 26, 'units': 209, 'dropout': 0.2, 'n_neurons': 57}\n",
            "Epoch 1/2\n",
            "1123/1123 [==============================] - 22s 17ms/step - loss: 0.1220 - accuracy: 0.7495 - val_loss: 0.0670 - val_accuracy: 0.8771\n",
            "Epoch 2/2\n",
            "1123/1123 [==============================] - 18s 16ms/step - loss: 0.0587 - accuracy: 0.9058 - val_loss: 0.0616 - val_accuracy: 0.8863\n"
          ]
        },
        {
          "name": "stderr",
          "output_type": "stream",
          "text": [
            "\u001b[32m[I 2022-04-13 05:08:09,493]\u001b[0m Trial 54 finished with value: 0.8862974047660828 and parameters: {'epochs': 2, 'batch_size': 33, 'embedding_dim': 26, 'units': 209, 'dropout': 0.2, 'n_neurons': 57}. Best is trial 45 with value: 0.9020894169807434.\u001b[0m\n"
          ]
        },
        {
          "name": "stdout",
          "output_type": "stream",
          "text": [
            "{'epochs': 2, 'batch_size': 31, 'embedding_dim': 24, 'units': 244, 'dropout': 0.1, 'n_neurons': 94}\n",
            "Epoch 1/2\n",
            "1195/1195 [==============================] - 19s 14ms/step - loss: 0.1143 - accuracy: 0.7596 - val_loss: 0.0679 - val_accuracy: 0.8761\n",
            "Epoch 2/2\n",
            "1195/1195 [==============================] - 16s 13ms/step - loss: 0.0517 - accuracy: 0.9135 - val_loss: 0.0621 - val_accuracy: 0.8797\n"
          ]
        },
        {
          "name": "stderr",
          "output_type": "stream",
          "text": [
            "\u001b[32m[I 2022-04-13 05:08:47,250]\u001b[0m Trial 55 finished with value: 0.8797376155853271 and parameters: {'epochs': 2, 'batch_size': 31, 'embedding_dim': 24, 'units': 244, 'dropout': 0.1, 'n_neurons': 94}. Best is trial 45 with value: 0.9020894169807434.\u001b[0m\n"
          ]
        },
        {
          "name": "stdout",
          "output_type": "stream",
          "text": [
            "{'epochs': 2, 'batch_size': 30, 'embedding_dim': 25, 'units': 200, 'dropout': 0.2, 'n_neurons': 113}\n",
            "Epoch 1/2\n",
            "1235/1235 [==============================] - 18s 12ms/step - loss: 0.1147 - accuracy: 0.7614 - val_loss: 0.0629 - val_accuracy: 0.8880\n",
            "Epoch 2/2\n",
            "1235/1235 [==============================] - 14s 12ms/step - loss: 0.0542 - accuracy: 0.9081 - val_loss: 0.0604 - val_accuracy: 0.8880\n"
          ]
        },
        {
          "name": "stderr",
          "output_type": "stream",
          "text": [
            "\u001b[32m[I 2022-04-13 05:09:23,239]\u001b[0m Trial 56 finished with value: 0.8879980444908142 and parameters: {'epochs': 2, 'batch_size': 30, 'embedding_dim': 25, 'units': 200, 'dropout': 0.2, 'n_neurons': 113}. Best is trial 45 with value: 0.9020894169807434.\u001b[0m\n"
          ]
        },
        {
          "name": "stdout",
          "output_type": "stream",
          "text": [
            "{'epochs': 2, 'batch_size': 35, 'embedding_dim': 33, 'units': 223, 'dropout': 0.30000000000000004, 'n_neurons': 46}\n",
            "Epoch 1/2\n",
            "1059/1059 [==============================] - 22s 18ms/step - loss: 0.1267 - accuracy: 0.7450 - val_loss: 0.0685 - val_accuracy: 0.8717\n",
            "Epoch 2/2\n",
            "1059/1059 [==============================] - 18s 17ms/step - loss: 0.0631 - accuracy: 0.9032 - val_loss: 0.0587 - val_accuracy: 0.8865\n"
          ]
        },
        {
          "name": "stderr",
          "output_type": "stream",
          "text": [
            "\u001b[32m[I 2022-04-13 05:10:06,029]\u001b[0m Trial 57 finished with value: 0.8865403532981873 and parameters: {'epochs': 2, 'batch_size': 35, 'embedding_dim': 33, 'units': 223, 'dropout': 0.30000000000000004, 'n_neurons': 46}. Best is trial 45 with value: 0.9020894169807434.\u001b[0m\n"
          ]
        },
        {
          "name": "stdout",
          "output_type": "stream",
          "text": [
            "{'epochs': 2, 'batch_size': 28, 'embedding_dim': 23, 'units': 205, 'dropout': 0.1, 'n_neurons': 87}\n",
            "Epoch 1/2\n",
            "1323/1323 [==============================] - 21s 13ms/step - loss: 0.1124 - accuracy: 0.7627 - val_loss: 0.0654 - val_accuracy: 0.8778\n",
            "Epoch 2/2\n",
            "1323/1323 [==============================] - 17s 13ms/step - loss: 0.0519 - accuracy: 0.9102 - val_loss: 0.0572 - val_accuracy: 0.8875\n"
          ]
        },
        {
          "name": "stderr",
          "output_type": "stream",
          "text": [
            "\u001b[32m[I 2022-04-13 05:10:46,391]\u001b[0m Trial 58 finished with value: 0.8875121474266052 and parameters: {'epochs': 2, 'batch_size': 28, 'embedding_dim': 23, 'units': 205, 'dropout': 0.1, 'n_neurons': 87}. Best is trial 45 with value: 0.9020894169807434.\u001b[0m\n"
          ]
        },
        {
          "name": "stdout",
          "output_type": "stream",
          "text": [
            "{'epochs': 3, 'batch_size': 23, 'embedding_dim': 29, 'units': 214, 'dropout': 0.5, 'n_neurons': 106}\n",
            "Epoch 1/3\n",
            "1611/1611 [==============================] - 28s 15ms/step - loss: 0.1253 - accuracy: 0.7488 - val_loss: 0.0693 - val_accuracy: 0.8812\n",
            "Epoch 2/3\n",
            "1611/1611 [==============================] - 23s 15ms/step - loss: 0.0647 - accuracy: 0.8988 - val_loss: 0.0624 - val_accuracy: 0.8865\n",
            "Epoch 3/3\n",
            "1611/1611 [==============================] - 23s 15ms/step - loss: 0.0450 - accuracy: 0.9372 - val_loss: 0.0592 - val_accuracy: 0.8851\n"
          ]
        },
        {
          "name": "stderr",
          "output_type": "stream",
          "text": [
            "\u001b[32m[I 2022-04-13 05:12:03,575]\u001b[0m Trial 59 finished with value: 0.8850826025009155 and parameters: {'epochs': 3, 'batch_size': 23, 'embedding_dim': 29, 'units': 214, 'dropout': 0.5, 'n_neurons': 106}. Best is trial 45 with value: 0.9020894169807434.\u001b[0m\n"
          ]
        },
        {
          "name": "stdout",
          "output_type": "stream",
          "text": [
            "{'epochs': 2, 'batch_size': 32, 'embedding_dim': 20, 'units': 240, 'dropout': 0.2, 'n_neurons': 100}\n",
            "Epoch 1/2\n",
            "1158/1158 [==============================] - 19s 14ms/step - loss: 0.1156 - accuracy: 0.7620 - val_loss: 0.0670 - val_accuracy: 0.8739\n",
            "Epoch 2/2\n",
            "1158/1158 [==============================] - 14s 13ms/step - loss: 0.0550 - accuracy: 0.9090 - val_loss: 0.0570 - val_accuracy: 0.8948\n"
          ]
        },
        {
          "name": "stderr",
          "output_type": "stream",
          "text": [
            "\u001b[32m[I 2022-04-13 05:12:39,591]\u001b[0m Trial 60 finished with value: 0.8948007822036743 and parameters: {'epochs': 2, 'batch_size': 32, 'embedding_dim': 20, 'units': 240, 'dropout': 0.2, 'n_neurons': 100}. Best is trial 45 with value: 0.9020894169807434.\u001b[0m\n"
          ]
        },
        {
          "name": "stdout",
          "output_type": "stream",
          "text": [
            "{'epochs': 2, 'batch_size': 27, 'embedding_dim': 39, 'units': 229, 'dropout': 0.2, 'n_neurons': 90}\n",
            "Epoch 1/2\n",
            "1372/1372 [==============================] - 26s 17ms/step - loss: 0.1126 - accuracy: 0.7721 - val_loss: 0.0650 - val_accuracy: 0.8773\n",
            "Epoch 2/2\n",
            "1372/1372 [==============================] - 22s 16ms/step - loss: 0.0533 - accuracy: 0.9124 - val_loss: 0.0564 - val_accuracy: 0.8929\n"
          ]
        },
        {
          "name": "stderr",
          "output_type": "stream",
          "text": [
            "\u001b[32m[I 2022-04-13 05:13:30,417]\u001b[0m Trial 61 finished with value: 0.8928571343421936 and parameters: {'epochs': 2, 'batch_size': 27, 'embedding_dim': 39, 'units': 229, 'dropout': 0.2, 'n_neurons': 90}. Best is trial 45 with value: 0.9020894169807434.\u001b[0m\n"
          ]
        },
        {
          "name": "stdout",
          "output_type": "stream",
          "text": [
            "{'epochs': 2, 'batch_size': 26, 'embedding_dim': 36, 'units': 222, 'dropout': 0.2, 'n_neurons': 79}\n",
            "Epoch 1/2\n",
            "1425/1425 [==============================] - 23s 14ms/step - loss: 0.1126 - accuracy: 0.7709 - val_loss: 0.0642 - val_accuracy: 0.8795\n",
            "Epoch 2/2\n",
            "1425/1425 [==============================] - 19s 13ms/step - loss: 0.0536 - accuracy: 0.9118 - val_loss: 0.0565 - val_accuracy: 0.8936\n"
          ]
        },
        {
          "name": "stderr",
          "output_type": "stream",
          "text": [
            "\u001b[32m[I 2022-04-13 05:14:15,016]\u001b[0m Trial 62 finished with value: 0.8935859799385071 and parameters: {'epochs': 2, 'batch_size': 26, 'embedding_dim': 36, 'units': 222, 'dropout': 0.2, 'n_neurons': 79}. Best is trial 45 with value: 0.9020894169807434.\u001b[0m\n"
          ]
        },
        {
          "name": "stdout",
          "output_type": "stream",
          "text": [
            "{'epochs': 2, 'batch_size': 30, 'embedding_dim': 24, 'units': 217, 'dropout': 0.2, 'n_neurons': 89}\n",
            "Epoch 1/2\n",
            "1235/1235 [==============================] - 23s 16ms/step - loss: 0.1154 - accuracy: 0.7613 - val_loss: 0.0668 - val_accuracy: 0.8763\n",
            "Epoch 2/2\n",
            "1235/1235 [==============================] - 19s 15ms/step - loss: 0.0549 - accuracy: 0.9087 - val_loss: 0.0547 - val_accuracy: 0.8958\n"
          ]
        },
        {
          "name": "stderr",
          "output_type": "stream",
          "text": [
            "\u001b[32m[I 2022-04-13 05:14:59,085]\u001b[0m Trial 63 finished with value: 0.8957725763320923 and parameters: {'epochs': 2, 'batch_size': 30, 'embedding_dim': 24, 'units': 217, 'dropout': 0.2, 'n_neurons': 89}. Best is trial 45 with value: 0.9020894169807434.\u001b[0m\n"
          ]
        },
        {
          "name": "stdout",
          "output_type": "stream",
          "text": [
            "{'epochs': 2, 'batch_size': 29, 'embedding_dim': 22, 'units': 209, 'dropout': 0.30000000000000004, 'n_neurons': 96}\n",
            "Epoch 1/2\n",
            "1278/1278 [==============================] - 24s 16ms/step - loss: 0.1207 - accuracy: 0.7507 - val_loss: 0.0670 - val_accuracy: 0.8797\n",
            "Epoch 2/2\n",
            "1278/1278 [==============================] - 20s 15ms/step - loss: 0.0578 - accuracy: 0.9068 - val_loss: 0.0618 - val_accuracy: 0.8841\n"
          ]
        },
        {
          "name": "stderr",
          "output_type": "stream",
          "text": [
            "\u001b[32m[I 2022-04-13 05:15:45,638]\u001b[0m Trial 64 finished with value: 0.8841108083724976 and parameters: {'epochs': 2, 'batch_size': 29, 'embedding_dim': 22, 'units': 209, 'dropout': 0.30000000000000004, 'n_neurons': 96}. Best is trial 45 with value: 0.9020894169807434.\u001b[0m\n"
          ]
        },
        {
          "name": "stdout",
          "output_type": "stream",
          "text": [
            "{'epochs': 2, 'batch_size': 31, 'embedding_dim': 27, 'units': 226, 'dropout': 0.2, 'n_neurons': 92}\n",
            "Epoch 1/2\n",
            "1195/1195 [==============================] - 23s 16ms/step - loss: 0.1140 - accuracy: 0.7673 - val_loss: 0.0653 - val_accuracy: 0.8807\n",
            "Epoch 2/2\n",
            "1195/1195 [==============================] - 18s 15ms/step - loss: 0.0541 - accuracy: 0.9100 - val_loss: 0.0581 - val_accuracy: 0.8902\n"
          ]
        },
        {
          "name": "stderr",
          "output_type": "stream",
          "text": [
            "\u001b[32m[I 2022-04-13 05:16:32,657]\u001b[0m Trial 65 finished with value: 0.8901846408843994 and parameters: {'epochs': 2, 'batch_size': 31, 'embedding_dim': 27, 'units': 226, 'dropout': 0.2, 'n_neurons': 92}. Best is trial 45 with value: 0.9020894169807434.\u001b[0m\n"
          ]
        },
        {
          "name": "stdout",
          "output_type": "stream",
          "text": [
            "{'epochs': 2, 'batch_size': 28, 'embedding_dim': 39, 'units': 212, 'dropout': 0.1, 'n_neurons': 103}\n",
            "Epoch 1/2\n",
            "1323/1323 [==============================] - 20s 13ms/step - loss: 0.1079 - accuracy: 0.7769 - val_loss: 0.0673 - val_accuracy: 0.8800\n",
            "Epoch 2/2\n",
            "1323/1323 [==============================] - 16s 12ms/step - loss: 0.0481 - accuracy: 0.9177 - val_loss: 0.0606 - val_accuracy: 0.8861\n"
          ]
        },
        {
          "name": "stderr",
          "output_type": "stream",
          "text": [
            "\u001b[32m[I 2022-04-13 05:17:10,881]\u001b[0m Trial 66 finished with value: 0.8860543966293335 and parameters: {'epochs': 2, 'batch_size': 28, 'embedding_dim': 39, 'units': 212, 'dropout': 0.1, 'n_neurons': 103}. Best is trial 45 with value: 0.9020894169807434.\u001b[0m\n"
          ]
        },
        {
          "name": "stdout",
          "output_type": "stream",
          "text": [
            "{'epochs': 2, 'batch_size': 26, 'embedding_dim': 31, 'units': 204, 'dropout': 0.2, 'n_neurons': 119}\n",
            "Epoch 1/2\n",
            "1425/1425 [==============================] - 21s 12ms/step - loss: 0.1118 - accuracy: 0.7717 - val_loss: 0.0632 - val_accuracy: 0.8841\n",
            "Epoch 2/2\n",
            "1425/1425 [==============================] - 17s 12ms/step - loss: 0.0526 - accuracy: 0.9121 - val_loss: 0.0569 - val_accuracy: 0.8914\n"
          ]
        },
        {
          "name": "stderr",
          "output_type": "stream",
          "text": [
            "\u001b[32m[I 2022-04-13 05:17:51,522]\u001b[0m Trial 67 finished with value: 0.8913994431495667 and parameters: {'epochs': 2, 'batch_size': 26, 'embedding_dim': 31, 'units': 204, 'dropout': 0.2, 'n_neurons': 119}. Best is trial 45 with value: 0.9020894169807434.\u001b[0m\n"
          ]
        },
        {
          "name": "stdout",
          "output_type": "stream",
          "text": [
            "{'epochs': 2, 'batch_size': 33, 'embedding_dim': 21, 'units': 281, 'dropout': 0.30000000000000004, 'n_neurons': 99}\n",
            "Epoch 1/2\n",
            "1123/1123 [==============================] - 26s 20ms/step - loss: 0.1222 - accuracy: 0.7480 - val_loss: 0.0689 - val_accuracy: 0.8734\n",
            "Epoch 2/2\n",
            "1123/1123 [==============================] - 22s 20ms/step - loss: 0.0608 - accuracy: 0.9025 - val_loss: 0.0584 - val_accuracy: 0.8958\n"
          ]
        },
        {
          "name": "stderr",
          "output_type": "stream",
          "text": [
            "\u001b[32m[I 2022-04-13 05:18:42,143]\u001b[0m Trial 68 finished with value: 0.8957725763320923 and parameters: {'epochs': 2, 'batch_size': 33, 'embedding_dim': 21, 'units': 281, 'dropout': 0.30000000000000004, 'n_neurons': 99}. Best is trial 45 with value: 0.9020894169807434.\u001b[0m\n"
          ]
        },
        {
          "name": "stdout",
          "output_type": "stream",
          "text": [
            "{'epochs': 3, 'batch_size': 32, 'embedding_dim': 24, 'units': 219, 'dropout': 0.2, 'n_neurons': 111}\n",
            "Epoch 1/3\n",
            "1158/1158 [==============================] - 20s 15ms/step - loss: 0.1170 - accuracy: 0.7536 - val_loss: 0.0653 - val_accuracy: 0.8800\n",
            "Epoch 2/3\n",
            "1158/1158 [==============================] - 16s 14ms/step - loss: 0.0545 - accuracy: 0.9075 - val_loss: 0.0553 - val_accuracy: 0.8933\n",
            "Epoch 3/3\n",
            "1158/1158 [==============================] - 16s 14ms/step - loss: 0.0354 - accuracy: 0.9477 - val_loss: 0.0604 - val_accuracy: 0.8817\n"
          ]
        },
        {
          "name": "stderr",
          "output_type": "stream",
          "text": [
            "\u001b[32m[I 2022-04-13 05:19:37,540]\u001b[0m Trial 69 finished with value: 0.8816812634468079 and parameters: {'epochs': 3, 'batch_size': 32, 'embedding_dim': 24, 'units': 219, 'dropout': 0.2, 'n_neurons': 111}. Best is trial 45 with value: 0.9020894169807434.\u001b[0m\n"
          ]
        },
        {
          "name": "stdout",
          "output_type": "stream",
          "text": [
            "{'epochs': 2, 'batch_size': 24, 'embedding_dim': 26, 'units': 253, 'dropout': 0.2, 'n_neurons': 124}\n",
            "Epoch 1/2\n",
            "1544/1544 [==============================] - 26s 14ms/step - loss: 0.1118 - accuracy: 0.7703 - val_loss: 0.0677 - val_accuracy: 0.8790\n",
            "Epoch 2/2\n",
            "1544/1544 [==============================] - 21s 14ms/step - loss: 0.0527 - accuracy: 0.9115 - val_loss: 0.0532 - val_accuracy: 0.8967\n"
          ]
        },
        {
          "name": "stderr",
          "output_type": "stream",
          "text": [
            "\u001b[32m[I 2022-04-13 05:20:27,463]\u001b[0m Trial 70 finished with value: 0.896744430065155 and parameters: {'epochs': 2, 'batch_size': 24, 'embedding_dim': 26, 'units': 253, 'dropout': 0.2, 'n_neurons': 124}. Best is trial 45 with value: 0.9020894169807434.\u001b[0m\n"
          ]
        },
        {
          "name": "stdout",
          "output_type": "stream",
          "text": [
            "{'epochs': 2, 'batch_size': 24, 'embedding_dim': 26, 'units': 253, 'dropout': 0.2, 'n_neurons': 125}\n",
            "Epoch 1/2\n",
            "1544/1544 [==============================] - 26s 15ms/step - loss: 0.1118 - accuracy: 0.7687 - val_loss: 0.0683 - val_accuracy: 0.8681\n",
            "Epoch 2/2\n",
            "1544/1544 [==============================] - 22s 14ms/step - loss: 0.0524 - accuracy: 0.9127 - val_loss: 0.0599 - val_accuracy: 0.8851\n"
          ]
        },
        {
          "name": "stderr",
          "output_type": "stream",
          "text": [
            "\u001b[32m[I 2022-04-13 05:21:17,216]\u001b[0m Trial 71 finished with value: 0.8850826025009155 and parameters: {'epochs': 2, 'batch_size': 24, 'embedding_dim': 26, 'units': 253, 'dropout': 0.2, 'n_neurons': 125}. Best is trial 45 with value: 0.9020894169807434.\u001b[0m\n"
          ]
        },
        {
          "name": "stdout",
          "output_type": "stream",
          "text": [
            "{'epochs': 2, 'batch_size': 21, 'embedding_dim': 25, 'units': 249, 'dropout': 0.2, 'n_neurons': 117}\n",
            "Epoch 1/2\n",
            "1764/1764 [==============================] - 33s 17ms/step - loss: 0.1115 - accuracy: 0.7706 - val_loss: 0.0727 - val_accuracy: 0.8588\n",
            "Epoch 2/2\n",
            "1764/1764 [==============================] - 29s 16ms/step - loss: 0.0540 - accuracy: 0.9093 - val_loss: 0.0552 - val_accuracy: 0.8941\n"
          ]
        },
        {
          "name": "stderr",
          "output_type": "stream",
          "text": [
            "\u001b[32m[I 2022-04-13 05:22:22,100]\u001b[0m Trial 72 finished with value: 0.8940719366073608 and parameters: {'epochs': 2, 'batch_size': 21, 'embedding_dim': 25, 'units': 249, 'dropout': 0.2, 'n_neurons': 117}. Best is trial 45 with value: 0.9020894169807434.\u001b[0m\n"
          ]
        },
        {
          "name": "stdout",
          "output_type": "stream",
          "text": [
            "{'epochs': 2, 'batch_size': 21, 'embedding_dim': 25, 'units': 256, 'dropout': 0.2, 'n_neurons': 127}\n",
            "Epoch 1/2\n",
            "1764/1764 [==============================] - 26s 13ms/step - loss: 0.1111 - accuracy: 0.7728 - val_loss: 0.0621 - val_accuracy: 0.8870\n",
            "Epoch 2/2\n",
            "1764/1764 [==============================] - 22s 12ms/step - loss: 0.0530 - accuracy: 0.9100 - val_loss: 0.0582 - val_accuracy: 0.8875\n"
          ]
        },
        {
          "name": "stderr",
          "output_type": "stream",
          "text": [
            "\u001b[32m[I 2022-04-13 05:23:12,664]\u001b[0m Trial 73 finished with value: 0.8875121474266052 and parameters: {'epochs': 2, 'batch_size': 21, 'embedding_dim': 25, 'units': 256, 'dropout': 0.2, 'n_neurons': 127}. Best is trial 45 with value: 0.9020894169807434.\u001b[0m\n"
          ]
        },
        {
          "name": "stdout",
          "output_type": "stream",
          "text": [
            "{'epochs': 2, 'batch_size': 24, 'embedding_dim': 28, 'units': 299, 'dropout': 0.2, 'n_neurons': 85}\n",
            "Epoch 1/2\n",
            "1544/1544 [==============================] - 28s 16ms/step - loss: 0.1139 - accuracy: 0.7691 - val_loss: 0.0647 - val_accuracy: 0.8756\n",
            "Epoch 2/2\n",
            "1544/1544 [==============================] - 25s 16ms/step - loss: 0.0554 - accuracy: 0.9087 - val_loss: 0.0622 - val_accuracy: 0.8800\n"
          ]
        },
        {
          "name": "stderr",
          "output_type": "stream",
          "text": [
            "\u001b[32m[I 2022-04-13 05:24:08,183]\u001b[0m Trial 74 finished with value: 0.8799805641174316 and parameters: {'epochs': 2, 'batch_size': 24, 'embedding_dim': 28, 'units': 299, 'dropout': 0.2, 'n_neurons': 85}. Best is trial 45 with value: 0.9020894169807434.\u001b[0m\n"
          ]
        },
        {
          "name": "stdout",
          "output_type": "stream",
          "text": [
            "{'epochs': 2, 'batch_size': 22, 'embedding_dim': 27, 'units': 247, 'dropout': 0.1, 'n_neurons': 74}\n",
            "Epoch 1/2\n",
            "1684/1684 [==============================] - 30s 16ms/step - loss: 0.1080 - accuracy: 0.7796 - val_loss: 0.0629 - val_accuracy: 0.8868\n",
            "Epoch 2/2\n",
            "1684/1684 [==============================] - 26s 15ms/step - loss: 0.0500 - accuracy: 0.9151 - val_loss: 0.0539 - val_accuracy: 0.8972\n"
          ]
        },
        {
          "name": "stderr",
          "output_type": "stream",
          "text": [
            "\u001b[32m[I 2022-04-13 05:25:07,447]\u001b[0m Trial 75 finished with value: 0.897230327129364 and parameters: {'epochs': 2, 'batch_size': 22, 'embedding_dim': 27, 'units': 247, 'dropout': 0.1, 'n_neurons': 74}. Best is trial 45 with value: 0.9020894169807434.\u001b[0m\n"
          ]
        },
        {
          "name": "stdout",
          "output_type": "stream",
          "text": [
            "{'epochs': 2, 'batch_size': 22, 'embedding_dim': 27, 'units': 264, 'dropout': 0.1, 'n_neurons': 73}\n",
            "Epoch 1/2\n",
            "1684/1684 [==============================] - 26s 14ms/step - loss: 0.1108 - accuracy: 0.7713 - val_loss: 0.0651 - val_accuracy: 0.8807\n",
            "Epoch 2/2\n",
            "1684/1684 [==============================] - 22s 13ms/step - loss: 0.0508 - accuracy: 0.9137 - val_loss: 0.0563 - val_accuracy: 0.8890\n"
          ]
        },
        {
          "name": "stderr",
          "output_type": "stream",
          "text": [
            "\u001b[32m[I 2022-04-13 05:25:58,746]\u001b[0m Trial 76 finished with value: 0.888969898223877 and parameters: {'epochs': 2, 'batch_size': 22, 'embedding_dim': 27, 'units': 264, 'dropout': 0.1, 'n_neurons': 73}. Best is trial 45 with value: 0.9020894169807434.\u001b[0m\n"
          ]
        },
        {
          "name": "stdout",
          "output_type": "stream",
          "text": [
            "{'epochs': 2, 'batch_size': 20, 'embedding_dim': 28, 'units': 274, 'dropout': 0.1, 'n_neurons': 123}\n",
            "Epoch 1/2\n",
            "1853/1853 [==============================] - 32s 15ms/step - loss: 0.1074 - accuracy: 0.7799 - val_loss: 0.0638 - val_accuracy: 0.8856\n",
            "Epoch 2/2\n",
            "1853/1853 [==============================] - 27s 15ms/step - loss: 0.0497 - accuracy: 0.9134 - val_loss: 0.0540 - val_accuracy: 0.9016\n"
          ]
        },
        {
          "name": "stderr",
          "output_type": "stream",
          "text": [
            "\u001b[32m[I 2022-04-13 05:27:00,102]\u001b[0m Trial 77 finished with value: 0.9016035199165344 and parameters: {'epochs': 2, 'batch_size': 20, 'embedding_dim': 28, 'units': 274, 'dropout': 0.1, 'n_neurons': 123}. Best is trial 45 with value: 0.9020894169807434.\u001b[0m\n"
          ]
        },
        {
          "name": "stdout",
          "output_type": "stream",
          "text": [
            "{'epochs': 2, 'batch_size': 20, 'embedding_dim': 27, 'units': 294, 'dropout': 0.1, 'n_neurons': 69}\n",
            "Epoch 1/2\n",
            "1853/1853 [==============================] - 32s 16ms/step - loss: 0.1084 - accuracy: 0.7759 - val_loss: 0.0644 - val_accuracy: 0.8819\n",
            "Epoch 2/2\n",
            "1853/1853 [==============================] - 29s 15ms/step - loss: 0.0512 - accuracy: 0.9131 - val_loss: 0.0574 - val_accuracy: 0.8890\n"
          ]
        },
        {
          "name": "stderr",
          "output_type": "stream",
          "text": [
            "\u001b[32m[I 2022-04-13 05:28:04,183]\u001b[0m Trial 78 finished with value: 0.888969898223877 and parameters: {'epochs': 2, 'batch_size': 20, 'embedding_dim': 27, 'units': 294, 'dropout': 0.1, 'n_neurons': 69}. Best is trial 45 with value: 0.9020894169807434.\u001b[0m\n"
          ]
        },
        {
          "name": "stdout",
          "output_type": "stream",
          "text": [
            "{'epochs': 2, 'batch_size': 22, 'embedding_dim': 29, 'units': 271, 'dropout': 0.1, 'n_neurons': 123}\n",
            "Epoch 1/2\n",
            "1684/1684 [==============================] - 32s 17ms/step - loss: 0.1066 - accuracy: 0.7804 - val_loss: 0.0611 - val_accuracy: 0.8878\n",
            "Epoch 2/2\n",
            "1684/1684 [==============================] - 28s 16ms/step - loss: 0.0491 - accuracy: 0.9148 - val_loss: 0.0557 - val_accuracy: 0.8948\n"
          ]
        },
        {
          "name": "stderr",
          "output_type": "stream",
          "text": [
            "\u001b[32m[I 2022-04-13 05:29:06,368]\u001b[0m Trial 79 finished with value: 0.8948007822036743 and parameters: {'epochs': 2, 'batch_size': 22, 'embedding_dim': 29, 'units': 271, 'dropout': 0.1, 'n_neurons': 123}. Best is trial 45 with value: 0.9020894169807434.\u001b[0m\n"
          ]
        },
        {
          "name": "stdout",
          "output_type": "stream",
          "text": [
            "{'epochs': 2, 'batch_size': 20, 'embedding_dim': 28, 'units': 207, 'dropout': 0.1, 'n_neurons': 115}\n",
            "Epoch 1/2\n",
            "1853/1853 [==============================] - 27s 13ms/step - loss: 0.1064 - accuracy: 0.7821 - val_loss: 0.0681 - val_accuracy: 0.8683\n",
            "Epoch 2/2\n",
            "1853/1853 [==============================] - 23s 13ms/step - loss: 0.0485 - accuracy: 0.9160 - val_loss: 0.0559 - val_accuracy: 0.8960\n"
          ]
        },
        {
          "name": "stderr",
          "output_type": "stream",
          "text": [
            "\u001b[32m[I 2022-04-13 05:29:59,091]\u001b[0m Trial 80 finished with value: 0.8960155248641968 and parameters: {'epochs': 2, 'batch_size': 20, 'embedding_dim': 28, 'units': 207, 'dropout': 0.1, 'n_neurons': 115}. Best is trial 45 with value: 0.9020894169807434.\u001b[0m\n"
          ]
        },
        {
          "name": "stdout",
          "output_type": "stream",
          "text": [
            "{'epochs': 2, 'batch_size': 22, 'embedding_dim': 26, 'units': 276, 'dropout': 0.1, 'n_neurons': 123}\n",
            "Epoch 1/2\n",
            "1684/1684 [==============================] - 27s 14ms/step - loss: 0.1083 - accuracy: 0.7736 - val_loss: 0.0653 - val_accuracy: 0.8788\n",
            "Epoch 2/2\n",
            "1684/1684 [==============================] - 23s 14ms/step - loss: 0.0506 - accuracy: 0.9117 - val_loss: 0.0628 - val_accuracy: 0.8844\n"
          ]
        },
        {
          "name": "stderr",
          "output_type": "stream",
          "text": [
            "\u001b[32m[I 2022-04-13 05:31:27,643]\u001b[0m Trial 81 finished with value: 0.884353756904602 and parameters: {'epochs': 2, 'batch_size': 22, 'embedding_dim': 26, 'units': 276, 'dropout': 0.1, 'n_neurons': 123}. Best is trial 45 with value: 0.9020894169807434.\u001b[0m\n"
          ]
        },
        {
          "name": "stdout",
          "output_type": "stream",
          "text": [
            "{'epochs': 2, 'batch_size': 32, 'embedding_dim': 30, 'units': 202, 'dropout': 0.1, 'n_neurons': 32}\n",
            "Epoch 1/2\n",
            "1158/1158 [==============================] - 20s 14ms/step - loss: 0.1152 - accuracy: 0.7612 - val_loss: 0.0663 - val_accuracy: 0.8836\n",
            "Epoch 2/2\n",
            "1158/1158 [==============================] - 16s 14ms/step - loss: 0.0530 - accuracy: 0.9115 - val_loss: 0.0599 - val_accuracy: 0.8858\n"
          ]
        },
        {
          "name": "stderr",
          "output_type": "stream",
          "text": [
            "\u001b[32m[I 2022-04-13 05:32:06,527]\u001b[0m Trial 82 finished with value: 0.885811448097229 and parameters: {'epochs': 2, 'batch_size': 32, 'embedding_dim': 30, 'units': 202, 'dropout': 0.1, 'n_neurons': 32}. Best is trial 45 with value: 0.9020894169807434.\u001b[0m\n"
          ]
        },
        {
          "name": "stdout",
          "output_type": "stream",
          "text": [
            "{'epochs': 2, 'batch_size': 23, 'embedding_dim': 26, 'units': 259, 'dropout': 0.4, 'n_neurons': 76}\n",
            "Epoch 1/2\n",
            "1611/1611 [==============================] - 31s 17ms/step - loss: 0.1216 - accuracy: 0.7575 - val_loss: 0.0720 - val_accuracy: 0.8724\n",
            "Epoch 2/2\n",
            "1611/1611 [==============================] - 27s 17ms/step - loss: 0.0632 - accuracy: 0.9014 - val_loss: 0.0622 - val_accuracy: 0.8865\n"
          ]
        },
        {
          "name": "stderr",
          "output_type": "stream",
          "text": [
            "\u001b[32m[I 2022-04-13 05:33:07,280]\u001b[0m Trial 83 finished with value: 0.8865403532981873 and parameters: {'epochs': 2, 'batch_size': 23, 'embedding_dim': 26, 'units': 259, 'dropout': 0.4, 'n_neurons': 76}. Best is trial 45 with value: 0.9020894169807434.\u001b[0m\n"
          ]
        },
        {
          "name": "stdout",
          "output_type": "stream",
          "text": [
            "{'epochs': 2, 'batch_size': 20, 'embedding_dim': 28, 'units': 248, 'dropout': 0.30000000000000004, 'n_neurons': 128}\n",
            "Epoch 1/2\n",
            "1853/1853 [==============================] - 27s 13ms/step - loss: 0.1157 - accuracy: 0.7612 - val_loss: 0.0667 - val_accuracy: 0.8734\n",
            "Epoch 2/2\n",
            "1853/1853 [==============================] - 23s 12ms/step - loss: 0.0561 - accuracy: 0.9075 - val_loss: 0.0600 - val_accuracy: 0.8904\n"
          ]
        },
        {
          "name": "stderr",
          "output_type": "stream",
          "text": [
            "\u001b[32m[I 2022-04-13 05:34:35,300]\u001b[0m Trial 84 finished with value: 0.8904275894165039 and parameters: {'epochs': 2, 'batch_size': 20, 'embedding_dim': 28, 'units': 248, 'dropout': 0.30000000000000004, 'n_neurons': 128}. Best is trial 45 with value: 0.9020894169807434.\u001b[0m\n"
          ]
        },
        {
          "name": "stdout",
          "output_type": "stream",
          "text": [
            "{'epochs': 2, 'batch_size': 21, 'embedding_dim': 27, 'units': 277, 'dropout': 0.1, 'n_neurons': 106}\n",
            "Epoch 1/2\n",
            "1764/1764 [==============================] - 35s 18ms/step - loss: 0.1075 - accuracy: 0.7768 - val_loss: 0.0623 - val_accuracy: 0.8875\n",
            "Epoch 2/2\n",
            "1764/1764 [==============================] - 31s 17ms/step - loss: 0.0511 - accuracy: 0.9111 - val_loss: 0.0554 - val_accuracy: 0.8980\n"
          ]
        },
        {
          "name": "stderr",
          "output_type": "stream",
          "text": [
            "\u001b[32m[I 2022-04-13 05:35:44,113]\u001b[0m Trial 85 finished with value: 0.8979591727256775 and parameters: {'epochs': 2, 'batch_size': 21, 'embedding_dim': 27, 'units': 277, 'dropout': 0.1, 'n_neurons': 106}. Best is trial 45 with value: 0.9020894169807434.\u001b[0m\n"
          ]
        },
        {
          "name": "stdout",
          "output_type": "stream",
          "text": [
            "{'epochs': 3, 'batch_size': 21, 'embedding_dim': 27, 'units': 287, 'dropout': 0.1, 'n_neurons': 105}\n",
            "Epoch 1/3\n",
            "1764/1764 [==============================] - 36s 19ms/step - loss: 0.1077 - accuracy: 0.7776 - val_loss: 0.0639 - val_accuracy: 0.8793\n",
            "Epoch 2/3\n",
            "1764/1764 [==============================] - 32s 18ms/step - loss: 0.0496 - accuracy: 0.9141 - val_loss: 0.0563 - val_accuracy: 0.8936\n",
            "Epoch 3/3\n",
            "1764/1764 [==============================] - 32s 18ms/step - loss: 0.0319 - accuracy: 0.9502 - val_loss: 0.0556 - val_accuracy: 0.8953\n"
          ]
        },
        {
          "name": "stderr",
          "output_type": "stream",
          "text": [
            "\u001b[32m[I 2022-04-13 05:37:27,877]\u001b[0m Trial 86 finished with value: 0.8952866792678833 and parameters: {'epochs': 3, 'batch_size': 21, 'embedding_dim': 27, 'units': 287, 'dropout': 0.1, 'n_neurons': 105}. Best is trial 45 with value: 0.9020894169807434.\u001b[0m\n"
          ]
        },
        {
          "name": "stdout",
          "output_type": "stream",
          "text": [
            "{'epochs': 2, 'batch_size': 34, 'embedding_dim': 28, 'units': 278, 'dropout': 0.1, 'n_neurons': 109}\n",
            "Epoch 1/2\n",
            "1090/1090 [==============================] - 22s 17ms/step - loss: 0.1111 - accuracy: 0.7683 - val_loss: 0.0643 - val_accuracy: 0.8780\n",
            "Epoch 2/2\n",
            "1090/1090 [==============================] - 18s 16ms/step - loss: 0.0506 - accuracy: 0.9127 - val_loss: 0.0592 - val_accuracy: 0.8875\n"
          ]
        },
        {
          "name": "stderr",
          "output_type": "stream",
          "text": [
            "\u001b[32m[I 2022-04-13 05:38:10,436]\u001b[0m Trial 87 finished with value: 0.8875121474266052 and parameters: {'epochs': 2, 'batch_size': 34, 'embedding_dim': 28, 'units': 278, 'dropout': 0.1, 'n_neurons': 109}. Best is trial 45 with value: 0.9020894169807434.\u001b[0m\n"
          ]
        },
        {
          "name": "stdout",
          "output_type": "stream",
          "text": [
            "{'epochs': 2, 'batch_size': 38, 'embedding_dim': 25, 'units': 269, 'dropout': 0.1, 'n_neurons': 102}\n",
            "Epoch 1/2\n",
            "975/975 [==============================] - 22s 19ms/step - loss: 0.1151 - accuracy: 0.7562 - val_loss: 0.0637 - val_accuracy: 0.8805\n",
            "Epoch 2/2\n",
            "975/975 [==============================] - 18s 18ms/step - loss: 0.0508 - accuracy: 0.9132 - val_loss: 0.0556 - val_accuracy: 0.9006\n"
          ]
        },
        {
          "name": "stderr",
          "output_type": "stream",
          "text": [
            "\u001b[32m[I 2022-04-13 05:38:53,277]\u001b[0m Trial 88 finished with value: 0.9006316661834717 and parameters: {'epochs': 2, 'batch_size': 38, 'embedding_dim': 25, 'units': 269, 'dropout': 0.1, 'n_neurons': 102}. Best is trial 45 with value: 0.9020894169807434.\u001b[0m\n"
          ]
        },
        {
          "name": "stdout",
          "output_type": "stream",
          "text": [
            "{'epochs': 2, 'batch_size': 38, 'embedding_dim': 24, 'units': 271, 'dropout': 0.1, 'n_neurons': 111}\n",
            "Epoch 1/2\n",
            "975/975 [==============================] - 22s 19ms/step - loss: 0.1145 - accuracy: 0.7597 - val_loss: 0.0656 - val_accuracy: 0.8785\n",
            "Epoch 2/2\n",
            "975/975 [==============================] - 18s 18ms/step - loss: 0.0506 - accuracy: 0.9141 - val_loss: 0.0538 - val_accuracy: 0.8970\n"
          ]
        },
        {
          "name": "stderr",
          "output_type": "stream",
          "text": [
            "\u001b[32m[I 2022-04-13 05:39:39,815]\u001b[0m Trial 89 finished with value: 0.8969873785972595 and parameters: {'epochs': 2, 'batch_size': 38, 'embedding_dim': 24, 'units': 271, 'dropout': 0.1, 'n_neurons': 111}. Best is trial 45 with value: 0.9020894169807434.\u001b[0m\n"
          ]
        },
        {
          "name": "stdout",
          "output_type": "stream",
          "text": [
            "{'epochs': 2, 'batch_size': 39, 'embedding_dim': 22, 'units': 274, 'dropout': 0.5, 'n_neurons': 102}\n",
            "Epoch 1/2\n",
            "950/950 [==============================] - 22s 19ms/step - loss: 0.1321 - accuracy: 0.7278 - val_loss: 0.0687 - val_accuracy: 0.8780\n",
            "Epoch 2/2\n",
            "950/950 [==============================] - 17s 18ms/step - loss: 0.0664 - accuracy: 0.8978 - val_loss: 0.0612 - val_accuracy: 0.8870\n"
          ]
        },
        {
          "name": "stderr",
          "output_type": "stream",
          "text": [
            "\u001b[32m[I 2022-04-13 05:40:21,233]\u001b[0m Trial 90 finished with value: 0.8870262503623962 and parameters: {'epochs': 2, 'batch_size': 39, 'embedding_dim': 22, 'units': 274, 'dropout': 0.5, 'n_neurons': 102}. Best is trial 45 with value: 0.9020894169807434.\u001b[0m\n"
          ]
        },
        {
          "name": "stdout",
          "output_type": "stream",
          "text": [
            "{'epochs': 2, 'batch_size': 21, 'embedding_dim': 29, 'units': 284, 'dropout': 0.1, 'n_neurons': 95}\n",
            "Epoch 1/2\n",
            "1764/1764 [==============================] - 28s 14ms/step - loss: 0.1073 - accuracy: 0.7803 - val_loss: 0.0645 - val_accuracy: 0.8746\n",
            "Epoch 2/2\n",
            "1764/1764 [==============================] - 24s 14ms/step - loss: 0.0508 - accuracy: 0.9126 - val_loss: 0.0542 - val_accuracy: 0.8992\n"
          ]
        },
        {
          "name": "stderr",
          "output_type": "stream",
          "text": [
            "\u001b[32m[I 2022-04-13 05:41:15,843]\u001b[0m Trial 91 finished with value: 0.8991739749908447 and parameters: {'epochs': 2, 'batch_size': 21, 'embedding_dim': 29, 'units': 284, 'dropout': 0.1, 'n_neurons': 95}. Best is trial 45 with value: 0.9020894169807434.\u001b[0m\n"
          ]
        },
        {
          "name": "stdout",
          "output_type": "stream",
          "text": [
            "{'epochs': 2, 'batch_size': 40, 'embedding_dim': 30, 'units': 283, 'dropout': 0.1, 'n_neurons': 95}\n",
            "Epoch 1/2\n",
            "927/927 [==============================] - 20s 18ms/step - loss: 0.1118 - accuracy: 0.7662 - val_loss: 0.0629 - val_accuracy: 0.8846\n",
            "Epoch 2/2\n",
            "927/927 [==============================] - 16s 18ms/step - loss: 0.0502 - accuracy: 0.9138 - val_loss: 0.0563 - val_accuracy: 0.8958\n"
          ]
        },
        {
          "name": "stderr",
          "output_type": "stream",
          "text": [
            "\u001b[32m[I 2022-04-13 05:41:55,349]\u001b[0m Trial 92 finished with value: 0.8957725763320923 and parameters: {'epochs': 2, 'batch_size': 40, 'embedding_dim': 30, 'units': 283, 'dropout': 0.1, 'n_neurons': 95}. Best is trial 45 with value: 0.9020894169807434.\u001b[0m\n"
          ]
        },
        {
          "name": "stdout",
          "output_type": "stream",
          "text": [
            "{'epochs': 2, 'batch_size': 37, 'embedding_dim': 29, 'units': 288, 'dropout': 0.1, 'n_neurons': 98}\n",
            "Epoch 1/2\n",
            "1002/1002 [==============================] - 19s 16ms/step - loss: 0.1123 - accuracy: 0.7667 - val_loss: 0.0638 - val_accuracy: 0.8812\n",
            "Epoch 2/2\n",
            "1002/1002 [==============================] - 15s 15ms/step - loss: 0.0509 - accuracy: 0.9143 - val_loss: 0.0532 - val_accuracy: 0.8970\n"
          ]
        },
        {
          "name": "stderr",
          "output_type": "stream",
          "text": [
            "\u001b[32m[I 2022-04-13 05:42:32,498]\u001b[0m Trial 93 finished with value: 0.8969873785972595 and parameters: {'epochs': 2, 'batch_size': 37, 'embedding_dim': 29, 'units': 288, 'dropout': 0.1, 'n_neurons': 98}. Best is trial 45 with value: 0.9020894169807434.\u001b[0m\n"
          ]
        },
        {
          "name": "stdout",
          "output_type": "stream",
          "text": [
            "{'epochs': 2, 'batch_size': 31, 'embedding_dim': 23, 'units': 279, 'dropout': 0.1, 'n_neurons': 117}\n",
            "Epoch 1/2\n",
            "1195/1195 [==============================] - 27s 20ms/step - loss: 0.1115 - accuracy: 0.7657 - val_loss: 0.0696 - val_accuracy: 0.8649\n",
            "Epoch 2/2\n",
            "1195/1195 [==============================] - 23s 19ms/step - loss: 0.0502 - accuracy: 0.9144 - val_loss: 0.0563 - val_accuracy: 0.8938\n"
          ]
        },
        {
          "name": "stderr",
          "output_type": "stream",
          "text": [
            "\u001b[32m[I 2022-04-13 05:43:24,746]\u001b[0m Trial 94 finished with value: 0.8938289880752563 and parameters: {'epochs': 2, 'batch_size': 31, 'embedding_dim': 23, 'units': 279, 'dropout': 0.1, 'n_neurons': 117}. Best is trial 45 with value: 0.9020894169807434.\u001b[0m\n"
          ]
        },
        {
          "name": "stdout",
          "output_type": "stream",
          "text": [
            "{'epochs': 2, 'batch_size': 33, 'embedding_dim': 25, 'units': 286, 'dropout': 0.1, 'n_neurons': 107}\n",
            "Epoch 1/2\n",
            "1123/1123 [==============================] - 25s 19ms/step - loss: 0.1105 - accuracy: 0.7693 - val_loss: 0.0652 - val_accuracy: 0.8819\n",
            "Epoch 2/2\n",
            "1123/1123 [==============================] - 20s 18ms/step - loss: 0.0506 - accuracy: 0.9121 - val_loss: 0.0580 - val_accuracy: 0.8899\n"
          ]
        },
        {
          "name": "stderr",
          "output_type": "stream",
          "text": [
            "\u001b[32m[I 2022-04-13 05:44:12,903]\u001b[0m Trial 95 finished with value: 0.8899416923522949 and parameters: {'epochs': 2, 'batch_size': 33, 'embedding_dim': 25, 'units': 286, 'dropout': 0.1, 'n_neurons': 107}. Best is trial 45 with value: 0.9020894169807434.\u001b[0m\n"
          ]
        },
        {
          "name": "stdout",
          "output_type": "stream",
          "text": [
            "{'epochs': 2, 'batch_size': 36, 'embedding_dim': 34, 'units': 291, 'dropout': 0.1, 'n_neurons': 100}\n",
            "Epoch 1/2\n",
            "1029/1029 [==============================] - 23s 18ms/step - loss: 0.1111 - accuracy: 0.7679 - val_loss: 0.0646 - val_accuracy: 0.8805\n",
            "Epoch 2/2\n",
            "1029/1029 [==============================] - 18s 18ms/step - loss: 0.0507 - accuracy: 0.9137 - val_loss: 0.0571 - val_accuracy: 0.8941\n"
          ]
        },
        {
          "name": "stderr",
          "output_type": "stream",
          "text": [
            "\u001b[32m[I 2022-04-13 05:45:00,065]\u001b[0m Trial 96 finished with value: 0.8940719366073608 and parameters: {'epochs': 2, 'batch_size': 36, 'embedding_dim': 34, 'units': 291, 'dropout': 0.1, 'n_neurons': 100}. Best is trial 45 with value: 0.9020894169807434.\u001b[0m\n"
          ]
        },
        {
          "name": "stdout",
          "output_type": "stream",
          "text": [
            "{'epochs': 2, 'batch_size': 21, 'embedding_dim': 31, 'units': 269, 'dropout': 0.4, 'n_neurons': 93}\n",
            "Epoch 1/2\n",
            "1764/1764 [==============================] - 34s 17ms/step - loss: 0.1197 - accuracy: 0.7630 - val_loss: 0.0705 - val_accuracy: 0.8671\n",
            "Epoch 2/2\n",
            "1764/1764 [==============================] - 30s 17ms/step - loss: 0.0610 - accuracy: 0.9027 - val_loss: 0.0578 - val_accuracy: 0.8865\n"
          ]
        },
        {
          "name": "stderr",
          "output_type": "stream",
          "text": [
            "\u001b[32m[I 2022-04-13 05:46:06,433]\u001b[0m Trial 97 finished with value: 0.8865403532981873 and parameters: {'epochs': 2, 'batch_size': 21, 'embedding_dim': 31, 'units': 269, 'dropout': 0.4, 'n_neurons': 93}. Best is trial 45 with value: 0.9020894169807434.\u001b[0m\n"
          ]
        },
        {
          "name": "stdout",
          "output_type": "stream",
          "text": [
            "{'epochs': 3, 'batch_size': 30, 'embedding_dim': 25, 'units': 265, 'dropout': 0.1, 'n_neurons': 104}\n",
            "Epoch 1/3\n",
            "1235/1235 [==============================] - 26s 18ms/step - loss: 0.1092 - accuracy: 0.7731 - val_loss: 0.0680 - val_accuracy: 0.8744\n",
            "Epoch 2/3\n",
            "1235/1235 [==============================] - 22s 18ms/step - loss: 0.0508 - accuracy: 0.9126 - val_loss: 0.0570 - val_accuracy: 0.8890\n",
            "Epoch 3/3\n",
            "1235/1235 [==============================] - 22s 18ms/step - loss: 0.0320 - accuracy: 0.9493 - val_loss: 0.0633 - val_accuracy: 0.8761\n"
          ]
        },
        {
          "name": "stderr",
          "output_type": "stream",
          "text": [
            "\u001b[32m[I 2022-04-13 05:47:19,283]\u001b[0m Trial 98 finished with value: 0.8760932683944702 and parameters: {'epochs': 3, 'batch_size': 30, 'embedding_dim': 25, 'units': 265, 'dropout': 0.1, 'n_neurons': 104}. Best is trial 45 with value: 0.9020894169807434.\u001b[0m\n"
          ]
        },
        {
          "name": "stdout",
          "output_type": "stream",
          "text": [
            "{'epochs': 2, 'batch_size': 31, 'embedding_dim': 20, 'units': 273, 'dropout': 0.30000000000000004, 'n_neurons': 96}\n",
            "Epoch 1/2\n",
            "1195/1195 [==============================] - 26s 20ms/step - loss: 0.1183 - accuracy: 0.7553 - val_loss: 0.0662 - val_accuracy: 0.8790\n",
            "Epoch 2/2\n",
            "1195/1195 [==============================] - 22s 19ms/step - loss: 0.0574 - accuracy: 0.9075 - val_loss: 0.0578 - val_accuracy: 0.8921\n"
          ]
        },
        {
          "name": "stderr",
          "output_type": "stream",
          "text": [
            "\u001b[32m[I 2022-04-13 05:48:10,535]\u001b[0m Trial 99 finished with value: 0.8921282887458801 and parameters: {'epochs': 2, 'batch_size': 31, 'embedding_dim': 20, 'units': 273, 'dropout': 0.30000000000000004, 'n_neurons': 96}. Best is trial 45 with value: 0.9020894169807434.\u001b[0m\n"
          ]
        },
        {
          "name": "stdout",
          "output_type": "stream",
          "text": [
            "Number of finished trials:  100\n",
            "Best value: 0.9020894169807434\n",
            "Best params: {'epochs': 2, 'batch_size': 31, 'embedding_dim': 25, 'units': 210, 'dropout': 0.2, 'n_neurons': 50}\n",
            "time: 1h 27min 30s (started: 2022-04-13 04:20:40 +00:00)\n"
          ]
        }
      ],
      "source": [
        "opt.optisearch(X_train=X_train, y_train=y_train, y_test=y_test, n_trials=100)"
      ]
    },
    {
      "cell_type": "code",
      "execution_count": null,
      "metadata": {
        "colab": {
          "background_save": true,
          "base_uri": "https://localhost:8080/"
        },
        "id": "z1YKHuMITdE-",
        "outputId": "2231aea8-cf12-4f6a-f8cc-f54c0fa03966"
      },
      "outputs": [
        {
          "name": "stderr",
          "output_type": "stream",
          "text": [
            "\u001b[32m[I 2022-04-13 07:11:59,741]\u001b[0m A new study created in memory with name: no-name-54ad69b2-83b2-41a8-bb75-4cda4fc5c90b\u001b[0m\n"
          ]
        },
        {
          "name": "stdout",
          "output_type": "stream",
          "text": [
            "{'epochs': 2, 'batch_size': 21, 'embedding_dim': 31, 'units': 296, 'dropout': 0.2, 'n_neurons': 54}\n",
            "Epoch 1/2\n",
            "1764/1764 [==============================] - 30s 15ms/step - loss: 0.1145 - accuracy: 0.7715 - val_loss: 0.0658 - val_accuracy: 0.8793\n",
            "Epoch 2/2\n",
            "1764/1764 [==============================] - 25s 14ms/step - loss: 0.0576 - accuracy: 0.9083 - val_loss: 0.0599 - val_accuracy: 0.8863\n"
          ]
        },
        {
          "name": "stderr",
          "output_type": "stream",
          "text": [
            "\u001b[32m[I 2022-04-13 07:12:57,350]\u001b[0m Trial 0 finished with value: 0.8862974047660828 and parameters: {'epochs': 2, 'batch_size': 21, 'embedding_dim': 31, 'units': 296, 'dropout': 0.2, 'n_neurons': 54}. Best is trial 0 with value: 0.8862974047660828.\u001b[0m\n"
          ]
        },
        {
          "name": "stdout",
          "output_type": "stream",
          "text": [
            "{'epochs': 3, 'batch_size': 26, 'embedding_dim': 32, 'units': 300, 'dropout': 0.4, 'n_neurons': 68}\n",
            "Epoch 1/3\n",
            "1425/1425 [==============================] - 25s 16ms/step - loss: 0.1254 - accuracy: 0.7514 - val_loss: 0.0703 - val_accuracy: 0.8741\n",
            "Epoch 2/3\n",
            "1425/1425 [==============================] - 21s 15ms/step - loss: 0.0651 - accuracy: 0.8987 - val_loss: 0.0566 - val_accuracy: 0.8982\n",
            "Epoch 3/3\n",
            "1425/1425 [==============================] - 21s 15ms/step - loss: 0.0452 - accuracy: 0.9397 - val_loss: 0.0576 - val_accuracy: 0.8887\n"
          ]
        },
        {
          "name": "stderr",
          "output_type": "stream",
          "text": [
            "\u001b[32m[I 2022-04-13 07:14:07,682]\u001b[0m Trial 1 finished with value: 0.8887268900871277 and parameters: {'epochs': 3, 'batch_size': 26, 'embedding_dim': 32, 'units': 300, 'dropout': 0.4, 'n_neurons': 68}. Best is trial 1 with value: 0.8887268900871277.\u001b[0m\n"
          ]
        },
        {
          "name": "stdout",
          "output_type": "stream",
          "text": [
            "{'epochs': 3, 'batch_size': 27, 'embedding_dim': 29, 'units': 222, 'dropout': 0.2, 'n_neurons': 35}\n",
            "Epoch 1/3\n",
            "1372/1372 [==============================] - 25s 16ms/step - loss: 0.1205 - accuracy: 0.7540 - val_loss: 0.0667 - val_accuracy: 0.8778\n",
            "Epoch 2/3\n",
            "1372/1372 [==============================] - 21s 15ms/step - loss: 0.0582 - accuracy: 0.9084 - val_loss: 0.0581 - val_accuracy: 0.8865\n",
            "Epoch 3/3\n",
            "1372/1372 [==============================] - 21s 15ms/step - loss: 0.0398 - accuracy: 0.9463 - val_loss: 0.0603 - val_accuracy: 0.8853\n"
          ]
        },
        {
          "name": "stderr",
          "output_type": "stream",
          "text": [
            "\u001b[32m[I 2022-04-13 07:15:17,487]\u001b[0m Trial 2 finished with value: 0.88532555103302 and parameters: {'epochs': 3, 'batch_size': 27, 'embedding_dim': 29, 'units': 222, 'dropout': 0.2, 'n_neurons': 35}. Best is trial 1 with value: 0.8887268900871277.\u001b[0m\n"
          ]
        },
        {
          "name": "stdout",
          "output_type": "stream",
          "text": [
            "{'epochs': 3, 'batch_size': 37, 'embedding_dim': 36, 'units': 293, 'dropout': 0.30000000000000004, 'n_neurons': 37}\n",
            "Epoch 1/3\n",
            "1002/1002 [==============================] - 25s 21ms/step - loss: 0.1326 - accuracy: 0.7354 - val_loss: 0.0748 - val_accuracy: 0.8678\n",
            "Epoch 2/3\n",
            "1002/1002 [==============================] - 21s 20ms/step - loss: 0.0672 - accuracy: 0.8984 - val_loss: 0.0583 - val_accuracy: 0.8909\n",
            "Epoch 3/3\n",
            "1002/1002 [==============================] - 20s 20ms/step - loss: 0.0478 - accuracy: 0.9369 - val_loss: 0.0662 - val_accuracy: 0.8729\n"
          ]
        },
        {
          "name": "stderr",
          "output_type": "stream",
          "text": [
            "\u001b[32m[I 2022-04-13 07:16:25,869]\u001b[0m Trial 3 finished with value: 0.872934877872467 and parameters: {'epochs': 3, 'batch_size': 37, 'embedding_dim': 36, 'units': 293, 'dropout': 0.30000000000000004, 'n_neurons': 37}. Best is trial 1 with value: 0.8887268900871277.\u001b[0m\n"
          ]
        },
        {
          "name": "stdout",
          "output_type": "stream",
          "text": [
            "{'epochs': 3, 'batch_size': 27, 'embedding_dim': 36, 'units': 290, 'dropout': 0.5, 'n_neurons': 117}\n",
            "Epoch 1/3\n",
            "1372/1372 [==============================] - 28s 18ms/step - loss: 0.1249 - accuracy: 0.7494 - val_loss: 0.0691 - val_accuracy: 0.8788\n",
            "Epoch 2/3\n",
            "1372/1372 [==============================] - 24s 18ms/step - loss: 0.0641 - accuracy: 0.9015 - val_loss: 0.0592 - val_accuracy: 0.8904\n",
            "Epoch 3/3\n",
            "1372/1372 [==============================] - 24s 18ms/step - loss: 0.0444 - accuracy: 0.9401 - val_loss: 0.0580 - val_accuracy: 0.8916\n"
          ]
        },
        {
          "name": "stderr",
          "output_type": "stream",
          "text": [
            "\u001b[32m[I 2022-04-13 07:17:45,755]\u001b[0m Trial 4 finished with value: 0.8916423916816711 and parameters: {'epochs': 3, 'batch_size': 27, 'embedding_dim': 36, 'units': 290, 'dropout': 0.5, 'n_neurons': 117}. Best is trial 4 with value: 0.8916423916816711.\u001b[0m\n"
          ]
        },
        {
          "name": "stdout",
          "output_type": "stream",
          "text": [
            "{'epochs': 2, 'batch_size': 20, 'embedding_dim': 21, 'units': 200, 'dropout': 0.1, 'n_neurons': 118}\n",
            "Epoch 1/2\n",
            "1853/1853 [==============================] - 25s 12ms/step - loss: 0.1080 - accuracy: 0.7747 - val_loss: 0.0644 - val_accuracy: 0.8829\n",
            "Epoch 2/2\n",
            "1853/1853 [==============================] - 21s 11ms/step - loss: 0.0510 - accuracy: 0.9104 - val_loss: 0.0570 - val_accuracy: 0.8899\n"
          ]
        },
        {
          "name": "stderr",
          "output_type": "stream",
          "text": [
            "\u001b[32m[I 2022-04-13 07:18:35,095]\u001b[0m Trial 5 finished with value: 0.8899416923522949 and parameters: {'epochs': 2, 'batch_size': 20, 'embedding_dim': 21, 'units': 200, 'dropout': 0.1, 'n_neurons': 118}. Best is trial 4 with value: 0.8916423916816711.\u001b[0m\n"
          ]
        },
        {
          "name": "stdout",
          "output_type": "stream",
          "text": [
            "{'epochs': 2, 'batch_size': 40, 'embedding_dim': 30, 'units': 270, 'dropout': 0.2, 'n_neurons': 80}\n",
            "Epoch 1/2\n",
            "927/927 [==============================] - 21s 18ms/step - loss: 0.1184 - accuracy: 0.7542 - val_loss: 0.0669 - val_accuracy: 0.8797\n",
            "Epoch 2/2\n",
            "927/927 [==============================] - 16s 17ms/step - loss: 0.0549 - accuracy: 0.9096 - val_loss: 0.0602 - val_accuracy: 0.8892\n"
          ]
        },
        {
          "name": "stderr",
          "output_type": "stream",
          "text": [
            "\u001b[32m[I 2022-04-13 07:19:14,306]\u001b[0m Trial 6 finished with value: 0.8892128467559814 and parameters: {'epochs': 2, 'batch_size': 40, 'embedding_dim': 30, 'units': 270, 'dropout': 0.2, 'n_neurons': 80}. Best is trial 4 with value: 0.8916423916816711.\u001b[0m\n"
          ]
        },
        {
          "name": "stdout",
          "output_type": "stream",
          "text": [
            "{'epochs': 2, 'batch_size': 22, 'embedding_dim': 24, 'units': 223, 'dropout': 0.30000000000000004, 'n_neurons': 122}\n",
            "Epoch 1/2\n",
            "1684/1684 [==============================] - 28s 15ms/step - loss: 0.1159 - accuracy: 0.7648 - val_loss: 0.0691 - val_accuracy: 0.8739\n",
            "Epoch 2/2\n",
            "1684/1684 [==============================] - 25s 15ms/step - loss: 0.0568 - accuracy: 0.9061 - val_loss: 0.0601 - val_accuracy: 0.8914\n"
          ]
        },
        {
          "name": "stderr",
          "output_type": "stream",
          "text": [
            "\u001b[32m[I 2022-04-13 07:20:10,020]\u001b[0m Trial 7 finished with value: 0.8913994431495667 and parameters: {'epochs': 2, 'batch_size': 22, 'embedding_dim': 24, 'units': 223, 'dropout': 0.30000000000000004, 'n_neurons': 122}. Best is trial 4 with value: 0.8916423916816711.\u001b[0m\n"
          ]
        },
        {
          "name": "stdout",
          "output_type": "stream",
          "text": [
            "{'epochs': 2, 'batch_size': 27, 'embedding_dim': 24, 'units': 298, 'dropout': 0.2, 'n_neurons': 82}\n",
            "Epoch 1/2\n",
            "1372/1372 [==============================] - 29s 19ms/step - loss: 0.1158 - accuracy: 0.7607 - val_loss: 0.0662 - val_accuracy: 0.8720\n",
            "Epoch 2/2\n",
            "1372/1372 [==============================] - 25s 18ms/step - loss: 0.0551 - accuracy: 0.9086 - val_loss: 0.0552 - val_accuracy: 0.8970\n"
          ]
        },
        {
          "name": "stderr",
          "output_type": "stream",
          "text": [
            "\u001b[32m[I 2022-04-13 07:21:06,401]\u001b[0m Trial 8 finished with value: 0.8969873785972595 and parameters: {'epochs': 2, 'batch_size': 27, 'embedding_dim': 24, 'units': 298, 'dropout': 0.2, 'n_neurons': 82}. Best is trial 8 with value: 0.8969873785972595.\u001b[0m\n"
          ]
        },
        {
          "name": "stdout",
          "output_type": "stream",
          "text": [
            "{'epochs': 2, 'batch_size': 38, 'embedding_dim': 35, 'units': 223, 'dropout': 0.2, 'n_neurons': 108}\n",
            "Epoch 1/2\n",
            "975/975 [==============================] - 21s 17ms/step - loss: 0.1136 - accuracy: 0.7659 - val_loss: 0.0635 - val_accuracy: 0.8904\n",
            "Epoch 2/2\n",
            "975/975 [==============================] - 16s 16ms/step - loss: 0.0529 - accuracy: 0.9112 - val_loss: 0.0580 - val_accuracy: 0.8878\n"
          ]
        },
        {
          "name": "stderr",
          "output_type": "stream",
          "text": [
            "\u001b[32m[I 2022-04-13 07:21:45,424]\u001b[0m Trial 9 finished with value: 0.8877550959587097 and parameters: {'epochs': 2, 'batch_size': 38, 'embedding_dim': 35, 'units': 223, 'dropout': 0.2, 'n_neurons': 108}. Best is trial 8 with value: 0.8969873785972595.\u001b[0m\n"
          ]
        },
        {
          "name": "stdout",
          "output_type": "stream",
          "text": [
            "{'epochs': 2, 'batch_size': 33, 'embedding_dim': 25, 'units': 263, 'dropout': 0.1, 'n_neurons': 94}\n",
            "Epoch 1/2\n",
            "1123/1123 [==============================] - 26s 21ms/step - loss: 0.1100 - accuracy: 0.7703 - val_loss: 0.0631 - val_accuracy: 0.8856\n",
            "Epoch 2/2\n",
            "1123/1123 [==============================] - 22s 20ms/step - loss: 0.0501 - accuracy: 0.9145 - val_loss: 0.0575 - val_accuracy: 0.8941\n"
          ]
        },
        {
          "name": "stderr",
          "output_type": "stream",
          "text": [
            "\u001b[32m[I 2022-04-13 07:22:36,820]\u001b[0m Trial 10 finished with value: 0.8940719366073608 and parameters: {'epochs': 2, 'batch_size': 33, 'embedding_dim': 25, 'units': 263, 'dropout': 0.1, 'n_neurons': 94}. Best is trial 8 with value: 0.8969873785972595.\u001b[0m\n"
          ]
        },
        {
          "name": "stdout",
          "output_type": "stream",
          "text": [
            "{'epochs': 2, 'batch_size': 33, 'embedding_dim': 25, 'units': 262, 'dropout': 0.1, 'n_neurons': 96}\n",
            "Epoch 1/2\n",
            "1123/1123 [==============================] - 24s 19ms/step - loss: 0.1115 - accuracy: 0.7657 - val_loss: 0.0634 - val_accuracy: 0.8848\n",
            "Epoch 2/2\n",
            "1123/1123 [==============================] - 20s 18ms/step - loss: 0.0509 - accuracy: 0.9128 - val_loss: 0.0580 - val_accuracy: 0.8902\n"
          ]
        },
        {
          "name": "stderr",
          "output_type": "stream",
          "text": [
            "\u001b[32m[I 2022-04-13 07:23:24,362]\u001b[0m Trial 11 finished with value: 0.8901846408843994 and parameters: {'epochs': 2, 'batch_size': 33, 'embedding_dim': 25, 'units': 262, 'dropout': 0.1, 'n_neurons': 96}. Best is trial 8 with value: 0.8969873785972595.\u001b[0m\n"
          ]
        },
        {
          "name": "stdout",
          "output_type": "stream",
          "text": [
            "{'epochs': 2, 'batch_size': 32, 'embedding_dim': 26, 'units': 272, 'dropout': 0.1, 'n_neurons': 93}\n",
            "Epoch 1/2\n",
            "1158/1158 [==============================] - 21s 15ms/step - loss: 0.1119 - accuracy: 0.7683 - val_loss: 0.0644 - val_accuracy: 0.8824\n",
            "Epoch 2/2\n",
            "1158/1158 [==============================] - 16s 14ms/step - loss: 0.0513 - accuracy: 0.9117 - val_loss: 0.0554 - val_accuracy: 0.8929\n"
          ]
        },
        {
          "name": "stderr",
          "output_type": "stream",
          "text": [
            "\u001b[32m[I 2022-04-13 07:24:03,702]\u001b[0m Trial 12 finished with value: 0.8928571343421936 and parameters: {'epochs': 2, 'batch_size': 32, 'embedding_dim': 26, 'units': 272, 'dropout': 0.1, 'n_neurons': 93}. Best is trial 8 with value: 0.8969873785972595.\u001b[0m\n"
          ]
        },
        {
          "name": "stdout",
          "output_type": "stream",
          "text": [
            "{'epochs': 2, 'batch_size': 30, 'embedding_dim': 20, 'units': 247, 'dropout': 0.1, 'n_neurons': 78}\n",
            "Epoch 1/2\n",
            "1235/1235 [==============================] - 24s 17ms/step - loss: 0.1153 - accuracy: 0.7595 - val_loss: 0.0658 - val_accuracy: 0.8759\n",
            "Epoch 2/2\n",
            "1235/1235 [==============================] - 20s 16ms/step - loss: 0.0521 - accuracy: 0.9114 - val_loss: 0.0535 - val_accuracy: 0.9018\n"
          ]
        },
        {
          "name": "stderr",
          "output_type": "stream",
          "text": [
            "\u001b[32m[I 2022-04-13 07:24:50,935]\u001b[0m Trial 13 finished with value: 0.9018464684486389 and parameters: {'epochs': 2, 'batch_size': 30, 'embedding_dim': 20, 'units': 247, 'dropout': 0.1, 'n_neurons': 78}. Best is trial 13 with value: 0.9018464684486389.\u001b[0m\n"
          ]
        },
        {
          "name": "stdout",
          "output_type": "stream",
          "text": [
            "{'epochs': 2, 'batch_size': 24, 'embedding_dim': 20, 'units': 244, 'dropout': 0.2, 'n_neurons': 69}\n",
            "Epoch 1/2\n",
            "1544/1544 [==============================] - 23s 13ms/step - loss: 0.1153 - accuracy: 0.7655 - val_loss: 0.0675 - val_accuracy: 0.8724\n",
            "Epoch 2/2\n",
            "1544/1544 [==============================] - 19s 12ms/step - loss: 0.0567 - accuracy: 0.9067 - val_loss: 0.0549 - val_accuracy: 0.8950\n"
          ]
        },
        {
          "name": "stderr",
          "output_type": "stream",
          "text": [
            "\u001b[32m[I 2022-04-13 07:25:38,060]\u001b[0m Trial 14 finished with value: 0.8950437307357788 and parameters: {'epochs': 2, 'batch_size': 24, 'embedding_dim': 20, 'units': 244, 'dropout': 0.2, 'n_neurons': 69}. Best is trial 13 with value: 0.9018464684486389.\u001b[0m\n"
          ]
        },
        {
          "name": "stdout",
          "output_type": "stream",
          "text": [
            "{'epochs': 2, 'batch_size': 30, 'embedding_dim': 40, 'units': 249, 'dropout': 0.4, 'n_neurons': 77}\n",
            "Epoch 1/2\n",
            "1235/1235 [==============================] - 25s 17ms/step - loss: 0.1248 - accuracy: 0.7508 - val_loss: 0.0713 - val_accuracy: 0.8727\n",
            "Epoch 2/2\n",
            "1235/1235 [==============================] - 21s 17ms/step - loss: 0.0622 - accuracy: 0.9042 - val_loss: 0.0599 - val_accuracy: 0.8875\n"
          ]
        },
        {
          "name": "stderr",
          "output_type": "stream",
          "text": [
            "\u001b[32m[I 2022-04-13 07:26:26,140]\u001b[0m Trial 15 finished with value: 0.8875121474266052 and parameters: {'epochs': 2, 'batch_size': 30, 'embedding_dim': 40, 'units': 249, 'dropout': 0.4, 'n_neurons': 77}. Best is trial 13 with value: 0.9018464684486389.\u001b[0m\n"
          ]
        },
        {
          "name": "stdout",
          "output_type": "stream",
          "text": [
            "{'epochs': 2, 'batch_size': 30, 'embedding_dim': 22, 'units': 237, 'dropout': 0.1, 'n_neurons': 53}\n",
            "Epoch 1/2\n",
            "1235/1235 [==============================] - 24s 17ms/step - loss: 0.1198 - accuracy: 0.7516 - val_loss: 0.0677 - val_accuracy: 0.8771\n",
            "Epoch 2/2\n",
            "1235/1235 [==============================] - 20s 16ms/step - loss: 0.0614 - accuracy: 0.8997 - val_loss: 0.0585 - val_accuracy: 0.8892\n"
          ]
        },
        {
          "name": "stderr",
          "output_type": "stream",
          "text": [
            "\u001b[32m[I 2022-04-13 07:27:12,935]\u001b[0m Trial 16 finished with value: 0.8892128467559814 and parameters: {'epochs': 2, 'batch_size': 30, 'embedding_dim': 22, 'units': 237, 'dropout': 0.1, 'n_neurons': 53}. Best is trial 13 with value: 0.9018464684486389.\u001b[0m\n"
          ]
        },
        {
          "name": "stdout",
          "output_type": "stream",
          "text": [
            "{'epochs': 3, 'batch_size': 28, 'embedding_dim': 23, 'units': 281, 'dropout': 0.30000000000000004, 'n_neurons': 58}\n",
            "Epoch 1/3\n",
            "1323/1323 [==============================] - 25s 16ms/step - loss: 0.1243 - accuracy: 0.7492 - val_loss: 0.0695 - val_accuracy: 0.8720\n",
            "Epoch 2/3\n",
            "1323/1323 [==============================] - 21s 16ms/step - loss: 0.0614 - accuracy: 0.9050 - val_loss: 0.0592 - val_accuracy: 0.8926\n",
            "Epoch 3/3\n",
            "1323/1323 [==============================] - 21s 16ms/step - loss: 0.0425 - accuracy: 0.9410 - val_loss: 0.0610 - val_accuracy: 0.8863\n"
          ]
        },
        {
          "name": "stderr",
          "output_type": "stream",
          "text": [
            "\u001b[32m[I 2022-04-13 07:28:23,047]\u001b[0m Trial 17 finished with value: 0.8862974047660828 and parameters: {'epochs': 3, 'batch_size': 28, 'embedding_dim': 23, 'units': 281, 'dropout': 0.30000000000000004, 'n_neurons': 58}. Best is trial 13 with value: 0.9018464684486389.\u001b[0m\n"
          ]
        },
        {
          "name": "stdout",
          "output_type": "stream",
          "text": [
            "{'epochs': 2, 'batch_size': 24, 'embedding_dim': 27, 'units': 235, 'dropout': 0.2, 'n_neurons': 83}\n",
            "Epoch 1/2\n",
            "1544/1544 [==============================] - 25s 14ms/step - loss: 0.1122 - accuracy: 0.7721 - val_loss: 0.0640 - val_accuracy: 0.8844\n",
            "Epoch 2/2\n",
            "1544/1544 [==============================] - 21s 13ms/step - loss: 0.0538 - accuracy: 0.9108 - val_loss: 0.0530 - val_accuracy: 0.9040\n"
          ]
        },
        {
          "name": "stderr",
          "output_type": "stream",
          "text": [
            "\u001b[32m[I 2022-04-13 07:29:11,021]\u001b[0m Trial 18 finished with value: 0.9040330648422241 and parameters: {'epochs': 2, 'batch_size': 24, 'embedding_dim': 27, 'units': 235, 'dropout': 0.2, 'n_neurons': 83}. Best is trial 18 with value: 0.9040330648422241.\u001b[0m\n"
          ]
        },
        {
          "name": "stdout",
          "output_type": "stream",
          "text": [
            "{'epochs': 2, 'batch_size': 24, 'embedding_dim': 28, 'units': 234, 'dropout': 0.4, 'n_neurons': 105}\n",
            "Epoch 1/2\n",
            "1544/1544 [==============================] - 25s 14ms/step - loss: 0.1206 - accuracy: 0.7586 - val_loss: 0.0671 - val_accuracy: 0.8805\n",
            "Epoch 2/2\n",
            "1544/1544 [==============================] - 21s 14ms/step - loss: 0.0604 - accuracy: 0.9041 - val_loss: 0.0549 - val_accuracy: 0.8989\n"
          ]
        },
        {
          "name": "stderr",
          "output_type": "stream",
          "text": [
            "\u001b[32m[I 2022-04-13 07:30:39,067]\u001b[0m Trial 19 finished with value: 0.8989310264587402 and parameters: {'epochs': 2, 'batch_size': 24, 'embedding_dim': 28, 'units': 234, 'dropout': 0.4, 'n_neurons': 105}. Best is trial 18 with value: 0.9040330648422241.\u001b[0m\n"
          ]
        },
        {
          "name": "stdout",
          "output_type": "stream",
          "text": [
            "{'epochs': 3, 'batch_size': 35, 'embedding_dim': 27, 'units': 203, 'dropout': 0.1, 'n_neurons': 67}\n",
            "Epoch 1/3\n",
            "1059/1059 [==============================] - 21s 17ms/step - loss: 0.1148 - accuracy: 0.7593 - val_loss: 0.0635 - val_accuracy: 0.8824\n",
            "Epoch 2/3\n",
            "1059/1059 [==============================] - 17s 16ms/step - loss: 0.0512 - accuracy: 0.9123 - val_loss: 0.0572 - val_accuracy: 0.8902\n",
            "Epoch 3/3\n",
            "1059/1059 [==============================] - 17s 16ms/step - loss: 0.0319 - accuracy: 0.9515 - val_loss: 0.0565 - val_accuracy: 0.8953\n"
          ]
        },
        {
          "name": "stderr",
          "output_type": "stream",
          "text": [
            "\u001b[32m[I 2022-04-13 07:32:07,081]\u001b[0m Trial 20 finished with value: 0.8952866792678833 and parameters: {'epochs': 3, 'batch_size': 35, 'embedding_dim': 27, 'units': 203, 'dropout': 0.1, 'n_neurons': 67}. Best is trial 18 with value: 0.9040330648422241.\u001b[0m\n"
          ]
        },
        {
          "name": "stdout",
          "output_type": "stream",
          "text": [
            "{'epochs': 2, 'batch_size': 24, 'embedding_dim': 28, 'units': 234, 'dropout': 0.4, 'n_neurons': 105}\n",
            "Epoch 1/2\n",
            "1544/1544 [==============================] - 25s 14ms/step - loss: 0.1229 - accuracy: 0.7506 - val_loss: 0.0659 - val_accuracy: 0.8802\n",
            "Epoch 2/2\n",
            "1544/1544 [==============================] - 21s 14ms/step - loss: 0.0615 - accuracy: 0.9034 - val_loss: 0.0587 - val_accuracy: 0.8848\n"
          ]
        },
        {
          "name": "stderr",
          "output_type": "stream",
          "text": [
            "\u001b[32m[I 2022-04-13 07:32:55,945]\u001b[0m Trial 21 finished with value: 0.884839653968811 and parameters: {'epochs': 2, 'batch_size': 24, 'embedding_dim': 28, 'units': 234, 'dropout': 0.4, 'n_neurons': 105}. Best is trial 18 with value: 0.9040330648422241.\u001b[0m\n"
          ]
        },
        {
          "name": "stdout",
          "output_type": "stream",
          "text": [
            "{'epochs': 2, 'batch_size': 23, 'embedding_dim': 33, 'units': 238, 'dropout': 0.5, 'n_neurons': 104}\n",
            "Epoch 1/2\n",
            "1611/1611 [==============================] - 29s 16ms/step - loss: 0.1227 - accuracy: 0.7567 - val_loss: 0.0679 - val_accuracy: 0.8783\n",
            "Epoch 2/2\n",
            "1611/1611 [==============================] - 25s 15ms/step - loss: 0.0630 - accuracy: 0.9006 - val_loss: 0.0578 - val_accuracy: 0.8933\n"
          ]
        },
        {
          "name": "stderr",
          "output_type": "stream",
          "text": [
            "\u001b[32m[I 2022-04-13 07:33:52,526]\u001b[0m Trial 22 finished with value: 0.8933430314064026 and parameters: {'epochs': 2, 'batch_size': 23, 'embedding_dim': 33, 'units': 238, 'dropout': 0.5, 'n_neurons': 104}. Best is trial 18 with value: 0.9040330648422241.\u001b[0m\n"
          ]
        },
        {
          "name": "stdout",
          "output_type": "stream",
          "text": [
            "{'epochs': 2, 'batch_size': 25, 'embedding_dim': 27, 'units': 213, 'dropout': 0.4, 'n_neurons': 89}\n",
            "Epoch 1/2\n",
            "1482/1482 [==============================] - 27s 16ms/step - loss: 0.1216 - accuracy: 0.7581 - val_loss: 0.0712 - val_accuracy: 0.8759\n",
            "Epoch 2/2\n",
            "1482/1482 [==============================] - 23s 15ms/step - loss: 0.0622 - accuracy: 0.9020 - val_loss: 0.0603 - val_accuracy: 0.8875\n"
          ]
        },
        {
          "name": "stderr",
          "output_type": "stream",
          "text": [
            "\u001b[32m[I 2022-04-13 07:35:20,576]\u001b[0m Trial 23 finished with value: 0.8875121474266052 and parameters: {'epochs': 2, 'batch_size': 25, 'embedding_dim': 27, 'units': 213, 'dropout': 0.4, 'n_neurons': 89}. Best is trial 18 with value: 0.9040330648422241.\u001b[0m\n"
          ]
        },
        {
          "name": "stdout",
          "output_type": "stream",
          "text": [
            "{'epochs': 2, 'batch_size': 29, 'embedding_dim': 34, 'units': 255, 'dropout': 0.30000000000000004, 'n_neurons': 86}\n",
            "Epoch 1/2\n",
            "1278/1278 [==============================] - 27s 19ms/step - loss: 0.1173 - accuracy: 0.7625 - val_loss: 0.0741 - val_accuracy: 0.8647\n",
            "Epoch 2/2\n",
            "1278/1278 [==============================] - 23s 18ms/step - loss: 0.0567 - accuracy: 0.9095 - val_loss: 0.0561 - val_accuracy: 0.8931\n"
          ]
        },
        {
          "name": "stderr",
          "output_type": "stream",
          "text": [
            "\u001b[32m[I 2022-04-13 07:36:13,144]\u001b[0m Trial 24 finished with value: 0.8931000828742981 and parameters: {'epochs': 2, 'batch_size': 29, 'embedding_dim': 34, 'units': 255, 'dropout': 0.30000000000000004, 'n_neurons': 86}. Best is trial 18 with value: 0.9040330648422241.\u001b[0m\n"
          ]
        },
        {
          "name": "stdout",
          "output_type": "stream",
          "text": [
            "{'epochs': 2, 'batch_size': 22, 'embedding_dim': 20, 'units': 230, 'dropout': 0.5, 'n_neurons': 101}\n",
            "Epoch 1/2\n",
            "1684/1684 [==============================] - 26s 13ms/step - loss: 0.1259 - accuracy: 0.7456 - val_loss: 0.0703 - val_accuracy: 0.8703\n",
            "Epoch 2/2\n",
            "1684/1684 [==============================] - 22s 13ms/step - loss: 0.0649 - accuracy: 0.8987 - val_loss: 0.0622 - val_accuracy: 0.8870\n"
          ]
        },
        {
          "name": "stderr",
          "output_type": "stream",
          "text": [
            "\u001b[32m[I 2022-04-13 07:37:03,529]\u001b[0m Trial 25 finished with value: 0.8870262503623962 and parameters: {'epochs': 2, 'batch_size': 22, 'embedding_dim': 20, 'units': 230, 'dropout': 0.5, 'n_neurons': 101}. Best is trial 18 with value: 0.9040330648422241.\u001b[0m\n"
          ]
        },
        {
          "name": "stdout",
          "output_type": "stream",
          "text": [
            "{'epochs': 2, 'batch_size': 31, 'embedding_dim': 39, 'units': 245, 'dropout': 0.4, 'n_neurons': 113}\n",
            "Epoch 1/2\n",
            "1195/1195 [==============================] - 25s 18ms/step - loss: 0.1216 - accuracy: 0.7558 - val_loss: 0.0673 - val_accuracy: 0.8783\n",
            "Epoch 2/2\n",
            "1195/1195 [==============================] - 21s 17ms/step - loss: 0.0608 - accuracy: 0.9034 - val_loss: 0.0588 - val_accuracy: 0.8841\n"
          ]
        },
        {
          "name": "stderr",
          "output_type": "stream",
          "text": [
            "\u001b[32m[I 2022-04-13 07:37:51,534]\u001b[0m Trial 26 finished with value: 0.8841108083724976 and parameters: {'epochs': 2, 'batch_size': 31, 'embedding_dim': 39, 'units': 245, 'dropout': 0.4, 'n_neurons': 113}. Best is trial 18 with value: 0.9040330648422241.\u001b[0m\n"
          ]
        },
        {
          "name": "stdout",
          "output_type": "stream",
          "text": [
            "{'epochs': 2, 'batch_size': 25, 'embedding_dim': 29, 'units': 256, 'dropout': 0.2, 'n_neurons': 75}\n",
            "Epoch 1/2\n",
            "1482/1482 [==============================] - 23s 13ms/step - loss: 0.1127 - accuracy: 0.7716 - val_loss: 0.0683 - val_accuracy: 0.8783\n",
            "Epoch 2/2\n",
            "1482/1482 [==============================] - 19s 13ms/step - loss: 0.0547 - accuracy: 0.9102 - val_loss: 0.0598 - val_accuracy: 0.8868\n"
          ]
        },
        {
          "name": "stderr",
          "output_type": "stream",
          "text": [
            "\u001b[32m[I 2022-04-13 07:38:36,374]\u001b[0m Trial 27 finished with value: 0.8867833018302917 and parameters: {'epochs': 2, 'batch_size': 25, 'embedding_dim': 29, 'units': 256, 'dropout': 0.2, 'n_neurons': 75}. Best is trial 18 with value: 0.9040330648422241.\u001b[0m\n"
          ]
        },
        {
          "name": "stdout",
          "output_type": "stream",
          "text": [
            "{'epochs': 2, 'batch_size': 23, 'embedding_dim': 22, 'units': 214, 'dropout': 0.30000000000000004, 'n_neurons': 60}\n",
            "Epoch 1/2\n",
            "1611/1611 [==============================] - 28s 15ms/step - loss: 0.1227 - accuracy: 0.7511 - val_loss: 0.0684 - val_accuracy: 0.8705\n",
            "Epoch 2/2\n",
            "1611/1611 [==============================] - 23s 14ms/step - loss: 0.0596 - accuracy: 0.9032 - val_loss: 0.0601 - val_accuracy: 0.8827\n"
          ]
        },
        {
          "name": "stderr",
          "output_type": "stream",
          "text": [
            "\u001b[32m[I 2022-04-13 07:39:30,202]\u001b[0m Trial 28 finished with value: 0.8826530575752258 and parameters: {'epochs': 2, 'batch_size': 23, 'embedding_dim': 22, 'units': 214, 'dropout': 0.30000000000000004, 'n_neurons': 60}. Best is trial 18 with value: 0.9040330648422241.\u001b[0m\n"
          ]
        },
        {
          "name": "stdout",
          "output_type": "stream",
          "text": [
            "{'epochs': 2, 'batch_size': 20, 'embedding_dim': 30, 'units': 230, 'dropout': 0.1, 'n_neurons': 128}\n",
            "Epoch 1/2\n",
            "1853/1853 [==============================] - 29s 14ms/step - loss: 0.1072 - accuracy: 0.7778 - val_loss: 0.0634 - val_accuracy: 0.8827\n",
            "Epoch 2/2\n",
            "1853/1853 [==============================] - 25s 13ms/step - loss: 0.0491 - accuracy: 0.9157 - val_loss: 0.0579 - val_accuracy: 0.8897\n"
          ]
        },
        {
          "name": "stderr",
          "output_type": "stream",
          "text": [
            "\u001b[32m[I 2022-04-13 07:40:25,868]\u001b[0m Trial 29 finished with value: 0.8896987438201904 and parameters: {'epochs': 2, 'batch_size': 20, 'embedding_dim': 30, 'units': 230, 'dropout': 0.1, 'n_neurons': 128}. Best is trial 18 with value: 0.9040330648422241.\u001b[0m\n"
          ]
        },
        {
          "name": "stdout",
          "output_type": "stream",
          "text": [
            "{'epochs': 2, 'batch_size': 35, 'embedding_dim': 31, 'units': 245, 'dropout': 0.30000000000000004, 'n_neurons': 86}\n",
            "Epoch 1/2\n",
            "1059/1059 [==============================] - 23s 19ms/step - loss: 0.1180 - accuracy: 0.7591 - val_loss: 0.0658 - val_accuracy: 0.8805\n",
            "Epoch 2/2\n",
            "1059/1059 [==============================] - 19s 18ms/step - loss: 0.0578 - accuracy: 0.9068 - val_loss: 0.0585 - val_accuracy: 0.8895\n"
          ]
        },
        {
          "name": "stderr",
          "output_type": "stream",
          "text": [
            "\u001b[32m[I 2022-04-13 07:41:10,682]\u001b[0m Trial 30 finished with value: 0.8894557952880859 and parameters: {'epochs': 2, 'batch_size': 35, 'embedding_dim': 31, 'units': 245, 'dropout': 0.30000000000000004, 'n_neurons': 86}. Best is trial 18 with value: 0.9040330648422241.\u001b[0m\n"
          ]
        },
        {
          "name": "stdout",
          "output_type": "stream",
          "text": [
            "{'epochs': 2, 'batch_size': 28, 'embedding_dim': 23, 'units': 239, 'dropout': 0.2, 'n_neurons': 83}\n",
            "Epoch 1/2\n",
            "1323/1323 [==============================] - 23s 15ms/step - loss: 0.1147 - accuracy: 0.7657 - val_loss: 0.0651 - val_accuracy: 0.8812\n",
            "Epoch 2/2\n",
            "1323/1323 [==============================] - 18s 14ms/step - loss: 0.0553 - accuracy: 0.9077 - val_loss: 0.0563 - val_accuracy: 0.8924\n"
          ]
        },
        {
          "name": "stderr",
          "output_type": "stream",
          "text": [
            "\u001b[32m[I 2022-04-13 07:41:54,616]\u001b[0m Trial 31 finished with value: 0.8923712372779846 and parameters: {'epochs': 2, 'batch_size': 28, 'embedding_dim': 23, 'units': 239, 'dropout': 0.2, 'n_neurons': 83}. Best is trial 18 with value: 0.9040330648422241.\u001b[0m\n"
          ]
        },
        {
          "name": "stdout",
          "output_type": "stream",
          "text": [
            "{'epochs': 2, 'batch_size': 26, 'embedding_dim': 26, 'units': 255, 'dropout': 0.2, 'n_neurons': 74}\n",
            "Epoch 1/2\n",
            "1425/1425 [==============================] - 27s 17ms/step - loss: 0.1142 - accuracy: 0.7713 - val_loss: 0.0672 - val_accuracy: 0.8761\n",
            "Epoch 2/2\n",
            "1425/1425 [==============================] - 23s 16ms/step - loss: 0.0557 - accuracy: 0.9085 - val_loss: 0.0573 - val_accuracy: 0.8914\n"
          ]
        },
        {
          "name": "stderr",
          "output_type": "stream",
          "text": [
            "\u001b[32m[I 2022-04-13 07:42:47,989]\u001b[0m Trial 32 finished with value: 0.8913994431495667 and parameters: {'epochs': 2, 'batch_size': 26, 'embedding_dim': 26, 'units': 255, 'dropout': 0.2, 'n_neurons': 74}. Best is trial 18 with value: 0.9040330648422241.\u001b[0m\n"
          ]
        },
        {
          "name": "stdout",
          "output_type": "stream",
          "text": [
            "{'epochs': 2, 'batch_size': 27, 'embedding_dim': 25, 'units': 230, 'dropout': 0.2, 'n_neurons': 47}\n",
            "Epoch 1/2\n",
            "1372/1372 [==============================] - 26s 16ms/step - loss: 0.1185 - accuracy: 0.7586 - val_loss: 0.0684 - val_accuracy: 0.8759\n",
            "Epoch 2/2\n",
            "1372/1372 [==============================] - 21s 16ms/step - loss: 0.0576 - accuracy: 0.9065 - val_loss: 0.0581 - val_accuracy: 0.8948\n"
          ]
        },
        {
          "name": "stderr",
          "output_type": "stream",
          "text": [
            "\u001b[32m[I 2022-04-13 07:43:37,612]\u001b[0m Trial 33 finished with value: 0.8948007822036743 and parameters: {'epochs': 2, 'batch_size': 27, 'embedding_dim': 25, 'units': 230, 'dropout': 0.2, 'n_neurons': 47}. Best is trial 18 with value: 0.9040330648422241.\u001b[0m\n"
          ]
        },
        {
          "name": "stdout",
          "output_type": "stream",
          "text": [
            "{'epochs': 3, 'batch_size': 25, 'embedding_dim': 28, 'units': 216, 'dropout': 0.2, 'n_neurons': 68}\n",
            "Epoch 1/3\n",
            "1482/1482 [==============================] - 21s 12ms/step - loss: 0.1134 - accuracy: 0.7723 - val_loss: 0.0670 - val_accuracy: 0.8805\n",
            "Epoch 2/3\n",
            "1482/1482 [==============================] - 17s 12ms/step - loss: 0.0550 - accuracy: 0.9096 - val_loss: 0.0558 - val_accuracy: 0.8938\n",
            "Epoch 3/3\n",
            "1482/1482 [==============================] - 17s 12ms/step - loss: 0.0361 - accuracy: 0.9474 - val_loss: 0.0590 - val_accuracy: 0.8853\n"
          ]
        },
        {
          "name": "stderr",
          "output_type": "stream",
          "text": [
            "\u001b[32m[I 2022-04-13 07:44:36,409]\u001b[0m Trial 34 finished with value: 0.88532555103302 and parameters: {'epochs': 3, 'batch_size': 25, 'embedding_dim': 28, 'units': 216, 'dropout': 0.2, 'n_neurons': 68}. Best is trial 18 with value: 0.9040330648422241.\u001b[0m\n"
          ]
        },
        {
          "name": "stdout",
          "output_type": "stream",
          "text": [
            "{'epochs': 2, 'batch_size': 28, 'embedding_dim': 23, 'units': 299, 'dropout': 0.4, 'n_neurons': 98}\n",
            "Epoch 1/2\n",
            "1323/1323 [==============================] - 25s 17ms/step - loss: 0.1212 - accuracy: 0.7576 - val_loss: 0.0724 - val_accuracy: 0.8652\n",
            "Epoch 2/2\n",
            "1323/1323 [==============================] - 21s 16ms/step - loss: 0.0622 - accuracy: 0.9011 - val_loss: 0.0605 - val_accuracy: 0.8839\n"
          ]
        },
        {
          "name": "stderr",
          "output_type": "stream",
          "text": [
            "\u001b[32m[I 2022-04-13 07:45:26,173]\u001b[0m Trial 35 finished with value: 0.8838678598403931 and parameters: {'epochs': 2, 'batch_size': 28, 'embedding_dim': 23, 'units': 299, 'dropout': 0.4, 'n_neurons': 98}. Best is trial 18 with value: 0.9040330648422241.\u001b[0m\n"
          ]
        },
        {
          "name": "stdout",
          "output_type": "stream",
          "text": [
            "{'epochs': 3, 'batch_size': 26, 'embedding_dim': 21, 'units': 250, 'dropout': 0.2, 'n_neurons': 91}\n",
            "Epoch 1/3\n",
            "1425/1425 [==============================] - 24s 15ms/step - loss: 0.1152 - accuracy: 0.7640 - val_loss: 0.0639 - val_accuracy: 0.8836\n",
            "Epoch 2/3\n",
            "1425/1425 [==============================] - 20s 14ms/step - loss: 0.0548 - accuracy: 0.9096 - val_loss: 0.0564 - val_accuracy: 0.8921\n",
            "Epoch 3/3\n",
            "1425/1425 [==============================] - 20s 14ms/step - loss: 0.0368 - accuracy: 0.9447 - val_loss: 0.0565 - val_accuracy: 0.8892\n"
          ]
        },
        {
          "name": "stderr",
          "output_type": "stream",
          "text": [
            "\u001b[32m[I 2022-04-13 07:46:32,948]\u001b[0m Trial 36 finished with value: 0.8892128467559814 and parameters: {'epochs': 3, 'batch_size': 26, 'embedding_dim': 21, 'units': 250, 'dropout': 0.2, 'n_neurons': 91}. Best is trial 18 with value: 0.9040330648422241.\u001b[0m\n"
          ]
        },
        {
          "name": "stdout",
          "output_type": "stream",
          "text": [
            "{'epochs': 2, 'batch_size': 21, 'embedding_dim': 24, 'units': 286, 'dropout': 0.1, 'n_neurons': 79}\n",
            "Epoch 1/2\n",
            "1764/1764 [==============================] - 33s 17ms/step - loss: 0.1106 - accuracy: 0.7732 - val_loss: 0.0656 - val_accuracy: 0.8839\n",
            "Epoch 2/2\n",
            "1764/1764 [==============================] - 29s 16ms/step - loss: 0.0518 - accuracy: 0.9115 - val_loss: 0.0561 - val_accuracy: 0.8933\n"
          ]
        },
        {
          "name": "stderr",
          "output_type": "stream",
          "text": [
            "\u001b[32m[I 2022-04-13 07:47:37,373]\u001b[0m Trial 37 finished with value: 0.8933430314064026 and parameters: {'epochs': 2, 'batch_size': 21, 'embedding_dim': 24, 'units': 286, 'dropout': 0.1, 'n_neurons': 79}. Best is trial 18 with value: 0.9040330648422241.\u001b[0m\n"
          ]
        },
        {
          "name": "stdout",
          "output_type": "stream",
          "text": [
            "{'epochs': 2, 'batch_size': 29, 'embedding_dim': 27, 'units': 269, 'dropout': 0.30000000000000004, 'n_neurons': 64}\n",
            "Epoch 1/2\n",
            "1278/1278 [==============================] - 27s 19ms/step - loss: 0.1240 - accuracy: 0.7447 - val_loss: 0.0671 - val_accuracy: 0.8771\n",
            "Epoch 2/2\n",
            "1278/1278 [==============================] - 23s 18ms/step - loss: 0.0615 - accuracy: 0.9020 - val_loss: 0.0588 - val_accuracy: 0.8938\n"
          ]
        },
        {
          "name": "stderr",
          "output_type": "stream",
          "text": [
            "\u001b[32m[I 2022-04-13 07:48:31,270]\u001b[0m Trial 38 finished with value: 0.8938289880752563 and parameters: {'epochs': 2, 'batch_size': 29, 'embedding_dim': 27, 'units': 269, 'dropout': 0.30000000000000004, 'n_neurons': 64}. Best is trial 18 with value: 0.9040330648422241.\u001b[0m\n"
          ]
        },
        {
          "name": "stdout",
          "output_type": "stream",
          "text": [
            "{'epochs': 2, 'batch_size': 23, 'embedding_dim': 32, 'units': 277, 'dropout': 0.2, 'n_neurons': 72}\n",
            "Epoch 1/2\n",
            "1611/1611 [==============================] - 33s 18ms/step - loss: 0.1132 - accuracy: 0.7723 - val_loss: 0.0665 - val_accuracy: 0.8780\n",
            "Epoch 2/2\n",
            "1611/1611 [==============================] - 29s 18ms/step - loss: 0.0537 - accuracy: 0.9127 - val_loss: 0.0560 - val_accuracy: 0.8946\n"
          ]
        },
        {
          "name": "stderr",
          "output_type": "stream",
          "text": [
            "\u001b[32m[I 2022-04-13 07:49:36,021]\u001b[0m Trial 39 finished with value: 0.8945578336715698 and parameters: {'epochs': 2, 'batch_size': 23, 'embedding_dim': 32, 'units': 277, 'dropout': 0.2, 'n_neurons': 72}. Best is trial 18 with value: 0.9040330648422241.\u001b[0m\n"
          ]
        },
        {
          "name": "stdout",
          "output_type": "stream",
          "text": [
            "{'epochs': 3, 'batch_size': 26, 'embedding_dim': 29, 'units': 221, 'dropout': 0.1, 'n_neurons': 113}\n",
            "Epoch 1/3\n",
            "1425/1425 [==============================] - 25s 15ms/step - loss: 0.1067 - accuracy: 0.7806 - val_loss: 0.0647 - val_accuracy: 0.8819\n",
            "Epoch 2/3\n",
            "1425/1425 [==============================] - 21s 15ms/step - loss: 0.0496 - accuracy: 0.9160 - val_loss: 0.0574 - val_accuracy: 0.8895\n",
            "Epoch 3/3\n",
            "1425/1425 [==============================] - 21s 15ms/step - loss: 0.0319 - accuracy: 0.9506 - val_loss: 0.0556 - val_accuracy: 0.8933\n"
          ]
        },
        {
          "name": "stderr",
          "output_type": "stream",
          "text": [
            "\u001b[32m[I 2022-04-13 07:50:46,460]\u001b[0m Trial 40 finished with value: 0.8933430314064026 and parameters: {'epochs': 3, 'batch_size': 26, 'embedding_dim': 29, 'units': 221, 'dropout': 0.1, 'n_neurons': 113}. Best is trial 18 with value: 0.9040330648422241.\u001b[0m\n"
          ]
        },
        {
          "name": "stdout",
          "output_type": "stream",
          "text": [
            "{'epochs': 3, 'batch_size': 37, 'embedding_dim': 27, 'units': 203, 'dropout': 0.1, 'n_neurons': 63}\n",
            "Epoch 1/3\n",
            "1002/1002 [==============================] - 20s 17ms/step - loss: 0.1171 - accuracy: 0.7558 - val_loss: 0.0660 - val_accuracy: 0.8851\n",
            "Epoch 2/3\n",
            "1002/1002 [==============================] - 16s 16ms/step - loss: 0.0524 - accuracy: 0.9117 - val_loss: 0.0595 - val_accuracy: 0.8868\n",
            "Epoch 3/3\n",
            "1002/1002 [==============================] - 16s 16ms/step - loss: 0.0337 - accuracy: 0.9493 - val_loss: 0.0541 - val_accuracy: 0.8980\n"
          ]
        },
        {
          "name": "stderr",
          "output_type": "stream",
          "text": [
            "\u001b[32m[I 2022-04-13 07:51:41,289]\u001b[0m Trial 41 finished with value: 0.8979591727256775 and parameters: {'epochs': 3, 'batch_size': 37, 'embedding_dim': 27, 'units': 203, 'dropout': 0.1, 'n_neurons': 63}. Best is trial 18 with value: 0.9040330648422241.\u001b[0m\n"
          ]
        },
        {
          "name": "stdout",
          "output_type": "stream",
          "text": [
            "{'epochs': 3, 'batch_size': 39, 'embedding_dim': 26, 'units': 206, 'dropout': 0.1, 'n_neurons': 46}\n",
            "Epoch 1/3\n",
            "950/950 [==============================] - 19s 17ms/step - loss: 0.1160 - accuracy: 0.7608 - val_loss: 0.0647 - val_accuracy: 0.8834\n",
            "Epoch 2/3\n",
            "950/950 [==============================] - 15s 16ms/step - loss: 0.0529 - accuracy: 0.9129 - val_loss: 0.0557 - val_accuracy: 0.8946\n",
            "Epoch 3/3\n",
            "950/950 [==============================] - 15s 16ms/step - loss: 0.0352 - accuracy: 0.9481 - val_loss: 0.0558 - val_accuracy: 0.8972\n"
          ]
        },
        {
          "name": "stderr",
          "output_type": "stream",
          "text": [
            "\u001b[32m[I 2022-04-13 07:52:33,147]\u001b[0m Trial 42 finished with value: 0.897230327129364 and parameters: {'epochs': 3, 'batch_size': 39, 'embedding_dim': 26, 'units': 206, 'dropout': 0.1, 'n_neurons': 46}. Best is trial 18 with value: 0.9040330648422241.\u001b[0m\n"
          ]
        },
        {
          "name": "stdout",
          "output_type": "stream",
          "text": [
            "{'epochs': 3, 'batch_size': 39, 'embedding_dim': 28, 'units': 206, 'dropout': 0.1, 'n_neurons': 42}\n",
            "Epoch 1/3\n",
            "950/950 [==============================] - 19s 17ms/step - loss: 0.1190 - accuracy: 0.7521 - val_loss: 0.0638 - val_accuracy: 0.8814\n",
            "Epoch 2/3\n",
            "950/950 [==============================] - 15s 16ms/step - loss: 0.0549 - accuracy: 0.9089 - val_loss: 0.0586 - val_accuracy: 0.8880\n",
            "Epoch 3/3\n",
            "950/950 [==============================] - 15s 16ms/step - loss: 0.0356 - accuracy: 0.9475 - val_loss: 0.0553 - val_accuracy: 0.8931\n"
          ]
        },
        {
          "name": "stderr",
          "output_type": "stream",
          "text": [
            "\u001b[32m[I 2022-04-13 07:53:24,461]\u001b[0m Trial 43 finished with value: 0.8931000828742981 and parameters: {'epochs': 3, 'batch_size': 39, 'embedding_dim': 28, 'units': 206, 'dropout': 0.1, 'n_neurons': 42}. Best is trial 18 with value: 0.9040330648422241.\u001b[0m\n"
          ]
        },
        {
          "name": "stdout",
          "output_type": "stream",
          "text": [
            "{'epochs': 3, 'batch_size': 36, 'embedding_dim': 31, 'units': 209, 'dropout': 0.1, 'n_neurons': 50}\n",
            "Epoch 1/3\n",
            "1029/1029 [==============================] - 19s 15ms/step - loss: 0.1170 - accuracy: 0.7529 - val_loss: 0.0628 - val_accuracy: 0.8831\n",
            "Epoch 2/3\n",
            "1029/1029 [==============================] - 14s 14ms/step - loss: 0.0522 - accuracy: 0.9108 - val_loss: 0.0553 - val_accuracy: 0.8936\n",
            "Epoch 3/3\n",
            "1029/1029 [==============================] - 15s 14ms/step - loss: 0.0333 - accuracy: 0.9497 - val_loss: 0.0574 - val_accuracy: 0.8878\n"
          ]
        },
        {
          "name": "stderr",
          "output_type": "stream",
          "text": [
            "\u001b[32m[I 2022-04-13 07:54:14,793]\u001b[0m Trial 44 finished with value: 0.8877550959587097 and parameters: {'epochs': 3, 'batch_size': 36, 'embedding_dim': 31, 'units': 209, 'dropout': 0.1, 'n_neurons': 50}. Best is trial 18 with value: 0.9040330648422241.\u001b[0m\n"
          ]
        },
        {
          "name": "stdout",
          "output_type": "stream",
          "text": [
            "{'epochs': 3, 'batch_size': 39, 'embedding_dim': 26, 'units': 202, 'dropout': 0.1, 'n_neurons': 37}\n",
            "Epoch 1/3\n",
            "950/950 [==============================] - 18s 16ms/step - loss: 0.1190 - accuracy: 0.7537 - val_loss: 0.0663 - val_accuracy: 0.8802\n",
            "Epoch 2/3\n",
            "950/950 [==============================] - 14s 15ms/step - loss: 0.0547 - accuracy: 0.9095 - val_loss: 0.0592 - val_accuracy: 0.8785\n",
            "Epoch 3/3\n",
            "950/950 [==============================] - 14s 15ms/step - loss: 0.0356 - accuracy: 0.9474 - val_loss: 0.0665 - val_accuracy: 0.8703\n"
          ]
        },
        {
          "name": "stderr",
          "output_type": "stream",
          "text": [
            "\u001b[32m[I 2022-04-13 07:55:03,691]\u001b[0m Trial 45 finished with value: 0.8702623844146729 and parameters: {'epochs': 3, 'batch_size': 39, 'embedding_dim': 26, 'units': 202, 'dropout': 0.1, 'n_neurons': 37}. Best is trial 18 with value: 0.9040330648422241.\u001b[0m\n"
          ]
        },
        {
          "name": "stdout",
          "output_type": "stream",
          "text": [
            "{'epochs': 3, 'batch_size': 37, 'embedding_dim': 29, 'units': 220, 'dropout': 0.1, 'n_neurons': 47}\n",
            "Epoch 1/3\n",
            "1002/1002 [==============================] - 17s 14ms/step - loss: 0.1176 - accuracy: 0.7545 - val_loss: 0.0648 - val_accuracy: 0.8812\n",
            "Epoch 2/3\n",
            "1002/1002 [==============================] - 13s 13ms/step - loss: 0.0533 - accuracy: 0.9122 - val_loss: 0.0576 - val_accuracy: 0.8856\n",
            "Epoch 3/3\n",
            "1002/1002 [==============================] - 13s 13ms/step - loss: 0.0347 - accuracy: 0.9495 - val_loss: 0.0549 - val_accuracy: 0.8941\n"
          ]
        },
        {
          "name": "stderr",
          "output_type": "stream",
          "text": [
            "\u001b[32m[I 2022-04-13 07:55:50,890]\u001b[0m Trial 46 finished with value: 0.8940719366073608 and parameters: {'epochs': 3, 'batch_size': 37, 'embedding_dim': 29, 'units': 220, 'dropout': 0.1, 'n_neurons': 47}. Best is trial 18 with value: 0.9040330648422241.\u001b[0m\n"
          ]
        },
        {
          "name": "stdout",
          "output_type": "stream",
          "text": [
            "{'epochs': 3, 'batch_size': 40, 'embedding_dim': 25, 'units': 208, 'dropout': 0.1, 'n_neurons': 32}\n",
            "Epoch 1/3\n",
            "927/927 [==============================] - 16s 13ms/step - loss: 0.1195 - accuracy: 0.7545 - val_loss: 0.0669 - val_accuracy: 0.8810\n",
            "Epoch 2/3\n",
            "927/927 [==============================] - 11s 12ms/step - loss: 0.0551 - accuracy: 0.9100 - val_loss: 0.0560 - val_accuracy: 0.9001\n",
            "Epoch 3/3\n",
            "927/927 [==============================] - 12s 12ms/step - loss: 0.0361 - accuracy: 0.9481 - val_loss: 0.0558 - val_accuracy: 0.8924\n"
          ]
        },
        {
          "name": "stderr",
          "output_type": "stream",
          "text": [
            "\u001b[32m[I 2022-04-13 07:56:32,355]\u001b[0m Trial 47 finished with value: 0.8923712372779846 and parameters: {'epochs': 3, 'batch_size': 40, 'embedding_dim': 25, 'units': 208, 'dropout': 0.1, 'n_neurons': 32}. Best is trial 18 with value: 0.9040330648422241.\u001b[0m\n"
          ]
        },
        {
          "name": "stdout",
          "output_type": "stream",
          "text": [
            "{'epochs': 3, 'batch_size': 33, 'embedding_dim': 30, 'units': 227, 'dropout': 0.5, 'n_neurons': 61}\n",
            "Epoch 1/3\n",
            "1123/1123 [==============================] - 23s 18ms/step - loss: 0.1357 - accuracy: 0.7275 - val_loss: 0.0704 - val_accuracy: 0.8734\n",
            "Epoch 2/3\n",
            "1123/1123 [==============================] - 19s 17ms/step - loss: 0.0701 - accuracy: 0.8933 - val_loss: 0.0630 - val_accuracy: 0.8817\n",
            "Epoch 3/3\n",
            "1123/1123 [==============================] - 19s 17ms/step - loss: 0.0507 - accuracy: 0.9335 - val_loss: 0.0590 - val_accuracy: 0.8882\n"
          ]
        },
        {
          "name": "stderr",
          "output_type": "stream",
          "text": [
            "\u001b[32m[I 2022-04-13 07:57:35,829]\u001b[0m Trial 48 finished with value: 0.8882409930229187 and parameters: {'epochs': 3, 'batch_size': 33, 'embedding_dim': 30, 'units': 227, 'dropout': 0.5, 'n_neurons': 61}. Best is trial 18 with value: 0.9040330648422241.\u001b[0m\n"
          ]
        },
        {
          "name": "stdout",
          "output_type": "stream",
          "text": [
            "{'epochs': 3, 'batch_size': 37, 'embedding_dim': 27, 'units': 212, 'dropout': 0.1, 'n_neurons': 56}\n",
            "Epoch 1/3\n",
            "1002/1002 [==============================] - 17s 14ms/step - loss: 0.1205 - accuracy: 0.7450 - val_loss: 0.0646 - val_accuracy: 0.8827\n",
            "Epoch 2/3\n",
            "1002/1002 [==============================] - 13s 13ms/step - loss: 0.0536 - accuracy: 0.9098 - val_loss: 0.0542 - val_accuracy: 0.9009\n",
            "Epoch 3/3\n",
            "1002/1002 [==============================] - 13s 13ms/step - loss: 0.0346 - accuracy: 0.9474 - val_loss: 0.0545 - val_accuracy: 0.8975\n"
          ]
        },
        {
          "name": "stderr",
          "output_type": "stream",
          "text": [
            "\u001b[32m[I 2022-04-13 07:58:21,600]\u001b[0m Trial 49 finished with value: 0.8974732756614685 and parameters: {'epochs': 3, 'batch_size': 37, 'embedding_dim': 27, 'units': 212, 'dropout': 0.1, 'n_neurons': 56}. Best is trial 18 with value: 0.9040330648422241.\u001b[0m\n"
          ]
        },
        {
          "name": "stdout",
          "output_type": "stream",
          "text": [
            "{'epochs': 3, 'batch_size': 34, 'embedding_dim': 38, 'units': 225, 'dropout': 0.1, 'n_neurons': 56}\n",
            "Epoch 1/3\n",
            "1090/1090 [==============================] - 22s 17ms/step - loss: 0.1137 - accuracy: 0.7657 - val_loss: 0.0640 - val_accuracy: 0.8805\n",
            "Epoch 2/3\n",
            "1090/1090 [==============================] - 18s 16ms/step - loss: 0.0518 - accuracy: 0.9134 - val_loss: 0.0565 - val_accuracy: 0.8987\n",
            "Epoch 3/3\n",
            "1090/1090 [==============================] - 18s 17ms/step - loss: 0.0334 - accuracy: 0.9499 - val_loss: 0.0582 - val_accuracy: 0.8902\n"
          ]
        },
        {
          "name": "stderr",
          "output_type": "stream",
          "text": [
            "\u001b[32m[I 2022-04-13 07:59:22,669]\u001b[0m Trial 50 finished with value: 0.8901846408843994 and parameters: {'epochs': 3, 'batch_size': 34, 'embedding_dim': 38, 'units': 225, 'dropout': 0.1, 'n_neurons': 56}. Best is trial 18 with value: 0.9040330648422241.\u001b[0m\n"
          ]
        },
        {
          "name": "stdout",
          "output_type": "stream",
          "text": [
            "{'epochs': 3, 'batch_size': 37, 'embedding_dim': 27, 'units': 200, 'dropout': 0.1, 'n_neurons': 42}\n",
            "Epoch 1/3\n",
            "1002/1002 [==============================] - 16s 13ms/step - loss: 0.1210 - accuracy: 0.7473 - val_loss: 0.0646 - val_accuracy: 0.8817\n",
            "Epoch 2/3\n",
            "1002/1002 [==============================] - 12s 12ms/step - loss: 0.0543 - accuracy: 0.9097 - val_loss: 0.0549 - val_accuracy: 0.8929\n",
            "Epoch 3/3\n",
            "1002/1002 [==============================] - 12s 12ms/step - loss: 0.0359 - accuracy: 0.9465 - val_loss: 0.0545 - val_accuracy: 0.8972\n"
          ]
        },
        {
          "name": "stderr",
          "output_type": "stream",
          "text": [
            "\u001b[32m[I 2022-04-13 08:00:06,164]\u001b[0m Trial 51 finished with value: 0.897230327129364 and parameters: {'epochs': 3, 'batch_size': 37, 'embedding_dim': 27, 'units': 200, 'dropout': 0.1, 'n_neurons': 42}. Best is trial 18 with value: 0.9040330648422241.\u001b[0m\n"
          ]
        },
        {
          "name": "stdout",
          "output_type": "stream",
          "text": [
            "{'epochs': 3, 'batch_size': 38, 'embedding_dim': 26, 'units': 213, 'dropout': 0.1, 'n_neurons': 51}\n",
            "Epoch 1/3\n",
            "975/975 [==============================] - 19s 17ms/step - loss: 0.1192 - accuracy: 0.7526 - val_loss: 0.0653 - val_accuracy: 0.8800\n",
            "Epoch 2/3\n",
            "975/975 [==============================] - 15s 16ms/step - loss: 0.0547 - accuracy: 0.9093 - val_loss: 0.0549 - val_accuracy: 0.8999\n",
            "Epoch 3/3\n",
            "975/975 [==============================] - 15s 16ms/step - loss: 0.0354 - accuracy: 0.9470 - val_loss: 0.0540 - val_accuracy: 0.8987\n"
          ]
        },
        {
          "name": "stderr",
          "output_type": "stream",
          "text": [
            "\u001b[32m[I 2022-04-13 08:00:59,379]\u001b[0m Trial 52 finished with value: 0.898688018321991 and parameters: {'epochs': 3, 'batch_size': 38, 'embedding_dim': 26, 'units': 213, 'dropout': 0.1, 'n_neurons': 51}. Best is trial 18 with value: 0.9040330648422241.\u001b[0m\n"
          ]
        },
        {
          "name": "stdout",
          "output_type": "stream",
          "text": [
            "{'epochs': 3, 'batch_size': 38, 'embedding_dim': 28, 'units': 216, 'dropout': 0.1, 'n_neurons': 54}\n",
            "Epoch 1/3\n",
            "975/975 [==============================] - 17s 13ms/step - loss: 0.1145 - accuracy: 0.7628 - val_loss: 0.0642 - val_accuracy: 0.8848\n",
            "Epoch 2/3\n",
            "975/975 [==============================] - 12s 13ms/step - loss: 0.0536 - accuracy: 0.9083 - val_loss: 0.0556 - val_accuracy: 0.8992\n",
            "Epoch 3/3\n",
            "975/975 [==============================] - 12s 13ms/step - loss: 0.0347 - accuracy: 0.9475 - val_loss: 0.0541 - val_accuracy: 0.8975\n"
          ]
        },
        {
          "name": "stderr",
          "output_type": "stream",
          "text": [
            "\u001b[32m[I 2022-04-13 08:01:43,319]\u001b[0m Trial 53 finished with value: 0.8974732756614685 and parameters: {'epochs': 3, 'batch_size': 38, 'embedding_dim': 28, 'units': 216, 'dropout': 0.1, 'n_neurons': 54}. Best is trial 18 with value: 0.9040330648422241.\u001b[0m\n"
          ]
        },
        {
          "name": "stdout",
          "output_type": "stream",
          "text": [
            "{'epochs': 3, 'batch_size': 38, 'embedding_dim': 28, 'units': 218, 'dropout': 0.1, 'n_neurons': 65}\n",
            "Epoch 1/3\n",
            "975/975 [==============================] - 18s 15ms/step - loss: 0.1146 - accuracy: 0.7594 - val_loss: 0.0657 - val_accuracy: 0.8831\n",
            "Epoch 2/3\n",
            "975/975 [==============================] - 14s 14ms/step - loss: 0.0510 - accuracy: 0.9124 - val_loss: 0.0567 - val_accuracy: 0.8948\n",
            "Epoch 3/3\n",
            "975/975 [==============================] - 14s 14ms/step - loss: 0.0326 - accuracy: 0.9506 - val_loss: 0.0542 - val_accuracy: 0.8948\n"
          ]
        },
        {
          "name": "stderr",
          "output_type": "stream",
          "text": [
            "\u001b[32m[I 2022-04-13 08:03:10,930]\u001b[0m Trial 54 finished with value: 0.8948007822036743 and parameters: {'epochs': 3, 'batch_size': 38, 'embedding_dim': 28, 'units': 218, 'dropout': 0.1, 'n_neurons': 65}. Best is trial 18 with value: 0.9040330648422241.\u001b[0m\n"
          ]
        },
        {
          "name": "stdout",
          "output_type": "stream",
          "text": [
            "{'epochs': 3, 'batch_size': 36, 'embedding_dim': 26, 'units': 211, 'dropout': 0.2, 'n_neurons': 71}\n",
            "Epoch 1/3\n",
            "1029/1029 [==============================] - 18s 15ms/step - loss: 0.1204 - accuracy: 0.7507 - val_loss: 0.0649 - val_accuracy: 0.8746\n",
            "Epoch 2/3\n",
            "1029/1029 [==============================] - 14s 14ms/step - loss: 0.0559 - accuracy: 0.9077 - val_loss: 0.0554 - val_accuracy: 0.8958\n",
            "Epoch 3/3\n",
            "1029/1029 [==============================] - 15s 14ms/step - loss: 0.0366 - accuracy: 0.9469 - val_loss: 0.0588 - val_accuracy: 0.8885\n"
          ]
        },
        {
          "name": "stderr",
          "output_type": "stream",
          "text": [
            "\u001b[32m[I 2022-04-13 08:04:01,425]\u001b[0m Trial 55 finished with value: 0.8884839415550232 and parameters: {'epochs': 3, 'batch_size': 36, 'embedding_dim': 26, 'units': 211, 'dropout': 0.2, 'n_neurons': 71}. Best is trial 18 with value: 0.9040330648422241.\u001b[0m\n"
          ]
        },
        {
          "name": "stdout",
          "output_type": "stream",
          "text": [
            "{'epochs': 3, 'batch_size': 36, 'embedding_dim': 24, 'units': 235, 'dropout': 0.1, 'n_neurons': 61}\n",
            "Epoch 1/3\n",
            "1029/1029 [==============================] - 20s 16ms/step - loss: 0.1151 - accuracy: 0.7605 - val_loss: 0.0655 - val_accuracy: 0.8827\n",
            "Epoch 2/3\n",
            "1029/1029 [==============================] - 15s 15ms/step - loss: 0.0532 - accuracy: 0.9094 - val_loss: 0.0637 - val_accuracy: 0.8822\n",
            "Epoch 3/3\n",
            "1029/1029 [==============================] - 15s 15ms/step - loss: 0.0359 - accuracy: 0.9453 - val_loss: 0.0582 - val_accuracy: 0.8887\n"
          ]
        },
        {
          "name": "stderr",
          "output_type": "stream",
          "text": [
            "\u001b[32m[I 2022-04-13 08:04:54,391]\u001b[0m Trial 56 finished with value: 0.8887268900871277 and parameters: {'epochs': 3, 'batch_size': 36, 'embedding_dim': 24, 'units': 235, 'dropout': 0.1, 'n_neurons': 61}. Best is trial 18 with value: 0.9040330648422241.\u001b[0m\n"
          ]
        },
        {
          "name": "stdout",
          "output_type": "stream",
          "text": [
            "{'epochs': 3, 'batch_size': 32, 'embedding_dim': 25, 'units': 241, 'dropout': 0.1, 'n_neurons': 53}\n",
            "Epoch 1/3\n",
            "1158/1158 [==============================] - 21s 15ms/step - loss: 0.1197 - accuracy: 0.7472 - val_loss: 0.0684 - val_accuracy: 0.8773\n",
            "Epoch 2/3\n",
            "1158/1158 [==============================] - 17s 15ms/step - loss: 0.0538 - accuracy: 0.9114 - val_loss: 0.0558 - val_accuracy: 0.8931\n",
            "Epoch 3/3\n",
            "1158/1158 [==============================] - 17s 15ms/step - loss: 0.0349 - accuracy: 0.9479 - val_loss: 0.0561 - val_accuracy: 0.8868\n"
          ]
        },
        {
          "name": "stderr",
          "output_type": "stream",
          "text": [
            "\u001b[32m[I 2022-04-13 08:05:51,817]\u001b[0m Trial 57 finished with value: 0.8867833018302917 and parameters: {'epochs': 3, 'batch_size': 32, 'embedding_dim': 25, 'units': 241, 'dropout': 0.1, 'n_neurons': 53}. Best is trial 18 with value: 0.9040330648422241.\u001b[0m\n"
          ]
        },
        {
          "name": "stdout",
          "output_type": "stream",
          "text": [
            "{'epochs': 3, 'batch_size': 35, 'embedding_dim': 29, 'units': 250, 'dropout': 0.2, 'n_neurons': 83}\n",
            "Epoch 1/3\n",
            "1059/1059 [==============================] - 22s 17ms/step - loss: 0.1147 - accuracy: 0.7630 - val_loss: 0.0640 - val_accuracy: 0.8783\n",
            "Epoch 2/3\n",
            "1059/1059 [==============================] - 18s 17ms/step - loss: 0.0541 - accuracy: 0.9114 - val_loss: 0.0565 - val_accuracy: 0.8926\n",
            "Epoch 3/3\n",
            "1059/1059 [==============================] - 18s 17ms/step - loss: 0.0358 - accuracy: 0.9480 - val_loss: 0.0567 - val_accuracy: 0.8907\n"
          ]
        },
        {
          "name": "stderr",
          "output_type": "stream",
          "text": [
            "\u001b[32m[I 2022-04-13 08:06:52,117]\u001b[0m Trial 58 finished with value: 0.8906705379486084 and parameters: {'epochs': 3, 'batch_size': 35, 'embedding_dim': 29, 'units': 250, 'dropout': 0.2, 'n_neurons': 83}. Best is trial 18 with value: 0.9040330648422241.\u001b[0m\n"
          ]
        },
        {
          "name": "stdout",
          "output_type": "stream",
          "text": [
            "{'epochs': 3, 'batch_size': 38, 'embedding_dim': 30, 'units': 234, 'dropout': 0.1, 'n_neurons': 51}\n",
            "Epoch 1/3\n",
            "975/975 [==============================] - 19s 16ms/step - loss: 0.1167 - accuracy: 0.7568 - val_loss: 0.0631 - val_accuracy: 0.8834\n",
            "Epoch 2/3\n",
            "975/975 [==============================] - 15s 15ms/step - loss: 0.0524 - accuracy: 0.9135 - val_loss: 0.0552 - val_accuracy: 0.8941\n",
            "Epoch 3/3\n",
            "975/975 [==============================] - 15s 15ms/step - loss: 0.0343 - accuracy: 0.9487 - val_loss: 0.0611 - val_accuracy: 0.8831\n"
          ]
        },
        {
          "name": "stderr",
          "output_type": "stream",
          "text": [
            "\u001b[32m[I 2022-04-13 08:07:42,754]\u001b[0m Trial 59 finished with value: 0.8831389546394348 and parameters: {'epochs': 3, 'batch_size': 38, 'embedding_dim': 30, 'units': 234, 'dropout': 0.1, 'n_neurons': 51}. Best is trial 18 with value: 0.9040330648422241.\u001b[0m\n"
          ]
        },
        {
          "name": "stdout",
          "output_type": "stream",
          "text": [
            "{'epochs': 2, 'batch_size': 40, 'embedding_dim': 32, 'units': 226, 'dropout': 0.30000000000000004, 'n_neurons': 57}\n",
            "Epoch 1/2\n",
            "927/927 [==============================] - 18s 16ms/step - loss: 0.1257 - accuracy: 0.7473 - val_loss: 0.0679 - val_accuracy: 0.8829\n",
            "Epoch 2/2\n",
            "927/927 [==============================] - 14s 15ms/step - loss: 0.0616 - accuracy: 0.9047 - val_loss: 0.0599 - val_accuracy: 0.8902\n"
          ]
        },
        {
          "name": "stderr",
          "output_type": "stream",
          "text": [
            "\u001b[32m[I 2022-04-13 08:08:18,075]\u001b[0m Trial 60 finished with value: 0.8901846408843994 and parameters: {'epochs': 2, 'batch_size': 40, 'embedding_dim': 32, 'units': 226, 'dropout': 0.30000000000000004, 'n_neurons': 57}. Best is trial 18 with value: 0.9040330648422241.\u001b[0m\n"
          ]
        },
        {
          "name": "stdout",
          "output_type": "stream",
          "text": [
            "{'epochs': 3, 'batch_size': 37, 'embedding_dim': 27, 'units': 215, 'dropout': 0.1, 'n_neurons': 42}\n",
            "Epoch 1/3\n",
            "1002/1002 [==============================] - 21s 17ms/step - loss: 0.1176 - accuracy: 0.7568 - val_loss: 0.0667 - val_accuracy: 0.8773\n",
            "Epoch 2/3\n",
            "1002/1002 [==============================] - 17s 17ms/step - loss: 0.0543 - accuracy: 0.9092 - val_loss: 0.0562 - val_accuracy: 0.8938\n",
            "Epoch 3/3\n",
            "1002/1002 [==============================] - 17s 17ms/step - loss: 0.0349 - accuracy: 0.9474 - val_loss: 0.0574 - val_accuracy: 0.8895\n"
          ]
        },
        {
          "name": "stderr",
          "output_type": "stream",
          "text": [
            "\u001b[32m[I 2022-04-13 08:09:15,368]\u001b[0m Trial 61 finished with value: 0.8894557952880859 and parameters: {'epochs': 3, 'batch_size': 37, 'embedding_dim': 27, 'units': 215, 'dropout': 0.1, 'n_neurons': 42}. Best is trial 18 with value: 0.9040330648422241.\u001b[0m\n"
          ]
        },
        {
          "name": "stdout",
          "output_type": "stream",
          "text": [
            "{'epochs': 3, 'batch_size': 38, 'embedding_dim': 28, 'units': 204, 'dropout': 0.1, 'n_neurons': 54}\n",
            "Epoch 1/3\n",
            "975/975 [==============================] - 16s 13ms/step - loss: 0.1146 - accuracy: 0.7617 - val_loss: 0.0673 - val_accuracy: 0.8763\n",
            "Epoch 2/3\n",
            "975/975 [==============================] - 12s 13ms/step - loss: 0.0515 - accuracy: 0.9142 - val_loss: 0.0564 - val_accuracy: 0.8926\n",
            "Epoch 3/3\n",
            "975/975 [==============================] - 12s 12ms/step - loss: 0.0332 - accuracy: 0.9506 - val_loss: 0.0592 - val_accuracy: 0.8868\n"
          ]
        },
        {
          "name": "stderr",
          "output_type": "stream",
          "text": [
            "\u001b[32m[I 2022-04-13 08:09:58,358]\u001b[0m Trial 62 finished with value: 0.8867833018302917 and parameters: {'epochs': 3, 'batch_size': 38, 'embedding_dim': 28, 'units': 204, 'dropout': 0.1, 'n_neurons': 54}. Best is trial 18 with value: 0.9040330648422241.\u001b[0m\n"
          ]
        },
        {
          "name": "stdout",
          "output_type": "stream",
          "text": [
            "{'epochs': 3, 'batch_size': 39, 'embedding_dim': 29, 'units': 210, 'dropout': 0.1, 'n_neurons': 62}\n",
            "Epoch 1/3\n",
            "950/950 [==============================] - 19s 16ms/step - loss: 0.1172 - accuracy: 0.7536 - val_loss: 0.0639 - val_accuracy: 0.8880\n",
            "Epoch 2/3\n",
            "950/950 [==============================] - 15s 15ms/step - loss: 0.0521 - accuracy: 0.9138 - val_loss: 0.0551 - val_accuracy: 0.8938\n",
            "Epoch 3/3\n",
            "950/950 [==============================] - 15s 15ms/step - loss: 0.0343 - accuracy: 0.9480 - val_loss: 0.0570 - val_accuracy: 0.8865\n"
          ]
        },
        {
          "name": "stderr",
          "output_type": "stream",
          "text": [
            "\u001b[32m[I 2022-04-13 08:10:49,208]\u001b[0m Trial 63 finished with value: 0.8865403532981873 and parameters: {'epochs': 3, 'batch_size': 39, 'embedding_dim': 29, 'units': 210, 'dropout': 0.1, 'n_neurons': 62}. Best is trial 18 with value: 0.9040330648422241.\u001b[0m\n"
          ]
        },
        {
          "name": "stdout",
          "output_type": "stream",
          "text": [
            "{'epochs': 3, 'batch_size': 34, 'embedding_dim': 27, 'units': 218, 'dropout': 0.1, 'n_neurons': 58}\n",
            "Epoch 1/3\n",
            "1090/1090 [==============================] - 20s 15ms/step - loss: 0.1156 - accuracy: 0.7619 - val_loss: 0.0664 - val_accuracy: 0.8800\n",
            "Epoch 2/3\n",
            "1090/1090 [==============================] - 15s 14ms/step - loss: 0.0517 - accuracy: 0.9135 - val_loss: 0.0549 - val_accuracy: 0.8938\n",
            "Epoch 3/3\n",
            "1090/1090 [==============================] - 15s 14ms/step - loss: 0.0333 - accuracy: 0.9492 - val_loss: 0.0577 - val_accuracy: 0.8892\n"
          ]
        },
        {
          "name": "stderr",
          "output_type": "stream",
          "text": [
            "\u001b[32m[I 2022-04-13 08:11:42,245]\u001b[0m Trial 64 finished with value: 0.8892128467559814 and parameters: {'epochs': 3, 'batch_size': 34, 'embedding_dim': 27, 'units': 218, 'dropout': 0.1, 'n_neurons': 58}. Best is trial 18 with value: 0.9040330648422241.\u001b[0m\n"
          ]
        },
        {
          "name": "stdout",
          "output_type": "stream",
          "text": [
            "{'epochs': 3, 'batch_size': 24, 'embedding_dim': 24, 'units': 242, 'dropout': 0.4, 'n_neurons': 123}\n",
            "Epoch 1/3\n",
            "1544/1544 [==============================] - 25s 14ms/step - loss: 0.1206 - accuracy: 0.7550 - val_loss: 0.0701 - val_accuracy: 0.8690\n",
            "Epoch 2/3\n",
            "1544/1544 [==============================] - 21s 14ms/step - loss: 0.0606 - accuracy: 0.9005 - val_loss: 0.0603 - val_accuracy: 0.8851\n",
            "Epoch 3/3\n",
            "1544/1544 [==============================] - 21s 14ms/step - loss: 0.0410 - accuracy: 0.9410 - val_loss: 0.0580 - val_accuracy: 0.8907\n"
          ]
        },
        {
          "name": "stderr",
          "output_type": "stream",
          "text": [
            "\u001b[32m[I 2022-04-13 08:12:53,038]\u001b[0m Trial 65 finished with value: 0.8906705379486084 and parameters: {'epochs': 3, 'batch_size': 24, 'embedding_dim': 24, 'units': 242, 'dropout': 0.4, 'n_neurons': 123}. Best is trial 18 with value: 0.9040330648422241.\u001b[0m\n"
          ]
        },
        {
          "name": "stdout",
          "output_type": "stream",
          "text": [
            "{'epochs': 2, 'batch_size': 38, 'embedding_dim': 22, 'units': 212, 'dropout': 0.2, 'n_neurons': 98}\n",
            "Epoch 1/2\n",
            "975/975 [==============================] - 17s 13ms/step - loss: 0.1194 - accuracy: 0.7535 - val_loss: 0.0668 - val_accuracy: 0.8773\n",
            "Epoch 2/2\n",
            "975/975 [==============================] - 12s 13ms/step - loss: 0.0556 - accuracy: 0.9078 - val_loss: 0.0563 - val_accuracy: 0.8929\n"
          ]
        },
        {
          "name": "stderr",
          "output_type": "stream",
          "text": [
            "\u001b[32m[I 2022-04-13 08:13:24,899]\u001b[0m Trial 66 finished with value: 0.8928571343421936 and parameters: {'epochs': 2, 'batch_size': 38, 'embedding_dim': 22, 'units': 212, 'dropout': 0.2, 'n_neurons': 98}. Best is trial 18 with value: 0.9040330648422241.\u001b[0m\n"
          ]
        },
        {
          "name": "stdout",
          "output_type": "stream",
          "text": [
            "{'epochs': 2, 'batch_size': 22, 'embedding_dim': 26, 'units': 247, 'dropout': 0.1, 'n_neurons': 77}\n",
            "Epoch 1/2\n",
            "1684/1684 [==============================] - 30s 16ms/step - loss: 0.1117 - accuracy: 0.7697 - val_loss: 0.0638 - val_accuracy: 0.8856\n",
            "Epoch 2/2\n",
            "1684/1684 [==============================] - 26s 15ms/step - loss: 0.0514 - accuracy: 0.9135 - val_loss: 0.0565 - val_accuracy: 0.8929\n"
          ]
        },
        {
          "name": "stderr",
          "output_type": "stream",
          "text": [
            "\u001b[32m[I 2022-04-13 08:14:23,335]\u001b[0m Trial 67 finished with value: 0.8928571343421936 and parameters: {'epochs': 2, 'batch_size': 22, 'embedding_dim': 26, 'units': 247, 'dropout': 0.1, 'n_neurons': 77}. Best is trial 18 with value: 0.9040330648422241.\u001b[0m\n"
          ]
        },
        {
          "name": "stdout",
          "output_type": "stream",
          "text": [
            "{'epochs': 3, 'batch_size': 37, 'embedding_dim': 28, 'units': 231, 'dropout': 0.2, 'n_neurons': 109}\n",
            "Epoch 1/3\n",
            "1002/1002 [==============================] - 21s 18ms/step - loss: 0.1165 - accuracy: 0.7571 - val_loss: 0.0701 - val_accuracy: 0.8695\n",
            "Epoch 2/3\n",
            "1002/1002 [==============================] - 17s 17ms/step - loss: 0.0536 - accuracy: 0.9115 - val_loss: 0.0641 - val_accuracy: 0.8768\n",
            "Epoch 3/3\n",
            "1002/1002 [==============================] - 17s 17ms/step - loss: 0.0348 - accuracy: 0.9492 - val_loss: 0.0550 - val_accuracy: 0.8950\n"
          ]
        },
        {
          "name": "stderr",
          "output_type": "stream",
          "text": [
            "\u001b[32m[I 2022-04-13 08:15:22,702]\u001b[0m Trial 68 finished with value: 0.8950437307357788 and parameters: {'epochs': 3, 'batch_size': 37, 'embedding_dim': 28, 'units': 231, 'dropout': 0.2, 'n_neurons': 109}. Best is trial 18 with value: 0.9040330648422241.\u001b[0m\n"
          ]
        },
        {
          "name": "stdout",
          "output_type": "stream",
          "text": [
            "{'epochs': 2, 'batch_size': 36, 'embedding_dim': 21, 'units': 263, 'dropout': 0.1, 'n_neurons': 88}\n",
            "Epoch 1/2\n",
            "1029/1029 [==============================] - 21s 17ms/step - loss: 0.1140 - accuracy: 0.7623 - val_loss: 0.0642 - val_accuracy: 0.8846\n",
            "Epoch 2/2\n",
            "1029/1029 [==============================] - 17s 16ms/step - loss: 0.0521 - accuracy: 0.9109 - val_loss: 0.0563 - val_accuracy: 0.8958\n"
          ]
        },
        {
          "name": "stderr",
          "output_type": "stream",
          "text": [
            "\u001b[32m[I 2022-04-13 08:16:03,578]\u001b[0m Trial 69 finished with value: 0.8957725763320923 and parameters: {'epochs': 2, 'batch_size': 36, 'embedding_dim': 21, 'units': 263, 'dropout': 0.1, 'n_neurons': 88}. Best is trial 18 with value: 0.9040330648422241.\u001b[0m\n"
          ]
        },
        {
          "name": "stdout",
          "output_type": "stream",
          "text": [
            "{'epochs': 2, 'batch_size': 31, 'embedding_dim': 30, 'units': 217, 'dropout': 0.5, 'n_neurons': 94}\n",
            "Epoch 1/2\n",
            "1195/1195 [==============================] - 23s 17ms/step - loss: 0.1307 - accuracy: 0.7373 - val_loss: 0.0724 - val_accuracy: 0.8695\n",
            "Epoch 2/2\n",
            "1195/1195 [==============================] - 19s 16ms/step - loss: 0.0656 - accuracy: 0.8984 - val_loss: 0.0606 - val_accuracy: 0.8870\n"
          ]
        },
        {
          "name": "stderr",
          "output_type": "stream",
          "text": [
            "\u001b[32m[I 2022-04-13 08:16:48,878]\u001b[0m Trial 70 finished with value: 0.8870262503623962 and parameters: {'epochs': 2, 'batch_size': 31, 'embedding_dim': 30, 'units': 217, 'dropout': 0.5, 'n_neurons': 94}. Best is trial 18 with value: 0.9040330648422241.\u001b[0m\n"
          ]
        },
        {
          "name": "stdout",
          "output_type": "stream",
          "text": [
            "{'epochs': 3, 'batch_size': 39, 'embedding_dim': 26, 'units': 206, 'dropout': 0.1, 'n_neurons': 48}\n",
            "Epoch 1/3\n",
            "950/950 [==============================] - 19s 17ms/step - loss: 0.1177 - accuracy: 0.7527 - val_loss: 0.0651 - val_accuracy: 0.8846\n",
            "Epoch 2/3\n",
            "950/950 [==============================] - 15s 16ms/step - loss: 0.0532 - accuracy: 0.9114 - val_loss: 0.0555 - val_accuracy: 0.8909\n",
            "Epoch 3/3\n",
            "950/950 [==============================] - 15s 16ms/step - loss: 0.0348 - accuracy: 0.9482 - val_loss: 0.0575 - val_accuracy: 0.8890\n"
          ]
        },
        {
          "name": "stderr",
          "output_type": "stream",
          "text": [
            "\u001b[32m[I 2022-04-13 08:17:41,024]\u001b[0m Trial 71 finished with value: 0.888969898223877 and parameters: {'epochs': 3, 'batch_size': 39, 'embedding_dim': 26, 'units': 206, 'dropout': 0.1, 'n_neurons': 48}. Best is trial 18 with value: 0.9040330648422241.\u001b[0m\n"
          ]
        },
        {
          "name": "stdout",
          "output_type": "stream",
          "text": [
            "{'epochs': 3, 'batch_size': 39, 'embedding_dim': 25, 'units': 206, 'dropout': 0.1, 'n_neurons': 44}\n",
            "Epoch 1/3\n",
            "950/950 [==============================] - 19s 17ms/step - loss: 0.1190 - accuracy: 0.7485 - val_loss: 0.0636 - val_accuracy: 0.8841\n",
            "Epoch 2/3\n",
            "950/950 [==============================] - 15s 16ms/step - loss: 0.0532 - accuracy: 0.9126 - val_loss: 0.0555 - val_accuracy: 0.8946\n",
            "Epoch 3/3\n",
            "950/950 [==============================] - 15s 16ms/step - loss: 0.0346 - accuracy: 0.9495 - val_loss: 0.0536 - val_accuracy: 0.8970\n"
          ]
        },
        {
          "name": "stderr",
          "output_type": "stream",
          "text": [
            "\u001b[32m[I 2022-04-13 08:18:33,153]\u001b[0m Trial 72 finished with value: 0.8969873785972595 and parameters: {'epochs': 3, 'batch_size': 39, 'embedding_dim': 25, 'units': 206, 'dropout': 0.1, 'n_neurons': 44}. Best is trial 18 with value: 0.9040330648422241.\u001b[0m\n"
          ]
        },
        {
          "name": "stdout",
          "output_type": "stream",
          "text": [
            "{'epochs': 3, 'batch_size': 40, 'embedding_dim': 27, 'units': 222, 'dropout': 0.1, 'n_neurons': 45}\n",
            "Epoch 1/3\n",
            "927/927 [==============================] - 18s 16ms/step - loss: 0.1267 - accuracy: 0.7295 - val_loss: 0.0683 - val_accuracy: 0.8754\n",
            "Epoch 2/3\n",
            "927/927 [==============================] - 14s 15ms/step - loss: 0.0565 - accuracy: 0.9076 - val_loss: 0.0543 - val_accuracy: 0.9040\n",
            "Epoch 3/3\n",
            "927/927 [==============================] - 14s 15ms/step - loss: 0.0363 - accuracy: 0.9465 - val_loss: 0.0582 - val_accuracy: 0.8926\n"
          ]
        },
        {
          "name": "stderr",
          "output_type": "stream",
          "text": [
            "\u001b[32m[I 2022-04-13 08:19:21,492]\u001b[0m Trial 73 finished with value: 0.8926141858100891 and parameters: {'epochs': 3, 'batch_size': 40, 'embedding_dim': 27, 'units': 222, 'dropout': 0.1, 'n_neurons': 45}. Best is trial 18 with value: 0.9040330648422241.\u001b[0m\n"
          ]
        },
        {
          "name": "stdout",
          "output_type": "stream",
          "text": [
            "{'epochs': 3, 'batch_size': 38, 'embedding_dim': 27, 'units': 259, 'dropout': 0.1, 'n_neurons': 54}\n",
            "Epoch 1/3\n",
            "975/975 [==============================] - 23s 20ms/step - loss: 0.1155 - accuracy: 0.7583 - val_loss: 0.0662 - val_accuracy: 0.8805\n",
            "Epoch 2/3\n",
            "975/975 [==============================] - 19s 19ms/step - loss: 0.0524 - accuracy: 0.9122 - val_loss: 0.0616 - val_accuracy: 0.8814\n",
            "Epoch 3/3\n",
            "975/975 [==============================] - 19s 19ms/step - loss: 0.0338 - accuracy: 0.9490 - val_loss: 0.0537 - val_accuracy: 0.8967\n"
          ]
        },
        {
          "name": "stderr",
          "output_type": "stream",
          "text": [
            "\u001b[32m[I 2022-04-13 08:20:49,610]\u001b[0m Trial 74 finished with value: 0.896744430065155 and parameters: {'epochs': 3, 'batch_size': 38, 'embedding_dim': 27, 'units': 259, 'dropout': 0.1, 'n_neurons': 54}. Best is trial 18 with value: 0.9040330648422241.\u001b[0m\n"
          ]
        },
        {
          "name": "stdout",
          "output_type": "stream",
          "text": [
            "{'epochs': 3, 'batch_size': 37, 'embedding_dim': 28, 'units': 200, 'dropout': 0.30000000000000004, 'n_neurons': 40}\n",
            "Epoch 1/3\n",
            "1002/1002 [==============================] - 17s 13ms/step - loss: 0.1307 - accuracy: 0.7335 - val_loss: 0.0711 - val_accuracy: 0.8700\n",
            "Epoch 2/3\n",
            "1002/1002 [==============================] - 12s 12ms/step - loss: 0.0653 - accuracy: 0.9007 - val_loss: 0.0593 - val_accuracy: 0.8912\n",
            "Epoch 3/3\n",
            "1002/1002 [==============================] - 12s 12ms/step - loss: 0.0457 - accuracy: 0.9387 - val_loss: 0.0568 - val_accuracy: 0.8912\n"
          ]
        },
        {
          "name": "stderr",
          "output_type": "stream",
          "text": [
            "\u001b[32m[I 2022-04-13 08:21:33,220]\u001b[0m Trial 75 finished with value: 0.8911564350128174 and parameters: {'epochs': 3, 'batch_size': 37, 'embedding_dim': 28, 'units': 200, 'dropout': 0.30000000000000004, 'n_neurons': 40}. Best is trial 18 with value: 0.9040330648422241.\u001b[0m\n"
          ]
        },
        {
          "name": "stdout",
          "output_type": "stream",
          "text": [
            "{'epochs': 3, 'batch_size': 35, 'embedding_dim': 27, 'units': 202, 'dropout': 0.1, 'n_neurons': 66}\n",
            "Epoch 1/3\n",
            "1059/1059 [==============================] - 19s 15ms/step - loss: 0.1155 - accuracy: 0.7580 - val_loss: 0.0679 - val_accuracy: 0.8705\n",
            "Epoch 2/3\n",
            "1059/1059 [==============================] - 16s 15ms/step - loss: 0.0514 - accuracy: 0.9124 - val_loss: 0.0564 - val_accuracy: 0.8963\n",
            "Epoch 3/3\n",
            "1059/1059 [==============================] - 15s 15ms/step - loss: 0.0333 - accuracy: 0.9479 - val_loss: 0.0579 - val_accuracy: 0.8861\n"
          ]
        },
        {
          "name": "stderr",
          "output_type": "stream",
          "text": [
            "\u001b[32m[I 2022-04-13 08:22:26,737]\u001b[0m Trial 76 finished with value: 0.8860543966293335 and parameters: {'epochs': 3, 'batch_size': 35, 'embedding_dim': 27, 'units': 202, 'dropout': 0.1, 'n_neurons': 66}. Best is trial 18 with value: 0.9040330648422241.\u001b[0m\n"
          ]
        },
        {
          "name": "stdout",
          "output_type": "stream",
          "text": [
            "{'epochs': 2, 'batch_size': 34, 'embedding_dim': 29, 'units': 214, 'dropout': 0.1, 'n_neurons': 50}\n",
            "Epoch 1/2\n",
            "1090/1090 [==============================] - 20s 15ms/step - loss: 0.1136 - accuracy: 0.7631 - val_loss: 0.0641 - val_accuracy: 0.8851\n",
            "Epoch 2/2\n",
            "1090/1090 [==============================] - 15s 14ms/step - loss: 0.0516 - accuracy: 0.9134 - val_loss: 0.0555 - val_accuracy: 0.8955\n"
          ]
        },
        {
          "name": "stderr",
          "output_type": "stream",
          "text": [
            "\u001b[32m[I 2022-04-13 08:23:03,881]\u001b[0m Trial 77 finished with value: 0.8955296277999878 and parameters: {'epochs': 2, 'batch_size': 34, 'embedding_dim': 29, 'units': 214, 'dropout': 0.1, 'n_neurons': 50}. Best is trial 18 with value: 0.9040330648422241.\u001b[0m\n"
          ]
        },
        {
          "name": "stdout",
          "output_type": "stream",
          "text": [
            "{'epochs': 3, 'batch_size': 37, 'embedding_dim': 31, 'units': 252, 'dropout': 0.2, 'n_neurons': 37}\n",
            "Epoch 1/3\n",
            "1002/1002 [==============================] - 18s 15ms/step - loss: 0.1261 - accuracy: 0.7423 - val_loss: 0.0698 - val_accuracy: 0.8669\n",
            "Epoch 2/3\n",
            "1002/1002 [==============================] - 14s 14ms/step - loss: 0.0605 - accuracy: 0.9061 - val_loss: 0.0573 - val_accuracy: 0.8912\n",
            "Epoch 3/3\n",
            "1002/1002 [==============================] - 15s 14ms/step - loss: 0.0404 - accuracy: 0.9440 - val_loss: 0.0572 - val_accuracy: 0.8875\n"
          ]
        },
        {
          "name": "stderr",
          "output_type": "stream",
          "text": [
            "\u001b[32m[I 2022-04-13 08:23:53,876]\u001b[0m Trial 78 finished with value: 0.8875121474266052 and parameters: {'epochs': 3, 'batch_size': 37, 'embedding_dim': 31, 'units': 252, 'dropout': 0.2, 'n_neurons': 37}. Best is trial 18 with value: 0.9040330648422241.\u001b[0m\n"
          ]
        },
        {
          "name": "stdout",
          "output_type": "stream",
          "text": [
            "{'epochs': 3, 'batch_size': 21, 'embedding_dim': 23, 'units': 204, 'dropout': 0.1, 'n_neurons': 63}\n",
            "Epoch 1/3\n",
            "1764/1764 [==============================] - 24s 12ms/step - loss: 0.1127 - accuracy: 0.7636 - val_loss: 0.0673 - val_accuracy: 0.8756\n",
            "Epoch 2/3\n",
            "1764/1764 [==============================] - 20s 11ms/step - loss: 0.0529 - accuracy: 0.9098 - val_loss: 0.0571 - val_accuracy: 0.8965\n",
            "Epoch 3/3\n",
            "1764/1764 [==============================] - 20s 12ms/step - loss: 0.0348 - accuracy: 0.9472 - val_loss: 0.0556 - val_accuracy: 0.8897\n"
          ]
        },
        {
          "name": "stderr",
          "output_type": "stream",
          "text": [
            "\u001b[32m[I 2022-04-13 08:25:02,046]\u001b[0m Trial 79 finished with value: 0.8896987438201904 and parameters: {'epochs': 3, 'batch_size': 21, 'embedding_dim': 23, 'units': 204, 'dropout': 0.1, 'n_neurons': 63}. Best is trial 18 with value: 0.9040330648422241.\u001b[0m\n"
          ]
        },
        {
          "name": "stdout",
          "output_type": "stream",
          "text": [
            "{'epochs': 2, 'batch_size': 24, 'embedding_dim': 35, 'units': 200, 'dropout': 0.1, 'n_neurons': 59}\n",
            "Epoch 1/2\n",
            "1544/1544 [==============================] - 23s 12ms/step - loss: 0.1073 - accuracy: 0.7814 - val_loss: 0.0648 - val_accuracy: 0.8819\n",
            "Epoch 2/2\n",
            "1544/1544 [==============================] - 18s 12ms/step - loss: 0.0493 - accuracy: 0.9166 - val_loss: 0.0570 - val_accuracy: 0.8943\n"
          ]
        },
        {
          "name": "stderr",
          "output_type": "stream",
          "text": [
            "\u001b[32m[I 2022-04-13 08:25:45,048]\u001b[0m Trial 80 finished with value: 0.8943148851394653 and parameters: {'epochs': 2, 'batch_size': 24, 'embedding_dim': 35, 'units': 200, 'dropout': 0.1, 'n_neurons': 59}. Best is trial 18 with value: 0.9040330648422241.\u001b[0m\n"
          ]
        },
        {
          "name": "stdout",
          "output_type": "stream",
          "text": [
            "{'epochs': 3, 'batch_size': 36, 'embedding_dim': 26, 'units': 208, 'dropout': 0.1, 'n_neurons': 40}\n",
            "Epoch 1/3\n",
            "1029/1029 [==============================] - 16s 13ms/step - loss: 0.1234 - accuracy: 0.7423 - val_loss: 0.0669 - val_accuracy: 0.8732\n",
            "Epoch 2/3\n",
            "1029/1029 [==============================] - 12s 12ms/step - loss: 0.0560 - accuracy: 0.9082 - val_loss: 0.0560 - val_accuracy: 0.8997\n",
            "Epoch 3/3\n",
            "1029/1029 [==============================] - 13s 12ms/step - loss: 0.0376 - accuracy: 0.9450 - val_loss: 0.0530 - val_accuracy: 0.9001\n"
          ]
        },
        {
          "name": "stderr",
          "output_type": "stream",
          "text": [
            "\u001b[32m[I 2022-04-13 08:26:31,565]\u001b[0m Trial 81 finished with value: 0.9001457691192627 and parameters: {'epochs': 3, 'batch_size': 36, 'embedding_dim': 26, 'units': 208, 'dropout': 0.1, 'n_neurons': 40}. Best is trial 18 with value: 0.9040330648422241.\u001b[0m\n"
          ]
        },
        {
          "name": "stdout",
          "output_type": "stream",
          "text": [
            "{'epochs': 3, 'batch_size': 38, 'embedding_dim': 25, 'units': 207, 'dropout': 0.1, 'n_neurons': 45}\n",
            "Epoch 1/3\n",
            "975/975 [==============================] - 19s 16ms/step - loss: 0.1180 - accuracy: 0.7525 - val_loss: 0.0687 - val_accuracy: 0.8722\n",
            "Epoch 2/3\n",
            "975/975 [==============================] - 15s 15ms/step - loss: 0.0534 - accuracy: 0.9113 - val_loss: 0.0567 - val_accuracy: 0.8916\n",
            "Epoch 3/3\n",
            "975/975 [==============================] - 15s 15ms/step - loss: 0.0347 - accuracy: 0.9487 - val_loss: 0.0551 - val_accuracy: 0.8958\n"
          ]
        },
        {
          "name": "stderr",
          "output_type": "stream",
          "text": [
            "\u001b[32m[I 2022-04-13 08:27:23,854]\u001b[0m Trial 82 finished with value: 0.8957725763320923 and parameters: {'epochs': 3, 'batch_size': 38, 'embedding_dim': 25, 'units': 207, 'dropout': 0.1, 'n_neurons': 45}. Best is trial 18 with value: 0.9040330648422241.\u001b[0m\n"
          ]
        },
        {
          "name": "stdout",
          "output_type": "stream",
          "text": [
            "{'epochs': 3, 'batch_size': 36, 'embedding_dim': 26, 'units': 211, 'dropout': 0.1, 'n_neurons': 35}\n",
            "Epoch 1/3\n",
            "1029/1029 [==============================] - 19s 15ms/step - loss: 0.1170 - accuracy: 0.7591 - val_loss: 0.0655 - val_accuracy: 0.8807\n",
            "Epoch 2/3\n",
            "1029/1029 [==============================] - 14s 14ms/step - loss: 0.0544 - accuracy: 0.9095 - val_loss: 0.0564 - val_accuracy: 0.8921\n",
            "Epoch 3/3\n",
            "1029/1029 [==============================] - 14s 14ms/step - loss: 0.0356 - accuracy: 0.9470 - val_loss: 0.0558 - val_accuracy: 0.8960\n"
          ]
        },
        {
          "name": "stderr",
          "output_type": "stream",
          "text": [
            "\u001b[32m[I 2022-04-13 08:28:14,296]\u001b[0m Trial 83 finished with value: 0.8960155248641968 and parameters: {'epochs': 3, 'batch_size': 36, 'embedding_dim': 26, 'units': 211, 'dropout': 0.1, 'n_neurons': 35}. Best is trial 18 with value: 0.9040330648422241.\u001b[0m\n"
          ]
        },
        {
          "name": "stdout",
          "output_type": "stream",
          "text": [
            "{'epochs': 3, 'batch_size': 25, 'embedding_dim': 28, 'units': 213, 'dropout': 0.1, 'n_neurons': 41}\n",
            "Epoch 1/3\n",
            "1482/1482 [==============================] - 27s 16ms/step - loss: 0.1123 - accuracy: 0.7694 - val_loss: 0.0633 - val_accuracy: 0.8853\n",
            "Epoch 2/3\n",
            "1482/1482 [==============================] - 23s 15ms/step - loss: 0.0520 - accuracy: 0.9133 - val_loss: 0.0555 - val_accuracy: 0.8970\n",
            "Epoch 3/3\n",
            "1482/1482 [==============================] - 23s 15ms/step - loss: 0.0341 - accuracy: 0.9492 - val_loss: 0.0537 - val_accuracy: 0.8953\n"
          ]
        },
        {
          "name": "stderr",
          "output_type": "stream",
          "text": [
            "\u001b[32m[I 2022-04-13 08:29:28,717]\u001b[0m Trial 84 finished with value: 0.8952866792678833 and parameters: {'epochs': 3, 'batch_size': 25, 'embedding_dim': 28, 'units': 213, 'dropout': 0.1, 'n_neurons': 41}. Best is trial 18 with value: 0.9040330648422241.\u001b[0m\n"
          ]
        },
        {
          "name": "stdout",
          "output_type": "stream",
          "text": [
            "{'epochs': 3, 'batch_size': 37, 'embedding_dim': 27, 'units': 224, 'dropout': 0.2, 'n_neurons': 39}\n",
            "Epoch 1/3\n",
            "1002/1002 [==============================] - 17s 14ms/step - loss: 0.1278 - accuracy: 0.7423 - val_loss: 0.0682 - val_accuracy: 0.8812\n",
            "Epoch 2/3\n",
            "1002/1002 [==============================] - 13s 13ms/step - loss: 0.0622 - accuracy: 0.9043 - val_loss: 0.0610 - val_accuracy: 0.8863\n",
            "Epoch 3/3\n",
            "1002/1002 [==============================] - 13s 13ms/step - loss: 0.0421 - accuracy: 0.9428 - val_loss: 0.0558 - val_accuracy: 0.8946\n"
          ]
        },
        {
          "name": "stderr",
          "output_type": "stream",
          "text": [
            "\u001b[32m[I 2022-04-13 08:30:15,902]\u001b[0m Trial 85 finished with value: 0.8945578336715698 and parameters: {'epochs': 3, 'batch_size': 37, 'embedding_dim': 27, 'units': 224, 'dropout': 0.2, 'n_neurons': 39}. Best is trial 18 with value: 0.9040330648422241.\u001b[0m\n"
          ]
        },
        {
          "name": "stdout",
          "output_type": "stream",
          "text": [
            "{'epochs': 3, 'batch_size': 35, 'embedding_dim': 20, 'units': 209, 'dropout': 0.1, 'n_neurons': 70}\n",
            "Epoch 1/3\n",
            "1059/1059 [==============================] - 21s 17ms/step - loss: 0.1150 - accuracy: 0.7599 - val_loss: 0.0658 - val_accuracy: 0.8814\n",
            "Epoch 2/3\n",
            "1059/1059 [==============================] - 17s 16ms/step - loss: 0.0520 - accuracy: 0.9119 - val_loss: 0.0567 - val_accuracy: 0.8967\n",
            "Epoch 3/3\n",
            "1059/1059 [==============================] - 17s 16ms/step - loss: 0.0337 - accuracy: 0.9481 - val_loss: 0.0577 - val_accuracy: 0.8890\n"
          ]
        },
        {
          "name": "stderr",
          "output_type": "stream",
          "text": [
            "\u001b[32m[I 2022-04-13 08:31:13,793]\u001b[0m Trial 86 finished with value: 0.888969898223877 and parameters: {'epochs': 3, 'batch_size': 35, 'embedding_dim': 20, 'units': 209, 'dropout': 0.1, 'n_neurons': 70}. Best is trial 18 with value: 0.9040330648422241.\u001b[0m\n"
          ]
        },
        {
          "name": "stdout",
          "output_type": "stream",
          "text": [
            "{'epochs': 2, 'batch_size': 39, 'embedding_dim': 26, 'units': 219, 'dropout': 0.4, 'n_neurons': 50}\n",
            "Epoch 1/2\n",
            "950/950 [==============================] - 20s 18ms/step - loss: 0.1330 - accuracy: 0.7297 - val_loss: 0.0781 - val_accuracy: 0.8530\n",
            "Epoch 2/2\n",
            "950/950 [==============================] - 16s 17ms/step - loss: 0.0666 - accuracy: 0.8998 - val_loss: 0.0596 - val_accuracy: 0.8848\n"
          ]
        },
        {
          "name": "stderr",
          "output_type": "stream",
          "text": [
            "\u001b[32m[I 2022-04-13 08:31:52,145]\u001b[0m Trial 87 finished with value: 0.884839653968811 and parameters: {'epochs': 2, 'batch_size': 39, 'embedding_dim': 26, 'units': 219, 'dropout': 0.4, 'n_neurons': 50}. Best is trial 18 with value: 0.9040330648422241.\u001b[0m\n"
          ]
        },
        {
          "name": "stdout",
          "output_type": "stream",
          "text": [
            "{'epochs': 3, 'batch_size': 40, 'embedding_dim': 24, 'units': 216, 'dropout': 0.1, 'n_neurons': 48}\n",
            "Epoch 1/3\n",
            "927/927 [==============================] - 16s 14ms/step - loss: 0.1217 - accuracy: 0.7434 - val_loss: 0.0663 - val_accuracy: 0.8841\n",
            "Epoch 2/3\n",
            "927/927 [==============================] - 12s 13ms/step - loss: 0.0549 - accuracy: 0.9091 - val_loss: 0.0610 - val_accuracy: 0.8885\n",
            "Epoch 3/3\n",
            "927/927 [==============================] - 12s 13ms/step - loss: 0.0366 - accuracy: 0.9451 - val_loss: 0.0606 - val_accuracy: 0.8839\n"
          ]
        },
        {
          "name": "stderr",
          "output_type": "stream",
          "text": [
            "\u001b[32m[I 2022-04-13 08:32:34,485]\u001b[0m Trial 88 finished with value: 0.8838678598403931 and parameters: {'epochs': 3, 'batch_size': 40, 'embedding_dim': 24, 'units': 216, 'dropout': 0.1, 'n_neurons': 48}. Best is trial 18 with value: 0.9040330648422241.\u001b[0m\n"
          ]
        },
        {
          "name": "stdout",
          "output_type": "stream",
          "text": [
            "{'epochs': 3, 'batch_size': 31, 'embedding_dim': 26, 'units': 228, 'dropout': 0.1, 'n_neurons': 55}\n",
            "Epoch 1/3\n",
            "1195/1195 [==============================] - 20s 14ms/step - loss: 0.1145 - accuracy: 0.7642 - val_loss: 0.0656 - val_accuracy: 0.8839\n",
            "Epoch 2/3\n",
            "1195/1195 [==============================] - 15s 13ms/step - loss: 0.0530 - accuracy: 0.9116 - val_loss: 0.0614 - val_accuracy: 0.8788\n",
            "Epoch 3/3\n",
            "1195/1195 [==============================] - 15s 13ms/step - loss: 0.0349 - accuracy: 0.9466 - val_loss: 0.0556 - val_accuracy: 0.8938\n"
          ]
        },
        {
          "name": "stderr",
          "output_type": "stream",
          "text": [
            "\u001b[32m[I 2022-04-13 08:34:01,964]\u001b[0m Trial 89 finished with value: 0.8938289880752563 and parameters: {'epochs': 3, 'batch_size': 31, 'embedding_dim': 26, 'units': 228, 'dropout': 0.1, 'n_neurons': 55}. Best is trial 18 with value: 0.9040330648422241.\u001b[0m\n"
          ]
        },
        {
          "name": "stdout",
          "output_type": "stream",
          "text": [
            "{'epochs': 2, 'batch_size': 36, 'embedding_dim': 28, 'units': 204, 'dropout': 0.4, 'n_neurons': 52}\n",
            "Epoch 1/2\n",
            "1029/1029 [==============================] - 17s 13ms/step - loss: 0.1327 - accuracy: 0.7326 - val_loss: 0.0718 - val_accuracy: 0.8783\n",
            "Epoch 2/2\n",
            "1029/1029 [==============================] - 13s 12ms/step - loss: 0.0677 - accuracy: 0.8980 - val_loss: 0.0648 - val_accuracy: 0.8746\n"
          ]
        },
        {
          "name": "stderr",
          "output_type": "stream",
          "text": [
            "\u001b[32m[I 2022-04-13 08:34:33,832]\u001b[0m Trial 90 finished with value: 0.8746355772018433 and parameters: {'epochs': 2, 'batch_size': 36, 'embedding_dim': 28, 'units': 204, 'dropout': 0.4, 'n_neurons': 52}. Best is trial 18 with value: 0.9040330648422241.\u001b[0m\n"
          ]
        },
        {
          "name": "stdout",
          "output_type": "stream",
          "text": [
            "{'epochs': 3, 'batch_size': 29, 'embedding_dim': 27, 'units': 202, 'dropout': 0.1, 'n_neurons': 33}\n",
            "Epoch 1/3\n",
            "1278/1278 [==============================] - 24s 16ms/step - loss: 0.1149 - accuracy: 0.7629 - val_loss: 0.0668 - val_accuracy: 0.8788\n",
            "Epoch 2/3\n",
            "1278/1278 [==============================] - 19s 15ms/step - loss: 0.0535 - accuracy: 0.9119 - val_loss: 0.0564 - val_accuracy: 0.8887\n",
            "Epoch 3/3\n",
            "1278/1278 [==============================] - 19s 15ms/step - loss: 0.0348 - accuracy: 0.9495 - val_loss: 0.0550 - val_accuracy: 0.8963\n"
          ]
        },
        {
          "name": "stderr",
          "output_type": "stream",
          "text": [
            "\u001b[32m[I 2022-04-13 08:35:38,418]\u001b[0m Trial 91 finished with value: 0.896258533000946 and parameters: {'epochs': 3, 'batch_size': 29, 'embedding_dim': 27, 'units': 202, 'dropout': 0.1, 'n_neurons': 33}. Best is trial 18 with value: 0.9040330648422241.\u001b[0m\n"
          ]
        },
        {
          "name": "stdout",
          "output_type": "stream",
          "text": [
            "{'epochs': 3, 'batch_size': 38, 'embedding_dim': 25, 'units': 208, 'dropout': 0.1, 'n_neurons': 44}\n",
            "Epoch 1/3\n",
            "975/975 [==============================] - 16s 13ms/step - loss: 0.1205 - accuracy: 0.7495 - val_loss: 0.0657 - val_accuracy: 0.8810\n",
            "Epoch 2/3\n",
            "975/975 [==============================] - 12s 12ms/step - loss: 0.0541 - accuracy: 0.9097 - val_loss: 0.0571 - val_accuracy: 0.8912\n",
            "Epoch 3/3\n",
            "975/975 [==============================] - 12s 12ms/step - loss: 0.0357 - accuracy: 0.9458 - val_loss: 0.0572 - val_accuracy: 0.8902\n"
          ]
        },
        {
          "name": "stderr",
          "output_type": "stream",
          "text": [
            "\u001b[32m[I 2022-04-13 08:36:20,969]\u001b[0m Trial 92 finished with value: 0.8901846408843994 and parameters: {'epochs': 3, 'batch_size': 38, 'embedding_dim': 25, 'units': 208, 'dropout': 0.1, 'n_neurons': 44}. Best is trial 18 with value: 0.9040330648422241.\u001b[0m\n"
          ]
        },
        {
          "name": "stdout",
          "output_type": "stream",
          "text": [
            "{'epochs': 3, 'batch_size': 37, 'embedding_dim': 29, 'units': 200, 'dropout': 0.1, 'n_neurons': 81}\n",
            "Epoch 1/3\n",
            "1002/1002 [==============================] - 16s 13ms/step - loss: 0.1112 - accuracy: 0.7701 - val_loss: 0.0627 - val_accuracy: 0.8824\n",
            "Epoch 2/3\n",
            "1002/1002 [==============================] - 12s 12ms/step - loss: 0.0510 - accuracy: 0.9116 - val_loss: 0.0568 - val_accuracy: 0.8921\n",
            "Epoch 3/3\n",
            "1002/1002 [==============================] - 12s 12ms/step - loss: 0.0328 - accuracy: 0.9490 - val_loss: 0.0562 - val_accuracy: 0.8946\n"
          ]
        },
        {
          "name": "stderr",
          "output_type": "stream",
          "text": [
            "\u001b[32m[I 2022-04-13 08:37:05,168]\u001b[0m Trial 93 finished with value: 0.8945578336715698 and parameters: {'epochs': 3, 'batch_size': 37, 'embedding_dim': 29, 'units': 200, 'dropout': 0.1, 'n_neurons': 81}. Best is trial 18 with value: 0.9040330648422241.\u001b[0m\n"
          ]
        },
        {
          "name": "stdout",
          "output_type": "stream",
          "text": [
            "{'epochs': 3, 'batch_size': 39, 'embedding_dim': 28, 'units': 212, 'dropout': 0.1, 'n_neurons': 56}\n",
            "Epoch 1/3\n",
            "950/950 [==============================] - 17s 14ms/step - loss: 0.1192 - accuracy: 0.7478 - val_loss: 0.0659 - val_accuracy: 0.8776\n",
            "Epoch 2/3\n",
            "950/950 [==============================] - 12s 13ms/step - loss: 0.0535 - accuracy: 0.9106 - val_loss: 0.0569 - val_accuracy: 0.8936\n",
            "Epoch 3/3\n",
            "950/950 [==============================] - 12s 13ms/step - loss: 0.0344 - accuracy: 0.9479 - val_loss: 0.0545 - val_accuracy: 0.8933\n"
          ]
        },
        {
          "name": "stderr",
          "output_type": "stream",
          "text": [
            "\u001b[32m[I 2022-04-13 08:37:48,471]\u001b[0m Trial 94 finished with value: 0.8933430314064026 and parameters: {'epochs': 3, 'batch_size': 39, 'embedding_dim': 28, 'units': 212, 'dropout': 0.1, 'n_neurons': 56}. Best is trial 18 with value: 0.9040330648422241.\u001b[0m\n"
          ]
        },
        {
          "name": "stdout",
          "output_type": "stream",
          "text": [
            "{'epochs': 3, 'batch_size': 38, 'embedding_dim': 26, 'units': 205, 'dropout': 0.1, 'n_neurons': 38}\n",
            "Epoch 1/3\n",
            "975/975 [==============================] - 19s 16ms/step - loss: 0.1190 - accuracy: 0.7569 - val_loss: 0.0644 - val_accuracy: 0.8848\n",
            "Epoch 2/3\n",
            "975/975 [==============================] - 15s 15ms/step - loss: 0.0540 - accuracy: 0.9114 - val_loss: 0.0611 - val_accuracy: 0.8870\n",
            "Epoch 3/3\n",
            "975/975 [==============================] - 15s 15ms/step - loss: 0.0354 - accuracy: 0.9478 - val_loss: 0.0588 - val_accuracy: 0.8882\n"
          ]
        },
        {
          "name": "stderr",
          "output_type": "stream",
          "text": [
            "\u001b[32m[I 2022-04-13 08:38:40,045]\u001b[0m Trial 95 finished with value: 0.8882409930229187 and parameters: {'epochs': 3, 'batch_size': 38, 'embedding_dim': 26, 'units': 205, 'dropout': 0.1, 'n_neurons': 38}. Best is trial 18 with value: 0.9040330648422241.\u001b[0m\n"
          ]
        },
        {
          "name": "stdout",
          "output_type": "stream",
          "text": [
            "{'epochs': 3, 'batch_size': 36, 'embedding_dim': 25, 'units': 209, 'dropout': 0.1, 'n_neurons': 47}\n",
            "Epoch 1/3\n",
            "1029/1029 [==============================] - 18s 15ms/step - loss: 0.1202 - accuracy: 0.7474 - val_loss: 0.0659 - val_accuracy: 0.8785\n",
            "Epoch 2/3\n",
            "1029/1029 [==============================] - 14s 14ms/step - loss: 0.0536 - accuracy: 0.9109 - val_loss: 0.0536 - val_accuracy: 0.9023\n",
            "Epoch 3/3\n",
            "1029/1029 [==============================] - 14s 14ms/step - loss: 0.0341 - accuracy: 0.9484 - val_loss: 0.0549 - val_accuracy: 0.8914\n"
          ]
        },
        {
          "name": "stderr",
          "output_type": "stream",
          "text": [
            "\u001b[32m[I 2022-04-13 08:39:30,268]\u001b[0m Trial 96 finished with value: 0.8913994431495667 and parameters: {'epochs': 3, 'batch_size': 36, 'embedding_dim': 25, 'units': 209, 'dropout': 0.1, 'n_neurons': 47}. Best is trial 18 with value: 0.9040330648422241.\u001b[0m\n"
          ]
        },
        {
          "name": "stdout",
          "output_type": "stream",
          "text": [
            "{'epochs': 3, 'batch_size': 26, 'embedding_dim': 27, 'units': 238, 'dropout': 0.2, 'n_neurons': 105}\n",
            "Epoch 1/3\n",
            "1425/1425 [==============================] - 24s 14ms/step - loss: 0.1137 - accuracy: 0.7645 - val_loss: 0.0639 - val_accuracy: 0.8834\n",
            "Epoch 2/3\n",
            "1425/1425 [==============================] - 19s 14ms/step - loss: 0.0539 - accuracy: 0.9101 - val_loss: 0.0556 - val_accuracy: 0.8946\n",
            "Epoch 3/3\n",
            "1425/1425 [==============================] - 20s 14ms/step - loss: 0.0350 - accuracy: 0.9474 - val_loss: 0.0562 - val_accuracy: 0.8907\n"
          ]
        },
        {
          "name": "stderr",
          "output_type": "stream",
          "text": [
            "\u001b[32m[I 2022-04-13 08:40:35,791]\u001b[0m Trial 97 finished with value: 0.8906705379486084 and parameters: {'epochs': 3, 'batch_size': 26, 'embedding_dim': 27, 'units': 238, 'dropout': 0.2, 'n_neurons': 105}. Best is trial 18 with value: 0.9040330648422241.\u001b[0m\n"
          ]
        },
        {
          "name": "stdout",
          "output_type": "stream",
          "text": [
            "{'epochs': 2, 'batch_size': 37, 'embedding_dim': 26, 'units': 221, 'dropout': 0.1, 'n_neurons': 102}\n",
            "Epoch 1/2\n",
            "1002/1002 [==============================] - 21s 18ms/step - loss: 0.1135 - accuracy: 0.7614 - val_loss: 0.0651 - val_accuracy: 0.8785\n",
            "Epoch 2/2\n",
            "1002/1002 [==============================] - 17s 17ms/step - loss: 0.0504 - accuracy: 0.9130 - val_loss: 0.0582 - val_accuracy: 0.8914\n"
          ]
        },
        {
          "name": "stderr",
          "output_type": "stream",
          "text": [
            "\u001b[32m[I 2022-04-13 08:41:16,009]\u001b[0m Trial 98 finished with value: 0.8913994431495667 and parameters: {'epochs': 2, 'batch_size': 37, 'embedding_dim': 26, 'units': 221, 'dropout': 0.1, 'n_neurons': 102}. Best is trial 18 with value: 0.9040330648422241.\u001b[0m\n"
          ]
        },
        {
          "name": "stdout",
          "output_type": "stream",
          "text": [
            "{'epochs': 3, 'batch_size': 39, 'embedding_dim': 27, 'units': 207, 'dropout': 0.1, 'n_neurons': 42}\n",
            "Epoch 1/3\n",
            "950/950 [==============================] - 20s 17ms/step - loss: 0.1170 - accuracy: 0.7591 - val_loss: 0.0661 - val_accuracy: 0.8749\n",
            "Epoch 2/3\n",
            "950/950 [==============================] - 15s 16ms/step - loss: 0.0534 - accuracy: 0.9111 - val_loss: 0.0555 - val_accuracy: 0.8950\n",
            "Epoch 3/3\n",
            "950/950 [==============================] - 15s 16ms/step - loss: 0.0345 - accuracy: 0.9472 - val_loss: 0.0605 - val_accuracy: 0.8819\n"
          ]
        },
        {
          "name": "stderr",
          "output_type": "stream",
          "text": [
            "\u001b[32m[I 2022-04-13 08:42:09,322]\u001b[0m Trial 99 finished with value: 0.8819242119789124 and parameters: {'epochs': 3, 'batch_size': 39, 'embedding_dim': 27, 'units': 207, 'dropout': 0.1, 'n_neurons': 42}. Best is trial 18 with value: 0.9040330648422241.\u001b[0m\n"
          ]
        },
        {
          "name": "stdout",
          "output_type": "stream",
          "text": [
            "{'epochs': 3, 'batch_size': 23, 'embedding_dim': 24, 'units': 233, 'dropout': 0.2, 'n_neurons': 35}\n",
            "Epoch 1/3\n",
            "1611/1611 [==============================] - 30s 17ms/step - loss: 0.1184 - accuracy: 0.7614 - val_loss: 0.0654 - val_accuracy: 0.8865\n",
            "Epoch 2/3\n",
            "1611/1611 [==============================] - 26s 16ms/step - loss: 0.0583 - accuracy: 0.9066 - val_loss: 0.0561 - val_accuracy: 0.8936\n",
            "Epoch 3/3\n",
            "1611/1611 [==============================] - 26s 16ms/step - loss: 0.0394 - accuracy: 0.9447 - val_loss: 0.0561 - val_accuracy: 0.8992\n"
          ]
        },
        {
          "name": "stderr",
          "output_type": "stream",
          "text": [
            "\u001b[32m[I 2022-04-13 08:43:33,612]\u001b[0m Trial 100 finished with value: 0.8991739749908447 and parameters: {'epochs': 3, 'batch_size': 23, 'embedding_dim': 24, 'units': 233, 'dropout': 0.2, 'n_neurons': 35}. Best is trial 18 with value: 0.9040330648422241.\u001b[0m\n"
          ]
        },
        {
          "name": "stdout",
          "output_type": "stream",
          "text": [
            "{'epochs': 3, 'batch_size': 23, 'embedding_dim': 24, 'units': 232, 'dropout': 0.30000000000000004, 'n_neurons': 34}\n",
            "Epoch 1/3\n",
            "1611/1611 [==============================] - 23s 13ms/step - loss: 0.1319 - accuracy: 0.7354 - val_loss: 0.0723 - val_accuracy: 0.8654\n",
            "Epoch 2/3\n",
            "1611/1611 [==============================] - 19s 12ms/step - loss: 0.0675 - accuracy: 0.8983 - val_loss: 0.0591 - val_accuracy: 0.8887\n",
            "Epoch 3/3\n",
            "1611/1611 [==============================] - 19s 12ms/step - loss: 0.0466 - accuracy: 0.9391 - val_loss: 0.0550 - val_accuracy: 0.8946\n"
          ]
        },
        {
          "name": "stderr",
          "output_type": "stream",
          "text": [
            "\u001b[32m[I 2022-04-13 08:44:38,848]\u001b[0m Trial 101 finished with value: 0.8945578336715698 and parameters: {'epochs': 3, 'batch_size': 23, 'embedding_dim': 24, 'units': 232, 'dropout': 0.30000000000000004, 'n_neurons': 34}. Best is trial 18 with value: 0.9040330648422241.\u001b[0m\n"
          ]
        },
        {
          "name": "stdout",
          "output_type": "stream",
          "text": [
            "{'epochs': 3, 'batch_size': 22, 'embedding_dim': 23, 'units': 236, 'dropout': 0.2, 'n_neurons': 36}\n",
            "Epoch 1/3\n",
            "1684/1684 [==============================] - 25s 13ms/step - loss: 0.1186 - accuracy: 0.7596 - val_loss: 0.0686 - val_accuracy: 0.8807\n",
            "Epoch 2/3\n",
            "1684/1684 [==============================] - 21s 12ms/step - loss: 0.0579 - accuracy: 0.9070 - val_loss: 0.0597 - val_accuracy: 0.8904\n",
            "Epoch 3/3\n",
            "1684/1684 [==============================] - 21s 12ms/step - loss: 0.0398 - accuracy: 0.9438 - val_loss: 0.0552 - val_accuracy: 0.8938\n"
          ]
        },
        {
          "name": "stderr",
          "output_type": "stream",
          "text": [
            "\u001b[32m[I 2022-04-13 08:45:47,977]\u001b[0m Trial 102 finished with value: 0.8938289880752563 and parameters: {'epochs': 3, 'batch_size': 22, 'embedding_dim': 23, 'units': 236, 'dropout': 0.2, 'n_neurons': 36}. Best is trial 18 with value: 0.9040330648422241.\u001b[0m\n"
          ]
        },
        {
          "name": "stdout",
          "output_type": "stream",
          "text": [
            "{'epochs': 3, 'batch_size': 23, 'embedding_dim': 28, 'units': 244, 'dropout': 0.2, 'n_neurons': 85}\n",
            "Epoch 1/3\n",
            "1611/1611 [==============================] - 24s 13ms/step - loss: 0.1116 - accuracy: 0.7730 - val_loss: 0.0656 - val_accuracy: 0.8817\n",
            "Epoch 2/3\n",
            "1611/1611 [==============================] - 20s 12ms/step - loss: 0.0541 - accuracy: 0.9106 - val_loss: 0.0564 - val_accuracy: 0.8946\n",
            "Epoch 3/3\n",
            "1611/1611 [==============================] - 20s 12ms/step - loss: 0.0360 - accuracy: 0.9462 - val_loss: 0.0559 - val_accuracy: 0.8931\n"
          ]
        },
        {
          "name": "stderr",
          "output_type": "stream",
          "text": [
            "\u001b[32m[I 2022-04-13 08:46:54,956]\u001b[0m Trial 103 finished with value: 0.8931000828742981 and parameters: {'epochs': 3, 'batch_size': 23, 'embedding_dim': 28, 'units': 244, 'dropout': 0.2, 'n_neurons': 85}. Best is trial 18 with value: 0.9040330648422241.\u001b[0m\n"
          ]
        },
        {
          "name": "stdout",
          "output_type": "stream",
          "text": [
            "{'epochs': 3, 'batch_size': 25, 'embedding_dim': 26, 'units': 202, 'dropout': 0.1, 'n_neurons': 43}\n",
            "Epoch 1/3\n",
            "1482/1482 [==============================] - 25s 15ms/step - loss: 0.1157 - accuracy: 0.7611 - val_loss: 0.0662 - val_accuracy: 0.8785\n",
            "Epoch 2/3\n",
            "1482/1482 [==============================] - 21s 14ms/step - loss: 0.0530 - accuracy: 0.9122 - val_loss: 0.0562 - val_accuracy: 0.8943\n",
            "Epoch 3/3\n",
            "1482/1482 [==============================] - 21s 14ms/step - loss: 0.0345 - accuracy: 0.9486 - val_loss: 0.0558 - val_accuracy: 0.8948\n"
          ]
        },
        {
          "name": "stderr",
          "output_type": "stream",
          "text": [
            "\u001b[32m[I 2022-04-13 08:48:06,193]\u001b[0m Trial 104 finished with value: 0.8948007822036743 and parameters: {'epochs': 3, 'batch_size': 25, 'embedding_dim': 26, 'units': 202, 'dropout': 0.1, 'n_neurons': 43}. Best is trial 18 with value: 0.9040330648422241.\u001b[0m\n"
          ]
        },
        {
          "name": "stdout",
          "output_type": "stream",
          "text": [
            "{'epochs': 3, 'batch_size': 24, 'embedding_dim': 25, 'units': 241, 'dropout': 0.30000000000000004, 'n_neurons': 46}\n",
            "Epoch 1/3\n",
            "1544/1544 [==============================] - 26s 14ms/step - loss: 0.1244 - accuracy: 0.7532 - val_loss: 0.0722 - val_accuracy: 0.8754\n",
            "Epoch 2/3\n",
            "1544/1544 [==============================] - 21s 14ms/step - loss: 0.0611 - accuracy: 0.9033 - val_loss: 0.0572 - val_accuracy: 0.8946\n",
            "Epoch 3/3\n",
            "1544/1544 [==============================] - 21s 14ms/step - loss: 0.0419 - accuracy: 0.9428 - val_loss: 0.0545 - val_accuracy: 0.8987\n"
          ]
        },
        {
          "name": "stderr",
          "output_type": "stream",
          "text": [
            "\u001b[32m[I 2022-04-13 08:49:16,627]\u001b[0m Trial 105 finished with value: 0.898688018321991 and parameters: {'epochs': 3, 'batch_size': 24, 'embedding_dim': 25, 'units': 241, 'dropout': 0.30000000000000004, 'n_neurons': 46}. Best is trial 18 with value: 0.9040330648422241.\u001b[0m\n"
          ]
        },
        {
          "name": "stdout",
          "output_type": "stream",
          "text": [
            "{'epochs': 3, 'batch_size': 22, 'embedding_dim': 25, 'units': 240, 'dropout': 0.30000000000000004, 'n_neurons': 75}\n",
            "Epoch 1/3\n",
            "1684/1684 [==============================] - 24s 13ms/step - loss: 0.1182 - accuracy: 0.7625 - val_loss: 0.0719 - val_accuracy: 0.8683\n",
            "Epoch 2/3\n",
            "1684/1684 [==============================] - 20s 12ms/step - loss: 0.0591 - accuracy: 0.9057 - val_loss: 0.0592 - val_accuracy: 0.8895\n",
            "Epoch 3/3\n",
            "1684/1684 [==============================] - 20s 12ms/step - loss: 0.0403 - accuracy: 0.9431 - val_loss: 0.0599 - val_accuracy: 0.8817\n"
          ]
        },
        {
          "name": "stderr",
          "output_type": "stream",
          "text": [
            "\u001b[32m[I 2022-04-13 08:50:44,190]\u001b[0m Trial 106 finished with value: 0.8816812634468079 and parameters: {'epochs': 3, 'batch_size': 22, 'embedding_dim': 25, 'units': 240, 'dropout': 0.30000000000000004, 'n_neurons': 75}. Best is trial 18 with value: 0.9040330648422241.\u001b[0m\n"
          ]
        },
        {
          "name": "stdout",
          "output_type": "stream",
          "text": [
            "{'epochs': 2, 'batch_size': 24, 'embedding_dim': 22, 'units': 242, 'dropout': 0.30000000000000004, 'n_neurons': 49}\n",
            "Epoch 1/2\n",
            "1544/1544 [==============================] - 26s 15ms/step - loss: 0.1239 - accuracy: 0.7479 - val_loss: 0.0705 - val_accuracy: 0.8749\n",
            "Epoch 2/2\n",
            "1544/1544 [==============================] - 21s 14ms/step - loss: 0.0616 - accuracy: 0.9041 - val_loss: 0.0604 - val_accuracy: 0.8873\n"
          ]
        },
        {
          "name": "stderr",
          "output_type": "stream",
          "text": [
            "\u001b[32m[I 2022-04-13 08:51:34,482]\u001b[0m Trial 107 finished with value: 0.8872691988945007 and parameters: {'epochs': 2, 'batch_size': 24, 'embedding_dim': 22, 'units': 242, 'dropout': 0.30000000000000004, 'n_neurons': 49}. Best is trial 18 with value: 0.9040330648422241.\u001b[0m\n"
          ]
        },
        {
          "name": "stdout",
          "output_type": "stream",
          "text": [
            "{'epochs': 3, 'batch_size': 20, 'embedding_dim': 25, 'units': 246, 'dropout': 0.4, 'n_neurons': 52}\n",
            "Epoch 1/3\n",
            "1853/1853 [==============================] - 29s 14ms/step - loss: 0.1236 - accuracy: 0.7570 - val_loss: 0.0678 - val_accuracy: 0.8783\n",
            "Epoch 2/3\n",
            "1853/1853 [==============================] - 25s 14ms/step - loss: 0.0651 - accuracy: 0.8991 - val_loss: 0.0579 - val_accuracy: 0.8912\n",
            "Epoch 3/3\n",
            "1853/1853 [==============================] - 25s 14ms/step - loss: 0.0462 - accuracy: 0.9385 - val_loss: 0.0625 - val_accuracy: 0.8800\n"
          ]
        },
        {
          "name": "stderr",
          "output_type": "stream",
          "text": [
            "\u001b[32m[I 2022-04-13 08:52:56,357]\u001b[0m Trial 108 finished with value: 0.8799805641174316 and parameters: {'epochs': 3, 'batch_size': 20, 'embedding_dim': 25, 'units': 246, 'dropout': 0.4, 'n_neurons': 52}. Best is trial 18 with value: 0.9040330648422241.\u001b[0m\n"
          ]
        },
        {
          "name": "stdout",
          "output_type": "stream",
          "text": [
            "{'epochs': 3, 'batch_size': 24, 'embedding_dim': 21, 'units': 229, 'dropout': 0.4, 'n_neurons': 68}\n",
            "Epoch 1/3\n",
            "1544/1544 [==============================] - 25s 14ms/step - loss: 0.1274 - accuracy: 0.7432 - val_loss: 0.0701 - val_accuracy: 0.8759\n",
            "Epoch 2/3\n",
            "1544/1544 [==============================] - 21s 13ms/step - loss: 0.0634 - accuracy: 0.9010 - val_loss: 0.0589 - val_accuracy: 0.8851\n",
            "Epoch 3/3\n",
            "1544/1544 [==============================] - 21s 13ms/step - loss: 0.0453 - accuracy: 0.9382 - val_loss: 0.0592 - val_accuracy: 0.8899\n"
          ]
        },
        {
          "name": "stderr",
          "output_type": "stream",
          "text": [
            "\u001b[32m[I 2022-04-13 08:54:24,408]\u001b[0m Trial 109 finished with value: 0.8899416923522949 and parameters: {'epochs': 3, 'batch_size': 24, 'embedding_dim': 21, 'units': 229, 'dropout': 0.4, 'n_neurons': 68}. Best is trial 18 with value: 0.9040330648422241.\u001b[0m\n"
          ]
        },
        {
          "name": "stdout",
          "output_type": "stream",
          "text": [
            "{'epochs': 2, 'batch_size': 23, 'embedding_dim': 29, 'units': 252, 'dropout': 0.2, 'n_neurons': 46}\n",
            "Epoch 1/2\n",
            "1611/1611 [==============================] - 25s 13ms/step - loss: 0.1172 - accuracy: 0.7667 - val_loss: 0.0654 - val_accuracy: 0.8780\n",
            "Epoch 2/2\n",
            "1611/1611 [==============================] - 21s 13ms/step - loss: 0.0578 - accuracy: 0.9074 - val_loss: 0.0592 - val_accuracy: 0.8919\n"
          ]
        },
        {
          "name": "stderr",
          "output_type": "stream",
          "text": [
            "\u001b[32m[I 2022-04-13 08:55:12,867]\u001b[0m Trial 110 finished with value: 0.8918853402137756 and parameters: {'epochs': 2, 'batch_size': 23, 'embedding_dim': 29, 'units': 252, 'dropout': 0.2, 'n_neurons': 46}. Best is trial 18 with value: 0.9040330648422241.\u001b[0m\n"
          ]
        },
        {
          "name": "stdout",
          "output_type": "stream",
          "text": [
            "{'epochs': 3, 'batch_size': 25, 'embedding_dim': 24, 'units': 233, 'dropout': 0.1, 'n_neurons': 40}\n",
            "Epoch 1/3\n",
            "1482/1482 [==============================] - 28s 17ms/step - loss: 0.1132 - accuracy: 0.7691 - val_loss: 0.0659 - val_accuracy: 0.8839\n",
            "Epoch 2/3\n",
            "1482/1482 [==============================] - 24s 16ms/step - loss: 0.0539 - accuracy: 0.9111 - val_loss: 0.0611 - val_accuracy: 0.8822\n",
            "Epoch 3/3\n",
            "1482/1482 [==============================] - 24s 16ms/step - loss: 0.0355 - accuracy: 0.9467 - val_loss: 0.0545 - val_accuracy: 0.8975\n"
          ]
        },
        {
          "name": "stderr",
          "output_type": "stream",
          "text": [
            "\u001b[32m[I 2022-04-13 08:56:30,988]\u001b[0m Trial 111 finished with value: 0.8974732756614685 and parameters: {'epochs': 3, 'batch_size': 25, 'embedding_dim': 24, 'units': 233, 'dropout': 0.1, 'n_neurons': 40}. Best is trial 18 with value: 0.9040330648422241.\u001b[0m\n"
          ]
        },
        {
          "name": "stdout",
          "output_type": "stream",
          "text": [
            "{'epochs': 3, 'batch_size': 25, 'embedding_dim': 24, 'units': 232, 'dropout': 0.1, 'n_neurons': 40}\n",
            "Epoch 1/3\n",
            "1482/1482 [==============================] - 22s 13ms/step - loss: 0.1133 - accuracy: 0.7662 - val_loss: 0.0649 - val_accuracy: 0.8793\n",
            "Epoch 2/3\n",
            "1482/1482 [==============================] - 18s 12ms/step - loss: 0.0532 - accuracy: 0.9094 - val_loss: 0.0644 - val_accuracy: 0.8814\n",
            "Epoch 3/3\n",
            "1482/1482 [==============================] - 18s 12ms/step - loss: 0.0348 - accuracy: 0.9476 - val_loss: 0.0547 - val_accuracy: 0.8931\n"
          ]
        },
        {
          "name": "stderr",
          "output_type": "stream",
          "text": [
            "\u001b[32m[I 2022-04-13 08:57:32,033]\u001b[0m Trial 112 finished with value: 0.8931000828742981 and parameters: {'epochs': 3, 'batch_size': 25, 'embedding_dim': 24, 'units': 232, 'dropout': 0.1, 'n_neurons': 40}. Best is trial 18 with value: 0.9040330648422241.\u001b[0m\n"
          ]
        },
        {
          "name": "stdout",
          "output_type": "stream",
          "text": [
            "{'epochs': 3, 'batch_size': 26, 'embedding_dim': 27, 'units': 233, 'dropout': 0.1, 'n_neurons': 38}\n",
            "Epoch 1/3\n",
            "1425/1425 [==============================] - 27s 16ms/step - loss: 0.1149 - accuracy: 0.7664 - val_loss: 0.0629 - val_accuracy: 0.8851\n",
            "Epoch 2/3\n",
            "1425/1425 [==============================] - 22s 16ms/step - loss: 0.0537 - accuracy: 0.9115 - val_loss: 0.0594 - val_accuracy: 0.8848\n",
            "Epoch 3/3\n",
            "1425/1425 [==============================] - 22s 16ms/step - loss: 0.0353 - accuracy: 0.9467 - val_loss: 0.0590 - val_accuracy: 0.8834\n"
          ]
        },
        {
          "name": "stderr",
          "output_type": "stream",
          "text": [
            "\u001b[32m[I 2022-04-13 08:58:45,741]\u001b[0m Trial 113 finished with value: 0.8833819031715393 and parameters: {'epochs': 3, 'batch_size': 26, 'embedding_dim': 27, 'units': 233, 'dropout': 0.1, 'n_neurons': 38}. Best is trial 18 with value: 0.9040330648422241.\u001b[0m\n"
          ]
        },
        {
          "name": "stdout",
          "output_type": "stream",
          "text": [
            "{'epochs': 3, 'batch_size': 27, 'embedding_dim': 23, 'units': 238, 'dropout': 0.30000000000000004, 'n_neurons': 32}\n",
            "Epoch 1/3\n",
            "1372/1372 [==============================] - 26s 16ms/step - loss: 0.1269 - accuracy: 0.7484 - val_loss: 0.0695 - val_accuracy: 0.8788\n",
            "Epoch 2/3\n",
            "1372/1372 [==============================] - 22s 16ms/step - loss: 0.0661 - accuracy: 0.8988 - val_loss: 0.0579 - val_accuracy: 0.8965\n",
            "Epoch 3/3\n",
            "1372/1372 [==============================] - 22s 16ms/step - loss: 0.0484 - accuracy: 0.9369 - val_loss: 0.0569 - val_accuracy: 0.8907\n"
          ]
        },
        {
          "name": "stderr",
          "output_type": "stream",
          "text": [
            "\u001b[32m[I 2022-04-13 08:59:56,932]\u001b[0m Trial 114 finished with value: 0.8906705379486084 and parameters: {'epochs': 3, 'batch_size': 27, 'embedding_dim': 23, 'units': 238, 'dropout': 0.30000000000000004, 'n_neurons': 32}. Best is trial 18 with value: 0.9040330648422241.\u001b[0m\n"
          ]
        },
        {
          "name": "stdout",
          "output_type": "stream",
          "text": [
            "{'epochs': 3, 'batch_size': 24, 'embedding_dim': 22, 'units': 248, 'dropout': 0.1, 'n_neurons': 35}\n",
            "Epoch 1/3\n",
            "1544/1544 [==============================] - 24s 13ms/step - loss: 0.1163 - accuracy: 0.7599 - val_loss: 0.0683 - val_accuracy: 0.8746\n",
            "Epoch 2/3\n",
            "1544/1544 [==============================] - 19s 12ms/step - loss: 0.0547 - accuracy: 0.9103 - val_loss: 0.0541 - val_accuracy: 0.8955\n",
            "Epoch 3/3\n",
            "1544/1544 [==============================] - 19s 12ms/step - loss: 0.0368 - accuracy: 0.9458 - val_loss: 0.0553 - val_accuracy: 0.8960\n"
          ]
        },
        {
          "name": "stderr",
          "output_type": "stream",
          "text": [
            "\u001b[32m[I 2022-04-13 09:01:01,567]\u001b[0m Trial 115 finished with value: 0.8960155248641968 and parameters: {'epochs': 3, 'batch_size': 24, 'embedding_dim': 22, 'units': 248, 'dropout': 0.1, 'n_neurons': 35}. Best is trial 18 with value: 0.9040330648422241.\u001b[0m\n"
          ]
        },
        {
          "name": "stdout",
          "output_type": "stream",
          "text": [
            "{'epochs': 3, 'batch_size': 23, 'embedding_dim': 25, 'units': 236, 'dropout': 0.30000000000000004, 'n_neurons': 91}\n",
            "Epoch 1/3\n",
            "1611/1611 [==============================] - 24s 13ms/step - loss: 0.1171 - accuracy: 0.7638 - val_loss: 0.0665 - val_accuracy: 0.8739\n",
            "Epoch 2/3\n",
            "1611/1611 [==============================] - 20s 12ms/step - loss: 0.0585 - accuracy: 0.9064 - val_loss: 0.0571 - val_accuracy: 0.8902\n",
            "Epoch 3/3\n",
            "1611/1611 [==============================] - 20s 12ms/step - loss: 0.0391 - accuracy: 0.9441 - val_loss: 0.0598 - val_accuracy: 0.8880\n"
          ]
        },
        {
          "name": "stderr",
          "output_type": "stream",
          "text": [
            "\u001b[32m[I 2022-04-13 09:02:07,319]\u001b[0m Trial 116 finished with value: 0.8879980444908142 and parameters: {'epochs': 3, 'batch_size': 23, 'embedding_dim': 25, 'units': 236, 'dropout': 0.30000000000000004, 'n_neurons': 91}. Best is trial 18 with value: 0.9040330648422241.\u001b[0m\n"
          ]
        },
        {
          "name": "stdout",
          "output_type": "stream",
          "text": [
            "{'epochs': 3, 'batch_size': 24, 'embedding_dim': 24, 'units': 243, 'dropout': 0.1, 'n_neurons': 78}\n",
            "Epoch 1/3\n",
            "1544/1544 [==============================] - 25s 14ms/step - loss: 0.1117 - accuracy: 0.7691 - val_loss: 0.0656 - val_accuracy: 0.8831\n",
            "Epoch 2/3\n",
            "1544/1544 [==============================] - 21s 14ms/step - loss: 0.0524 - accuracy: 0.9116 - val_loss: 0.0569 - val_accuracy: 0.8941\n",
            "Epoch 3/3\n",
            "1544/1544 [==============================] - 21s 14ms/step - loss: 0.0344 - accuracy: 0.9462 - val_loss: 0.0566 - val_accuracy: 0.8914\n"
          ]
        },
        {
          "name": "stderr",
          "output_type": "stream",
          "text": [
            "\u001b[32m[I 2022-04-13 09:03:17,455]\u001b[0m Trial 117 finished with value: 0.8913994431495667 and parameters: {'epochs': 3, 'batch_size': 24, 'embedding_dim': 24, 'units': 243, 'dropout': 0.1, 'n_neurons': 78}. Best is trial 18 with value: 0.9040330648422241.\u001b[0m\n"
          ]
        },
        {
          "name": "stdout",
          "output_type": "stream",
          "text": [
            "{'epochs': 3, 'batch_size': 25, 'embedding_dim': 26, 'units': 240, 'dropout': 0.5, 'n_neurons': 109}\n",
            "Epoch 1/3\n",
            "1482/1482 [==============================] - 22s 13ms/step - loss: 0.1255 - accuracy: 0.7486 - val_loss: 0.0711 - val_accuracy: 0.8761\n",
            "Epoch 2/3\n",
            "1482/1482 [==============================] - 18s 12ms/step - loss: 0.0646 - accuracy: 0.8970 - val_loss: 0.0619 - val_accuracy: 0.8812\n",
            "Epoch 3/3\n",
            "1482/1482 [==============================] - 18s 12ms/step - loss: 0.0445 - accuracy: 0.9384 - val_loss: 0.0567 - val_accuracy: 0.8919\n"
          ]
        },
        {
          "name": "stderr",
          "output_type": "stream",
          "text": [
            "\u001b[32m[I 2022-04-13 09:04:18,610]\u001b[0m Trial 118 finished with value: 0.8918853402137756 and parameters: {'epochs': 3, 'batch_size': 25, 'embedding_dim': 26, 'units': 240, 'dropout': 0.5, 'n_neurons': 109}. Best is trial 18 with value: 0.9040330648422241.\u001b[0m\n"
          ]
        },
        {
          "name": "stdout",
          "output_type": "stream",
          "text": [
            "{'epochs': 2, 'batch_size': 32, 'embedding_dim': 27, 'units': 294, 'dropout': 0.1, 'n_neurons': 59}\n",
            "Epoch 1/2\n",
            "1158/1158 [==============================] - 24s 18ms/step - loss: 0.1153 - accuracy: 0.7605 - val_loss: 0.0642 - val_accuracy: 0.8810\n",
            "Epoch 2/2\n",
            "1158/1158 [==============================] - 20s 17ms/step - loss: 0.0526 - accuracy: 0.9107 - val_loss: 0.0559 - val_accuracy: 0.8958\n"
          ]
        },
        {
          "name": "stderr",
          "output_type": "stream",
          "text": [
            "\u001b[32m[I 2022-04-13 09:05:05,051]\u001b[0m Trial 119 finished with value: 0.8957725763320923 and parameters: {'epochs': 2, 'batch_size': 32, 'embedding_dim': 27, 'units': 294, 'dropout': 0.1, 'n_neurons': 59}. Best is trial 18 with value: 0.9040330648422241.\u001b[0m\n"
          ]
        },
        {
          "name": "stdout",
          "output_type": "stream",
          "text": [
            "{'epochs': 3, 'batch_size': 21, 'embedding_dim': 28, 'units': 234, 'dropout': 0.1, 'n_neurons': 40}\n",
            "Epoch 1/3\n",
            "1764/1764 [==============================] - 30s 15ms/step - loss: 0.1100 - accuracy: 0.7789 - val_loss: 0.0674 - val_accuracy: 0.8795\n",
            "Epoch 2/3\n",
            "1764/1764 [==============================] - 26s 15ms/step - loss: 0.0530 - accuracy: 0.9116 - val_loss: 0.0669 - val_accuracy: 0.8783\n",
            "Epoch 3/3\n",
            "1764/1764 [==============================] - 26s 15ms/step - loss: 0.0355 - accuracy: 0.9472 - val_loss: 0.0592 - val_accuracy: 0.8892\n"
          ]
        },
        {
          "name": "stderr",
          "output_type": "stream",
          "text": [
            "\u001b[32m[I 2022-04-13 09:06:30,539]\u001b[0m Trial 120 finished with value: 0.8892128467559814 and parameters: {'epochs': 3, 'batch_size': 21, 'embedding_dim': 28, 'units': 234, 'dropout': 0.1, 'n_neurons': 40}. Best is trial 18 with value: 0.9040330648422241.\u001b[0m\n"
          ]
        },
        {
          "name": "stdout",
          "output_type": "stream",
          "text": [
            "{'epochs': 3, 'batch_size': 38, 'embedding_dim': 26, 'units': 227, 'dropout': 0.1, 'n_neurons': 46}\n",
            "Epoch 1/3\n",
            "975/975 [==============================] - 21s 17ms/step - loss: 0.1165 - accuracy: 0.7568 - val_loss: 0.0626 - val_accuracy: 0.8856\n",
            "Epoch 2/3\n",
            "975/975 [==============================] - 16s 16ms/step - loss: 0.0520 - accuracy: 0.9141 - val_loss: 0.0576 - val_accuracy: 0.8899\n",
            "Epoch 3/3\n",
            "975/975 [==============================] - 16s 16ms/step - loss: 0.0340 - accuracy: 0.9492 - val_loss: 0.0567 - val_accuracy: 0.8912\n"
          ]
        },
        {
          "name": "stderr",
          "output_type": "stream",
          "text": [
            "\u001b[32m[I 2022-04-13 09:07:58,534]\u001b[0m Trial 121 finished with value: 0.8911564350128174 and parameters: {'epochs': 3, 'batch_size': 38, 'embedding_dim': 26, 'units': 227, 'dropout': 0.1, 'n_neurons': 46}. Best is trial 18 with value: 0.9040330648422241.\u001b[0m\n"
          ]
        },
        {
          "name": "stdout",
          "output_type": "stream",
          "text": [
            "{'epochs': 3, 'batch_size': 27, 'embedding_dim': 27, 'units': 214, 'dropout': 0.1, 'n_neurons': 44}\n",
            "Epoch 1/3\n",
            "1372/1372 [==============================] - 24s 16ms/step - loss: 0.1125 - accuracy: 0.7696 - val_loss: 0.0660 - val_accuracy: 0.8771\n",
            "Epoch 2/3\n",
            "1372/1372 [==============================] - 20s 15ms/step - loss: 0.0532 - accuracy: 0.9118 - val_loss: 0.0553 - val_accuracy: 0.8950\n",
            "Epoch 3/3\n",
            "1372/1372 [==============================] - 20s 15ms/step - loss: 0.0350 - accuracy: 0.9480 - val_loss: 0.0587 - val_accuracy: 0.8890\n"
          ]
        },
        {
          "name": "stderr",
          "output_type": "stream",
          "text": [
            "\u001b[32m[I 2022-04-13 09:09:06,522]\u001b[0m Trial 122 finished with value: 0.888969898223877 and parameters: {'epochs': 3, 'batch_size': 27, 'embedding_dim': 27, 'units': 214, 'dropout': 0.1, 'n_neurons': 44}. Best is trial 18 with value: 0.9040330648422241.\u001b[0m\n"
          ]
        },
        {
          "name": "stdout",
          "output_type": "stream",
          "text": [
            "{'epochs': 3, 'batch_size': 37, 'embedding_dim': 25, 'units': 211, 'dropout': 0.1, 'n_neurons': 73}\n",
            "Epoch 1/3\n",
            "1002/1002 [==============================] - 20s 17ms/step - loss: 0.1178 - accuracy: 0.7539 - val_loss: 0.0649 - val_accuracy: 0.8793\n",
            "Epoch 2/3\n",
            "1002/1002 [==============================] - 16s 16ms/step - loss: 0.0518 - accuracy: 0.9119 - val_loss: 0.0558 - val_accuracy: 0.8967\n",
            "Epoch 3/3\n",
            "1002/1002 [==============================] - 16s 16ms/step - loss: 0.0337 - accuracy: 0.9482 - val_loss: 0.0567 - val_accuracy: 0.8924\n"
          ]
        },
        {
          "name": "stderr",
          "output_type": "stream",
          "text": [
            "\u001b[32m[I 2022-04-13 09:10:02,296]\u001b[0m Trial 123 finished with value: 0.8923712372779846 and parameters: {'epochs': 3, 'batch_size': 37, 'embedding_dim': 25, 'units': 211, 'dropout': 0.1, 'n_neurons': 73}. Best is trial 18 with value: 0.9040330648422241.\u001b[0m\n"
          ]
        },
        {
          "name": "stdout",
          "output_type": "stream",
          "text": [
            "{'epochs': 3, 'batch_size': 40, 'embedding_dim': 26, 'units': 205, 'dropout': 0.1, 'n_neurons': 53}\n",
            "Epoch 1/3\n",
            "927/927 [==============================] - 17s 15ms/step - loss: 0.1194 - accuracy: 0.7476 - val_loss: 0.0633 - val_accuracy: 0.8851\n",
            "Epoch 2/3\n",
            "927/927 [==============================] - 13s 14ms/step - loss: 0.0529 - accuracy: 0.9113 - val_loss: 0.0548 - val_accuracy: 0.8984\n",
            "Epoch 3/3\n",
            "927/927 [==============================] - 13s 14ms/step - loss: 0.0342 - accuracy: 0.9479 - val_loss: 0.0564 - val_accuracy: 0.8909\n"
          ]
        },
        {
          "name": "stderr",
          "output_type": "stream",
          "text": [
            "\u001b[32m[I 2022-04-13 09:10:47,425]\u001b[0m Trial 124 finished with value: 0.8909134864807129 and parameters: {'epochs': 3, 'batch_size': 40, 'embedding_dim': 26, 'units': 205, 'dropout': 0.1, 'n_neurons': 53}. Best is trial 18 with value: 0.9040330648422241.\u001b[0m\n"
          ]
        },
        {
          "name": "stdout",
          "output_type": "stream",
          "text": [
            "{'epochs': 3, 'batch_size': 38, 'embedding_dim': 26, 'units': 224, 'dropout': 0.1, 'n_neurons': 118}\n",
            "Epoch 1/3\n",
            "975/975 [==============================] - 16s 13ms/step - loss: 0.1128 - accuracy: 0.7661 - val_loss: 0.0655 - val_accuracy: 0.8737\n",
            "Epoch 2/3\n",
            "975/975 [==============================] - 12s 12ms/step - loss: 0.0506 - accuracy: 0.9127 - val_loss: 0.0611 - val_accuracy: 0.8831\n",
            "Epoch 3/3\n",
            "975/975 [==============================] - 12s 13ms/step - loss: 0.0325 - accuracy: 0.9496 - val_loss: 0.0580 - val_accuracy: 0.8878\n"
          ]
        },
        {
          "name": "stderr",
          "output_type": "stream",
          "text": [
            "\u001b[32m[I 2022-04-13 09:11:30,539]\u001b[0m Trial 125 finished with value: 0.8877550959587097 and parameters: {'epochs': 3, 'batch_size': 38, 'embedding_dim': 26, 'units': 224, 'dropout': 0.1, 'n_neurons': 118}. Best is trial 18 with value: 0.9040330648422241.\u001b[0m\n"
          ]
        },
        {
          "name": "stdout",
          "output_type": "stream",
          "text": [
            "{'epochs': 3, 'batch_size': 30, 'embedding_dim': 28, 'units': 237, 'dropout': 0.2, 'n_neurons': 42}\n",
            "Epoch 1/3\n",
            "1235/1235 [==============================] - 24s 17ms/step - loss: 0.1218 - accuracy: 0.7523 - val_loss: 0.0671 - val_accuracy: 0.8773\n",
            "Epoch 2/3\n",
            "1235/1235 [==============================] - 20s 16ms/step - loss: 0.0590 - accuracy: 0.9063 - val_loss: 0.0549 - val_accuracy: 0.9001\n",
            "Epoch 3/3\n",
            "1235/1235 [==============================] - 20s 16ms/step - loss: 0.0398 - accuracy: 0.9458 - val_loss: 0.0633 - val_accuracy: 0.8778\n"
          ]
        },
        {
          "name": "stderr",
          "output_type": "stream",
          "text": [
            "\u001b[32m[I 2022-04-13 09:12:36,654]\u001b[0m Trial 126 finished with value: 0.8777939677238464 and parameters: {'epochs': 3, 'batch_size': 30, 'embedding_dim': 28, 'units': 237, 'dropout': 0.2, 'n_neurons': 42}. Best is trial 18 with value: 0.9040330648422241.\u001b[0m\n"
          ]
        },
        {
          "name": "stdout",
          "output_type": "stream",
          "text": [
            "{'epochs': 3, 'batch_size': 28, 'embedding_dim': 27, 'units': 203, 'dropout': 0.1, 'n_neurons': 49}\n",
            "Epoch 1/3\n",
            "1323/1323 [==============================] - 21s 13ms/step - loss: 0.1166 - accuracy: 0.7572 - val_loss: 0.0630 - val_accuracy: 0.8858\n",
            "Epoch 2/3\n",
            "1323/1323 [==============================] - 17s 13ms/step - loss: 0.0539 - accuracy: 0.9111 - val_loss: 0.0549 - val_accuracy: 0.8926\n",
            "Epoch 3/3\n",
            "1323/1323 [==============================] - 17s 13ms/step - loss: 0.0359 - accuracy: 0.9465 - val_loss: 0.0530 - val_accuracy: 0.8982\n"
          ]
        },
        {
          "name": "stderr",
          "output_type": "stream",
          "text": [
            "\u001b[32m[I 2022-04-13 09:13:33,383]\u001b[0m Trial 127 finished with value: 0.898202121257782 and parameters: {'epochs': 3, 'batch_size': 28, 'embedding_dim': 27, 'units': 203, 'dropout': 0.1, 'n_neurons': 49}. Best is trial 18 with value: 0.9040330648422241.\u001b[0m\n"
          ]
        },
        {
          "name": "stdout",
          "output_type": "stream",
          "text": [
            "{'epochs': 2, 'batch_size': 30, 'embedding_dim': 27, 'units': 203, 'dropout': 0.1, 'n_neurons': 57}\n",
            "Epoch 1/2\n",
            "1235/1235 [==============================] - 22s 15ms/step - loss: 0.1158 - accuracy: 0.7580 - val_loss: 0.0653 - val_accuracy: 0.8771\n",
            "Epoch 2/2\n",
            "1235/1235 [==============================] - 18s 15ms/step - loss: 0.0526 - accuracy: 0.9119 - val_loss: 0.0569 - val_accuracy: 0.8936\n"
          ]
        },
        {
          "name": "stderr",
          "output_type": "stream",
          "text": [
            "\u001b[32m[I 2022-04-13 09:14:16,144]\u001b[0m Trial 128 finished with value: 0.8935859799385071 and parameters: {'epochs': 2, 'batch_size': 30, 'embedding_dim': 27, 'units': 203, 'dropout': 0.1, 'n_neurons': 57}. Best is trial 18 with value: 0.9040330648422241.\u001b[0m\n"
          ]
        },
        {
          "name": "stdout",
          "output_type": "stream",
          "text": [
            "{'epochs': 3, 'batch_size': 28, 'embedding_dim': 23, 'units': 210, 'dropout': 0.1, 'n_neurons': 51}\n",
            "Epoch 1/3\n",
            "1323/1323 [==============================] - 22s 14ms/step - loss: 0.1130 - accuracy: 0.7651 - val_loss: 0.0672 - val_accuracy: 0.8751\n",
            "Epoch 2/3\n",
            "1323/1323 [==============================] - 18s 13ms/step - loss: 0.0520 - accuracy: 0.9126 - val_loss: 0.0555 - val_accuracy: 0.8997\n",
            "Epoch 3/3\n",
            "1323/1323 [==============================] - 18s 13ms/step - loss: 0.0346 - accuracy: 0.9473 - val_loss: 0.0553 - val_accuracy: 0.8963\n"
          ]
        },
        {
          "name": "stderr",
          "output_type": "stream",
          "text": [
            "\u001b[32m[I 2022-04-13 09:15:16,298]\u001b[0m Trial 129 finished with value: 0.896258533000946 and parameters: {'epochs': 3, 'batch_size': 28, 'embedding_dim': 23, 'units': 210, 'dropout': 0.1, 'n_neurons': 51}. Best is trial 18 with value: 0.9040330648422241.\u001b[0m\n"
          ]
        },
        {
          "name": "stdout",
          "output_type": "stream",
          "text": [
            "{'epochs': 3, 'batch_size': 29, 'embedding_dim': 27, 'units': 200, 'dropout': 0.1, 'n_neurons': 49}\n",
            "Epoch 1/3\n",
            "1278/1278 [==============================] - 19s 12ms/step - loss: 0.1134 - accuracy: 0.7638 - val_loss: 0.0661 - val_accuracy: 0.8780\n",
            "Epoch 2/3\n",
            "1278/1278 [==============================] - 15s 12ms/step - loss: 0.0528 - accuracy: 0.9111 - val_loss: 0.0587 - val_accuracy: 0.8841\n",
            "Epoch 3/3\n",
            "1278/1278 [==============================] - 15s 12ms/step - loss: 0.0343 - accuracy: 0.9485 - val_loss: 0.0545 - val_accuracy: 0.8936\n"
          ]
        },
        {
          "name": "stderr",
          "output_type": "stream",
          "text": [
            "\u001b[32m[I 2022-04-13 09:16:07,696]\u001b[0m Trial 130 finished with value: 0.8935859799385071 and parameters: {'epochs': 3, 'batch_size': 29, 'embedding_dim': 27, 'units': 200, 'dropout': 0.1, 'n_neurons': 49}. Best is trial 18 with value: 0.9040330648422241.\u001b[0m\n"
          ]
        },
        {
          "name": "stdout",
          "output_type": "stream",
          "text": [
            "{'epochs': 3, 'batch_size': 23, 'embedding_dim': 25, 'units': 208, 'dropout': 0.1, 'n_neurons': 48}\n",
            "Epoch 1/3\n",
            "1611/1611 [==============================] - 22s 12ms/step - loss: 0.1159 - accuracy: 0.7628 - val_loss: 0.0653 - val_accuracy: 0.8848\n",
            "Epoch 2/3\n",
            "1611/1611 [==============================] - 19s 12ms/step - loss: 0.0540 - accuracy: 0.9094 - val_loss: 0.0556 - val_accuracy: 0.8958\n",
            "Epoch 3/3\n",
            "1611/1611 [==============================] - 19s 11ms/step - loss: 0.0359 - accuracy: 0.9452 - val_loss: 0.0566 - val_accuracy: 0.8926\n"
          ]
        },
        {
          "name": "stderr",
          "output_type": "stream",
          "text": [
            "\u001b[32m[I 2022-04-13 09:17:10,209]\u001b[0m Trial 131 finished with value: 0.8926141858100891 and parameters: {'epochs': 3, 'batch_size': 23, 'embedding_dim': 25, 'units': 208, 'dropout': 0.1, 'n_neurons': 48}. Best is trial 18 with value: 0.9040330648422241.\u001b[0m\n"
          ]
        },
        {
          "name": "stdout",
          "output_type": "stream",
          "text": [
            "{'epochs': 3, 'batch_size': 22, 'embedding_dim': 27, 'units': 216, 'dropout': 0.1, 'n_neurons': 55}\n",
            "Epoch 1/3\n",
            "1684/1684 [==============================] - 24s 12ms/step - loss: 0.1087 - accuracy: 0.7775 - val_loss: 0.0611 - val_accuracy: 0.8865\n",
            "Epoch 2/3\n",
            "1684/1684 [==============================] - 20s 12ms/step - loss: 0.0514 - accuracy: 0.9140 - val_loss: 0.0534 - val_accuracy: 0.8975\n",
            "Epoch 3/3\n",
            "1684/1684 [==============================] - 20s 12ms/step - loss: 0.0339 - accuracy: 0.9485 - val_loss: 0.0553 - val_accuracy: 0.8950\n"
          ]
        },
        {
          "name": "stderr",
          "output_type": "stream",
          "text": [
            "\u001b[32m[I 2022-04-13 09:18:38,136]\u001b[0m Trial 132 finished with value: 0.8950437307357788 and parameters: {'epochs': 3, 'batch_size': 22, 'embedding_dim': 27, 'units': 216, 'dropout': 0.1, 'n_neurons': 55}. Best is trial 18 with value: 0.9040330648422241.\u001b[0m\n"
          ]
        },
        {
          "name": "stdout",
          "output_type": "stream",
          "text": [
            "{'epochs': 3, 'batch_size': 24, 'embedding_dim': 28, 'units': 205, 'dropout': 0.1, 'n_neurons': 45}\n",
            "Epoch 1/3\n",
            "1544/1544 [==============================] - 23s 13ms/step - loss: 0.1127 - accuracy: 0.7671 - val_loss: 0.0675 - val_accuracy: 0.8819\n",
            "Epoch 2/3\n",
            "1544/1544 [==============================] - 19s 12ms/step - loss: 0.0519 - accuracy: 0.9135 - val_loss: 0.0574 - val_accuracy: 0.8899\n",
            "Epoch 3/3\n",
            "1544/1544 [==============================] - 19s 12ms/step - loss: 0.0336 - accuracy: 0.9495 - val_loss: 0.0561 - val_accuracy: 0.8958\n"
          ]
        },
        {
          "name": "stderr",
          "output_type": "stream",
          "text": [
            "\u001b[32m[I 2022-04-13 09:19:41,895]\u001b[0m Trial 133 finished with value: 0.8957725763320923 and parameters: {'epochs': 3, 'batch_size': 24, 'embedding_dim': 28, 'units': 205, 'dropout': 0.1, 'n_neurons': 45}. Best is trial 18 with value: 0.9040330648422241.\u001b[0m\n"
          ]
        },
        {
          "name": "stdout",
          "output_type": "stream",
          "text": [
            "{'epochs': 3, 'batch_size': 25, 'embedding_dim': 29, 'units': 213, 'dropout': 0.1, 'n_neurons': 128}\n",
            "Epoch 1/3\n",
            "1482/1482 [==============================] - 27s 16ms/step - loss: 0.1080 - accuracy: 0.7758 - val_loss: 0.0640 - val_accuracy: 0.8780\n",
            "Epoch 2/3\n",
            "1482/1482 [==============================] - 23s 15ms/step - loss: 0.0484 - accuracy: 0.9153 - val_loss: 0.0558 - val_accuracy: 0.8914\n",
            "Epoch 3/3\n",
            "1482/1482 [==============================] - 23s 15ms/step - loss: 0.0309 - accuracy: 0.9513 - val_loss: 0.0562 - val_accuracy: 0.8899\n"
          ]
        },
        {
          "name": "stderr",
          "output_type": "stream",
          "text": [
            "\u001b[32m[I 2022-04-13 09:20:56,778]\u001b[0m Trial 134 finished with value: 0.8899416923522949 and parameters: {'epochs': 3, 'batch_size': 25, 'embedding_dim': 29, 'units': 213, 'dropout': 0.1, 'n_neurons': 128}. Best is trial 18 with value: 0.9040330648422241.\u001b[0m\n"
          ]
        },
        {
          "name": "stdout",
          "output_type": "stream",
          "text": [
            "{'epochs': 3, 'batch_size': 37, 'embedding_dim': 26, 'units': 230, 'dropout': 0.1, 'n_neurons': 38}\n",
            "Epoch 1/3\n",
            "1002/1002 [==============================] - 20s 17ms/step - loss: 0.1188 - accuracy: 0.7530 - val_loss: 0.0688 - val_accuracy: 0.8715\n",
            "Epoch 2/3\n",
            "1002/1002 [==============================] - 16s 16ms/step - loss: 0.0553 - accuracy: 0.9119 - val_loss: 0.0552 - val_accuracy: 0.8977\n",
            "Epoch 3/3\n",
            "1002/1002 [==============================] - 16s 16ms/step - loss: 0.0370 - accuracy: 0.9464 - val_loss: 0.0616 - val_accuracy: 0.8788\n"
          ]
        },
        {
          "name": "stderr",
          "output_type": "stream",
          "text": [
            "\u001b[32m[I 2022-04-13 09:22:24,188]\u001b[0m Trial 135 finished with value: 0.8787658214569092 and parameters: {'epochs': 3, 'batch_size': 37, 'embedding_dim': 26, 'units': 230, 'dropout': 0.1, 'n_neurons': 38}. Best is trial 18 with value: 0.9040330648422241.\u001b[0m\n"
          ]
        },
        {
          "name": "stdout",
          "output_type": "stream",
          "text": [
            "{'epochs': 3, 'batch_size': 28, 'embedding_dim': 24, 'units': 207, 'dropout': 0.1, 'n_neurons': 41}\n",
            "Epoch 1/3\n",
            "1323/1323 [==============================] - 21s 13ms/step - loss: 0.1164 - accuracy: 0.7602 - val_loss: 0.0664 - val_accuracy: 0.8788\n",
            "Epoch 2/3\n",
            "1323/1323 [==============================] - 17s 13ms/step - loss: 0.0534 - accuracy: 0.9118 - val_loss: 0.0578 - val_accuracy: 0.8921\n",
            "Epoch 3/3\n",
            "1323/1323 [==============================] - 17s 13ms/step - loss: 0.0352 - accuracy: 0.9475 - val_loss: 0.0560 - val_accuracy: 0.8938\n"
          ]
        },
        {
          "name": "stderr",
          "output_type": "stream",
          "text": [
            "\u001b[32m[I 2022-04-13 09:23:21,978]\u001b[0m Trial 136 finished with value: 0.8938289880752563 and parameters: {'epochs': 3, 'batch_size': 28, 'embedding_dim': 24, 'units': 207, 'dropout': 0.1, 'n_neurons': 41}. Best is trial 18 with value: 0.9040330648422241.\u001b[0m\n"
          ]
        },
        {
          "name": "stdout",
          "output_type": "stream",
          "text": [
            "{'epochs': 2, 'batch_size': 38, 'embedding_dim': 27, 'units': 203, 'dropout': 0.1, 'n_neurons': 51}\n",
            "Epoch 1/2\n",
            "975/975 [==============================] - 19s 16ms/step - loss: 0.1158 - accuracy: 0.7560 - val_loss: 0.0693 - val_accuracy: 0.8661\n",
            "Epoch 2/2\n",
            "975/975 [==============================] - 15s 15ms/step - loss: 0.0528 - accuracy: 0.9103 - val_loss: 0.0572 - val_accuracy: 0.8958\n"
          ]
        },
        {
          "name": "stderr",
          "output_type": "stream",
          "text": [
            "\u001b[32m[I 2022-04-13 09:23:58,931]\u001b[0m Trial 137 finished with value: 0.8957725763320923 and parameters: {'epochs': 2, 'batch_size': 38, 'embedding_dim': 27, 'units': 203, 'dropout': 0.1, 'n_neurons': 51}. Best is trial 18 with value: 0.9040330648422241.\u001b[0m\n"
          ]
        },
        {
          "name": "stdout",
          "output_type": "stream",
          "text": [
            "{'epochs': 3, 'batch_size': 36, 'embedding_dim': 28, 'units': 201, 'dropout': 0.1, 'n_neurons': 98}\n",
            "Epoch 1/3\n",
            "1029/1029 [==============================] - 18s 15ms/step - loss: 0.1120 - accuracy: 0.7653 - val_loss: 0.0654 - val_accuracy: 0.8766\n",
            "Epoch 2/3\n",
            "1029/1029 [==============================] - 14s 14ms/step - loss: 0.0508 - accuracy: 0.9130 - val_loss: 0.0603 - val_accuracy: 0.8909\n",
            "Epoch 3/3\n",
            "1029/1029 [==============================] - 14s 14ms/step - loss: 0.0325 - accuracy: 0.9496 - val_loss: 0.0566 - val_accuracy: 0.8916\n"
          ]
        },
        {
          "name": "stderr",
          "output_type": "stream",
          "text": [
            "\u001b[32m[I 2022-04-13 09:24:47,800]\u001b[0m Trial 138 finished with value: 0.8916423916816711 and parameters: {'epochs': 3, 'batch_size': 36, 'embedding_dim': 28, 'units': 201, 'dropout': 0.1, 'n_neurons': 98}. Best is trial 18 with value: 0.9040330648422241.\u001b[0m\n"
          ]
        },
        {
          "name": "stdout",
          "output_type": "stream",
          "text": [
            "{'epochs': 3, 'batch_size': 39, 'embedding_dim': 26, 'units': 210, 'dropout': 0.2, 'n_neurons': 64}\n",
            "Epoch 1/3\n",
            "950/950 [==============================] - 18s 16ms/step - loss: 0.1205 - accuracy: 0.7518 - val_loss: 0.0717 - val_accuracy: 0.8644\n",
            "Epoch 2/3\n",
            "950/950 [==============================] - 14s 15ms/step - loss: 0.0555 - accuracy: 0.9103 - val_loss: 0.0575 - val_accuracy: 0.8960\n",
            "Epoch 3/3\n",
            "950/950 [==============================] - 14s 15ms/step - loss: 0.0370 - accuracy: 0.9474 - val_loss: 0.0580 - val_accuracy: 0.8880\n"
          ]
        },
        {
          "name": "stderr",
          "output_type": "stream",
          "text": [
            "\u001b[32m[I 2022-04-13 09:25:38,261]\u001b[0m Trial 139 finished with value: 0.8879980444908142 and parameters: {'epochs': 3, 'batch_size': 39, 'embedding_dim': 26, 'units': 210, 'dropout': 0.2, 'n_neurons': 64}. Best is trial 18 with value: 0.9040330648422241.\u001b[0m\n"
          ]
        },
        {
          "name": "stdout",
          "output_type": "stream",
          "text": [
            "{'epochs': 2, 'batch_size': 33, 'embedding_dim': 25, 'units': 240, 'dropout': 0.5, 'n_neurons': 43}\n",
            "Epoch 1/2\n",
            "1123/1123 [==============================] - 20s 14ms/step - loss: 0.1402 - accuracy: 0.7152 - val_loss: 0.0688 - val_accuracy: 0.8773\n",
            "Epoch 2/2\n",
            "1123/1123 [==============================] - 15s 13ms/step - loss: 0.0727 - accuracy: 0.8928 - val_loss: 0.0649 - val_accuracy: 0.8861\n"
          ]
        },
        {
          "name": "stderr",
          "output_type": "stream",
          "text": [
            "\u001b[32m[I 2022-04-13 09:26:15,294]\u001b[0m Trial 140 finished with value: 0.8860543966293335 and parameters: {'epochs': 2, 'batch_size': 33, 'embedding_dim': 25, 'units': 240, 'dropout': 0.5, 'n_neurons': 43}. Best is trial 18 with value: 0.9040330648422241.\u001b[0m\n"
          ]
        },
        {
          "name": "stdout",
          "output_type": "stream",
          "text": [
            "{'epochs': 3, 'batch_size': 39, 'embedding_dim': 24, 'units': 206, 'dropout': 0.1, 'n_neurons': 121}\n",
            "Epoch 1/3\n",
            "950/950 [==============================] - 19s 16ms/step - loss: 0.1138 - accuracy: 0.7596 - val_loss: 0.0630 - val_accuracy: 0.8858\n",
            "Epoch 2/3\n",
            "950/950 [==============================] - 15s 16ms/step - loss: 0.0505 - accuracy: 0.9119 - val_loss: 0.0600 - val_accuracy: 0.8873\n",
            "Epoch 3/3\n",
            "950/950 [==============================] - 15s 16ms/step - loss: 0.0324 - accuracy: 0.9489 - val_loss: 0.0555 - val_accuracy: 0.8933\n"
          ]
        },
        {
          "name": "stderr",
          "output_type": "stream",
          "text": [
            "\u001b[32m[I 2022-04-13 09:27:42,823]\u001b[0m Trial 141 finished with value: 0.8933430314064026 and parameters: {'epochs': 3, 'batch_size': 39, 'embedding_dim': 24, 'units': 206, 'dropout': 0.1, 'n_neurons': 121}. Best is trial 18 with value: 0.9040330648422241.\u001b[0m\n"
          ]
        },
        {
          "name": "stdout",
          "output_type": "stream",
          "text": [
            "{'epochs': 2, 'batch_size': 25, 'embedding_dim': 23, 'units': 284, 'dropout': 0.2, 'n_neurons': 80}\n",
            "Epoch 1/2\n",
            "1482/1482 [==============================] - 25s 15ms/step - loss: 0.1141 - accuracy: 0.7660 - val_loss: 0.0659 - val_accuracy: 0.8814\n",
            "Epoch 2/2\n",
            "1482/1482 [==============================] - 21s 14ms/step - loss: 0.0562 - accuracy: 0.9066 - val_loss: 0.0576 - val_accuracy: 0.8868\n"
          ]
        },
        {
          "name": "stderr",
          "output_type": "stream",
          "text": [
            "\u001b[32m[I 2022-04-13 09:28:31,676]\u001b[0m Trial 142 finished with value: 0.8867833018302917 and parameters: {'epochs': 2, 'batch_size': 25, 'embedding_dim': 23, 'units': 284, 'dropout': 0.2, 'n_neurons': 80}. Best is trial 18 with value: 0.9040330648422241.\u001b[0m\n"
          ]
        },
        {
          "name": "stdout",
          "output_type": "stream",
          "text": [
            "{'epochs': 2, 'batch_size': 27, 'embedding_dim': 20, 'units': 268, 'dropout': 0.2, 'n_neurons': 82}\n",
            "Epoch 1/2\n",
            "1372/1372 [==============================] - 23s 14ms/step - loss: 0.1155 - accuracy: 0.7633 - val_loss: 0.0658 - val_accuracy: 0.8788\n",
            "Epoch 2/2\n",
            "1372/1372 [==============================] - 19s 14ms/step - loss: 0.0553 - accuracy: 0.9080 - val_loss: 0.0579 - val_accuracy: 0.8831\n"
          ]
        },
        {
          "name": "stderr",
          "output_type": "stream",
          "text": [
            "\u001b[32m[I 2022-04-13 09:29:18,232]\u001b[0m Trial 143 finished with value: 0.8831389546394348 and parameters: {'epochs': 2, 'batch_size': 27, 'embedding_dim': 20, 'units': 268, 'dropout': 0.2, 'n_neurons': 82}. Best is trial 18 with value: 0.9040330648422241.\u001b[0m\n"
          ]
        },
        {
          "name": "stdout",
          "output_type": "stream",
          "text": [
            "{'epochs': 2, 'batch_size': 26, 'embedding_dim': 26, 'units': 277, 'dropout': 0.2, 'n_neurons': 113}\n",
            "Epoch 1/2\n",
            "1425/1425 [==============================] - 28s 18ms/step - loss: 0.1137 - accuracy: 0.7664 - val_loss: 0.0649 - val_accuracy: 0.8727\n",
            "Epoch 2/2\n",
            "1425/1425 [==============================] - 24s 17ms/step - loss: 0.0545 - accuracy: 0.9090 - val_loss: 0.0595 - val_accuracy: 0.8933\n"
          ]
        },
        {
          "name": "stderr",
          "output_type": "stream",
          "text": [
            "\u001b[32m[I 2022-04-13 09:30:13,323]\u001b[0m Trial 144 finished with value: 0.8933430314064026 and parameters: {'epochs': 2, 'batch_size': 26, 'embedding_dim': 26, 'units': 277, 'dropout': 0.2, 'n_neurons': 113}. Best is trial 18 with value: 0.9040330648422241.\u001b[0m\n"
          ]
        },
        {
          "name": "stdout",
          "output_type": "stream",
          "text": [
            "{'epochs': 3, 'batch_size': 39, 'embedding_dim': 25, 'units': 204, 'dropout': 0.1, 'n_neurons': 47}\n",
            "Epoch 1/3\n",
            "950/950 [==============================] - 16s 13ms/step - loss: 0.1182 - accuracy: 0.7520 - val_loss: 0.0641 - val_accuracy: 0.8812\n",
            "Epoch 2/3\n",
            "950/950 [==============================] - 12s 12ms/step - loss: 0.0530 - accuracy: 0.9119 - val_loss: 0.0551 - val_accuracy: 0.8936\n",
            "Epoch 3/3\n",
            "950/950 [==============================] - 12s 12ms/step - loss: 0.0345 - accuracy: 0.9476 - val_loss: 0.0556 - val_accuracy: 0.8880\n"
          ]
        },
        {
          "name": "stderr",
          "output_type": "stream",
          "text": [
            "\u001b[32m[I 2022-04-13 09:30:55,553]\u001b[0m Trial 145 finished with value: 0.8879980444908142 and parameters: {'epochs': 3, 'batch_size': 39, 'embedding_dim': 25, 'units': 204, 'dropout': 0.1, 'n_neurons': 47}. Best is trial 18 with value: 0.9040330648422241.\u001b[0m\n"
          ]
        },
        {
          "name": "stdout",
          "output_type": "stream",
          "text": [
            "{'epochs': 3, 'batch_size': 40, 'embedding_dim': 27, 'units': 235, 'dropout': 0.1, 'n_neurons': 44}\n",
            "Epoch 1/3\n",
            "927/927 [==============================] - 18s 16ms/step - loss: 0.1160 - accuracy: 0.7579 - val_loss: 0.0647 - val_accuracy: 0.8819\n",
            "Epoch 2/3\n",
            "927/927 [==============================] - 14s 15ms/step - loss: 0.0516 - accuracy: 0.9130 - val_loss: 0.0573 - val_accuracy: 0.8895\n",
            "Epoch 3/3\n",
            "927/927 [==============================] - 14s 15ms/step - loss: 0.0344 - accuracy: 0.9482 - val_loss: 0.0733 - val_accuracy: 0.8627\n"
          ]
        },
        {
          "name": "stderr",
          "output_type": "stream",
          "text": [
            "\u001b[32m[I 2022-04-13 09:31:43,149]\u001b[0m Trial 146 finished with value: 0.8627308011054993 and parameters: {'epochs': 3, 'batch_size': 40, 'embedding_dim': 27, 'units': 235, 'dropout': 0.1, 'n_neurons': 44}. Best is trial 18 with value: 0.9040330648422241.\u001b[0m\n"
          ]
        },
        {
          "name": "stdout",
          "output_type": "stream",
          "text": [
            "{'epochs': 2, 'batch_size': 31, 'embedding_dim': 24, 'units': 245, 'dropout': 0.4, 'n_neurons': 88}\n",
            "Epoch 1/2\n",
            "1195/1195 [==============================] - 23s 17ms/step - loss: 0.1249 - accuracy: 0.7451 - val_loss: 0.0729 - val_accuracy: 0.8642\n",
            "Epoch 2/2\n",
            "1195/1195 [==============================] - 20s 17ms/step - loss: 0.0628 - accuracy: 0.9005 - val_loss: 0.0569 - val_accuracy: 0.8926\n"
          ]
        },
        {
          "name": "stderr",
          "output_type": "stream",
          "text": [
            "\u001b[32m[I 2022-04-13 09:32:29,393]\u001b[0m Trial 147 finished with value: 0.8926141858100891 and parameters: {'epochs': 2, 'batch_size': 31, 'embedding_dim': 24, 'units': 245, 'dropout': 0.4, 'n_neurons': 88}. Best is trial 18 with value: 0.9040330648422241.\u001b[0m\n"
          ]
        },
        {
          "name": "stdout",
          "output_type": "stream",
          "text": [
            "{'epochs': 2, 'batch_size': 28, 'embedding_dim': 28, 'units': 254, 'dropout': 0.2, 'n_neurons': 84}\n",
            "Epoch 1/2\n",
            "1323/1323 [==============================] - 23s 15ms/step - loss: 0.1166 - accuracy: 0.7568 - val_loss: 0.0672 - val_accuracy: 0.8773\n",
            "Epoch 2/2\n",
            "1323/1323 [==============================] - 19s 14ms/step - loss: 0.0554 - accuracy: 0.9097 - val_loss: 0.0558 - val_accuracy: 0.8999\n"
          ]
        },
        {
          "name": "stderr",
          "output_type": "stream",
          "text": [
            "\u001b[32m[I 2022-04-13 09:33:14,397]\u001b[0m Trial 148 finished with value: 0.8999028205871582 and parameters: {'epochs': 2, 'batch_size': 28, 'embedding_dim': 28, 'units': 254, 'dropout': 0.2, 'n_neurons': 84}. Best is trial 18 with value: 0.9040330648422241.\u001b[0m\n"
          ]
        },
        {
          "name": "stdout",
          "output_type": "stream",
          "text": [
            "{'epochs': 2, 'batch_size': 28, 'embedding_dim': 28, 'units': 254, 'dropout': 0.30000000000000004, 'n_neurons': 86}\n",
            "Epoch 1/2\n",
            "1323/1323 [==============================] - 23s 15ms/step - loss: 0.1173 - accuracy: 0.7640 - val_loss: 0.0652 - val_accuracy: 0.8829\n",
            "Epoch 2/2\n",
            "1323/1323 [==============================] - 19s 15ms/step - loss: 0.0583 - accuracy: 0.9063 - val_loss: 0.0589 - val_accuracy: 0.8875\n"
          ]
        },
        {
          "name": "stderr",
          "output_type": "stream",
          "text": [
            "\u001b[32m[I 2022-04-13 09:33:59,163]\u001b[0m Trial 149 finished with value: 0.8875121474266052 and parameters: {'epochs': 2, 'batch_size': 28, 'embedding_dim': 28, 'units': 254, 'dropout': 0.30000000000000004, 'n_neurons': 86}. Best is trial 18 with value: 0.9040330648422241.\u001b[0m\n"
          ]
        },
        {
          "name": "stdout",
          "output_type": "stream",
          "text": [
            "{'epochs': 2, 'batch_size': 29, 'embedding_dim': 29, 'units': 258, 'dropout': 0.2, 'n_neurons': 36}\n",
            "Epoch 1/2\n",
            "1278/1278 [==============================] - 26s 18ms/step - loss: 0.1271 - accuracy: 0.7434 - val_loss: 0.0671 - val_accuracy: 0.8810\n",
            "Epoch 2/2\n",
            "1278/1278 [==============================] - 22s 17ms/step - loss: 0.0602 - accuracy: 0.9083 - val_loss: 0.0559 - val_accuracy: 0.8975\n"
          ]
        },
        {
          "name": "stderr",
          "output_type": "stream",
          "text": [
            "\u001b[32m[I 2022-04-13 09:34:50,399]\u001b[0m Trial 150 finished with value: 0.8974732756614685 and parameters: {'epochs': 2, 'batch_size': 29, 'embedding_dim': 29, 'units': 258, 'dropout': 0.2, 'n_neurons': 36}. Best is trial 18 with value: 0.9040330648422241.\u001b[0m\n"
          ]
        },
        {
          "name": "stdout",
          "output_type": "stream",
          "text": [
            "{'epochs': 2, 'batch_size': 29, 'embedding_dim': 30, 'units': 258, 'dropout': 0.2, 'n_neurons': 35}\n",
            "Epoch 1/2\n",
            "1278/1278 [==============================] - 27s 18ms/step - loss: 0.1218 - accuracy: 0.7532 - val_loss: 0.0687 - val_accuracy: 0.8783\n",
            "Epoch 2/2\n",
            "1278/1278 [==============================] - 22s 17ms/step - loss: 0.0604 - accuracy: 0.9072 - val_loss: 0.0586 - val_accuracy: 0.8912\n"
          ]
        },
        {
          "name": "stderr",
          "output_type": "stream",
          "text": [
            "\u001b[32m[I 2022-04-13 09:35:41,600]\u001b[0m Trial 151 finished with value: 0.8911564350128174 and parameters: {'epochs': 2, 'batch_size': 29, 'embedding_dim': 30, 'units': 258, 'dropout': 0.2, 'n_neurons': 35}. Best is trial 18 with value: 0.9040330648422241.\u001b[0m\n"
          ]
        },
        {
          "name": "stdout",
          "output_type": "stream",
          "text": [
            "{'epochs': 2, 'batch_size': 30, 'embedding_dim': 29, 'units': 257, 'dropout': 0.2, 'n_neurons': 37}\n",
            "Epoch 1/2\n",
            "1235/1235 [==============================] - 25s 18ms/step - loss: 0.1209 - accuracy: 0.7552 - val_loss: 0.0656 - val_accuracy: 0.8839\n",
            "Epoch 2/2\n",
            "1235/1235 [==============================] - 21s 17ms/step - loss: 0.0598 - accuracy: 0.9054 - val_loss: 0.0584 - val_accuracy: 0.8943\n"
          ]
        },
        {
          "name": "stderr",
          "output_type": "stream",
          "text": [
            "\u001b[32m[I 2022-04-13 09:36:30,854]\u001b[0m Trial 152 finished with value: 0.8943148851394653 and parameters: {'epochs': 2, 'batch_size': 30, 'embedding_dim': 29, 'units': 257, 'dropout': 0.2, 'n_neurons': 37}. Best is trial 18 with value: 0.9040330648422241.\u001b[0m\n"
          ]
        },
        {
          "name": "stdout",
          "output_type": "stream",
          "text": [
            "{'epochs': 2, 'batch_size': 30, 'embedding_dim': 28, 'units': 250, 'dropout': 0.2, 'n_neurons': 39}\n",
            "Epoch 1/2\n",
            "1235/1235 [==============================] - 22s 15ms/step - loss: 0.1208 - accuracy: 0.7512 - val_loss: 0.0680 - val_accuracy: 0.8802\n",
            "Epoch 2/2\n",
            "1235/1235 [==============================] - 18s 14ms/step - loss: 0.0593 - accuracy: 0.9068 - val_loss: 0.0572 - val_accuracy: 0.8936\n"
          ]
        },
        {
          "name": "stderr",
          "output_type": "stream",
          "text": [
            "\u001b[32m[I 2022-04-13 09:37:17,843]\u001b[0m Trial 153 finished with value: 0.8935859799385071 and parameters: {'epochs': 2, 'batch_size': 30, 'embedding_dim': 28, 'units': 250, 'dropout': 0.2, 'n_neurons': 39}. Best is trial 18 with value: 0.9040330648422241.\u001b[0m\n"
          ]
        },
        {
          "name": "stdout",
          "output_type": "stream",
          "text": [
            "{'epochs': 2, 'batch_size': 29, 'embedding_dim': 29, 'units': 253, 'dropout': 0.2, 'n_neurons': 33}\n",
            "Epoch 1/2\n",
            "1278/1278 [==============================] - 27s 18ms/step - loss: 0.1186 - accuracy: 0.7652 - val_loss: 0.0680 - val_accuracy: 0.8717\n",
            "Epoch 2/2\n",
            "1278/1278 [==============================] - 22s 17ms/step - loss: 0.0574 - accuracy: 0.9089 - val_loss: 0.0610 - val_accuracy: 0.8897\n"
          ]
        },
        {
          "name": "stderr",
          "output_type": "stream",
          "text": [
            "\u001b[32m[I 2022-04-13 09:38:45,310]\u001b[0m Trial 154 finished with value: 0.8896987438201904 and parameters: {'epochs': 2, 'batch_size': 29, 'embedding_dim': 29, 'units': 253, 'dropout': 0.2, 'n_neurons': 33}. Best is trial 18 with value: 0.9040330648422241.\u001b[0m\n"
          ]
        },
        {
          "name": "stdout",
          "output_type": "stream",
          "text": [
            "{'epochs': 2, 'batch_size': 28, 'embedding_dim': 27, 'units': 260, 'dropout': 0.2, 'n_neurons': 61}\n",
            "Epoch 1/2\n",
            "1323/1323 [==============================] - 22s 14ms/step - loss: 0.1166 - accuracy: 0.7638 - val_loss: 0.0650 - val_accuracy: 0.8793\n",
            "Epoch 2/2\n",
            "1323/1323 [==============================] - 18s 14ms/step - loss: 0.0557 - accuracy: 0.9107 - val_loss: 0.0543 - val_accuracy: 0.9004\n"
          ]
        },
        {
          "name": "stderr",
          "output_type": "stream",
          "text": [
            "\u001b[32m[I 2022-04-13 09:39:27,842]\u001b[0m Trial 155 finished with value: 0.9003887176513672 and parameters: {'epochs': 2, 'batch_size': 28, 'embedding_dim': 27, 'units': 260, 'dropout': 0.2, 'n_neurons': 61}. Best is trial 18 with value: 0.9040330648422241.\u001b[0m\n"
          ]
        },
        {
          "name": "stdout",
          "output_type": "stream",
          "text": [
            "{'epochs': 2, 'batch_size': 28, 'embedding_dim': 27, 'units': 260, 'dropout': 0.2, 'n_neurons': 84}\n",
            "Epoch 1/2\n",
            "1323/1323 [==============================] - 23s 14ms/step - loss: 0.1143 - accuracy: 0.7667 - val_loss: 0.0641 - val_accuracy: 0.8822\n",
            "Epoch 2/2\n",
            "1323/1323 [==============================] - 18s 14ms/step - loss: 0.0539 - accuracy: 0.9100 - val_loss: 0.0581 - val_accuracy: 0.8902\n"
          ]
        },
        {
          "name": "stderr",
          "output_type": "stream",
          "text": [
            "\u001b[32m[I 2022-04-13 09:40:10,943]\u001b[0m Trial 156 finished with value: 0.8901846408843994 and parameters: {'epochs': 2, 'batch_size': 28, 'embedding_dim': 27, 'units': 260, 'dropout': 0.2, 'n_neurons': 84}. Best is trial 18 with value: 0.9040330648422241.\u001b[0m\n"
          ]
        },
        {
          "name": "stdout",
          "output_type": "stream",
          "text": [
            "{'epochs': 2, 'batch_size': 29, 'embedding_dim': 29, 'units': 263, 'dropout': 0.2, 'n_neurons': 66}\n",
            "Epoch 1/2\n",
            "1278/1278 [==============================] - 27s 19ms/step - loss: 0.1158 - accuracy: 0.7629 - val_loss: 0.0657 - val_accuracy: 0.8827\n",
            "Epoch 2/2\n",
            "1278/1278 [==============================] - 23s 18ms/step - loss: 0.0561 - accuracy: 0.9065 - val_loss: 0.0562 - val_accuracy: 0.8987\n"
          ]
        },
        {
          "name": "stderr",
          "output_type": "stream",
          "text": [
            "\u001b[32m[I 2022-04-13 09:41:03,989]\u001b[0m Trial 157 finished with value: 0.898688018321991 and parameters: {'epochs': 2, 'batch_size': 29, 'embedding_dim': 29, 'units': 263, 'dropout': 0.2, 'n_neurons': 66}. Best is trial 18 with value: 0.9040330648422241.\u001b[0m\n"
          ]
        },
        {
          "name": "stdout",
          "output_type": "stream",
          "text": [
            "{'epochs': 2, 'batch_size': 29, 'embedding_dim': 30, 'units': 256, 'dropout': 0.2, 'n_neurons': 62}\n",
            "Epoch 1/2\n",
            "1278/1278 [==============================] - 21s 14ms/step - loss: 0.1183 - accuracy: 0.7559 - val_loss: 0.0768 - val_accuracy: 0.8499\n",
            "Epoch 2/2\n",
            "1278/1278 [==============================] - 17s 13ms/step - loss: 0.0558 - accuracy: 0.9097 - val_loss: 0.0566 - val_accuracy: 0.8936\n"
          ]
        },
        {
          "name": "stderr",
          "output_type": "stream",
          "text": [
            "\u001b[32m[I 2022-04-13 09:41:44,141]\u001b[0m Trial 158 finished with value: 0.8935859799385071 and parameters: {'epochs': 2, 'batch_size': 29, 'embedding_dim': 30, 'units': 256, 'dropout': 0.2, 'n_neurons': 62}. Best is trial 18 with value: 0.9040330648422241.\u001b[0m\n"
          ]
        },
        {
          "name": "stdout",
          "output_type": "stream",
          "text": [
            "{'epochs': 2, 'batch_size': 28, 'embedding_dim': 28, 'units': 260, 'dropout': 0.2, 'n_neurons': 61}\n",
            "Epoch 1/2\n",
            " 749/1323 [===============>..............] - ETA: 7s - loss: 0.1406 - accuracy: 0.7000"
          ]
        }
      ],
      "source": [
        "opt.optisearch(X_train=X_train, y_train=y_train, y_test=y_test, n_trials=400)"
      ]
    },
    {
      "cell_type": "code",
      "execution_count": null,
      "metadata": {
        "id": "SgkA9YJPTdCg",
        "colab": {
          "base_uri": "https://localhost:8080/"
        },
        "outputId": "d58293b2-6ea5-4f3e-edf3-17010d48a153"
      },
      "outputs": [
        {
          "output_type": "stream",
          "name": "stderr",
          "text": [
            "\u001b[32m[I 2022-04-14 08:03:24,131]\u001b[0m A new study created in memory with name: no-name-43840259-9a41-4312-84dd-161f652a801d\u001b[0m\n"
          ]
        },
        {
          "output_type": "stream",
          "name": "stdout",
          "text": [
            "{'epochs': 4, 'batch_size': 63, 'embedding_dim': 48, 'units': 395, 'dropout': 0.30000000000000004, 'n_neurons': 88}\n",
            "Epoch 1/4\n",
            "588/588 [==============================] - 22s 23ms/step - loss: 0.1248 - accuracy: 0.7404 - val_loss: 0.0678 - val_accuracy: 0.8802\n",
            "Epoch 2/4\n",
            "588/588 [==============================] - 12s 21ms/step - loss: 0.0586 - accuracy: 0.9072 - val_loss: 0.0587 - val_accuracy: 0.8895\n",
            "Epoch 3/4\n",
            "588/588 [==============================] - 12s 21ms/step - loss: 0.0388 - accuracy: 0.9463 - val_loss: 0.0566 - val_accuracy: 0.8907\n",
            "Epoch 4/4\n",
            "588/588 [==============================] - 13s 21ms/step - loss: 0.0296 - accuracy: 0.9628 - val_loss: 0.0561 - val_accuracy: 0.8914\n",
            "Epoch 1/4\n",
            "588/588 [==============================] - 13s 22ms/step - loss: 0.0253 - accuracy: 0.9687 - val_loss: 0.0587 - val_accuracy: 0.8878\n",
            "Epoch 2/4\n",
            "588/588 [==============================] - 13s 22ms/step - loss: 0.0223 - accuracy: 0.9713 - val_loss: 0.0627 - val_accuracy: 0.8817\n",
            "Epoch 3/4\n",
            "588/588 [==============================] - 13s 22ms/step - loss: 0.0208 - accuracy: 0.9737 - val_loss: 0.0618 - val_accuracy: 0.8802\n",
            "Epoch 4/4\n",
            "588/588 [==============================] - 13s 22ms/step - loss: 0.0196 - accuracy: 0.9763 - val_loss: 0.0631 - val_accuracy: 0.8785\n",
            "Epoch 1/4\n",
            "588/588 [==============================] - 13s 23ms/step - loss: 0.0173 - accuracy: 0.9803 - val_loss: 0.0692 - val_accuracy: 0.8661\n",
            "Epoch 2/4\n",
            "588/588 [==============================] - 14s 23ms/step - loss: 0.0158 - accuracy: 0.9839 - val_loss: 0.0646 - val_accuracy: 0.8800\n",
            "Epoch 3/4\n",
            "588/588 [==============================] - 14s 23ms/step - loss: 0.0145 - accuracy: 0.9865 - val_loss: 0.0669 - val_accuracy: 0.8722\n",
            "Epoch 4/4\n",
            "588/588 [==============================] - 14s 23ms/step - loss: 0.0126 - accuracy: 0.9896 - val_loss: 0.0667 - val_accuracy: 0.8722\n",
            "Epoch 1/4\n",
            "588/588 [==============================] - 13s 23ms/step - loss: 0.0117 - accuracy: 0.9904 - val_loss: 0.0717 - val_accuracy: 0.8649\n",
            "Epoch 2/4\n",
            "588/588 [==============================] - 13s 23ms/step - loss: 0.0109 - accuracy: 0.9924 - val_loss: 0.0692 - val_accuracy: 0.8717\n",
            "Epoch 3/4\n",
            "588/588 [==============================] - 13s 23ms/step - loss: 0.0100 - accuracy: 0.9940 - val_loss: 0.0724 - val_accuracy: 0.8630\n",
            "Epoch 4/4\n",
            "588/588 [==============================] - 13s 23ms/step - loss: 0.0092 - accuracy: 0.9948 - val_loss: 0.0679 - val_accuracy: 0.8710\n",
            "Epoch 1/4\n",
            "588/588 [==============================] - 13s 23ms/step - loss: 0.0092 - accuracy: 0.9952 - val_loss: 0.0710 - val_accuracy: 0.8647\n",
            "Epoch 2/4\n",
            "588/588 [==============================] - 14s 23ms/step - loss: 0.0088 - accuracy: 0.9955 - val_loss: 0.0740 - val_accuracy: 0.8639\n",
            "Epoch 3/4\n",
            "588/588 [==============================] - 14s 23ms/step - loss: 0.0085 - accuracy: 0.9959 - val_loss: 0.0725 - val_accuracy: 0.8642\n",
            "Epoch 4/4\n",
            "588/588 [==============================] - 14s 23ms/step - loss: 0.0078 - accuracy: 0.9965 - val_loss: 0.0728 - val_accuracy: 0.8695\n"
          ]
        },
        {
          "output_type": "stream",
          "name": "stderr",
          "text": [
            "\u001b[32m[I 2022-04-14 08:08:33,158]\u001b[0m Trial 0 finished with value: 0.8765306115150452 and parameters: {'epochs': 4, 'batch_size': 63, 'embedding_dim': 48, 'units': 395, 'dropout': 0.30000000000000004, 'n_neurons': 88}. Best is trial 0 with value: 0.8765306115150452.\u001b[0m\n"
          ]
        },
        {
          "output_type": "stream",
          "name": "stdout",
          "text": [
            "{'epochs': 4, 'batch_size': 41, 'embedding_dim': 47, 'units': 133, 'dropout': 0.2, 'n_neurons': 62}\n",
            "Epoch 1/4\n",
            "904/904 [==============================] - 14s 12ms/step - loss: 0.1198 - accuracy: 0.7527 - val_loss: 0.0658 - val_accuracy: 0.8829\n",
            "Epoch 2/4\n",
            "904/904 [==============================] - 10s 11ms/step - loss: 0.0544 - accuracy: 0.9127 - val_loss: 0.0558 - val_accuracy: 0.8926\n",
            "Epoch 3/4\n",
            "904/904 [==============================] - 10s 11ms/step - loss: 0.0356 - accuracy: 0.9480 - val_loss: 0.0564 - val_accuracy: 0.8899\n",
            "Epoch 4/4\n",
            "904/904 [==============================] - 10s 11ms/step - loss: 0.0275 - accuracy: 0.9629 - val_loss: 0.0557 - val_accuracy: 0.8946\n",
            "Epoch 1/4\n",
            "904/904 [==============================] - 10s 11ms/step - loss: 0.0230 - accuracy: 0.9691 - val_loss: 0.0549 - val_accuracy: 0.8950\n",
            "Epoch 2/4\n",
            "904/904 [==============================] - 10s 11ms/step - loss: 0.0202 - accuracy: 0.9728 - val_loss: 0.0580 - val_accuracy: 0.8887\n",
            "Epoch 3/4\n",
            "904/904 [==============================] - 10s 11ms/step - loss: 0.0179 - accuracy: 0.9775 - val_loss: 0.0591 - val_accuracy: 0.8907\n",
            "Epoch 4/4\n",
            "904/904 [==============================] - 10s 11ms/step - loss: 0.0151 - accuracy: 0.9826 - val_loss: 0.0666 - val_accuracy: 0.8707\n",
            "Epoch 1/4\n",
            "904/904 [==============================] - 10s 11ms/step - loss: 0.0131 - accuracy: 0.9863 - val_loss: 0.0604 - val_accuracy: 0.8848\n",
            "Epoch 2/4\n",
            "904/904 [==============================] - 10s 11ms/step - loss: 0.0115 - accuracy: 0.9889 - val_loss: 0.0719 - val_accuracy: 0.8625\n",
            "Epoch 3/4\n",
            "904/904 [==============================] - 10s 11ms/step - loss: 0.0111 - accuracy: 0.9908 - val_loss: 0.0622 - val_accuracy: 0.8797\n",
            "Epoch 4/4\n",
            "904/904 [==============================] - 10s 11ms/step - loss: 0.0094 - accuracy: 0.9934 - val_loss: 0.0650 - val_accuracy: 0.8788\n",
            "Epoch 1/4\n",
            "904/904 [==============================] - 10s 11ms/step - loss: 0.0092 - accuracy: 0.9933 - val_loss: 0.0654 - val_accuracy: 0.8797\n",
            "Epoch 2/4\n",
            "904/904 [==============================] - 10s 11ms/step - loss: 0.0083 - accuracy: 0.9949 - val_loss: 0.0629 - val_accuracy: 0.8819\n",
            "Epoch 3/4\n",
            "904/904 [==============================] - 10s 11ms/step - loss: 0.0076 - accuracy: 0.9955 - val_loss: 0.0684 - val_accuracy: 0.8710\n",
            "Epoch 4/4\n",
            "904/904 [==============================] - 10s 11ms/step - loss: 0.0075 - accuracy: 0.9957 - val_loss: 0.0658 - val_accuracy: 0.8805\n",
            "Epoch 1/4\n",
            "904/904 [==============================] - 10s 11ms/step - loss: 0.0073 - accuracy: 0.9959 - val_loss: 0.0640 - val_accuracy: 0.8841\n",
            "Epoch 2/4\n",
            "904/904 [==============================] - 10s 11ms/step - loss: 0.0072 - accuracy: 0.9961 - val_loss: 0.0659 - val_accuracy: 0.8722\n",
            "Epoch 3/4\n",
            "904/904 [==============================] - 10s 11ms/step - loss: 0.0064 - accuracy: 0.9974 - val_loss: 0.0636 - val_accuracy: 0.8851\n",
            "Epoch 4/4\n",
            "904/904 [==============================] - 10s 11ms/step - loss: 0.0062 - accuracy: 0.9976 - val_loss: 0.0670 - val_accuracy: 0.8778\n"
          ]
        },
        {
          "output_type": "stream",
          "name": "stderr",
          "text": [
            "\u001b[32m[I 2022-04-14 08:11:59,992]\u001b[0m Trial 1 finished with value: 0.8804664731025695 and parameters: {'epochs': 4, 'batch_size': 41, 'embedding_dim': 47, 'units': 133, 'dropout': 0.2, 'n_neurons': 62}. Best is trial 1 with value: 0.8804664731025695.\u001b[0m\n"
          ]
        },
        {
          "output_type": "stream",
          "name": "stdout",
          "text": [
            "{'epochs': 2, 'batch_size': 55, 'embedding_dim': 25, 'units': 272, 'dropout': 0.1, 'n_neurons': 87}\n",
            "Epoch 1/2\n",
            "674/674 [==============================] - 13s 14ms/step - loss: 0.1214 - accuracy: 0.7412 - val_loss: 0.0675 - val_accuracy: 0.8824\n",
            "Epoch 2/2\n",
            "674/674 [==============================] - 9s 13ms/step - loss: 0.0527 - accuracy: 0.9103 - val_loss: 0.0560 - val_accuracy: 0.8967\n",
            "Epoch 1/2\n",
            "674/674 [==============================] - 9s 13ms/step - loss: 0.0332 - accuracy: 0.9496 - val_loss: 0.0561 - val_accuracy: 0.8914\n",
            "Epoch 2/2\n",
            "674/674 [==============================] - 9s 13ms/step - loss: 0.0258 - accuracy: 0.9615 - val_loss: 0.0620 - val_accuracy: 0.8812\n",
            "Epoch 1/2\n",
            "674/674 [==============================] - 9s 13ms/step - loss: 0.0213 - accuracy: 0.9691 - val_loss: 0.0570 - val_accuracy: 0.8882\n",
            "Epoch 2/2\n",
            "674/674 [==============================] - 9s 13ms/step - loss: 0.0191 - accuracy: 0.9715 - val_loss: 0.0598 - val_accuracy: 0.8873\n",
            "Epoch 1/2\n",
            "674/674 [==============================] - 9s 13ms/step - loss: 0.0166 - accuracy: 0.9756 - val_loss: 0.0613 - val_accuracy: 0.8831\n",
            "Epoch 2/2\n",
            "674/674 [==============================] - 9s 13ms/step - loss: 0.0147 - accuracy: 0.9803 - val_loss: 0.0635 - val_accuracy: 0.8800\n",
            "Epoch 1/2\n",
            "674/674 [==============================] - 9s 13ms/step - loss: 0.0126 - accuracy: 0.9840 - val_loss: 0.0620 - val_accuracy: 0.8824\n",
            "Epoch 2/2\n",
            "674/674 [==============================] - 9s 13ms/step - loss: 0.0100 - accuracy: 0.9894 - val_loss: 0.0645 - val_accuracy: 0.8737\n"
          ]
        },
        {
          "output_type": "stream",
          "name": "stderr",
          "text": [
            "\u001b[32m[I 2022-04-14 08:13:37,076]\u001b[0m Trial 2 finished with value: 0.8837706446647644 and parameters: {'epochs': 2, 'batch_size': 55, 'embedding_dim': 25, 'units': 272, 'dropout': 0.1, 'n_neurons': 87}. Best is trial 2 with value: 0.8837706446647644.\u001b[0m\n"
          ]
        },
        {
          "output_type": "stream",
          "name": "stdout",
          "text": [
            "{'epochs': 2, 'batch_size': 28, 'embedding_dim': 24, 'units': 155, 'dropout': 0.2, 'n_neurons': 76}\n",
            "Epoch 1/2\n",
            "1323/1323 [==============================] - 18s 11ms/step - loss: 0.1179 - accuracy: 0.7541 - val_loss: 0.0643 - val_accuracy: 0.8827\n",
            "Epoch 2/2\n",
            "1323/1323 [==============================] - 14s 11ms/step - loss: 0.0548 - accuracy: 0.9086 - val_loss: 0.0553 - val_accuracy: 0.8943\n",
            "Epoch 1/2\n",
            "1323/1323 [==============================] - 14s 11ms/step - loss: 0.0361 - accuracy: 0.9464 - val_loss: 0.0566 - val_accuracy: 0.8904\n",
            "Epoch 2/2\n",
            "1323/1323 [==============================] - 14s 10ms/step - loss: 0.0282 - accuracy: 0.9600 - val_loss: 0.0598 - val_accuracy: 0.8810\n",
            "Epoch 1/2\n",
            "1323/1323 [==============================] - 14s 11ms/step - loss: 0.0237 - accuracy: 0.9673 - val_loss: 0.0566 - val_accuracy: 0.8909\n",
            "Epoch 2/2\n",
            "1323/1323 [==============================] - 14s 11ms/step - loss: 0.0212 - accuracy: 0.9714 - val_loss: 0.0584 - val_accuracy: 0.8870\n",
            "Epoch 1/2\n",
            "1323/1323 [==============================] - 14s 11ms/step - loss: 0.0190 - accuracy: 0.9732 - val_loss: 0.0609 - val_accuracy: 0.8851\n",
            "Epoch 2/2\n",
            "1323/1323 [==============================] - 14s 10ms/step - loss: 0.0174 - accuracy: 0.9757 - val_loss: 0.0617 - val_accuracy: 0.8805\n",
            "Epoch 1/2\n",
            "1323/1323 [==============================] - 14s 11ms/step - loss: 0.0155 - accuracy: 0.9795 - val_loss: 0.0651 - val_accuracy: 0.8754\n",
            "Epoch 2/2\n",
            "1323/1323 [==============================] - 14s 10ms/step - loss: 0.0135 - accuracy: 0.9849 - val_loss: 0.0665 - val_accuracy: 0.8732\n"
          ]
        },
        {
          "output_type": "stream",
          "name": "stderr",
          "text": [
            "\u001b[32m[I 2022-04-14 08:16:16,224]\u001b[0m Trial 3 finished with value: 0.8831875562667847 and parameters: {'epochs': 2, 'batch_size': 28, 'embedding_dim': 24, 'units': 155, 'dropout': 0.2, 'n_neurons': 76}. Best is trial 2 with value: 0.8837706446647644.\u001b[0m\n"
          ]
        },
        {
          "output_type": "stream",
          "name": "stdout",
          "text": [
            "{'epochs': 3, 'batch_size': 35, 'embedding_dim': 38, 'units': 500, 'dropout': 0.2, 'n_neurons': 115}\n",
            "Epoch 1/3\n",
            "1059/1059 [==============================] - 29s 24ms/step - loss: 0.1123 - accuracy: 0.7721 - val_loss: 0.0662 - val_accuracy: 0.8829\n",
            "Epoch 2/3\n",
            "1059/1059 [==============================] - 25s 24ms/step - loss: 0.0531 - accuracy: 0.9120 - val_loss: 0.0552 - val_accuracy: 0.8972\n",
            "Epoch 3/3\n",
            "1059/1059 [==============================] - 25s 24ms/step - loss: 0.0354 - accuracy: 0.9483 - val_loss: 0.0572 - val_accuracy: 0.8912\n",
            "Epoch 1/3\n",
            "1059/1059 [==============================] - 25s 24ms/step - loss: 0.0274 - accuracy: 0.9622 - val_loss: 0.0591 - val_accuracy: 0.8861\n",
            "Epoch 2/3\n",
            "1059/1059 [==============================] - 25s 24ms/step - loss: 0.0231 - accuracy: 0.9684 - val_loss: 0.0585 - val_accuracy: 0.8846\n",
            "Epoch 3/3\n",
            "1059/1059 [==============================] - 25s 24ms/step - loss: 0.0198 - accuracy: 0.9726 - val_loss: 0.0619 - val_accuracy: 0.8846\n",
            "Epoch 1/3\n",
            "1059/1059 [==============================] - 25s 24ms/step - loss: 0.0181 - accuracy: 0.9745 - val_loss: 0.0635 - val_accuracy: 0.8814\n",
            "Epoch 2/3\n",
            "1059/1059 [==============================] - 25s 24ms/step - loss: 0.0156 - accuracy: 0.9798 - val_loss: 0.0715 - val_accuracy: 0.8639\n",
            "Epoch 3/3\n",
            "1059/1059 [==============================] - 25s 24ms/step - loss: 0.0137 - accuracy: 0.9836 - val_loss: 0.0645 - val_accuracy: 0.8785\n",
            "Epoch 1/3\n",
            "1059/1059 [==============================] - 25s 24ms/step - loss: 0.0117 - accuracy: 0.9872 - val_loss: 0.0660 - val_accuracy: 0.8739\n",
            "Epoch 2/3\n",
            "1059/1059 [==============================] - 25s 24ms/step - loss: 0.0102 - accuracy: 0.9907 - val_loss: 0.0649 - val_accuracy: 0.8759\n",
            "Epoch 3/3\n",
            "1059/1059 [==============================] - 25s 24ms/step - loss: 0.0087 - accuracy: 0.9928 - val_loss: 0.0699 - val_accuracy: 0.8717\n",
            "Epoch 1/3\n",
            "1059/1059 [==============================] - 25s 24ms/step - loss: 0.0085 - accuracy: 0.9935 - val_loss: 0.0653 - val_accuracy: 0.8756\n",
            "Epoch 2/3\n",
            "1059/1059 [==============================] - 25s 24ms/step - loss: 0.0076 - accuracy: 0.9946 - val_loss: 0.0686 - val_accuracy: 0.8712\n",
            "Epoch 3/3\n",
            "1059/1059 [==============================] - 25s 24ms/step - loss: 0.0069 - accuracy: 0.9957 - val_loss: 0.0708 - val_accuracy: 0.8666\n"
          ]
        },
        {
          "output_type": "stream",
          "name": "stderr",
          "text": [
            "\u001b[32m[I 2022-04-14 08:22:40,280]\u001b[0m Trial 4 finished with value: 0.8785228371620178 and parameters: {'epochs': 3, 'batch_size': 35, 'embedding_dim': 38, 'units': 500, 'dropout': 0.2, 'n_neurons': 115}. Best is trial 2 with value: 0.8837706446647644.\u001b[0m\n"
          ]
        },
        {
          "output_type": "stream",
          "name": "stdout",
          "text": [
            "{'epochs': 4, 'batch_size': 42, 'embedding_dim': 20, 'units': 242, 'dropout': 0.4, 'n_neurons': 125}\n",
            "Epoch 1/4\n",
            "882/882 [==============================] - 14s 13ms/step - loss: 0.1255 - accuracy: 0.7393 - val_loss: 0.0677 - val_accuracy: 0.8812\n",
            "Epoch 2/4\n",
            "882/882 [==============================] - 10s 11ms/step - loss: 0.0606 - accuracy: 0.9046 - val_loss: 0.0581 - val_accuracy: 0.8914\n",
            "Epoch 3/4\n",
            "882/882 [==============================] - 10s 11ms/step - loss: 0.0416 - accuracy: 0.9411 - val_loss: 0.0543 - val_accuracy: 0.8984\n",
            "Epoch 4/4\n",
            "882/882 [==============================] - 10s 11ms/step - loss: 0.0341 - accuracy: 0.9548 - val_loss: 0.0581 - val_accuracy: 0.8870\n",
            "Epoch 1/4\n",
            "882/882 [==============================] - 10s 11ms/step - loss: 0.0277 - accuracy: 0.9647 - val_loss: 0.0628 - val_accuracy: 0.8771\n",
            "Epoch 2/4\n",
            "882/882 [==============================] - 10s 11ms/step - loss: 0.0243 - accuracy: 0.9697 - val_loss: 0.0593 - val_accuracy: 0.8873\n",
            "Epoch 3/4\n",
            "882/882 [==============================] - 10s 11ms/step - loss: 0.0224 - accuracy: 0.9719 - val_loss: 0.0631 - val_accuracy: 0.8766\n",
            "Epoch 4/4\n",
            "882/882 [==============================] - 10s 11ms/step - loss: 0.0215 - accuracy: 0.9731 - val_loss: 0.0637 - val_accuracy: 0.8768\n",
            "Epoch 1/4\n",
            "882/882 [==============================] - 10s 11ms/step - loss: 0.0201 - accuracy: 0.9746 - val_loss: 0.0640 - val_accuracy: 0.8785\n",
            "Epoch 2/4\n",
            "882/882 [==============================] - 10s 11ms/step - loss: 0.0190 - accuracy: 0.9767 - val_loss: 0.0621 - val_accuracy: 0.8824\n",
            "Epoch 3/4\n",
            "882/882 [==============================] - 10s 11ms/step - loss: 0.0175 - accuracy: 0.9791 - val_loss: 0.0633 - val_accuracy: 0.8771\n",
            "Epoch 4/4\n",
            "882/882 [==============================] - 10s 11ms/step - loss: 0.0162 - accuracy: 0.9821 - val_loss: 0.0675 - val_accuracy: 0.8710\n",
            "Epoch 1/4\n",
            "882/882 [==============================] - 10s 11ms/step - loss: 0.0144 - accuracy: 0.9860 - val_loss: 0.0696 - val_accuracy: 0.8676\n",
            "Epoch 2/4\n",
            "882/882 [==============================] - 10s 11ms/step - loss: 0.0131 - accuracy: 0.9882 - val_loss: 0.0679 - val_accuracy: 0.8710\n",
            "Epoch 3/4\n",
            "882/882 [==============================] - 10s 11ms/step - loss: 0.0118 - accuracy: 0.9905 - val_loss: 0.0667 - val_accuracy: 0.8710\n",
            "Epoch 4/4\n",
            "882/882 [==============================] - 10s 11ms/step - loss: 0.0117 - accuracy: 0.9907 - val_loss: 0.0690 - val_accuracy: 0.8700\n",
            "Epoch 1/4\n",
            "882/882 [==============================] - 10s 11ms/step - loss: 0.0107 - accuracy: 0.9927 - val_loss: 0.0696 - val_accuracy: 0.8683\n",
            "Epoch 2/4\n",
            "882/882 [==============================] - 10s 11ms/step - loss: 0.0100 - accuracy: 0.9935 - val_loss: 0.0704 - val_accuracy: 0.8659\n",
            "Epoch 3/4\n",
            "882/882 [==============================] - 10s 11ms/step - loss: 0.0096 - accuracy: 0.9941 - val_loss: 0.0693 - val_accuracy: 0.8686\n",
            "Epoch 4/4\n",
            "882/882 [==============================] - 10s 11ms/step - loss: 0.0091 - accuracy: 0.9949 - val_loss: 0.0732 - val_accuracy: 0.8625\n"
          ]
        },
        {
          "output_type": "stream",
          "name": "stderr",
          "text": [
            "\u001b[32m[I 2022-04-14 08:26:04,320]\u001b[0m Trial 5 finished with value: 0.8734693884849548 and parameters: {'epochs': 4, 'batch_size': 42, 'embedding_dim': 20, 'units': 242, 'dropout': 0.4, 'n_neurons': 125}. Best is trial 2 with value: 0.8837706446647644.\u001b[0m\n"
          ]
        },
        {
          "output_type": "stream",
          "name": "stdout",
          "text": [
            "{'epochs': 4, 'batch_size': 56, 'embedding_dim': 47, 'units': 167, 'dropout': 0.1, 'n_neurons': 122}\n",
            "Epoch 1/4\n",
            "662/662 [==============================] - 12s 13ms/step - loss: 0.1156 - accuracy: 0.7580 - val_loss: 0.0733 - val_accuracy: 0.8581\n",
            "Epoch 2/4\n",
            "662/662 [==============================] - 8s 12ms/step - loss: 0.0500 - accuracy: 0.9137 - val_loss: 0.0544 - val_accuracy: 0.8946\n",
            "Epoch 3/4\n",
            "662/662 [==============================] - 8s 11ms/step - loss: 0.0311 - accuracy: 0.9518 - val_loss: 0.0571 - val_accuracy: 0.8885\n",
            "Epoch 4/4\n",
            "662/662 [==============================] - 8s 11ms/step - loss: 0.0231 - accuracy: 0.9660 - val_loss: 0.0562 - val_accuracy: 0.8921\n",
            "Epoch 1/4\n",
            "662/662 [==============================] - 8s 11ms/step - loss: 0.0194 - accuracy: 0.9706 - val_loss: 0.0570 - val_accuracy: 0.8909\n",
            "Epoch 2/4\n",
            "662/662 [==============================] - 8s 12ms/step - loss: 0.0169 - accuracy: 0.9742 - val_loss: 0.0588 - val_accuracy: 0.8909\n",
            "Epoch 3/4\n",
            "662/662 [==============================] - 8s 12ms/step - loss: 0.0149 - accuracy: 0.9772 - val_loss: 0.0597 - val_accuracy: 0.8856\n",
            "Epoch 4/4\n",
            "662/662 [==============================] - 8s 12ms/step - loss: 0.0128 - accuracy: 0.9832 - val_loss: 0.0614 - val_accuracy: 0.8870\n",
            "Epoch 1/4\n",
            "662/662 [==============================] - 8s 12ms/step - loss: 0.0101 - accuracy: 0.9890 - val_loss: 0.0637 - val_accuracy: 0.8802\n",
            "Epoch 2/4\n",
            "662/662 [==============================] - 8s 12ms/step - loss: 0.0082 - accuracy: 0.9922 - val_loss: 0.0651 - val_accuracy: 0.8746\n",
            "Epoch 3/4\n",
            "662/662 [==============================] - 8s 12ms/step - loss: 0.0069 - accuracy: 0.9942 - val_loss: 0.0594 - val_accuracy: 0.8861\n",
            "Epoch 4/4\n",
            "662/662 [==============================] - 8s 12ms/step - loss: 0.0059 - accuracy: 0.9957 - val_loss: 0.0638 - val_accuracy: 0.8788\n",
            "Epoch 1/4\n",
            "662/662 [==============================] - 8s 12ms/step - loss: 0.0055 - accuracy: 0.9958 - val_loss: 0.0651 - val_accuracy: 0.8851\n",
            "Epoch 2/4\n",
            "662/662 [==============================] - 8s 11ms/step - loss: 0.0050 - accuracy: 0.9967 - val_loss: 0.0675 - val_accuracy: 0.8759\n",
            "Epoch 3/4\n",
            "662/662 [==============================] - 8s 12ms/step - loss: 0.0050 - accuracy: 0.9966 - val_loss: 0.0623 - val_accuracy: 0.8822\n",
            "Epoch 4/4\n",
            "662/662 [==============================] - 7s 11ms/step - loss: 0.0044 - accuracy: 0.9972 - val_loss: 0.0658 - val_accuracy: 0.8754\n",
            "Epoch 1/4\n",
            "662/662 [==============================] - 8s 12ms/step - loss: 0.0039 - accuracy: 0.9979 - val_loss: 0.0666 - val_accuracy: 0.8776\n",
            "Epoch 2/4\n",
            "662/662 [==============================] - 8s 12ms/step - loss: 0.0036 - accuracy: 0.9984 - val_loss: 0.0668 - val_accuracy: 0.8732\n",
            "Epoch 3/4\n",
            "662/662 [==============================] - 8s 12ms/step - loss: 0.0039 - accuracy: 0.9977 - val_loss: 0.0661 - val_accuracy: 0.8761\n",
            "Epoch 4/4\n",
            "662/662 [==============================] - 8s 12ms/step - loss: 0.0038 - accuracy: 0.9977 - val_loss: 0.0661 - val_accuracy: 0.8778\n"
          ]
        },
        {
          "output_type": "stream",
          "name": "stderr",
          "text": [
            "\u001b[32m[I 2022-04-14 08:28:54,678]\u001b[0m Trial 6 finished with value: 0.8822157502174377 and parameters: {'epochs': 4, 'batch_size': 56, 'embedding_dim': 47, 'units': 167, 'dropout': 0.1, 'n_neurons': 122}. Best is trial 2 with value: 0.8837706446647644.\u001b[0m\n"
          ]
        },
        {
          "output_type": "stream",
          "name": "stdout",
          "text": [
            "{'epochs': 3, 'batch_size': 19, 'embedding_dim': 45, 'units': 147, 'dropout': 0.2, 'n_neurons': 50}\n",
            "Epoch 1/3\n",
            "1950/1950 [==============================] - 22s 10ms/step - loss: 0.1131 - accuracy: 0.7756 - val_loss: 0.0638 - val_accuracy: 0.8846\n",
            "Epoch 2/3\n",
            "1950/1950 [==============================] - 18s 9ms/step - loss: 0.0545 - accuracy: 0.9120 - val_loss: 0.0575 - val_accuracy: 0.8880\n",
            "Epoch 3/3\n",
            "1950/1950 [==============================] - 18s 9ms/step - loss: 0.0362 - accuracy: 0.9477 - val_loss: 0.0599 - val_accuracy: 0.8856\n",
            "Epoch 1/3\n",
            "1950/1950 [==============================] - 18s 9ms/step - loss: 0.0286 - accuracy: 0.9621 - val_loss: 0.0552 - val_accuracy: 0.8948\n",
            "Epoch 2/3\n",
            "1950/1950 [==============================] - 18s 9ms/step - loss: 0.0253 - accuracy: 0.9672 - val_loss: 0.0591 - val_accuracy: 0.8890\n",
            "Epoch 3/3\n",
            "1950/1950 [==============================] - 18s 9ms/step - loss: 0.0220 - accuracy: 0.9723 - val_loss: 0.0568 - val_accuracy: 0.8929\n",
            "Epoch 1/3\n",
            "1950/1950 [==============================] - 18s 9ms/step - loss: 0.0192 - accuracy: 0.9770 - val_loss: 0.0649 - val_accuracy: 0.8800\n",
            "Epoch 2/3\n",
            "1950/1950 [==============================] - 18s 9ms/step - loss: 0.0173 - accuracy: 0.9802 - val_loss: 0.0637 - val_accuracy: 0.8795\n",
            "Epoch 3/3\n",
            "1950/1950 [==============================] - 18s 9ms/step - loss: 0.0150 - accuracy: 0.9844 - val_loss: 0.0629 - val_accuracy: 0.8814\n",
            "Epoch 1/3\n",
            "1950/1950 [==============================] - 18s 9ms/step - loss: 0.0134 - accuracy: 0.9873 - val_loss: 0.0621 - val_accuracy: 0.8812\n",
            "Epoch 2/3\n",
            "1950/1950 [==============================] - 18s 9ms/step - loss: 0.0119 - accuracy: 0.9905 - val_loss: 0.0672 - val_accuracy: 0.8749\n",
            "Epoch 3/3\n",
            "1950/1950 [==============================] - 18s 9ms/step - loss: 0.0111 - accuracy: 0.9920 - val_loss: 0.0666 - val_accuracy: 0.8712\n",
            "Epoch 1/3\n",
            "1950/1950 [==============================] - 18s 9ms/step - loss: 0.0105 - accuracy: 0.9925 - val_loss: 0.0652 - val_accuracy: 0.8768\n",
            "Epoch 2/3\n",
            "1950/1950 [==============================] - 18s 9ms/step - loss: 0.0097 - accuracy: 0.9940 - val_loss: 0.0635 - val_accuracy: 0.8797\n",
            "Epoch 3/3\n",
            "1950/1950 [==============================] - 18s 9ms/step - loss: 0.0091 - accuracy: 0.9944 - val_loss: 0.0689 - val_accuracy: 0.8720\n"
          ]
        },
        {
          "output_type": "stream",
          "name": "stderr",
          "text": [
            "\u001b[32m[I 2022-04-14 08:33:27,886]\u001b[0m Trial 7 finished with value: 0.8806122422218323 and parameters: {'epochs': 3, 'batch_size': 19, 'embedding_dim': 45, 'units': 147, 'dropout': 0.2, 'n_neurons': 50}. Best is trial 2 with value: 0.8837706446647644.\u001b[0m\n"
          ]
        },
        {
          "output_type": "stream",
          "name": "stdout",
          "text": [
            "{'epochs': 3, 'batch_size': 53, 'embedding_dim': 9, 'units': 163, 'dropout': 0.2, 'n_neurons': 103}\n",
            "Epoch 1/3\n",
            "699/699 [==============================] - 12s 12ms/step - loss: 0.1365 - accuracy: 0.6995 - val_loss: 0.0740 - val_accuracy: 0.8632\n",
            "Epoch 2/3\n",
            "699/699 [==============================] - 8s 11ms/step - loss: 0.0622 - accuracy: 0.8961 - val_loss: 0.0591 - val_accuracy: 0.8919\n",
            "Epoch 3/3\n",
            "699/699 [==============================] - 7s 11ms/step - loss: 0.0412 - accuracy: 0.9373 - val_loss: 0.0582 - val_accuracy: 0.8875\n",
            "Epoch 1/3\n",
            "699/699 [==============================] - 8s 11ms/step - loss: 0.0314 - accuracy: 0.9552 - val_loss: 0.0582 - val_accuracy: 0.8902\n",
            "Epoch 2/3\n",
            "699/699 [==============================] - 7s 10ms/step - loss: 0.0258 - accuracy: 0.9650 - val_loss: 0.0592 - val_accuracy: 0.8802\n",
            "Epoch 3/3\n",
            "699/699 [==============================] - 7s 10ms/step - loss: 0.0225 - accuracy: 0.9688 - val_loss: 0.0599 - val_accuracy: 0.8819\n",
            "Epoch 1/3\n",
            "699/699 [==============================] - 7s 11ms/step - loss: 0.0204 - accuracy: 0.9718 - val_loss: 0.0585 - val_accuracy: 0.8873\n",
            "Epoch 2/3\n",
            "699/699 [==============================] - 8s 11ms/step - loss: 0.0185 - accuracy: 0.9735 - val_loss: 0.0630 - val_accuracy: 0.8807\n",
            "Epoch 3/3\n",
            "699/699 [==============================] - 7s 11ms/step - loss: 0.0170 - accuracy: 0.9756 - val_loss: 0.0626 - val_accuracy: 0.8824\n",
            "Epoch 1/3\n",
            "699/699 [==============================] - 7s 11ms/step - loss: 0.0158 - accuracy: 0.9791 - val_loss: 0.0690 - val_accuracy: 0.8688\n",
            "Epoch 2/3\n",
            "699/699 [==============================] - 7s 11ms/step - loss: 0.0140 - accuracy: 0.9833 - val_loss: 0.0641 - val_accuracy: 0.8780\n",
            "Epoch 3/3\n",
            "699/699 [==============================] - 7s 10ms/step - loss: 0.0129 - accuracy: 0.9855 - val_loss: 0.0643 - val_accuracy: 0.8788\n",
            "Epoch 1/3\n",
            "699/699 [==============================] - 7s 11ms/step - loss: 0.0118 - accuracy: 0.9879 - val_loss: 0.0634 - val_accuracy: 0.8797\n",
            "Epoch 2/3\n",
            "699/699 [==============================] - 7s 11ms/step - loss: 0.0104 - accuracy: 0.9899 - val_loss: 0.0669 - val_accuracy: 0.8773\n",
            "Epoch 3/3\n",
            "699/699 [==============================] - 7s 11ms/step - loss: 0.0099 - accuracy: 0.9913 - val_loss: 0.0677 - val_accuracy: 0.8734\n"
          ]
        },
        {
          "output_type": "stream",
          "name": "stderr",
          "text": [
            "\u001b[32m[I 2022-04-14 08:35:43,802]\u001b[0m Trial 8 finished with value: 0.8808066129684449 and parameters: {'epochs': 3, 'batch_size': 53, 'embedding_dim': 9, 'units': 163, 'dropout': 0.2, 'n_neurons': 103}. Best is trial 2 with value: 0.8837706446647644.\u001b[0m\n"
          ]
        },
        {
          "output_type": "stream",
          "name": "stdout",
          "text": [
            "{'epochs': 2, 'batch_size': 18, 'embedding_dim': 11, 'units': 280, 'dropout': 0.2, 'n_neurons': 121}\n",
            "Epoch 1/2\n",
            "2058/2058 [==============================] - 25s 11ms/step - loss: 0.1177 - accuracy: 0.7552 - val_loss: 0.0699 - val_accuracy: 0.8741\n",
            "Epoch 2/2\n",
            "2058/2058 [==============================] - 21s 10ms/step - loss: 0.0573 - accuracy: 0.9037 - val_loss: 0.0609 - val_accuracy: 0.8810\n",
            "Epoch 1/2\n",
            "2058/2058 [==============================] - 21s 10ms/step - loss: 0.0394 - accuracy: 0.9392 - val_loss: 0.0578 - val_accuracy: 0.8870\n",
            "Epoch 2/2\n",
            "2058/2058 [==============================] - 21s 10ms/step - loss: 0.0302 - accuracy: 0.9558 - val_loss: 0.0554 - val_accuracy: 0.8916\n",
            "Epoch 1/2\n",
            "2058/2058 [==============================] - 21s 10ms/step - loss: 0.0253 - accuracy: 0.9645 - val_loss: 0.0601 - val_accuracy: 0.8856\n",
            "Epoch 2/2\n",
            "2058/2058 [==============================] - 22s 10ms/step - loss: 0.0231 - accuracy: 0.9682 - val_loss: 0.0590 - val_accuracy: 0.8851\n",
            "Epoch 1/2\n",
            "2058/2058 [==============================] - 21s 10ms/step - loss: 0.0203 - accuracy: 0.9716 - val_loss: 0.0614 - val_accuracy: 0.8802\n",
            "Epoch 2/2\n",
            "2058/2058 [==============================] - 22s 10ms/step - loss: 0.0186 - accuracy: 0.9732 - val_loss: 0.0609 - val_accuracy: 0.8865\n",
            "Epoch 1/2\n",
            "2058/2058 [==============================] - 21s 10ms/step - loss: 0.0171 - accuracy: 0.9759 - val_loss: 0.0610 - val_accuracy: 0.8810\n",
            "Epoch 2/2\n",
            "2058/2058 [==============================] - 22s 10ms/step - loss: 0.0158 - accuracy: 0.9784 - val_loss: 0.0619 - val_accuracy: 0.8822\n"
          ]
        },
        {
          "output_type": "stream",
          "name": "stderr",
          "text": [
            "\u001b[32m[I 2022-04-14 08:40:03,256]\u001b[0m Trial 9 finished with value: 0.8852769732475281 and parameters: {'epochs': 2, 'batch_size': 18, 'embedding_dim': 11, 'units': 280, 'dropout': 0.2, 'n_neurons': 121}. Best is trial 9 with value: 0.8852769732475281.\u001b[0m\n"
          ]
        },
        {
          "output_type": "stream",
          "name": "stdout",
          "text": [
            "{'epochs': 2, 'batch_size': 16, 'embedding_dim': 8, 'units': 369, 'dropout': 0.5, 'n_neurons': 41}\n",
            "Epoch 1/2\n",
            "2316/2316 [==============================] - 29s 11ms/step - loss: 0.1469 - accuracy: 0.6946 - val_loss: 0.0796 - val_accuracy: 0.8605\n",
            "Epoch 2/2\n",
            "2316/2316 [==============================] - 26s 11ms/step - loss: 0.0834 - accuracy: 0.8701 - val_loss: 0.0635 - val_accuracy: 0.8865\n",
            "Epoch 1/2\n",
            "2316/2316 [==============================] - 25s 11ms/step - loss: 0.0641 - accuracy: 0.9123 - val_loss: 0.0638 - val_accuracy: 0.8817\n",
            "Epoch 2/2\n",
            "2316/2316 [==============================] - 25s 11ms/step - loss: 0.0542 - accuracy: 0.9359 - val_loss: 0.0675 - val_accuracy: 0.8693\n",
            "Epoch 1/2\n",
            "2316/2316 [==============================] - 26s 11ms/step - loss: 0.0484 - accuracy: 0.9467 - val_loss: 0.0629 - val_accuracy: 0.8829\n",
            "Epoch 2/2\n",
            "2316/2316 [==============================] - 26s 11ms/step - loss: 0.0448 - accuracy: 0.9554 - val_loss: 0.0606 - val_accuracy: 0.8848\n",
            "Epoch 1/2\n",
            "2316/2316 [==============================] - 25s 11ms/step - loss: 0.0424 - accuracy: 0.9599 - val_loss: 0.0641 - val_accuracy: 0.8819\n",
            "Epoch 2/2\n",
            "2316/2316 [==============================] - 26s 11ms/step - loss: 0.0410 - accuracy: 0.9624 - val_loss: 0.0625 - val_accuracy: 0.8834\n",
            "Epoch 1/2\n",
            "2316/2316 [==============================] - 25s 11ms/step - loss: 0.0384 - accuracy: 0.9665 - val_loss: 0.0626 - val_accuracy: 0.8780\n",
            "Epoch 2/2\n",
            "2316/2316 [==============================] - 26s 11ms/step - loss: 0.0368 - accuracy: 0.9688 - val_loss: 0.0646 - val_accuracy: 0.8780\n"
          ]
        },
        {
          "output_type": "stream",
          "name": "stderr",
          "text": [
            "\u001b[32m[I 2022-04-14 08:44:25,481]\u001b[0m Trial 10 finished with value: 0.8804178833961487 and parameters: {'epochs': 2, 'batch_size': 16, 'embedding_dim': 8, 'units': 369, 'dropout': 0.5, 'n_neurons': 41}. Best is trial 9 with value: 0.8852769732475281.\u001b[0m\n"
          ]
        },
        {
          "output_type": "stream",
          "name": "stdout",
          "text": [
            "{'epochs': 2, 'batch_size': 49, 'embedding_dim': 24, 'units': 284, 'dropout': 0.1, 'n_neurons': 95}\n",
            "Epoch 1/2\n",
            "756/756 [==============================] - 14s 15ms/step - loss: 0.1186 - accuracy: 0.7478 - val_loss: 0.0666 - val_accuracy: 0.8732\n",
            "Epoch 2/2\n",
            "756/756 [==============================] - 10s 13ms/step - loss: 0.0525 - accuracy: 0.9091 - val_loss: 0.0533 - val_accuracy: 0.8989\n",
            "Epoch 1/2\n",
            "756/756 [==============================] - 10s 14ms/step - loss: 0.0336 - accuracy: 0.9480 - val_loss: 0.0571 - val_accuracy: 0.8907\n",
            "Epoch 2/2\n",
            "756/756 [==============================] - 10s 13ms/step - loss: 0.0254 - accuracy: 0.9620 - val_loss: 0.0553 - val_accuracy: 0.8924\n",
            "Epoch 1/2\n",
            "756/756 [==============================] - 10s 13ms/step - loss: 0.0212 - accuracy: 0.9687 - val_loss: 0.0572 - val_accuracy: 0.8865\n",
            "Epoch 2/2\n",
            "756/756 [==============================] - 10s 13ms/step - loss: 0.0182 - accuracy: 0.9732 - val_loss: 0.0624 - val_accuracy: 0.8844\n",
            "Epoch 1/2\n",
            "756/756 [==============================] - 10s 13ms/step - loss: 0.0166 - accuracy: 0.9744 - val_loss: 0.0586 - val_accuracy: 0.8897\n",
            "Epoch 2/2\n",
            "756/756 [==============================] - 10s 13ms/step - loss: 0.0151 - accuracy: 0.9772 - val_loss: 0.0631 - val_accuracy: 0.8810\n",
            "Epoch 1/2\n",
            "756/756 [==============================] - 10s 13ms/step - loss: 0.0132 - accuracy: 0.9833 - val_loss: 0.0640 - val_accuracy: 0.8831\n",
            "Epoch 2/2\n",
            "756/756 [==============================] - 10s 13ms/step - loss: 0.0108 - accuracy: 0.9881 - val_loss: 0.0642 - val_accuracy: 0.8810\n"
          ]
        },
        {
          "output_type": "stream",
          "name": "stderr",
          "text": [
            "\u001b[32m[I 2022-04-14 08:46:14,139]\u001b[0m Trial 11 finished with value: 0.8875121474266052 and parameters: {'epochs': 2, 'batch_size': 49, 'embedding_dim': 24, 'units': 284, 'dropout': 0.1, 'n_neurons': 95}. Best is trial 11 with value: 0.8875121474266052.\u001b[0m\n"
          ]
        },
        {
          "output_type": "stream",
          "name": "stdout",
          "text": [
            "{'epochs': 2, 'batch_size': 46, 'embedding_dim': 62, 'units': 300, 'dropout': 0.1, 'n_neurons': 104}\n",
            "Epoch 1/2\n",
            "806/806 [==============================] - 16s 16ms/step - loss: 0.1090 - accuracy: 0.7754 - val_loss: 0.0664 - val_accuracy: 0.8754\n",
            "Epoch 2/2\n",
            "806/806 [==============================] - 12s 15ms/step - loss: 0.0479 - accuracy: 0.9192 - val_loss: 0.0563 - val_accuracy: 0.8914\n",
            "Epoch 1/2\n",
            "806/806 [==============================] - 12s 14ms/step - loss: 0.0294 - accuracy: 0.9552 - val_loss: 0.0541 - val_accuracy: 0.8953\n",
            "Epoch 2/2\n",
            "806/806 [==============================] - 12s 14ms/step - loss: 0.0225 - accuracy: 0.9673 - val_loss: 0.0557 - val_accuracy: 0.8963\n",
            "Epoch 1/2\n",
            "806/806 [==============================] - 12s 14ms/step - loss: 0.0183 - accuracy: 0.9724 - val_loss: 0.0583 - val_accuracy: 0.8916\n",
            "Epoch 2/2\n",
            "806/806 [==============================] - 12s 14ms/step - loss: 0.0162 - accuracy: 0.9752 - val_loss: 0.0599 - val_accuracy: 0.8853\n",
            "Epoch 1/2\n",
            "806/806 [==============================] - 12s 14ms/step - loss: 0.0135 - accuracy: 0.9820 - val_loss: 0.0619 - val_accuracy: 0.8846\n",
            "Epoch 2/2\n",
            "806/806 [==============================] - 12s 14ms/step - loss: 0.0103 - accuracy: 0.9891 - val_loss: 0.0624 - val_accuracy: 0.8788\n",
            "Epoch 1/2\n",
            "806/806 [==============================] - 12s 14ms/step - loss: 0.0080 - accuracy: 0.9926 - val_loss: 0.0639 - val_accuracy: 0.8783\n",
            "Epoch 2/2\n",
            "806/806 [==============================] - 12s 14ms/step - loss: 0.0105 - accuracy: 0.9896 - val_loss: 0.0641 - val_accuracy: 0.8776\n"
          ]
        },
        {
          "output_type": "stream",
          "name": "stderr",
          "text": [
            "\u001b[32m[I 2022-04-14 08:48:35,227]\u001b[0m Trial 12 finished with value: 0.8858600735664368 and parameters: {'epochs': 2, 'batch_size': 46, 'embedding_dim': 62, 'units': 300, 'dropout': 0.1, 'n_neurons': 104}. Best is trial 11 with value: 0.8875121474266052.\u001b[0m\n"
          ]
        },
        {
          "output_type": "stream",
          "name": "stdout",
          "text": [
            "{'epochs': 2, 'batch_size': 48, 'embedding_dim': 64, 'units': 353, 'dropout': 0.1, 'n_neurons': 102}\n",
            "Epoch 1/2\n",
            "772/772 [==============================] - 19s 20ms/step - loss: 0.1109 - accuracy: 0.7722 - val_loss: 0.0631 - val_accuracy: 0.8846\n",
            "Epoch 2/2\n",
            "772/772 [==============================] - 15s 19ms/step - loss: 0.0480 - accuracy: 0.9186 - val_loss: 0.0592 - val_accuracy: 0.8861\n",
            "Epoch 1/2\n",
            "772/772 [==============================] - 15s 20ms/step - loss: 0.0303 - accuracy: 0.9546 - val_loss: 0.0560 - val_accuracy: 0.8929\n",
            "Epoch 2/2\n",
            "772/772 [==============================] - 15s 19ms/step - loss: 0.0225 - accuracy: 0.9674 - val_loss: 0.0554 - val_accuracy: 0.8972\n",
            "Epoch 1/2\n",
            "772/772 [==============================] - 15s 19ms/step - loss: 0.0193 - accuracy: 0.9709 - val_loss: 0.0626 - val_accuracy: 0.8795\n",
            "Epoch 2/2\n",
            "772/772 [==============================] - 15s 19ms/step - loss: 0.0162 - accuracy: 0.9768 - val_loss: 0.0589 - val_accuracy: 0.8875\n",
            "Epoch 1/2\n",
            "772/772 [==============================] - 15s 19ms/step - loss: 0.0130 - accuracy: 0.9835 - val_loss: 0.0659 - val_accuracy: 0.8715\n",
            "Epoch 2/2\n",
            "772/772 [==============================] - 15s 19ms/step - loss: 0.0106 - accuracy: 0.9881 - val_loss: 0.0642 - val_accuracy: 0.8739\n",
            "Epoch 1/2\n",
            "772/772 [==============================] - 15s 19ms/step - loss: 0.0082 - accuracy: 0.9927 - val_loss: 0.0630 - val_accuracy: 0.8778\n",
            "Epoch 2/2\n",
            "772/772 [==============================] - 15s 19ms/step - loss: 0.0072 - accuracy: 0.9941 - val_loss: 0.0690 - val_accuracy: 0.8688\n"
          ]
        },
        {
          "output_type": "stream",
          "name": "stderr",
          "text": [
            "\u001b[32m[I 2022-04-14 08:51:11,270]\u001b[0m Trial 13 finished with value: 0.8827016592025757 and parameters: {'epochs': 2, 'batch_size': 48, 'embedding_dim': 64, 'units': 353, 'dropout': 0.1, 'n_neurons': 102}. Best is trial 11 with value: 0.8875121474266052.\u001b[0m\n"
          ]
        },
        {
          "output_type": "stream",
          "name": "stdout",
          "text": [
            "{'epochs': 2, 'batch_size': 48, 'embedding_dim': 58, 'units': 419, 'dropout': 0.30000000000000004, 'n_neurons': 101}\n",
            "Epoch 1/2\n",
            "772/772 [==============================] - 21s 23ms/step - loss: 0.1181 - accuracy: 0.7593 - val_loss: 0.0644 - val_accuracy: 0.8858\n",
            "Epoch 2/2\n",
            "772/772 [==============================] - 17s 22ms/step - loss: 0.0565 - accuracy: 0.9097 - val_loss: 0.0571 - val_accuracy: 0.8963\n",
            "Epoch 1/2\n",
            "772/772 [==============================] - 17s 22ms/step - loss: 0.0369 - accuracy: 0.9507 - val_loss: 0.0738 - val_accuracy: 0.8474\n",
            "Epoch 2/2\n",
            "772/772 [==============================] - 17s 22ms/step - loss: 0.0295 - accuracy: 0.9629 - val_loss: 0.0605 - val_accuracy: 0.8844\n",
            "Epoch 1/2\n",
            "772/772 [==============================] - 17s 22ms/step - loss: 0.0246 - accuracy: 0.9680 - val_loss: 0.0583 - val_accuracy: 0.8848\n",
            "Epoch 2/2\n",
            "772/772 [==============================] - 17s 22ms/step - loss: 0.0216 - accuracy: 0.9720 - val_loss: 0.0600 - val_accuracy: 0.8868\n",
            "Epoch 1/2\n",
            "772/772 [==============================] - 17s 22ms/step - loss: 0.0201 - accuracy: 0.9752 - val_loss: 0.0628 - val_accuracy: 0.8827\n",
            "Epoch 2/2\n",
            "772/772 [==============================] - 17s 22ms/step - loss: 0.0174 - accuracy: 0.9796 - val_loss: 0.0643 - val_accuracy: 0.8807\n",
            "Epoch 1/2\n",
            "772/772 [==============================] - 17s 22ms/step - loss: 0.0150 - accuracy: 0.9849 - val_loss: 0.0655 - val_accuracy: 0.8720\n",
            "Epoch 2/2\n",
            "772/772 [==============================] - 17s 22ms/step - loss: 0.0130 - accuracy: 0.9880 - val_loss: 0.0639 - val_accuracy: 0.8795\n"
          ]
        },
        {
          "output_type": "stream",
          "name": "stderr",
          "text": [
            "\u001b[32m[I 2022-04-14 08:54:15,193]\u001b[0m Trial 14 finished with value: 0.8855199337005615 and parameters: {'epochs': 2, 'batch_size': 48, 'embedding_dim': 58, 'units': 419, 'dropout': 0.30000000000000004, 'n_neurons': 101}. Best is trial 11 with value: 0.8875121474266052.\u001b[0m\n"
          ]
        },
        {
          "output_type": "stream",
          "name": "stdout",
          "text": [
            "{'epochs': 3, 'batch_size': 32, 'embedding_dim': 33, 'units': 218, 'dropout': 0.1, 'n_neurons': 75}\n",
            "Epoch 1/3\n",
            "1158/1158 [==============================] - 17s 12ms/step - loss: 0.1108 - accuracy: 0.7717 - val_loss: 0.0644 - val_accuracy: 0.8749\n",
            "Epoch 2/3\n",
            "1158/1158 [==============================] - 13s 11ms/step - loss: 0.0509 - accuracy: 0.9124 - val_loss: 0.0574 - val_accuracy: 0.8897\n",
            "Epoch 3/3\n",
            "1158/1158 [==============================] - 12s 11ms/step - loss: 0.0321 - accuracy: 0.9506 - val_loss: 0.0567 - val_accuracy: 0.8865\n",
            "Epoch 1/3\n",
            "1158/1158 [==============================] - 13s 11ms/step - loss: 0.0268 - accuracy: 0.9624 - val_loss: 0.0721 - val_accuracy: 0.8739\n",
            "Epoch 2/3\n",
            "1158/1158 [==============================] - 13s 11ms/step - loss: 0.0261 - accuracy: 0.9638 - val_loss: 0.0603 - val_accuracy: 0.8827\n",
            "Epoch 3/3\n",
            "1158/1158 [==============================] - 13s 11ms/step - loss: 0.0211 - accuracy: 0.9702 - val_loss: 0.0603 - val_accuracy: 0.8839\n",
            "Epoch 1/3\n",
            "1158/1158 [==============================] - 13s 11ms/step - loss: 0.0196 - accuracy: 0.9723 - val_loss: 0.0611 - val_accuracy: 0.8836\n",
            "Epoch 2/3\n",
            "1158/1158 [==============================] - 13s 11ms/step - loss: 0.0160 - accuracy: 0.9775 - val_loss: 0.0633 - val_accuracy: 0.8783\n",
            "Epoch 3/3\n",
            "1158/1158 [==============================] - 13s 11ms/step - loss: 0.0139 - accuracy: 0.9825 - val_loss: 0.0621 - val_accuracy: 0.8814\n",
            "Epoch 1/3\n",
            "1158/1158 [==============================] - 13s 11ms/step - loss: 0.0119 - accuracy: 0.9856 - val_loss: 0.0652 - val_accuracy: 0.8749\n",
            "Epoch 2/3\n",
            "1158/1158 [==============================] - 13s 11ms/step - loss: 0.0107 - accuracy: 0.9881 - val_loss: 0.0644 - val_accuracy: 0.8795\n",
            "Epoch 3/3\n",
            "1158/1158 [==============================] - 13s 11ms/step - loss: 0.0091 - accuracy: 0.9906 - val_loss: 0.0644 - val_accuracy: 0.8795\n",
            "Epoch 1/3\n",
            "1158/1158 [==============================] - 13s 11ms/step - loss: 0.0082 - accuracy: 0.9925 - val_loss: 0.0643 - val_accuracy: 0.8785\n",
            "Epoch 2/3\n",
            "1158/1158 [==============================] - 13s 11ms/step - loss: 0.0072 - accuracy: 0.9940 - val_loss: 0.0644 - val_accuracy: 0.8766\n",
            "Epoch 3/3\n",
            "1158/1158 [==============================] - 13s 11ms/step - loss: 0.0069 - accuracy: 0.9942 - val_loss: 0.0664 - val_accuracy: 0.8756\n"
          ]
        },
        {
          "output_type": "stream",
          "name": "stderr",
          "text": [
            "\u001b[32m[I 2022-04-14 08:57:36,858]\u001b[0m Trial 15 finished with value: 0.8813897132873535 and parameters: {'epochs': 3, 'batch_size': 32, 'embedding_dim': 33, 'units': 218, 'dropout': 0.1, 'n_neurons': 75}. Best is trial 11 with value: 0.8875121474266052.\u001b[0m\n"
          ]
        },
        {
          "output_type": "stream",
          "name": "stdout",
          "text": [
            "{'epochs': 2, 'batch_size': 47, 'embedding_dim': 34, 'units': 299, 'dropout': 0.4, 'n_neurons': 95}\n",
            "Epoch 1/2\n",
            "789/789 [==============================] - 15s 15ms/step - loss: 0.1289 - accuracy: 0.7365 - val_loss: 0.0762 - val_accuracy: 0.8584\n",
            "Epoch 2/2\n",
            "789/789 [==============================] - 11s 14ms/step - loss: 0.0631 - accuracy: 0.9035 - val_loss: 0.0596 - val_accuracy: 0.8921\n",
            "Epoch 1/2\n",
            "789/789 [==============================] - 11s 14ms/step - loss: 0.0425 - accuracy: 0.9416 - val_loss: 0.0585 - val_accuracy: 0.8882\n",
            "Epoch 2/2\n",
            "789/789 [==============================] - 11s 14ms/step - loss: 0.0328 - accuracy: 0.9590 - val_loss: 0.0607 - val_accuracy: 0.8836\n",
            "Epoch 1/2\n",
            "789/789 [==============================] - 11s 14ms/step - loss: 0.0284 - accuracy: 0.9659 - val_loss: 0.0576 - val_accuracy: 0.8919\n",
            "Epoch 2/2\n",
            "789/789 [==============================] - 11s 14ms/step - loss: 0.0252 - accuracy: 0.9704 - val_loss: 0.0630 - val_accuracy: 0.8805\n",
            "Epoch 1/2\n",
            "789/789 [==============================] - 11s 14ms/step - loss: 0.0238 - accuracy: 0.9721 - val_loss: 0.0600 - val_accuracy: 0.8839\n",
            "Epoch 2/2\n",
            "789/789 [==============================] - 11s 14ms/step - loss: 0.0217 - accuracy: 0.9747 - val_loss: 0.0633 - val_accuracy: 0.8802\n",
            "Epoch 1/2\n",
            "789/789 [==============================] - 11s 14ms/step - loss: 0.0204 - accuracy: 0.9772 - val_loss: 0.0615 - val_accuracy: 0.8839\n",
            "Epoch 2/2\n",
            "789/789 [==============================] - 11s 14ms/step - loss: 0.0186 - accuracy: 0.9803 - val_loss: 0.0651 - val_accuracy: 0.8744\n"
          ]
        },
        {
          "output_type": "stream",
          "name": "stderr",
          "text": [
            "\u001b[32m[I 2022-04-14 08:59:34,377]\u001b[0m Trial 16 finished with value: 0.8821671485900879 and parameters: {'epochs': 2, 'batch_size': 47, 'embedding_dim': 34, 'units': 299, 'dropout': 0.4, 'n_neurons': 95}. Best is trial 11 with value: 0.8875121474266052.\u001b[0m\n"
          ]
        },
        {
          "output_type": "stream",
          "name": "stdout",
          "text": [
            "{'epochs': 3, 'batch_size': 59, 'embedding_dim': 18, 'units': 333, 'dropout': 0.1, 'n_neurons': 64}\n",
            "Epoch 1/3\n",
            "628/628 [==============================] - 16s 20ms/step - loss: 0.1363 - accuracy: 0.7000 - val_loss: 0.0742 - val_accuracy: 0.8630\n",
            "Epoch 2/3\n",
            "628/628 [==============================] - 11s 18ms/step - loss: 0.0605 - accuracy: 0.8994 - val_loss: 0.0644 - val_accuracy: 0.8768\n",
            "Epoch 3/3\n",
            "628/628 [==============================] - 11s 18ms/step - loss: 0.0399 - accuracy: 0.9393 - val_loss: 0.0603 - val_accuracy: 0.8827\n",
            "Epoch 1/3\n",
            "628/628 [==============================] - 11s 18ms/step - loss: 0.0300 - accuracy: 0.9583 - val_loss: 0.0570 - val_accuracy: 0.8953\n",
            "Epoch 2/3\n",
            "628/628 [==============================] - 11s 18ms/step - loss: 0.0249 - accuracy: 0.9666 - val_loss: 0.0605 - val_accuracy: 0.8851\n",
            "Epoch 3/3\n",
            "628/628 [==============================] - 11s 18ms/step - loss: 0.0213 - accuracy: 0.9708 - val_loss: 0.0603 - val_accuracy: 0.8856\n",
            "Epoch 1/3\n",
            "628/628 [==============================] - 11s 18ms/step - loss: 0.0194 - accuracy: 0.9734 - val_loss: 0.0617 - val_accuracy: 0.8841\n",
            "Epoch 2/3\n",
            "628/628 [==============================] - 11s 18ms/step - loss: 0.0178 - accuracy: 0.9752 - val_loss: 0.0714 - val_accuracy: 0.8710\n",
            "Epoch 3/3\n",
            "628/628 [==============================] - 11s 18ms/step - loss: 0.0163 - accuracy: 0.9789 - val_loss: 0.0649 - val_accuracy: 0.8797\n",
            "Epoch 1/3\n",
            "628/628 [==============================] - 11s 18ms/step - loss: 0.0137 - accuracy: 0.9842 - val_loss: 0.0658 - val_accuracy: 0.8754\n",
            "Epoch 2/3\n",
            "628/628 [==============================] - 11s 18ms/step - loss: 0.0119 - accuracy: 0.9868 - val_loss: 0.0649 - val_accuracy: 0.8741\n",
            "Epoch 3/3\n",
            "628/628 [==============================] - 11s 18ms/step - loss: 0.0109 - accuracy: 0.9889 - val_loss: 0.0728 - val_accuracy: 0.8610\n",
            "Epoch 1/3\n",
            "628/628 [==============================] - 11s 18ms/step - loss: 0.0096 - accuracy: 0.9909 - val_loss: 0.0693 - val_accuracy: 0.8737\n",
            "Epoch 2/3\n",
            "628/628 [==============================] - 11s 18ms/step - loss: 0.0089 - accuracy: 0.9922 - val_loss: 0.0687 - val_accuracy: 0.8712\n",
            "Epoch 3/3\n",
            "628/628 [==============================] - 11s 18ms/step - loss: 0.0083 - accuracy: 0.9932 - val_loss: 0.0728 - val_accuracy: 0.8683\n"
          ]
        },
        {
          "output_type": "stream",
          "name": "stderr",
          "text": [
            "\u001b[32m[I 2022-04-14 09:02:32,677]\u001b[0m Trial 17 finished with value: 0.8754616022109986 and parameters: {'epochs': 3, 'batch_size': 59, 'embedding_dim': 18, 'units': 333, 'dropout': 0.1, 'n_neurons': 64}. Best is trial 11 with value: 0.8875121474266052.\u001b[0m\n"
          ]
        },
        {
          "output_type": "stream",
          "name": "stdout",
          "text": [
            "{'epochs': 2, 'batch_size': 37, 'embedding_dim': 29, 'units': 230, 'dropout': 0.4, 'n_neurons': 108}\n",
            "Epoch 1/2\n",
            "1002/1002 [==============================] - 15s 12ms/step - loss: 0.1238 - accuracy: 0.7453 - val_loss: 0.0729 - val_accuracy: 0.8654\n",
            "Epoch 2/2\n",
            "1002/1002 [==============================] - 11s 11ms/step - loss: 0.0613 - accuracy: 0.9029 - val_loss: 0.0567 - val_accuracy: 0.8980\n",
            "Epoch 1/2\n",
            "1002/1002 [==============================] - 11s 11ms/step - loss: 0.0415 - accuracy: 0.9411 - val_loss: 0.0551 - val_accuracy: 0.8907\n",
            "Epoch 2/2\n",
            "1002/1002 [==============================] - 11s 11ms/step - loss: 0.0320 - accuracy: 0.9597 - val_loss: 0.0591 - val_accuracy: 0.8834\n",
            "Epoch 1/2\n",
            "1002/1002 [==============================] - 11s 11ms/step - loss: 0.0276 - accuracy: 0.9660 - val_loss: 0.0578 - val_accuracy: 0.8868\n",
            "Epoch 2/2\n",
            "1002/1002 [==============================] - 11s 11ms/step - loss: 0.0248 - accuracy: 0.9696 - val_loss: 0.0608 - val_accuracy: 0.8856\n",
            "Epoch 1/2\n",
            "1002/1002 [==============================] - 11s 11ms/step - loss: 0.0228 - accuracy: 0.9726 - val_loss: 0.0600 - val_accuracy: 0.8882\n",
            "Epoch 2/2\n",
            "1002/1002 [==============================] - 11s 11ms/step - loss: 0.0208 - accuracy: 0.9746 - val_loss: 0.0639 - val_accuracy: 0.8729\n",
            "Epoch 1/2\n",
            "1002/1002 [==============================] - 11s 11ms/step - loss: 0.0198 - accuracy: 0.9767 - val_loss: 0.0646 - val_accuracy: 0.8785\n",
            "Epoch 2/2\n",
            "1002/1002 [==============================] - 11s 11ms/step - loss: 0.0177 - accuracy: 0.9808 - val_loss: 0.0623 - val_accuracy: 0.8802\n"
          ]
        },
        {
          "output_type": "stream",
          "name": "stderr",
          "text": [
            "\u001b[32m[I 2022-04-14 09:04:49,459]\u001b[0m Trial 18 finished with value: 0.8840135931968689 and parameters: {'epochs': 2, 'batch_size': 37, 'embedding_dim': 29, 'units': 230, 'dropout': 0.4, 'n_neurons': 108}. Best is trial 11 with value: 0.8875121474266052.\u001b[0m\n"
          ]
        },
        {
          "output_type": "stream",
          "name": "stdout",
          "text": [
            "{'epochs': 3, 'batch_size': 26, 'embedding_dim': 55, 'units': 451, 'dropout': 0.30000000000000004, 'n_neurons': 89}\n",
            "Epoch 1/3\n",
            "1425/1425 [==============================] - 28s 17ms/step - loss: 0.1146 - accuracy: 0.7713 - val_loss: 0.0673 - val_accuracy: 0.8805\n",
            "Epoch 2/3\n",
            "1425/1425 [==============================] - 24s 17ms/step - loss: 0.0564 - accuracy: 0.9085 - val_loss: 0.0569 - val_accuracy: 0.8960\n",
            "Epoch 3/3\n",
            "1425/1425 [==============================] - 24s 17ms/step - loss: 0.0362 - accuracy: 0.9488 - val_loss: 0.0606 - val_accuracy: 0.8829\n",
            "Epoch 1/3\n",
            "1425/1425 [==============================] - 24s 17ms/step - loss: 0.0292 - accuracy: 0.9616 - val_loss: 0.0569 - val_accuracy: 0.8902\n",
            "Epoch 2/3\n",
            "1425/1425 [==============================] - 24s 17ms/step - loss: 0.0249 - accuracy: 0.9685 - val_loss: 0.0588 - val_accuracy: 0.8904\n",
            "Epoch 3/3\n",
            "1425/1425 [==============================] - 24s 17ms/step - loss: 0.0222 - accuracy: 0.9720 - val_loss: 0.0581 - val_accuracy: 0.8863\n",
            "Epoch 1/3\n",
            "1425/1425 [==============================] - 24s 17ms/step - loss: 0.0201 - accuracy: 0.9753 - val_loss: 0.0618 - val_accuracy: 0.8844\n",
            "Epoch 2/3\n",
            "1425/1425 [==============================] - 24s 17ms/step - loss: 0.0176 - accuracy: 0.9803 - val_loss: 0.0650 - val_accuracy: 0.8761\n",
            "Epoch 3/3\n",
            "1425/1425 [==============================] - 24s 17ms/step - loss: 0.0149 - accuracy: 0.9854 - val_loss: 0.0662 - val_accuracy: 0.8759\n",
            "Epoch 1/3\n",
            "1425/1425 [==============================] - 24s 17ms/step - loss: 0.0133 - accuracy: 0.9884 - val_loss: 0.0668 - val_accuracy: 0.8754\n",
            "Epoch 2/3\n",
            "1425/1425 [==============================] - 24s 17ms/step - loss: 0.0121 - accuracy: 0.9907 - val_loss: 0.0665 - val_accuracy: 0.8739\n",
            "Epoch 3/3\n",
            "1425/1425 [==============================] - 24s 17ms/step - loss: 0.0108 - accuracy: 0.9924 - val_loss: 0.0698 - val_accuracy: 0.8698\n",
            "Epoch 1/3\n",
            "1425/1425 [==============================] - 24s 17ms/step - loss: 0.0097 - accuracy: 0.9940 - val_loss: 0.0667 - val_accuracy: 0.8788\n",
            "Epoch 2/3\n",
            "1425/1425 [==============================] - 24s 17ms/step - loss: 0.0093 - accuracy: 0.9945 - val_loss: 0.0697 - val_accuracy: 0.8676\n",
            "Epoch 3/3\n",
            "1425/1425 [==============================] - 24s 17ms/step - loss: 0.0089 - accuracy: 0.9950 - val_loss: 0.0690 - val_accuracy: 0.8720\n"
          ]
        },
        {
          "output_type": "stream",
          "name": "stderr",
          "text": [
            "\u001b[32m[I 2022-04-14 09:10:58,285]\u001b[0m Trial 19 finished with value: 0.8773566603660583 and parameters: {'epochs': 3, 'batch_size': 26, 'embedding_dim': 55, 'units': 451, 'dropout': 0.30000000000000004, 'n_neurons': 89}. Best is trial 11 with value: 0.8875121474266052.\u001b[0m\n"
          ]
        },
        {
          "output_type": "stream",
          "name": "stdout",
          "text": [
            "{'epochs': 2, 'batch_size': 45, 'embedding_dim': 39, 'units': 318, 'dropout': 0.1, 'n_neurons': 66}\n",
            "Epoch 1/2\n",
            "824/824 [==============================] - 16s 15ms/step - loss: 0.1195 - accuracy: 0.7466 - val_loss: 0.0658 - val_accuracy: 0.8839\n",
            "Epoch 2/2\n",
            "824/824 [==============================] - 12s 14ms/step - loss: 0.0522 - accuracy: 0.9109 - val_loss: 0.0582 - val_accuracy: 0.8899\n",
            "Epoch 1/2\n",
            "824/824 [==============================] - 12s 14ms/step - loss: 0.0328 - accuracy: 0.9498 - val_loss: 0.0573 - val_accuracy: 0.8970\n",
            "Epoch 2/2\n",
            "824/824 [==============================] - 12s 14ms/step - loss: 0.0249 - accuracy: 0.9643 - val_loss: 0.0575 - val_accuracy: 0.8909\n",
            "Epoch 1/2\n",
            "824/824 [==============================] - 12s 15ms/step - loss: 0.0208 - accuracy: 0.9701 - val_loss: 0.0592 - val_accuracy: 0.8865\n",
            "Epoch 2/2\n",
            "824/824 [==============================] - 12s 15ms/step - loss: 0.0179 - accuracy: 0.9742 - val_loss: 0.0583 - val_accuracy: 0.8878\n",
            "Epoch 1/2\n",
            "824/824 [==============================] - 12s 14ms/step - loss: 0.0151 - accuracy: 0.9806 - val_loss: 0.0584 - val_accuracy: 0.8895\n",
            "Epoch 2/2\n",
            "824/824 [==============================] - 12s 14ms/step - loss: 0.0127 - accuracy: 0.9849 - val_loss: 0.0608 - val_accuracy: 0.8807\n",
            "Epoch 1/2\n",
            "824/824 [==============================] - 12s 14ms/step - loss: 0.0108 - accuracy: 0.9883 - val_loss: 0.0642 - val_accuracy: 0.8795\n",
            "Epoch 2/2\n",
            "824/824 [==============================] - 12s 14ms/step - loss: 0.0091 - accuracy: 0.9910 - val_loss: 0.0650 - val_accuracy: 0.8759\n"
          ]
        },
        {
          "output_type": "stream",
          "name": "stderr",
          "text": [
            "\u001b[32m[I 2022-04-14 09:13:20,532]\u001b[0m Trial 20 finished with value: 0.8850340008735657 and parameters: {'epochs': 2, 'batch_size': 45, 'embedding_dim': 39, 'units': 318, 'dropout': 0.1, 'n_neurons': 66}. Best is trial 11 with value: 0.8875121474266052.\u001b[0m\n"
          ]
        },
        {
          "output_type": "stream",
          "name": "stdout",
          "text": [
            "{'epochs': 2, 'batch_size': 50, 'embedding_dim': 64, 'units': 416, 'dropout': 0.5, 'n_neurons': 109}\n",
            "Epoch 1/2\n",
            "741/741 [==============================] - 20s 22ms/step - loss: 0.1288 - accuracy: 0.7400 - val_loss: 0.0710 - val_accuracy: 0.8759\n",
            "Epoch 2/2\n",
            "741/741 [==============================] - 16s 22ms/step - loss: 0.0661 - accuracy: 0.9004 - val_loss: 0.0582 - val_accuracy: 0.8899\n",
            "Epoch 1/2\n",
            "741/741 [==============================] - 16s 21ms/step - loss: 0.0453 - accuracy: 0.9404 - val_loss: 0.0615 - val_accuracy: 0.8865\n",
            "Epoch 2/2\n",
            "741/741 [==============================] - 16s 21ms/step - loss: 0.0357 - accuracy: 0.9574 - val_loss: 0.0593 - val_accuracy: 0.8907\n",
            "Epoch 1/2\n",
            "741/741 [==============================] - 16s 21ms/step - loss: 0.0301 - accuracy: 0.9660 - val_loss: 0.0649 - val_accuracy: 0.8768\n",
            "Epoch 2/2\n",
            "741/741 [==============================] - 16s 21ms/step - loss: 0.0275 - accuracy: 0.9701 - val_loss: 0.0632 - val_accuracy: 0.8780\n",
            "Epoch 1/2\n",
            "741/741 [==============================] - 16s 21ms/step - loss: 0.0248 - accuracy: 0.9732 - val_loss: 0.0629 - val_accuracy: 0.8797\n",
            "Epoch 2/2\n",
            "741/741 [==============================] - 16s 21ms/step - loss: 0.0234 - accuracy: 0.9751 - val_loss: 0.0630 - val_accuracy: 0.8783\n",
            "Epoch 1/2\n",
            "741/741 [==============================] - 16s 21ms/step - loss: 0.0215 - accuracy: 0.9783 - val_loss: 0.0639 - val_accuracy: 0.8788\n",
            "Epoch 2/2\n",
            "741/741 [==============================] - 16s 21ms/step - loss: 0.0195 - accuracy: 0.9821 - val_loss: 0.0630 - val_accuracy: 0.8790\n"
          ]
        },
        {
          "output_type": "stream",
          "name": "stderr",
          "text": [
            "\u001b[32m[I 2022-04-14 09:16:05,454]\u001b[0m Trial 21 finished with value: 0.8831875562667847 and parameters: {'epochs': 2, 'batch_size': 50, 'embedding_dim': 64, 'units': 416, 'dropout': 0.5, 'n_neurons': 109}. Best is trial 11 with value: 0.8875121474266052.\u001b[0m\n"
          ]
        },
        {
          "output_type": "stream",
          "name": "stdout",
          "text": [
            "{'epochs': 2, 'batch_size': 44, 'embedding_dim': 57, 'units': 451, 'dropout': 0.30000000000000004, 'n_neurons': 95}\n",
            "Epoch 1/2\n",
            "842/842 [==============================] - 24s 25ms/step - loss: 0.1194 - accuracy: 0.7591 - val_loss: 0.0687 - val_accuracy: 0.8807\n",
            "Epoch 2/2\n",
            "842/842 [==============================] - 21s 25ms/step - loss: 0.0585 - accuracy: 0.9082 - val_loss: 0.0630 - val_accuracy: 0.8844\n",
            "Epoch 1/2\n",
            "842/842 [==============================] - 21s 24ms/step - loss: 0.0387 - accuracy: 0.9470 - val_loss: 0.0590 - val_accuracy: 0.8890\n",
            "Epoch 2/2\n",
            "842/842 [==============================] - 20s 24ms/step - loss: 0.0298 - accuracy: 0.9623 - val_loss: 0.0582 - val_accuracy: 0.8931\n",
            "Epoch 1/2\n",
            "842/842 [==============================] - 21s 24ms/step - loss: 0.0252 - accuracy: 0.9689 - val_loss: 0.0649 - val_accuracy: 0.8780\n",
            "Epoch 2/2\n",
            "842/842 [==============================] - 21s 24ms/step - loss: 0.0228 - accuracy: 0.9723 - val_loss: 0.0599 - val_accuracy: 0.8853\n",
            "Epoch 1/2\n",
            "842/842 [==============================] - 21s 24ms/step - loss: 0.0211 - accuracy: 0.9741 - val_loss: 0.0620 - val_accuracy: 0.8819\n",
            "Epoch 2/2\n",
            "842/842 [==============================] - 20s 24ms/step - loss: 0.0176 - accuracy: 0.9804 - val_loss: 0.0646 - val_accuracy: 0.8783\n",
            "Epoch 1/2\n",
            "842/842 [==============================] - 20s 24ms/step - loss: 0.0157 - accuracy: 0.9845 - val_loss: 0.0639 - val_accuracy: 0.8783\n",
            "Epoch 2/2\n",
            "842/842 [==============================] - 20s 24ms/step - loss: 0.0139 - accuracy: 0.9880 - val_loss: 0.0621 - val_accuracy: 0.8812\n"
          ]
        },
        {
          "output_type": "stream",
          "name": "stderr",
          "text": [
            "\u001b[32m[I 2022-04-14 09:19:37,294]\u001b[0m Trial 22 finished with value: 0.8844509124755859 and parameters: {'epochs': 2, 'batch_size': 44, 'embedding_dim': 57, 'units': 451, 'dropout': 0.30000000000000004, 'n_neurons': 95}. Best is trial 11 with value: 0.8875121474266052.\u001b[0m\n"
          ]
        },
        {
          "output_type": "stream",
          "name": "stdout",
          "text": [
            "{'epochs': 2, 'batch_size': 50, 'embedding_dim': 57, 'units': 260, 'dropout': 0.30000000000000004, 'n_neurons': 99}\n",
            "Epoch 1/2\n",
            "741/741 [==============================] - 14s 15ms/step - loss: 0.1205 - accuracy: 0.7552 - val_loss: 0.0673 - val_accuracy: 0.8761\n",
            "Epoch 2/2\n",
            "741/741 [==============================] - 10s 14ms/step - loss: 0.0567 - accuracy: 0.9102 - val_loss: 0.0563 - val_accuracy: 0.8970\n",
            "Epoch 1/2\n",
            "741/741 [==============================] - 10s 14ms/step - loss: 0.0373 - accuracy: 0.9491 - val_loss: 0.0584 - val_accuracy: 0.8844\n",
            "Epoch 2/2\n",
            "741/741 [==============================] - 10s 14ms/step - loss: 0.0286 - accuracy: 0.9631 - val_loss: 0.0617 - val_accuracy: 0.8795\n",
            "Epoch 1/2\n",
            "741/741 [==============================] - 10s 14ms/step - loss: 0.0240 - accuracy: 0.9699 - val_loss: 0.0622 - val_accuracy: 0.8797\n",
            "Epoch 2/2\n",
            "741/741 [==============================] - 10s 14ms/step - loss: 0.0213 - accuracy: 0.9729 - val_loss: 0.0609 - val_accuracy: 0.8814\n",
            "Epoch 1/2\n",
            "741/741 [==============================] - 10s 14ms/step - loss: 0.0191 - accuracy: 0.9756 - val_loss: 0.0627 - val_accuracy: 0.8766\n",
            "Epoch 2/2\n",
            "741/741 [==============================] - 10s 14ms/step - loss: 0.0177 - accuracy: 0.9798 - val_loss: 0.0622 - val_accuracy: 0.8807\n",
            "Epoch 1/2\n",
            "741/741 [==============================] - 10s 14ms/step - loss: 0.0150 - accuracy: 0.9844 - val_loss: 0.0648 - val_accuracy: 0.8778\n",
            "Epoch 2/2\n",
            "741/741 [==============================] - 10s 14ms/step - loss: 0.0133 - accuracy: 0.9868 - val_loss: 0.0629 - val_accuracy: 0.8795\n"
          ]
        },
        {
          "output_type": "stream",
          "name": "stderr",
          "text": [
            "\u001b[32m[I 2022-04-14 09:21:26,526]\u001b[0m Trial 23 finished with value: 0.8836248874664306 and parameters: {'epochs': 2, 'batch_size': 50, 'embedding_dim': 57, 'units': 260, 'dropout': 0.30000000000000004, 'n_neurons': 99}. Best is trial 11 with value: 0.8875121474266052.\u001b[0m\n"
          ]
        },
        {
          "output_type": "stream",
          "name": "stdout",
          "text": [
            "{'epochs': 2, 'batch_size': 60, 'embedding_dim': 53, 'units': 511, 'dropout': 0.1, 'n_neurons': 114}\n",
            "Epoch 1/2\n",
            "618/618 [==============================] - 22s 31ms/step - loss: 0.1157 - accuracy: 0.7569 - val_loss: 0.0694 - val_accuracy: 0.8698\n",
            "Epoch 2/2\n",
            "618/618 [==============================] - 18s 30ms/step - loss: 0.0506 - accuracy: 0.9136 - val_loss: 0.0553 - val_accuracy: 0.9009\n",
            "Epoch 1/2\n",
            "618/618 [==============================] - 18s 30ms/step - loss: 0.0323 - accuracy: 0.9511 - val_loss: 0.0567 - val_accuracy: 0.8938\n",
            "Epoch 2/2\n",
            "618/618 [==============================] - 18s 30ms/step - loss: 0.0243 - accuracy: 0.9646 - val_loss: 0.0565 - val_accuracy: 0.8931\n",
            "Epoch 1/2\n",
            "618/618 [==============================] - 18s 30ms/step - loss: 0.0202 - accuracy: 0.9707 - val_loss: 0.0557 - val_accuracy: 0.8946\n",
            "Epoch 2/2\n",
            "618/618 [==============================] - 19s 30ms/step - loss: 0.0177 - accuracy: 0.9735 - val_loss: 0.0580 - val_accuracy: 0.8914\n",
            "Epoch 1/2\n",
            "618/618 [==============================] - 18s 30ms/step - loss: 0.0167 - accuracy: 0.9755 - val_loss: 0.0600 - val_accuracy: 0.8887\n",
            "Epoch 2/2\n",
            "618/618 [==============================] - 18s 30ms/step - loss: 0.0140 - accuracy: 0.9798 - val_loss: 0.0614 - val_accuracy: 0.8856\n",
            "Epoch 1/2\n",
            "618/618 [==============================] - 18s 30ms/step - loss: 0.0115 - accuracy: 0.9862 - val_loss: 0.0634 - val_accuracy: 0.8776\n",
            "Epoch 2/2\n",
            "618/618 [==============================] - 18s 30ms/step - loss: 0.0095 - accuracy: 0.9900 - val_loss: 0.0636 - val_accuracy: 0.8819\n"
          ]
        },
        {
          "output_type": "stream",
          "name": "stderr",
          "text": [
            "\u001b[32m[I 2022-04-14 09:24:41,808]\u001b[0m Trial 24 finished with value: 0.8905733704566956 and parameters: {'epochs': 2, 'batch_size': 60, 'embedding_dim': 53, 'units': 511, 'dropout': 0.1, 'n_neurons': 114}. Best is trial 24 with value: 0.8905733704566956.\u001b[0m\n"
          ]
        },
        {
          "output_type": "stream",
          "name": "stdout",
          "text": [
            "{'epochs': 3, 'batch_size': 64, 'embedding_dim': 52, 'units': 491, 'dropout': 0.1, 'n_neurons': 112}\n",
            "Epoch 1/3\n",
            "579/579 [==============================] - 22s 31ms/step - loss: 0.1169 - accuracy: 0.7552 - val_loss: 0.0631 - val_accuracy: 0.8873\n",
            "Epoch 2/3\n",
            "579/579 [==============================] - 17s 30ms/step - loss: 0.0506 - accuracy: 0.9144 - val_loss: 0.0560 - val_accuracy: 0.9006\n",
            "Epoch 3/3\n",
            "579/579 [==============================] - 17s 30ms/step - loss: 0.0319 - accuracy: 0.9516 - val_loss: 0.0584 - val_accuracy: 0.8873\n",
            "Epoch 1/3\n",
            "579/579 [==============================] - 17s 30ms/step - loss: 0.0242 - accuracy: 0.9646 - val_loss: 0.0572 - val_accuracy: 0.8892\n",
            "Epoch 2/3\n",
            "579/579 [==============================] - 17s 30ms/step - loss: 0.0208 - accuracy: 0.9694 - val_loss: 0.0605 - val_accuracy: 0.8827\n",
            "Epoch 3/3\n",
            "579/579 [==============================] - 17s 30ms/step - loss: 0.0177 - accuracy: 0.9741 - val_loss: 0.0627 - val_accuracy: 0.8776\n",
            "Epoch 1/3\n",
            "579/579 [==============================] - 17s 30ms/step - loss: 0.0156 - accuracy: 0.9789 - val_loss: 0.0620 - val_accuracy: 0.8810\n",
            "Epoch 2/3\n",
            "579/579 [==============================] - 17s 30ms/step - loss: 0.0132 - accuracy: 0.9833 - val_loss: 0.0641 - val_accuracy: 0.8785\n",
            "Epoch 3/3\n",
            "579/579 [==============================] - 17s 30ms/step - loss: 0.0109 - accuracy: 0.9876 - val_loss: 0.0673 - val_accuracy: 0.8744\n",
            "Epoch 1/3\n",
            "579/579 [==============================] - 17s 30ms/step - loss: 0.0088 - accuracy: 0.9910 - val_loss: 0.0643 - val_accuracy: 0.8771\n",
            "Epoch 2/3\n",
            "579/579 [==============================] - 17s 30ms/step - loss: 0.0078 - accuracy: 0.9927 - val_loss: 0.0702 - val_accuracy: 0.8664\n",
            "Epoch 3/3\n",
            "579/579 [==============================] - 17s 30ms/step - loss: 0.0073 - accuracy: 0.9929 - val_loss: 0.0682 - val_accuracy: 0.8703\n",
            "Epoch 1/3\n",
            "579/579 [==============================] - 17s 30ms/step - loss: 0.0064 - accuracy: 0.9945 - val_loss: 0.0670 - val_accuracy: 0.8771\n",
            "Epoch 2/3\n",
            "579/579 [==============================] - 17s 30ms/step - loss: 0.0054 - accuracy: 0.9960 - val_loss: 0.0671 - val_accuracy: 0.8773\n",
            "Epoch 3/3\n",
            "579/579 [==============================] - 17s 30ms/step - loss: 0.0052 - accuracy: 0.9963 - val_loss: 0.0681 - val_accuracy: 0.8759\n"
          ]
        },
        {
          "output_type": "stream",
          "name": "stderr",
          "text": [
            "\u001b[32m[I 2022-04-14 09:29:37,816]\u001b[0m Trial 25 finished with value: 0.877065110206604 and parameters: {'epochs': 3, 'batch_size': 64, 'embedding_dim': 52, 'units': 491, 'dropout': 0.1, 'n_neurons': 112}. Best is trial 24 with value: 0.8905733704566956.\u001b[0m\n"
          ]
        },
        {
          "output_type": "stream",
          "name": "stdout",
          "text": [
            "{'epochs': 2, 'batch_size': 60, 'embedding_dim': 41, 'units': 198, 'dropout': 0.1, 'n_neurons': 118}\n",
            "Epoch 1/2\n",
            "618/618 [==============================] - 12s 13ms/step - loss: 0.1187 - accuracy: 0.7471 - val_loss: 0.0646 - val_accuracy: 0.8824\n",
            "Epoch 2/2\n",
            "618/618 [==============================] - 7s 12ms/step - loss: 0.0505 - accuracy: 0.9125 - val_loss: 0.0569 - val_accuracy: 0.8953\n",
            "Epoch 1/2\n",
            "618/618 [==============================] - 7s 12ms/step - loss: 0.0310 - accuracy: 0.9520 - val_loss: 0.0556 - val_accuracy: 0.8936\n",
            "Epoch 2/2\n",
            "618/618 [==============================] - 7s 12ms/step - loss: 0.0238 - accuracy: 0.9649 - val_loss: 0.0577 - val_accuracy: 0.8892\n",
            "Epoch 1/2\n",
            "618/618 [==============================] - 8s 12ms/step - loss: 0.0190 - accuracy: 0.9713 - val_loss: 0.0603 - val_accuracy: 0.8807\n",
            "Epoch 2/2\n",
            "618/618 [==============================] - 7s 12ms/step - loss: 0.0166 - accuracy: 0.9750 - val_loss: 0.0598 - val_accuracy: 0.8827\n",
            "Epoch 1/2\n",
            "618/618 [==============================] - 7s 12ms/step - loss: 0.0137 - accuracy: 0.9816 - val_loss: 0.0610 - val_accuracy: 0.8868\n",
            "Epoch 2/2\n",
            "618/618 [==============================] - 8s 12ms/step - loss: 0.0112 - accuracy: 0.9873 - val_loss: 0.0642 - val_accuracy: 0.8766\n",
            "Epoch 1/2\n",
            "618/618 [==============================] - 7s 12ms/step - loss: 0.0094 - accuracy: 0.9907 - val_loss: 0.0658 - val_accuracy: 0.8800\n",
            "Epoch 2/2\n",
            "618/618 [==============================] - 7s 12ms/step - loss: 0.0075 - accuracy: 0.9934 - val_loss: 0.0644 - val_accuracy: 0.8817\n"
          ]
        },
        {
          "output_type": "stream",
          "name": "stderr",
          "text": [
            "\u001b[32m[I 2022-04-14 09:31:04,924]\u001b[0m Trial 26 finished with value: 0.8850826144218444 and parameters: {'epochs': 2, 'batch_size': 60, 'embedding_dim': 41, 'units': 198, 'dropout': 0.1, 'n_neurons': 118}. Best is trial 24 with value: 0.8905733704566956.\u001b[0m\n"
          ]
        },
        {
          "output_type": "stream",
          "name": "stdout",
          "text": [
            "{'epochs': 2, 'batch_size': 53, 'embedding_dim': 61, 'units': 307, 'dropout': 0.2, 'n_neurons': 126}\n",
            "Epoch 1/2\n",
            "699/699 [==============================] - 15s 17ms/step - loss: 0.1151 - accuracy: 0.7612 - val_loss: 0.0649 - val_accuracy: 0.8790\n",
            "Epoch 2/2\n",
            "699/699 [==============================] - 11s 16ms/step - loss: 0.0513 - accuracy: 0.9149 - val_loss: 0.0562 - val_accuracy: 0.8907\n",
            "Epoch 1/2\n",
            "699/699 [==============================] - 11s 16ms/step - loss: 0.0328 - accuracy: 0.9519 - val_loss: 0.0541 - val_accuracy: 0.8997\n",
            "Epoch 2/2\n",
            "699/699 [==============================] - 11s 16ms/step - loss: 0.0253 - accuracy: 0.9653 - val_loss: 0.0552 - val_accuracy: 0.8987\n",
            "Epoch 1/2\n",
            "699/699 [==============================] - 11s 16ms/step - loss: 0.0212 - accuracy: 0.9710 - val_loss: 0.0577 - val_accuracy: 0.8902\n",
            "Epoch 2/2\n",
            "699/699 [==============================] - 11s 16ms/step - loss: 0.0184 - accuracy: 0.9736 - val_loss: 0.0589 - val_accuracy: 0.8880\n",
            "Epoch 1/2\n",
            "699/699 [==============================] - 11s 16ms/step - loss: 0.0157 - accuracy: 0.9798 - val_loss: 0.0641 - val_accuracy: 0.8814\n",
            "Epoch 2/2\n",
            "699/699 [==============================] - 11s 16ms/step - loss: 0.0133 - accuracy: 0.9847 - val_loss: 0.0609 - val_accuracy: 0.8851\n",
            "Epoch 1/2\n",
            "699/699 [==============================] - 11s 16ms/step - loss: 0.0112 - accuracy: 0.9883 - val_loss: 0.0645 - val_accuracy: 0.8780\n",
            "Epoch 2/2\n",
            "699/699 [==============================] - 11s 16ms/step - loss: 0.0096 - accuracy: 0.9913 - val_loss: 0.0649 - val_accuracy: 0.8790\n"
          ]
        },
        {
          "output_type": "stream",
          "name": "stderr",
          "text": [
            "\u001b[32m[I 2022-04-14 09:33:01,412]\u001b[0m Trial 27 finished with value: 0.8882895946502686 and parameters: {'epochs': 2, 'batch_size': 53, 'embedding_dim': 61, 'units': 307, 'dropout': 0.2, 'n_neurons': 126}. Best is trial 24 with value: 0.8905733704566956.\u001b[0m\n"
          ]
        },
        {
          "output_type": "stream",
          "name": "stdout",
          "text": [
            "{'epochs': 3, 'batch_size': 57, 'embedding_dim': 16, 'units': 347, 'dropout': 0.2, 'n_neurons': 128}\n",
            "Epoch 1/3\n",
            "650/650 [==============================] - 16s 20ms/step - loss: 0.1232 - accuracy: 0.7376 - val_loss: 0.0657 - val_accuracy: 0.8778\n",
            "Epoch 2/3\n",
            "650/650 [==============================] - 12s 19ms/step - loss: 0.0565 - accuracy: 0.9046 - val_loss: 0.0579 - val_accuracy: 0.8858\n",
            "Epoch 3/3\n",
            "650/650 [==============================] - 12s 19ms/step - loss: 0.0372 - accuracy: 0.9446 - val_loss: 0.0578 - val_accuracy: 0.8890\n",
            "Epoch 1/3\n",
            "650/650 [==============================] - 12s 19ms/step - loss: 0.0283 - accuracy: 0.9611 - val_loss: 0.0560 - val_accuracy: 0.8943\n",
            "Epoch 2/3\n",
            "650/650 [==============================] - 12s 19ms/step - loss: 0.0238 - accuracy: 0.9677 - val_loss: 0.0576 - val_accuracy: 0.8933\n",
            "Epoch 3/3\n",
            "650/650 [==============================] - 12s 19ms/step - loss: 0.0212 - accuracy: 0.9708 - val_loss: 0.0605 - val_accuracy: 0.8817\n",
            "Epoch 1/3\n",
            "650/650 [==============================] - 12s 19ms/step - loss: 0.0187 - accuracy: 0.9733 - val_loss: 0.0635 - val_accuracy: 0.8783\n",
            "Epoch 2/3\n",
            "650/650 [==============================] - 12s 19ms/step - loss: 0.0175 - accuracy: 0.9750 - val_loss: 0.0608 - val_accuracy: 0.8858\n",
            "Epoch 3/3\n",
            "650/650 [==============================] - 12s 19ms/step - loss: 0.0162 - accuracy: 0.9780 - val_loss: 0.0688 - val_accuracy: 0.8700\n",
            "Epoch 1/3\n",
            "650/650 [==============================] - 12s 19ms/step - loss: 0.0143 - accuracy: 0.9822 - val_loss: 0.0663 - val_accuracy: 0.8727\n",
            "Epoch 2/3\n",
            "650/650 [==============================] - 12s 19ms/step - loss: 0.0122 - accuracy: 0.9862 - val_loss: 0.0685 - val_accuracy: 0.8722\n",
            "Epoch 3/3\n",
            "650/650 [==============================] - 12s 19ms/step - loss: 0.0105 - accuracy: 0.9887 - val_loss: 0.0689 - val_accuracy: 0.8700\n",
            "Epoch 1/3\n",
            "650/650 [==============================] - 12s 19ms/step - loss: 0.0094 - accuracy: 0.9913 - val_loss: 0.0688 - val_accuracy: 0.8666\n",
            "Epoch 2/3\n",
            "650/650 [==============================] - 12s 19ms/step - loss: 0.0088 - accuracy: 0.9925 - val_loss: 0.0653 - val_accuracy: 0.8749\n",
            "Epoch 3/3\n",
            "650/650 [==============================] - 12s 19ms/step - loss: 0.0077 - accuracy: 0.9938 - val_loss: 0.0682 - val_accuracy: 0.8763\n"
          ]
        },
        {
          "output_type": "stream",
          "name": "stderr",
          "text": [
            "\u001b[32m[I 2022-04-14 09:36:19,167]\u001b[0m Trial 28 finished with value: 0.8774052619934082 and parameters: {'epochs': 3, 'batch_size': 57, 'embedding_dim': 16, 'units': 347, 'dropout': 0.2, 'n_neurons': 128}. Best is trial 24 with value: 0.8905733704566956.\u001b[0m\n"
          ]
        },
        {
          "output_type": "stream",
          "name": "stdout",
          "text": [
            "{'epochs': 2, 'batch_size': 60, 'embedding_dim': 43, 'units': 380, 'dropout': 0.2, 'n_neurons': 88}\n",
            "Epoch 1/2\n",
            "618/618 [==============================] - 17s 22ms/step - loss: 0.1190 - accuracy: 0.7565 - val_loss: 0.0666 - val_accuracy: 0.8807\n",
            "Epoch 2/2\n",
            "618/618 [==============================] - 13s 21ms/step - loss: 0.0547 - accuracy: 0.9100 - val_loss: 0.0562 - val_accuracy: 0.8938\n",
            "Epoch 1/2\n",
            "618/618 [==============================] - 13s 21ms/step - loss: 0.0360 - accuracy: 0.9485 - val_loss: 0.0581 - val_accuracy: 0.8868\n",
            "Epoch 2/2\n",
            "618/618 [==============================] - 13s 21ms/step - loss: 0.0277 - accuracy: 0.9622 - val_loss: 0.0640 - val_accuracy: 0.8807\n",
            "Epoch 1/2\n",
            "618/618 [==============================] - 13s 21ms/step - loss: 0.0229 - accuracy: 0.9693 - val_loss: 0.0584 - val_accuracy: 0.8841\n",
            "Epoch 2/2\n",
            "618/618 [==============================] - 13s 20ms/step - loss: 0.0200 - accuracy: 0.9721 - val_loss: 0.0596 - val_accuracy: 0.8863\n",
            "Epoch 1/2\n",
            "618/618 [==============================] - 13s 20ms/step - loss: 0.0184 - accuracy: 0.9759 - val_loss: 0.0609 - val_accuracy: 0.8829\n",
            "Epoch 2/2\n",
            "618/618 [==============================] - 13s 21ms/step - loss: 0.0157 - accuracy: 0.9808 - val_loss: 0.0659 - val_accuracy: 0.8741\n",
            "Epoch 1/2\n",
            "618/618 [==============================] - 13s 21ms/step - loss: 0.0133 - accuracy: 0.9853 - val_loss: 0.0641 - val_accuracy: 0.8785\n",
            "Epoch 2/2\n",
            "618/618 [==============================] - 13s 21ms/step - loss: 0.0116 - accuracy: 0.9898 - val_loss: 0.0680 - val_accuracy: 0.8724\n"
          ]
        },
        {
          "output_type": "stream",
          "name": "stderr",
          "text": [
            "\u001b[32m[I 2022-04-14 09:38:34,342]\u001b[0m Trial 29 finished with value: 0.8814868927001953 and parameters: {'epochs': 2, 'batch_size': 60, 'embedding_dim': 43, 'units': 380, 'dropout': 0.2, 'n_neurons': 88}. Best is trial 24 with value: 0.8905733704566956.\u001b[0m\n"
          ]
        },
        {
          "output_type": "stream",
          "name": "stdout",
          "text": [
            "{'epochs': 2, 'batch_size': 52, 'embedding_dim': 51, 'units': 197, 'dropout': 0.2, 'n_neurons': 115}\n",
            "Epoch 1/2\n",
            "713/713 [==============================] - 13s 13ms/step - loss: 0.1163 - accuracy: 0.7611 - val_loss: 0.0702 - val_accuracy: 0.8705\n",
            "Epoch 2/2\n",
            "713/713 [==============================] - 9s 12ms/step - loss: 0.0525 - accuracy: 0.9138 - val_loss: 0.0534 - val_accuracy: 0.9016\n",
            "Epoch 1/2\n",
            "713/713 [==============================] - 9s 12ms/step - loss: 0.0339 - accuracy: 0.9496 - val_loss: 0.0531 - val_accuracy: 0.9023\n",
            "Epoch 2/2\n",
            "713/713 [==============================] - 8s 12ms/step - loss: 0.0260 - accuracy: 0.9639 - val_loss: 0.0557 - val_accuracy: 0.8921\n",
            "Epoch 1/2\n",
            "713/713 [==============================] - 8s 12ms/step - loss: 0.0217 - accuracy: 0.9700 - val_loss: 0.0567 - val_accuracy: 0.8938\n",
            "Epoch 2/2\n",
            "713/713 [==============================] - 9s 12ms/step - loss: 0.0190 - accuracy: 0.9733 - val_loss: 0.0607 - val_accuracy: 0.8836\n",
            "Epoch 1/2\n",
            "713/713 [==============================] - 9s 12ms/step - loss: 0.0171 - accuracy: 0.9762 - val_loss: 0.0624 - val_accuracy: 0.8810\n",
            "Epoch 2/2\n",
            "713/713 [==============================] - 9s 12ms/step - loss: 0.0148 - accuracy: 0.9812 - val_loss: 0.0614 - val_accuracy: 0.8819\n",
            "Epoch 1/2\n",
            "713/713 [==============================] - 9s 12ms/step - loss: 0.0130 - accuracy: 0.9850 - val_loss: 0.0650 - val_accuracy: 0.8773\n",
            "Epoch 2/2\n",
            "713/713 [==============================] - 9s 12ms/step - loss: 0.0105 - accuracy: 0.9895 - val_loss: 0.0634 - val_accuracy: 0.8819\n"
          ]
        },
        {
          "output_type": "stream",
          "name": "stderr",
          "text": [
            "\u001b[32m[I 2022-04-14 09:40:07,327]\u001b[0m Trial 30 finished with value: 0.8882410168647766 and parameters: {'epochs': 2, 'batch_size': 52, 'embedding_dim': 51, 'units': 197, 'dropout': 0.2, 'n_neurons': 115}. Best is trial 24 with value: 0.8905733704566956.\u001b[0m\n"
          ]
        },
        {
          "output_type": "stream",
          "name": "stdout",
          "text": [
            "{'epochs': 2, 'batch_size': 52, 'embedding_dim': 52, 'units': 194, 'dropout': 0.2, 'n_neurons': 114}\n",
            "Epoch 1/2\n",
            "713/713 [==============================] - 13s 13ms/step - loss: 0.1169 - accuracy: 0.7547 - val_loss: 0.0631 - val_accuracy: 0.8873\n",
            "Epoch 2/2\n",
            "713/713 [==============================] - 8s 12ms/step - loss: 0.0524 - accuracy: 0.9134 - val_loss: 0.0554 - val_accuracy: 0.8958\n",
            "Epoch 1/2\n",
            "713/713 [==============================] - 8s 12ms/step - loss: 0.0338 - accuracy: 0.9499 - val_loss: 0.0553 - val_accuracy: 0.8980\n",
            "Epoch 2/2\n",
            "713/713 [==============================] - 9s 12ms/step - loss: 0.0255 - accuracy: 0.9648 - val_loss: 0.0596 - val_accuracy: 0.8856\n",
            "Epoch 1/2\n",
            "713/713 [==============================] - 9s 12ms/step - loss: 0.0217 - accuracy: 0.9696 - val_loss: 0.0611 - val_accuracy: 0.8822\n",
            "Epoch 2/2\n",
            "713/713 [==============================] - 9s 12ms/step - loss: 0.0196 - accuracy: 0.9722 - val_loss: 0.0587 - val_accuracy: 0.8902\n",
            "Epoch 1/2\n",
            "713/713 [==============================] - 9s 12ms/step - loss: 0.0171 - accuracy: 0.9761 - val_loss: 0.0588 - val_accuracy: 0.8873\n",
            "Epoch 2/2\n",
            "713/713 [==============================] - 8s 12ms/step - loss: 0.0146 - accuracy: 0.9815 - val_loss: 0.0577 - val_accuracy: 0.8878\n",
            "Epoch 1/2\n",
            "713/713 [==============================] - 9s 12ms/step - loss: 0.0118 - accuracy: 0.9872 - val_loss: 0.0626 - val_accuracy: 0.8768\n",
            "Epoch 2/2\n",
            "713/713 [==============================] - 9s 12ms/step - loss: 0.0100 - accuracy: 0.9909 - val_loss: 0.0632 - val_accuracy: 0.8780\n"
          ]
        },
        {
          "output_type": "stream",
          "name": "stderr",
          "text": [
            "\u001b[32m[I 2022-04-14 09:41:39,196]\u001b[0m Trial 31 finished with value: 0.8874635457992553 and parameters: {'epochs': 2, 'batch_size': 52, 'embedding_dim': 52, 'units': 194, 'dropout': 0.2, 'n_neurons': 114}. Best is trial 24 with value: 0.8905733704566956.\u001b[0m\n"
          ]
        },
        {
          "output_type": "stream",
          "name": "stdout",
          "text": [
            "{'epochs': 2, 'batch_size': 62, 'embedding_dim': 52, 'units': 307, 'dropout': 0.2, 'n_neurons': 127}\n",
            "Epoch 1/2\n",
            "598/598 [==============================] - 14s 18ms/step - loss: 0.1202 - accuracy: 0.7461 - val_loss: 0.0690 - val_accuracy: 0.8812\n",
            "Epoch 2/2\n",
            "598/598 [==============================] - 10s 16ms/step - loss: 0.0528 - accuracy: 0.9134 - val_loss: 0.0575 - val_accuracy: 0.8868\n",
            "Epoch 1/2\n",
            "598/598 [==============================] - 10s 16ms/step - loss: 0.0335 - accuracy: 0.9518 - val_loss: 0.0553 - val_accuracy: 0.8972\n",
            "Epoch 2/2\n",
            "598/598 [==============================] - 10s 16ms/step - loss: 0.0263 - accuracy: 0.9635 - val_loss: 0.0545 - val_accuracy: 0.8926\n",
            "Epoch 1/2\n",
            "598/598 [==============================] - 10s 16ms/step - loss: 0.0216 - accuracy: 0.9704 - val_loss: 0.0601 - val_accuracy: 0.8865\n",
            "Epoch 2/2\n",
            "598/598 [==============================] - 10s 16ms/step - loss: 0.0186 - accuracy: 0.9738 - val_loss: 0.0561 - val_accuracy: 0.8921\n",
            "Epoch 1/2\n",
            "598/598 [==============================] - 10s 16ms/step - loss: 0.0162 - accuracy: 0.9786 - val_loss: 0.0607 - val_accuracy: 0.8839\n",
            "Epoch 2/2\n",
            "598/598 [==============================] - 10s 16ms/step - loss: 0.0141 - accuracy: 0.9835 - val_loss: 0.0641 - val_accuracy: 0.8761\n",
            "Epoch 1/2\n",
            "598/598 [==============================] - 10s 16ms/step - loss: 0.0113 - accuracy: 0.9889 - val_loss: 0.0660 - val_accuracy: 0.8722\n",
            "Epoch 2/2\n",
            "598/598 [==============================] - 10s 16ms/step - loss: 0.0104 - accuracy: 0.9908 - val_loss: 0.0633 - val_accuracy: 0.8802\n"
          ]
        },
        {
          "output_type": "stream",
          "name": "stderr",
          "text": [
            "\u001b[32m[I 2022-04-14 09:43:23,596]\u001b[0m Trial 32 finished with value: 0.8855685114860534 and parameters: {'epochs': 2, 'batch_size': 62, 'embedding_dim': 52, 'units': 307, 'dropout': 0.2, 'n_neurons': 127}. Best is trial 24 with value: 0.8905733704566956.\u001b[0m\n"
          ]
        },
        {
          "output_type": "stream",
          "name": "stdout",
          "text": [
            "{'epochs': 2, 'batch_size': 53, 'embedding_dim': 49, 'units': 258, 'dropout': 0.1, 'n_neurons': 118}\n",
            "Epoch 1/2\n",
            "699/699 [==============================] - 14s 15ms/step - loss: 0.1142 - accuracy: 0.7594 - val_loss: 0.0623 - val_accuracy: 0.8882\n",
            "Epoch 2/2\n",
            "699/699 [==============================] - 10s 14ms/step - loss: 0.0492 - accuracy: 0.9160 - val_loss: 0.0544 - val_accuracy: 0.8999\n",
            "Epoch 1/2\n",
            "699/699 [==============================] - 10s 14ms/step - loss: 0.0303 - accuracy: 0.9531 - val_loss: 0.0547 - val_accuracy: 0.8943\n",
            "Epoch 2/2\n",
            "699/699 [==============================] - 10s 14ms/step - loss: 0.0224 - accuracy: 0.9668 - val_loss: 0.0556 - val_accuracy: 0.8943\n",
            "Epoch 1/2\n",
            "699/699 [==============================] - 10s 14ms/step - loss: 0.0190 - accuracy: 0.9715 - val_loss: 0.0596 - val_accuracy: 0.8873\n",
            "Epoch 2/2\n",
            "699/699 [==============================] - 10s 14ms/step - loss: 0.0162 - accuracy: 0.9758 - val_loss: 0.0581 - val_accuracy: 0.8887\n",
            "Epoch 1/2\n",
            "699/699 [==============================] - 10s 14ms/step - loss: 0.0132 - accuracy: 0.9827 - val_loss: 0.0616 - val_accuracy: 0.8839\n",
            "Epoch 2/2\n",
            "699/699 [==============================] - 10s 14ms/step - loss: 0.0109 - accuracy: 0.9877 - val_loss: 0.0621 - val_accuracy: 0.8780\n",
            "Epoch 1/2\n",
            "699/699 [==============================] - 10s 14ms/step - loss: 0.0089 - accuracy: 0.9908 - val_loss: 0.0637 - val_accuracy: 0.8807\n",
            "Epoch 2/2\n",
            "699/699 [==============================] - 10s 14ms/step - loss: 0.0074 - accuracy: 0.9930 - val_loss: 0.0633 - val_accuracy: 0.8802\n"
          ]
        },
        {
          "output_type": "stream",
          "name": "stderr",
          "text": [
            "\u001b[32m[I 2022-04-14 09:45:07,175]\u001b[0m Trial 33 finished with value: 0.8882410049438476 and parameters: {'epochs': 2, 'batch_size': 53, 'embedding_dim': 49, 'units': 258, 'dropout': 0.1, 'n_neurons': 118}. Best is trial 24 with value: 0.8905733704566956.\u001b[0m\n"
          ]
        },
        {
          "output_type": "stream",
          "name": "stdout",
          "text": [
            "{'epochs': 2, 'batch_size': 56, 'embedding_dim': 49, 'units': 211, 'dropout': 0.2, 'n_neurons': 119}\n",
            "Epoch 1/2\n",
            "662/662 [==============================] - 13s 14ms/step - loss: 0.1165 - accuracy: 0.7572 - val_loss: 0.0669 - val_accuracy: 0.8824\n",
            "Epoch 2/2\n",
            "662/662 [==============================] - 8s 12ms/step - loss: 0.0531 - accuracy: 0.9102 - val_loss: 0.0553 - val_accuracy: 0.8933\n",
            "Epoch 1/2\n",
            "662/662 [==============================] - 8s 12ms/step - loss: 0.0337 - accuracy: 0.9511 - val_loss: 0.0537 - val_accuracy: 0.8924\n",
            "Epoch 2/2\n",
            "662/662 [==============================] - 8s 12ms/step - loss: 0.0257 - accuracy: 0.9643 - val_loss: 0.0557 - val_accuracy: 0.8916\n",
            "Epoch 1/2\n",
            "662/662 [==============================] - 8s 12ms/step - loss: 0.0216 - accuracy: 0.9705 - val_loss: 0.0576 - val_accuracy: 0.8897\n",
            "Epoch 2/2\n",
            "662/662 [==============================] - 8s 12ms/step - loss: 0.0187 - accuracy: 0.9733 - val_loss: 0.0575 - val_accuracy: 0.8914\n",
            "Epoch 1/2\n",
            "662/662 [==============================] - 8s 12ms/step - loss: 0.0172 - accuracy: 0.9761 - val_loss: 0.0592 - val_accuracy: 0.8878\n",
            "Epoch 2/2\n",
            "662/662 [==============================] - 8s 12ms/step - loss: 0.0147 - accuracy: 0.9815 - val_loss: 0.0617 - val_accuracy: 0.8827\n",
            "Epoch 1/2\n",
            "662/662 [==============================] - 8s 12ms/step - loss: 0.0122 - accuracy: 0.9866 - val_loss: 0.0617 - val_accuracy: 0.8836\n",
            "Epoch 2/2\n",
            "662/662 [==============================] - 8s 12ms/step - loss: 0.0101 - accuracy: 0.9910 - val_loss: 0.0615 - val_accuracy: 0.8836\n"
          ]
        },
        {
          "output_type": "stream",
          "name": "stderr",
          "text": [
            "\u001b[32m[I 2022-04-14 09:46:35,979]\u001b[0m Trial 34 finished with value: 0.888532555103302 and parameters: {'epochs': 2, 'batch_size': 56, 'embedding_dim': 49, 'units': 211, 'dropout': 0.2, 'n_neurons': 119}. Best is trial 24 with value: 0.8905733704566956.\u001b[0m\n"
          ]
        },
        {
          "output_type": "stream",
          "name": "stdout",
          "text": [
            "{'epochs': 2, 'batch_size': 57, 'embedding_dim': 59, 'units': 129, 'dropout': 0.2, 'n_neurons': 109}\n",
            "Epoch 1/2\n",
            "650/650 [==============================] - 12s 13ms/step - loss: 0.1217 - accuracy: 0.7430 - val_loss: 0.0650 - val_accuracy: 0.8817\n",
            "Epoch 2/2\n",
            "650/650 [==============================] - 8s 12ms/step - loss: 0.0537 - accuracy: 0.9111 - val_loss: 0.0544 - val_accuracy: 0.8989\n",
            "Epoch 1/2\n",
            "650/650 [==============================] - 8s 12ms/step - loss: 0.0344 - accuracy: 0.9495 - val_loss: 0.0549 - val_accuracy: 0.8963\n",
            "Epoch 2/2\n",
            "650/650 [==============================] - 8s 12ms/step - loss: 0.0258 - accuracy: 0.9637 - val_loss: 0.0564 - val_accuracy: 0.8936\n",
            "Epoch 1/2\n",
            "650/650 [==============================] - 8s 12ms/step - loss: 0.0217 - accuracy: 0.9692 - val_loss: 0.0618 - val_accuracy: 0.8812\n",
            "Epoch 2/2\n",
            "650/650 [==============================] - 8s 12ms/step - loss: 0.0190 - accuracy: 0.9727 - val_loss: 0.0587 - val_accuracy: 0.8907\n",
            "Epoch 1/2\n",
            "650/650 [==============================] - 7s 11ms/step - loss: 0.0173 - accuracy: 0.9751 - val_loss: 0.0596 - val_accuracy: 0.8841\n",
            "Epoch 2/2\n",
            "650/650 [==============================] - 8s 12ms/step - loss: 0.0145 - accuracy: 0.9810 - val_loss: 0.0636 - val_accuracy: 0.8783\n",
            "Epoch 1/2\n",
            "650/650 [==============================] - 8s 12ms/step - loss: 0.0121 - accuracy: 0.9862 - val_loss: 0.0642 - val_accuracy: 0.8754\n",
            "Epoch 2/2\n",
            "650/650 [==============================] - 8s 12ms/step - loss: 0.0105 - accuracy: 0.9898 - val_loss: 0.0645 - val_accuracy: 0.8756\n"
          ]
        },
        {
          "output_type": "stream",
          "name": "stderr",
          "text": [
            "\u001b[32m[I 2022-04-14 09:47:58,985]\u001b[0m Trial 35 finished with value: 0.8874149560928345 and parameters: {'epochs': 2, 'batch_size': 57, 'embedding_dim': 59, 'units': 129, 'dropout': 0.2, 'n_neurons': 109}. Best is trial 24 with value: 0.8905733704566956.\u001b[0m\n"
          ]
        },
        {
          "output_type": "stream",
          "name": "stdout",
          "text": [
            "{'epochs': 2, 'batch_size': 62, 'embedding_dim': 50, 'units': 195, 'dropout': 0.30000000000000004, 'n_neurons': 118}\n",
            "Epoch 1/2\n",
            "598/598 [==============================] - 11s 14ms/step - loss: 0.1219 - accuracy: 0.7476 - val_loss: 0.0689 - val_accuracy: 0.8734\n",
            "Epoch 2/2\n",
            "598/598 [==============================] - 7s 12ms/step - loss: 0.0559 - accuracy: 0.9095 - val_loss: 0.0569 - val_accuracy: 0.8965\n",
            "Epoch 1/2\n",
            "598/598 [==============================] - 7s 12ms/step - loss: 0.0379 - accuracy: 0.9464 - val_loss: 0.0541 - val_accuracy: 0.8963\n",
            "Epoch 2/2\n",
            "598/598 [==============================] - 7s 12ms/step - loss: 0.0287 - accuracy: 0.9621 - val_loss: 0.0554 - val_accuracy: 0.8924\n",
            "Epoch 1/2\n",
            "598/598 [==============================] - 7s 12ms/step - loss: 0.0239 - accuracy: 0.9685 - val_loss: 0.0579 - val_accuracy: 0.8897\n",
            "Epoch 2/2\n",
            "598/598 [==============================] - 7s 12ms/step - loss: 0.0212 - accuracy: 0.9722 - val_loss: 0.0597 - val_accuracy: 0.8831\n",
            "Epoch 1/2\n",
            "598/598 [==============================] - 7s 12ms/step - loss: 0.0188 - accuracy: 0.9750 - val_loss: 0.0615 - val_accuracy: 0.8827\n",
            "Epoch 2/2\n",
            "598/598 [==============================] - 7s 12ms/step - loss: 0.0170 - accuracy: 0.9790 - val_loss: 0.0636 - val_accuracy: 0.8768\n",
            "Epoch 1/2\n",
            "598/598 [==============================] - 7s 12ms/step - loss: 0.0157 - accuracy: 0.9820 - val_loss: 0.0611 - val_accuracy: 0.8831\n",
            "Epoch 2/2\n",
            "598/598 [==============================] - 7s 12ms/step - loss: 0.0131 - accuracy: 0.9870 - val_loss: 0.0662 - val_accuracy: 0.8741\n"
          ]
        },
        {
          "output_type": "stream",
          "name": "stderr",
          "text": [
            "\u001b[32m[I 2022-04-14 09:49:19,123]\u001b[0m Trial 36 finished with value: 0.8845967054367065 and parameters: {'epochs': 2, 'batch_size': 62, 'embedding_dim': 50, 'units': 195, 'dropout': 0.30000000000000004, 'n_neurons': 118}. Best is trial 24 with value: 0.8905733704566956.\u001b[0m\n"
          ]
        },
        {
          "output_type": "stream",
          "name": "stdout",
          "text": [
            "{'epochs': 4, 'batch_size': 55, 'embedding_dim': 61, 'units': 216, 'dropout': 0.2, 'n_neurons': 122}\n",
            "Epoch 1/4\n",
            "674/674 [==============================] - 12s 14ms/step - loss: 0.1143 - accuracy: 0.7639 - val_loss: 0.0629 - val_accuracy: 0.8805\n",
            "Epoch 2/4\n",
            "674/674 [==============================] - 8s 12ms/step - loss: 0.0508 - accuracy: 0.9158 - val_loss: 0.0554 - val_accuracy: 0.8955\n",
            "Epoch 3/4\n",
            "674/674 [==============================] - 8s 12ms/step - loss: 0.0321 - accuracy: 0.9527 - val_loss: 0.0567 - val_accuracy: 0.8919\n",
            "Epoch 4/4\n",
            "674/674 [==============================] - 8s 12ms/step - loss: 0.0246 - accuracy: 0.9659 - val_loss: 0.0578 - val_accuracy: 0.8885\n",
            "Epoch 1/4\n",
            "674/674 [==============================] - 8s 12ms/step - loss: 0.0204 - accuracy: 0.9709 - val_loss: 0.0586 - val_accuracy: 0.8863\n",
            "Epoch 2/4\n",
            "674/674 [==============================] - 8s 12ms/step - loss: 0.0178 - accuracy: 0.9752 - val_loss: 0.0603 - val_accuracy: 0.8793\n",
            "Epoch 3/4\n",
            "674/674 [==============================] - 8s 13ms/step - loss: 0.0148 - accuracy: 0.9815 - val_loss: 0.0620 - val_accuracy: 0.8824\n",
            "Epoch 4/4\n",
            "674/674 [==============================] - 8s 12ms/step - loss: 0.0123 - accuracy: 0.9860 - val_loss: 0.0598 - val_accuracy: 0.8851\n",
            "Epoch 1/4\n",
            "674/674 [==============================] - 8s 12ms/step - loss: 0.0105 - accuracy: 0.9897 - val_loss: 0.0629 - val_accuracy: 0.8810\n",
            "Epoch 2/4\n",
            "674/674 [==============================] - 8s 12ms/step - loss: 0.0091 - accuracy: 0.9917 - val_loss: 0.0637 - val_accuracy: 0.8795\n",
            "Epoch 3/4\n",
            "674/674 [==============================] - 8s 12ms/step - loss: 0.0080 - accuracy: 0.9937 - val_loss: 0.0648 - val_accuracy: 0.8756\n",
            "Epoch 4/4\n",
            "674/674 [==============================] - 8s 13ms/step - loss: 0.0072 - accuracy: 0.9950 - val_loss: 0.0628 - val_accuracy: 0.8812\n",
            "Epoch 1/4\n",
            "674/674 [==============================] - 8s 12ms/step - loss: 0.0069 - accuracy: 0.9953 - val_loss: 0.0651 - val_accuracy: 0.8754\n",
            "Epoch 2/4\n",
            "674/674 [==============================] - 8s 12ms/step - loss: 0.0065 - accuracy: 0.9963 - val_loss: 0.0645 - val_accuracy: 0.8795\n",
            "Epoch 3/4\n",
            "674/674 [==============================] - 8s 13ms/step - loss: 0.0063 - accuracy: 0.9963 - val_loss: 0.0629 - val_accuracy: 0.8834\n",
            "Epoch 4/4\n",
            "674/674 [==============================] - 8s 12ms/step - loss: 0.0056 - accuracy: 0.9969 - val_loss: 0.0632 - val_accuracy: 0.8807\n",
            "Epoch 1/4\n",
            "674/674 [==============================] - 9s 13ms/step - loss: 0.0053 - accuracy: 0.9975 - val_loss: 0.0653 - val_accuracy: 0.8717\n",
            "Epoch 2/4\n",
            "674/674 [==============================] - 8s 13ms/step - loss: 0.0052 - accuracy: 0.9973 - val_loss: 0.0662 - val_accuracy: 0.8778\n",
            "Epoch 3/4\n",
            "674/674 [==============================] - 8s 12ms/step - loss: 0.0047 - accuracy: 0.9977 - val_loss: 0.0630 - val_accuracy: 0.8814\n",
            "Epoch 4/4\n",
            "674/674 [==============================] - 8s 13ms/step - loss: 0.0050 - accuracy: 0.9974 - val_loss: 0.0642 - val_accuracy: 0.8797\n"
          ]
        },
        {
          "output_type": "stream",
          "name": "stderr",
          "text": [
            "\u001b[32m[I 2022-04-14 09:52:21,394]\u001b[0m Trial 37 finished with value: 0.883041775226593 and parameters: {'epochs': 4, 'batch_size': 55, 'embedding_dim': 61, 'units': 216, 'dropout': 0.2, 'n_neurons': 122}. Best is trial 24 with value: 0.8905733704566956.\u001b[0m\n"
          ]
        },
        {
          "output_type": "stream",
          "name": "stdout",
          "text": [
            "{'epochs': 3, 'batch_size': 40, 'embedding_dim': 54, 'units': 245, 'dropout': 0.2, 'n_neurons': 113}\n",
            "Epoch 1/3\n",
            "927/927 [==============================] - 15s 13ms/step - loss: 0.1139 - accuracy: 0.7659 - val_loss: 0.0626 - val_accuracy: 0.8841\n",
            "Epoch 2/3\n",
            "927/927 [==============================] - 11s 12ms/step - loss: 0.0518 - accuracy: 0.9151 - val_loss: 0.0555 - val_accuracy: 0.8946\n",
            "Epoch 3/3\n",
            "927/927 [==============================] - 11s 12ms/step - loss: 0.0336 - accuracy: 0.9502 - val_loss: 0.0547 - val_accuracy: 0.8936\n",
            "Epoch 1/3\n",
            "927/927 [==============================] - 11s 12ms/step - loss: 0.0255 - accuracy: 0.9649 - val_loss: 0.0542 - val_accuracy: 0.8955\n",
            "Epoch 2/3\n",
            "927/927 [==============================] - 11s 12ms/step - loss: 0.0214 - accuracy: 0.9705 - val_loss: 0.0558 - val_accuracy: 0.8941\n",
            "Epoch 3/3\n",
            "927/927 [==============================] - 11s 12ms/step - loss: 0.0187 - accuracy: 0.9734 - val_loss: 0.0616 - val_accuracy: 0.8836\n",
            "Epoch 1/3\n",
            "927/927 [==============================] - 11s 12ms/step - loss: 0.0169 - accuracy: 0.9765 - val_loss: 0.0581 - val_accuracy: 0.8890\n",
            "Epoch 2/3\n",
            "927/927 [==============================] - 11s 12ms/step - loss: 0.0146 - accuracy: 0.9819 - val_loss: 0.0598 - val_accuracy: 0.8873\n",
            "Epoch 3/3\n",
            "927/927 [==============================] - 11s 12ms/step - loss: 0.0122 - accuracy: 0.9871 - val_loss: 0.0609 - val_accuracy: 0.8844\n",
            "Epoch 1/3\n",
            "927/927 [==============================] - 11s 12ms/step - loss: 0.0104 - accuracy: 0.9903 - val_loss: 0.0641 - val_accuracy: 0.8810\n",
            "Epoch 2/3\n",
            "927/927 [==============================] - 11s 12ms/step - loss: 0.0091 - accuracy: 0.9926 - val_loss: 0.0661 - val_accuracy: 0.8746\n",
            "Epoch 3/3\n",
            "927/927 [==============================] - 11s 12ms/step - loss: 0.0090 - accuracy: 0.9924 - val_loss: 0.0648 - val_accuracy: 0.8858\n",
            "Epoch 1/3\n",
            "927/927 [==============================] - 11s 12ms/step - loss: 0.0073 - accuracy: 0.9950 - val_loss: 0.0659 - val_accuracy: 0.8739\n",
            "Epoch 2/3\n",
            "927/927 [==============================] - 11s 12ms/step - loss: 0.0068 - accuracy: 0.9957 - val_loss: 0.0684 - val_accuracy: 0.8766\n",
            "Epoch 3/3\n",
            "927/927 [==============================] - 11s 12ms/step - loss: 0.0063 - accuracy: 0.9965 - val_loss: 0.0663 - val_accuracy: 0.8771\n"
          ]
        },
        {
          "output_type": "stream",
          "name": "stderr",
          "text": [
            "\u001b[32m[I 2022-04-14 09:55:21,385]\u001b[0m Trial 38 finished with value: 0.884888231754303 and parameters: {'epochs': 3, 'batch_size': 40, 'embedding_dim': 54, 'units': 245, 'dropout': 0.2, 'n_neurons': 113}. Best is trial 24 with value: 0.8905733704566956.\u001b[0m\n"
          ]
        },
        {
          "output_type": "stream",
          "name": "stdout",
          "text": [
            "{'epochs': 2, 'batch_size': 53, 'embedding_dim': 46, 'units': 179, 'dropout': 0.30000000000000004, 'n_neurons': 128}\n",
            "Epoch 1/2\n",
            "699/699 [==============================] - 12s 13ms/step - loss: 0.1228 - accuracy: 0.7460 - val_loss: 0.0686 - val_accuracy: 0.8785\n",
            "Epoch 2/2\n",
            "699/699 [==============================] - 8s 12ms/step - loss: 0.0575 - accuracy: 0.9058 - val_loss: 0.0587 - val_accuracy: 0.8863\n",
            "Epoch 1/2\n",
            "699/699 [==============================] - 8s 12ms/step - loss: 0.0378 - accuracy: 0.9452 - val_loss: 0.0640 - val_accuracy: 0.8739\n",
            "Epoch 2/2\n",
            "699/699 [==============================] - 8s 12ms/step - loss: 0.0286 - accuracy: 0.9624 - val_loss: 0.0581 - val_accuracy: 0.8841\n",
            "Epoch 1/2\n",
            "699/699 [==============================] - 8s 12ms/step - loss: 0.0238 - accuracy: 0.9683 - val_loss: 0.0589 - val_accuracy: 0.8858\n",
            "Epoch 2/2\n",
            "699/699 [==============================] - 8s 12ms/step - loss: 0.0211 - accuracy: 0.9719 - val_loss: 0.0606 - val_accuracy: 0.8824\n",
            "Epoch 1/2\n",
            "699/699 [==============================] - 8s 12ms/step - loss: 0.0195 - accuracy: 0.9739 - val_loss: 0.0624 - val_accuracy: 0.8817\n",
            "Epoch 2/2\n",
            "699/699 [==============================] - 8s 11ms/step - loss: 0.0171 - accuracy: 0.9780 - val_loss: 0.0644 - val_accuracy: 0.8778\n",
            "Epoch 1/2\n",
            "699/699 [==============================] - 8s 12ms/step - loss: 0.0153 - accuracy: 0.9826 - val_loss: 0.0642 - val_accuracy: 0.8817\n",
            "Epoch 2/2\n",
            "699/699 [==============================] - 8s 11ms/step - loss: 0.0134 - accuracy: 0.9867 - val_loss: 0.0703 - val_accuracy: 0.8729\n"
          ]
        },
        {
          "output_type": "stream",
          "name": "stderr",
          "text": [
            "\u001b[32m[I 2022-04-14 09:56:49,887]\u001b[0m Trial 39 finished with value: 0.880709433555603 and parameters: {'epochs': 2, 'batch_size': 53, 'embedding_dim': 46, 'units': 179, 'dropout': 0.30000000000000004, 'n_neurons': 128}. Best is trial 24 with value: 0.8905733704566956.\u001b[0m\n"
          ]
        },
        {
          "output_type": "stream",
          "name": "stdout",
          "text": [
            "{'epochs': 3, 'batch_size': 58, 'embedding_dim': 43, 'units': 508, 'dropout': 0.2, 'n_neurons': 81}\n",
            "Epoch 1/3\n",
            "639/639 [==============================] - 22s 30ms/step - loss: 0.1181 - accuracy: 0.7553 - val_loss: 0.0688 - val_accuracy: 0.8783\n",
            "Epoch 2/3\n",
            "639/639 [==============================] - 19s 29ms/step - loss: 0.0552 - accuracy: 0.9106 - val_loss: 0.0570 - val_accuracy: 0.8929\n",
            "Epoch 3/3\n",
            "639/639 [==============================] - 18s 29ms/step - loss: 0.0355 - accuracy: 0.9501 - val_loss: 0.0602 - val_accuracy: 0.8853\n",
            "Epoch 1/3\n",
            "639/639 [==============================] - 18s 29ms/step - loss: 0.0275 - accuracy: 0.9634 - val_loss: 0.0542 - val_accuracy: 0.8943\n",
            "Epoch 2/3\n",
            "639/639 [==============================] - 18s 29ms/step - loss: 0.0243 - accuracy: 0.9690 - val_loss: 0.0615 - val_accuracy: 0.8873\n",
            "Epoch 3/3\n",
            "639/639 [==============================] - 18s 29ms/step - loss: 0.0213 - accuracy: 0.9717 - val_loss: 0.0598 - val_accuracy: 0.8861\n",
            "Epoch 1/3\n",
            "639/639 [==============================] - 18s 29ms/step - loss: 0.0185 - accuracy: 0.9753 - val_loss: 0.0641 - val_accuracy: 0.8802\n",
            "Epoch 2/3\n",
            "639/639 [==============================] - 18s 29ms/step - loss: 0.0185 - accuracy: 0.9768 - val_loss: 0.0624 - val_accuracy: 0.8824\n",
            "Epoch 3/3\n",
            "639/639 [==============================] - 18s 29ms/step - loss: 0.0153 - accuracy: 0.9821 - val_loss: 0.0632 - val_accuracy: 0.8819\n",
            "Epoch 1/3\n",
            "639/639 [==============================] - 18s 28ms/step - loss: 0.0131 - accuracy: 0.9864 - val_loss: 0.0619 - val_accuracy: 0.8812\n",
            "Epoch 2/3\n",
            "639/639 [==============================] - 18s 29ms/step - loss: 0.0114 - accuracy: 0.9898 - val_loss: 0.0652 - val_accuracy: 0.8715\n",
            "Epoch 3/3\n",
            "639/639 [==============================] - 19s 29ms/step - loss: 0.0105 - accuracy: 0.9914 - val_loss: 0.0681 - val_accuracy: 0.8666\n",
            "Epoch 1/3\n",
            "639/639 [==============================] - 18s 29ms/step - loss: 0.0094 - accuracy: 0.9931 - val_loss: 0.0667 - val_accuracy: 0.8705\n",
            "Epoch 2/3\n",
            "639/639 [==============================] - 18s 28ms/step - loss: 0.0088 - accuracy: 0.9942 - val_loss: 0.0698 - val_accuracy: 0.8644\n",
            "Epoch 3/3\n",
            "639/639 [==============================] - 18s 29ms/step - loss: 0.0083 - accuracy: 0.9952 - val_loss: 0.0678 - val_accuracy: 0.8698\n"
          ]
        },
        {
          "output_type": "stream",
          "name": "stderr",
          "text": [
            "\u001b[32m[I 2022-04-14 10:01:58,368]\u001b[0m Trial 40 finished with value: 0.8779397487640381 and parameters: {'epochs': 3, 'batch_size': 58, 'embedding_dim': 43, 'units': 508, 'dropout': 0.2, 'n_neurons': 81}. Best is trial 24 with value: 0.8905733704566956.\u001b[0m\n"
          ]
        },
        {
          "output_type": "stream",
          "name": "stdout",
          "text": [
            "{'epochs': 2, 'batch_size': 53, 'embedding_dim': 48, 'units': 260, 'dropout': 0.1, 'n_neurons': 120}\n",
            "Epoch 1/2\n",
            "699/699 [==============================] - 14s 15ms/step - loss: 0.1132 - accuracy: 0.7635 - val_loss: 0.0627 - val_accuracy: 0.8880\n",
            "Epoch 2/2\n",
            "699/699 [==============================] - 10s 14ms/step - loss: 0.0501 - accuracy: 0.9141 - val_loss: 0.0566 - val_accuracy: 0.8899\n",
            "Epoch 1/2\n",
            "699/699 [==============================] - 10s 14ms/step - loss: 0.0312 - accuracy: 0.9508 - val_loss: 0.0581 - val_accuracy: 0.8892\n",
            "Epoch 2/2\n",
            "699/699 [==============================] - 10s 14ms/step - loss: 0.0230 - accuracy: 0.9649 - val_loss: 0.0587 - val_accuracy: 0.8856\n",
            "Epoch 1/2\n",
            "699/699 [==============================] - 10s 14ms/step - loss: 0.0196 - accuracy: 0.9705 - val_loss: 0.0589 - val_accuracy: 0.8861\n",
            "Epoch 2/2\n",
            "699/699 [==============================] - 10s 14ms/step - loss: 0.0168 - accuracy: 0.9740 - val_loss: 0.0600 - val_accuracy: 0.8887\n",
            "Epoch 1/2\n",
            "699/699 [==============================] - 10s 14ms/step - loss: 0.0153 - accuracy: 0.9778 - val_loss: 0.0631 - val_accuracy: 0.8829\n",
            "Epoch 2/2\n",
            "699/699 [==============================] - 10s 14ms/step - loss: 0.0119 - accuracy: 0.9848 - val_loss: 0.0628 - val_accuracy: 0.8800\n",
            "Epoch 1/2\n",
            "699/699 [==============================] - 10s 14ms/step - loss: 0.0095 - accuracy: 0.9894 - val_loss: 0.0664 - val_accuracy: 0.8727\n",
            "Epoch 2/2\n",
            "699/699 [==============================] - 10s 14ms/step - loss: 0.0078 - accuracy: 0.9924 - val_loss: 0.0630 - val_accuracy: 0.8819\n"
          ]
        },
        {
          "output_type": "stream",
          "name": "stderr",
          "text": [
            "\u001b[32m[I 2022-04-14 10:03:42,154]\u001b[0m Trial 41 finished with value: 0.8852283716201782 and parameters: {'epochs': 2, 'batch_size': 53, 'embedding_dim': 48, 'units': 260, 'dropout': 0.1, 'n_neurons': 120}. Best is trial 24 with value: 0.8905733704566956.\u001b[0m\n"
          ]
        },
        {
          "output_type": "stream",
          "name": "stdout",
          "text": [
            "{'epochs': 2, 'batch_size': 56, 'embedding_dim': 50, 'units': 242, 'dropout': 0.1, 'n_neurons': 122}\n",
            "Epoch 1/2\n",
            "662/662 [==============================] - 13s 14ms/step - loss: 0.1138 - accuracy: 0.7632 - val_loss: 0.0618 - val_accuracy: 0.8841\n",
            "Epoch 2/2\n",
            "662/662 [==============================] - 9s 13ms/step - loss: 0.0488 - accuracy: 0.9163 - val_loss: 0.0570 - val_accuracy: 0.8926\n",
            "Epoch 1/2\n",
            "662/662 [==============================] - 9s 13ms/step - loss: 0.0306 - accuracy: 0.9533 - val_loss: 0.0547 - val_accuracy: 0.8926\n",
            "Epoch 2/2\n",
            "662/662 [==============================] - 9s 13ms/step - loss: 0.0229 - accuracy: 0.9658 - val_loss: 0.0580 - val_accuracy: 0.8887\n",
            "Epoch 1/2\n",
            "662/662 [==============================] - 9s 13ms/step - loss: 0.0188 - accuracy: 0.9718 - val_loss: 0.0582 - val_accuracy: 0.8892\n",
            "Epoch 2/2\n",
            "662/662 [==============================] - 9s 13ms/step - loss: 0.0158 - accuracy: 0.9767 - val_loss: 0.0607 - val_accuracy: 0.8819\n",
            "Epoch 1/2\n",
            "662/662 [==============================] - 9s 13ms/step - loss: 0.0126 - accuracy: 0.9842 - val_loss: 0.0602 - val_accuracy: 0.8841\n",
            "Epoch 2/2\n",
            "662/662 [==============================] - 9s 13ms/step - loss: 0.0101 - accuracy: 0.9890 - val_loss: 0.0634 - val_accuracy: 0.8807\n",
            "Epoch 1/2\n",
            "662/662 [==============================] - 9s 13ms/step - loss: 0.0082 - accuracy: 0.9924 - val_loss: 0.0614 - val_accuracy: 0.8848\n",
            "Epoch 2/2\n",
            "662/662 [==============================] - 9s 13ms/step - loss: 0.0074 - accuracy: 0.9933 - val_loss: 0.0623 - val_accuracy: 0.8829\n"
          ]
        },
        {
          "output_type": "stream",
          "name": "stderr",
          "text": [
            "\u001b[32m[I 2022-04-14 10:05:18,571]\u001b[0m Trial 42 finished with value: 0.8853741407394409 and parameters: {'epochs': 2, 'batch_size': 56, 'embedding_dim': 50, 'units': 242, 'dropout': 0.1, 'n_neurons': 122}. Best is trial 24 with value: 0.8905733704566956.\u001b[0m\n"
          ]
        },
        {
          "output_type": "stream",
          "name": "stdout",
          "text": [
            "{'epochs': 2, 'batch_size': 54, 'embedding_dim': 54, 'units': 269, 'dropout': 0.2, 'n_neurons': 118}\n",
            "Epoch 1/2\n",
            "686/686 [==============================] - 14s 15ms/step - loss: 0.1169 - accuracy: 0.7556 - val_loss: 0.0666 - val_accuracy: 0.8805\n",
            "Epoch 2/2\n",
            "686/686 [==============================] - 10s 14ms/step - loss: 0.0526 - accuracy: 0.9134 - val_loss: 0.0536 - val_accuracy: 0.9016\n",
            "Epoch 1/2\n",
            "686/686 [==============================] - 10s 14ms/step - loss: 0.0339 - accuracy: 0.9503 - val_loss: 0.0551 - val_accuracy: 0.8967\n",
            "Epoch 2/2\n",
            "686/686 [==============================] - 10s 14ms/step - loss: 0.0258 - accuracy: 0.9648 - val_loss: 0.0565 - val_accuracy: 0.8933\n",
            "Epoch 1/2\n",
            "686/686 [==============================] - 10s 14ms/step - loss: 0.0215 - accuracy: 0.9705 - val_loss: 0.0560 - val_accuracy: 0.8967\n",
            "Epoch 2/2\n",
            "686/686 [==============================] - 10s 14ms/step - loss: 0.0190 - accuracy: 0.9733 - val_loss: 0.0582 - val_accuracy: 0.8885\n",
            "Epoch 1/2\n",
            "686/686 [==============================] - 10s 14ms/step - loss: 0.0163 - accuracy: 0.9783 - val_loss: 0.0602 - val_accuracy: 0.8870\n",
            "Epoch 2/2\n",
            "686/686 [==============================] - 10s 14ms/step - loss: 0.0139 - accuracy: 0.9838 - val_loss: 0.0614 - val_accuracy: 0.8851\n",
            "Epoch 1/2\n",
            "686/686 [==============================] - 10s 14ms/step - loss: 0.0118 - accuracy: 0.9881 - val_loss: 0.0639 - val_accuracy: 0.8780\n",
            "Epoch 2/2\n",
            "686/686 [==============================] - 10s 14ms/step - loss: 0.0103 - accuracy: 0.9903 - val_loss: 0.0691 - val_accuracy: 0.8673\n"
          ]
        },
        {
          "output_type": "stream",
          "name": "stderr",
          "text": [
            "\u001b[32m[I 2022-04-14 10:07:03,964]\u001b[0m Trial 43 finished with value: 0.88717200756073 and parameters: {'epochs': 2, 'batch_size': 54, 'embedding_dim': 54, 'units': 269, 'dropout': 0.2, 'n_neurons': 118}. Best is trial 24 with value: 0.8905733704566956.\u001b[0m\n"
          ]
        },
        {
          "output_type": "stream",
          "name": "stdout",
          "text": [
            "{'epochs': 2, 'batch_size': 51, 'embedding_dim': 50, 'units': 150, 'dropout': 0.1, 'n_neurons': 107}\n",
            "Epoch 1/2\n",
            "727/727 [==============================] - 13s 13ms/step - loss: 0.1134 - accuracy: 0.7621 - val_loss: 0.0635 - val_accuracy: 0.8848\n",
            "Epoch 2/2\n",
            "727/727 [==============================] - 8s 11ms/step - loss: 0.0492 - accuracy: 0.9154 - val_loss: 0.0595 - val_accuracy: 0.8875\n",
            "Epoch 1/2\n",
            "727/727 [==============================] - 8s 11ms/step - loss: 0.0314 - accuracy: 0.9510 - val_loss: 0.0573 - val_accuracy: 0.8919\n",
            "Epoch 2/2\n",
            "727/727 [==============================] - 8s 12ms/step - loss: 0.0233 - accuracy: 0.9650 - val_loss: 0.0572 - val_accuracy: 0.8868\n",
            "Epoch 1/2\n",
            "727/727 [==============================] - 8s 12ms/step - loss: 0.0195 - accuracy: 0.9709 - val_loss: 0.0596 - val_accuracy: 0.8873\n",
            "Epoch 2/2\n",
            "727/727 [==============================] - 9s 12ms/step - loss: 0.0166 - accuracy: 0.9745 - val_loss: 0.0591 - val_accuracy: 0.8873\n",
            "Epoch 1/2\n",
            "727/727 [==============================] - 8s 12ms/step - loss: 0.0141 - accuracy: 0.9796 - val_loss: 0.0617 - val_accuracy: 0.8870\n",
            "Epoch 2/2\n",
            "727/727 [==============================] - 8s 12ms/step - loss: 0.0115 - accuracy: 0.9866 - val_loss: 0.0636 - val_accuracy: 0.8788\n",
            "Epoch 1/2\n",
            "727/727 [==============================] - 9s 12ms/step - loss: 0.0091 - accuracy: 0.9906 - val_loss: 0.0627 - val_accuracy: 0.8783\n",
            "Epoch 2/2\n",
            "727/727 [==============================] - 8s 11ms/step - loss: 0.0075 - accuracy: 0.9933 - val_loss: 0.0625 - val_accuracy: 0.8853\n"
          ]
        },
        {
          "output_type": "stream",
          "name": "stderr",
          "text": [
            "\u001b[32m[I 2022-04-14 10:08:35,196]\u001b[0m Trial 44 finished with value: 0.8851312041282654 and parameters: {'epochs': 2, 'batch_size': 51, 'embedding_dim': 50, 'units': 150, 'dropout': 0.1, 'n_neurons': 107}. Best is trial 24 with value: 0.8905733704566956.\u001b[0m\n"
          ]
        },
        {
          "output_type": "stream",
          "name": "stdout",
          "text": [
            "{'epochs': 2, 'batch_size': 42, 'embedding_dim': 60, 'units': 218, 'dropout': 0.2, 'n_neurons': 124}\n",
            "Epoch 1/2\n",
            "882/882 [==============================] - 14s 12ms/step - loss: 0.1125 - accuracy: 0.7688 - val_loss: 0.0629 - val_accuracy: 0.8844\n",
            "Epoch 2/2\n",
            "882/882 [==============================] - 10s 11ms/step - loss: 0.0512 - accuracy: 0.9161 - val_loss: 0.0565 - val_accuracy: 0.8936\n",
            "Epoch 1/2\n",
            "882/882 [==============================] - 10s 12ms/step - loss: 0.0330 - accuracy: 0.9514 - val_loss: 0.0560 - val_accuracy: 0.8919\n",
            "Epoch 2/2\n",
            "882/882 [==============================] - 10s 12ms/step - loss: 0.0249 - accuracy: 0.9655 - val_loss: 0.0593 - val_accuracy: 0.8844\n",
            "Epoch 1/2\n",
            "882/882 [==============================] - 10s 12ms/step - loss: 0.0210 - accuracy: 0.9707 - val_loss: 0.0566 - val_accuracy: 0.8907\n",
            "Epoch 2/2\n",
            "882/882 [==============================] - 10s 11ms/step - loss: 0.0184 - accuracy: 0.9735 - val_loss: 0.0612 - val_accuracy: 0.8848\n",
            "Epoch 1/2\n",
            "882/882 [==============================] - 10s 12ms/step - loss: 0.0170 - accuracy: 0.9756 - val_loss: 0.0607 - val_accuracy: 0.8844\n",
            "Epoch 2/2\n",
            "882/882 [==============================] - 10s 11ms/step - loss: 0.0141 - accuracy: 0.9813 - val_loss: 0.0653 - val_accuracy: 0.8724\n",
            "Epoch 1/2\n",
            "882/882 [==============================] - 10s 11ms/step - loss: 0.0119 - accuracy: 0.9865 - val_loss: 0.0617 - val_accuracy: 0.8812\n",
            "Epoch 2/2\n",
            "882/882 [==============================] - 10s 11ms/step - loss: 0.0097 - accuracy: 0.9908 - val_loss: 0.0638 - val_accuracy: 0.8805\n"
          ]
        },
        {
          "output_type": "stream",
          "name": "stderr",
          "text": [
            "\u001b[32m[I 2022-04-14 10:10:23,608]\u001b[0m Trial 45 finished with value: 0.8831389665603637 and parameters: {'epochs': 2, 'batch_size': 42, 'embedding_dim': 60, 'units': 218, 'dropout': 0.2, 'n_neurons': 124}. Best is trial 24 with value: 0.8905733704566956.\u001b[0m\n"
          ]
        },
        {
          "output_type": "stream",
          "name": "stdout",
          "text": [
            "{'epochs': 2, 'batch_size': 61, 'embedding_dim': 45, 'units': 179, 'dropout': 0.2, 'n_neurons': 35}\n",
            "Epoch 1/2\n",
            "608/608 [==============================] - 11s 13ms/step - loss: 0.1282 - accuracy: 0.7302 - val_loss: 0.0673 - val_accuracy: 0.8783\n",
            "Epoch 2/2\n",
            "608/608 [==============================] - 7s 12ms/step - loss: 0.0598 - accuracy: 0.9081 - val_loss: 0.0568 - val_accuracy: 0.8950\n",
            "Epoch 1/2\n",
            "608/608 [==============================] - 7s 12ms/step - loss: 0.0400 - accuracy: 0.9458 - val_loss: 0.0583 - val_accuracy: 0.8880\n",
            "Epoch 2/2\n",
            "608/608 [==============================] - 7s 12ms/step - loss: 0.0308 - accuracy: 0.9612 - val_loss: 0.0573 - val_accuracy: 0.8880\n",
            "Epoch 1/2\n",
            "608/608 [==============================] - 7s 12ms/step - loss: 0.0258 - accuracy: 0.9691 - val_loss: 0.0614 - val_accuracy: 0.8819\n",
            "Epoch 2/2\n",
            "608/608 [==============================] - 7s 12ms/step - loss: 0.0231 - accuracy: 0.9720 - val_loss: 0.0582 - val_accuracy: 0.8882\n",
            "Epoch 1/2\n",
            "608/608 [==============================] - 7s 12ms/step - loss: 0.0209 - accuracy: 0.9756 - val_loss: 0.0621 - val_accuracy: 0.8783\n",
            "Epoch 2/2\n",
            "608/608 [==============================] - 7s 12ms/step - loss: 0.0182 - accuracy: 0.9810 - val_loss: 0.0603 - val_accuracy: 0.8856\n",
            "Epoch 1/2\n",
            "608/608 [==============================] - 7s 11ms/step - loss: 0.0163 - accuracy: 0.9846 - val_loss: 0.0633 - val_accuracy: 0.8793\n",
            "Epoch 2/2\n",
            "608/608 [==============================] - 7s 11ms/step - loss: 0.0151 - accuracy: 0.9873 - val_loss: 0.0630 - val_accuracy: 0.8797\n"
          ]
        },
        {
          "output_type": "stream",
          "name": "stderr",
          "text": [
            "\u001b[32m[I 2022-04-14 10:11:41,512]\u001b[0m Trial 46 finished with value: 0.8873177766799927 and parameters: {'epochs': 2, 'batch_size': 61, 'embedding_dim': 45, 'units': 179, 'dropout': 0.2, 'n_neurons': 35}. Best is trial 24 with value: 0.8905733704566956.\u001b[0m\n"
          ]
        },
        {
          "output_type": "stream",
          "name": "stdout",
          "text": [
            "{'epochs': 2, 'batch_size': 64, 'embedding_dim': 56, 'units': 278, 'dropout': 0.1, 'n_neurons': 116}\n",
            "Epoch 1/2\n",
            "579/579 [==============================] - 13s 16ms/step - loss: 0.1166 - accuracy: 0.7531 - val_loss: 0.0640 - val_accuracy: 0.8858\n",
            "Epoch 2/2\n",
            "579/579 [==============================] - 9s 15ms/step - loss: 0.0493 - accuracy: 0.9157 - val_loss: 0.0565 - val_accuracy: 0.8902\n",
            "Epoch 1/2\n",
            "579/579 [==============================] - 9s 15ms/step - loss: 0.0310 - accuracy: 0.9524 - val_loss: 0.0584 - val_accuracy: 0.8846\n",
            "Epoch 2/2\n",
            "579/579 [==============================] - 9s 15ms/step - loss: 0.0236 - accuracy: 0.9653 - val_loss: 0.0556 - val_accuracy: 0.8873\n",
            "Epoch 1/2\n",
            "579/579 [==============================] - 9s 15ms/step - loss: 0.0194 - accuracy: 0.9707 - val_loss: 0.0647 - val_accuracy: 0.8744\n",
            "Epoch 2/2\n",
            "579/579 [==============================] - 9s 15ms/step - loss: 0.0168 - accuracy: 0.9754 - val_loss: 0.0577 - val_accuracy: 0.8926\n",
            "Epoch 1/2\n",
            "579/579 [==============================] - 9s 15ms/step - loss: 0.0136 - accuracy: 0.9823 - val_loss: 0.0609 - val_accuracy: 0.8822\n",
            "Epoch 2/2\n",
            "579/579 [==============================] - 9s 15ms/step - loss: 0.0109 - accuracy: 0.9878 - val_loss: 0.0612 - val_accuracy: 0.8841\n",
            "Epoch 1/2\n",
            "579/579 [==============================] - 9s 15ms/step - loss: 0.0089 - accuracy: 0.9911 - val_loss: 0.0605 - val_accuracy: 0.8868\n",
            "Epoch 2/2\n",
            "579/579 [==============================] - 9s 15ms/step - loss: 0.0076 - accuracy: 0.9928 - val_loss: 0.0621 - val_accuracy: 0.8814\n"
          ]
        },
        {
          "output_type": "stream",
          "name": "stderr",
          "text": [
            "\u001b[32m[I 2022-04-14 10:13:16,415]\u001b[0m Trial 47 finished with value: 0.8871234297752381 and parameters: {'epochs': 2, 'batch_size': 64, 'embedding_dim': 56, 'units': 278, 'dropout': 0.1, 'n_neurons': 116}. Best is trial 24 with value: 0.8905733704566956.\u001b[0m\n"
          ]
        },
        {
          "output_type": "stream",
          "name": "stdout",
          "text": [
            "{'epochs': 4, 'batch_size': 58, 'embedding_dim': 38, 'units': 291, 'dropout': 0.30000000000000004, 'n_neurons': 51}\n",
            "Epoch 1/4\n",
            "639/639 [==============================] - 14s 16ms/step - loss: 0.1310 - accuracy: 0.7280 - val_loss: 0.0689 - val_accuracy: 0.8761\n",
            "Epoch 2/4\n",
            "639/639 [==============================] - 10s 15ms/step - loss: 0.0621 - accuracy: 0.9054 - val_loss: 0.0588 - val_accuracy: 0.8946\n",
            "Epoch 3/4\n",
            "639/639 [==============================] - 10s 15ms/step - loss: 0.0428 - accuracy: 0.9431 - val_loss: 0.0603 - val_accuracy: 0.8829\n",
            "Epoch 4/4\n",
            "639/639 [==============================] - 10s 15ms/step - loss: 0.0338 - accuracy: 0.9600 - val_loss: 0.0592 - val_accuracy: 0.8846\n",
            "Epoch 1/4\n",
            "639/639 [==============================] - 10s 15ms/step - loss: 0.0286 - accuracy: 0.9670 - val_loss: 0.0577 - val_accuracy: 0.8880\n",
            "Epoch 2/4\n",
            "639/639 [==============================] - 10s 15ms/step - loss: 0.0260 - accuracy: 0.9695 - val_loss: 0.0611 - val_accuracy: 0.8819\n",
            "Epoch 3/4\n",
            "639/639 [==============================] - 10s 15ms/step - loss: 0.0237 - accuracy: 0.9730 - val_loss: 0.0616 - val_accuracy: 0.8851\n",
            "Epoch 4/4\n",
            "639/639 [==============================] - 10s 15ms/step - loss: 0.0223 - accuracy: 0.9744 - val_loss: 0.0636 - val_accuracy: 0.8788\n",
            "Epoch 1/4\n",
            "639/639 [==============================] - 10s 15ms/step - loss: 0.0207 - accuracy: 0.9773 - val_loss: 0.0644 - val_accuracy: 0.8778\n",
            "Epoch 2/4\n",
            "639/639 [==============================] - 10s 15ms/step - loss: 0.0209 - accuracy: 0.9788 - val_loss: 0.0667 - val_accuracy: 0.8724\n",
            "Epoch 3/4\n",
            "639/639 [==============================] - 10s 15ms/step - loss: 0.0172 - accuracy: 0.9837 - val_loss: 0.0673 - val_accuracy: 0.8724\n",
            "Epoch 4/4\n",
            "639/639 [==============================] - 10s 15ms/step - loss: 0.0160 - accuracy: 0.9868 - val_loss: 0.0718 - val_accuracy: 0.8642\n",
            "Epoch 1/4\n",
            "639/639 [==============================] - 10s 15ms/step - loss: 0.0146 - accuracy: 0.9889 - val_loss: 0.0689 - val_accuracy: 0.8656\n",
            "Epoch 2/4\n",
            "639/639 [==============================] - 10s 15ms/step - loss: 0.0132 - accuracy: 0.9913 - val_loss: 0.0691 - val_accuracy: 0.8686\n",
            "Epoch 3/4\n",
            "639/639 [==============================] - 10s 15ms/step - loss: 0.0129 - accuracy: 0.9920 - val_loss: 0.0694 - val_accuracy: 0.8681\n",
            "Epoch 4/4\n",
            "639/639 [==============================] - 10s 15ms/step - loss: 0.0123 - accuracy: 0.9931 - val_loss: 0.0746 - val_accuracy: 0.8554\n",
            "Epoch 1/4\n",
            "639/639 [==============================] - 10s 15ms/step - loss: 0.0118 - accuracy: 0.9940 - val_loss: 0.0765 - val_accuracy: 0.8588\n",
            "Epoch 2/4\n",
            "639/639 [==============================] - 10s 15ms/step - loss: 0.0117 - accuracy: 0.9942 - val_loss: 0.0714 - val_accuracy: 0.8627\n",
            "Epoch 3/4\n",
            "639/639 [==============================] - 10s 15ms/step - loss: 0.0113 - accuracy: 0.9941 - val_loss: 0.0717 - val_accuracy: 0.8656\n",
            "Epoch 4/4\n",
            "639/639 [==============================] - 10s 15ms/step - loss: 0.0108 - accuracy: 0.9949 - val_loss: 0.0701 - val_accuracy: 0.8678\n"
          ]
        },
        {
          "output_type": "stream",
          "name": "stderr",
          "text": [
            "\u001b[32m[I 2022-04-14 10:16:35,659]\u001b[0m Trial 48 finished with value: 0.87016521692276 and parameters: {'epochs': 4, 'batch_size': 58, 'embedding_dim': 38, 'units': 291, 'dropout': 0.30000000000000004, 'n_neurons': 51}. Best is trial 24 with value: 0.8905733704566956.\u001b[0m\n"
          ]
        },
        {
          "output_type": "stream",
          "name": "stdout",
          "text": [
            "{'epochs': 2, 'batch_size': 55, 'embedding_dim': 48, 'units': 327, 'dropout': 0.1, 'n_neurons': 113}\n",
            "Epoch 1/2\n",
            "674/674 [==============================] - 16s 20ms/step - loss: 0.1148 - accuracy: 0.7566 - val_loss: 0.0637 - val_accuracy: 0.8856\n",
            "Epoch 2/2\n",
            "674/674 [==============================] - 13s 19ms/step - loss: 0.0501 - accuracy: 0.9147 - val_loss: 0.0571 - val_accuracy: 0.8941\n",
            "Epoch 1/2\n",
            "674/674 [==============================] - 13s 19ms/step - loss: 0.0314 - accuracy: 0.9523 - val_loss: 0.0541 - val_accuracy: 0.8943\n",
            "Epoch 2/2\n",
            "674/674 [==============================] - 13s 19ms/step - loss: 0.0239 - accuracy: 0.9644 - val_loss: 0.0581 - val_accuracy: 0.8875\n",
            "Epoch 1/2\n",
            "674/674 [==============================] - 13s 19ms/step - loss: 0.0191 - accuracy: 0.9720 - val_loss: 0.0609 - val_accuracy: 0.8846\n",
            "Epoch 2/2\n",
            "674/674 [==============================] - 13s 19ms/step - loss: 0.0167 - accuracy: 0.9753 - val_loss: 0.0575 - val_accuracy: 0.8878\n",
            "Epoch 1/2\n",
            "674/674 [==============================] - 13s 19ms/step - loss: 0.0139 - accuracy: 0.9817 - val_loss: 0.0601 - val_accuracy: 0.8861\n",
            "Epoch 2/2\n",
            "674/674 [==============================] - 13s 19ms/step - loss: 0.0112 - accuracy: 0.9866 - val_loss: 0.0617 - val_accuracy: 0.8836\n",
            "Epoch 1/2\n",
            "674/674 [==============================] - 13s 19ms/step - loss: 0.0088 - accuracy: 0.9920 - val_loss: 0.0671 - val_accuracy: 0.8688\n",
            "Epoch 2/2\n",
            "674/674 [==============================] - 13s 19ms/step - loss: 0.0074 - accuracy: 0.9939 - val_loss: 0.0634 - val_accuracy: 0.8800\n"
          ]
        },
        {
          "output_type": "stream",
          "name": "stderr",
          "text": [
            "\u001b[32m[I 2022-04-14 10:19:04,441]\u001b[0m Trial 49 finished with value: 0.8865889191627503 and parameters: {'epochs': 2, 'batch_size': 55, 'embedding_dim': 48, 'units': 327, 'dropout': 0.1, 'n_neurons': 113}. Best is trial 24 with value: 0.8905733704566956.\u001b[0m\n"
          ]
        },
        {
          "output_type": "stream",
          "name": "stdout",
          "text": [
            "{'epochs': 2, 'batch_size': 51, 'embedding_dim': 61, 'units': 241, 'dropout': 0.2, 'n_neurons': 105}\n",
            "Epoch 1/2\n",
            "727/727 [==============================] - 13s 14ms/step - loss: 0.1142 - accuracy: 0.7661 - val_loss: 0.0631 - val_accuracy: 0.8827\n",
            "Epoch 2/2\n",
            "727/727 [==============================] - 9s 13ms/step - loss: 0.0526 - accuracy: 0.9122 - val_loss: 0.0561 - val_accuracy: 0.8958\n",
            "Epoch 1/2\n",
            "727/727 [==============================] - 9s 13ms/step - loss: 0.0331 - accuracy: 0.9514 - val_loss: 0.0535 - val_accuracy: 0.8965\n",
            "Epoch 2/2\n",
            "727/727 [==============================] - 9s 13ms/step - loss: 0.0251 - accuracy: 0.9651 - val_loss: 0.0588 - val_accuracy: 0.8839\n",
            "Epoch 1/2\n",
            "727/727 [==============================] - 9s 13ms/step - loss: 0.0209 - accuracy: 0.9712 - val_loss: 0.0577 - val_accuracy: 0.8904\n",
            "Epoch 2/2\n",
            "727/727 [==============================] - 9s 13ms/step - loss: 0.0183 - accuracy: 0.9737 - val_loss: 0.0623 - val_accuracy: 0.8846\n",
            "Epoch 1/2\n",
            "727/727 [==============================] - 9s 13ms/step - loss: 0.0158 - accuracy: 0.9785 - val_loss: 0.0633 - val_accuracy: 0.8831\n",
            "Epoch 2/2\n",
            "727/727 [==============================] - 9s 13ms/step - loss: 0.0134 - accuracy: 0.9847 - val_loss: 0.0592 - val_accuracy: 0.8904\n",
            "Epoch 1/2\n",
            "727/727 [==============================] - 9s 13ms/step - loss: 0.0110 - accuracy: 0.9895 - val_loss: 0.0607 - val_accuracy: 0.8805\n",
            "Epoch 2/2\n",
            "727/727 [==============================] - 10s 13ms/step - loss: 0.0101 - accuracy: 0.9903 - val_loss: 0.0625 - val_accuracy: 0.8844\n"
          ]
        },
        {
          "output_type": "stream",
          "name": "stderr",
          "text": [
            "\u001b[32m[I 2022-04-14 10:20:45,513]\u001b[0m Trial 50 finished with value: 0.8878036975860596 and parameters: {'epochs': 2, 'batch_size': 51, 'embedding_dim': 61, 'units': 241, 'dropout': 0.2, 'n_neurons': 105}. Best is trial 24 with value: 0.8905733704566956.\u001b[0m\n"
          ]
        },
        {
          "output_type": "stream",
          "name": "stdout",
          "text": [
            "{'epochs': 2, 'batch_size': 52, 'embedding_dim': 62, 'units': 248, 'dropout': 0.2, 'n_neurons': 106}\n",
            "Epoch 1/2\n",
            "713/713 [==============================] - 13s 14ms/step - loss: 0.1152 - accuracy: 0.7618 - val_loss: 0.0704 - val_accuracy: 0.8727\n",
            "Epoch 2/2\n",
            "713/713 [==============================] - 9s 13ms/step - loss: 0.0523 - accuracy: 0.9145 - val_loss: 0.0565 - val_accuracy: 0.8875\n",
            "Epoch 1/2\n",
            "713/713 [==============================] - 9s 13ms/step - loss: 0.0335 - accuracy: 0.9516 - val_loss: 0.0565 - val_accuracy: 0.8897\n",
            "Epoch 2/2\n",
            "713/713 [==============================] - 9s 13ms/step - loss: 0.0254 - accuracy: 0.9656 - val_loss: 0.0572 - val_accuracy: 0.8931\n",
            "Epoch 1/2\n",
            "713/713 [==============================] - 9s 13ms/step - loss: 0.0214 - accuracy: 0.9712 - val_loss: 0.0574 - val_accuracy: 0.8885\n",
            "Epoch 2/2\n",
            "713/713 [==============================] - 9s 13ms/step - loss: 0.0183 - accuracy: 0.9744 - val_loss: 0.0593 - val_accuracy: 0.8846\n",
            "Epoch 1/2\n",
            "713/713 [==============================] - 9s 13ms/step - loss: 0.0160 - accuracy: 0.9796 - val_loss: 0.0617 - val_accuracy: 0.8810\n",
            "Epoch 2/2\n",
            "713/713 [==============================] - 9s 13ms/step - loss: 0.0130 - accuracy: 0.9854 - val_loss: 0.0629 - val_accuracy: 0.8785\n",
            "Epoch 1/2\n",
            "713/713 [==============================] - 9s 13ms/step - loss: 0.0116 - accuracy: 0.9884 - val_loss: 0.0634 - val_accuracy: 0.8814\n",
            "Epoch 2/2\n",
            "713/713 [==============================] - 9s 13ms/step - loss: 0.0097 - accuracy: 0.9913 - val_loss: 0.0627 - val_accuracy: 0.8805\n"
          ]
        },
        {
          "output_type": "stream",
          "name": "stderr",
          "text": [
            "\u001b[32m[I 2022-04-14 10:22:24,980]\u001b[0m Trial 51 finished with value: 0.8848396420478821 and parameters: {'epochs': 2, 'batch_size': 52, 'embedding_dim': 62, 'units': 248, 'dropout': 0.2, 'n_neurons': 106}. Best is trial 24 with value: 0.8905733704566956.\u001b[0m\n"
          ]
        },
        {
          "output_type": "stream",
          "name": "stdout",
          "text": [
            "{'epochs': 2, 'batch_size': 49, 'embedding_dim': 62, 'units': 233, 'dropout': 0.2, 'n_neurons': 125}\n",
            "Epoch 1/2\n",
            "756/756 [==============================] - 14s 14ms/step - loss: 0.1140 - accuracy: 0.7655 - val_loss: 0.0645 - val_accuracy: 0.8817\n",
            "Epoch 2/2\n",
            "756/756 [==============================] - 9s 13ms/step - loss: 0.0511 - accuracy: 0.9156 - val_loss: 0.0566 - val_accuracy: 0.8924\n",
            "Epoch 1/2\n",
            "756/756 [==============================] - 10s 13ms/step - loss: 0.0321 - accuracy: 0.9526 - val_loss: 0.0578 - val_accuracy: 0.8875\n",
            "Epoch 2/2\n",
            "756/756 [==============================] - 10s 13ms/step - loss: 0.0252 - accuracy: 0.9659 - val_loss: 0.0556 - val_accuracy: 0.8943\n",
            "Epoch 1/2\n",
            "756/756 [==============================] - 10s 13ms/step - loss: 0.0206 - accuracy: 0.9717 - val_loss: 0.0565 - val_accuracy: 0.8933\n",
            "Epoch 2/2\n",
            "756/756 [==============================] - 10s 13ms/step - loss: 0.0185 - accuracy: 0.9736 - val_loss: 0.0606 - val_accuracy: 0.8844\n",
            "Epoch 1/2\n",
            "756/756 [==============================] - 10s 13ms/step - loss: 0.0163 - accuracy: 0.9765 - val_loss: 0.0616 - val_accuracy: 0.8858\n",
            "Epoch 2/2\n",
            "756/756 [==============================] - 10s 13ms/step - loss: 0.0137 - accuracy: 0.9829 - val_loss: 0.0620 - val_accuracy: 0.8856\n",
            "Epoch 1/2\n",
            "756/756 [==============================] - 10s 13ms/step - loss: 0.0115 - accuracy: 0.9879 - val_loss: 0.0621 - val_accuracy: 0.8844\n",
            "Epoch 2/2\n",
            "756/756 [==============================] - 10s 13ms/step - loss: 0.0097 - accuracy: 0.9913 - val_loss: 0.0647 - val_accuracy: 0.8834\n"
          ]
        },
        {
          "output_type": "stream",
          "name": "stderr",
          "text": [
            "\u001b[32m[I 2022-04-14 10:24:09,357]\u001b[0m Trial 52 finished with value: 0.8879980564117431 and parameters: {'epochs': 2, 'batch_size': 49, 'embedding_dim': 62, 'units': 233, 'dropout': 0.2, 'n_neurons': 125}. Best is trial 24 with value: 0.8905733704566956.\u001b[0m\n"
          ]
        },
        {
          "output_type": "stream",
          "name": "stdout",
          "text": [
            "{'epochs': 2, 'batch_size': 47, 'embedding_dim': 59, 'units': 210, 'dropout': 0.1, 'n_neurons': 124}\n",
            "Epoch 1/2\n",
            "789/789 [==============================] - 13s 13ms/step - loss: 0.1104 - accuracy: 0.7709 - val_loss: 0.0630 - val_accuracy: 0.8810\n",
            "Epoch 2/2\n",
            "789/789 [==============================] - 9s 12ms/step - loss: 0.0488 - accuracy: 0.9158 - val_loss: 0.0617 - val_accuracy: 0.8795\n",
            "Epoch 1/2\n",
            "789/789 [==============================] - 9s 12ms/step - loss: 0.0300 - accuracy: 0.9542 - val_loss: 0.0561 - val_accuracy: 0.8963\n",
            "Epoch 2/2\n",
            "789/789 [==============================] - 9s 12ms/step - loss: 0.0228 - accuracy: 0.9658 - val_loss: 0.0584 - val_accuracy: 0.8873\n",
            "Epoch 1/2\n",
            "789/789 [==============================] - 9s 11ms/step - loss: 0.0191 - accuracy: 0.9707 - val_loss: 0.0605 - val_accuracy: 0.8875\n",
            "Epoch 2/2\n",
            "789/789 [==============================] - 9s 12ms/step - loss: 0.0166 - accuracy: 0.9744 - val_loss: 0.0604 - val_accuracy: 0.8873\n",
            "Epoch 1/2\n",
            "789/789 [==============================] - 9s 12ms/step - loss: 0.0138 - accuracy: 0.9808 - val_loss: 0.0641 - val_accuracy: 0.8800\n",
            "Epoch 2/2\n",
            "789/789 [==============================] - 9s 12ms/step - loss: 0.0112 - accuracy: 0.9866 - val_loss: 0.0644 - val_accuracy: 0.8841\n",
            "Epoch 1/2\n",
            "789/789 [==============================] - 9s 12ms/step - loss: 0.0087 - accuracy: 0.9907 - val_loss: 0.0640 - val_accuracy: 0.8778\n",
            "Epoch 2/2\n",
            "789/789 [==============================] - 9s 12ms/step - loss: 0.0075 - accuracy: 0.9930 - val_loss: 0.0620 - val_accuracy: 0.8805\n"
          ]
        },
        {
          "output_type": "stream",
          "name": "stderr",
          "text": [
            "\u001b[32m[I 2022-04-14 10:25:48,884]\u001b[0m Trial 53 finished with value: 0.8837220668792725 and parameters: {'epochs': 2, 'batch_size': 47, 'embedding_dim': 59, 'units': 210, 'dropout': 0.1, 'n_neurons': 124}. Best is trial 24 with value: 0.8905733704566956.\u001b[0m\n"
          ]
        },
        {
          "output_type": "stream",
          "name": "stdout",
          "text": [
            "{'epochs': 2, 'batch_size': 37, 'embedding_dim': 64, 'units': 174, 'dropout': 0.2, 'n_neurons': 124}\n",
            "Epoch 1/2\n",
            "1002/1002 [==============================] - 16s 12ms/step - loss: 0.1118 - accuracy: 0.7703 - val_loss: 0.0650 - val_accuracy: 0.8793\n",
            "Epoch 2/2\n",
            "1002/1002 [==============================] - 11s 11ms/step - loss: 0.0513 - accuracy: 0.9143 - val_loss: 0.0573 - val_accuracy: 0.8873\n",
            "Epoch 1/2\n",
            "1002/1002 [==============================] - 11s 11ms/step - loss: 0.0329 - accuracy: 0.9514 - val_loss: 0.0578 - val_accuracy: 0.8878\n",
            "Epoch 2/2\n",
            "1002/1002 [==============================] - 11s 11ms/step - loss: 0.0254 - accuracy: 0.9639 - val_loss: 0.0567 - val_accuracy: 0.8880\n",
            "Epoch 1/2\n",
            "1002/1002 [==============================] - 11s 11ms/step - loss: 0.0205 - accuracy: 0.9705 - val_loss: 0.0617 - val_accuracy: 0.8829\n",
            "Epoch 2/2\n",
            "1002/1002 [==============================] - 12s 12ms/step - loss: 0.0183 - accuracy: 0.9738 - val_loss: 0.0609 - val_accuracy: 0.8848\n",
            "Epoch 1/2\n",
            "1002/1002 [==============================] - 12s 12ms/step - loss: 0.0157 - accuracy: 0.9789 - val_loss: 0.0613 - val_accuracy: 0.8819\n",
            "Epoch 2/2\n",
            "1002/1002 [==============================] - 11s 11ms/step - loss: 0.0131 - accuracy: 0.9846 - val_loss: 0.0658 - val_accuracy: 0.8763\n",
            "Epoch 1/2\n",
            "1002/1002 [==============================] - 11s 11ms/step - loss: 0.0105 - accuracy: 0.9894 - val_loss: 0.0620 - val_accuracy: 0.8817\n",
            "Epoch 2/2\n",
            "1002/1002 [==============================] - 11s 11ms/step - loss: 0.0089 - accuracy: 0.9921 - val_loss: 0.0657 - val_accuracy: 0.8788\n"
          ]
        },
        {
          "output_type": "stream",
          "name": "stderr",
          "text": [
            "\u001b[32m[I 2022-04-14 10:28:08,333]\u001b[0m Trial 54 finished with value: 0.8830417990684509 and parameters: {'epochs': 2, 'batch_size': 37, 'embedding_dim': 64, 'units': 174, 'dropout': 0.2, 'n_neurons': 124}. Best is trial 24 with value: 0.8905733704566956.\u001b[0m\n"
          ]
        },
        {
          "output_type": "stream",
          "name": "stdout",
          "text": [
            "{'epochs': 2, 'batch_size': 43, 'embedding_dim': 54, 'units': 233, 'dropout': 0.1, 'n_neurons': 111}\n",
            "Epoch 1/2\n",
            "862/862 [==============================] - 14s 13ms/step - loss: 0.1113 - accuracy: 0.7659 - val_loss: 0.0621 - val_accuracy: 0.8827\n",
            "Epoch 2/2\n",
            "862/862 [==============================] - 10s 12ms/step - loss: 0.0481 - accuracy: 0.9180 - val_loss: 0.0540 - val_accuracy: 0.8938\n",
            "Epoch 1/2\n",
            "862/862 [==============================] - 10s 12ms/step - loss: 0.0303 - accuracy: 0.9532 - val_loss: 0.0587 - val_accuracy: 0.8916\n",
            "Epoch 2/2\n",
            "862/862 [==============================] - 10s 12ms/step - loss: 0.0225 - accuracy: 0.9666 - val_loss: 0.0523 - val_accuracy: 0.8997\n",
            "Epoch 1/2\n",
            "862/862 [==============================] - 10s 12ms/step - loss: 0.0193 - accuracy: 0.9712 - val_loss: 0.0548 - val_accuracy: 0.8938\n",
            "Epoch 2/2\n",
            "862/862 [==============================] - 10s 12ms/step - loss: 0.0166 - accuracy: 0.9743 - val_loss: 0.0598 - val_accuracy: 0.8817\n",
            "Epoch 1/2\n",
            "862/862 [==============================] - 10s 12ms/step - loss: 0.0139 - accuracy: 0.9814 - val_loss: 0.0605 - val_accuracy: 0.8882\n",
            "Epoch 2/2\n",
            "862/862 [==============================] - 10s 12ms/step - loss: 0.0109 - accuracy: 0.9871 - val_loss: 0.0611 - val_accuracy: 0.8807\n",
            "Epoch 1/2\n",
            "862/862 [==============================] - 10s 12ms/step - loss: 0.0085 - accuracy: 0.9915 - val_loss: 0.0612 - val_accuracy: 0.8819\n",
            "Epoch 2/2\n",
            "862/862 [==============================] - 10s 12ms/step - loss: 0.0072 - accuracy: 0.9942 - val_loss: 0.0636 - val_accuracy: 0.8763\n"
          ]
        },
        {
          "output_type": "stream",
          "name": "stderr",
          "text": [
            "\u001b[32m[I 2022-04-14 10:30:38,998]\u001b[0m Trial 55 finished with value: 0.8864431619644165 and parameters: {'epochs': 2, 'batch_size': 43, 'embedding_dim': 54, 'units': 233, 'dropout': 0.1, 'n_neurons': 111}. Best is trial 24 with value: 0.8905733704566956.\u001b[0m\n"
          ]
        },
        {
          "output_type": "stream",
          "name": "stdout",
          "text": [
            "{'epochs': 2, 'batch_size': 49, 'embedding_dim': 56, 'units': 266, 'dropout': 0.30000000000000004, 'n_neurons': 116}\n",
            "Epoch 1/2\n",
            "756/756 [==============================] - 15s 15ms/step - loss: 0.1176 - accuracy: 0.7622 - val_loss: 0.0645 - val_accuracy: 0.8846\n",
            "Epoch 2/2\n",
            "756/756 [==============================] - 10s 14ms/step - loss: 0.0558 - accuracy: 0.9105 - val_loss: 0.0558 - val_accuracy: 0.8926\n",
            "Epoch 1/2\n",
            "756/756 [==============================] - 10s 14ms/step - loss: 0.0364 - accuracy: 0.9484 - val_loss: 0.0544 - val_accuracy: 0.8924\n",
            "Epoch 2/2\n",
            "756/756 [==============================] - 10s 14ms/step - loss: 0.0281 - accuracy: 0.9629 - val_loss: 0.0612 - val_accuracy: 0.8834\n",
            "Epoch 1/2\n",
            "756/756 [==============================] - 11s 14ms/step - loss: 0.0236 - accuracy: 0.9698 - val_loss: 0.0579 - val_accuracy: 0.8907\n",
            "Epoch 2/2\n",
            "756/756 [==============================] - 10s 14ms/step - loss: 0.0208 - accuracy: 0.9732 - val_loss: 0.0598 - val_accuracy: 0.8858\n",
            "Epoch 1/2\n",
            "756/756 [==============================] - 10s 14ms/step - loss: 0.0189 - accuracy: 0.9749 - val_loss: 0.0583 - val_accuracy: 0.8892\n",
            "Epoch 2/2\n",
            "756/756 [==============================] - 10s 14ms/step - loss: 0.0170 - accuracy: 0.9788 - val_loss: 0.0649 - val_accuracy: 0.8756\n",
            "Epoch 1/2\n",
            "756/756 [==============================] - 10s 14ms/step - loss: 0.0144 - accuracy: 0.9842 - val_loss: 0.0627 - val_accuracy: 0.8800\n",
            "Epoch 2/2\n",
            "756/756 [==============================] - 10s 14ms/step - loss: 0.0129 - accuracy: 0.9878 - val_loss: 0.0644 - val_accuracy: 0.8802\n"
          ]
        },
        {
          "output_type": "stream",
          "name": "stderr",
          "text": [
            "\u001b[32m[I 2022-04-14 10:32:29,857]\u001b[0m Trial 56 finished with value: 0.883527684211731 and parameters: {'epochs': 2, 'batch_size': 49, 'embedding_dim': 56, 'units': 266, 'dropout': 0.30000000000000004, 'n_neurons': 116}. Best is trial 24 with value: 0.8905733704566956.\u001b[0m\n"
          ]
        },
        {
          "output_type": "stream",
          "name": "stdout",
          "text": [
            "{'epochs': 2, 'batch_size': 54, 'embedding_dim': 51, 'units': 311, 'dropout': 0.2, 'n_neurons': 121}\n",
            "Epoch 1/2\n",
            "686/686 [==============================] - 15s 17ms/step - loss: 0.1148 - accuracy: 0.7632 - val_loss: 0.0644 - val_accuracy: 0.8824\n",
            "Epoch 2/2\n",
            "686/686 [==============================] - 11s 16ms/step - loss: 0.0533 - accuracy: 0.9119 - val_loss: 0.0566 - val_accuracy: 0.8926\n",
            "Epoch 1/2\n",
            "686/686 [==============================] - 11s 16ms/step - loss: 0.0340 - accuracy: 0.9494 - val_loss: 0.0567 - val_accuracy: 0.8878\n",
            "Epoch 2/2\n",
            "686/686 [==============================] - 11s 16ms/step - loss: 0.0255 - accuracy: 0.9651 - val_loss: 0.0577 - val_accuracy: 0.8885\n",
            "Epoch 1/2\n",
            "686/686 [==============================] - 11s 16ms/step - loss: 0.0216 - accuracy: 0.9704 - val_loss: 0.0587 - val_accuracy: 0.8880\n",
            "Epoch 2/2\n",
            "686/686 [==============================] - 11s 16ms/step - loss: 0.0200 - accuracy: 0.9722 - val_loss: 0.0596 - val_accuracy: 0.8873\n",
            "Epoch 1/2\n",
            "686/686 [==============================] - 11s 16ms/step - loss: 0.0167 - accuracy: 0.9771 - val_loss: 0.0609 - val_accuracy: 0.8822\n",
            "Epoch 2/2\n",
            "686/686 [==============================] - 11s 16ms/step - loss: 0.0144 - accuracy: 0.9826 - val_loss: 0.0654 - val_accuracy: 0.8814\n",
            "Epoch 1/2\n",
            "686/686 [==============================] - 11s 16ms/step - loss: 0.0123 - accuracy: 0.9868 - val_loss: 0.0628 - val_accuracy: 0.8795\n",
            "Epoch 2/2\n",
            "686/686 [==============================] - 11s 16ms/step - loss: 0.0109 - accuracy: 0.9900 - val_loss: 0.0626 - val_accuracy: 0.8807\n"
          ]
        },
        {
          "output_type": "stream",
          "name": "stderr",
          "text": [
            "\u001b[32m[I 2022-04-14 10:34:44,556]\u001b[0m Trial 57 finished with value: 0.8861030101776123 and parameters: {'epochs': 2, 'batch_size': 54, 'embedding_dim': 51, 'units': 311, 'dropout': 0.2, 'n_neurons': 121}. Best is trial 24 with value: 0.8905733704566956.\u001b[0m\n"
          ]
        },
        {
          "output_type": "stream",
          "name": "stdout",
          "text": [
            "{'epochs': 3, 'batch_size': 23, 'embedding_dim': 43, 'units': 290, 'dropout': 0.4, 'n_neurons': 98}\n",
            "Epoch 1/3\n",
            "1611/1611 [==============================] - 23s 12ms/step - loss: 0.1205 - accuracy: 0.7604 - val_loss: 0.0722 - val_accuracy: 0.8673\n",
            "Epoch 2/3\n",
            "1611/1611 [==============================] - 18s 11ms/step - loss: 0.0613 - accuracy: 0.9047 - val_loss: 0.0565 - val_accuracy: 0.8907\n",
            "Epoch 3/3\n",
            "1611/1611 [==============================] - 19s 12ms/step - loss: 0.0423 - accuracy: 0.9418 - val_loss: 0.0573 - val_accuracy: 0.8890\n",
            "Epoch 1/3\n",
            "1611/1611 [==============================] - 19s 12ms/step - loss: 0.0332 - accuracy: 0.9587 - val_loss: 0.0611 - val_accuracy: 0.8836\n",
            "Epoch 2/3\n",
            "1611/1611 [==============================] - 19s 12ms/step - loss: 0.0290 - accuracy: 0.9652 - val_loss: 0.0562 - val_accuracy: 0.8946\n",
            "Epoch 3/3\n",
            "1611/1611 [==============================] - 19s 12ms/step - loss: 0.0257 - accuracy: 0.9707 - val_loss: 0.0591 - val_accuracy: 0.8865\n",
            "Epoch 1/3\n",
            "1611/1611 [==============================] - 18s 11ms/step - loss: 0.0234 - accuracy: 0.9734 - val_loss: 0.0592 - val_accuracy: 0.8878\n",
            "Epoch 2/3\n",
            "1611/1611 [==============================] - 18s 11ms/step - loss: 0.0204 - accuracy: 0.9776 - val_loss: 0.0627 - val_accuracy: 0.8783\n",
            "Epoch 3/3\n",
            "1611/1611 [==============================] - 19s 12ms/step - loss: 0.0183 - accuracy: 0.9822 - val_loss: 0.0624 - val_accuracy: 0.8800\n",
            "Epoch 1/3\n",
            "1611/1611 [==============================] - 18s 11ms/step - loss: 0.0162 - accuracy: 0.9859 - val_loss: 0.0662 - val_accuracy: 0.8737\n",
            "Epoch 2/3\n",
            "1611/1611 [==============================] - 18s 11ms/step - loss: 0.0144 - accuracy: 0.9891 - val_loss: 0.0683 - val_accuracy: 0.8744\n",
            "Epoch 3/3\n",
            "1611/1611 [==============================] - 18s 11ms/step - loss: 0.0138 - accuracy: 0.9899 - val_loss: 0.0698 - val_accuracy: 0.8703\n",
            "Epoch 1/3\n",
            "1611/1611 [==============================] - 18s 11ms/step - loss: 0.0128 - accuracy: 0.9917 - val_loss: 0.0679 - val_accuracy: 0.8703\n",
            "Epoch 2/3\n",
            "1611/1611 [==============================] - 18s 11ms/step - loss: 0.0121 - accuracy: 0.9924 - val_loss: 0.0664 - val_accuracy: 0.8751\n",
            "Epoch 3/3\n",
            "1611/1611 [==============================] - 18s 11ms/step - loss: 0.0114 - accuracy: 0.9933 - val_loss: 0.0699 - val_accuracy: 0.8681\n"
          ]
        },
        {
          "output_type": "stream",
          "name": "stderr",
          "text": [
            "\u001b[32m[I 2022-04-14 10:39:29,324]\u001b[0m Trial 58 finished with value: 0.8787657976150512 and parameters: {'epochs': 3, 'batch_size': 23, 'embedding_dim': 43, 'units': 290, 'dropout': 0.4, 'n_neurons': 98}. Best is trial 24 with value: 0.8905733704566956.\u001b[0m\n"
          ]
        },
        {
          "output_type": "stream",
          "name": "stdout",
          "text": [
            "{'epochs': 2, 'batch_size': 59, 'embedding_dim': 48, 'units': 343, 'dropout': 0.1, 'n_neurons': 119}\n",
            "Epoch 1/2\n",
            "628/628 [==============================] - 17s 21ms/step - loss: 0.1147 - accuracy: 0.7591 - val_loss: 0.0689 - val_accuracy: 0.8676\n",
            "Epoch 2/2\n",
            "628/628 [==============================] - 12s 20ms/step - loss: 0.0499 - accuracy: 0.9159 - val_loss: 0.0539 - val_accuracy: 0.9001\n",
            "Epoch 1/2\n",
            "628/628 [==============================] - 13s 20ms/step - loss: 0.0311 - accuracy: 0.9522 - val_loss: 0.0539 - val_accuracy: 0.8938\n",
            "Epoch 2/2\n",
            "628/628 [==============================] - 12s 20ms/step - loss: 0.0237 - accuracy: 0.9654 - val_loss: 0.0533 - val_accuracy: 0.8967\n",
            "Epoch 1/2\n",
            "628/628 [==============================] - 12s 20ms/step - loss: 0.0202 - accuracy: 0.9703 - val_loss: 0.0572 - val_accuracy: 0.8909\n",
            "Epoch 2/2\n",
            "628/628 [==============================] - 12s 20ms/step - loss: 0.0173 - accuracy: 0.9738 - val_loss: 0.0595 - val_accuracy: 0.8916\n",
            "Epoch 1/2\n",
            "628/628 [==============================] - 12s 20ms/step - loss: 0.0152 - accuracy: 0.9792 - val_loss: 0.0649 - val_accuracy: 0.8814\n",
            "Epoch 2/2\n",
            "628/628 [==============================] - 12s 20ms/step - loss: 0.0124 - accuracy: 0.9846 - val_loss: 0.0649 - val_accuracy: 0.8788\n",
            "Epoch 1/2\n",
            "628/628 [==============================] - 12s 20ms/step - loss: 0.0102 - accuracy: 0.9886 - val_loss: 0.0629 - val_accuracy: 0.8856\n",
            "Epoch 2/2\n",
            "628/628 [==============================] - 12s 20ms/step - loss: 0.0085 - accuracy: 0.9920 - val_loss: 0.0638 - val_accuracy: 0.8812\n"
          ]
        },
        {
          "output_type": "stream",
          "name": "stderr",
          "text": [
            "\u001b[32m[I 2022-04-14 10:41:40,555]\u001b[0m Trial 59 finished with value: 0.8896987438201904 and parameters: {'epochs': 2, 'batch_size': 59, 'embedding_dim': 48, 'units': 343, 'dropout': 0.1, 'n_neurons': 119}. Best is trial 24 with value: 0.8905733704566956.\u001b[0m\n"
          ]
        },
        {
          "output_type": "stream",
          "name": "stdout",
          "text": [
            "Number of finished trials:  60\n",
            "Best value: 0.8905733704566956\n",
            "Best params: {'epochs': 2, 'batch_size': 60, 'embedding_dim': 53, 'units': 511, 'dropout': 0.1, 'n_neurons': 114}\n",
            "time: 2h 38min 16s (started: 2022-04-14 08:03:24 +00:00)\n"
          ]
        }
      ],
      "source": [
        "opt.optisearch(X_train=X_train, y_train=y_train, y_test=y_test, n_trials=60)"
      ]
    },
    {
      "cell_type": "code",
      "execution_count": null,
      "metadata": {
        "id": "LW2sln-vTc7S",
        "colab": {
          "base_uri": "https://localhost:8080/"
        },
        "outputId": "41810300-5a63-487e-bf5e-bc8021abacdd"
      },
      "outputs": [
        {
          "output_type": "stream",
          "name": "stderr",
          "text": [
            "\u001b[32m[I 2022-04-14 14:41:18,292]\u001b[0m A new study created in memory with name: no-name-8fa5f64d-ec14-4481-830e-2bcb79cf6555\u001b[0m\n"
          ]
        },
        {
          "output_type": "stream",
          "name": "stdout",
          "text": [
            "{'epochs': 2, 'batch_size': 51, 'embedding_dim': 56, 'units': 455, 'dropout': 0.2, 'n_neurons': 55}\n",
            "Epoch 1/2\n",
            "727/727 [==============================] - 25s 24ms/step - loss: 0.1250 - accuracy: 0.7463 - val_loss: 0.0650 - val_accuracy: 0.8844\n",
            "Epoch 2/2\n",
            "727/727 [==============================] - 17s 23ms/step - loss: 0.0591 - accuracy: 0.9069 - val_loss: 0.0619 - val_accuracy: 0.8827\n",
            "Epoch 1/2\n",
            "727/727 [==============================] - 17s 23ms/step - loss: 0.0395 - accuracy: 0.9464 - val_loss: 0.0550 - val_accuracy: 0.8907\n",
            "Epoch 2/2\n",
            "727/727 [==============================] - 17s 24ms/step - loss: 0.0300 - accuracy: 0.9630 - val_loss: 0.0578 - val_accuracy: 0.8902\n",
            "Epoch 1/2\n",
            "727/727 [==============================] - 17s 24ms/step - loss: 0.0252 - accuracy: 0.9697 - val_loss: 0.0594 - val_accuracy: 0.8856\n",
            "Epoch 2/2\n",
            "727/727 [==============================] - 17s 24ms/step - loss: 0.0230 - accuracy: 0.9717 - val_loss: 0.0612 - val_accuracy: 0.8810\n",
            "Epoch 1/2\n",
            "727/727 [==============================] - 18s 24ms/step - loss: 0.0203 - accuracy: 0.9764 - val_loss: 0.0600 - val_accuracy: 0.8846\n",
            "Epoch 2/2\n",
            "727/727 [==============================] - 18s 24ms/step - loss: 0.0172 - accuracy: 0.9818 - val_loss: 0.0627 - val_accuracy: 0.8793\n",
            "Epoch 1/2\n",
            "727/727 [==============================] - 18s 24ms/step - loss: 0.0151 - accuracy: 0.9855 - val_loss: 0.0646 - val_accuracy: 0.8766\n",
            "Epoch 2/2\n",
            "341/727 [=============>................] - ETA: 9s - loss: 0.0133 - accuracy: 0.9892"
          ]
        }
      ],
      "source": [
        "opt.optisearch(X_train=X_train, y_train=y_train, y_test=y_test, n_trials=60, CV=5)"
      ]
    },
    {
      "cell_type": "markdown",
      "metadata": {
        "id": "hdLQ58gVIm8a"
      },
      "source": [
        "### Tests perso"
      ]
    },
    {
      "cell_type": "code",
      "execution_count": null,
      "metadata": {
        "id": "4X_wIsASIm8a"
      },
      "outputs": [],
      "source": [
        "tests_perso = [\"I think covid is the most horrible threat we ever faced\",\n",
        "                \"I love covid, thanks to it I can see my family much more often and I don't have to comute as much\",\n",
        "                \"I would love to come to your birthday party, but I got covid, I have to stay confined\"\n",
        "]"
      ]
    },
    {
      "cell_type": "code",
      "execution_count": null,
      "metadata": {
        "id": "PjtuAMrAIm8a"
      },
      "outputs": [],
      "source": [
        "predictions_out = eclf2.predict(tests_perso)\n"
      ]
    },
    {
      "cell_type": "code",
      "execution_count": null,
      "metadata": {
        "colab": {
          "base_uri": "https://localhost:8080/"
        },
        "id": "ISxBcyP0Im8a",
        "outputId": "07019939-277f-4afc-ac29-87be2c393f89"
      },
      "outputs": [
        {
          "data": {
            "text/plain": [
              "array([-1,  1,  1])"
            ]
          },
          "execution_count": 37,
          "metadata": {},
          "output_type": "execute_result"
        }
      ],
      "source": [
        "predictions_out"
      ]
    },
    {
      "cell_type": "code",
      "execution_count": null,
      "metadata": {
        "id": "GcZWxJjILuSX"
      },
      "outputs": [],
      "source": [
        ""
      ]
    },
    {
      "cell_type": "code",
      "execution_count": null,
      "metadata": {
        "id": "IAz4HeRBLuSX"
      },
      "outputs": [],
      "source": [
        ""
      ]
    },
    {
      "cell_type": "code",
      "execution_count": null,
      "metadata": {
        "id": "XXp5KM1XLuSX"
      },
      "outputs": [],
      "source": [
        ""
      ]
    }
  ],
  "metadata": {
    "accelerator": "GPU",
    "colab": {
      "collapsed_sections": [],
      "machine_shape": "hm",
      "name": "main_notebook.ipynb",
      "provenance": []
    },
    "interpreter": {
      "hash": "822dd2d5dd360abba25557036e653898358cd5c8dbb7b3b755070434497e6489"
    },
    "kernelspec": {
      "display_name": "Python 3",
      "language": "python",
      "name": "python3"
    },
    "language_info": {
      "codemirror_mode": {
        "name": "ipython",
        "version": 3
      },
      "file_extension": ".py",
      "mimetype": "text/x-python",
      "name": "python",
      "nbconvert_exporter": "python",
      "pygments_lexer": "ipython3",
      "version": "3.10.4"
    }
  },
  "nbformat": 4,
  "nbformat_minor": 0
}