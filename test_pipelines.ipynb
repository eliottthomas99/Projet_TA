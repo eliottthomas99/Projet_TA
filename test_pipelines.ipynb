{
  "cells": [
    {
      "cell_type": "code",
      "execution_count": 1,
      "metadata": {
        "colab": {
          "base_uri": "https://localhost:8080/"
        },
        "id": "d9HjnVDmssa8",
        "outputId": "d1341450-00de-45aa-9910-f16b2ccc1390"
      },
      "outputs": [
        {
          "ename": "ModuleNotFoundError",
          "evalue": "No module named 'google.colab'",
          "output_type": "error",
          "traceback": [
            "\u001b[0;31m---------------------------------------------------------------------------\u001b[0m",
            "\u001b[0;31mModuleNotFoundError\u001b[0m                       Traceback (most recent call last)",
            "\u001b[1;32m/home/eliott/pCloudDrive/ELIOTTDOC/3A_ENSSAT/NotesCours/Hiver/TA/Projet_TA/Projet_TA/test_pipelines.ipynb Cell 1'\u001b[0m in \u001b[0;36m<cell line: 2>\u001b[0;34m()\u001b[0m\n\u001b[1;32m      <a href='vscode-notebook-cell:/home/eliott/pCloudDrive/ELIOTTDOC/3A_ENSSAT/NotesCours/Hiver/TA/Projet_TA/Projet_TA/test_pipelines.ipynb#ch0000000?line=0'>1</a>\u001b[0m \u001b[39mfrom\u001b[39;00m \u001b[39mos\u001b[39;00m \u001b[39mimport\u001b[39;00m chdir\n\u001b[0;32m----> <a href='vscode-notebook-cell:/home/eliott/pCloudDrive/ELIOTTDOC/3A_ENSSAT/NotesCours/Hiver/TA/Projet_TA/Projet_TA/test_pipelines.ipynb#ch0000000?line=1'>2</a>\u001b[0m \u001b[39mfrom\u001b[39;00m \u001b[39mgoogle\u001b[39;00m\u001b[39m.\u001b[39;00m\u001b[39mcolab\u001b[39;00m \u001b[39mimport\u001b[39;00m drive\n\u001b[1;32m      <a href='vscode-notebook-cell:/home/eliott/pCloudDrive/ELIOTTDOC/3A_ENSSAT/NotesCours/Hiver/TA/Projet_TA/Projet_TA/test_pipelines.ipynb#ch0000000?line=3'>4</a>\u001b[0m drive\u001b[39m.\u001b[39mmount(\u001b[39m\"\u001b[39m\u001b[39m/content/drive\u001b[39m\u001b[39m\"\u001b[39m, force_remount\u001b[39m=\u001b[39m\u001b[39mTrue\u001b[39;00m)\n\u001b[1;32m      <a href='vscode-notebook-cell:/home/eliott/pCloudDrive/ELIOTTDOC/3A_ENSSAT/NotesCours/Hiver/TA/Projet_TA/Projet_TA/test_pipelines.ipynb#ch0000000?line=4'>5</a>\u001b[0m chdir(\u001b[39m\"\u001b[39m\u001b[39m/content/drive/MyDrive/Eliott/files/\u001b[39m\u001b[39m\"\u001b[39m)\n",
            "\u001b[0;31mModuleNotFoundError\u001b[0m: No module named 'google.colab'"
          ]
        }
      ],
      "source": [
        "# from os import chdir\n",
        "# from google.colab import drive\n",
        "\n",
        "# drive.mount(\"/content/drive\", force_remount=True)\n",
        "# chdir(\"/content/drive/MyDrive/Eliott/files/\")\n",
        "\n",
        "# !pip install tweet-preprocessor\n",
        "# %pip install ipython-autotime\n",
        "# %pip install optuna"
      ]
    },
    {
      "cell_type": "code",
      "execution_count": 2,
      "metadata": {
        "colab": {
          "base_uri": "https://localhost:8080/"
        },
        "id": "v-9SGvosr0_w",
        "outputId": "dd509954-eb4f-4f2b-a13c-9c8a8ddb1d12"
      },
      "outputs": [
        {
          "name": "stderr",
          "output_type": "stream",
          "text": [
            "2022-04-15 22:40:20.876281: W tensorflow/stream_executor/platform/default/dso_loader.cc:64] Could not load dynamic library 'libcudart.so.11.0'; dlerror: libcudart.so.11.0: cannot open shared object file: No such file or directory\n",
            "2022-04-15 22:40:20.876305: I tensorflow/stream_executor/cuda/cudart_stub.cc:29] Ignore above cudart dlerror if you do not have a GPU set up on your machine.\n"
          ]
        },
        {
          "name": "stdout",
          "output_type": "stream",
          "text": [
            "time: 617 µs (started: 2022-04-15 22:40:24 -04:00)\n"
          ]
        }
      ],
      "source": [
        "# IMPORTS\n",
        "\n",
        "import preprocessing as pp\n",
        "import hyperparameters as hp\n",
        "import RNN as rnn\n",
        "import optimising as opt\n",
        "import json\n",
        "from sklearn.metrics import accuracy_score, classification_report\n",
        "from sklearn.ensemble import VotingClassifier\n",
        "\n",
        "\n",
        "\n",
        "%load_ext autoreload\n",
        "%autoreload 2\n",
        "\n",
        "\n",
        "#\n",
        "%load_ext autotime\n"
      ]
    },
    {
      "cell_type": "code",
      "execution_count": 3,
      "metadata": {
        "colab": {
          "base_uri": "https://localhost:8080/"
        },
        "id": "LGn68XDZIm8L",
        "outputId": "6d6c7cab-29fd-494f-de7e-be641b4cca39"
      },
      "outputs": [
        {
          "name": "stdout",
          "output_type": "stream",
          "text": [
            "time: 5.75 s (started: 2022-04-15 22:40:24 -04:00)\n"
          ]
        }
      ],
      "source": [
        "file_name_train = 'Corona_NLP_train.csv'\n",
        "file_name_test = 'Corona_NLP_test.csv'\n",
        "X_train, y_train = pp.prepare_dataframe(file_name_train,lemmatising=None, original_class=False)\n",
        "X_test, y_test = pp.prepare_dataframe(file_name_test,lemmatising=None, original_class=False)"
      ]
    },
    {
      "cell_type": "code",
      "execution_count": 4,
      "metadata": {
        "colab": {
          "base_uri": "https://localhost:8080/",
          "height": 35
        },
        "id": "CsEVE6sTLuSL",
        "outputId": "e0f8390b-bc80-496c-bae5-fd359edb2cf9"
      },
      "outputs": [
        {
          "data": {
            "text/plain": [
              "'advice Talk to your neighbours family to exchange phone numbers create contact list with phone numbers of neighbours schools employer chemist GP set up online shopping accounts if poss adequate supplies of regular meds but not over order'"
            ]
          },
          "execution_count": 4,
          "metadata": {},
          "output_type": "execute_result"
        },
        {
          "name": "stdout",
          "output_type": "stream",
          "text": [
            "time: 2.33 ms (started: 2022-04-15 22:40:30 -04:00)\n"
          ]
        }
      ],
      "source": [
        "X_train[0]"
      ]
    },
    {
      "cell_type": "markdown",
      "metadata": {
        "id": "R_xUJTHaIm8M"
      },
      "source": [
        "On enlève : \n",
        "- Les URLS\n",
        "- Hashtags\n",
        "- Mentions\n",
        "- Mots réservés\n",
        "- Emojis et smileys"
      ]
    },
    {
      "cell_type": "markdown",
      "metadata": {
        "id": "b6tqgCANIm8N"
      },
      "source": [
        "- 35525 mots sans lemmatisation\n",
        "- 30794 avec lemmatisation"
      ]
    },
    {
      "cell_type": "code",
      "execution_count": 5,
      "metadata": {
        "colab": {
          "base_uri": "https://localhost:8080/"
        },
        "id": "0KNjQ8imIm8O",
        "outputId": "f4bf0ca8-f4bb-442e-f4da-a7cdb62cc076"
      },
      "outputs": [
        {
          "name": "stdout",
          "output_type": "stream",
          "text": [
            "time: 826 µs (started: 2022-04-15 22:40:32 -04:00)\n"
          ]
        }
      ],
      "source": [
        "pipeline_sgd = hp.pipeline_sgd\n",
        "pipeline_gb = hp.pipeline_gb\n",
        "pipeline_rf = hp.pipeline_rf\n",
        "pipeline_lr = hp.pipeline_lr\n",
        "pipeline_per = hp.pipeline_per\n",
        "pipeline_svc = hp.pipeline_svc"
      ]
    },
    {
      "cell_type": "markdown",
      "metadata": {
        "id": "nXpV5M9IIm8U"
      },
      "source": [
        "### Charging the best parameters for training"
      ]
    },
    {
      "cell_type": "code",
      "execution_count": 6,
      "metadata": {
        "colab": {
          "base_uri": "https://localhost:8080/"
        },
        "id": "ct7BBebdCc-w",
        "outputId": "31a67200-96d6-4e64-bcec-ac3e0af108ef"
      },
      "outputs": [
        {
          "name": "stdout",
          "output_type": "stream",
          "text": [
            "time: 1.69 ms (started: 2022-04-15 22:41:01 -04:00)\n"
          ]
        }
      ],
      "source": [
        "# Opening JSON file\n",
        "with open('data.json') as json_file:\n",
        "    data = json.load(json_file)\n",
        "\n",
        "data_sgd = data['SGD']\n",
        "data_rf = data['RF']\n",
        "data_gb = data['GB']\n",
        "data_lr = data['LR']\n",
        "data_per = data['Perceptron']\n",
        "data_svc = data['SVC']"
      ]
    },
    {
      "cell_type": "markdown",
      "metadata": {
        "id": "efhYhzvsIm8V"
      },
      "source": [
        "### Training on all training data and testing on test data"
      ]
    },
    {
      "cell_type": "code",
      "execution_count": 7,
      "metadata": {
        "colab": {
          "base_uri": "https://localhost:8080/"
        },
        "id": "Rjoag_IAIm8V",
        "outputId": "bbd62a9d-c156-4c01-c1ed-c7a9e4a45466"
      },
      "outputs": [
        {
          "name": "stdout",
          "output_type": "stream",
          "text": [
            "time: 1.2 ms (started: 2022-04-15 22:41:16 -04:00)\n"
          ]
        }
      ],
      "source": [
        "def testing(model):\n",
        "    predictions_train = model.predict(X_train)\n",
        "    predictions_test = model.predict(X_test)\n",
        "    accuracy_train = accuracy_score(y_train,predictions_train )\n",
        "    accuracy_test = accuracy_score(y_test,predictions_test )\n",
        "    print(f\"train_accuracy : {accuracy_train} \\ntest_accuracy : {accuracy_test}  \\n\")\n",
        "    print('------------------------------------------------------\\n')\n",
        "    print('\\tClassification Report Train : \\n\\n', classification_report(y_train, predictions_train, target_names=['Negative','Neutral' ,'Positive']))\n",
        "    print('------------------------------------------------------\\n')\n",
        "    print('\\tClassification Report Test:\\n\\n',classification_report(y_test,predictions_test, target_names=['Negative', 'Neutral', 'Positive']))\n",
        "    print('------------------------------------------------------\\n')\n"
      ]
    },
    {
      "cell_type": "markdown",
      "metadata": {
        "id": "c58mITNcIm8V"
      },
      "source": [
        "### SGD"
      ]
    },
    {
      "cell_type": "code",
      "execution_count": 8,
      "metadata": {
        "colab": {
          "base_uri": "https://localhost:8080/"
        },
        "id": "JoCTw5ElLuST",
        "outputId": "6f1e4dd4-d5a0-4604-a5ff-4e3430d90ec6"
      },
      "outputs": [
        {
          "data": {
            "text/plain": [
              "{'params': {'clf__alpha': 1.2000000000000002e-05,\n",
              "  'clf__penalty': 'l1',\n",
              "  'tfidf__max_df': 0.75,\n",
              "  'tfidf__min_df': 1,\n",
              "  'tfidf__ngram_range': [1, 1]},\n",
              " 'best_score': 0.8769590395125022}"
            ]
          },
          "execution_count": 8,
          "metadata": {},
          "output_type": "execute_result"
        },
        {
          "name": "stdout",
          "output_type": "stream",
          "text": [
            "time: 2.67 ms (started: 2022-04-15 22:41:25 -04:00)\n"
          ]
        }
      ],
      "source": [
        "data_sgd"
      ]
    },
    {
      "cell_type": "code",
      "execution_count": 9,
      "metadata": {
        "colab": {
          "base_uri": "https://localhost:8080/"
        },
        "id": "FozzlotYCc-w",
        "outputId": "072486a5-f4e8-4ab1-df4e-118a1238e036"
      },
      "outputs": [
        {
          "data": {
            "text/plain": [
              "Pipeline(steps=[('tfidf', TfidfVectorizer(max_df=0.75, ngram_range=[1, 1])),\n",
              "                ('clf',\n",
              "                 SGDClassifier(alpha=1.2000000000000002e-05, n_jobs=-1,\n",
              "                               penalty='l1'))])"
            ]
          },
          "execution_count": 9,
          "metadata": {},
          "output_type": "execute_result"
        },
        {
          "name": "stdout",
          "output_type": "stream",
          "text": [
            "time: 5.35 ms (started: 2022-04-15 22:41:32 -04:00)\n"
          ]
        }
      ],
      "source": [
        "model_sgd_best = pipeline_sgd\n",
        "model_sgd_best.set_params(**(data_sgd[\"params\"]),clf__n_jobs=-1) "
      ]
    },
    {
      "cell_type": "code",
      "execution_count": 15,
      "metadata": {},
      "outputs": [
        {
          "name": "stdout",
          "output_type": "stream",
          "text": [
            "time: 609 ms (started: 2022-04-15 22:48:23 -04:00)\n"
          ]
        }
      ],
      "source": [
        "from sklearn.feature_extraction.text import TfidfVectorizer\n",
        "vectorizer = TfidfVectorizer(max_df=0.75, min_df=1, ngram_range=(1,1))\n",
        "X_vect = vectorizer.fit_transform(X_train)\n",
        "X_vect_test = vectorizer.transform(X_test)"
      ]
    },
    {
      "cell_type": "code",
      "execution_count": 16,
      "metadata": {},
      "outputs": [
        {
          "name": "stdout",
          "output_type": "stream",
          "text": [
            "time: 762 µs (started: 2022-04-15 22:48:26 -04:00)\n"
          ]
        }
      ],
      "source": [
        "from sklearn.linear_model import SGDClassifier\n",
        "\n",
        "model_sgd = SGDClassifier(alpha=1.2e-5, penalty='l1')"
      ]
    },
    {
      "cell_type": "code",
      "execution_count": 17,
      "metadata": {},
      "outputs": [
        {
          "data": {
            "text/plain": [
              "SGDClassifier(alpha=1.2e-05, penalty='l1')"
            ]
          },
          "execution_count": 17,
          "metadata": {},
          "output_type": "execute_result"
        },
        {
          "name": "stdout",
          "output_type": "stream",
          "text": [
            "time: 689 ms (started: 2022-04-15 22:48:26 -04:00)\n"
          ]
        }
      ],
      "source": [
        "model_sgd.fit(X_vect, y_train)"
      ]
    },
    {
      "cell_type": "code",
      "execution_count": 10,
      "metadata": {
        "colab": {
          "base_uri": "https://localhost:8080/"
        },
        "id": "nB_Uisu1Im8V",
        "outputId": "b740759e-cb1f-43dd-af1f-38d2bf336065"
      },
      "outputs": [
        {
          "name": "stdout",
          "output_type": "stream",
          "text": [
            "CPU times: user 1.33 s, sys: 1.06 s, total: 2.39 s\n",
            "Wall time: 798 ms\n"
          ]
        },
        {
          "data": {
            "text/plain": [
              "Pipeline(steps=[('tfidf', TfidfVectorizer(max_df=0.75, ngram_range=[1, 1])),\n",
              "                ('clf',\n",
              "                 SGDClassifier(alpha=1.2000000000000002e-05, n_jobs=-1,\n",
              "                               penalty='l1'))])"
            ]
          },
          "execution_count": 10,
          "metadata": {},
          "output_type": "execute_result"
        },
        {
          "name": "stdout",
          "output_type": "stream",
          "text": [
            "time: 803 ms (started: 2022-04-15 22:41:37 -04:00)\n"
          ]
        }
      ],
      "source": [
        "%%time\n",
        "\"\"\"\n",
        "Si on a fait la recherche avant, on prend le best_model du gridSearchCv,\n",
        "Sinon, on reconstruit le modèle avec les best paramètres et on le fit à toutes les données d'entrainement. \n",
        "\"\"\"\n",
        "\n",
        "model_sgd_best.fit(X_train,y_train)\n"
      ]
    },
    {
      "cell_type": "code",
      "execution_count": 11,
      "metadata": {
        "colab": {
          "base_uri": "https://localhost:8080/"
        },
        "id": "4qLjHzHrIm8W",
        "outputId": "973926ce-a4f6-45ab-f267-294603a4bd0f"
      },
      "outputs": [
        {
          "name": "stdout",
          "output_type": "stream",
          "text": [
            "train_accuracy : 0.9314147854557987 \n",
            "test_accuracy : 0.8724192694547379  \n",
            "\n",
            "------------------------------------------------------\n",
            "\n",
            "\tClassification Report Train : \n",
            "\n",
            "               precision    recall  f1-score   support\n",
            "\n",
            "    Negative       0.93      0.93      0.93     15317\n",
            "     Neutral       0.92      0.89      0.90      7392\n",
            "    Positive       0.94      0.95      0.94     17912\n",
            "\n",
            "    accuracy                           0.93     40621\n",
            "   macro avg       0.93      0.92      0.93     40621\n",
            "weighted avg       0.93      0.93      0.93     40621\n",
            "\n",
            "------------------------------------------------------\n",
            "\n",
            "\tClassification Report Test:\n",
            "\n",
            "               precision    recall  f1-score   support\n",
            "\n",
            "    Negative       0.88      0.87      0.88      1631\n",
            "     Neutral       0.85      0.83      0.84       604\n",
            "    Positive       0.87      0.89      0.88      1543\n",
            "\n",
            "    accuracy                           0.87      3778\n",
            "   macro avg       0.87      0.86      0.87      3778\n",
            "weighted avg       0.87      0.87      0.87      3778\n",
            "\n",
            "------------------------------------------------------\n",
            "\n",
            "time: 569 ms (started: 2022-04-15 22:41:53 -04:00)\n"
          ]
        }
      ],
      "source": [
        "testing(model_sgd_best)"
      ]
    },
    {
      "cell_type": "code",
      "execution_count": 18,
      "metadata": {},
      "outputs": [
        {
          "name": "stdout",
          "output_type": "stream",
          "text": [
            "time: 1.66 ms (started: 2022-04-15 22:48:49 -04:00)\n"
          ]
        }
      ],
      "source": [
        "def testing_vect(model):\n",
        "    predictions_train = model.predict(X_vect)\n",
        "    predictions_test = model.predict(X_vect_test)\n",
        "    accuracy_train = accuracy_score(y_train,predictions_train )\n",
        "    accuracy_test = accuracy_score(y_test,predictions_test )\n",
        "    print(f\"train_accuracy : {accuracy_train} \\ntest_accuracy : {accuracy_test}  \\n\")\n",
        "    print('------------------------------------------------------\\n')\n",
        "    print('\\tClassification Report Train : \\n\\n', classification_report(y_train, predictions_train, target_names=['Negative','Neutral' ,'Positive']))\n",
        "    print('------------------------------------------------------\\n')\n",
        "    print('\\tClassification Report Test:\\n\\n',classification_report(y_test,predictions_test, target_names=['Negative', 'Neutral', 'Positive']))\n",
        "    print('------------------------------------------------------\\n')\n"
      ]
    },
    {
      "cell_type": "code",
      "execution_count": 19,
      "metadata": {},
      "outputs": [
        {
          "name": "stdout",
          "output_type": "stream",
          "text": [
            "train_accuracy : 0.9314147854557987 \n",
            "test_accuracy : 0.8676548438327157  \n",
            "\n",
            "------------------------------------------------------\n",
            "\n",
            "\tClassification Report Train : \n",
            "\n",
            "               precision    recall  f1-score   support\n",
            "\n",
            "    Negative       0.93      0.93      0.93     15317\n",
            "     Neutral       0.92      0.89      0.90      7392\n",
            "    Positive       0.94      0.95      0.94     17912\n",
            "\n",
            "    accuracy                           0.93     40621\n",
            "   macro avg       0.93      0.92      0.93     40621\n",
            "weighted avg       0.93      0.93      0.93     40621\n",
            "\n",
            "------------------------------------------------------\n",
            "\n",
            "\tClassification Report Test:\n",
            "\n",
            "               precision    recall  f1-score   support\n",
            "\n",
            "    Negative       0.88      0.87      0.87      1631\n",
            "     Neutral       0.83      0.81      0.82       604\n",
            "    Positive       0.87      0.89      0.88      1543\n",
            "\n",
            "    accuracy                           0.87      3778\n",
            "   macro avg       0.86      0.86      0.86      3778\n",
            "weighted avg       0.87      0.87      0.87      3778\n",
            "\n",
            "------------------------------------------------------\n",
            "\n",
            "time: 53.5 ms (started: 2022-04-15 22:48:55 -04:00)\n"
          ]
        }
      ],
      "source": [
        "testing_vect(model_sgd)"
      ]
    },
    {
      "cell_type": "code",
      "execution_count": null,
      "metadata": {},
      "outputs": [],
      "source": []
    }
  ],
  "metadata": {
    "accelerator": "GPU",
    "colab": {
      "collapsed_sections": [],
      "machine_shape": "hm",
      "name": "main_notebook.ipynb",
      "provenance": []
    },
    "interpreter": {
      "hash": "822dd2d5dd360abba25557036e653898358cd5c8dbb7b3b755070434497e6489"
    },
    "kernelspec": {
      "display_name": "Python 3",
      "language": "python",
      "name": "python3"
    },
    "language_info": {
      "codemirror_mode": {
        "name": "ipython",
        "version": 3
      },
      "file_extension": ".py",
      "mimetype": "text/x-python",
      "name": "python",
      "nbconvert_exporter": "python",
      "pygments_lexer": "ipython3",
      "version": "3.10.4"
    }
  },
  "nbformat": 4,
  "nbformat_minor": 0
}
