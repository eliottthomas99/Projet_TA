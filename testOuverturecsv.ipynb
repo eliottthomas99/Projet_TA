{
 "cells": [
  {
   "cell_type": "code",
   "execution_count": 19,
   "metadata": {
    "colab": {
     "base_uri": "https://localhost:8080/"
    },
    "executionInfo": {
     "elapsed": 2370,
     "status": "ok",
     "timestamp": 1647282792833,
     "user": {
      "displayName": "Colab VTT",
      "photoUrl": "https://lh3.googleusercontent.com/a/default-user=s64",
      "userId": "03382129772697074349"
     },
     "user_tz": 240
    },
    "id": "d9HjnVDmssa8",
    "outputId": "91dbd9f7-864b-4edb-bce1-1eb67e886d90"
   },
   "outputs": [],
   "source": [
    "#from os import chdir\n",
    "#from google.colab import drive\n",
    "\n",
    "#drive.mount(\"/content/drive\", force_remount=True)\n",
    "#chdir(\"/content/drive/MyDrive/Eliott/files/\")"
   ]
  },
  {
   "cell_type": "code",
   "execution_count": 1,
   "metadata": {
    "id": "v-9SGvosr0_w"
   },
   "outputs": [],
   "source": [
    "# IMPORTS\n",
    "\n",
    "import numpy as np\n",
    "import pandas as pd\n",
    "\n",
    "\n"
   ]
  },
  {
   "cell_type": "code",
   "execution_count": 2,
   "metadata": {
    "id": "GJxSQ8fDr0_2"
   },
   "outputs": [],
   "source": [
    "# Ouverture\n",
    "\n",
    "df_train = pd.read_csv('Corona_NLP_train.csv', sep=',', encoding='latin')\n",
    "\n",
    "df_test = pd.read_csv('Corona_NLP_test.csv', sep=',', encoding='latin')\n",
    "\n"
   ]
  },
  {
   "cell_type": "code",
   "execution_count": 3,
   "metadata": {
    "colab": {
     "base_uri": "https://localhost:8080/"
    },
    "executionInfo": {
     "elapsed": 99,
     "status": "ok",
     "timestamp": 1647282793149,
     "user": {
      "displayName": "Colab VTT",
      "photoUrl": "https://lh3.googleusercontent.com/a/default-user=s64",
      "userId": "03382129772697074349"
     },
     "user_tz": 240
    },
    "id": "e6K6Gdokr0_3",
    "outputId": "24ea56dd-7d54-4474-d72d-01e2be339ed6"
   },
   "outputs": [
    {
     "data": {
      "text/plain": [
       "(41157, 6)"
      ]
     },
     "execution_count": 3,
     "metadata": {},
     "output_type": "execute_result"
    }
   ],
   "source": [
    "df_train.shape"
   ]
  },
  {
   "cell_type": "code",
   "execution_count": 4,
   "metadata": {
    "colab": {
     "base_uri": "https://localhost:8080/",
     "height": 206
    },
    "executionInfo": {
     "elapsed": 92,
     "status": "ok",
     "timestamp": 1647282793150,
     "user": {
      "displayName": "Colab VTT",
      "photoUrl": "https://lh3.googleusercontent.com/a/default-user=s64",
      "userId": "03382129772697074349"
     },
     "user_tz": 240
    },
    "id": "b1LPxOk_r0_4",
    "outputId": "beeae75b-cab6-4cf5-f7b7-514a38c60fd1"
   },
   "outputs": [
    {
     "data": {
      "text/html": [
       "<div>\n",
       "<style scoped>\n",
       "    .dataframe tbody tr th:only-of-type {\n",
       "        vertical-align: middle;\n",
       "    }\n",
       "\n",
       "    .dataframe tbody tr th {\n",
       "        vertical-align: top;\n",
       "    }\n",
       "\n",
       "    .dataframe thead th {\n",
       "        text-align: right;\n",
       "    }\n",
       "</style>\n",
       "<table border=\"1\" class=\"dataframe\">\n",
       "  <thead>\n",
       "    <tr style=\"text-align: right;\">\n",
       "      <th></th>\n",
       "      <th>UserName</th>\n",
       "      <th>ScreenName</th>\n",
       "      <th>Location</th>\n",
       "      <th>TweetAt</th>\n",
       "      <th>OriginalTweet</th>\n",
       "      <th>Sentiment</th>\n",
       "    </tr>\n",
       "  </thead>\n",
       "  <tbody>\n",
       "    <tr>\n",
       "      <th>0</th>\n",
       "      <td>3799</td>\n",
       "      <td>48751</td>\n",
       "      <td>London</td>\n",
       "      <td>16-03-2020</td>\n",
       "      <td>@MeNyrbie @Phil_Gahan @Chrisitv https://t.co/i...</td>\n",
       "      <td>Neutral</td>\n",
       "    </tr>\n",
       "    <tr>\n",
       "      <th>1</th>\n",
       "      <td>3800</td>\n",
       "      <td>48752</td>\n",
       "      <td>UK</td>\n",
       "      <td>16-03-2020</td>\n",
       "      <td>advice Talk to your neighbours family to excha...</td>\n",
       "      <td>Positive</td>\n",
       "    </tr>\n",
       "    <tr>\n",
       "      <th>2</th>\n",
       "      <td>3801</td>\n",
       "      <td>48753</td>\n",
       "      <td>Vagabonds</td>\n",
       "      <td>16-03-2020</td>\n",
       "      <td>Coronavirus Australia: Woolworths to give elde...</td>\n",
       "      <td>Positive</td>\n",
       "    </tr>\n",
       "    <tr>\n",
       "      <th>3</th>\n",
       "      <td>3802</td>\n",
       "      <td>48754</td>\n",
       "      <td>NaN</td>\n",
       "      <td>16-03-2020</td>\n",
       "      <td>My food stock is not the only one which is emp...</td>\n",
       "      <td>Positive</td>\n",
       "    </tr>\n",
       "    <tr>\n",
       "      <th>4</th>\n",
       "      <td>3803</td>\n",
       "      <td>48755</td>\n",
       "      <td>NaN</td>\n",
       "      <td>16-03-2020</td>\n",
       "      <td>Me, ready to go at supermarket during the #COV...</td>\n",
       "      <td>Extremely Negative</td>\n",
       "    </tr>\n",
       "  </tbody>\n",
       "</table>\n",
       "</div>"
      ],
      "text/plain": [
       "   UserName  ScreenName   Location     TweetAt  \\\n",
       "0      3799       48751     London  16-03-2020   \n",
       "1      3800       48752         UK  16-03-2020   \n",
       "2      3801       48753  Vagabonds  16-03-2020   \n",
       "3      3802       48754        NaN  16-03-2020   \n",
       "4      3803       48755        NaN  16-03-2020   \n",
       "\n",
       "                                       OriginalTweet           Sentiment  \n",
       "0  @MeNyrbie @Phil_Gahan @Chrisitv https://t.co/i...             Neutral  \n",
       "1  advice Talk to your neighbours family to excha...            Positive  \n",
       "2  Coronavirus Australia: Woolworths to give elde...            Positive  \n",
       "3  My food stock is not the only one which is emp...            Positive  \n",
       "4  Me, ready to go at supermarket during the #COV...  Extremely Negative  "
      ]
     },
     "execution_count": 4,
     "metadata": {},
     "output_type": "execute_result"
    }
   ],
   "source": [
    "df_train.head()"
   ]
  },
  {
   "cell_type": "code",
   "execution_count": 5,
   "metadata": {
    "id": "YKyo0k2Cr0_5"
   },
   "outputs": [],
   "source": [
    "# PREPROCESSING"
   ]
  },
  {
   "cell_type": "markdown",
   "metadata": {
    "id": "hxNzBeDDr0_5"
   },
   "source": [
    "On vérifie qu'il n'y a pas de null (autre que location) et de ligne dupliquées"
   ]
  },
  {
   "cell_type": "code",
   "execution_count": 6,
   "metadata": {
    "colab": {
     "base_uri": "https://localhost:8080/"
    },
    "executionInfo": {
     "elapsed": 83,
     "status": "ok",
     "timestamp": 1647282793153,
     "user": {
      "displayName": "Colab VTT",
      "photoUrl": "https://lh3.googleusercontent.com/a/default-user=s64",
      "userId": "03382129772697074349"
     },
     "user_tz": 240
    },
    "id": "FVcdKZWZr0_7",
    "outputId": "924d19b2-909f-4c2e-8239-0ecbbdbc9270"
   },
   "outputs": [
    {
     "data": {
      "text/plain": [
       "Index(['UserName', 'ScreenName', 'Location', 'TweetAt', 'OriginalTweet',\n",
       "       'Sentiment'],\n",
       "      dtype='object')"
      ]
     },
     "execution_count": 6,
     "metadata": {},
     "output_type": "execute_result"
    }
   ],
   "source": [
    "df_train.columns"
   ]
  },
  {
   "cell_type": "code",
   "execution_count": 7,
   "metadata": {
    "id": "4WmpuJtUr0_9"
   },
   "outputs": [],
   "source": [
    "df_train = df_train.drop(['Location'], axis=1)\n",
    "df_test = df_test.drop(['Location'], axis=1)\n",
    "\n"
   ]
  },
  {
   "cell_type": "code",
   "execution_count": 8,
   "metadata": {
    "colab": {
     "base_uri": "https://localhost:8080/"
    },
    "executionInfo": {
     "elapsed": 70,
     "status": "ok",
     "timestamp": 1647282793159,
     "user": {
      "displayName": "Colab VTT",
      "photoUrl": "https://lh3.googleusercontent.com/a/default-user=s64",
      "userId": "03382129772697074349"
     },
     "user_tz": 240
    },
    "id": "LagZ3UGOr0_-",
    "outputId": "5d9346d5-e14a-45a7-a1bc-24580dc967eb"
   },
   "outputs": [
    {
     "data": {
      "text/plain": [
       "Positive              11422\n",
       "Negative               9917\n",
       "Neutral                7713\n",
       "Extremely Positive     6624\n",
       "Extremely Negative     5481\n",
       "Name: Sentiment, dtype: int64"
      ]
     },
     "execution_count": 8,
     "metadata": {},
     "output_type": "execute_result"
    }
   ],
   "source": [
    "df_train['Sentiment'].value_counts()"
   ]
  },
  {
   "cell_type": "code",
   "execution_count": 9,
   "metadata": {
    "colab": {
     "base_uri": "https://localhost:8080/"
    },
    "executionInfo": {
     "elapsed": 422,
     "status": "ok",
     "timestamp": 1647282793528,
     "user": {
      "displayName": "Colab VTT",
      "photoUrl": "https://lh3.googleusercontent.com/a/default-user=s64",
      "userId": "03382129772697074349"
     },
     "user_tz": 240
    },
    "id": "rtECm4T5r0__",
    "outputId": "05dddcaa-7b66-4f1e-aebd-7396a5712b96"
   },
   "outputs": [
    {
     "data": {
      "text/plain": [
       "UserName         41157\n",
       "ScreenName       41157\n",
       "TweetAt          41157\n",
       "OriginalTweet    41157\n",
       "Sentiment        41157\n",
       "dtype: int64"
      ]
     },
     "execution_count": 9,
     "metadata": {},
     "output_type": "execute_result"
    }
   ],
   "source": [
    "df_train.count()"
   ]
  },
  {
   "cell_type": "code",
   "execution_count": 10,
   "metadata": {
    "id": "6KKAxXmkr1AA"
   },
   "outputs": [],
   "source": [
    "train_df2 = df_train.dropna()\n",
    "test_df2 = df_test.dropna()\n",
    "\n"
   ]
  },
  {
   "cell_type": "code",
   "execution_count": 11,
   "metadata": {
    "colab": {
     "base_uri": "https://localhost:8080/"
    },
    "executionInfo": {
     "elapsed": 67,
     "status": "ok",
     "timestamp": 1647282793536,
     "user": {
      "displayName": "Colab VTT",
      "photoUrl": "https://lh3.googleusercontent.com/a/default-user=s64",
      "userId": "03382129772697074349"
     },
     "user_tz": 240
    },
    "id": "OX-18N-jr1AA",
    "outputId": "4cf5a959-d34c-4730-bfd4-7ac02cde1706"
   },
   "outputs": [
    {
     "data": {
      "text/plain": [
       "UserName         41157\n",
       "ScreenName       41157\n",
       "TweetAt          41157\n",
       "OriginalTweet    41157\n",
       "Sentiment        41157\n",
       "dtype: int64"
      ]
     },
     "execution_count": 11,
     "metadata": {},
     "output_type": "execute_result"
    }
   ],
   "source": [
    "train_df2.count()"
   ]
  },
  {
   "cell_type": "code",
   "execution_count": 12,
   "metadata": {
    "id": "PzvWPJA8r1AB"
   },
   "outputs": [],
   "source": [
    "train_df3 = train_df2.drop_duplicates()\n",
    "test_df3 = test_df2.drop_duplicates()"
   ]
  },
  {
   "cell_type": "code",
   "execution_count": 13,
   "metadata": {
    "colab": {
     "base_uri": "https://localhost:8080/"
    },
    "executionInfo": {
     "elapsed": 55,
     "status": "ok",
     "timestamp": 1647282793539,
     "user": {
      "displayName": "Colab VTT",
      "photoUrl": "https://lh3.googleusercontent.com/a/default-user=s64",
      "userId": "03382129772697074349"
     },
     "user_tz": 240
    },
    "id": "zRevA4Mnr1AB",
    "outputId": "0720d291-ed7a-4c35-8e36-ebca5b08d89e"
   },
   "outputs": [
    {
     "data": {
      "text/plain": [
       "UserName         41157\n",
       "ScreenName       41157\n",
       "TweetAt          41157\n",
       "OriginalTweet    41157\n",
       "Sentiment        41157\n",
       "dtype: int64"
      ]
     },
     "execution_count": 13,
     "metadata": {},
     "output_type": "execute_result"
    }
   ],
   "source": [
    "train_df3.count()"
   ]
  },
  {
   "cell_type": "markdown",
   "metadata": {
    "id": "d7Dxwv-ir1AC"
   },
   "source": [
    "On enlève : \n",
    "- Les URLS\n",
    "- Hashtags\n",
    "- Mentions\n",
    "- Mots réservés\n",
    "- Emojis et smileys\n"
   ]
  },
  {
   "cell_type": "code",
   "execution_count": 14,
   "metadata": {
    "executionInfo": {
     "elapsed": 145,
     "status": "ok",
     "timestamp": 1647283167629,
     "user": {
      "displayName": "Colab VTT",
      "photoUrl": "https://lh3.googleusercontent.com/a/default-user=s64",
      "userId": "03382129772697074349"
     },
     "user_tz": 240
    },
    "id": "BUfb-Etxr1AC"
   },
   "outputs": [],
   "source": [
    "import preprocessor as p\n"
   ]
  },
  {
   "cell_type": "code",
   "execution_count": 15,
   "metadata": {
    "executionInfo": {
     "elapsed": 6,
     "status": "ok",
     "timestamp": 1647283170617,
     "user": {
      "displayName": "Colab VTT",
      "photoUrl": "https://lh3.googleusercontent.com/a/default-user=s64",
      "userId": "03382129772697074349"
     },
     "user_tz": 240
    },
    "id": "uRR621yVr1AC"
   },
   "outputs": [],
   "source": [
    "def preprocess_tweet(row):\n",
    "    text = row['OriginalTweet']\n",
    "    text = p.clean(text)\n",
    "    return text"
   ]
  },
  {
   "cell_type": "code",
   "execution_count": 16,
   "metadata": {
    "colab": {
     "base_uri": "https://localhost:8080/",
     "height": 318
    },
    "executionInfo": {
     "elapsed": 22,
     "status": "error",
     "timestamp": 1647283171485,
     "user": {
      "displayName": "Colab VTT",
      "photoUrl": "https://lh3.googleusercontent.com/a/default-user=s64",
      "userId": "03382129772697074349"
     },
     "user_tz": 240
    },
    "id": "v96UfNKNr1AD",
    "outputId": "32f4d725-ea9b-48fd-e350-2e06f250e90c"
   },
   "outputs": [],
   "source": [
    "train_df3['OriginalTweet'] = train_df3.apply(preprocess_tweet, axis=1)\n",
    "test_df3['OriginalTweet'] = test_df3.apply(preprocess_tweet, axis=1)"
   ]
  },
  {
   "cell_type": "code",
   "execution_count": 17,
   "metadata": {
    "colab": {
     "base_uri": "https://localhost:8080/",
     "height": 206
    },
    "executionInfo": {
     "elapsed": 42,
     "status": "ok",
     "timestamp": 1647283172337,
     "user": {
      "displayName": "Colab VTT",
      "photoUrl": "https://lh3.googleusercontent.com/a/default-user=s64",
      "userId": "03382129772697074349"
     },
     "user_tz": 240
    },
    "id": "xDSRB9hir1AD",
    "outputId": "c8cb3442-4c57-47fd-cf01-9b300c01eed9"
   },
   "outputs": [
    {
     "data": {
      "text/html": [
       "<div>\n",
       "<style scoped>\n",
       "    .dataframe tbody tr th:only-of-type {\n",
       "        vertical-align: middle;\n",
       "    }\n",
       "\n",
       "    .dataframe tbody tr th {\n",
       "        vertical-align: top;\n",
       "    }\n",
       "\n",
       "    .dataframe thead th {\n",
       "        text-align: right;\n",
       "    }\n",
       "</style>\n",
       "<table border=\"1\" class=\"dataframe\">\n",
       "  <thead>\n",
       "    <tr style=\"text-align: right;\">\n",
       "      <th></th>\n",
       "      <th>UserName</th>\n",
       "      <th>ScreenName</th>\n",
       "      <th>TweetAt</th>\n",
       "      <th>OriginalTweet</th>\n",
       "      <th>Sentiment</th>\n",
       "    </tr>\n",
       "  </thead>\n",
       "  <tbody>\n",
       "    <tr>\n",
       "      <th>0</th>\n",
       "      <td>3799</td>\n",
       "      <td>48751</td>\n",
       "      <td>16-03-2020</td>\n",
       "      <td>and and</td>\n",
       "      <td>Neutral</td>\n",
       "    </tr>\n",
       "    <tr>\n",
       "      <th>1</th>\n",
       "      <td>3800</td>\n",
       "      <td>48752</td>\n",
       "      <td>16-03-2020</td>\n",
       "      <td>advice Talk to your neighbours family to excha...</td>\n",
       "      <td>Positive</td>\n",
       "    </tr>\n",
       "    <tr>\n",
       "      <th>2</th>\n",
       "      <td>3801</td>\n",
       "      <td>48753</td>\n",
       "      <td>16-03-2020</td>\n",
       "      <td>Coronavirus Australia: Woolworths to give elde...</td>\n",
       "      <td>Positive</td>\n",
       "    </tr>\n",
       "    <tr>\n",
       "      <th>3</th>\n",
       "      <td>3802</td>\n",
       "      <td>48754</td>\n",
       "      <td>16-03-2020</td>\n",
       "      <td>My food stock is not the only one which is emp...</td>\n",
       "      <td>Positive</td>\n",
       "    </tr>\n",
       "    <tr>\n",
       "      <th>4</th>\n",
       "      <td>3803</td>\n",
       "      <td>48755</td>\n",
       "      <td>16-03-2020</td>\n",
       "      <td>Me, ready to go at supermarket during the outb...</td>\n",
       "      <td>Extremely Negative</td>\n",
       "    </tr>\n",
       "  </tbody>\n",
       "</table>\n",
       "</div>"
      ],
      "text/plain": [
       "   UserName  ScreenName     TweetAt  \\\n",
       "0      3799       48751  16-03-2020   \n",
       "1      3800       48752  16-03-2020   \n",
       "2      3801       48753  16-03-2020   \n",
       "3      3802       48754  16-03-2020   \n",
       "4      3803       48755  16-03-2020   \n",
       "\n",
       "                                       OriginalTweet           Sentiment  \n",
       "0                                            and and             Neutral  \n",
       "1  advice Talk to your neighbours family to excha...            Positive  \n",
       "2  Coronavirus Australia: Woolworths to give elde...            Positive  \n",
       "3  My food stock is not the only one which is emp...            Positive  \n",
       "4  Me, ready to go at supermarket during the outb...  Extremely Negative  "
      ]
     },
     "execution_count": 17,
     "metadata": {},
     "output_type": "execute_result"
    }
   ],
   "source": [
    "train_df3.head()\n"
   ]
  },
  {
   "cell_type": "code",
   "execution_count": 19,
   "metadata": {
    "colab": {
     "base_uri": "https://localhost:8080/"
    },
    "executionInfo": {
     "elapsed": 3336,
     "status": "ok",
     "timestamp": 1647283179153,
     "user": {
      "displayName": "Colab VTT",
      "photoUrl": "https://lh3.googleusercontent.com/a/default-user=s64",
      "userId": "03382129772697074349"
     },
     "user_tz": 240
    },
    "id": "SQoY53uTr1AE",
    "outputId": "26308410-3e31-45b8-8851-46dbec419152"
   },
   "outputs": [],
   "source": [
    "train_df3['OriginalTweet'] = train_df3['OriginalTweet'].str.lower().str.replace('[^\\w\\s]',' ').str.replace('\\s\\s+', ' ')\n",
    "test_df3['OriginalTweet'] = test_df3['OriginalTweet'].str.lower().str.replace('[^\\w\\s]',' ').str.replace('\\s\\s+', ' ')"
   ]
  },
  {
   "cell_type": "code",
   "execution_count": 20,
   "metadata": {
    "colab": {
     "base_uri": "https://localhost:8080/",
     "height": 206
    },
    "executionInfo": {
     "elapsed": 19,
     "status": "ok",
     "timestamp": 1647283179154,
     "user": {
      "displayName": "Colab VTT",
      "photoUrl": "https://lh3.googleusercontent.com/a/default-user=s64",
      "userId": "03382129772697074349"
     },
     "user_tz": 240
    },
    "id": "Ti5TWu4ar1AE",
    "outputId": "735ca58d-2cd0-4a06-8648-95250286049d"
   },
   "outputs": [
    {
     "data": {
      "text/html": [
       "<div>\n",
       "<style scoped>\n",
       "    .dataframe tbody tr th:only-of-type {\n",
       "        vertical-align: middle;\n",
       "    }\n",
       "\n",
       "    .dataframe tbody tr th {\n",
       "        vertical-align: top;\n",
       "    }\n",
       "\n",
       "    .dataframe thead th {\n",
       "        text-align: right;\n",
       "    }\n",
       "</style>\n",
       "<table border=\"1\" class=\"dataframe\">\n",
       "  <thead>\n",
       "    <tr style=\"text-align: right;\">\n",
       "      <th></th>\n",
       "      <th>UserName</th>\n",
       "      <th>ScreenName</th>\n",
       "      <th>TweetAt</th>\n",
       "      <th>OriginalTweet</th>\n",
       "      <th>Sentiment</th>\n",
       "    </tr>\n",
       "  </thead>\n",
       "  <tbody>\n",
       "    <tr>\n",
       "      <th>0</th>\n",
       "      <td>3799</td>\n",
       "      <td>48751</td>\n",
       "      <td>16-03-2020</td>\n",
       "      <td>and and</td>\n",
       "      <td>Neutral</td>\n",
       "    </tr>\n",
       "    <tr>\n",
       "      <th>1</th>\n",
       "      <td>3800</td>\n",
       "      <td>48752</td>\n",
       "      <td>16-03-2020</td>\n",
       "      <td>advice talk to your neighbours family to excha...</td>\n",
       "      <td>Positive</td>\n",
       "    </tr>\n",
       "    <tr>\n",
       "      <th>2</th>\n",
       "      <td>3801</td>\n",
       "      <td>48753</td>\n",
       "      <td>16-03-2020</td>\n",
       "      <td>coronavirus australia woolworths to give elder...</td>\n",
       "      <td>Positive</td>\n",
       "    </tr>\n",
       "    <tr>\n",
       "      <th>3</th>\n",
       "      <td>3802</td>\n",
       "      <td>48754</td>\n",
       "      <td>16-03-2020</td>\n",
       "      <td>my food stock is not the only one which is emp...</td>\n",
       "      <td>Positive</td>\n",
       "    </tr>\n",
       "    <tr>\n",
       "      <th>4</th>\n",
       "      <td>3803</td>\n",
       "      <td>48755</td>\n",
       "      <td>16-03-2020</td>\n",
       "      <td>me ready to go at supermarket during the outbr...</td>\n",
       "      <td>Extremely Negative</td>\n",
       "    </tr>\n",
       "  </tbody>\n",
       "</table>\n",
       "</div>"
      ],
      "text/plain": [
       "   UserName  ScreenName     TweetAt  \\\n",
       "0      3799       48751  16-03-2020   \n",
       "1      3800       48752  16-03-2020   \n",
       "2      3801       48753  16-03-2020   \n",
       "3      3802       48754  16-03-2020   \n",
       "4      3803       48755  16-03-2020   \n",
       "\n",
       "                                       OriginalTweet           Sentiment  \n",
       "0                                            and and             Neutral  \n",
       "1  advice talk to your neighbours family to excha...            Positive  \n",
       "2  coronavirus australia woolworths to give elder...            Positive  \n",
       "3  my food stock is not the only one which is emp...            Positive  \n",
       "4  me ready to go at supermarket during the outbr...  Extremely Negative  "
      ]
     },
     "execution_count": 20,
     "metadata": {},
     "output_type": "execute_result"
    }
   ],
   "source": [
    "train_df3.head()\n"
   ]
  },
  {
   "cell_type": "code",
   "execution_count": 38,
   "metadata": {
    "executionInfo": {
     "elapsed": 65,
     "status": "ok",
     "timestamp": 1647283179479,
     "user": {
      "displayName": "Colab VTT",
      "photoUrl": "https://lh3.googleusercontent.com/a/default-user=s64",
      "userId": "03382129772697074349"
     },
     "user_tz": 240
    },
    "id": "uFXm6FDcr1AF"
   },
   "outputs": [],
   "source": [
    "def give_number_to_class(row):\n",
    "    sent = row['Sentiment']\n",
    "\n",
    "    if sent=='Extremely Negative':\n",
    "        return -1\n",
    "    elif sent=='Negative':\n",
    "        return -1\n",
    "    elif sent=='Neutral':\n",
    "        return 0\n",
    "    elif sent=='Positive':\n",
    "        return 1\n",
    "    else:\n",
    "        return 1"
   ]
  },
  {
   "cell_type": "code",
   "execution_count": 39,
   "metadata": {
    "executionInfo": {
     "elapsed": 64,
     "status": "ok",
     "timestamp": 1647283179481,
     "user": {
      "displayName": "Colab VTT",
      "photoUrl": "https://lh3.googleusercontent.com/a/default-user=s64",
      "userId": "03382129772697074349"
     },
     "user_tz": 240
    },
    "id": "r76Zyr60r1AG"
   },
   "outputs": [],
   "source": [
    "train_df3['Sentiment_Number'] = train_df3.apply(give_number_to_class, axis=1)\n",
    "test_df3['Sentiment_Number'] = test_df3.apply(give_number_to_class, axis=1)"
   ]
  },
  {
   "cell_type": "code",
   "execution_count": 40,
   "metadata": {
    "colab": {
     "base_uri": "https://localhost:8080/",
     "height": 206
    },
    "executionInfo": {
     "elapsed": 66,
     "status": "ok",
     "timestamp": 1647283179485,
     "user": {
      "displayName": "Colab VTT",
      "photoUrl": "https://lh3.googleusercontent.com/a/default-user=s64",
      "userId": "03382129772697074349"
     },
     "user_tz": 240
    },
    "id": "TIzGXzwJr1AG",
    "outputId": "1ee92638-ac4d-4cde-abc3-972bd7898007"
   },
   "outputs": [
    {
     "data": {
      "text/html": [
       "<div>\n",
       "<style scoped>\n",
       "    .dataframe tbody tr th:only-of-type {\n",
       "        vertical-align: middle;\n",
       "    }\n",
       "\n",
       "    .dataframe tbody tr th {\n",
       "        vertical-align: top;\n",
       "    }\n",
       "\n",
       "    .dataframe thead th {\n",
       "        text-align: right;\n",
       "    }\n",
       "</style>\n",
       "<table border=\"1\" class=\"dataframe\">\n",
       "  <thead>\n",
       "    <tr style=\"text-align: right;\">\n",
       "      <th></th>\n",
       "      <th>UserName</th>\n",
       "      <th>ScreenName</th>\n",
       "      <th>TweetAt</th>\n",
       "      <th>OriginalTweet</th>\n",
       "      <th>Sentiment</th>\n",
       "      <th>Sentiment_Number</th>\n",
       "    </tr>\n",
       "  </thead>\n",
       "  <tbody>\n",
       "    <tr>\n",
       "      <th>0</th>\n",
       "      <td>3799</td>\n",
       "      <td>48751</td>\n",
       "      <td>16-03-2020</td>\n",
       "      <td>and and</td>\n",
       "      <td>Neutral</td>\n",
       "      <td>0</td>\n",
       "    </tr>\n",
       "    <tr>\n",
       "      <th>1</th>\n",
       "      <td>3800</td>\n",
       "      <td>48752</td>\n",
       "      <td>16-03-2020</td>\n",
       "      <td>advice talk to your neighbours family to excha...</td>\n",
       "      <td>Positive</td>\n",
       "      <td>1</td>\n",
       "    </tr>\n",
       "    <tr>\n",
       "      <th>2</th>\n",
       "      <td>3801</td>\n",
       "      <td>48753</td>\n",
       "      <td>16-03-2020</td>\n",
       "      <td>coronavirus australia woolworths to give elder...</td>\n",
       "      <td>Positive</td>\n",
       "      <td>1</td>\n",
       "    </tr>\n",
       "    <tr>\n",
       "      <th>3</th>\n",
       "      <td>3802</td>\n",
       "      <td>48754</td>\n",
       "      <td>16-03-2020</td>\n",
       "      <td>my food stock is not the only one which is emp...</td>\n",
       "      <td>Positive</td>\n",
       "      <td>1</td>\n",
       "    </tr>\n",
       "    <tr>\n",
       "      <th>4</th>\n",
       "      <td>3803</td>\n",
       "      <td>48755</td>\n",
       "      <td>16-03-2020</td>\n",
       "      <td>me ready to go at supermarket during the outbr...</td>\n",
       "      <td>Extremely Negative</td>\n",
       "      <td>-1</td>\n",
       "    </tr>\n",
       "  </tbody>\n",
       "</table>\n",
       "</div>"
      ],
      "text/plain": [
       "   UserName  ScreenName     TweetAt  \\\n",
       "0      3799       48751  16-03-2020   \n",
       "1      3800       48752  16-03-2020   \n",
       "2      3801       48753  16-03-2020   \n",
       "3      3802       48754  16-03-2020   \n",
       "4      3803       48755  16-03-2020   \n",
       "\n",
       "                                       OriginalTweet           Sentiment  \\\n",
       "0                                            and and             Neutral   \n",
       "1  advice talk to your neighbours family to excha...            Positive   \n",
       "2  coronavirus australia woolworths to give elder...            Positive   \n",
       "3  my food stock is not the only one which is emp...            Positive   \n",
       "4  me ready to go at supermarket during the outbr...  Extremely Negative   \n",
       "\n",
       "   Sentiment_Number  \n",
       "0                 0  \n",
       "1                 1  \n",
       "2                 1  \n",
       "3                 1  \n",
       "4                -1  "
      ]
     },
     "execution_count": 40,
     "metadata": {},
     "output_type": "execute_result"
    }
   ],
   "source": [
    "train_df3.head()"
   ]
  },
  {
   "cell_type": "code",
   "execution_count": 41,
   "metadata": {
    "colab": {
     "base_uri": "https://localhost:8080/"
    },
    "executionInfo": {
     "elapsed": 63,
     "status": "ok",
     "timestamp": 1647283179487,
     "user": {
      "displayName": "Colab VTT",
      "photoUrl": "https://lh3.googleusercontent.com/a/default-user=s64",
      "userId": "03382129772697074349"
     },
     "user_tz": 240
    },
    "id": "unlz-YHqr1AG",
    "outputId": "d90cf7a5-14b4-476c-e850-1dc17174c1aa"
   },
   "outputs": [
    {
     "data": {
      "text/plain": [
       "array(['Extremely Negative', 'Extremely Positive', 'Negative', 'Neutral',\n",
       "       'Positive'], dtype=object)"
      ]
     },
     "execution_count": 41,
     "metadata": {},
     "output_type": "execute_result"
    }
   ],
   "source": [
    "np.unique(train_df3[\"Sentiment\"].values)"
   ]
  },
  {
   "cell_type": "code",
   "execution_count": 42,
   "metadata": {
    "executionInfo": {
     "elapsed": 57,
     "status": "ok",
     "timestamp": 1647283179488,
     "user": {
      "displayName": "Colab VTT",
      "photoUrl": "https://lh3.googleusercontent.com/a/default-user=s64",
      "userId": "03382129772697074349"
     },
     "user_tz": 240
    },
    "id": "4lqq2nZGr1AH"
   },
   "outputs": [],
   "source": [
    "X_train = train_df3['OriginalTweet']  \n",
    "X_test = test_df3['OriginalTweet']  \n",
    "\n",
    "y_train = train_df3['Sentiment_Number']\n",
    "y_test = test_df3['Sentiment_Number']"
   ]
  },
  {
   "cell_type": "code",
   "execution_count": 43,
   "metadata": {
    "colab": {
     "base_uri": "https://localhost:8080/",
     "height": 35
    },
    "executionInfo": {
     "elapsed": 58,
     "status": "ok",
     "timestamp": 1647283179490,
     "user": {
      "displayName": "Colab VTT",
      "photoUrl": "https://lh3.googleusercontent.com/a/default-user=s64",
      "userId": "03382129772697074349"
     },
     "user_tz": 240
    },
    "id": "Y7MGr7HAr1AH",
    "outputId": "3b8592d2-75a5-4990-dc29-a9d7fbb94753"
   },
   "outputs": [
    {
     "data": {
      "text/plain": [
       "'and and'"
      ]
     },
     "execution_count": 43,
     "metadata": {},
     "output_type": "execute_result"
    }
   ],
   "source": [
    "X_train[0]"
   ]
  },
  {
   "cell_type": "code",
   "execution_count": 44,
   "metadata": {
    "colab": {
     "base_uri": "https://localhost:8080/"
    },
    "executionInfo": {
     "elapsed": 55,
     "status": "ok",
     "timestamp": 1647283179491,
     "user": {
      "displayName": "Colab VTT",
      "photoUrl": "https://lh3.googleusercontent.com/a/default-user=s64",
      "userId": "03382129772697074349"
     },
     "user_tz": 240
    },
    "id": "H4Qi08mAr1AH",
    "outputId": "ece82fad-52e3-4c85-df63-66a18145ad5c"
   },
   "outputs": [
    {
     "data": {
      "text/plain": [
       "UserName         0\n",
       "ScreenName       0\n",
       "TweetAt          0\n",
       "OriginalTweet    0\n",
       "Sentiment        0\n",
       "dtype: int64"
      ]
     },
     "execution_count": 44,
     "metadata": {},
     "output_type": "execute_result"
    }
   ],
   "source": [
    "df_train.isnull().sum()"
   ]
  },
  {
   "cell_type": "code",
   "execution_count": 45,
   "metadata": {
    "colab": {
     "base_uri": "https://localhost:8080/"
    },
    "executionInfo": {
     "elapsed": 50,
     "status": "ok",
     "timestamp": 1647283179492,
     "user": {
      "displayName": "Colab VTT",
      "photoUrl": "https://lh3.googleusercontent.com/a/default-user=s64",
      "userId": "03382129772697074349"
     },
     "user_tz": 240
    },
    "id": "irIsxxEEr1AH",
    "outputId": "b036f949-db49-4c06-8501-5f6d89a6bfd5"
   },
   "outputs": [
    {
     "data": {
      "text/plain": [
       "array(['16-03-2020', '16-03-2020', '16-03-2020', ..., '14-04-2020',\n",
       "       '14-04-2020', '14-04-2020'], dtype=object)"
      ]
     },
     "execution_count": 45,
     "metadata": {},
     "output_type": "execute_result"
    }
   ],
   "source": [
    "df_train['TweetAt'].values"
   ]
  },
  {
   "cell_type": "code",
   "execution_count": 46,
   "metadata": {
    "colab": {
     "base_uri": "https://localhost:8080/"
    },
    "executionInfo": {
     "elapsed": 46,
     "status": "ok",
     "timestamp": 1647283179493,
     "user": {
      "displayName": "Colab VTT",
      "photoUrl": "https://lh3.googleusercontent.com/a/default-user=s64",
      "userId": "03382129772697074349"
     },
     "user_tz": 240
    },
    "id": "5EjSrtnUr1AI",
    "outputId": "c23c3423-a0f3-49d8-ddb9-010d614d632e"
   },
   "outputs": [
    {
     "data": {
      "text/plain": [
       "(41157, 35525)"
      ]
     },
     "execution_count": 46,
     "metadata": {},
     "output_type": "execute_result"
    }
   ],
   "source": [
    "from sklearn.feature_extraction.text import TfidfVectorizer\n",
    "vectorizer = TfidfVectorizer()\n",
    "\n",
    "X_train_tfidf = vectorizer.fit_transform(X_train) # remember to use the original X_train set\n",
    "X_train_tfidf.shape"
   ]
  },
  {
   "cell_type": "code",
   "execution_count": 47,
   "metadata": {
    "colab": {
     "base_uri": "https://localhost:8080/"
    },
    "executionInfo": {
     "elapsed": 42,
     "status": "ok",
     "timestamp": 1647283179494,
     "user": {
      "displayName": "Colab VTT",
      "photoUrl": "https://lh3.googleusercontent.com/a/default-user=s64",
      "userId": "03382129772697074349"
     },
     "user_tz": 240
    },
    "id": "cmnj7NPUr1AI",
    "outputId": "d499caa8-c9d2-44dd-db2a-b78fc2085915"
   },
   "outputs": [
    {
     "data": {
      "text/plain": [
       "<1x35525 sparse matrix of type '<class 'numpy.float64'>'\n",
       "\twith 33 stored elements in Compressed Sparse Row format>"
      ]
     },
     "execution_count": 47,
     "metadata": {},
     "output_type": "execute_result"
    }
   ],
   "source": [
    "X_train_tfidf[1]\n"
   ]
  },
  {
   "cell_type": "code",
   "execution_count": 48,
   "metadata": {
    "id": "gw_ctOGer1AJ"
   },
   "outputs": [
    {
     "name": "stdout",
     "output_type": "stream",
     "text": [
      "Fitting 5 folds for each of 30 candidates, totalling 150 fits\n",
      "Best Score:  0.8767646996664226\n",
      "Best Params:  {'sgd_clf__alpha': 1e-05, 'sgd_clf__penalty': 'l1'}\n"
     ]
    }
   ],
   "source": [
    "from sklearn.pipeline import Pipeline\n",
    "from sklearn.svm import LinearSVC\n",
    "from sklearn.model_selection import GridSearchCV\n",
    "\n",
    "from sklearn.linear_model import SGDClassifier\n",
    "\n",
    "# from sklearn.feature_extraction.text import TfidfVectorizer\n",
    "# from sklearn.svm import LinearSVC\n",
    "\n",
    "grid_params = {\n",
    "  'sgd_clf__penalty': ['l2', 'l1', 'elasticnet'],\n",
    "  'sgd_clf__alpha': np.linspace(0.00001, 0.001, 10),\n",
    "}\n",
    "\n",
    "pipeline_clf = Pipeline([('tfidf', TfidfVectorizer()),\n",
    "                     ('sgd_clf', SGDClassifier()),\n",
    "])\n",
    "\n",
    "clf = GridSearchCV(pipeline_clf, grid_params, verbose=1, n_jobs=-1)\n",
    "clf.fit(X_train, y_train)\n",
    "\n",
    "print(\"Best Score: \", clf.best_score_)\n",
    "print(\"Best Params: \", clf.best_params_)\n",
    "\n",
    "# Feed the training data through the pipeline\n",
    "#text_clf.fit(X_train, y_train) "
   ]
  },
  {
   "cell_type": "code",
   "execution_count": 49,
   "metadata": {},
   "outputs": [
    {
     "name": "stdout",
     "output_type": "stream",
     "text": [
      "Fitting 5 folds for each of 30 candidates, totalling 150 fits\n",
      "Best Score:  0.791651326688233\n",
      "Best Params:  {'per_clf__alpha': 1e-05, 'per_clf__penalty': 'l1'}\n"
     ]
    }
   ],
   "source": [
    "from sklearn.linear_model import Perceptron\n",
    "\n",
    "grid_params = {\n",
    "  'per_clf__penalty': ['l2', 'l1', 'elasticnet'],\n",
    "  'per_clf__alpha': np.linspace(0.00001, 0.001, 10),\n",
    "}\n",
    "\n",
    "pipeline_clf = Pipeline([('tfidf', TfidfVectorizer()),\n",
    "                     ('per_clf', Perceptron()),\n",
    "])\n",
    "\n",
    "clf = GridSearchCV(pipeline_clf, grid_params, verbose=1, n_jobs=-1)\n",
    "clf.fit(X_train, y_train)\n",
    "\n",
    "print(\"Best Score: \", clf.best_score_)\n",
    "print(\"Best Params: \", clf.best_params_)"
   ]
  },
  {
   "cell_type": "code",
   "execution_count": 50,
   "metadata": {},
   "outputs": [
    {
     "name": "stdout",
     "output_type": "stream",
     "text": [
      "Fitting 5 folds for each of 6 candidates, totalling 30 fits\n"
     ]
    },
    {
     "name": "stderr",
     "output_type": "stream",
     "text": [
      "C:\\Users\\Honorine\\anaconda3\\lib\\site-packages\\sklearn\\model_selection\\_validation.py:372: FitFailedWarning: \n",
      "20 fits failed out of a total of 30.\n",
      "The score on these train-test partitions for these parameters will be set to nan.\n",
      "If these failures are not expected, you can try to debug them by setting error_score='raise'.\n",
      "\n",
      "Below are more details about the failures:\n",
      "--------------------------------------------------------------------------------\n",
      "5 fits failed with the following error:\n",
      "Traceback (most recent call last):\n",
      "  File \"C:\\Users\\Honorine\\anaconda3\\lib\\site-packages\\sklearn\\model_selection\\_validation.py\", line 680, in _fit_and_score\n",
      "    estimator.fit(X_train, y_train, **fit_params)\n",
      "  File \"C:\\Users\\Honorine\\anaconda3\\lib\\site-packages\\sklearn\\pipeline.py\", line 394, in fit\n",
      "    self._final_estimator.fit(Xt, y, **fit_params_last_step)\n",
      "  File \"C:\\Users\\Honorine\\anaconda3\\lib\\site-packages\\sklearn\\svm\\_classes.py\", line 257, in fit\n",
      "    self.coef_, self.intercept_, self.n_iter_ = _fit_liblinear(\n",
      "  File \"C:\\Users\\Honorine\\anaconda3\\lib\\site-packages\\sklearn\\svm\\_base.py\", line 1185, in _fit_liblinear\n",
      "    solver_type = _get_liblinear_solver_type(multi_class, penalty, loss, dual)\n",
      "  File \"C:\\Users\\Honorine\\anaconda3\\lib\\site-packages\\sklearn\\svm\\_base.py\", line 1024, in _get_liblinear_solver_type\n",
      "    raise ValueError(\n",
      "ValueError: Unsupported set of arguments: The combination of penalty='l1' and loss='hinge' is not supported, Parameters: penalty='l1', loss='hinge', dual=True\n",
      "\n",
      "--------------------------------------------------------------------------------\n",
      "5 fits failed with the following error:\n",
      "Traceback (most recent call last):\n",
      "  File \"C:\\Users\\Honorine\\anaconda3\\lib\\site-packages\\sklearn\\model_selection\\_validation.py\", line 680, in _fit_and_score\n",
      "    estimator.fit(X_train, y_train, **fit_params)\n",
      "  File \"C:\\Users\\Honorine\\anaconda3\\lib\\site-packages\\sklearn\\pipeline.py\", line 394, in fit\n",
      "    self._final_estimator.fit(Xt, y, **fit_params_last_step)\n",
      "  File \"C:\\Users\\Honorine\\anaconda3\\lib\\site-packages\\sklearn\\svm\\_classes.py\", line 257, in fit\n",
      "    self.coef_, self.intercept_, self.n_iter_ = _fit_liblinear(\n",
      "  File \"C:\\Users\\Honorine\\anaconda3\\lib\\site-packages\\sklearn\\svm\\_base.py\", line 1185, in _fit_liblinear\n",
      "    solver_type = _get_liblinear_solver_type(multi_class, penalty, loss, dual)\n",
      "  File \"C:\\Users\\Honorine\\anaconda3\\lib\\site-packages\\sklearn\\svm\\_base.py\", line 1024, in _get_liblinear_solver_type\n",
      "    raise ValueError(\n",
      "ValueError: Unsupported set of arguments: The combination of penalty='elasticnet' and loss='hinge' is not supported, Parameters: penalty='elasticnet', loss='hinge', dual=True\n",
      "\n",
      "--------------------------------------------------------------------------------\n",
      "5 fits failed with the following error:\n",
      "Traceback (most recent call last):\n",
      "  File \"C:\\Users\\Honorine\\anaconda3\\lib\\site-packages\\sklearn\\model_selection\\_validation.py\", line 680, in _fit_and_score\n",
      "    estimator.fit(X_train, y_train, **fit_params)\n",
      "  File \"C:\\Users\\Honorine\\anaconda3\\lib\\site-packages\\sklearn\\pipeline.py\", line 394, in fit\n",
      "    self._final_estimator.fit(Xt, y, **fit_params_last_step)\n",
      "  File \"C:\\Users\\Honorine\\anaconda3\\lib\\site-packages\\sklearn\\svm\\_classes.py\", line 257, in fit\n",
      "    self.coef_, self.intercept_, self.n_iter_ = _fit_liblinear(\n",
      "  File \"C:\\Users\\Honorine\\anaconda3\\lib\\site-packages\\sklearn\\svm\\_base.py\", line 1185, in _fit_liblinear\n",
      "    solver_type = _get_liblinear_solver_type(multi_class, penalty, loss, dual)\n",
      "  File \"C:\\Users\\Honorine\\anaconda3\\lib\\site-packages\\sklearn\\svm\\_base.py\", line 1024, in _get_liblinear_solver_type\n",
      "    raise ValueError(\n",
      "ValueError: Unsupported set of arguments: The combination of penalty='l1' and loss='squared_hinge' are not supported when dual=True, Parameters: penalty='l1', loss='squared_hinge', dual=True\n",
      "\n",
      "--------------------------------------------------------------------------------\n",
      "5 fits failed with the following error:\n",
      "Traceback (most recent call last):\n",
      "  File \"C:\\Users\\Honorine\\anaconda3\\lib\\site-packages\\sklearn\\model_selection\\_validation.py\", line 680, in _fit_and_score\n",
      "    estimator.fit(X_train, y_train, **fit_params)\n",
      "  File \"C:\\Users\\Honorine\\anaconda3\\lib\\site-packages\\sklearn\\pipeline.py\", line 394, in fit\n",
      "    self._final_estimator.fit(Xt, y, **fit_params_last_step)\n",
      "  File \"C:\\Users\\Honorine\\anaconda3\\lib\\site-packages\\sklearn\\svm\\_classes.py\", line 257, in fit\n",
      "    self.coef_, self.intercept_, self.n_iter_ = _fit_liblinear(\n",
      "  File \"C:\\Users\\Honorine\\anaconda3\\lib\\site-packages\\sklearn\\svm\\_base.py\", line 1185, in _fit_liblinear\n",
      "    solver_type = _get_liblinear_solver_type(multi_class, penalty, loss, dual)\n",
      "  File \"C:\\Users\\Honorine\\anaconda3\\lib\\site-packages\\sklearn\\svm\\_base.py\", line 1024, in _get_liblinear_solver_type\n",
      "    raise ValueError(\n",
      "ValueError: Unsupported set of arguments: The combination of penalty='elasticnet' and loss='squared_hinge' is not supported, Parameters: penalty='elasticnet', loss='squared_hinge', dual=True\n",
      "\n",
      "  warnings.warn(some_fits_failed_message, FitFailedWarning)\n",
      "C:\\Users\\Honorine\\anaconda3\\lib\\site-packages\\sklearn\\model_selection\\_search.py:969: UserWarning: One or more of the test scores are non-finite: [0.82693114        nan        nan 0.83091573        nan        nan]\n",
      "  warnings.warn(\n"
     ]
    },
    {
     "name": "stdout",
     "output_type": "stream",
     "text": [
      "Best Score:  0.8309157326606293\n",
      "Best Params:  {'svc_clf__loss': 'squared_hinge', 'svc_clf__penalty': 'l2'}\n"
     ]
    }
   ],
   "source": [
    "from sklearn.svm import LinearSVC\n",
    "\n",
    "grid_params = {\n",
    "  'svc_clf__penalty': ['l2', 'l1', 'elasticnet'],\n",
    "  'svc_clf__loss': ['hinge', 'squared_hinge'],\n",
    "}\n",
    "\n",
    "pipeline_clf = Pipeline([('tfidf', TfidfVectorizer()),\n",
    "                     ('svc_clf', LinearSVC()),\n",
    "])\n",
    "\n",
    "clf = GridSearchCV(pipeline_clf, grid_params, verbose=1, n_jobs=-1)\n",
    "clf.fit(X_train, y_train)\n",
    "\n",
    "print(\"Best Score: \", clf.best_score_)\n",
    "print(\"Best Params: \", clf.best_params_)"
   ]
  },
  {
   "cell_type": "code",
   "execution_count": null,
   "metadata": {
    "executionInfo": {
     "elapsed": 71,
     "status": "aborted",
     "timestamp": 1647283182241,
     "user": {
      "displayName": "Colab VTT",
      "photoUrl": "https://lh3.googleusercontent.com/a/default-user=s64",
      "userId": "03382129772697074349"
     },
     "user_tz": 240
    },
    "id": "OCNFejuGr1AJ"
   },
   "outputs": [],
   "source": [
    "predictions = text_clf.predict(X_test)"
   ]
  },
  {
   "cell_type": "code",
   "execution_count": null,
   "metadata": {
    "executionInfo": {
     "elapsed": 76,
     "status": "aborted",
     "timestamp": 1647283182246,
     "user": {
      "displayName": "Colab VTT",
      "photoUrl": "https://lh3.googleusercontent.com/a/default-user=s64",
      "userId": "03382129772697074349"
     },
     "user_tz": 240
    },
    "id": "KoU5xodUr1AJ"
   },
   "outputs": [],
   "source": [
    "from sklearn.metrics import accuracy_score, classification_report\n",
    "\n",
    "train_acc = round(accuracy_score(predictions, y_test)*100)\n",
    "train_acc"
   ]
  },
  {
   "cell_type": "code",
   "execution_count": null,
   "metadata": {
    "executionInfo": {
     "elapsed": 79,
     "status": "aborted",
     "timestamp": 1647283182249,
     "user": {
      "displayName": "Colab VTT",
      "photoUrl": "https://lh3.googleusercontent.com/a/default-user=s64",
      "userId": "03382129772697074349"
     },
     "user_tz": 240
    },
    "id": "u2y8-nm9r1AK"
   },
   "outputs": [],
   "source": [
    "len(y_test)"
   ]
  },
  {
   "cell_type": "code",
   "execution_count": null,
   "metadata": {
    "executionInfo": {
     "elapsed": 78,
     "status": "aborted",
     "timestamp": 1647283182250,
     "user": {
      "displayName": "Colab VTT",
      "photoUrl": "https://lh3.googleusercontent.com/a/default-user=s64",
      "userId": "03382129772697074349"
     },
     "user_tz": 240
    },
    "id": "zEw-RwMjr1AK"
   },
   "outputs": [],
   "source": [
    "print(classification_report(predictions, y_test, target_names=train_df3['Sentiment'].unique()))"
   ]
  },
  {
   "cell_type": "code",
   "execution_count": null,
   "metadata": {
    "colab": {
     "base_uri": "https://localhost:8080/",
     "height": 53
    },
    "executionInfo": {
     "elapsed": 75,
     "status": "ok",
     "timestamp": 1647283182255,
     "user": {
      "displayName": "Colab VTT",
      "photoUrl": "https://lh3.googleusercontent.com/a/default-user=s64",
      "userId": "03382129772697074349"
     },
     "user_tz": 240
    },
    "id": "xIRvNcGpr1AK",
    "outputId": "8c29f337-f045-4092-8eb0-13cf828dac8c"
   },
   "outputs": [],
   "source": [
    "X_test[0]"
   ]
  },
  {
   "cell_type": "code",
   "execution_count": null,
   "metadata": {
    "colab": {
     "base_uri": "https://localhost:8080/",
     "height": 240
    },
    "executionInfo": {
     "elapsed": 77,
     "status": "error",
     "timestamp": 1647283182261,
     "user": {
      "displayName": "Colab VTT",
      "photoUrl": "https://lh3.googleusercontent.com/a/default-user=s64",
      "userId": "03382129772697074349"
     },
     "user_tz": 240
    },
    "id": "0eIOaVsor1AL",
    "outputId": "802f3450-1f2a-4a81-c98e-c3b8330c0261"
   },
   "outputs": [],
   "source": [
    "# ACCURACY\n",
    "c=0\n",
    "num=len(predictions)\n",
    "for k in range(num):\n",
    "    if(predictions[k]==y_test[k]):\n",
    "        c+=1\n",
    "\n",
    "print(f\"pourcentage de reussite : {(c*100)/num} \")\n",
    "\n",
    "\n"
   ]
  },
  {
   "cell_type": "code",
   "execution_count": null,
   "metadata": {
    "executionInfo": {
     "elapsed": 70,
     "status": "aborted",
     "timestamp": 1647283182257,
     "user": {
      "displayName": "Colab VTT",
      "photoUrl": "https://lh3.googleusercontent.com/a/default-user=s64",
      "userId": "03382129772697074349"
     },
     "user_tz": 240
    },
    "id": "lFgWvNLCr1AL"
   },
   "outputs": [],
   "source": [
    "# L2 ERROR\n",
    "\n",
    "num=len(predictions)\n",
    "err_tot = 0\n",
    "for k in range(num):\n",
    "    #print(predictions[k])\n",
    "    if(k<20):\n",
    "        print(f\"prediction {predictions[k]}  , realité : {y_test[k]}\")\n",
    "    err_tot += np.square(predictions[k]-y_test[k])\n",
    "err_tot/=num\n",
    "err_tot = np.sqrt(err_tot) \n",
    "err_tot"
   ]
  },
  {
   "cell_type": "code",
   "execution_count": null,
   "metadata": {
    "executionInfo": {
     "elapsed": 31,
     "status": "ok",
     "timestamp": 1647283183130,
     "user": {
      "displayName": "Colab VTT",
      "photoUrl": "https://lh3.googleusercontent.com/a/default-user=s64",
      "userId": "03382129772697074349"
     },
     "user_tz": 240
    },
    "id": "86JLNLKor1AL"
   },
   "outputs": [],
   "source": []
  }
 ],
 "metadata": {
  "colab": {
   "collapsed_sections": [],
   "name": "testOuverturecsv.ipynb",
   "provenance": []
  },
  "interpreter": {
   "hash": "822dd2d5dd360abba25557036e653898358cd5c8dbb7b3b755070434497e6489"
  },
  "kernelspec": {
   "display_name": "Python 3",
   "language": "python",
   "name": "python3"
  },
  "language_info": {
   "codemirror_mode": {
    "name": "ipython",
    "version": 3
   },
   "file_extension": ".py",
   "mimetype": "text/x-python",
   "name": "python",
   "nbconvert_exporter": "python",
   "pygments_lexer": "ipython3",
   "version": "3.8.5"
  }
 },
 "nbformat": 4,
 "nbformat_minor": 1
}
